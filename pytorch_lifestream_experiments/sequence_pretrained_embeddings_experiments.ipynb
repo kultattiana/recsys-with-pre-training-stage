{
  "cells": [
    {
      "cell_type": "markdown",
      "source": [
        "Загрузка предобученных эмбеддингов (тренирововчных и тестовых)"
      ],
      "metadata": {
        "id": "EOkNFTgUioHu"
      }
    },
    {
      "cell_type": "code",
      "execution_count": null,
      "metadata": {
        "execution": {
          "iopub.execute_input": "2024-05-14T09:22:20.279552Z",
          "iopub.status.busy": "2024-05-14T09:22:20.278680Z",
          "iopub.status.idle": "2024-05-14T09:22:20.659820Z",
          "shell.execute_reply": "2024-05-14T09:22:20.659124Z",
          "shell.execute_reply.started": "2024-05-14T09:22:20.279486Z"
        },
        "id": "aktVQ6vk1CB8",
        "tags": []
      },
      "outputs": [],
      "source": [
        "import pandas as pd\n",
        "\n",
        "embeddings = pd.read_pickle('train_mles_embeddings.pickle')\n",
        "test_embeddings = pd.read_pickle('test_mles_embeddings.pickle')"
      ]
    },
    {
      "cell_type": "code",
      "execution_count": null,
      "metadata": {
        "execution": {
          "iopub.execute_input": "2024-05-14T09:22:53.022335Z",
          "iopub.status.busy": "2024-05-14T09:22:53.021854Z",
          "iopub.status.idle": "2024-05-14T09:22:53.050734Z",
          "shell.execute_reply": "2024-05-14T09:22:53.050099Z",
          "shell.execute_reply.started": "2024-05-14T09:22:53.022298Z"
        },
        "id": "ieXBye1z6IkI",
        "tags": []
      },
      "outputs": [],
      "source": [
        "gowalla_all_ids = pd.read_pickle('gowalla_all_ids.pkl')"
      ]
    },
    {
      "cell_type": "code",
      "execution_count": null,
      "metadata": {
        "execution": {
          "iopub.execute_input": "2024-05-14T09:22:53.962072Z",
          "iopub.status.busy": "2024-05-14T09:22:53.961238Z",
          "iopub.status.idle": "2024-05-14T09:22:59.500162Z",
          "shell.execute_reply": "2024-05-14T09:22:59.499541Z",
          "shell.execute_reply.started": "2024-05-14T09:22:53.962035Z"
        },
        "id": "m6qJgetUqUqV",
        "tags": []
      },
      "outputs": [],
      "source": [
        "import torch\n",
        "import numpy as np"
      ]
    },
    {
      "cell_type": "code",
      "execution_count": null,
      "metadata": {
        "execution": {
          "iopub.execute_input": "2024-05-14T09:22:59.501803Z",
          "iopub.status.busy": "2024-05-14T09:22:59.501242Z",
          "iopub.status.idle": "2024-05-14T09:22:59.522708Z",
          "shell.execute_reply": "2024-05-14T09:22:59.522021Z",
          "shell.execute_reply.started": "2024-05-14T09:22:59.501772Z"
        },
        "id": "a0qlNDb1qhOk",
        "tags": []
      },
      "outputs": [],
      "source": [
        "from torch import nn\n",
        "num_classes = 186"
      ]
    },
    {
      "cell_type": "markdown",
      "source": [
        "Модель, обучающаяся на целевую задачу на предобученных эмбеддингах"
      ],
      "metadata": {
        "id": "iNrhgVs_izuS"
      }
    },
    {
      "cell_type": "code",
      "execution_count": null,
      "metadata": {
        "execution": {
          "iopub.status.busy": "2024-05-14T09:59:46.163592Z",
          "iopub.status.idle": "2024-05-14T09:59:46.164180Z",
          "shell.execute_reply": "2024-05-14T09:59:46.164012Z"
        },
        "id": "HNQTwj-yqAfK",
        "tags": []
      },
      "outputs": [],
      "source": [
        "class DownstreamModel(nn.Module):\n",
        "  def __init__(self):\n",
        "    super(DownstreamModel, self).__init__()\n",
        "    self.fc1 = nn.Linear(128, 186)\n",
        "    self.fc2 = nn.Linear(186, 186)\n",
        "    self.fc3 = nn.Linear(500, 3883)\n",
        "    self.fc4 = nn.Linear(186, 186)\n",
        "    self.dropout = nn.Dropout(p=0.3)\n",
        "    self.relu = nn.ReLU()\n",
        "\n",
        "  def forward(self, x):\n",
        "    x = self.fc1(x)\n",
        "    x = self.fc2(x)\n",
        "    return x"
      ]
    },
    {
      "cell_type": "code",
      "execution_count": null,
      "metadata": {
        "execution": {
          "iopub.execute_input": "2024-05-14T09:22:59.542103Z",
          "iopub.status.busy": "2024-05-14T09:22:59.541195Z",
          "iopub.status.idle": "2024-05-14T09:22:59.580851Z",
          "shell.execute_reply": "2024-05-14T09:22:59.580244Z",
          "shell.execute_reply.started": "2024-05-14T09:22:59.542049Z"
        },
        "id": "m1Jy12ogNL3I",
        "tags": []
      },
      "outputs": [],
      "source": [
        "user_target = pd.read_csv('user_activity_target.csv')"
      ]
    },
    {
      "cell_type": "code",
      "execution_count": null,
      "metadata": {
        "execution": {
          "iopub.execute_input": "2024-05-14T09:22:59.582357Z",
          "iopub.status.busy": "2024-05-14T09:22:59.581702Z",
          "iopub.status.idle": "2024-05-14T09:23:01.775758Z",
          "shell.execute_reply": "2024-05-14T09:23:01.774997Z",
          "shell.execute_reply.started": "2024-05-14T09:22:59.582325Z"
        },
        "tags": [],
        "id": "GFFtUPRGiSM-"
      },
      "outputs": [],
      "source": [
        "user_activity = pd.read_csv('gowalla_user_activity.csv')"
      ]
    },
    {
      "cell_type": "code",
      "execution_count": null,
      "metadata": {
        "execution": {
          "iopub.status.busy": "2024-03-11T18:34:03.796571Z",
          "iopub.status.idle": "2024-03-11T18:34:03.797023Z",
          "shell.execute_reply": "2024-03-11T18:34:03.796847Z"
        },
        "id": "0BU8ars1PVPc",
        "tags": []
      },
      "outputs": [],
      "source": [
        "true_pred  = [gowalla_all_ids[1][x] for x in target]"
      ]
    },
    {
      "cell_type": "markdown",
      "source": [
        "Метрики"
      ],
      "metadata": {
        "id": "lTRHn09Yi4th"
      }
    },
    {
      "cell_type": "code",
      "execution_count": null,
      "metadata": {
        "execution": {
          "iopub.execute_input": "2024-05-14T09:23:03.648131Z",
          "iopub.status.busy": "2024-05-14T09:23:03.647432Z",
          "iopub.status.idle": "2024-05-14T09:23:03.660560Z",
          "shell.execute_reply": "2024-05-14T09:23:03.659839Z",
          "shell.execute_reply.started": "2024-05-14T09:23:03.648101Z"
        },
        "id": "H0xx-jBrFUjz",
        "tags": []
      },
      "outputs": [],
      "source": [
        "def apk(actual, predicted, k=10):\n",
        "\n",
        "    if len(predicted) > k:\n",
        "        predicted = predicted[:k]\n",
        "\n",
        "    score = 0.0\n",
        "    num_hits = 0.0\n",
        "\n",
        "    for i, p in enumerate(predicted):\n",
        "        if p in actual and p not in predicted[:i]:\n",
        "            num_hits += 1.0\n",
        "            score += num_hits / (i + 1.0)\n",
        "\n",
        "    if not actual:\n",
        "        return 0.0\n",
        "\n",
        "    return score / min(len(actual), k)\n",
        "\n",
        "\n",
        "def mapk(y_prob, y, k=10):\n",
        "    predicted = [np.argsort(p_)[-k:][::-1] for p_ in y_prob]\n",
        "    actual = [[y_] for y_ in y]\n",
        "    return np.mean([apk(a, p, k) for a, p in zip(actual, predicted)])\n",
        "\n",
        "\n",
        "\n",
        "def hits_k(y_prob, y, k=10):\n",
        "    acc = []\n",
        "    for p_, y_ in zip(y_prob, y):\n",
        "        top_k = p_.argsort()[-k:][::-1]\n",
        "        acc += [1. if y_ in top_k else 0.]\n",
        "    return sum(acc) / len(acc)"
      ]
    },
    {
      "cell_type": "code",
      "execution_count": null,
      "metadata": {
        "execution": {
          "iopub.execute_input": "2024-05-14T09:23:05.151343Z",
          "iopub.status.busy": "2024-05-14T09:23:05.150657Z",
          "iopub.status.idle": "2024-05-14T09:23:05.161009Z",
          "shell.execute_reply": "2024-05-14T09:23:05.160400Z",
          "shell.execute_reply.started": "2024-05-14T09:23:05.151310Z"
        },
        "tags": [],
        "id": "ki1R3g73iSM_"
      },
      "outputs": [],
      "source": [
        "from torch.utils.data import Dataset, DataLoader"
      ]
    },
    {
      "cell_type": "markdown",
      "source": [
        "Загрузка эмбеддингов в датасет"
      ],
      "metadata": {
        "id": "c4T83-ZRi7Ok"
      }
    },
    {
      "cell_type": "code",
      "execution_count": null,
      "metadata": {
        "execution": {
          "iopub.execute_input": "2024-05-14T10:18:30.413230Z",
          "iopub.status.busy": "2024-05-14T10:18:30.412538Z",
          "iopub.status.idle": "2024-05-14T10:18:30.445952Z",
          "shell.execute_reply": "2024-05-14T10:18:30.445188Z",
          "shell.execute_reply.started": "2024-05-14T10:18:30.413193Z"
        },
        "id": "y8oLfzMecEcm",
        "tags": []
      },
      "outputs": [],
      "source": [
        "class UserDataset():\n",
        "\n",
        "    def __init__(self):\n",
        "        embeddings = pd.read_pickle(r'train_gpt_embeddings.pickle')\n",
        "        embeddings_tensor = torch.tensor(embeddings.values, requires_grad = False)\n",
        "        self.x = embeddings_tensor\n",
        "\n",
        "        user_target = pd.read_csv('user_activity_target.csv')\n",
        "        target = list(user_target['target_train'])\n",
        "        true_pred  = [gowalla_all_ids[1][x] for x in target]\n",
        "        self.y = true_pred\n",
        "\n",
        "\n",
        "    def __getitem__(self, index):\n",
        "        return self.x[index], self.y[index]\n",
        "\n",
        "    def __len__(self):\n",
        "        return len(self.x)"
      ]
    },
    {
      "cell_type": "code",
      "execution_count": null,
      "metadata": {
        "execution": {
          "iopub.execute_input": "2024-05-14T10:18:30.891027Z",
          "iopub.status.busy": "2024-05-14T10:18:30.890259Z",
          "iopub.status.idle": "2024-05-14T10:18:30.913905Z",
          "shell.execute_reply": "2024-05-14T10:18:30.913285Z",
          "shell.execute_reply.started": "2024-05-14T10:18:30.890980Z"
        },
        "tags": [],
        "id": "W_LNP7dUiSM_"
      },
      "outputs": [],
      "source": [
        "class RandomDataset():\n",
        "    def __init__(self):\n",
        "        embeddings_tensor = torch.Tensor(size=[20001, 128])\n",
        "        self.x = embeddings_tensor.random_(-1, 1)\n",
        "        user_target = pd.read_csv('user_activity_target.csv')\n",
        "        target = list(user_target['target_train'])\n",
        "        true_pred  = [gowalla_all_ids[1][x] for x in target]\n",
        "        self.y = true_pred\n",
        "\n",
        "\n",
        "    def __getitem__(self, index):\n",
        "        return self.x[index], self.y[index]\n",
        "\n",
        "    def __len__(self):\n",
        "        return len(self.x)\n",
        ""
      ]
    },
    {
      "cell_type": "code",
      "execution_count": null,
      "metadata": {
        "execution": {
          "iopub.execute_input": "2024-05-14T10:18:31.277561Z",
          "iopub.status.busy": "2024-05-14T10:18:31.277096Z",
          "iopub.status.idle": "2024-05-14T10:18:31.304618Z",
          "shell.execute_reply": "2024-05-14T10:18:31.303956Z",
          "shell.execute_reply.started": "2024-05-14T10:18:31.277530Z"
        },
        "tags": [],
        "id": "nlQDH3PGiSM_"
      },
      "outputs": [],
      "source": [
        "class UserTestDataset():\n",
        "    def __init__(self):\n",
        "        embeddings = pd.read_pickle(r'test_gpt_embeddings.pickle')\n",
        "        embeddings_tensor = torch.tensor(embeddings.values,requires_grad = False)\n",
        "        self.x = embeddings_tensor\n",
        "\n",
        "        user_target = pd.read_csv('user_activity_target.csv')\n",
        "        target = list(user_target['target_test'])\n",
        "        true_pred  = [gowalla_all_ids[1][x] for x in target]\n",
        "        self.y = true_pred\n",
        "\n",
        "\n",
        "    def __getitem__(self, index):\n",
        "        return self.x[index], self.y[index]\n",
        "\n",
        "    def __len__(self):\n",
        "        return len(self.x)"
      ]
    },
    {
      "cell_type": "code",
      "execution_count": null,
      "metadata": {
        "colab": {
          "base_uri": "https://localhost:8080/"
        },
        "execution": {
          "iopub.execute_input": "2024-05-14T10:18:31.689473Z",
          "iopub.status.busy": "2024-05-14T10:18:31.688778Z",
          "iopub.status.idle": "2024-05-14T10:18:31.714399Z",
          "shell.execute_reply": "2024-05-14T10:18:31.713753Z",
          "shell.execute_reply.started": "2024-05-14T10:18:31.689433Z"
        },
        "id": "1jGn1hv8heng",
        "outputId": "7789298e-ac28-470a-93f8-d7446202b1de",
        "tags": []
      },
      "outputs": [
        {
          "name": "stdout",
          "output_type": "stream",
          "text": [
            "20001\n"
          ]
        }
      ],
      "source": [
        "train_dataset = UserDataset()\n",
        "print(train_dataset.__len__())"
      ]
    },
    {
      "cell_type": "code",
      "execution_count": null,
      "metadata": {
        "execution": {
          "iopub.execute_input": "2024-05-14T10:18:32.078784Z",
          "iopub.status.busy": "2024-05-14T10:18:32.078127Z",
          "iopub.status.idle": "2024-05-14T10:18:32.098950Z",
          "shell.execute_reply": "2024-05-14T10:18:32.098377Z",
          "shell.execute_reply.started": "2024-05-14T10:18:32.078750Z"
        },
        "tags": [],
        "id": "RDXhjuZPiSNA",
        "outputId": "9a586698-4285-4b8b-9086-ffa59eddccc4"
      },
      "outputs": [
        {
          "name": "stdout",
          "output_type": "stream",
          "text": [
            "20001\n"
          ]
        }
      ],
      "source": [
        "test_dataset = UserTestDataset()\n",
        "print(test_dataset.__len__())"
      ]
    },
    {
      "cell_type": "code",
      "execution_count": null,
      "metadata": {
        "execution": {
          "iopub.execute_input": "2024-05-14T10:18:32.462598Z",
          "iopub.status.busy": "2024-05-14T10:18:32.461936Z",
          "iopub.status.idle": "2024-05-14T10:18:32.471502Z",
          "shell.execute_reply": "2024-05-14T10:18:32.470900Z",
          "shell.execute_reply.started": "2024-05-14T10:18:32.462558Z"
        },
        "id": "WOQm8ql4hPth",
        "tags": []
      },
      "outputs": [],
      "source": [
        "train_dataloader = DataLoader(train_dataset, batch_size=64, shuffle=False)"
      ]
    },
    {
      "cell_type": "code",
      "execution_count": null,
      "metadata": {
        "execution": {
          "iopub.execute_input": "2024-05-14T10:18:32.875560Z",
          "iopub.status.busy": "2024-05-14T10:18:32.874781Z",
          "iopub.status.idle": "2024-05-14T10:18:32.883309Z",
          "shell.execute_reply": "2024-05-14T10:18:32.882742Z",
          "shell.execute_reply.started": "2024-05-14T10:18:32.875516Z"
        },
        "tags": [],
        "id": "CAjUeCkyiSNB"
      },
      "outputs": [],
      "source": [
        "test_dataloader = DataLoader(test_dataset, batch_size = 64, shuffle = False)"
      ]
    },
    {
      "cell_type": "code",
      "execution_count": null,
      "metadata": {
        "execution": {
          "iopub.execute_input": "2024-05-14T10:18:33.267010Z",
          "iopub.status.busy": "2024-05-14T10:18:33.266203Z",
          "iopub.status.idle": "2024-05-14T10:18:33.285243Z",
          "shell.execute_reply": "2024-05-14T10:18:33.284683Z",
          "shell.execute_reply.started": "2024-05-14T10:18:33.266969Z"
        },
        "id": "NyA5Q2L-kqYW",
        "tags": []
      },
      "outputs": [],
      "source": [
        "from sklearn.metrics import top_k_accuracy_score\n",
        "from sklearn.metrics import ndcg_score"
      ]
    },
    {
      "cell_type": "code",
      "execution_count": null,
      "metadata": {
        "execution": {
          "iopub.execute_input": "2024-05-14T10:18:33.668944Z",
          "iopub.status.busy": "2024-05-14T10:18:33.668317Z",
          "iopub.status.idle": "2024-05-14T10:18:33.677330Z",
          "shell.execute_reply": "2024-05-14T10:18:33.676777Z",
          "shell.execute_reply.started": "2024-05-14T10:18:33.668910Z"
        },
        "id": "NMSyZaproOGp",
        "tags": []
      },
      "outputs": [],
      "source": [
        "labels = np.array(gowalla_all_ids[1].values())"
      ]
    },
    {
      "cell_type": "code",
      "execution_count": null,
      "metadata": {
        "execution": {
          "iopub.execute_input": "2024-05-14T10:18:34.804665Z",
          "iopub.status.busy": "2024-05-14T10:18:34.804089Z",
          "iopub.status.idle": "2024-05-14T10:18:34.813169Z",
          "shell.execute_reply": "2024-05-14T10:18:34.812595Z",
          "shell.execute_reply.started": "2024-05-14T10:18:34.804632Z"
        },
        "id": "JBsG0bHypHCF",
        "tags": []
      },
      "outputs": [],
      "source": [
        "labels = np.arange(0, num_classes)"
      ]
    },
    {
      "cell_type": "code",
      "execution_count": null,
      "metadata": {
        "execution": {
          "iopub.execute_input": "2024-05-14T10:18:35.357464Z",
          "iopub.status.busy": "2024-05-14T10:18:35.356666Z",
          "iopub.status.idle": "2024-05-14T10:18:35.369280Z",
          "shell.execute_reply": "2024-05-14T10:18:35.368654Z",
          "shell.execute_reply.started": "2024-05-14T10:18:35.357417Z"
        },
        "tags": [],
        "id": "ZdJaGUIqiSNB"
      },
      "outputs": [],
      "source": [
        "def get_metrics_(probs, labels_batch, test_one_hot):\n",
        "    hits1 = top_k_accuracy_score(labels_batch, probs.cpu().detach().numpy(), k=1, labels = labels)\n",
        "    hits5 = top_k_accuracy_score(labels_batch, probs.cpu().detach().numpy(), k=5, labels = labels)\n",
        "    hits10 = top_k_accuracy_score(labels_batch, probs.cpu().detach().numpy(), k=10, labels = labels)\n",
        "    hits20 = top_k_accuracy_score(labels_batch, probs.cpu().detach().numpy(), k=20, labels = labels)\n",
        "    hits50= top_k_accuracy_score(labels_batch, probs.cpu().detach().numpy(), k=50, labels = labels)\n",
        "    hits100 = top_k_accuracy_score(labels_batch, probs.cpu().detach().numpy(), k=100, labels = labels)\n",
        "\n",
        "    map1 = mapk(y_prob=probs.cpu().detach().numpy(), y = labels_batch, k=1)\n",
        "    map5 = mapk(y_prob=probs.cpu().detach().numpy(), y = labels_batch, k=5)\n",
        "    map10 = mapk(y_prob=probs.cpu().detach().numpy(), y = labels_batch, k=10)\n",
        "    map20 = mapk(y_prob=probs.cpu().detach().numpy(), y = labels_batch, k=20)\n",
        "    map50 = mapk(y_prob=probs.cpu().detach().numpy(), y = labels_batch, k=50)\n",
        "    map100 = mapk(y_prob=probs.cpu().detach().numpy(), y = labels_batch, k=100)\n",
        "\n",
        "    ndcg1 = ndcg_score(test_one_hot, probs.cpu().detach().numpy(), k=1)\n",
        "    ndcg5 = ndcg_score(test_one_hot, probs.cpu().detach().numpy(), k=5)\n",
        "    ndcg10 = ndcg_score(test_one_hot, probs.cpu().detach().numpy(), k=10)\n",
        "    ndcg20 = ndcg_score(test_one_hot, probs.cpu().detach().numpy(), k=20)\n",
        "    ndcg50 = ndcg_score(test_one_hot, probs.cpu().detach().numpy(), k=50)\n",
        "    ndcg100 = ndcg_score(test_one_hot, probs.cpu().detach().numpy(), k=100)\n",
        "    return hits1, hits5, hits10, hits20, hits50, hits100, map1, map5, map10, map20, map50, map100, ndcg1, ndcg5, ndcg10, ndcg20, ndcg50, ndcg100"
      ]
    },
    {
      "cell_type": "code",
      "execution_count": null,
      "metadata": {
        "execution": {
          "iopub.execute_input": "2024-05-14T09:44:53.411067Z",
          "iopub.status.busy": "2024-05-14T09:44:53.410275Z",
          "iopub.status.idle": "2024-05-14T09:44:53.446872Z",
          "shell.execute_reply": "2024-05-14T09:44:53.446136Z",
          "shell.execute_reply.started": "2024-05-14T09:44:53.411028Z"
        },
        "id": "7UdO74LtiSNB",
        "outputId": "701ea75e-6d14-48c4-ea28-470e2e2b78c3"
      },
      "outputs": [
        {
          "data": {
            "text/html": [
              "<div>\n",
              "<style scoped>\n",
              "    .dataframe tbody tr th:only-of-type {\n",
              "        vertical-align: middle;\n",
              "    }\n",
              "\n",
              "    .dataframe tbody tr th {\n",
              "        vertical-align: top;\n",
              "    }\n",
              "\n",
              "    .dataframe thead th {\n",
              "        text-align: right;\n",
              "    }\n",
              "</style>\n",
              "<table border=\"1\" class=\"dataframe\">\n",
              "  <thead>\n",
              "    <tr style=\"text-align: right;\">\n",
              "      <th></th>\n",
              "      <th>Unnamed: 0</th>\n",
              "      <th>index</th>\n",
              "      <th>user</th>\n",
              "      <th>target_test</th>\n",
              "      <th>target_train</th>\n",
              "    </tr>\n",
              "  </thead>\n",
              "  <tbody>\n",
              "    <tr>\n",
              "      <th>0</th>\n",
              "      <td>0</td>\n",
              "      <td>0</td>\n",
              "      <td>0</td>\n",
              "      <td>16</td>\n",
              "      <td>80</td>\n",
              "    </tr>\n",
              "    <tr>\n",
              "      <th>1</th>\n",
              "      <td>1</td>\n",
              "      <td>1</td>\n",
              "      <td>1</td>\n",
              "      <td>35</td>\n",
              "      <td>185</td>\n",
              "    </tr>\n",
              "    <tr>\n",
              "      <th>2</th>\n",
              "      <td>2</td>\n",
              "      <td>2</td>\n",
              "      <td>2</td>\n",
              "      <td>99</td>\n",
              "      <td>99</td>\n",
              "    </tr>\n",
              "    <tr>\n",
              "      <th>3</th>\n",
              "      <td>3</td>\n",
              "      <td>3</td>\n",
              "      <td>3</td>\n",
              "      <td>127</td>\n",
              "      <td>127</td>\n",
              "    </tr>\n",
              "    <tr>\n",
              "      <th>4</th>\n",
              "      <td>4</td>\n",
              "      <td>4</td>\n",
              "      <td>4</td>\n",
              "      <td>169</td>\n",
              "      <td>169</td>\n",
              "    </tr>\n",
              "    <tr>\n",
              "      <th>...</th>\n",
              "      <td>...</td>\n",
              "      <td>...</td>\n",
              "      <td>...</td>\n",
              "      <td>...</td>\n",
              "      <td>...</td>\n",
              "    </tr>\n",
              "    <tr>\n",
              "      <th>19996</th>\n",
              "      <td>19996</td>\n",
              "      <td>19996</td>\n",
              "      <td>19996</td>\n",
              "      <td>184</td>\n",
              "      <td>184</td>\n",
              "    </tr>\n",
              "    <tr>\n",
              "      <th>19997</th>\n",
              "      <td>19997</td>\n",
              "      <td>19997</td>\n",
              "      <td>19997</td>\n",
              "      <td>82</td>\n",
              "      <td>19</td>\n",
              "    </tr>\n",
              "    <tr>\n",
              "      <th>19998</th>\n",
              "      <td>19998</td>\n",
              "      <td>19998</td>\n",
              "      <td>19998</td>\n",
              "      <td>182</td>\n",
              "      <td>182</td>\n",
              "    </tr>\n",
              "    <tr>\n",
              "      <th>19999</th>\n",
              "      <td>19999</td>\n",
              "      <td>19999</td>\n",
              "      <td>19999</td>\n",
              "      <td>107</td>\n",
              "      <td>107</td>\n",
              "    </tr>\n",
              "    <tr>\n",
              "      <th>20000</th>\n",
              "      <td>20000</td>\n",
              "      <td>20000</td>\n",
              "      <td>20000</td>\n",
              "      <td>84</td>\n",
              "      <td>84</td>\n",
              "    </tr>\n",
              "  </tbody>\n",
              "</table>\n",
              "<p>20001 rows × 5 columns</p>\n",
              "</div>"
            ],
            "text/plain": [
              "       Unnamed: 0  index   user  target_test  target_train\n",
              "0               0      0      0           16            80\n",
              "1               1      1      1           35           185\n",
              "2               2      2      2           99            99\n",
              "3               3      3      3          127           127\n",
              "4               4      4      4          169           169\n",
              "...           ...    ...    ...          ...           ...\n",
              "19996       19996  19996  19996          184           184\n",
              "19997       19997  19997  19997           82            19\n",
              "19998       19998  19998  19998          182           182\n",
              "19999       19999  19999  19999          107           107\n",
              "20000       20000  20000  20000           84            84\n",
              "\n",
              "[20001 rows x 5 columns]"
            ]
          },
          "execution_count": 43,
          "metadata": {},
          "output_type": "execute_result"
        }
      ],
      "source": [
        "user_target = pd.read_csv('user_activity_target.csv')\n",
        "user_target"
      ]
    },
    {
      "cell_type": "markdown",
      "source": [
        "Обучение и тестирование"
      ],
      "metadata": {
        "id": "DKFHss6kjatE"
      }
    },
    {
      "cell_type": "code",
      "execution_count": null,
      "metadata": {
        "execution": {
          "iopub.execute_input": "2024-05-14T10:03:04.651378Z",
          "iopub.status.busy": "2024-05-14T10:03:04.650672Z",
          "iopub.status.idle": "2024-05-14T10:03:04.660959Z",
          "shell.execute_reply": "2024-05-14T10:03:04.660402Z",
          "shell.execute_reply.started": "2024-05-14T10:03:04.651341Z"
        },
        "tags": [],
        "id": "kkueEwLUiSNB"
      },
      "outputs": [],
      "source": [
        "def test(model, test_dataloader, loss_fn):\n",
        "    metrics_val = []\n",
        "    model.eval()\n",
        "\n",
        "    for test_emb_batch, test_labels_batch in test_dataloader:\n",
        "\n",
        "        test_probs = model(test_emb_batch)\n",
        "\n",
        "        test_pred = torch.randint(0, num_classes, (len(test_emb_batch),))\n",
        "        test_one_hot = torch.zeros(len(test_emb_batch), num_classes)\n",
        "        test_one_hot[torch.arange(len(test_one_hot)), test_labels_batch] = 1\n",
        "        loss = loss_fn(test_probs, test_one_hot)\n",
        "\n",
        "        hits1, hits5, hits10, hits20, hits50, hits100, map1, map5, map10, map20, map50, map100, ndcg1, ndcg5, ndcg10, ndcg20, ndcg50, ndcg100 \\\n",
        "        = get_metrics_(test_probs, test_labels_batch, test_one_hot)\n",
        "        metrics_val.append([hits1, hits5, hits10, hits20, hits50, hits100, map1, map5, map10, map20, map50, map100, ndcg1, ndcg5, ndcg10, ndcg20, ndcg50, ndcg100])\n",
        "\n",
        "\n",
        "    mean = torch.Tensor(metrics_val).mean(axis=0)\n",
        "    test_hits1, test_hits5, test_hits10, test_hits20, test_hits50, test_hits100, test_map1, test_map5, test_map10, test_map20, test_map50, test_map100, \\\n",
        "    test_ndcg1, test_ndcg5, test_ndcg10, test_ndcg20, test_ndcg50, test_ndcg100 = mean\n",
        "    return test_hits1, test_hits5, test_hits10, test_hits20, test_hits50, test_hits100, test_map1, test_map5, test_map10, test_map20, test_map50, test_map100, \\\n",
        "    test_ndcg1, test_ndcg5, test_ndcg10, test_ndcg20, test_ndcg50, test_ndcg100"
      ]
    },
    {
      "cell_type": "code",
      "execution_count": null,
      "metadata": {
        "execution": {
          "iopub.execute_input": "2024-05-14T10:03:05.105208Z",
          "iopub.status.busy": "2024-05-14T10:03:05.104460Z",
          "iopub.status.idle": "2024-05-14T10:03:05.113587Z",
          "shell.execute_reply": "2024-05-14T10:03:05.112912Z",
          "shell.execute_reply.started": "2024-05-14T10:03:05.105174Z"
        },
        "tags": [],
        "id": "-hdNWj2RiSNC"
      },
      "outputs": [],
      "source": [
        "def print_metrics(hits1, hits5, hits10, hits20, hits50, hits100, map1, map5, map10, map20, map50, map100, ndcg1, ndcg5, ndcg10, ndcg20, ndcg50, ndcg100):\n",
        "    print(f'hits@1: {hits1:.6f}, hits@5: {hits5:.6f}, hits@10: {hits10:.6f}, hits@20: {hits20:.6f}')\n",
        "    print(f'hits@50: {hits50:.6f}, hits@100: {hits100:.6f}')\n",
        "    print(f'map@1: {map1:.6f}, map@5: {map5:.6f}, map@10: {map10:.6f}, map@20: {map20:.6f}')\n",
        "    print(f'map@50: {map50:.6f}, map@100: {map100:.6f}')\n",
        "    print(f'ndcg@1: {ndcg1:.6f}, ndcg@5: {ndcg5:.6f}, ndcg@10: {ndcg10:.6f}, ndcg@20: {ndcg20:.6f}')\n",
        "    print(f'ndcg@50: {ndcg50:.6f}, ndcg@100: {ndcg100:.6f}')"
      ]
    },
    {
      "cell_type": "code",
      "execution_count": null,
      "metadata": {
        "execution": {
          "iopub.execute_input": "2024-05-14T10:03:05.557667Z",
          "iopub.status.busy": "2024-05-14T10:03:05.557060Z",
          "iopub.status.idle": "2024-05-14T10:03:05.567763Z",
          "shell.execute_reply": "2024-05-14T10:03:05.567192Z",
          "shell.execute_reply.started": "2024-05-14T10:03:05.557630Z"
        },
        "id": "txUJZEbWplD6",
        "tags": []
      },
      "outputs": [],
      "source": [
        "device = torch.device('cuda' if torch.cuda.is_available() else 'cpu')"
      ]
    },
    {
      "cell_type": "code",
      "execution_count": null,
      "metadata": {
        "execution": {
          "iopub.execute_input": "2024-05-14T11:04:34.780065Z",
          "iopub.status.busy": "2024-05-14T11:04:34.779408Z",
          "iopub.status.idle": "2024-05-14T11:04:34.790339Z",
          "shell.execute_reply": "2024-05-14T11:04:34.789745Z",
          "shell.execute_reply.started": "2024-05-14T11:04:34.780025Z"
        },
        "tags": [],
        "id": "W4a9DfdyiSNC",
        "outputId": "2aa2af65-b3ec-4801-a5a1-6e992369749f"
      },
      "outputs": [
        {
          "data": {
            "text/plain": [
              "<torch._C.Generator at 0x7ff16010c670>"
            ]
          },
          "execution_count": 110,
          "metadata": {},
          "output_type": "execute_result"
        }
      ],
      "source": [
        "torch.manual_seed(100)"
      ]
    },
    {
      "cell_type": "code",
      "execution_count": null,
      "metadata": {
        "colab": {
          "base_uri": "https://localhost:8080/"
        },
        "execution": {
          "iopub.execute_input": "2024-05-14T11:04:35.214578Z",
          "iopub.status.busy": "2024-05-14T11:04:35.213832Z",
          "iopub.status.idle": "2024-05-14T11:06:30.059633Z",
          "shell.execute_reply": "2024-05-14T11:06:30.058889Z",
          "shell.execute_reply.started": "2024-05-14T11:04:35.214534Z"
        },
        "id": "jK2OckcDH3eX",
        "outputId": "9c9f58dc-494d-4dbc-851c-9fc76bb76281",
        "tags": []
      },
      "outputs": [
        {
          "name": "stdout",
          "output_type": "stream",
          "text": [
            "0\n",
            "Loss: 4.549046039581299, Hits@1: 0.04447278380393982\n",
            "1\n",
            "Loss: 4.251651763916016, Hits@1: 0.05889970064163208\n",
            "2\n",
            "Loss: 4.208664417266846, Hits@1: 0.06269362568855286\n",
            "3\n",
            "Loss: 4.189017295837402, Hits@1: 0.06334259361028671\n",
            "4\n",
            "Loss: 4.176349639892578, Hits@1: 0.06374195218086243\n",
            "5\n",
            "Loss: 4.166793346405029, Hits@1: 0.06419122964143753\n",
            "6\n",
            "Loss: 4.158962726593018, Hits@1: 0.06474035233259201\n",
            "7\n",
            "Loss: 4.152222156524658, Hits@1: 0.06494003534317017\n",
            "8\n",
            "Loss: 4.1462321281433105, Hits@1: 0.06518963724374771\n",
            "9\n",
            "Loss: 4.1407952308654785, Hits@1: 0.06543923914432526\n",
            "10\n",
            "Loss: 4.135788440704346, Hits@1: 0.06553907692432404\n",
            "11\n",
            "Loss: 4.131124496459961, Hits@1: 0.06603828072547913\n",
            "12\n",
            "Loss: 4.126747131347656, Hits@1: 0.06628787517547607\n",
            "13\n",
            "Loss: 4.122610569000244, Hits@1: 0.06648755818605423\n",
            "14\n",
            "Loss: 4.118682861328125, Hits@1: 0.066637322306633\n",
            "15\n",
            "Loss: 4.114938735961914, Hits@1: 0.06688691675662994\n",
            "16\n",
            "Loss: 4.11135721206665, Hits@1: 0.0670865997672081\n",
            "17\n",
            "Loss: 4.107922077178955, Hits@1: 0.06728628277778625\n",
            "18\n",
            "Loss: 4.104619979858398, Hits@1: 0.06743603944778442\n",
            "19\n",
            "Loss: 4.101438999176025, Hits@1: 0.0679851621389389\n",
            "20\n",
            "Loss: 4.09837007522583, Hits@1: 0.06813492625951767\n",
            "21\n",
            "Loss: 4.095403671264648, Hits@1: 0.06813492625951767\n",
            "22\n",
            "Loss: 4.092533111572266, Hits@1: 0.0684344470500946\n",
            "23\n",
            "Loss: 4.08975076675415, Hits@1: 0.06853428483009338\n",
            "24\n",
            "Loss: 4.087053298950195, Hits@1: 0.06878388673067093\n",
            "25\n",
            "Loss: 4.084433078765869, Hits@1: 0.0689336434006691\n",
            "26\n",
            "Loss: 4.0818867683410645, Hits@1: 0.06948276609182358\n",
            "27\n",
            "Loss: 4.079410076141357, Hits@1: 0.06973236799240112\n",
            "28\n",
            "Loss: 4.076999664306641, Hits@1: 0.06988212466239929\n",
            "29\n",
            "Loss: 4.074650764465332, Hits@1: 0.07018164545297623\n",
            "30\n",
            "Loss: 4.072360992431641, Hits@1: 0.07033140957355499\n",
            "31\n",
            "Loss: 4.070128440856934, Hits@1: 0.07053109258413315\n",
            "32\n",
            "Loss: 4.067948818206787, Hits@1: 0.07063093036413193\n",
            "33\n",
            "Loss: 4.065820217132568, Hits@1: 0.07083061337471008\n",
            "34\n",
            "Loss: 4.063741207122803, Hits@1: 0.07088053226470947\n",
            "35\n",
            "Loss: 4.061708450317383, Hits@1: 0.07108020782470703\n",
            "36\n",
            "Loss: 4.059720516204834, Hits@1: 0.07127989083528519\n",
            "37\n",
            "Loss: 4.057775974273682, Hits@1: 0.07162933051586151\n",
            "38\n",
            "Loss: 4.055872917175293, Hits@1: 0.07192885130643845\n",
            "39\n",
            "Loss: 4.054009914398193, Hits@1: 0.07207861542701721\n",
            "40\n",
            "Loss: 4.052184581756592, Hits@1: 0.07232821732759476\n",
            "41\n",
            "Loss: 4.050395965576172, Hits@1: 0.07227829098701477\n",
            "42\n",
            "Loss: 4.048643112182617, Hits@1: 0.07262773811817169\n",
            "43\n",
            "Loss: 4.046923637390137, Hits@1: 0.0725778117775917\n",
            "44\n",
            "Loss: 4.045238018035889, Hits@1: 0.07252789288759232\n",
            "45\n",
            "Loss: 4.04358434677124, Hits@1: 0.07242805510759354\n",
            "46\n",
            "Loss: 4.041961193084717, Hits@1: 0.07262773811817169\n",
            "47\n",
            "Loss: 4.040368556976318, Hits@1: 0.07262773811817169\n",
            "48\n",
            "Loss: 4.038804531097412, Hits@1: 0.07252789288759232\n",
            "49\n",
            "Loss: 4.037267684936523, Hits@1: 0.07272757589817047\n",
            "50\n",
            "Loss: 4.0357584953308105, Hits@1: 0.07277749478816986\n",
            "51\n",
            "Loss: 4.034275054931641, Hits@1: 0.07272757589817047\n",
            "52\n",
            "Loss: 4.032817363739014, Hits@1: 0.0728243887424469\n",
            "53\n",
            "Loss: 4.0313849449157715, Hits@1: 0.07267462462186813\n",
            "54\n",
            "Loss: 4.0299763679504395, Hits@1: 0.0728243887424469\n",
            "55\n",
            "Loss: 4.028590202331543, Hits@1: 0.07272454351186752\n",
            "56\n",
            "Loss: 4.027227401733398, Hits@1: 0.07292422652244568\n",
            "57\n",
            "Loss: 4.025886535644531, Hits@1: 0.0728243887424469\n",
            "58\n",
            "Loss: 4.024567127227783, Hits@1: 0.07277144491672516\n",
            "59\n",
            "Loss: 4.023268222808838, Hits@1: 0.07287128269672394\n",
            "60\n",
            "Loss: 4.021989345550537, Hits@1: 0.07292120158672333\n",
            "61\n",
            "Loss: 4.020730972290039, Hits@1: 0.07347032427787781\n",
            "62\n",
            "Loss: 4.019491672515869, Hits@1: 0.07357016950845718\n",
            "63\n",
            "Loss: 4.018270969390869, Hits@1: 0.07371992617845535\n",
            "64\n",
            "Loss: 4.0170674324035645, Hits@1: 0.07391658425331116\n",
            "65\n",
            "Loss: 4.015882968902588, Hits@1: 0.07431594282388687\n",
            "66\n",
            "Loss: 4.014715671539307, Hits@1: 0.07446570694446564\n",
            "67\n",
            "Loss: 4.013565540313721, Hits@1: 0.07471530884504318\n",
            "68\n",
            "Loss: 4.0124311447143555, Hits@1: 0.07471530884504318\n",
            "69\n",
            "Loss: 4.0113139152526855, Hits@1: 0.07481514662504196\n",
            "70\n",
            "Loss: 4.010211944580078, Hits@1: 0.07456554472446442\n",
            "71\n",
            "Loss: 4.009125232696533, Hits@1: 0.07456554472446442\n",
            "72\n",
            "Loss: 4.008053779602051, Hits@1: 0.0746154636144638\n",
            "73\n",
            "Loss: 4.0069966316223145, Hits@1: 0.07431594282388687\n",
            "74\n",
            "Loss: 4.005954742431641, Hits@1: 0.07436586916446686\n",
            "75\n",
            "Loss: 4.004925727844238, Hits@1: 0.07436586916446686\n",
            "76\n",
            "Loss: 4.003911018371582, Hits@1: 0.07436586916446686\n",
            "77\n",
            "Loss: 4.002909183502197, Hits@1: 0.07436586916446686\n",
            "78\n",
            "Loss: 4.001921653747559, Hits@1: 0.07436586916446686\n",
            "79\n",
            "Loss: 4.000946044921875, Hits@1: 0.07446570694446564\n",
            "80\n",
            "Loss: 3.999983549118042, Hits@1: 0.07446570694446564\n",
            "81\n",
            "Loss: 3.999033212661743, Hits@1: 0.07446570694446564\n",
            "82\n",
            "Loss: 3.9980947971343994, Hits@1: 0.0746154636144638\n",
            "83\n",
            "Loss: 3.99716854095459, Hits@1: 0.07481514662504196\n",
            "84\n",
            "Loss: 3.996253728866577, Hits@1: 0.07486506551504135\n",
            "85\n",
            "Loss: 3.9953501224517822, Hits@1: 0.07521450519561768\n",
            "86\n",
            "Loss: 3.9944581985473633, Hits@1: 0.07536426931619644\n",
            "87\n",
            "Loss: 3.9935762882232666, Hits@1: 0.07541418820619583\n",
            "88\n",
            "Loss: 3.9927051067352295, Hits@1: 0.07551402598619461\n",
            "89\n",
            "Loss: 3.99184513092041, Hits@1: 0.07566379010677338\n",
            "90\n",
            "Loss: 3.990995168685913, Hits@1: 0.07586347311735153\n",
            "91\n",
            "Loss: 3.9901556968688965, Hits@1: 0.07606314867734909\n",
            "92\n",
            "Loss: 3.989325761795044, Hits@1: 0.0760132297873497\n",
            "93\n",
            "Loss: 3.9885051250457764, Hits@1: 0.07596331089735031\n",
            "94\n",
            "Loss: 3.987694263458252, Hits@1: 0.07606314867734909\n",
            "95\n",
            "Loss: 3.9868929386138916, Hits@1: 0.07621291279792786\n",
            "96\n",
            "Loss: 3.986100673675537, Hits@1: 0.07631275057792664\n",
            "97\n",
            "Loss: 3.9853177070617676, Hits@1: 0.07666219025850296\n",
            "98\n",
            "Loss: 3.984543561935425, Hits@1: 0.07676203548908234\n",
            "99\n",
            "Loss: 3.9837779998779297, Hits@1: 0.07681195437908173\n",
            "100\n",
            "Loss: 3.9830210208892822, Hits@1: 0.07671210914850235\n",
            "101\n",
            "Loss: 3.982272148132324, Hits@1: 0.07681195437908173\n",
            "102\n",
            "Loss: 3.981531858444214, Hits@1: 0.07671210914850235\n",
            "103\n",
            "Loss: 3.980799913406372, Hits@1: 0.07671210914850235\n",
            "104\n",
            "Loss: 3.9800751209259033, Hits@1: 0.07676203548908234\n",
            "105\n",
            "Loss: 3.9793589115142822, Hits@1: 0.07671210914850235\n",
            "106\n",
            "Loss: 3.9786500930786133, Hits@1: 0.07686187326908112\n",
            "107\n",
            "Loss: 3.9779486656188965, Hits@1: 0.07701162993907928\n",
            "108\n",
            "Loss: 3.97725510597229, Hits@1: 0.07716139405965805\n",
            "109\n",
            "Loss: 3.9765684604644775, Hits@1: 0.07711147516965866\n",
            "110\n",
            "Loss: 3.9758894443511963, Hits@1: 0.07721131294965744\n",
            "111\n",
            "Loss: 3.97521710395813, Hits@1: 0.07746091485023499\n",
            "112\n",
            "Loss: 3.9745521545410156, Hits@1: 0.07746091485023499\n",
            "113\n",
            "Loss: 3.973893642425537, Hits@1: 0.07751083374023438\n",
            "114\n",
            "Loss: 3.9732420444488525, Hits@1: 0.07751083374023438\n",
            "115\n",
            "Loss: 3.972597360610962, Hits@1: 0.07756075263023376\n",
            "116\n",
            "Loss: 3.971958875656128, Hits@1: 0.07751083374023438\n",
            "117\n",
            "Loss: 3.9713268280029297, Hits@1: 0.07761067152023315\n",
            "118\n",
            "Loss: 3.970701217651367, Hits@1: 0.07766059041023254\n",
            "119\n",
            "Loss: 3.9700822830200195, Hits@1: 0.07761067152023315\n",
            "120\n",
            "Loss: 3.9694690704345703, Hits@1: 0.07761067152023315\n",
            "121\n",
            "Loss: 3.9688615798950195, Hits@1: 0.07761067152023315\n",
            "122\n",
            "Loss: 3.9682600498199463, Hits@1: 0.07771051675081253\n",
            "123\n",
            "Loss: 3.967664957046509, Hits@1: 0.07766059041023254\n",
            "124\n",
            "Loss: 3.9670753479003906, Hits@1: 0.0778602734208107\n",
            "125\n",
            "Loss: 3.966491937637329, Hits@1: 0.07801003754138947\n",
            "126\n",
            "Loss: 3.9659130573272705, Hits@1: 0.0783095583319664\n",
            "127\n",
            "Loss: 3.9653406143188477, Hits@1: 0.07840939611196518\n",
            "128\n",
            "Loss: 3.964773178100586, Hits@1: 0.07850923389196396\n",
            "129\n",
            "Loss: 3.9642112255096436, Hits@1: 0.07850923389196396\n",
            "130\n",
            "Loss: 3.9636545181274414, Hits@1: 0.07850923389196396\n",
            "131\n",
            "Loss: 3.9631028175354004, Hits@1: 0.07855915278196335\n",
            "132\n",
            "Loss: 3.962556838989258, Hits@1: 0.07870891690254211\n",
            "133\n",
            "Loss: 3.962015390396118, Hits@1: 0.07860907912254333\n",
            "134\n",
            "Loss: 3.961479663848877, Hits@1: 0.07870891690254211\n",
            "135\n",
            "Loss: 3.9609477519989014, Hits@1: 0.0788087546825409\n",
            "136\n",
            "Loss: 3.960421085357666, Hits@1: 0.07890859991312027\n",
            "137\n",
            "Loss: 3.959899663925171, Hits@1: 0.07905835658311844\n",
            "138\n",
            "Loss: 3.959383010864258, Hits@1: 0.07900843769311905\n",
            "139\n",
            "Loss: 3.9588701725006104, Hits@1: 0.07900843769311905\n",
            "140\n",
            "Loss: 3.9583630561828613, Hits@1: 0.07900843769311905\n",
            "141\n",
            "Loss: 3.9578592777252197, Hits@1: 0.07890859991312027\n",
            "142\n",
            "Loss: 3.9573612213134766, Hits@1: 0.07895851880311966\n",
            "143\n",
            "Loss: 3.95686674118042, Hits@1: 0.07895851880311966\n",
            "144\n",
            "Loss: 3.956376552581787, Hits@1: 0.07890859991312027\n",
            "145\n",
            "Loss: 3.9558908939361572, Hits@1: 0.07905835658311844\n",
            "146\n",
            "Loss: 3.955409288406372, Hits@1: 0.07905835658311844\n",
            "147\n",
            "Loss: 3.95493221282959, Hits@1: 0.07895851880311966\n",
            "148\n",
            "Loss: 3.954458713531494, Hits@1: 0.07895851880311966\n",
            "149\n",
            "Loss: 3.9539899826049805, Hits@1: 0.07890859991312027\n",
            "150\n",
            "Loss: 3.9535250663757324, Hits@1: 0.07905835658311844\n",
            "151\n",
            "Loss: 3.953063726425171, Hits@1: 0.07910827547311783\n",
            "152\n",
            "Loss: 3.952606678009033, Hits@1: 0.07915819436311722\n",
            "153\n",
            "Loss: 3.952153444290161, Hits@1: 0.07895851880311966\n",
            "154\n",
            "Loss: 3.951704263687134, Hits@1: 0.07910827547311783\n",
            "155\n",
            "Loss: 3.951258420944214, Hits@1: 0.07915819436311722\n",
            "156\n",
            "Loss: 3.9508161544799805, Hits@1: 0.0792580395936966\n",
            "157\n",
            "Loss: 3.950378179550171, Hits@1: 0.07930795848369598\n",
            "158\n",
            "Loss: 3.9499430656433105, Hits@1: 0.0792081207036972\n",
            "159\n",
            "Loss: 3.949512004852295, Hits@1: 0.07935787737369537\n",
            "160\n",
            "Loss: 3.949084520339966, Hits@1: 0.07945771515369415\n",
            "161\n",
            "Loss: 3.9486606121063232, Hits@1: 0.07960747927427292\n",
            "162\n",
            "Loss: 3.948239803314209, Hits@1: 0.07935787737369537\n",
            "163\n",
            "Loss: 3.9478225708007812, Hits@1: 0.07935787737369537\n",
            "164\n",
            "Loss: 3.947409152984619, Hits@1: 0.07955756038427353\n",
            "165\n",
            "Loss: 3.946998357772827, Hits@1: 0.0797073170542717\n",
            "166\n",
            "Loss: 3.9465909004211426, Hits@1: 0.07975723594427109\n",
            "167\n",
            "Loss: 3.9461867809295654, Hits@1: 0.07985708117485046\n",
            "168\n",
            "Loss: 3.945786237716675, Hits@1: 0.07985708117485046\n",
            "169\n",
            "Loss: 3.9453885555267334, Hits@1: 0.07985708117485046\n",
            "170\n",
            "Loss: 3.9449942111968994, Hits@1: 0.07985708117485046\n",
            "171\n",
            "Loss: 3.9446027278900146, Hits@1: 0.07980716228485107\n",
            "172\n",
            "Loss: 3.9442145824432373, Hits@1: 0.07990700006484985\n",
            "173\n",
            "Loss: 3.943828821182251, Hits@1: 0.07985708117485046\n",
            "174\n",
            "Loss: 3.943446636199951, Hits@1: 0.07995691895484924\n",
            "175\n",
            "Loss: 3.9430675506591797, Hits@1: 0.07985708117485046\n",
            "176\n",
            "Loss: 3.9426913261413574, Hits@1: 0.07990700006484985\n",
            "177\n",
            "Loss: 3.9423177242279053, Hits@1: 0.07985708117485046\n",
            "178\n",
            "Loss: 3.9419467449188232, Hits@1: 0.07975723594427109\n",
            "179\n",
            "Loss: 3.9415786266326904, Hits@1: 0.07990700006484985\n",
            "180\n",
            "Loss: 3.941214084625244, Hits@1: 0.07985708117485046\n",
            "181\n",
            "Loss: 3.9408516883850098, Hits@1: 0.07990700006484985\n",
            "182\n",
            "Loss: 3.9404921531677246, Hits@1: 0.07995691895484924\n",
            "183\n",
            "Loss: 3.9401352405548096, Hits@1: 0.08005675673484802\n",
            "184\n",
            "Loss: 3.9397807121276855, Hits@1: 0.08010668307542801\n",
            "185\n",
            "Loss: 3.9394290447235107, Hits@1: 0.08030635863542557\n",
            "186\n",
            "Loss: 3.939080238342285, Hits@1: 0.08045612275600433\n",
            "187\n",
            "Loss: 3.9387335777282715, Hits@1: 0.08050604164600372\n",
            "188\n",
            "Loss: 3.938390016555786, Hits@1: 0.08055596053600311\n",
            "189\n",
            "Loss: 3.938048839569092, Hits@1: 0.08065579831600189\n",
            "190\n",
            "Loss: 3.9377098083496094, Hits@1: 0.08060890436172485\n",
            "191\n",
            "Loss: 3.937372922897339, Hits@1: 0.08060890436172485\n",
            "192\n",
            "Loss: 3.937039852142334, Hits@1: 0.08055898547172546\n",
            "193\n",
            "Loss: 3.9367079734802246, Hits@1: 0.08060890436172485\n",
            "194\n",
            "Loss: 3.9363787174224854, Hits@1: 0.08055898547172546\n",
            "195\n",
            "Loss: 3.936051845550537, Hits@1: 0.08060890436172485\n",
            "196\n",
            "Loss: 3.935727834701538, Hits@1: 0.08075866103172302\n",
            "197\n",
            "Loss: 3.9354052543640137, Hits@1: 0.08080858737230301\n",
            "198\n",
            "Loss: 3.9350850582122803, Hits@1: 0.08075866103172302\n",
            "199\n",
            "Loss: 3.934767723083496, Hits@1: 0.08080858737230301\n"
          ]
        }
      ],
      "source": [
        "loss_fn = nn.CrossEntropyLoss()\n",
        "model  = DownstreamModel()\n",
        "\n",
        "model.train()\n",
        "optimizer = torch.optim.Adam(model.parameters(), lr = 0.001)\n",
        "for i in range(200):\n",
        "    hits_1 = []\n",
        "    losses = []\n",
        "    print(i)\n",
        "    for emb_batch, labels_batch in train_dataloader:\n",
        "        optimizer.zero_grad()\n",
        "        probs = model(emb_batch)\n",
        "        pred = torch.argmax(probs, axis = 1)\n",
        "        one_hot = torch.zeros(len(emb_batch), 186)\n",
        "        one_hot[torch.arange(len(one_hot)), labels_batch] = 1\n",
        "        hits_1.append(top_k_accuracy_score(labels_batch, probs.cpu().detach().numpy(), k=1, labels = labels))\n",
        "        loss = loss_fn(probs, one_hot)\n",
        "        losses.append(loss)\n",
        "        loss.backward()\n",
        "        optimizer.step()\n",
        "    mean_loss = torch.Tensor(losses).mean().item()\n",
        "    mean_hits = torch.Tensor(hits_1).mean().item()\n",
        "    print(f'Loss: {mean_loss}, Hits@1: {mean_hits}')"
      ]
    },
    {
      "cell_type": "code",
      "execution_count": null,
      "metadata": {
        "execution": {
          "iopub.execute_input": "2024-05-14T11:06:30.061395Z",
          "iopub.status.busy": "2024-05-14T11:06:30.060960Z",
          "iopub.status.idle": "2024-05-14T11:07:14.040713Z",
          "shell.execute_reply": "2024-05-14T11:07:14.039986Z",
          "shell.execute_reply.started": "2024-05-14T11:06:30.061361Z"
        },
        "tags": [],
        "id": "2jUChqooiSNC",
        "outputId": "0f18846d-167d-49fb-a249-1474b3000c32"
      },
      "outputs": [
        {
          "name": "stdout",
          "output_type": "stream",
          "text": [
            "hits@1: 0.036339, hits@5: 0.165708, hits@10: 0.298277, hits@20: 0.488046\n",
            "hits@50: 0.792738, hits@100: 0.976587\n",
            "map@1: 0.036339, map@5: 0.078160, map@10: 0.095441, map@20: 0.108497\n",
            "map@50: 0.118162, map@100: 0.120916\n",
            "ndcg@1: 0.036339, ndcg@5: 0.099614, ndcg@10: 0.142073, ndcg@20: 0.189910\n",
            "ndcg@50: 0.250296, ndcg@100: 0.280455\n"
          ]
        }
      ],
      "source": [
        "test_hits1, test_hits5, test_hits10, test_hits20, test_hits50, test_hits100, test_map1, test_map5, test_map10, test_map20, test_map50, test_map100, test_ndcg1, test_ndcg5, test_ndcg10, test_ndcg20, test_ndcg50, test_ndcg100 = test(model, test_dataloader, loss_fn)\n",
        "\n",
        "print_metrics(test_hits1, test_hits5, test_hits10, test_hits20, test_hits50, test_hits100, test_map1, test_map5, test_map10, test_map20, test_map50, test_map100, test_ndcg1, test_ndcg5, test_ndcg10, test_ndcg20, test_ndcg50, test_ndcg100)"
      ]
    }
  ],
  "metadata": {
    "colab": {
      "provenance": []
    },
    "kernelspec": {
      "display_name": "DataSphere Kernel",
      "language": "python",
      "name": "python3"
    },
    "language_info": {
      "codemirror_mode": {
        "name": "ipython",
        "version": 3
      },
      "file_extension": ".py",
      "mimetype": "text/x-python",
      "name": "python",
      "nbconvert_exporter": "python",
      "pygments_lexer": "ipython3",
      "version": "3.10.12"
    }
  },
  "nbformat": 4,
  "nbformat_minor": 0
}