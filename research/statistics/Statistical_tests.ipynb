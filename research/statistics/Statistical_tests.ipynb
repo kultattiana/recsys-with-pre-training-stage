{
  "nbformat": 4,
  "nbformat_minor": 0,
  "metadata": {
    "colab": {
      "provenance": []
    },
    "kernelspec": {
      "name": "python3",
      "display_name": "Python 3"
    },
    "language_info": {
      "name": "python"
    }
  },
  "cells": [
    {
      "cell_type": "code",
      "source": [
        "import numpy as np\n",
        "import matplotlib.pyplot as plt\n",
        "from scipy.stats import shapiro\n",
        "from scipy.stats import ttest_ind\n",
        "from scipy.stats import mannwhitneyu\n",
        "from scipy.stats import levene"
      ],
      "metadata": {
        "id": "z1JuLhd11ALU"
      },
      "execution_count": null,
      "outputs": []
    },
    {
      "cell_type": "code",
      "execution_count": null,
      "metadata": {
        "id": "yDP48dxztLAs"
      },
      "outputs": [],
      "source": [
        "def read_file(filename):\n",
        "  metrics_dict = {}\n",
        "  f = open(filename)\n",
        "  strings = f.readlines()\n",
        "  for string in strings:\n",
        "    if string[0:3] != 'Try':\n",
        "      metrics = string.split(', ')\n",
        "      for metric in metrics:\n",
        "        name, value = metric.split(': ')\n",
        "        if name not in metrics_dict.keys():\n",
        "          metrics_dict[name] = []\n",
        "        metrics_dict[name].append(float(value))\n",
        "  return metrics_dict"
      ]
    },
    {
      "cell_type": "markdown",
      "source": [
        "# Gowalla metrics statistical tests"
      ],
      "metadata": {
        "id": "p6azmBmzd7Mh"
      }
    },
    {
      "cell_type": "code",
      "source": [
        "gowalla_our_metrics = read_file('gowalla_linkprediction_rnn_graph_target_training.txt')"
      ],
      "metadata": {
        "id": "-NgLDbvLy4Rg"
      },
      "execution_count": null,
      "outputs": []
    },
    {
      "cell_type": "code",
      "source": [
        "gowalla_our_metrics['hits@1']"
      ],
      "metadata": {
        "colab": {
          "base_uri": "https://localhost:8080/"
        },
        "id": "HqiO6eJmzCh6",
        "outputId": "0d369853-11dc-4d1f-c62b-4aa46db24648"
      },
      "execution_count": null,
      "outputs": [
        {
          "output_type": "execute_result",
          "data": {
            "text/plain": [
              "[0.794247,\n",
              " 0.791208,\n",
              " 0.793804,\n",
              " 0.793296,\n",
              " 0.794347,\n",
              " 0.7925,\n",
              " 0.792709,\n",
              " 0.794482,\n",
              " 0.7945,\n",
              " 0.793798]"
            ]
          },
          "metadata": {},
          "execution_count": 5
        }
      ]
    },
    {
      "cell_type": "code",
      "source": [
        "gowalla_our_mean = {}\n",
        "for key in gowalla_our_metrics.keys():\n",
        "  gowalla_our_mean[key] = np.array(gowalla_our_metrics[key]).mean()"
      ],
      "metadata": {
        "id": "O3WH4ME90qW0"
      },
      "execution_count": null,
      "outputs": []
    },
    {
      "cell_type": "code",
      "source": [
        "gowalla_our_mean"
      ],
      "metadata": {
        "colab": {
          "base_uri": "https://localhost:8080/"
        },
        "id": "Ks_psWWe1ECZ",
        "outputId": "ebd1ffc3-a3c7-447d-c337-ed79585528ee"
      },
      "execution_count": null,
      "outputs": [
        {
          "output_type": "execute_result",
          "data": {
            "text/plain": [
              "{'hits@1': 0.7934891000000001,\n",
              " 'hits@5': 0.9195692,\n",
              " 'hits@10': 0.9407343999999999,\n",
              " 'hits@20': 0.960477,\n",
              " 'hits@50': 0.9844611000000001,\n",
              " 'hits@100': 0.9959322,\n",
              " 'map@1': 0.7934891000000001,\n",
              " 'map@5': 0.846951,\n",
              " 'map@10': 0.8498156,\n",
              " 'map@20': 0.8511894,\n",
              " 'map@50': 0.851975,\n",
              " 'map@100': 0.8521474,\n",
              " 'ndcg@1': 0.7934891000000001,\n",
              " 'ndcg@5': 0.8653972,\n",
              " 'ndcg@10': 0.8722816,\n",
              " 'ndcg@20': 0.8772777999999999,\n",
              " 'ndcg@50': 0.8820748,\n",
              " 'ndcg@100': 0.8839578000000001}"
            ]
          },
          "metadata": {},
          "execution_count": 7
        }
      ]
    },
    {
      "cell_type": "code",
      "source": [
        "gowalla_rnn_baseline = read_file('gowalla_rnn_baseline_training.txt')"
      ],
      "metadata": {
        "id": "lHMrkIexzenM"
      },
      "execution_count": null,
      "outputs": []
    },
    {
      "cell_type": "code",
      "source": [
        "gowalla_rnn_baseline['hits@1']"
      ],
      "metadata": {
        "colab": {
          "base_uri": "https://localhost:8080/"
        },
        "id": "ILv8zTYIzo7i",
        "outputId": "df0cf20a-83ce-4461-ae74-71b4a1a4600a"
      },
      "execution_count": null,
      "outputs": [
        {
          "output_type": "execute_result",
          "data": {
            "text/plain": [
              "[0.780919,\n",
              " 0.781221,\n",
              " 0.785814,\n",
              " 0.781861,\n",
              " 0.777683,\n",
              " 0.775131,\n",
              " 0.775046,\n",
              " 0.783227,\n",
              " 0.781926,\n",
              " 0.781327]"
            ]
          },
          "metadata": {},
          "execution_count": 9
        }
      ]
    },
    {
      "cell_type": "code",
      "source": [
        "gowalla_rnn_mean = {}\n",
        "for key in gowalla_rnn_baseline.keys():\n",
        "  gowalla_rnn_mean[key] = np.array(gowalla_rnn_baseline[key]).mean()"
      ],
      "metadata": {
        "id": "i11It34f1SUx"
      },
      "execution_count": null,
      "outputs": []
    },
    {
      "cell_type": "code",
      "source": [
        "gowalla_rnn_mean"
      ],
      "metadata": {
        "colab": {
          "base_uri": "https://localhost:8080/"
        },
        "id": "-bhQNJbM1eiW",
        "outputId": "62ac6959-8a57-4471-d684-bf4c30940dad"
      },
      "execution_count": null,
      "outputs": [
        {
          "output_type": "execute_result",
          "data": {
            "text/plain": [
              "{'hits@1': 0.7804155,\n",
              " 'hits@5': 0.9087965,\n",
              " 'hits@10': 0.9329052000000001,\n",
              " 'hits@20': 0.9550266000000001,\n",
              " 'hits@50': 0.9826595999999999,\n",
              " 'hits@100': 0.9947485,\n",
              " 'map@1': 0.7804155,\n",
              " 'map@5': 0.8344765000000001,\n",
              " 'map@10': 0.8377330000000001,\n",
              " 'map@20': 0.8392740999999999,\n",
              " 'map@50': 0.8401848000000001,\n",
              " 'map@100': 0.8403653999999999,\n",
              " 'ndcg@1': 0.7804155,\n",
              " 'ndcg@5': 0.8533332999999999,\n",
              " 'ndcg@10': 0.8611683999999998,\n",
              " 'ndcg@20': 0.8667683,\n",
              " 'ndcg@50': 0.8723053999999999,\n",
              " 'ndcg@100': 0.8742871000000001}"
            ]
          },
          "metadata": {},
          "execution_count": 11
        }
      ]
    },
    {
      "cell_type": "code",
      "source": [
        "gowalla_random_embedding_add = read_file('gowalla_random_embedding_add_training.txt')"
      ],
      "metadata": {
        "id": "u7pjKoH5zyhp"
      },
      "execution_count": null,
      "outputs": []
    },
    {
      "cell_type": "code",
      "source": [
        "gowalla_random_embedding_add['hits@1']"
      ],
      "metadata": {
        "colab": {
          "base_uri": "https://localhost:8080/"
        },
        "id": "ZweMHT4N0D3c",
        "outputId": "b5d21ebd-2aac-45d6-f0f5-7390e95914d3"
      },
      "execution_count": null,
      "outputs": [
        {
          "output_type": "execute_result",
          "data": {
            "text/plain": [
              "[0.766492,\n",
              " 0.767493,\n",
              " 0.763796,\n",
              " 0.76959,\n",
              " 0.770685,\n",
              " 0.762014,\n",
              " 0.768941,\n",
              " 0.770292,\n",
              " 0.769874,\n",
              " 0.763643]"
            ]
          },
          "metadata": {},
          "execution_count": 25
        }
      ]
    },
    {
      "cell_type": "code",
      "source": [
        "gowalla_random_embedding_mean = {}\n",
        "for key in gowalla_random_embedding_add.keys():\n",
        "  gowalla_random_embedding_mean[key] = np.array(gowalla_random_embedding_add[key]).mean()"
      ],
      "metadata": {
        "id": "MOX9EgVE1qmI"
      },
      "execution_count": null,
      "outputs": []
    },
    {
      "cell_type": "code",
      "source": [
        "gowalla_random_embedding_mean"
      ],
      "metadata": {
        "colab": {
          "base_uri": "https://localhost:8080/"
        },
        "id": "QeOeVuMW18e3",
        "outputId": "4edcc871-347a-4d4d-e317-baa3061d9c92"
      },
      "execution_count": null,
      "outputs": [
        {
          "output_type": "execute_result",
          "data": {
            "text/plain": [
              "{'hits@1': 0.767282,\n",
              " 'hits@5': 0.9019067,\n",
              " 'hits@10': 0.9295981,\n",
              " 'hits@20': 0.9525737,\n",
              " 'hits@50': 0.9800389999999999,\n",
              " 'hits@100': 0.9945639999999999,\n",
              " 'map@1': 0.767282,\n",
              " 'map@5': 0.8234284000000001,\n",
              " 'map@10': 0.8271685999999999,\n",
              " 'map@20': 0.8287751,\n",
              " 'map@50': 0.8296712999999999,\n",
              " 'map@100': 0.8298851,\n",
              " 'ndcg@1': 0.767282,\n",
              " 'ndcg@5': 0.843309,\n",
              " 'ndcg@10': 0.8523084000000001,\n",
              " 'ndcg@20': 0.8581327999999999,\n",
              " 'ndcg@50': 0.8636199,\n",
              " 'ndcg@100': 0.8659925999999999}"
            ]
          },
          "metadata": {},
          "execution_count": 27
        }
      ]
    },
    {
      "cell_type": "code",
      "source": [
        "hits1 = np.array(gowalla_our_metrics['hits@1'])\n",
        "mu_1 = gowalla_our_mean['hits@1']\n",
        "s_1 = np.sqrt(np.sum((hits1 - mu_1) * (hits1 - mu_1)) / 9)\n",
        "hits2 = np.array(gowalla_rnn_baseline['hits@1'])\n",
        "mu_2 = hits2.mean()\n",
        "s_2 = np.sqrt(np.sum((hits2 - mu_2) * (hits2 - mu_2)) / 9)\n",
        "s_d = np.sqrt(s_1*s_1 / 10 + s_2*s_2 / 10)\n",
        "t = np.abs(mu_1 - mu_2) / s_d\n",
        "print(t)"
      ],
      "metadata": {
        "colab": {
          "base_uri": "https://localhost:8080/"
        },
        "id": "HGDC2Zu-KGgT",
        "outputId": "61973a6f-5166-46b4-d15a-b3a76479fdde"
      },
      "execution_count": null,
      "outputs": [
        {
          "output_type": "stream",
          "name": "stdout",
          "text": [
            "11.431334804909971\n"
          ]
        }
      ]
    },
    {
      "cell_type": "code",
      "source": [
        "import matplotlib.pyplot as plt\n",
        "from scipy.stats import shapiro\n",
        "from scipy.stats import ttest_ind"
      ],
      "metadata": {
        "colab": {
          "base_uri": "https://localhost:8080/"
        },
        "id": "m1b-WjjkRlHh",
        "outputId": "952e4407-8908-4914-985c-48fd14f06c6c"
      },
      "execution_count": null,
      "outputs": [
        {
          "output_type": "execute_result",
          "data": {
            "text/plain": [
              "TtestResult(statistic=11.431334804909971, pvalue=1.0981238159107828e-09, df=18.0)"
            ]
          },
          "metadata": {},
          "execution_count": 37
        }
      ]
    },
    {
      "cell_type": "code",
      "source": [
        "print(shapiro(hits1))"
      ],
      "metadata": {
        "colab": {
          "base_uri": "https://localhost:8080/"
        },
        "id": "TNjNIo7D6rE-",
        "outputId": "2ff40a69-aaf1-4aec-cbc3-5eb603690aa0"
      },
      "execution_count": null,
      "outputs": [
        {
          "output_type": "stream",
          "name": "stdout",
          "text": [
            "ShapiroResult(statistic=0.8754950761795044, pvalue=0.1157885417342186)\n"
          ]
        }
      ]
    },
    {
      "cell_type": "code",
      "source": [
        "print(shapiro(hits2))"
      ],
      "metadata": {
        "colab": {
          "base_uri": "https://localhost:8080/"
        },
        "id": "J-n13Xgm62NY",
        "outputId": "9e1e1523-b5d8-4bde-ed74-c0ebcd2670ee"
      },
      "execution_count": null,
      "outputs": [
        {
          "output_type": "stream",
          "name": "stdout",
          "text": [
            "ShapiroResult(statistic=0.907337486743927, pvalue=0.26319849491119385)\n"
          ]
        }
      ]
    },
    {
      "cell_type": "code",
      "source": [
        "print(levene(hits1, hits2))"
      ],
      "metadata": {
        "colab": {
          "base_uri": "https://localhost:8080/"
        },
        "id": "sX9UsFnN69ay",
        "outputId": "c71e9af4-29a0-4126-f10d-3add24fa3fd3"
      },
      "execution_count": null,
      "outputs": [
        {
          "output_type": "stream",
          "name": "stdout",
          "text": [
            "LeveneResult(statistic=3.8801155266256537, pvalue=0.06444654897684828)\n"
          ]
        }
      ]
    },
    {
      "cell_type": "code",
      "source": [
        "ttest_ind(hits1, hits2, equal_var = True, alternative = 'greater')"
      ],
      "metadata": {
        "colab": {
          "base_uri": "https://localhost:8080/"
        },
        "id": "iJy-OOnv7HDp",
        "outputId": "8ea16e4c-e05c-4c77-9201-e3f580b63ad7"
      },
      "execution_count": null,
      "outputs": [
        {
          "output_type": "execute_result",
          "data": {
            "text/plain": [
              "TtestResult(statistic=11.431334804909971, pvalue=5.490619079553914e-10, df=18.0)"
            ]
          },
          "metadata": {},
          "execution_count": 83
        }
      ]
    },
    {
      "cell_type": "code",
      "source": [
        "hits3 = np.array(gowalla_random_embedding_add['hits@1'])\n",
        "levene(hits1, hits3)"
      ],
      "metadata": {
        "colab": {
          "base_uri": "https://localhost:8080/"
        },
        "id": "oDFU3088UxW5",
        "outputId": "4e8ef70a-c524-499f-e6aa-0774e1ef6718"
      },
      "execution_count": null,
      "outputs": [
        {
          "output_type": "execute_result",
          "data": {
            "text/plain": [
              "LeveneResult(statistic=8.21160663901639, pvalue=0.010280827470293592)"
            ]
          },
          "metadata": {},
          "execution_count": 81
        }
      ]
    },
    {
      "cell_type": "code",
      "source": [
        "print(shapiro(hits3))"
      ],
      "metadata": {
        "colab": {
          "base_uri": "https://localhost:8080/"
        },
        "id": "PknMn9H0HNhm",
        "outputId": "eecbc040-82a8-4c4b-a749-cbde54eeeb1f"
      },
      "execution_count": null,
      "outputs": [
        {
          "output_type": "stream",
          "name": "stdout",
          "text": [
            "ShapiroResult(statistic=0.8881285190582275, pvalue=0.1615268588066101)\n"
          ]
        }
      ]
    },
    {
      "cell_type": "code",
      "source": [
        "ttest_ind(hits1, hits3, equal_var = False)"
      ],
      "metadata": {
        "colab": {
          "base_uri": "https://localhost:8080/"
        },
        "id": "rd6LV034UUzF",
        "outputId": "b26d3d1b-0e2f-4e96-cdad-7918a2ce4d21"
      },
      "execution_count": null,
      "outputs": [
        {
          "output_type": "execute_result",
          "data": {
            "text/plain": [
              "TtestResult(statistic=24.912935787620977, pvalue=4.572193092925091e-11, df=11.057754198392706)"
            ]
          },
          "metadata": {},
          "execution_count": 97
        }
      ]
    },
    {
      "cell_type": "code",
      "source": [
        "ttest_ind(hits2, hits3)"
      ],
      "metadata": {
        "colab": {
          "base_uri": "https://localhost:8080/"
        },
        "id": "qCsxndxmVHip",
        "outputId": "4462b54b-37f0-43d9-ba13-883e50c4f064"
      },
      "execution_count": null,
      "outputs": [
        {
          "output_type": "execute_result",
          "data": {
            "text/plain": [
              "TtestResult(statistic=8.885403993590705, pvalue=5.32780219068982e-08, df=18.0)"
            ]
          },
          "metadata": {},
          "execution_count": 39
        }
      ]
    },
    {
      "cell_type": "markdown",
      "source": [
        "# Brightkite metrics statistical tests"
      ],
      "metadata": {
        "id": "VXRh9YR3eUwb"
      }
    },
    {
      "cell_type": "code",
      "source": [
        "brightkite_our_metrics = read_file('link_prediction_rnn_graph_target_training.txt')"
      ],
      "metadata": {
        "id": "PCYq8Cz19Isv"
      },
      "execution_count": null,
      "outputs": []
    },
    {
      "cell_type": "code",
      "source": [
        "brightkite_our_metrics['hits@1']"
      ],
      "metadata": {
        "colab": {
          "base_uri": "https://localhost:8080/"
        },
        "id": "yyRvw1V19TlO",
        "outputId": "c240aa9e-16f4-4971-9fd7-5b725b090e31"
      },
      "execution_count": null,
      "outputs": [
        {
          "output_type": "execute_result",
          "data": {
            "text/plain": [
              "[0.796934,\n",
              " 0.795539,\n",
              " 0.795055,\n",
              " 0.795049,\n",
              " 0.796538,\n",
              " 0.795892,\n",
              " 0.796441,\n",
              " 0.797754,\n",
              " 0.794007,\n",
              " 0.795898]"
            ]
          },
          "metadata": {},
          "execution_count": 99
        }
      ]
    },
    {
      "cell_type": "code",
      "source": [
        "brightkite_our_mean = {}\n",
        "for key in brightkite_our_metrics.keys():\n",
        "  brightkite_our_mean[key] = np.array(brightkite_our_metrics[key]).mean()"
      ],
      "metadata": {
        "id": "Whr8zNTl9ZQ-"
      },
      "execution_count": null,
      "outputs": []
    },
    {
      "cell_type": "code",
      "source": [
        "brightkite_our_mean"
      ],
      "metadata": {
        "colab": {
          "base_uri": "https://localhost:8080/"
        },
        "id": "GzZ22Wfi9vmY",
        "outputId": "5acf262b-dddd-4730-e3c0-ab142513a94b"
      },
      "execution_count": null,
      "outputs": [
        {
          "output_type": "execute_result",
          "data": {
            "text/plain": [
              "{'hits@1': 0.7959107000000001,\n",
              " 'hits@5': 0.9114031,\n",
              " 'hits@10': 0.9309057999999999,\n",
              " 'hits@20': 0.9489107999999999,\n",
              " 'hits@50': 0.9745323999999999,\n",
              " 'hits@100': 0.9902913,\n",
              " 'map@1': 0.7959107000000001,\n",
              " 'map@5': 0.8448369,\n",
              " 'map@10': 0.8474556000000002,\n",
              " 'map@20': 0.848704,\n",
              " 'map@50': 0.8495263,\n",
              " 'map@100': 0.8497548,\n",
              " 'ndcg@1': 0.7959107000000001,\n",
              " 'ndcg@5': 0.8617408999999998,\n",
              " 'ndcg@10': 0.8680635999999999,\n",
              " 'ndcg@20': 0.872615,\n",
              " 'ndcg@50': 0.8777090999999999,\n",
              " 'ndcg@100': 0.8802741000000001}"
            ]
          },
          "metadata": {},
          "execution_count": 101
        }
      ]
    },
    {
      "cell_type": "code",
      "source": [
        "brightkite_rnn_baseline = read_file('rnn_baseline_training.txt')"
      ],
      "metadata": {
        "id": "UIUD6Evj917x"
      },
      "execution_count": null,
      "outputs": []
    },
    {
      "cell_type": "code",
      "source": [
        "brightkite_rnn_baseline['hits@1']"
      ],
      "metadata": {
        "colab": {
          "base_uri": "https://localhost:8080/"
        },
        "id": "Ie4aYH9R9-B-",
        "outputId": "d533b856-9ab3-49f4-c3d7-25a843792262"
      },
      "execution_count": null,
      "outputs": [
        {
          "output_type": "execute_result",
          "data": {
            "text/plain": [
              "[0.781078,\n",
              " 0.77793,\n",
              " 0.779333,\n",
              " 0.774036,\n",
              " 0.781882,\n",
              " 0.777833,\n",
              " 0.790603,\n",
              " 0.780273,\n",
              " 0.779474,\n",
              " 0.783515]"
            ]
          },
          "metadata": {},
          "execution_count": 103
        }
      ]
    },
    {
      "cell_type": "code",
      "source": [
        "brightkite_rnn_mean = {}\n",
        "for key in brightkite_rnn_baseline.keys():\n",
        "  brightkite_rnn_mean[key] = np.array(brightkite_rnn_baseline[key]).mean()"
      ],
      "metadata": {
        "id": "TluUGbri-FuE"
      },
      "execution_count": null,
      "outputs": []
    },
    {
      "cell_type": "code",
      "source": [
        "brightkite_rnn_mean"
      ],
      "metadata": {
        "colab": {
          "base_uri": "https://localhost:8080/"
        },
        "id": "RFZ4HNoc-XCC",
        "outputId": "fc78f2a0-7617-43d0-dd5c-7ba946a88fc1"
      },
      "execution_count": null,
      "outputs": [
        {
          "output_type": "execute_result",
          "data": {
            "text/plain": [
              "{'hits@1': 0.7805956999999999,\n",
              " 'hits@5': 0.8994695,\n",
              " 'hits@10': 0.9208386,\n",
              " 'hits@20': 0.9409391999999999,\n",
              " 'hits@50': 0.9698815,\n",
              " 'hits@100': 0.9880154999999998,\n",
              " 'map@1': 0.7805956999999999,\n",
              " 'map@5': 0.8305894,\n",
              " 'map@10': 0.8334531000000002,\n",
              " 'map@20': 0.8348359000000001,\n",
              " 'map@50': 0.8357667000000001,\n",
              " 'map@100': 0.8360302000000001,\n",
              " 'ndcg@1': 0.7805956999999999,\n",
              " 'ndcg@5': 0.8480622,\n",
              " 'ndcg@10': 0.854984,\n",
              " 'ndcg@20': 0.8600515,\n",
              " 'ndcg@50': 0.8658093000000001,\n",
              " 'ndcg@100': 0.8687627000000001}"
            ]
          },
          "metadata": {},
          "execution_count": 105
        }
      ]
    },
    {
      "cell_type": "code",
      "source": [
        "brightkite_random_embedding_add = read_file('random_embedding_add_training.txt')"
      ],
      "metadata": {
        "id": "7r94WnhH-2Hu"
      },
      "execution_count": null,
      "outputs": []
    },
    {
      "cell_type": "code",
      "source": [
        "brightkite_random_embedding_add['hits@1']"
      ],
      "metadata": {
        "colab": {
          "base_uri": "https://localhost:8080/"
        },
        "id": "MT9FCFUK-59X",
        "outputId": "43b74968-e618-4901-da3d-41155faae9bf"
      },
      "execution_count": null,
      "outputs": [
        {
          "output_type": "execute_result",
          "data": {
            "text/plain": [
              "[0.772189,\n",
              " 0.7652,\n",
              " 0.765499,\n",
              " 0.773537,\n",
              " 0.77109,\n",
              " 0.764301,\n",
              " 0.77013,\n",
              " 0.772782,\n",
              " 0.763705,\n",
              " 0.765003]"
            ]
          },
          "metadata": {},
          "execution_count": 107
        }
      ]
    },
    {
      "cell_type": "code",
      "source": [
        "brightkite_random_embedding_mean = {}\n",
        "for key in brightkite_random_embedding_add.keys():\n",
        "  brightkite_random_embedding_mean[key] = np.array(brightkite_random_embedding_add[key]).mean()"
      ],
      "metadata": {
        "id": "9ZyS-VS1_dH8"
      },
      "execution_count": null,
      "outputs": []
    },
    {
      "cell_type": "code",
      "source": [
        "brightkite_random_embedding_mean"
      ],
      "metadata": {
        "colab": {
          "base_uri": "https://localhost:8080/"
        },
        "id": "7nCD2HSi_lwA",
        "outputId": "65626e1e-f804-46f6-9e0f-413885e87956"
      },
      "execution_count": null,
      "outputs": [
        {
          "output_type": "execute_result",
          "data": {
            "text/plain": [
              "{'hits@1': 0.7683436,\n",
              " 'hits@5': 0.8926076999999999,\n",
              " 'hits@10': 0.9158027000000001,\n",
              " 'hits@20': 0.9382640999999999,\n",
              " 'hits@50': 0.9678501,\n",
              " 'hits@100': 0.9880859000000001,\n",
              " 'map@1': 0.7683436,\n",
              " 'map@5': 0.8202934,\n",
              " 'map@10': 0.8234047,\n",
              " 'map@20': 0.8249711999999999,\n",
              " 'map@50': 0.8259286000000001,\n",
              " 'map@100': 0.8262195999999999,\n",
              " 'ndcg@1': 0.7683436,\n",
              " 'ndcg@5': 0.8386174000000001,\n",
              " 'ndcg@10': 0.8461337,\n",
              " 'ndcg@20': 0.8518222999999999,\n",
              " 'ndcg@50': 0.8577185999999999,\n",
              " 'ndcg@100': 0.8610056}"
            ]
          },
          "metadata": {},
          "execution_count": 109
        }
      ]
    },
    {
      "cell_type": "code",
      "source": [
        "hits1 = np.array(brightkite_our_metrics['hits@1'])\n",
        "hits2 = np.array(brightkite_rnn_baseline['hits@1'])\n",
        "hits3 = np.array(brightkite_random_embedding_add['hits@1'])"
      ],
      "metadata": {
        "id": "zboFx0TbVEqt"
      },
      "execution_count": null,
      "outputs": []
    },
    {
      "cell_type": "code",
      "source": [
        "shapiro(hits1)"
      ],
      "metadata": {
        "colab": {
          "base_uri": "https://localhost:8080/"
        },
        "id": "ORY4spioh63l",
        "outputId": "a77952ef-b844-4155-cb7c-6f2b764cdcc0"
      },
      "execution_count": null,
      "outputs": [
        {
          "output_type": "execute_result",
          "data": {
            "text/plain": [
              "ShapiroResult(statistic=0.9878858327865601, pvalue=0.9935163855552673)"
            ]
          },
          "metadata": {},
          "execution_count": 111
        }
      ]
    },
    {
      "cell_type": "code",
      "source": [
        "shapiro(hits2)"
      ],
      "metadata": {
        "colab": {
          "base_uri": "https://localhost:8080/"
        },
        "id": "vzgJCps6h-Ef",
        "outputId": "7592400d-e0de-4a3e-828b-a1fbaf90db0b"
      },
      "execution_count": null,
      "outputs": [
        {
          "output_type": "execute_result",
          "data": {
            "text/plain": [
              "ShapiroResult(statistic=0.9074868559837341, pvalue=0.2641708552837372)"
            ]
          },
          "metadata": {},
          "execution_count": 112
        }
      ]
    },
    {
      "cell_type": "code",
      "source": [
        "shapiro(hits3)"
      ],
      "metadata": {
        "colab": {
          "base_uri": "https://localhost:8080/"
        },
        "id": "ADPXDHh9iBQz",
        "outputId": "2f11b147-3445-44d3-da71-7cfe34de9532"
      },
      "execution_count": null,
      "outputs": [
        {
          "output_type": "execute_result",
          "data": {
            "text/plain": [
              "ShapiroResult(statistic=0.850477933883667, pvalue=0.058854617178440094)"
            ]
          },
          "metadata": {},
          "execution_count": 113
        }
      ]
    },
    {
      "cell_type": "code",
      "source": [
        "levene(hits1, hits2)"
      ],
      "metadata": {
        "colab": {
          "base_uri": "https://localhost:8080/"
        },
        "id": "J2bQtIWLiGYO",
        "outputId": "a6cf7fc4-871b-44ec-dbe7-88d7e38e138c"
      },
      "execution_count": null,
      "outputs": [
        {
          "output_type": "execute_result",
          "data": {
            "text/plain": [
              "LeveneResult(statistic=3.9518934663349485, pvalue=0.06224696468970337)"
            ]
          },
          "metadata": {},
          "execution_count": 114
        }
      ]
    },
    {
      "cell_type": "code",
      "source": [
        "levene(hits1, hits3)"
      ],
      "metadata": {
        "colab": {
          "base_uri": "https://localhost:8080/"
        },
        "id": "cJL00wJtiMFF",
        "outputId": "07babcf1-a5c5-4926-d085-7e95f1788785"
      },
      "execution_count": null,
      "outputs": [
        {
          "output_type": "execute_result",
          "data": {
            "text/plain": [
              "LeveneResult(statistic=43.64645708033167, pvalue=3.333951606144484e-06)"
            ]
          },
          "metadata": {},
          "execution_count": 115
        }
      ]
    },
    {
      "cell_type": "code",
      "source": [
        "ttest_ind(hits1, hits2, equal_var = True)"
      ],
      "metadata": {
        "colab": {
          "base_uri": "https://localhost:8080/"
        },
        "id": "QGZ45PJiVmNA",
        "outputId": "7a66d1aa-c9f5-4f5b-ea35-d0315e0f4cd2"
      },
      "execution_count": null,
      "outputs": [
        {
          "output_type": "execute_result",
          "data": {
            "text/plain": [
              "TtestResult(statistic=10.780413905537655, pvalue=2.775954209222938e-09, df=18.0)"
            ]
          },
          "metadata": {},
          "execution_count": 117
        }
      ]
    },
    {
      "cell_type": "code",
      "source": [
        "ttest_ind(hits1, hits3, equal_var = False)"
      ],
      "metadata": {
        "colab": {
          "base_uri": "https://localhost:8080/"
        },
        "id": "JERwVi2WVqTV",
        "outputId": "d0664262-8877-4098-bfa2-7960133f8993"
      },
      "execution_count": null,
      "outputs": [
        {
          "output_type": "execute_result",
          "data": {
            "text/plain": [
              "TtestResult(statistic=21.38607559482434, pvalue=6.833178764847292e-10, df=10.332054117118455)"
            ]
          },
          "metadata": {},
          "execution_count": 118
        }
      ]
    },
    {
      "cell_type": "code",
      "source": [
        "ttest_ind(hits2, hits3)"
      ],
      "metadata": {
        "colab": {
          "base_uri": "https://localhost:8080/"
        },
        "id": "lLfWOe5AVuBu",
        "outputId": "e61f4261-7fe1-45dd-9875-29ff466ef846"
      },
      "execution_count": null,
      "outputs": [
        {
          "output_type": "execute_result",
          "data": {
            "text/plain": [
              "TtestResult(statistic=6.596679893557194, pvalue=3.399326791566768e-06, df=18.0)"
            ]
          },
          "metadata": {},
          "execution_count": 55
        }
      ]
    },
    {
      "cell_type": "markdown",
      "source": [
        "# Big Gowalla Statistical tests"
      ],
      "metadata": {
        "id": "UO5Vkm1Mey7a"
      }
    },
    {
      "cell_type": "code",
      "source": [
        "big_gowalla_our_metrics = read_file('more_classes_gowalla_link_prediction_rnn_graph_training.txt')"
      ],
      "metadata": {
        "id": "-eCGUIp7DhpV"
      },
      "execution_count": null,
      "outputs": []
    },
    {
      "cell_type": "code",
      "source": [
        "big_gowalla_our_metrics['hits@1']"
      ],
      "metadata": {
        "colab": {
          "base_uri": "https://localhost:8080/"
        },
        "outputId": "03aa8daa-5e22-484e-9644-852bc6143e1d",
        "id": "3oZyQKShDhpV"
      },
      "execution_count": null,
      "outputs": [
        {
          "output_type": "execute_result",
          "data": {
            "text/plain": [
              "[0.568695,\n",
              " 0.572033,\n",
              " 0.572424,\n",
              " 0.569931,\n",
              " 0.56979,\n",
              " 0.565276,\n",
              " 0.570439,\n",
              " 0.568383,\n",
              " 0.566149,\n",
              " 0.570888]"
            ]
          },
          "metadata": {},
          "execution_count": 57
        }
      ]
    },
    {
      "cell_type": "code",
      "source": [
        "big_gowalla_our_mean = {}\n",
        "for key in big_gowalla_our_metrics.keys():\n",
        "  big_gowalla_our_mean[key] = np.array(big_gowalla_our_metrics[key]).mean()"
      ],
      "metadata": {
        "id": "2UwGYrMhDhpV"
      },
      "execution_count": null,
      "outputs": []
    },
    {
      "cell_type": "code",
      "source": [
        "big_gowalla_our_mean"
      ],
      "metadata": {
        "colab": {
          "base_uri": "https://localhost:8080/"
        },
        "outputId": "2b921b4a-dc8a-446d-ca71-c6dec80e9705",
        "id": "-Co024XVDhpV"
      },
      "execution_count": null,
      "outputs": [
        {
          "output_type": "execute_result",
          "data": {
            "text/plain": [
              "{'hits@1': 0.5694008000000002,\n",
              " 'hits@5': 0.7506321,\n",
              " 'hits@10': 0.7930062,\n",
              " 'hits@20': 0.8295625,\n",
              " 'hits@50': 0.8651414,\n",
              " 'hits@100': 0.8881815,\n",
              " 'map@1': 0.5694008000000002,\n",
              " 'map@5': 0.6423226,\n",
              " 'map@10': 0.6480466999999999,\n",
              " 'map@20': 0.65062,\n",
              " 'map@50': 0.6517925,\n",
              " 'map@100': 0.6521235,\n",
              " 'ndcg@1': 0.5694008000000002,\n",
              " 'ndcg@5': 0.6696144000000002,\n",
              " 'ndcg@10': 0.6833861,\n",
              " 'ndcg@20': 0.6926742,\n",
              " 'ndcg@50': 0.6998024,\n",
              " 'ndcg@100': 0.7035438}"
            ]
          },
          "metadata": {},
          "execution_count": 59
        }
      ]
    },
    {
      "cell_type": "code",
      "source": [
        "big_gowalla_rnn_baseline = read_file('more_classes_gowalla_rnn_baseline_training.txt')"
      ],
      "metadata": {
        "id": "25Rh7Jh8FLQc"
      },
      "execution_count": null,
      "outputs": []
    },
    {
      "cell_type": "code",
      "source": [
        "big_gowalla_rnn_baseline['hits@1']"
      ],
      "metadata": {
        "colab": {
          "base_uri": "https://localhost:8080/"
        },
        "outputId": "6626233e-724a-46f0-8b56-739eea32ea2d",
        "id": "1Cx-dwBHFLQc"
      },
      "execution_count": null,
      "outputs": [
        {
          "output_type": "execute_result",
          "data": {
            "text/plain": [
              "[0.554908,\n",
              " 0.555104,\n",
              " 0.553753,\n",
              " 0.551622,\n",
              " 0.554911,\n",
              " 0.551713,\n",
              " 0.554312,\n",
              " 0.555616,\n",
              " 0.553179,\n",
              " 0.5537]"
            ]
          },
          "metadata": {},
          "execution_count": 61
        }
      ]
    },
    {
      "cell_type": "code",
      "source": [
        "big_gowalla_rnn_mean = {}\n",
        "for key in big_gowalla_rnn_baseline.keys():\n",
        "  big_gowalla_rnn_mean[key] = np.array(big_gowalla_rnn_baseline[key]).mean()"
      ],
      "metadata": {
        "id": "csIGQ3BFFLQc"
      },
      "execution_count": null,
      "outputs": []
    },
    {
      "cell_type": "code",
      "source": [
        "big_gowalla_rnn_mean"
      ],
      "metadata": {
        "colab": {
          "base_uri": "https://localhost:8080/"
        },
        "outputId": "6e1e017e-58e5-4c09-d43f-6d96def5d16a",
        "id": "oiwANPa0FLQc"
      },
      "execution_count": null,
      "outputs": [
        {
          "output_type": "execute_result",
          "data": {
            "text/plain": [
              "{'hits@1': 0.5538818,\n",
              " 'hits@5': 0.728897,\n",
              " 'hits@10': 0.7734269,\n",
              " 'hits@20': 0.8130603000000001,\n",
              " 'hits@50': 0.8538333,\n",
              " 'hits@100': 0.879785,\n",
              " 'map@1': 0.5538818,\n",
              " 'map@5': 0.6239186999999999,\n",
              " 'map@10': 0.6299256000000001,\n",
              " 'map@20': 0.6326962,\n",
              " 'map@50': 0.6340418999999999,\n",
              " 'map@100': 0.6344136,\n",
              " 'ndcg@1': 0.5538818,\n",
              " 'ndcg@5': 0.6503525,\n",
              " 'ndcg@10': 0.6648167,\n",
              " 'ndcg@20': 0.6748624,\n",
              " 'ndcg@50': 0.6830346,\n",
              " 'ndcg@100': 0.6872456}"
            ]
          },
          "metadata": {},
          "execution_count": 63
        }
      ]
    },
    {
      "cell_type": "code",
      "source": [
        "big_gowalla_random_embedding_add = read_file('more_classes_gowalla_random_embedding_add.txt')"
      ],
      "metadata": {
        "id": "bWTyjdilF00f"
      },
      "execution_count": null,
      "outputs": []
    },
    {
      "cell_type": "code",
      "source": [
        "big_gowalla_random_embedding_add['hits@1']"
      ],
      "metadata": {
        "colab": {
          "base_uri": "https://localhost:8080/"
        },
        "outputId": "4ca1c8ab-f1f5-445c-c809-6159a7020ed5",
        "id": "p7ZBNJpsF00f"
      },
      "execution_count": null,
      "outputs": [
        {
          "output_type": "execute_result",
          "data": {
            "text/plain": [
              "[0.557248,\n",
              " 0.557357,\n",
              " 0.56014,\n",
              " 0.559891,\n",
              " 0.557812,\n",
              " 0.557844,\n",
              " 0.55585,\n",
              " 0.558311,\n",
              " 0.559239,\n",
              " 0.55615]"
            ]
          },
          "metadata": {},
          "execution_count": 65
        }
      ]
    },
    {
      "cell_type": "code",
      "source": [
        "big_gowalla_random_embedding_mean = {}\n",
        "for key in big_gowalla_random_embedding_add.keys():\n",
        "  big_gowalla_random_embedding_mean[key] = np.array(big_gowalla_random_embedding_add[key]).mean()"
      ],
      "metadata": {
        "id": "JdNAKbuLF00f"
      },
      "execution_count": null,
      "outputs": []
    },
    {
      "cell_type": "code",
      "source": [
        "big_gowalla_random_embedding_mean"
      ],
      "metadata": {
        "colab": {
          "base_uri": "https://localhost:8080/"
        },
        "outputId": "97ab183b-f067-4296-b00f-188e01643906",
        "id": "pWtIvAxRF00f"
      },
      "execution_count": null,
      "outputs": [
        {
          "output_type": "execute_result",
          "data": {
            "text/plain": [
              "{'hits@1': 0.5579841999999999,\n",
              " 'hits@5': 0.7371231,\n",
              " 'hits@10': 0.7796054000000001,\n",
              " 'hits@20': 0.8196623000000001,\n",
              " 'hits@50': 0.8615207,\n",
              " 'hits@100': 0.8885894999999999,\n",
              " 'map@1': 0.5579841999999999,\n",
              " 'map@5': 0.6299033,\n",
              " 'map@10': 0.6355987,\n",
              " 'map@20': 0.6383955,\n",
              " 'map@50': 0.6397673,\n",
              " 'map@100': 0.6401571,\n",
              " 'ndcg@1': 0.5579841999999999,\n",
              " 'ndcg@5': 0.6569095,\n",
              " 'ndcg@10': 0.6706732,\n",
              " 'ndcg@20': 0.6808215000000001,\n",
              " 'ndcg@50': 0.6891943,\n",
              " 'ndcg@100': 0.6935928}"
            ]
          },
          "metadata": {},
          "execution_count": 67
        }
      ]
    },
    {
      "cell_type": "code",
      "source": [
        "hits1 = np.array(big_gowalla_our_metrics['hits@1'])\n",
        "hits2 = np.array(big_gowalla_rnn_baseline['hits@1'])\n",
        "hits3 = np.array(big_gowalla_random_embedding_add['hits@1'])"
      ],
      "metadata": {
        "id": "YJ89IXEMDhpW"
      },
      "execution_count": null,
      "outputs": []
    },
    {
      "cell_type": "code",
      "source": [
        "ttest_ind(hits1, hits2)"
      ],
      "metadata": {
        "colab": {
          "base_uri": "https://localhost:8080/"
        },
        "outputId": "5d96832c-d86b-44cd-c426-d80452c6dd32",
        "id": "i1ykCHMyDhpW"
      },
      "execution_count": null,
      "outputs": [
        {
          "output_type": "execute_result",
          "data": {
            "text/plain": [
              "TtestResult(statistic=18.11333377429737, pvalue=5.289414739455625e-13, df=18.0)"
            ]
          },
          "metadata": {},
          "execution_count": 69
        }
      ]
    },
    {
      "cell_type": "code",
      "source": [
        "ttest_ind(hits1, hits3)"
      ],
      "metadata": {
        "colab": {
          "base_uri": "https://localhost:8080/"
        },
        "outputId": "324955a6-5497-4175-86e1-21a2512f6194",
        "id": "OvODNM6iDhpW"
      },
      "execution_count": null,
      "outputs": [
        {
          "output_type": "execute_result",
          "data": {
            "text/plain": [
              "TtestResult(statistic=13.155386764118198, pvalue=1.133357302604098e-10, df=18.0)"
            ]
          },
          "metadata": {},
          "execution_count": 70
        }
      ]
    },
    {
      "cell_type": "code",
      "source": [
        "ttest_ind(hits2, hits3)"
      ],
      "metadata": {
        "colab": {
          "base_uri": "https://localhost:8080/"
        },
        "outputId": "acb0bff9-e408-41f3-e0a1-c3c4745950f1",
        "id": "wAG1D98zDhpW"
      },
      "execution_count": null,
      "outputs": [
        {
          "output_type": "execute_result",
          "data": {
            "text/plain": [
              "TtestResult(statistic=-6.484568269961519, pvalue=4.2425054864766545e-06, df=18.0)"
            ]
          },
          "metadata": {},
          "execution_count": 71
        }
      ]
    },
    {
      "cell_type": "markdown",
      "source": [
        "# Linear layer training graphics construction"
      ],
      "metadata": {
        "id": "q98urcrvfBzQ"
      }
    },
    {
      "cell_type": "code",
      "source": [
        "f = open('linear_layer_target_training_3883.txt')\n",
        "strings = f.readlines()\n",
        "losses = []\n",
        "test_hits1 = []\n",
        "for string in strings:\n",
        "  metrics = string.split(' ')\n",
        "  loss = float(metrics[3])\n",
        "  hits1 = float(metrics[5])\n",
        "  losses.append(loss)\n",
        "  test_hits1.append(hits1)"
      ],
      "metadata": {
        "id": "Z_TiQlwZ9lXR"
      },
      "execution_count": null,
      "outputs": []
    },
    {
      "cell_type": "code",
      "source": [
        "import matplotlib.pyplot as plt\n",
        "plt.style.use('ggplot')\n",
        "plt.title('Validation hits@1 metric change during training')\n",
        "plt.xlabel('Epoch')\n",
        "plt.ylabel('Val hits@1')\n",
        "plt.plot(test_hits1)"
      ],
      "metadata": {
        "colab": {
          "base_uri": "https://localhost:8080/",
          "height": 494
        },
        "id": "Ys344tqZ_R0a",
        "outputId": "5826c6f5-7329-48b8-cb54-ec692d8c80f7"
      },
      "execution_count": null,
      "outputs": [
        {
          "output_type": "execute_result",
          "data": {
            "text/plain": [
              "[<matplotlib.lines.Line2D at 0x788011ab6d70>]"
            ]
          },
          "metadata": {},
          "execution_count": 14
        },
        {
          "output_type": "display_data",
          "data": {
            "text/plain": [
              "<Figure size 640x480 with 1 Axes>"
            ],
            "image/png": "[encoded data removed]"
          },
          "metadata": {}
        }
      ]
    },
    {
      "cell_type": "code",
      "source": [
        "plt.style.use('ggplot')\n",
        "plt.title('Loss history change during training')\n",
        "plt.xlabel('Epoch')\n",
        "plt.ylabel('Loss')\n",
        "plt.plot(losses)"
      ],
      "metadata": {
        "colab": {
          "base_uri": "https://localhost:8080/",
          "height": 494
        },
        "id": "IJn5HP___jaF",
        "outputId": "a39c6c78-5dd5-4fc6-c347-8eec93fc9b98"
      },
      "execution_count": null,
      "outputs": [
        {
          "output_type": "execute_result",
          "data": {
            "text/plain": [
              "[<matplotlib.lines.Line2D at 0x788011ae8b20>]"
            ]
          },
          "metadata": {},
          "execution_count": 15
        },
        {
          "output_type": "display_data",
          "data": {
            "text/plain": [
              "<Figure size 640x480 with 1 Axes>"
            ],
            "image/png": "[encoded data removed]"
          },
          "metadata": {}
        }
      ]
    }
  ]
}