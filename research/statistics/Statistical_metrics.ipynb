{
 "cells": [
  {
   "cell_type": "code",
   "execution_count": 1,
   "metadata": {
    "execution": {
     "iopub.execute_input": "2024-05-15T11:29:30.772407Z",
     "iopub.status.busy": "2024-05-15T11:29:30.771537Z",
     "iopub.status.idle": "2024-05-15T11:29:30.854129Z",
     "shell.execute_reply": "2024-05-15T11:29:30.853299Z",
     "shell.execute_reply.started": "2024-05-15T11:29:30.772351Z"
    },
    "id": "z1JuLhd11ALU",
    "tags": []
   },
   "outputs": [],
   "source": [
    "import numpy as np\n",
    "import matplotlib.pyplot as plt\n",
    "from scipy.stats import shapiro\n",
    "from scipy.stats import ttest_ind"
   ]
  },
  {
   "cell_type": "code",
   "execution_count": 2,
   "metadata": {
    "execution": {
     "iopub.execute_input": "2024-05-15T11:29:31.232206Z",
     "iopub.status.busy": "2024-05-15T11:29:31.231708Z",
     "iopub.status.idle": "2024-05-15T11:29:31.263187Z",
     "shell.execute_reply": "2024-05-15T11:29:31.262414Z",
     "shell.execute_reply.started": "2024-05-15T11:29:31.232167Z"
    },
    "id": "yDP48dxztLAs",
    "tags": []
   },
   "outputs": [],
   "source": [
    "def read_file(filename):\n",
    "  metrics_dict = {}\n",
    "  f = open(filename)\n",
    "  strings = f.readlines()\n",
    "  for string in strings:\n",
    "    if string[0:3] != 'Try':\n",
    "      metrics = string.split(', ')\n",
    "      for metric in metrics:\n",
    "        print(metric)\n",
    "        name, value = metric.split(': ')\n",
    "        if name not in metrics_dict.keys():\n",
    "          metrics_dict[name] = []\n",
    "        metrics_dict[name].append(float(value))\n",
    "  return metrics_dict"
   ]
  },
  {
   "cell_type": "code",
   "execution_count": null,
   "metadata": {
    "id": "-NgLDbvLy4Rg"
   },
   "outputs": [],
   "source": [
    "gowalla_our_metrics = read_file('gowalla_linkprediction_rnn_graph_target_training.txt')"
   ]
  },
  {
   "cell_type": "code",
   "execution_count": null,
   "metadata": {
    "colab": {
     "base_uri": "https://localhost:8080/"
    },
    "id": "HqiO6eJmzCh6",
    "outputId": "7d008c1f-cc96-4510-a77d-b727eda5d1b5"
   },
   "outputs": [
    {
     "data": {
      "text/plain": [
       "[0.794247,\n",
       " 0.791208,\n",
       " 0.793804,\n",
       " 0.793296,\n",
       " 0.794347,\n",
       " 0.7925,\n",
       " 0.792709,\n",
       " 0.794482,\n",
       " 0.7945,\n",
       " 0.793798]"
      ]
     },
     "execution_count": 25,
     "metadata": {},
     "output_type": "execute_result"
    }
   ],
   "source": [
    "gowalla_our_metrics['hits@1']"
   ]
  },
  {
   "cell_type": "code",
   "execution_count": null,
   "metadata": {
    "id": "O3WH4ME90qW0"
   },
   "outputs": [],
   "source": [
    "gowalla_our_mean = {}\n",
    "for key in gowalla_our_metrics.keys():\n",
    "  gowalla_our_mean[key] = np.array(gowalla_our_metrics[key]).mean()"
   ]
  },
  {
   "cell_type": "code",
   "execution_count": null,
   "metadata": {
    "colab": {
     "base_uri": "https://localhost:8080/"
    },
    "id": "Ks_psWWe1ECZ",
    "outputId": "c0d96515-7388-4d83-84b5-24d59b286ff1"
   },
   "outputs": [
    {
     "data": {
      "text/plain": [
       "{'hits@1': 0.7934891000000001,\n",
       " 'hits@5': 0.9195692,\n",
       " 'hits@10': 0.9407343999999999,\n",
       " 'hits@20': 0.960477,\n",
       " 'hits@50': 0.9844611000000001,\n",
       " 'hits@100': 0.9959322,\n",
       " 'map@1': 0.7934891000000001,\n",
       " 'map@5': 0.846951,\n",
       " 'map@10': 0.8498156,\n",
       " 'map@20': 0.8511894,\n",
       " 'map@50': 0.851975,\n",
       " 'map@100': 0.8521474,\n",
       " 'ndcg@1': 0.7934891000000001,\n",
       " 'ndcg@5': 0.8653972,\n",
       " 'ndcg@10': 0.8722816,\n",
       " 'ndcg@20': 0.8772777999999999,\n",
       " 'ndcg@50': 0.8820748,\n",
       " 'ndcg@100': 0.8839578000000001}"
      ]
     },
     "execution_count": 27,
     "metadata": {},
     "output_type": "execute_result"
    }
   ],
   "source": [
    "gowalla_our_mean"
   ]
  },
  {
   "cell_type": "code",
   "execution_count": null,
   "metadata": {
    "id": "lHMrkIexzenM"
   },
   "outputs": [],
   "source": [
    "gowalla_rnn_baseline = read_file('gowalla_rnn_baseline_training.txt')"
   ]
  },
  {
   "cell_type": "code",
   "execution_count": null,
   "metadata": {
    "colab": {
     "base_uri": "https://localhost:8080/"
    },
    "id": "ILv8zTYIzo7i",
    "outputId": "61e40d8e-26fe-4f29-e94a-32639eec51ec"
   },
   "outputs": [
    {
     "data": {
      "text/plain": [
       "[0.780919,\n",
       " 0.781221,\n",
       " 0.785814,\n",
       " 0.781861,\n",
       " 0.777683,\n",
       " 0.775131,\n",
       " 0.775046,\n",
       " 0.783227,\n",
       " 0.781926,\n",
       " 0.781327]"
      ]
     },
     "execution_count": 29,
     "metadata": {},
     "output_type": "execute_result"
    }
   ],
   "source": [
    "gowalla_rnn_baseline['hits@1']"
   ]
  },
  {
   "cell_type": "code",
   "execution_count": null,
   "metadata": {
    "id": "i11It34f1SUx"
   },
   "outputs": [],
   "source": [
    "gowalla_rnn_mean = {}\n",
    "for key in gowalla_rnn_baseline.keys():\n",
    "  gowalla_rnn_mean[key] = np.array(gowalla_rnn_baseline[key]).mean()"
   ]
  },
  {
   "cell_type": "code",
   "execution_count": null,
   "metadata": {
    "colab": {
     "base_uri": "https://localhost:8080/"
    },
    "id": "-bhQNJbM1eiW",
    "outputId": "0f66df4e-ca4d-422f-abb8-7cf460650865"
   },
   "outputs": [
    {
     "data": {
      "text/plain": [
       "{'hits@1': 0.7804155,\n",
       " 'hits@5': 0.9087965,\n",
       " 'hits@10': 0.9329052000000001,\n",
       " 'hits@20': 0.9550266000000001,\n",
       " 'hits@50': 0.9826595999999999,\n",
       " 'hits@100': 0.9947485,\n",
       " 'map@1': 0.7804155,\n",
       " 'map@5': 0.8344765000000001,\n",
       " 'map@10': 0.8377330000000001,\n",
       " 'map@20': 0.8392740999999999,\n",
       " 'map@50': 0.8401848000000001,\n",
       " 'map@100': 0.8403653999999999,\n",
       " 'ndcg@1': 0.7804155,\n",
       " 'ndcg@5': 0.8533332999999999,\n",
       " 'ndcg@10': 0.8611683999999998,\n",
       " 'ndcg@20': 0.8667683,\n",
       " 'ndcg@50': 0.8723053999999999,\n",
       " 'ndcg@100': 0.8742871000000001}"
      ]
     },
     "execution_count": 31,
     "metadata": {},
     "output_type": "execute_result"
    }
   ],
   "source": [
    "gowalla_rnn_mean"
   ]
  },
  {
   "cell_type": "code",
   "execution_count": null,
   "metadata": {
    "id": "u7pjKoH5zyhp"
   },
   "outputs": [],
   "source": [
    "gowalla_random_embedding_add = read_file('gowalla_random_embedding_add_training.txt')"
   ]
  },
  {
   "cell_type": "code",
   "execution_count": null,
   "metadata": {
    "colab": {
     "base_uri": "https://localhost:8080/"
    },
    "id": "ZweMHT4N0D3c",
    "outputId": "94fd4742-1406-44ae-f1e7-2ba32496a84a"
   },
   "outputs": [
    {
     "data": {
      "text/plain": [
       "[0.766492,\n",
       " 0.767493,\n",
       " 0.763796,\n",
       " 0.76959,\n",
       " 0.770685,\n",
       " 0.762014,\n",
       " 0.768941,\n",
       " 0.770292,\n",
       " 0.769874,\n",
       " 0.763643]"
      ]
     },
     "execution_count": 33,
     "metadata": {},
     "output_type": "execute_result"
    }
   ],
   "source": [
    "gowalla_random_embedding_add['hits@1']"
   ]
  },
  {
   "cell_type": "code",
   "execution_count": null,
   "metadata": {
    "id": "MOX9EgVE1qmI"
   },
   "outputs": [],
   "source": [
    "gowalla_random_embedding_mean = {}\n",
    "for key in gowalla_random_embedding_add.keys():\n",
    "  gowalla_random_embedding_mean[key] = np.array(gowalla_random_embedding_add[key]).mean()"
   ]
  },
  {
   "cell_type": "code",
   "execution_count": null,
   "metadata": {
    "colab": {
     "base_uri": "https://localhost:8080/"
    },
    "id": "QeOeVuMW18e3",
    "outputId": "75213245-c825-46ca-bcbc-9b6bc31b77be"
   },
   "outputs": [
    {
     "data": {
      "text/plain": [
       "{'hits@1': 0.767282,\n",
       " 'hits@5': 0.9019067,\n",
       " 'hits@10': 0.9295981,\n",
       " 'hits@20': 0.9525737,\n",
       " 'hits@50': 0.9800389999999999,\n",
       " 'hits@100': 0.9945639999999999,\n",
       " 'map@1': 0.767282,\n",
       " 'map@5': 0.8234284000000001,\n",
       " 'map@10': 0.8271685999999999,\n",
       " 'map@20': 0.8287751,\n",
       " 'map@50': 0.8296712999999999,\n",
       " 'map@100': 0.8298851,\n",
       " 'ndcg@1': 0.767282,\n",
       " 'ndcg@5': 0.843309,\n",
       " 'ndcg@10': 0.8523084000000001,\n",
       " 'ndcg@20': 0.8581327999999999,\n",
       " 'ndcg@50': 0.8636199,\n",
       " 'ndcg@100': 0.8659925999999999}"
      ]
     },
     "execution_count": 35,
     "metadata": {},
     "output_type": "execute_result"
    }
   ],
   "source": [
    "gowalla_random_embedding_mean"
   ]
  },
  {
   "cell_type": "code",
   "execution_count": null,
   "metadata": {
    "id": "PCYq8Cz19Isv"
   },
   "outputs": [],
   "source": [
    "brightkite_our_metrics = read_file('link_prediction_rnn_graph_target_training.txt')"
   ]
  },
  {
   "cell_type": "code",
   "execution_count": null,
   "metadata": {
    "colab": {
     "base_uri": "https://localhost:8080/"
    },
    "id": "yyRvw1V19TlO",
    "outputId": "ce63d615-65fc-405c-89e4-0cf5a306e03e"
   },
   "outputs": [
    {
     "data": {
      "text/plain": [
       "[0.796934,\n",
       " 0.795539,\n",
       " 0.795055,\n",
       " 0.795049,\n",
       " 0.796538,\n",
       " 0.795892,\n",
       " 0.796441,\n",
       " 0.797754,\n",
       " 0.794007,\n",
       " 0.795898]"
      ]
     },
     "execution_count": 41,
     "metadata": {},
     "output_type": "execute_result"
    }
   ],
   "source": [
    "brightkite_our_metrics['hits@1']"
   ]
  },
  {
   "cell_type": "code",
   "execution_count": null,
   "metadata": {
    "id": "Whr8zNTl9ZQ-"
   },
   "outputs": [],
   "source": [
    "brightkite_our_mean = {}\n",
    "for key in brightkite_our_metrics.keys():\n",
    "  brightkite_our_mean[key] = np.array(brightkite_our_metrics[key]).mean()"
   ]
  },
  {
   "cell_type": "code",
   "execution_count": null,
   "metadata": {
    "colab": {
     "base_uri": "https://localhost:8080/"
    },
    "id": "GzZ22Wfi9vmY",
    "outputId": "fb8c701c-035a-4fc1-e18a-8cbdb36c18ac"
   },
   "outputs": [
    {
     "data": {
      "text/plain": [
       "{'hits@1': 0.7959107000000001,\n",
       " 'hits@5': 0.9114031,\n",
       " 'hits@10': 0.9309057999999999,\n",
       " 'hits@20': 0.9489107999999999,\n",
       " 'hits@50': 0.9745323999999999,\n",
       " 'hits@100': 0.9902913,\n",
       " 'map@1': 0.7959107000000001,\n",
       " 'map@5': 0.8448369,\n",
       " 'map@10': 0.8474556000000002,\n",
       " 'map@20': 0.848704,\n",
       " 'map@50': 0.8495263,\n",
       " 'map@100': 0.8497548,\n",
       " 'ndcg@1': 0.7959107000000001,\n",
       " 'ndcg@5': 0.8617408999999998,\n",
       " 'ndcg@10': 0.8680635999999999,\n",
       " 'ndcg@20': 0.872615,\n",
       " 'ndcg@50': 0.8777090999999999,\n",
       " 'ndcg@100': 0.8802741000000001}"
      ]
     },
     "execution_count": 43,
     "metadata": {},
     "output_type": "execute_result"
    }
   ],
   "source": [
    "brightkite_our_mean"
   ]
  },
  {
   "cell_type": "code",
   "execution_count": null,
   "metadata": {
    "id": "UIUD6Evj917x"
   },
   "outputs": [],
   "source": [
    "brightkite_rnn_baseline = read_file('rnn_baseline_training.txt')"
   ]
  },
  {
   "cell_type": "code",
   "execution_count": null,
   "metadata": {
    "colab": {
     "base_uri": "https://localhost:8080/"
    },
    "id": "Ie4aYH9R9-B-",
    "outputId": "5bccfe49-0800-4249-aafd-e0b22857dc4f"
   },
   "outputs": [
    {
     "data": {
      "text/plain": [
       "[0.781078,\n",
       " 0.77793,\n",
       " 0.779333,\n",
       " 0.774036,\n",
       " 0.781882,\n",
       " 0.777833,\n",
       " 0.790603,\n",
       " 0.780273,\n",
       " 0.779474,\n",
       " 0.783515]"
      ]
     },
     "execution_count": 45,
     "metadata": {},
     "output_type": "execute_result"
    }
   ],
   "source": [
    "brightkite_rnn_baseline['hits@1']"
   ]
  },
  {
   "cell_type": "code",
   "execution_count": null,
   "metadata": {
    "id": "TluUGbri-FuE"
   },
   "outputs": [],
   "source": [
    "brightkite_rnn_mean = {}\n",
    "for key in brightkite_rnn_baseline.keys():\n",
    "  brightkite_rnn_mean[key] = np.array(brightkite_rnn_baseline[key]).mean()"
   ]
  },
  {
   "cell_type": "code",
   "execution_count": null,
   "metadata": {
    "colab": {
     "base_uri": "https://localhost:8080/"
    },
    "id": "RFZ4HNoc-XCC",
    "outputId": "5b29e44f-3558-472f-fa27-454d47b6568e"
   },
   "outputs": [
    {
     "data": {
      "text/plain": [
       "{'hits@1': 0.7805956999999999,\n",
       " 'hits@5': 0.8994695,\n",
       " 'hits@10': 0.9208386,\n",
       " 'hits@20': 0.9409391999999999,\n",
       " 'hits@50': 0.9698815,\n",
       " 'hits@100': 0.9880154999999998,\n",
       " 'map@1': 0.7805956999999999,\n",
       " 'map@5': 0.8305894,\n",
       " 'map@10': 0.8334531000000002,\n",
       " 'map@20': 0.8348359000000001,\n",
       " 'map@50': 0.8357667000000001,\n",
       " 'map@100': 0.8360302000000001,\n",
       " 'ndcg@1': 0.7805956999999999,\n",
       " 'ndcg@5': 0.8480622,\n",
       " 'ndcg@10': 0.854984,\n",
       " 'ndcg@20': 0.8600515,\n",
       " 'ndcg@50': 0.8658093000000001,\n",
       " 'ndcg@100': 0.8687627000000001}"
      ]
     },
     "execution_count": 47,
     "metadata": {},
     "output_type": "execute_result"
    }
   ],
   "source": [
    "brightkite_rnn_mean"
   ]
  },
  {
   "cell_type": "code",
   "execution_count": null,
   "metadata": {
    "id": "7r94WnhH-2Hu"
   },
   "outputs": [],
   "source": [
    "brightkite_random_embedding_add = read_file('random_embedding_add_training.txt')"
   ]
  },
  {
   "cell_type": "code",
   "execution_count": null,
   "metadata": {
    "colab": {
     "base_uri": "https://localhost:8080/"
    },
    "id": "MT9FCFUK-59X",
    "outputId": "cf40eabc-5a00-4e3e-b762-32c2ae39ecae"
   },
   "outputs": [
    {
     "data": {
      "text/plain": [
       "[0.772189,\n",
       " 0.7652,\n",
       " 0.765499,\n",
       " 0.773537,\n",
       " 0.77109,\n",
       " 0.764301,\n",
       " 0.77013,\n",
       " 0.772782,\n",
       " 0.763705,\n",
       " 0.765003]"
      ]
     },
     "execution_count": 49,
     "metadata": {},
     "output_type": "execute_result"
    }
   ],
   "source": [
    "brightkite_random_embedding_add['hits@1']"
   ]
  },
  {
   "cell_type": "code",
   "execution_count": null,
   "metadata": {
    "id": "9ZyS-VS1_dH8"
   },
   "outputs": [],
   "source": [
    "brightkite_random_embedding_mean = {}\n",
    "for key in brightkite_random_embedding_add.keys():\n",
    "  brightkite_random_embedding_mean[key] = np.array(brightkite_random_embedding_add[key]).mean()"
   ]
  },
  {
   "cell_type": "code",
   "execution_count": null,
   "metadata": {
    "colab": {
     "base_uri": "https://localhost:8080/"
    },
    "id": "7nCD2HSi_lwA",
    "outputId": "36c9b50c-ef22-4863-dfd6-3f57f7fc8058"
   },
   "outputs": [
    {
     "data": {
      "text/plain": [
       "{'hits@1': 0.7683436,\n",
       " 'hits@5': 0.8926076999999999,\n",
       " 'hits@10': 0.9158027000000001,\n",
       " 'hits@20': 0.9382640999999999,\n",
       " 'hits@50': 0.9678501,\n",
       " 'hits@100': 0.9880859000000001,\n",
       " 'map@1': 0.7683436,\n",
       " 'map@5': 0.8202934,\n",
       " 'map@10': 0.8234047,\n",
       " 'map@20': 0.8249711999999999,\n",
       " 'map@50': 0.8259286000000001,\n",
       " 'map@100': 0.8262195999999999,\n",
       " 'ndcg@1': 0.7683436,\n",
       " 'ndcg@5': 0.8386174000000001,\n",
       " 'ndcg@10': 0.8461337,\n",
       " 'ndcg@20': 0.8518222999999999,\n",
       " 'ndcg@50': 0.8577185999999999,\n",
       " 'ndcg@100': 0.8610056}"
      ]
     },
     "execution_count": 51,
     "metadata": {},
     "output_type": "execute_result"
    }
   ],
   "source": [
    "brightkite_random_embedding_mean"
   ]
  },
  {
   "cell_type": "code",
   "execution_count": null,
   "metadata": {
    "id": "zboFx0TbVEqt"
   },
   "outputs": [],
   "source": [
    "hits1 = np.array(brightkite_our_metrics['hits@1'])\n",
    "hits2 = np.array(brightkite_rnn_baseline['hits@1'])\n",
    "hits3 = np.array(brightkite_random_embedding_add['hits@1'])"
   ]
  },
  {
   "cell_type": "code",
   "execution_count": null,
   "metadata": {
    "id": "-eCGUIp7DhpV"
   },
   "outputs": [],
   "source": [
    "big_gowalla_our_metrics = read_file('more_classes_gowalla_link_prediction_rnn_graph_training.txt')"
   ]
  },
  {
   "cell_type": "code",
   "execution_count": null,
   "metadata": {
    "colab": {
     "base_uri": "https://localhost:8080/"
    },
    "id": "3oZyQKShDhpV",
    "outputId": "03aa8daa-5e22-484e-9644-852bc6143e1d"
   },
   "outputs": [
    {
     "data": {
      "text/plain": [
       "[0.568695,\n",
       " 0.572033,\n",
       " 0.572424,\n",
       " 0.569931,\n",
       " 0.56979,\n",
       " 0.565276,\n",
       " 0.570439,\n",
       " 0.568383,\n",
       " 0.566149,\n",
       " 0.570888]"
      ]
     },
     "execution_count": 57,
     "metadata": {},
     "output_type": "execute_result"
    }
   ],
   "source": [
    "big_gowalla_our_metrics['hits@1']"
   ]
  },
  {
   "cell_type": "code",
   "execution_count": null,
   "metadata": {
    "id": "2UwGYrMhDhpV"
   },
   "outputs": [],
   "source": [
    "big_gowalla_our_mean = {}\n",
    "for key in big_gowalla_our_metrics.keys():\n",
    "  big_gowalla_our_mean[key] = np.array(big_gowalla_our_metrics[key]).mean()"
   ]
  },
  {
   "cell_type": "code",
   "execution_count": null,
   "metadata": {
    "colab": {
     "base_uri": "https://localhost:8080/"
    },
    "id": "-Co024XVDhpV",
    "outputId": "2b921b4a-dc8a-446d-ca71-c6dec80e9705"
   },
   "outputs": [
    {
     "data": {
      "text/plain": [
       "{'hits@1': 0.5694008000000002,\n",
       " 'hits@5': 0.7506321,\n",
       " 'hits@10': 0.7930062,\n",
       " 'hits@20': 0.8295625,\n",
       " 'hits@50': 0.8651414,\n",
       " 'hits@100': 0.8881815,\n",
       " 'map@1': 0.5694008000000002,\n",
       " 'map@5': 0.6423226,\n",
       " 'map@10': 0.6480466999999999,\n",
       " 'map@20': 0.65062,\n",
       " 'map@50': 0.6517925,\n",
       " 'map@100': 0.6521235,\n",
       " 'ndcg@1': 0.5694008000000002,\n",
       " 'ndcg@5': 0.6696144000000002,\n",
       " 'ndcg@10': 0.6833861,\n",
       " 'ndcg@20': 0.6926742,\n",
       " 'ndcg@50': 0.6998024,\n",
       " 'ndcg@100': 0.7035438}"
      ]
     },
     "execution_count": 59,
     "metadata": {},
     "output_type": "execute_result"
    }
   ],
   "source": [
    "big_gowalla_our_mean"
   ]
  },
  {
   "cell_type": "code",
   "execution_count": null,
   "metadata": {
    "id": "25Rh7Jh8FLQc"
   },
   "outputs": [],
   "source": [
    "big_gowalla_rnn_baseline = read_file('more_classes_gowalla_rnn_baseline_training.txt')"
   ]
  },
  {
   "cell_type": "code",
   "execution_count": null,
   "metadata": {
    "colab": {
     "base_uri": "https://localhost:8080/"
    },
    "id": "1Cx-dwBHFLQc",
    "outputId": "6626233e-724a-46f0-8b56-739eea32ea2d"
   },
   "outputs": [
    {
     "data": {
      "text/plain": [
       "[0.554908,\n",
       " 0.555104,\n",
       " 0.553753,\n",
       " 0.551622,\n",
       " 0.554911,\n",
       " 0.551713,\n",
       " 0.554312,\n",
       " 0.555616,\n",
       " 0.553179,\n",
       " 0.5537]"
      ]
     },
     "execution_count": 61,
     "metadata": {},
     "output_type": "execute_result"
    }
   ],
   "source": [
    "big_gowalla_rnn_baseline['hits@1']"
   ]
  },
  {
   "cell_type": "code",
   "execution_count": null,
   "metadata": {
    "id": "csIGQ3BFFLQc"
   },
   "outputs": [],
   "source": [
    "big_gowalla_rnn_mean = {}\n",
    "for key in big_gowalla_rnn_baseline.keys():\n",
    "  big_gowalla_rnn_mean[key] = np.array(big_gowalla_rnn_baseline[key]).mean()"
   ]
  },
  {
   "cell_type": "code",
   "execution_count": null,
   "metadata": {
    "colab": {
     "base_uri": "https://localhost:8080/"
    },
    "id": "oiwANPa0FLQc",
    "outputId": "6e1e017e-58e5-4c09-d43f-6d96def5d16a"
   },
   "outputs": [
    {
     "data": {
      "text/plain": [
       "{'hits@1': 0.5538818,\n",
       " 'hits@5': 0.728897,\n",
       " 'hits@10': 0.7734269,\n",
       " 'hits@20': 0.8130603000000001,\n",
       " 'hits@50': 0.8538333,\n",
       " 'hits@100': 0.879785,\n",
       " 'map@1': 0.5538818,\n",
       " 'map@5': 0.6239186999999999,\n",
       " 'map@10': 0.6299256000000001,\n",
       " 'map@20': 0.6326962,\n",
       " 'map@50': 0.6340418999999999,\n",
       " 'map@100': 0.6344136,\n",
       " 'ndcg@1': 0.5538818,\n",
       " 'ndcg@5': 0.6503525,\n",
       " 'ndcg@10': 0.6648167,\n",
       " 'ndcg@20': 0.6748624,\n",
       " 'ndcg@50': 0.6830346,\n",
       " 'ndcg@100': 0.6872456}"
      ]
     },
     "execution_count": 63,
     "metadata": {},
     "output_type": "execute_result"
    }
   ],
   "source": [
    "big_gowalla_rnn_mean"
   ]
  },
  {
   "cell_type": "code",
   "execution_count": null,
   "metadata": {
    "id": "bWTyjdilF00f"
   },
   "outputs": [],
   "source": [
    "big_gowalla_random_embedding_add = read_file('more_classes_gowalla_random_embedding_add.txt')"
   ]
  },
  {
   "cell_type": "code",
   "execution_count": null,
   "metadata": {
    "colab": {
     "base_uri": "https://localhost:8080/"
    },
    "id": "p7ZBNJpsF00f",
    "outputId": "4ca1c8ab-f1f5-445c-c809-6159a7020ed5"
   },
   "outputs": [
    {
     "data": {
      "text/plain": [
       "[0.557248,\n",
       " 0.557357,\n",
       " 0.56014,\n",
       " 0.559891,\n",
       " 0.557812,\n",
       " 0.557844,\n",
       " 0.55585,\n",
       " 0.558311,\n",
       " 0.559239,\n",
       " 0.55615]"
      ]
     },
     "execution_count": 65,
     "metadata": {},
     "output_type": "execute_result"
    }
   ],
   "source": [
    "big_gowalla_random_embedding_add['hits@1']"
   ]
  },
  {
   "cell_type": "code",
   "execution_count": null,
   "metadata": {
    "id": "JdNAKbuLF00f"
   },
   "outputs": [],
   "source": [
    "big_gowalla_random_embedding_mean = {}\n",
    "for key in big_gowalla_random_embedding_add.keys():\n",
    "  big_gowalla_random_embedding_mean[key] = np.array(big_gowalla_random_embedding_add[key]).mean()"
   ]
  },
  {
   "cell_type": "code",
   "execution_count": null,
   "metadata": {
    "colab": {
     "base_uri": "https://localhost:8080/"
    },
    "id": "pWtIvAxRF00f",
    "outputId": "97ab183b-f067-4296-b00f-188e01643906"
   },
   "outputs": [
    {
     "data": {
      "text/plain": [
       "{'hits@1': 0.5579841999999999,\n",
       " 'hits@5': 0.7371231,\n",
       " 'hits@10': 0.7796054000000001,\n",
       " 'hits@20': 0.8196623000000001,\n",
       " 'hits@50': 0.8615207,\n",
       " 'hits@100': 0.8885894999999999,\n",
       " 'map@1': 0.5579841999999999,\n",
       " 'map@5': 0.6299033,\n",
       " 'map@10': 0.6355987,\n",
       " 'map@20': 0.6383955,\n",
       " 'map@50': 0.6397673,\n",
       " 'map@100': 0.6401571,\n",
       " 'ndcg@1': 0.5579841999999999,\n",
       " 'ndcg@5': 0.6569095,\n",
       " 'ndcg@10': 0.6706732,\n",
       " 'ndcg@20': 0.6808215000000001,\n",
       " 'ndcg@50': 0.6891943,\n",
       " 'ndcg@100': 0.6935928}"
      ]
     },
     "execution_count": 67,
     "metadata": {},
     "output_type": "execute_result"
    }
   ],
   "source": [
    "big_gowalla_random_embedding_mean"
   ]
  },
  {
   "cell_type": "code",
   "execution_count": null,
   "metadata": {
    "id": "YJ89IXEMDhpW"
   },
   "outputs": [],
   "source": [
    "hits1 = np.array(big_gowalla_our_metrics['hits@1'])\n",
    "hits2 = np.array(big_gowalla_rnn_baseline['hits@1'])\n",
    "hits3 = np.array(big_gowalla_random_embedding_add['hits@1'])"
   ]
  },
  {
   "cell_type": "code",
   "execution_count": 9,
   "metadata": {
    "execution": {
     "iopub.execute_input": "2024-05-14T14:06:36.067039Z",
     "iopub.status.busy": "2024-05-14T14:06:36.066311Z",
     "iopub.status.idle": "2024-05-14T14:06:36.088939Z",
     "shell.execute_reply": "2024-05-14T14:06:36.088237Z",
     "shell.execute_reply.started": "2024-05-14T14:06:36.066999Z"
    },
    "tags": []
   },
   "outputs": [
    {
     "name": "stdout",
     "output_type": "stream",
     "text": [
      "hits@1: 0.7658754006410257\n",
      "hits@5: 0.880859375\n",
      "hits@10: 0.9209735576923077\n",
      "hits@20: 0.9522235576923077 \n",
      "\n",
      "hits@50: 0.9811698717948718\n",
      "hits@100: 0.9896334134615384 \n",
      "\n",
      "map@1: 0.7658754006410257\n",
      "map@5: 0.813385583600428\n",
      "map@10: 0.818781757160663\n",
      "map@20: 0.8210229913208974\n",
      "\n",
      "map@50: 0.8219611886108282\n",
      "map@100: 0.8220870655553362 \n",
      "\n",
      "ndcg@1: 0.7658754006410257\n",
      "ndcg@5: 0.8304400874360632\n",
      "ndcg@10: 0.8434556715821324\n",
      "ndcg@20: 0.8514455667552355 \n",
      "\n",
      "ndcg@50: 0.8572190457060421\n",
      "ndcg@100: 0.8586554540376307\n",
      "\n",
      "hits@1: 0.7712840544871795\n",
      "hits@5: 0.8911258012820513\n",
      "hits@10: 0.920723157051282\n",
      "hits@20: 0.9533754006410257 \n",
      "\n",
      "hits@50: 0.9817207532051282\n",
      "hits@100: 0.9905348557692307 \n",
      "\n",
      "map@1: 0.7712840544871795\n",
      "map@5: 0.8192783453525647\n",
      "map@10: 0.8232366230413104\n",
      "map@20: 0.825520022486265 \n",
      "\n",
      "map@50: 0.8264352265374267\n",
      "map@100: 0.8265733389019534 \n",
      "\n",
      "ndcg@1: 0.7712840544871795\n",
      "ndcg@5: 0.8373722661663513\n",
      "ndcg@10: 0.8469521246675654\n",
      "ndcg@20: 0.8552294460194352 \n",
      "\n",
      "ndcg@50: 0.8608784277228505\n",
      "ndcg@100: 0.8624429330757727\n",
      "\n",
      "hits@1: 0.7834535256410257\n",
      "hits@5: 0.8990885416666666\n",
      "hits@10: 0.9264322916666666\n",
      "hits@20: 0.9537259615384616 \n",
      "\n",
      "hits@50: 0.9798177083333334\n",
      "hits@100: 0.9880308493589743 \n",
      "\n",
      "map@1: 0.7834535256410257\n",
      "map@5: 0.8309144631410265\n",
      "map@10: 0.8346427100821632\n",
      "map@20: 0.8365480464772325 \n",
      "\n",
      "map@50: 0.8374143660176114\n",
      "map@100: 0.8375432724009408 \n",
      "\n",
      "ndcg@1: 0.7834535256410257\n",
      "ndcg@5: 0.8481486557818982\n",
      "ndcg@10: 0.8570706296511349\n",
      "ndcg@20: 0.863984927876684 \n",
      "\n",
      "ndcg@50: 0.8692228044287348\n",
      "ndcg@100: 0.8708564270451697\n"
     ]
    }
   ],
   "source": [
    "nactseer_metrics = read_file('NActSeer_186.txt')"
   ]
  },
  {
   "cell_type": "code",
   "execution_count": 10,
   "metadata": {
    "execution": {
     "iopub.execute_input": "2024-05-14T14:07:40.148414Z",
     "iopub.status.busy": "2024-05-14T14:07:40.147739Z",
     "iopub.status.idle": "2024-05-14T14:07:40.163525Z",
     "shell.execute_reply": "2024-05-14T14:07:40.162865Z",
     "shell.execute_reply.started": "2024-05-14T14:07:40.148373Z"
    }
   },
   "outputs": [],
   "source": [
    "nactseer_mean = {}\n",
    "for key in nactseer_metrics.keys():\n",
    "  nactseer_mean[key] = np.array(nactseer_metrics[key]).mean()"
   ]
  },
  {
   "cell_type": "code",
   "execution_count": 11,
   "metadata": {
    "execution": {
     "iopub.execute_input": "2024-05-14T14:07:49.811326Z",
     "iopub.status.busy": "2024-05-14T14:07:49.810680Z",
     "iopub.status.idle": "2024-05-14T14:07:49.826080Z",
     "shell.execute_reply": "2024-05-14T14:07:49.824988Z",
     "shell.execute_reply.started": "2024-05-14T14:07:49.811294Z"
    }
   },
   "outputs": [
    {
     "data": {
      "text/plain": [
       "{'hits@1': 0.7735376602564102,\n",
       " 'hits@5': 0.890357905982906,\n",
       " 'hits@10': 0.9227096688034188,\n",
       " 'hits@20': 0.9531083066239318,\n",
       " 'hits@50': 0.9809027777777778,\n",
       " 'hits@100': 0.9893997061965812,\n",
       " 'map@1': 0.7735376602564102,\n",
       " 'map@5': 0.821192797364673,\n",
       " 'map@10': 0.8255536967613789,\n",
       " 'map@20': 0.8276970200947983,\n",
       " 'map@50': 0.8286035937219554,\n",
       " 'map@100': 0.8287345589527435,\n",
       " 'ndcg@1': 0.7735376602564102,\n",
       " 'ndcg@5': 0.838653669794771,\n",
       " 'ndcg@10': 0.8491594753002776,\n",
       " 'ndcg@20': 0.856886646883785,\n",
       " 'ndcg@50': 0.8624400926192092,\n",
       " 'ndcg@100': 0.8639849380528576}"
      ]
     },
     "execution_count": 11,
     "metadata": {},
     "output_type": "execute_result"
    }
   ],
   "source": [
    "nactseer_mean"
   ]
  },
  {
   "cell_type": "code",
   "execution_count": 12,
   "metadata": {
    "execution": {
     "iopub.execute_input": "2024-05-14T14:16:04.545771Z",
     "iopub.status.busy": "2024-05-14T14:16:04.545016Z",
     "iopub.status.idle": "2024-05-14T14:16:04.570035Z",
     "shell.execute_reply": "2024-05-14T14:16:04.569308Z",
     "shell.execute_reply.started": "2024-05-14T14:16:04.545729Z"
    }
   },
   "outputs": [
    {
     "name": "stdout",
     "output_type": "stream",
     "text": [
      "hits@1: 0.810360\n",
      "hits@5: 0.938114\n",
      "hits@10: 0.955147\n",
      "hits@20: 0.976498\n",
      "\n",
      "hits@50: 0.991303\n",
      "hits@100: 0.998262\n",
      "\n",
      "map@1: 0.810360\n",
      "map@5: 0.862627\n",
      "map@10: 0.864913\n",
      "map@20: 0.866427\n",
      "\n",
      "map@50: 0.866910\n",
      "map@100: 0.867011\n",
      "\n",
      "ndcg@1: 0.810360\n",
      "ndcg@5: 0.881694\n",
      "ndcg@10: 0.887216\n",
      "ndcg@20: 0.892654\n",
      "\n",
      "ndcg@50: 0.895614\n",
      "ndcg@100: 0.896747\n",
      "\n",
      "hits@1: 0.804860\n",
      "hits@5: 0.936679\n",
      "hits@10: 0.952668\n",
      "hits@20: 0.974742\n",
      "\n",
      "hits@50: 0.991593\n",
      "hits@100: 0.997973\n",
      "\n",
      "map@1: 0.804860\n",
      "map@5: 0.860246\n",
      "map@10: 0.862329\n",
      "map@20: 0.863763\n",
      "\n",
      "map@50: 0.864280\n",
      "map@100: 0.864378\n",
      "\n",
      "ndcg@1: 0.804860\n",
      "ndcg@5: 0.879620\n",
      "ndcg@10: 0.884739\n",
      "ndcg@20: 0.890199\n",
      "\n",
      "ndcg@50: 0.893506\n",
      "ndcg@100: 0.894559\n",
      "\n",
      "hits@1: 0.813777\n",
      "hits@5: 0.936992\n",
      "hits@10: 0.961139\n",
      "hits@20: 0.977641\n",
      "\n",
      "hits@50: 0.992404\n",
      "hits@100: 0.997368\n",
      "\n",
      "map@1: 0.813777\n",
      "map@5: 0.865950\n",
      "map@10: 0.869060\n",
      "map@20: 0.870172\n",
      "\n",
      "map@50: 0.870665\n",
      "map@100: 0.870741\n",
      "\n",
      "ndcg@1: 0.813777\n",
      "ndcg@5: 0.883990\n",
      "ndcg@10: 0.891689\n",
      "ndcg@20: 0.895821\n",
      "\n",
      "ndcg@50: 0.898790\n",
      "ndcg@100: 0.899608\n",
      "\n"
     ]
    }
   ],
   "source": [
    "joint_learning_metrics = read_file('Joint_learning_186.txt')"
   ]
  },
  {
   "cell_type": "code",
   "execution_count": 13,
   "metadata": {
    "execution": {
     "iopub.execute_input": "2024-05-14T14:16:49.092283Z",
     "iopub.status.busy": "2024-05-14T14:16:49.091570Z",
     "iopub.status.idle": "2024-05-14T14:16:49.103916Z",
     "shell.execute_reply": "2024-05-14T14:16:49.103157Z",
     "shell.execute_reply.started": "2024-05-14T14:16:49.092242Z"
    }
   },
   "outputs": [],
   "source": [
    "joint_learning_mean = {}\n",
    "for key in joint_learning_metrics.keys():\n",
    "  joint_learning_mean[key] = np.array(joint_learning_metrics[key]).mean()"
   ]
  },
  {
   "cell_type": "code",
   "execution_count": 14,
   "metadata": {
    "execution": {
     "iopub.execute_input": "2024-05-14T14:16:56.055010Z",
     "iopub.status.busy": "2024-05-14T14:16:56.054198Z",
     "iopub.status.idle": "2024-05-14T14:16:56.066378Z",
     "shell.execute_reply": "2024-05-14T14:16:56.065307Z",
     "shell.execute_reply.started": "2024-05-14T14:16:56.054966Z"
    }
   },
   "outputs": [
    {
     "data": {
      "text/plain": [
       "{'hits@1': 0.8096656666666666,\n",
       " 'hits@5': 0.9372616666666667,\n",
       " 'hits@10': 0.9563179999999999,\n",
       " 'hits@20': 0.9762936666666665,\n",
       " 'hits@50': 0.9917666666666666,\n",
       " 'hits@100': 0.9978676666666667,\n",
       " 'map@1': 0.8096656666666666,\n",
       " 'map@5': 0.8629409999999998,\n",
       " 'map@10': 0.865434,\n",
       " 'map@20': 0.8667873333333332,\n",
       " 'map@50': 0.867285,\n",
       " 'map@100': 0.8673766666666666,\n",
       " 'ndcg@1': 0.8096656666666666,\n",
       " 'ndcg@5': 0.8817680000000001,\n",
       " 'ndcg@10': 0.8878813333333334,\n",
       " 'ndcg@20': 0.8928913333333334,\n",
       " 'ndcg@50': 0.89597,\n",
       " 'ndcg@100': 0.8969713333333335}"
      ]
     },
     "execution_count": 14,
     "metadata": {},
     "output_type": "execute_result"
    }
   ],
   "source": [
    "joint_learning_mean"
   ]
  },
  {
   "cell_type": "code",
   "execution_count": 15,
   "metadata": {
    "execution": {
     "iopub.execute_input": "2024-05-14T14:39:06.425423Z",
     "iopub.status.busy": "2024-05-14T14:39:06.424586Z",
     "iopub.status.idle": "2024-05-14T14:39:06.444793Z",
     "shell.execute_reply": "2024-05-14T14:39:06.444085Z",
     "shell.execute_reply.started": "2024-05-14T14:39:06.425379Z"
    }
   },
   "outputs": [
    {
     "name": "stdout",
     "output_type": "stream",
     "text": [
      "hits@1: 0.058057\n",
      "hits@5: 0.228170\n",
      "hits@10: 0.367076\n",
      "hits@20: 0.525411\n",
      "\n",
      "hits@50: 0.822802\n",
      "hits@100: 0.979583\n",
      "\n",
      "map@1: 0.058057\n",
      "map@5: 0.113717\n",
      "map@10: 0.132379\n",
      "map@20: 0.143131\n",
      "\n",
      "map@50: 0.152537\n",
      "map@100: 0.154925\n",
      "\n",
      "ndcg@1: 0.058057\n",
      "ndcg@5: 0.141802\n",
      "ndcg@10: 0.186844\n",
      "ndcg@20: 0.226581\n",
      "\n",
      "ndcg@50: 0.285474\n",
      "ndcg@100: 0.311295\n",
      "\n",
      "hits@1: 0.059006\n",
      "hits@5: 0.228023\n",
      "hits@10: 0.369482\n",
      "hits@20: 0.526462\n",
      "\n",
      "hits@50: 0.832645\n",
      "hits@100: 0.981879\n",
      "\n",
      "map@1: 0.059006\n",
      "map@5: 0.114286\n",
      "map@10: 0.133293\n",
      "map@20: 0.143947\n",
      "\n",
      "map@50: 0.153671\n",
      "map@100: 0.155920\n",
      "\n",
      "ndcg@1: 0.059006\n",
      "ndcg@5: 0.142187\n",
      "ndcg@10: 0.188059\n",
      "ndcg@20: 0.227447\n",
      "\n",
      "ndcg@50: 0.288153\n",
      "ndcg@100: 0.312669\n",
      "\n",
      "hits@1: 0.057508\n",
      "hits@5: 0.226223\n",
      "hits@10: 0.365279\n",
      "hits@20: 0.522918\n",
      "\n",
      "hits@50: 0.822954\n",
      "hits@100: 0.979483\n",
      "\n",
      "map@1: 0.057508\n",
      "map@5: 0.113031\n",
      "map@10: 0.131723\n",
      "map@20: 0.142435\n",
      "\n",
      "map@50: 0.151919\n",
      "map@100: 0.154306\n",
      "\n",
      "ndcg@1: 0.057508\n",
      "ndcg@5: 0.140830\n",
      "ndcg@10: 0.185932\n",
      "ndcg@20: 0.225504\n",
      "\n",
      "ndcg@50: 0.284914\n",
      "ndcg@100: 0.310701\n",
      "\n"
     ]
    }
   ],
   "source": [
    "coles_metrics = read_file('coles_186.txt')"
   ]
  },
  {
   "cell_type": "code",
   "execution_count": 16,
   "metadata": {
    "execution": {
     "iopub.execute_input": "2024-05-14T14:39:32.588966Z",
     "iopub.status.busy": "2024-05-14T14:39:32.588477Z",
     "iopub.status.idle": "2024-05-14T14:39:32.601085Z",
     "shell.execute_reply": "2024-05-14T14:39:32.600386Z",
     "shell.execute_reply.started": "2024-05-14T14:39:32.588924Z"
    }
   },
   "outputs": [],
   "source": [
    "coles_mean = {}\n",
    "for key in coles_metrics.keys():\n",
    "  coles_mean[key] = np.array(coles_metrics[key]).mean()"
   ]
  },
  {
   "cell_type": "code",
   "execution_count": 17,
   "metadata": {
    "execution": {
     "iopub.execute_input": "2024-05-14T14:39:37.656258Z",
     "iopub.status.busy": "2024-05-14T14:39:37.655483Z",
     "iopub.status.idle": "2024-05-14T14:39:37.677761Z",
     "shell.execute_reply": "2024-05-14T14:39:37.676967Z",
     "shell.execute_reply.started": "2024-05-14T14:39:37.656214Z"
    }
   },
   "outputs": [
    {
     "data": {
      "text/plain": [
       "{'hits@1': 0.05819033333333334,\n",
       " 'hits@5': 0.227472,\n",
       " 'hits@10': 0.3672790000000001,\n",
       " 'hits@20': 0.5249303333333334,\n",
       " 'hits@50': 0.8261336666666667,\n",
       " 'hits@100': 0.980315,\n",
       " 'map@1': 0.05819033333333334,\n",
       " 'map@5': 0.113678,\n",
       " 'map@10': 0.13246500000000003,\n",
       " 'map@20': 0.14317100000000002,\n",
       " 'map@50': 0.152709,\n",
       " 'map@100': 0.15505033333333335,\n",
       " 'ndcg@1': 0.05819033333333334,\n",
       " 'ndcg@5': 0.14160633333333336,\n",
       " 'ndcg@10': 0.186945,\n",
       " 'ndcg@20': 0.22651066666666667,\n",
       " 'ndcg@50': 0.2861803333333333,\n",
       " 'ndcg@100': 0.31155499999999997}"
      ]
     },
     "execution_count": 17,
     "metadata": {},
     "output_type": "execute_result"
    }
   ],
   "source": [
    "coles_mean"
   ]
  },
  {
   "cell_type": "code",
   "execution_count": 18,
   "metadata": {
    "execution": {
     "iopub.execute_input": "2024-05-14T14:47:34.992361Z",
     "iopub.status.busy": "2024-05-14T14:47:34.991721Z",
     "iopub.status.idle": "2024-05-14T14:47:35.009263Z",
     "shell.execute_reply": "2024-05-14T14:47:35.008423Z",
     "shell.execute_reply.started": "2024-05-14T14:47:34.992327Z"
    }
   },
   "outputs": [
    {
     "name": "stdout",
     "output_type": "stream",
     "text": [
      "hits@1: 0.036688\n",
      "hits@5: 0.165658\n",
      "hits@10: 0.297928\n",
      "hits@20: 0.489444\n",
      "\n",
      "hits@50: 0.793287\n",
      "hits@100: 0.976538\n",
      "\n",
      "map@1: 0.036688\n",
      "map@5: 0.078239\n",
      "map@10: 0.095518\n",
      "map@20: 0.108671\n",
      "\n",
      "map@50: 0.118279\n",
      "map@100: 0.121020\n",
      "\n",
      "ndcg@1: 0.036688\n",
      "ndcg@5: 0.099652\n",
      "ndcg@10: 0.142053\n",
      "ndcg@20: 0.190300\n",
      "\n",
      "ndcg@50: 0.250466\n",
      "ndcg@100: 0.280519\n",
      "\n",
      "hits@1: 0.036189\n",
      "hits@5: 0.165511\n",
      "hits@10: 0.297379\n",
      "hits@20: 0.489694\n",
      "\n",
      "hits@50: 0.793187\n",
      "hits@100: 0.976488\n",
      "\n",
      "map@1: 0.036189\n",
      "map@5: 0.078023\n",
      "map@10: 0.095243\n",
      "map@20: 0.108464\n",
      "\n",
      "map@50: 0.118069\n",
      "map@100: 0.120814\n",
      "\n",
      "ndcg@1: 0.036189\n",
      "ndcg@5: 0.099462\n",
      "ndcg@10: 0.141726\n",
      "ndcg@20: 0.190191\n",
      "\n",
      "ndcg@50: 0.250301\n",
      "ndcg@100: 0.280369\n",
      "\n",
      "hits@1: 0.036339\n",
      "hits@5: 0.165708\n",
      "hits@10: 0.298277\n",
      "hits@20: 0.488046\n",
      "\n",
      "hits@50: 0.792738\n",
      "hits@100: 0.976587\n",
      "\n",
      "map@1: 0.036339\n",
      "map@5: 0.078160\n",
      "map@10: 0.095441\n",
      "map@20: 0.108497\n",
      "\n",
      "map@50: 0.118162\n",
      "map@100: 0.120916\n",
      "\n",
      "ndcg@1: 0.036339\n",
      "ndcg@5: 0.099614\n",
      "ndcg@10: 0.142073\n",
      "ndcg@20: 0.189910\n",
      "\n",
      "ndcg@50: 0.250296\n",
      "ndcg@100: 0.280455\n",
      "\n"
     ]
    }
   ],
   "source": [
    "gpt_metrics = read_file('gpt_186.txt')"
   ]
  },
  {
   "cell_type": "code",
   "execution_count": 19,
   "metadata": {
    "execution": {
     "iopub.execute_input": "2024-05-14T14:48:02.778837Z",
     "iopub.status.busy": "2024-05-14T14:48:02.778322Z",
     "iopub.status.idle": "2024-05-14T14:48:02.790071Z",
     "shell.execute_reply": "2024-05-14T14:48:02.789269Z",
     "shell.execute_reply.started": "2024-05-14T14:48:02.778793Z"
    }
   },
   "outputs": [],
   "source": [
    "gpt_mean = {}\n",
    "for key in gpt_metrics.keys():\n",
    "  gpt_mean[key] = np.array(gpt_metrics[key]).mean()"
   ]
  },
  {
   "cell_type": "code",
   "execution_count": 20,
   "metadata": {
    "execution": {
     "iopub.execute_input": "2024-05-14T14:48:07.744167Z",
     "iopub.status.busy": "2024-05-14T14:48:07.743721Z",
     "iopub.status.idle": "2024-05-14T14:48:07.760450Z",
     "shell.execute_reply": "2024-05-14T14:48:07.759719Z",
     "shell.execute_reply.started": "2024-05-14T14:48:07.744127Z"
    }
   },
   "outputs": [
    {
     "data": {
      "text/plain": [
       "{'hits@1': 0.03640533333333334,\n",
       " 'hits@5': 0.16562566666666667,\n",
       " 'hits@10': 0.29786133333333337,\n",
       " 'hits@20': 0.48906133333333335,\n",
       " 'hits@50': 0.7930706666666666,\n",
       " 'hits@100': 0.9765376666666666,\n",
       " 'map@1': 0.03640533333333334,\n",
       " 'map@5': 0.07814066666666668,\n",
       " 'map@10': 0.09540066666666668,\n",
       " 'map@20': 0.10854400000000002,\n",
       " 'map@50': 0.11817,\n",
       " 'map@100': 0.12091666666666667,\n",
       " 'ndcg@1': 0.03640533333333334,\n",
       " 'ndcg@5': 0.099576,\n",
       " 'ndcg@10': 0.14195066666666667,\n",
       " 'ndcg@20': 0.19013366666666667,\n",
       " 'ndcg@50': 0.25035433333333335,\n",
       " 'ndcg@100': 0.2804476666666667}"
      ]
     },
     "execution_count": 20,
     "metadata": {},
     "output_type": "execute_result"
    }
   ],
   "source": [
    "gpt_mean"
   ]
  },
  {
   "cell_type": "code",
   "execution_count": 3,
   "metadata": {
    "execution": {
     "iopub.execute_input": "2024-05-15T11:30:24.459752Z",
     "iopub.status.busy": "2024-05-15T11:30:24.459066Z",
     "iopub.status.idle": "2024-05-15T11:30:24.485742Z",
     "shell.execute_reply": "2024-05-15T11:30:24.485034Z",
     "shell.execute_reply.started": "2024-05-15T11:30:24.459709Z"
    }
   },
   "outputs": [
    {
     "name": "stdout",
     "output_type": "stream",
     "text": [
      "hits@1: 0.528662\n",
      "hits@5: 0.723332\n",
      "hits@10: 0.768747\n",
      "hits@20: 0.809972\n",
      "\n",
      "hits@50: 0.853702\n",
      "hits@100: 0.881208\n",
      "\n",
      "map@1: 0.528662\n",
      "map@5: 0.606625\n",
      "map@10: 0.612726\n",
      "map@20: 0.615628\n",
      "\n",
      "map@50: 0.617057\n",
      "map@100: 0.617453\n",
      "\n",
      "ndcg@1: 0.528662\n",
      "ndcg@5: 0.636015\n",
      "ndcg@10: 0.650741\n",
      "ndcg@20: 0.661217\n",
      "\n",
      "ndcg@50: 0.669955\n",
      "ndcg@100: 0.674424\n",
      "\n",
      "hits@1: 0.532253\n",
      "hits@5: 0.723675\n",
      "hits@10: 0.769346\n",
      "hits@20: 0.810724\n",
      "\n",
      "hits@50: 0.852404\n",
      "hits@100: 0.880856\n",
      "\n",
      "map@1: 0.532253\n",
      "map@5: 0.609082\n",
      "map@10: 0.615250\n",
      "map@20: 0.618139\n",
      "\n",
      "map@50: 0.619497\n",
      "map@100: 0.619906\n",
      "\n",
      "ndcg@1: 0.532253\n",
      "ndcg@5: 0.637943\n",
      "ndcg@10: 0.652786\n",
      "ndcg@20: 0.663269\n",
      "\n",
      "ndcg@50: 0.671591\n",
      "ndcg@100: 0.676213\n",
      "\n",
      "hits@1: 0.529152\n",
      "hits@5: 0.723863\n",
      "hits@10: 0.768189\n",
      "hits@20: 0.809919\n",
      "\n",
      "hits@50: 0.853197\n",
      "hits@100: 0.879355\n",
      "\n",
      "map@1: 0.529152\n",
      "map@5: 0.607273\n",
      "map@10: 0.613252\n",
      "map@20: 0.616182\n",
      "\n",
      "map@50: 0.617601\n",
      "map@100: 0.617973\n",
      "\n",
      "ndcg@1: 0.529152\n",
      "ndcg@5: 0.636646\n",
      "ndcg@10: 0.651044\n",
      "ndcg@20: 0.661638\n",
      "\n",
      "ndcg@50: 0.670295\n",
      "ndcg@100: 0.674533\n",
      "\n"
     ]
    }
   ],
   "source": [
    "our_method_metrics_5 = read_file('gowalla_our_method_stability_5.txt')"
   ]
  },
  {
   "cell_type": "code",
   "execution_count": 4,
   "metadata": {
    "execution": {
     "iopub.execute_input": "2024-05-15T11:31:38.386113Z",
     "iopub.status.busy": "2024-05-15T11:31:38.385095Z",
     "iopub.status.idle": "2024-05-15T11:31:38.403897Z",
     "shell.execute_reply": "2024-05-15T11:31:38.403161Z",
     "shell.execute_reply.started": "2024-05-15T11:31:38.386069Z"
    }
   },
   "outputs": [],
   "source": [
    "our_method_metrics_5_mean = {}\n",
    "for key in our_method_metrics_5.keys():\n",
    "  our_method_metrics_5_mean[key] = np.array(our_method_metrics_5[key]).mean()"
   ]
  },
  {
   "cell_type": "code",
   "execution_count": 5,
   "metadata": {
    "execution": {
     "iopub.execute_input": "2024-05-15T11:31:48.519025Z",
     "iopub.status.busy": "2024-05-15T11:31:48.518111Z",
     "iopub.status.idle": "2024-05-15T11:31:48.533516Z",
     "shell.execute_reply": "2024-05-15T11:31:48.532727Z",
     "shell.execute_reply.started": "2024-05-15T11:31:48.518974Z"
    }
   },
   "outputs": [
    {
     "data": {
      "text/plain": [
       "{'hits@1': 0.5300223333333333,\n",
       " 'hits@5': 0.7236233333333333,\n",
       " 'hits@10': 0.7687606666666666,\n",
       " 'hits@20': 0.810205,\n",
       " 'hits@50': 0.853101,\n",
       " 'hits@100': 0.880473,\n",
       " 'map@1': 0.5300223333333333,\n",
       " 'map@5': 0.60766,\n",
       " 'map@10': 0.6137426666666667,\n",
       " 'map@20': 0.6166496666666667,\n",
       " 'map@50': 0.6180516666666667,\n",
       " 'map@100': 0.6184440000000001,\n",
       " 'ndcg@1': 0.5300223333333333,\n",
       " 'ndcg@5': 0.636868,\n",
       " 'ndcg@10': 0.6515236666666666,\n",
       " 'ndcg@20': 0.6620413333333334,\n",
       " 'ndcg@50': 0.6706136666666667,\n",
       " 'ndcg@100': 0.6750566666666667}"
      ]
     },
     "execution_count": 5,
     "metadata": {},
     "output_type": "execute_result"
    }
   ],
   "source": [
    "our_method_metrics_5_mean"
   ]
  },
  {
   "cell_type": "code",
   "execution_count": 6,
   "metadata": {
    "execution": {
     "iopub.execute_input": "2024-05-15T11:33:41.326989Z",
     "iopub.status.busy": "2024-05-15T11:33:41.326137Z",
     "iopub.status.idle": "2024-05-15T11:33:41.340296Z",
     "shell.execute_reply": "2024-05-15T11:33:41.339587Z",
     "shell.execute_reply.started": "2024-05-15T11:33:41.326935Z"
    }
   },
   "outputs": [],
   "source": [
    "our_method_metrics_5_std = {}\n",
    "for key in our_method_metrics_5.keys():\n",
    "  our_method_metrics_5_std[key] = np.array(our_method_metrics_5[key]).std()"
   ]
  },
  {
   "cell_type": "code",
   "execution_count": 7,
   "metadata": {
    "execution": {
     "iopub.execute_input": "2024-05-15T11:33:56.169134Z",
     "iopub.status.busy": "2024-05-15T11:33:56.168294Z",
     "iopub.status.idle": "2024-05-15T11:33:56.182171Z",
     "shell.execute_reply": "2024-05-15T11:33:56.181306Z",
     "shell.execute_reply.started": "2024-05-15T11:33:56.169089Z"
    }
   },
   "outputs": [
    {
     "data": {
      "text/plain": [
       "{'hits@1': 0.0015899539476209924,\n",
       " 'hits@5': 0.0002198368081605787,\n",
       " 'hits@10': 0.0004724421187357683,\n",
       " 'hits@20': 0.0003676257154589072,\n",
       " 'hits@50': 0.0005342365268929357,\n",
       " 'hits@100': 0.0008035002592822587,\n",
       " 'map@1': 0.0015899539476209924,\n",
       " 'map@5': 0.0010397240018389711,\n",
       " 'map@10': 0.0010872624133830423,\n",
       " 'map@20': 0.0010771302407580892,\n",
       " 'map@50': 0.001045857011684145,\n",
       " 'map@100': 0.0010553618652702052,\n",
       " 'ndcg@1': 0.0015899539476209924,\n",
       " 'ndcg@5': 0.0008026036796991955,\n",
       " 'ndcg@10': 0.000901134963377967,\n",
       " 'ndcg@20': 0.000884942308226288,\n",
       " 'ndcg@50': 0.0007048807621782147,\n",
       " 'ndcg@100': 0.0008188611332548959}"
      ]
     },
     "execution_count": 7,
     "metadata": {},
     "output_type": "execute_result"
    }
   ],
   "source": [
    "our_method_metrics_5_std"
   ]
  },
  {
   "cell_type": "code",
   "execution_count": 8,
   "metadata": {
    "execution": {
     "iopub.execute_input": "2024-05-15T11:35:27.236731Z",
     "iopub.status.busy": "2024-05-15T11:35:27.236149Z",
     "iopub.status.idle": "2024-05-15T11:35:27.263040Z",
     "shell.execute_reply": "2024-05-15T11:35:27.262251Z",
     "shell.execute_reply.started": "2024-05-15T11:35:27.236690Z"
    }
   },
   "outputs": [
    {
     "name": "stdout",
     "output_type": "stream",
     "text": [
      "hits@1: 0.542146\n",
      "hits@5: 0.732365\n",
      "hits@10: 0.776787\n",
      "hits@20: 0.816770\n",
      "\n",
      "hits@50: 0.859147\n",
      "hits@100: 0.885255\n",
      "\n",
      "map@1: 0.542146\n",
      "map@5: 0.618688\n",
      "map@10: 0.624691\n",
      "map@20: 0.627507\n",
      "\n",
      "map@50: 0.628887\n",
      "map@100: 0.629262\n",
      "\n",
      "ndcg@1: 0.542146\n",
      "ndcg@5: 0.647337\n",
      "ndcg@10: 0.661777\n",
      "ndcg@20: 0.671938\n",
      "\n",
      "ndcg@50: 0.680398\n",
      "ndcg@100: 0.684638\n",
      "\n",
      "hits@1: 0.541338\n",
      "hits@5: 0.730923\n",
      "hits@10: 0.776247\n",
      "hits@20: 0.816177\n",
      "\n",
      "hits@50: 0.857840\n",
      "hits@100: 0.883496\n",
      "\n",
      "map@1: 0.541338\n",
      "map@5: 0.617635\n",
      "map@10: 0.623692\n",
      "map@20: 0.626480\n",
      "\n",
      "map@50: 0.627847\n",
      "map@100: 0.628219\n",
      "\n",
      "ndcg@1: 0.541338\n",
      "ndcg@5: 0.646192\n",
      "ndcg@10: 0.660857\n",
      "ndcg@20: 0.670974\n",
      "\n",
      "ndcg@50: 0.679312\n",
      "ndcg@100: 0.683487\n",
      "\n",
      "hits@1: 0.541229\n",
      "hits@5: 0.729560\n",
      "hits@10: 0.775736\n",
      "hits@20: 0.815619\n",
      "\n",
      "hits@50: 0.858395\n",
      "hits@100: 0.883754\n",
      "\n",
      "map@1: 0.541229\n",
      "map@5: 0.616866\n",
      "map@10: 0.623089\n",
      "map@20: 0.625894\n",
      "\n",
      "map@50: 0.627324\n",
      "map@100: 0.627688\n",
      "\n",
      "ndcg@1: 0.541229\n",
      "ndcg@5: 0.645264\n",
      "ndcg@10: 0.660258\n",
      "ndcg@20: 0.670388\n",
      "\n",
      "ndcg@50: 0.678993\n",
      "ndcg@100: 0.683109\n",
      "\n"
     ]
    }
   ],
   "source": [
    "our_method_metrics_10 = read_file('gowalla_our_method_stability_10.txt')"
   ]
  },
  {
   "cell_type": "code",
   "execution_count": 9,
   "metadata": {
    "execution": {
     "iopub.execute_input": "2024-05-15T11:35:56.075162Z",
     "iopub.status.busy": "2024-05-15T11:35:56.074401Z",
     "iopub.status.idle": "2024-05-15T11:35:56.086104Z",
     "shell.execute_reply": "2024-05-15T11:35:56.085465Z",
     "shell.execute_reply.started": "2024-05-15T11:35:56.075128Z"
    }
   },
   "outputs": [],
   "source": [
    "our_method_metrics_10_mean = {}\n",
    "for key in our_method_metrics_10.keys():\n",
    "  our_method_metrics_10_mean[key] = np.array(our_method_metrics_10[key]).mean()"
   ]
  },
  {
   "cell_type": "code",
   "execution_count": 10,
   "metadata": {
    "execution": {
     "iopub.execute_input": "2024-05-15T11:36:03.914018Z",
     "iopub.status.busy": "2024-05-15T11:36:03.913528Z",
     "iopub.status.idle": "2024-05-15T11:36:03.940422Z",
     "shell.execute_reply": "2024-05-15T11:36:03.939728Z",
     "shell.execute_reply.started": "2024-05-15T11:36:03.913975Z"
    }
   },
   "outputs": [
    {
     "data": {
      "text/plain": [
       "{'hits@1': 0.5415709999999999,\n",
       " 'hits@5': 0.7309493333333332,\n",
       " 'hits@10': 0.7762566666666667,\n",
       " 'hits@20': 0.8161886666666667,\n",
       " 'hits@50': 0.8584606666666668,\n",
       " 'hits@100': 0.8841683333333333,\n",
       " 'map@1': 0.5415709999999999,\n",
       " 'map@5': 0.6177296666666666,\n",
       " 'map@10': 0.623824,\n",
       " 'map@20': 0.6266269999999999,\n",
       " 'map@50': 0.6280193333333334,\n",
       " 'map@100': 0.6283896666666666,\n",
       " 'ndcg@1': 0.5415709999999999,\n",
       " 'ndcg@5': 0.6462643333333333,\n",
       " 'ndcg@10': 0.660964,\n",
       " 'ndcg@20': 0.6711,\n",
       " 'ndcg@50': 0.6795676666666667,\n",
       " 'ndcg@100': 0.6837446666666667}"
      ]
     },
     "execution_count": 10,
     "metadata": {},
     "output_type": "execute_result"
    }
   ],
   "source": [
    "our_method_metrics_10_mean"
   ]
  },
  {
   "cell_type": "code",
   "execution_count": 11,
   "metadata": {
    "execution": {
     "iopub.execute_input": "2024-05-15T11:38:11.324387Z",
     "iopub.status.busy": "2024-05-15T11:38:11.323588Z",
     "iopub.status.idle": "2024-05-15T11:38:11.339588Z",
     "shell.execute_reply": "2024-05-15T11:38:11.338873Z",
     "shell.execute_reply.started": "2024-05-15T11:38:11.324343Z"
    }
   },
   "outputs": [],
   "source": [
    "our_method_metrics_10_std = {}\n",
    "for key in our_method_metrics_10.keys():\n",
    "  our_method_metrics_10_std[key] = np.array(our_method_metrics_10[key]).std()"
   ]
  },
  {
   "cell_type": "code",
   "execution_count": 12,
   "metadata": {
    "execution": {
     "iopub.execute_input": "2024-05-15T11:38:18.456720Z",
     "iopub.status.busy": "2024-05-15T11:38:18.456210Z",
     "iopub.status.idle": "2024-05-15T11:38:18.471286Z",
     "shell.execute_reply": "2024-05-15T11:38:18.470594Z",
     "shell.execute_reply.started": "2024-05-15T11:38:18.456676Z"
    }
   },
   "outputs": [
    {
     "data": {
      "text/plain": [
       "{'hits@1': 0.00040901426218004235,\n",
       " 'hits@5': 0.0011452878337877674,\n",
       " 'hits@10': 0.0004291233958768703,\n",
       " 'hits@20': 0.0004699661926375416,\n",
       " 'hits@50': 0.0005355970707744762,\n",
       " 'hits@100': 0.0007755747689438103,\n",
       " 'map@1': 0.00040901426218004235,\n",
       " 'map@5': 0.0007468343561697923,\n",
       " 'map@10': 0.000660640598207523,\n",
       " 'map@20': 0.0006666578332748435,\n",
       " 'map@50': 0.0006496236517314252,\n",
       " 'map@100': 0.0006538166579571121,\n",
       " 'ndcg@1': 0.00040901426218004235,\n",
       " 'ndcg@5': 0.0008478428837677575,\n",
       " 'ndcg@10': 0.0006247276740041467,\n",
       " 'ndcg@20': 0.0006390263427016897,\n",
       " 'ndcg@50': 0.0006014040978317918,\n",
       " 'ndcg@100': 0.0006502585810446685}"
      ]
     },
     "execution_count": 12,
     "metadata": {},
     "output_type": "execute_result"
    }
   ],
   "source": [
    "our_method_metrics_10_std"
   ]
  },
  {
   "cell_type": "code",
   "execution_count": 13,
   "metadata": {
    "execution": {
     "iopub.execute_input": "2024-05-15T11:39:41.964985Z",
     "iopub.status.busy": "2024-05-15T11:39:41.963985Z",
     "iopub.status.idle": "2024-05-15T11:39:41.982237Z",
     "shell.execute_reply": "2024-05-15T11:39:41.981390Z",
     "shell.execute_reply.started": "2024-05-15T11:39:41.964941Z"
    }
   },
   "outputs": [
    {
     "name": "stdout",
     "output_type": "stream",
     "text": [
      "hits@1: 0.549522\n",
      "hits@5: 0.740904\n",
      "hits@10: 0.784921\n",
      "hits@20: 0.822758\n",
      "\n",
      "hits@50: 0.863140\n",
      "hits@100: 0.887249\n",
      "\n",
      "map@1: 0.549522\n",
      "map@5: 0.626288\n",
      "map@10: 0.632234\n",
      "map@20: 0.634884\n",
      "\n",
      "map@50: 0.636229\n",
      "map@100: 0.636577\n",
      "\n",
      "ndcg@1: 0.549522\n",
      "ndcg@5: 0.655159\n",
      "ndcg@10: 0.669464\n",
      "ndcg@20: 0.679061\n",
      "\n",
      "ndcg@50: 0.687174\n",
      "ndcg@100: 0.691094\n",
      "\n",
      "hits@1: 0.550518\n",
      "hits@5: 0.737659\n",
      "hits@10: 0.780678\n",
      "hits@20: 0.824549\n",
      "\n",
      "hits@50: 0.860888\n",
      "hits@100: 0.885545\n",
      "\n",
      "map@1: 0.550518\n",
      "map@5: 0.625598\n",
      "map@10: 0.631422\n",
      "map@20: 0.634487\n",
      "\n",
      "map@50: 0.635699\n",
      "map@100: 0.636054\n",
      "\n",
      "ndcg@1: 0.550518\n",
      "ndcg@5: 0.653831\n",
      "ndcg@10: 0.667826\n",
      "ndcg@20: 0.678944\n",
      "\n",
      "ndcg@50: 0.686247\n",
      "ndcg@100: 0.690255\n",
      "\n",
      "hits@1: 0.551204\n",
      "hits@5: 0.740436\n",
      "hits@10: 0.785661\n",
      "hits@20: 0.823547\n",
      "\n",
      "hits@50: 0.862186\n",
      "hits@100: 0.886047\n",
      "\n",
      "map@1: 0.551204\n",
      "map@5: 0.626949\n",
      "map@10: 0.633050\n",
      "map@20: 0.635686\n",
      "\n",
      "map@50: 0.636959\n",
      "map@100: 0.637301\n",
      "\n",
      "ndcg@1: 0.551204\n",
      "ndcg@5: 0.655521\n",
      "ndcg@10: 0.670211\n",
      "ndcg@20: 0.679799\n",
      "\n",
      "ndcg@50: 0.687538\n",
      "ndcg@100: 0.691412\n",
      "\n"
     ]
    }
   ],
   "source": [
    "our_method_metrics_15 = read_file('gowalla_our_method_stability_15.txt')"
   ]
  },
  {
   "cell_type": "code",
   "execution_count": 14,
   "metadata": {
    "execution": {
     "iopub.execute_input": "2024-05-15T11:40:17.492851Z",
     "iopub.status.busy": "2024-05-15T11:40:17.492059Z",
     "iopub.status.idle": "2024-05-15T11:40:17.518759Z",
     "shell.execute_reply": "2024-05-15T11:40:17.517928Z",
     "shell.execute_reply.started": "2024-05-15T11:40:17.492811Z"
    }
   },
   "outputs": [],
   "source": [
    "our_method_metrics_15_mean = {}\n",
    "for key in our_method_metrics_15.keys():\n",
    "  our_method_metrics_15_mean[key] = np.array(our_method_metrics_15[key]).mean()"
   ]
  },
  {
   "cell_type": "code",
   "execution_count": 15,
   "metadata": {
    "execution": {
     "iopub.execute_input": "2024-05-15T11:40:24.654841Z",
     "iopub.status.busy": "2024-05-15T11:40:24.654002Z",
     "iopub.status.idle": "2024-05-15T11:40:24.685281Z",
     "shell.execute_reply": "2024-05-15T11:40:24.684557Z",
     "shell.execute_reply.started": "2024-05-15T11:40:24.654800Z"
    }
   },
   "outputs": [
    {
     "data": {
      "text/plain": [
       "{'hits@1': 0.5504146666666666,\n",
       " 'hits@5': 0.7396663333333332,\n",
       " 'hits@10': 0.7837533333333333,\n",
       " 'hits@20': 0.8236180000000001,\n",
       " 'hits@50': 0.8620713333333333,\n",
       " 'hits@100': 0.8862803333333332,\n",
       " 'map@1': 0.5504146666666666,\n",
       " 'map@5': 0.6262783333333333,\n",
       " 'map@10': 0.6322353333333334,\n",
       " 'map@20': 0.635019,\n",
       " 'map@50': 0.6362956666666667,\n",
       " 'map@100': 0.636644,\n",
       " 'ndcg@1': 0.5504146666666666,\n",
       " 'ndcg@5': 0.654837,\n",
       " 'ndcg@10': 0.669167,\n",
       " 'ndcg@20': 0.679268,\n",
       " 'ndcg@50': 0.6869863333333334,\n",
       " 'ndcg@100': 0.6909203333333332}"
      ]
     },
     "execution_count": 15,
     "metadata": {},
     "output_type": "execute_result"
    }
   ],
   "source": [
    "our_method_metrics_15_mean"
   ]
  },
  {
   "cell_type": "code",
   "execution_count": 16,
   "metadata": {
    "execution": {
     "iopub.execute_input": "2024-05-15T11:41:36.125519Z",
     "iopub.status.busy": "2024-05-15T11:41:36.124845Z",
     "iopub.status.idle": "2024-05-15T11:41:36.139603Z",
     "shell.execute_reply": "2024-05-15T11:41:36.138939Z",
     "shell.execute_reply.started": "2024-05-15T11:41:36.125477Z"
    }
   },
   "outputs": [],
   "source": [
    "our_method_metrics_15_std = {}\n",
    "for key in our_method_metrics_15.keys():\n",
    "  our_method_metrics_15_std[key] = np.array(our_method_metrics_15[key]).std()"
   ]
  },
  {
   "cell_type": "code",
   "execution_count": 17,
   "metadata": {
    "execution": {
     "iopub.execute_input": "2024-05-15T11:41:45.071809Z",
     "iopub.status.busy": "2024-05-15T11:41:45.070968Z",
     "iopub.status.idle": "2024-05-15T11:41:45.112518Z",
     "shell.execute_reply": "2024-05-15T11:41:45.111733Z",
     "shell.execute_reply.started": "2024-05-15T11:41:45.071760Z"
    }
   },
   "outputs": [
    {
     "data": {
      "text/plain": [
       "{'hits@1': 0.0006905501832275431,\n",
       " 'hits@5': 0.001432200249809926,\n",
       " 'hits@10': 0.0021954735758424214,\n",
       " 'hits@20': 0.0007328942624962963,\n",
       " 'hits@50': 0.0009229436000584831,\n",
       " 'hits@100': 0.0007149533007282191,\n",
       " 'map@1': 0.0006905501832275431,\n",
       " 'map@5': 0.0005515857946764807,\n",
       " 'map@10': 0.0006646288855861859,\n",
       " 'map@20': 0.000498711005158946,\n",
       " 'map@50': 0.0005165483735549248,\n",
       " 'map@100': 0.0005112853084791978,\n",
       " 'ndcg@1': 0.0006905501832275431,\n",
       " 'ndcg@5': 0.0007265388266752519,\n",
       " 'ndcg@10': 0.0009960632510036514,\n",
       " 'ndcg@20': 0.00037849966974888246,\n",
       " 'ndcg@50': 0.0005434975212045753,\n",
       " 'ndcg@100': 0.00048804530755069313}"
      ]
     },
     "execution_count": 17,
     "metadata": {},
     "output_type": "execute_result"
    }
   ],
   "source": [
    "our_method_metrics_15_std"
   ]
  },
  {
   "cell_type": "code",
   "execution_count": 45,
   "metadata": {
    "execution": {
     "iopub.execute_input": "2024-05-15T12:13:43.827373Z",
     "iopub.status.busy": "2024-05-15T12:13:43.826499Z",
     "iopub.status.idle": "2024-05-15T12:13:43.845824Z",
     "shell.execute_reply": "2024-05-15T12:13:43.845129Z",
     "shell.execute_reply.started": "2024-05-15T12:13:43.827324Z"
    },
    "tags": []
   },
   "outputs": [
    {
     "name": "stdout",
     "output_type": "stream",
     "text": [
      "hits@1: 0.568695\n",
      "hits@5: 0.752186\n",
      "hits@10: 0.793261\n",
      "hits@20: 0.831147\n",
      "\n",
      "hits@50: 0.866535\n",
      "hits@100: 0.889195\n",
      "\n",
      "map@1: 0.568695\n",
      "map@5: 0.642826\n",
      "map@10: 0.648359\n",
      "map@20: 0.651020\n",
      "\n",
      "map@50: 0.652201\n",
      "map@100: 0.652528\n",
      "\n",
      "ndcg@1: 0.568695\n",
      "ndcg@5: 0.670399\n",
      "ndcg@10: 0.683734\n",
      "ndcg@20: 0.693354\n",
      "\n",
      "ndcg@50: 0.700468\n",
      "ndcg@100: 0.704153\n",
      "\n",
      "hits@1: 0.572033\n",
      "hits@5: 0.752529\n",
      "hits@10: 0.795607\n",
      "hits@20: 0.828096\n",
      "\n",
      "hits@50: 0.864582\n",
      "hits@100: 0.887339\n",
      "\n",
      "map@1: 0.572033\n",
      "map@5: 0.644581\n",
      "map@10: 0.650406\n",
      "map@20: 0.652721\n",
      "\n",
      "map@50: 0.653912\n",
      "map@100: 0.654239\n",
      "\n",
      "ndcg@1: 0.572033\n",
      "ndcg@5: 0.671779\n",
      "ndcg@10: 0.685785\n",
      "ndcg@20: 0.694074\n",
      "\n",
      "ndcg@50: 0.701364\n",
      "ndcg@100: 0.705060\n",
      "\n",
      "hits@1: 0.572424\n",
      "hits@5: 0.752121\n",
      "hits@10: 0.793801\n",
      "hits@20: 0.830287\n",
      "\n",
      "hits@50: 0.864928\n",
      "hits@100: 0.888737\n",
      "\n",
      "map@1: 0.572424\n",
      "map@5: 0.644899\n",
      "map@10: 0.650594\n",
      "map@20: 0.653197\n",
      "\n",
      "map@50: 0.654337\n",
      "map@100: 0.654673\n",
      "\n",
      "ndcg@1: 0.572424\n",
      "ndcg@5: 0.671923\n",
      "ndcg@10: 0.685536\n",
      "ndcg@20: 0.694848\n",
      "\n",
      "ndcg@50: 0.701786\n",
      "ndcg@100: 0.705636\n"
     ]
    }
   ],
   "source": [
    "our_method_metrics_0 = read_file('gowalla_our_method_stability_0.txt')"
   ]
  },
  {
   "cell_type": "code",
   "execution_count": 46,
   "metadata": {
    "execution": {
     "iopub.execute_input": "2024-05-15T12:13:48.853653Z",
     "iopub.status.busy": "2024-05-15T12:13:48.852908Z",
     "iopub.status.idle": "2024-05-15T12:13:48.870647Z",
     "shell.execute_reply": "2024-05-15T12:13:48.869955Z",
     "shell.execute_reply.started": "2024-05-15T12:13:48.853611Z"
    },
    "tags": []
   },
   "outputs": [],
   "source": [
    "our_method_metrics_0_mean = {}\n",
    "for key in our_method_metrics_0.keys():\n",
    "  our_method_metrics_0_mean[key] = np.array(our_method_metrics_0[key]).mean()"
   ]
  },
  {
   "cell_type": "code",
   "execution_count": 47,
   "metadata": {
    "execution": {
     "iopub.execute_input": "2024-05-15T12:13:49.658177Z",
     "iopub.status.busy": "2024-05-15T12:13:49.657464Z",
     "iopub.status.idle": "2024-05-15T12:13:49.669477Z",
     "shell.execute_reply": "2024-05-15T12:13:49.668837Z",
     "shell.execute_reply.started": "2024-05-15T12:13:49.658131Z"
    },
    "tags": []
   },
   "outputs": [
    {
     "data": {
      "text/plain": [
       "{'hits@1': 0.5710506666666667,\n",
       " 'hits@5': 0.7522786666666667,\n",
       " 'hits@10': 0.794223,\n",
       " 'hits@20': 0.8298433333333334,\n",
       " 'hits@50': 0.8653483333333334,\n",
       " 'hits@100': 0.8884236666666666,\n",
       " 'map@1': 0.5710506666666667,\n",
       " 'map@5': 0.6441020000000001,\n",
       " 'map@10': 0.6497863333333332,\n",
       " 'map@20': 0.6523126666666667,\n",
       " 'map@50': 0.6534833333333333,\n",
       " 'map@100': 0.6538133333333334,\n",
       " 'ndcg@1': 0.5710506666666667,\n",
       " 'ndcg@5': 0.671367,\n",
       " 'ndcg@10': 0.6850183333333333,\n",
       " 'ndcg@20': 0.6940919999999999,\n",
       " 'ndcg@50': 0.701206,\n",
       " 'ndcg@100': 0.7049496666666667}"
      ]
     },
     "execution_count": 47,
     "metadata": {},
     "output_type": "execute_result"
    }
   ],
   "source": [
    "our_method_metrics_0_mean"
   ]
  },
  {
   "cell_type": "code",
   "execution_count": 48,
   "metadata": {
    "execution": {
     "iopub.execute_input": "2024-05-15T12:13:53.272828Z",
     "iopub.status.busy": "2024-05-15T12:13:53.271873Z",
     "iopub.status.idle": "2024-05-15T12:13:53.283476Z",
     "shell.execute_reply": "2024-05-15T12:13:53.282705Z",
     "shell.execute_reply.started": "2024-05-15T12:13:53.272783Z"
    },
    "tags": []
   },
   "outputs": [],
   "source": [
    "our_method_metrics_0_std = {}\n",
    "for key in our_method_metrics_0.keys():\n",
    "  our_method_metrics_0_std[key] = np.array(our_method_metrics_0[key]).std()"
   ]
  },
  {
   "cell_type": "code",
   "execution_count": 49,
   "metadata": {
    "execution": {
     "iopub.execute_input": "2024-05-15T12:14:04.823890Z",
     "iopub.status.busy": "2024-05-15T12:14:04.823133Z",
     "iopub.status.idle": "2024-05-15T12:14:04.840738Z",
     "shell.execute_reply": "2024-05-15T12:14:04.839900Z",
     "shell.execute_reply.started": "2024-05-15T12:14:04.823845Z"
    }
   },
   "outputs": [
    {
     "data": {
      "text/plain": [
       "{'hits@1': 0.001673338844612476,\n",
       " 'hits@5': 0.00017899037838819902,\n",
       " 'hits@10': 0.0010031590103268607,\n",
       " 'hits@20': 0.0012844662531789088,\n",
       " 'hits@50': 0.0008509063142059825,\n",
       " 'hits@100': 0.0007894374931275696,\n",
       " 'map@1': 0.001673338844612476,\n",
       " 'map@5': 0.0009115602009741211,\n",
       " 'map@10': 0.0010121911325875615,\n",
       " 'map@20': 0.0009344817934139756,\n",
       " 'map@50': 0.0009231974629273593,\n",
       " 'map@100': 0.0009259770815498262,\n",
       " 'ndcg@1': 0.001673338844612476,\n",
       " 'ndcg@5': 0.000686999272197608,\n",
       " 'ndcg@10': 0.0009138323454308216,\n",
       " 'ndcg@20': 0.0006100557351586806,\n",
       " 'ndcg@50': 0.0005495476928044403,\n",
       " 'ndcg@100': 0.000610438276068018}"
      ]
     },
     "execution_count": 49,
     "metadata": {},
     "output_type": "execute_result"
    }
   ],
   "source": [
    "our_method_metrics_0_std"
   ]
  },
  {
   "cell_type": "code",
   "execution_count": 20,
   "metadata": {
    "execution": {
     "iopub.execute_input": "2024-05-15T11:45:57.829268Z",
     "iopub.status.busy": "2024-05-15T11:45:57.828513Z",
     "iopub.status.idle": "2024-05-15T11:45:57.855451Z",
     "shell.execute_reply": "2024-05-15T11:45:57.854451Z",
     "shell.execute_reply.started": "2024-05-15T11:45:57.829228Z"
    },
    "tags": []
   },
   "outputs": [
    {
     "name": "stdout",
     "output_type": "stream",
     "text": [
      "hits@1: 0.447641\n",
      "hits@5: 0.640206\n",
      "hits@10: 0.689471\n",
      "hits@20: 0.736193\n",
      "\n",
      "hits@50: 0.794341\n",
      "hits@100: 0.835875\n",
      "\n",
      "map@1: 0.447641\n",
      "map@5: 0.524490\n",
      "map@10: 0.531109\n",
      "map@20: 0.534365\n",
      "\n",
      "map@50: 0.536217\n",
      "map@100: 0.536812\n",
      "\n",
      "ndcg@1: 0.447641\n",
      "ndcg@5: 0.553619\n",
      "ndcg@10: 0.569594\n",
      "ndcg@20: 0.581425\n",
      "\n",
      "ndcg@50: 0.592959\n",
      "ndcg@100: 0.599701\n",
      "\n",
      "hits@1: 0.448625\n",
      "hits@5: 0.638156\n",
      "hits@10: 0.687125\n",
      "hits@20: 0.734995\n",
      "\n",
      "hits@50: 0.792350\n",
      "hits@100: 0.835425\n",
      "\n",
      "map@1: 0.448625\n",
      "map@5: 0.523522\n",
      "map@10: 0.530157\n",
      "map@20: 0.533462\n",
      "\n",
      "map@50: 0.535284\n",
      "map@100: 0.535903\n",
      "\n",
      "ndcg@1: 0.448625\n",
      "ndcg@5: 0.552333\n",
      "ndcg@10: 0.568268\n",
      "ndcg@20: 0.580350\n",
      "\n",
      "ndcg@50: 0.591722\n",
      "ndcg@100: 0.598719\n",
      "\n",
      "hits@1: 0.447395\n",
      "hits@5: 0.640574\n",
      "hits@10: 0.689442\n",
      "hits@20: 0.737060\n",
      "\n",
      "hits@50: 0.794459\n",
      "hits@100: 0.835881\n",
      "\n",
      "map@1: 0.447395\n",
      "map@5: 0.523945\n",
      "map@10: 0.530547\n",
      "map@20: 0.533856\n",
      "\n",
      "map@50: 0.535706\n",
      "map@100: 0.536302\n",
      "\n",
      "ndcg@1: 0.447395\n",
      "ndcg@5: 0.553271\n",
      "ndcg@10: 0.569156\n",
      "ndcg@20: 0.581200\n",
      "\n",
      "ndcg@50: 0.592631\n",
      "ndcg@100: 0.599360\n",
      "\n"
     ]
    }
   ],
   "source": [
    "rnn_metrics_5 = read_file('gowalla_rnn_stability_coeff_5.txt')"
   ]
  },
  {
   "cell_type": "code",
   "execution_count": 21,
   "metadata": {
    "execution": {
     "iopub.execute_input": "2024-05-15T11:46:45.797038Z",
     "iopub.status.busy": "2024-05-15T11:46:45.796183Z",
     "iopub.status.idle": "2024-05-15T11:46:45.809070Z",
     "shell.execute_reply": "2024-05-15T11:46:45.808300Z",
     "shell.execute_reply.started": "2024-05-15T11:46:45.796993Z"
    }
   },
   "outputs": [],
   "source": [
    "rnn_metrics_5_mean = {}\n",
    "for key in rnn_metrics_5.keys():\n",
    "  rnn_metrics_5_mean[key] = np.array(rnn_metrics_5[key]).mean()"
   ]
  },
  {
   "cell_type": "code",
   "execution_count": 22,
   "metadata": {
    "execution": {
     "iopub.execute_input": "2024-05-15T11:46:52.369168Z",
     "iopub.status.busy": "2024-05-15T11:46:52.368424Z",
     "iopub.status.idle": "2024-05-15T11:46:52.385544Z",
     "shell.execute_reply": "2024-05-15T11:46:52.384878Z",
     "shell.execute_reply.started": "2024-05-15T11:46:52.369135Z"
    }
   },
   "outputs": [
    {
     "data": {
      "text/plain": [
       "{'hits@1': 0.447887,\n",
       " 'hits@5': 0.6396453333333333,\n",
       " 'hits@10': 0.6886793333333333,\n",
       " 'hits@20': 0.7360826666666668,\n",
       " 'hits@50': 0.7937166666666666,\n",
       " 'hits@100': 0.835727,\n",
       " 'map@1': 0.447887,\n",
       " 'map@5': 0.5239856666666666,\n",
       " 'map@10': 0.5306043333333333,\n",
       " 'map@20': 0.5338943333333334,\n",
       " 'map@50': 0.5357356666666667,\n",
       " 'map@100': 0.536339,\n",
       " 'ndcg@1': 0.447887,\n",
       " 'ndcg@5': 0.5530743333333333,\n",
       " 'ndcg@10': 0.569006,\n",
       " 'ndcg@20': 0.5809916666666667,\n",
       " 'ndcg@50': 0.5924373333333333,\n",
       " 'ndcg@100': 0.59926}"
      ]
     },
     "execution_count": 22,
     "metadata": {},
     "output_type": "execute_result"
    }
   ],
   "source": [
    "rnn_metrics_5_mean"
   ]
  },
  {
   "cell_type": "code",
   "execution_count": 23,
   "metadata": {
    "execution": {
     "iopub.execute_input": "2024-05-15T11:47:46.812044Z",
     "iopub.status.busy": "2024-05-15T11:47:46.811148Z",
     "iopub.status.idle": "2024-05-15T11:47:46.832603Z",
     "shell.execute_reply": "2024-05-15T11:47:46.831879Z",
     "shell.execute_reply.started": "2024-05-15T11:47:46.811996Z"
    }
   },
   "outputs": [],
   "source": [
    "rnn_metrics_5_std = {}\n",
    "for key in rnn_metrics_5.keys():\n",
    "  rnn_metrics_5_std[key] = np.array(rnn_metrics_5[key]).std()"
   ]
  },
  {
   "cell_type": "code",
   "execution_count": 24,
   "metadata": {
    "execution": {
     "iopub.execute_input": "2024-05-15T11:47:56.686120Z",
     "iopub.status.busy": "2024-05-15T11:47:56.685419Z",
     "iopub.status.idle": "2024-05-15T11:47:56.702490Z",
     "shell.execute_reply": "2024-05-15T11:47:56.701800Z",
     "shell.execute_reply.started": "2024-05-15T11:47:56.686075Z"
    }
   },
   "outputs": [
    {
     "data": {
      "text/plain": [
       "{'hits@1': 0.0005314207372694449,\n",
       " 'hits@5': 0.001063779843555806,\n",
       " 'hits@10': 0.0010991434038478362,\n",
       " 'hits@20': 0.0008466350387793743,\n",
       " 'hits@50': 0.0009675792244336144,\n",
       " 'hits@100': 0.00021356029593538048,\n",
       " 'map@1': 0.0005314207372694449,\n",
       " 'map@5': 0.0003962291705005405,\n",
       " 'map@10': 0.0003907610807414726,\n",
       " 'map@20': 0.00036964337167358764,\n",
       " 'map@50': 0.00038147287656605184,\n",
       " 'map@100': 0.0003720188167283775,\n",
       " 'ndcg@1': 0.0005314207372694449,\n",
       " 'ndcg@5': 0.0005431128386951999,\n",
       " 'ndcg@10': 0.000551630310987367,\n",
       " 'ndcg@20': 0.0004629314804110213,\n",
       " 'ndcg@50': 0.0005232413931978023,\n",
       " 'ndcg@100': 0.0004070880330673921}"
      ]
     },
     "execution_count": 24,
     "metadata": {},
     "output_type": "execute_result"
    }
   ],
   "source": [
    "rnn_metrics_5_std"
   ]
  },
  {
   "cell_type": "code",
   "execution_count": 25,
   "metadata": {
    "execution": {
     "iopub.execute_input": "2024-05-15T11:52:25.325174Z",
     "iopub.status.busy": "2024-05-15T11:52:25.324306Z",
     "iopub.status.idle": "2024-05-15T11:52:25.348016Z",
     "shell.execute_reply": "2024-05-15T11:52:25.347251Z",
     "shell.execute_reply.started": "2024-05-15T11:52:25.325125Z"
    }
   },
   "outputs": [
    {
     "name": "stdout",
     "output_type": "stream",
     "text": [
      "hits@1: 0.484074\n",
      "hits@5: 0.673649\n",
      "hits@10: 0.723217\n",
      "hits@20: 0.770039\n",
      "\n",
      "hits@50: 0.821557\n",
      "hits@100: 0.855197\n",
      "\n",
      "map@1: 0.484074\n",
      "map@5: 0.560002\n",
      "map@10: 0.566599\n",
      "map@20: 0.569899\n",
      "\n",
      "map@50: 0.571587\n",
      "map@100: 0.572059\n",
      "\n",
      "ndcg@1: 0.484074\n",
      "ndcg@5: 0.588622\n",
      "ndcg@10: 0.604633\n",
      "ndcg@20: 0.616534\n",
      "\n",
      "ndcg@50: 0.626838\n",
      "ndcg@100: 0.632272\n",
      "\n",
      "hits@1: 0.485207\n",
      "hits@5: 0.670942\n",
      "hits@10: 0.721760\n",
      "hits@20: 0.769634\n",
      "\n",
      "hits@50: 0.823045\n",
      "hits@100: 0.855840\n",
      "\n",
      "map@1: 0.485207\n",
      "map@5: 0.559263\n",
      "map@10: 0.566021\n",
      "map@20: 0.569330\n",
      "\n",
      "map@50: 0.571096\n",
      "map@100: 0.571567\n",
      "\n",
      "ndcg@1: 0.485207\n",
      "ndcg@5: 0.587370\n",
      "ndcg@10: 0.603778\n",
      "ndcg@20: 0.615866\n",
      "\n",
      "ndcg@50: 0.626574\n",
      "ndcg@100: 0.631901\n",
      "\n",
      "hits@1: 0.485269\n",
      "hits@5: 0.672792\n",
      "hits@10: 0.724159\n",
      "hits@20: 0.769437\n",
      "\n",
      "hits@50: 0.823051\n",
      "hits@100: 0.856797\n",
      "\n",
      "map@1: 0.485269\n",
      "map@5: 0.559826\n",
      "map@10: 0.566746\n",
      "map@20: 0.569878\n",
      "\n",
      "map@50: 0.571611\n",
      "map@100: 0.572094\n",
      "\n",
      "ndcg@1: 0.485269\n",
      "ndcg@5: 0.588246\n",
      "ndcg@10: 0.604921\n",
      "ndcg@20: 0.616356\n",
      "\n",
      "ndcg@50: 0.627040\n",
      "ndcg@100: 0.632517\n",
      "\n"
     ]
    }
   ],
   "source": [
    "rnn_metrics_10 = read_file('gowalla_rnn_stability_coeffi_10.txt')"
   ]
  },
  {
   "cell_type": "code",
   "execution_count": 26,
   "metadata": {
    "execution": {
     "iopub.execute_input": "2024-05-15T11:52:57.662796Z",
     "iopub.status.busy": "2024-05-15T11:52:57.662015Z",
     "iopub.status.idle": "2024-05-15T11:52:57.674997Z",
     "shell.execute_reply": "2024-05-15T11:52:57.674321Z",
     "shell.execute_reply.started": "2024-05-15T11:52:57.662749Z"
    }
   },
   "outputs": [],
   "source": [
    "rnn_metrics_10_mean = {}\n",
    "for key in rnn_metrics_10.keys():\n",
    "  rnn_metrics_10_mean[key] = np.array(rnn_metrics_10[key]).mean()"
   ]
  },
  {
   "cell_type": "code",
   "execution_count": 27,
   "metadata": {
    "execution": {
     "iopub.execute_input": "2024-05-15T11:53:08.138089Z",
     "iopub.status.busy": "2024-05-15T11:53:08.137384Z",
     "iopub.status.idle": "2024-05-15T11:53:08.151275Z",
     "shell.execute_reply": "2024-05-15T11:53:08.150468Z",
     "shell.execute_reply.started": "2024-05-15T11:53:08.138042Z"
    }
   },
   "outputs": [
    {
     "data": {
      "text/plain": [
       "{'hits@1': 0.48485,\n",
       " 'hits@5': 0.6724610000000001,\n",
       " 'hits@10': 0.7230453333333333,\n",
       " 'hits@20': 0.7697033333333333,\n",
       " 'hits@50': 0.8225509999999999,\n",
       " 'hits@100': 0.8559446666666668,\n",
       " 'map@1': 0.48485,\n",
       " 'map@5': 0.559697,\n",
       " 'map@10': 0.5664553333333333,\n",
       " 'map@20': 0.5697023333333333,\n",
       " 'map@50': 0.5714313333333333,\n",
       " 'map@100': 0.5719066666666667,\n",
       " 'ndcg@1': 0.48485,\n",
       " 'ndcg@5': 0.5880793333333333,\n",
       " 'ndcg@10': 0.604444,\n",
       " 'ndcg@20': 0.6162520000000001,\n",
       " 'ndcg@50': 0.6268173333333333,\n",
       " 'ndcg@100': 0.63223}"
      ]
     },
     "execution_count": 27,
     "metadata": {},
     "output_type": "execute_result"
    }
   ],
   "source": [
    "rnn_metrics_10_mean"
   ]
  },
  {
   "cell_type": "code",
   "execution_count": 28,
   "metadata": {
    "execution": {
     "iopub.execute_input": "2024-05-15T11:55:31.561191Z",
     "iopub.status.busy": "2024-05-15T11:55:31.560288Z",
     "iopub.status.idle": "2024-05-15T11:55:31.584644Z",
     "shell.execute_reply": "2024-05-15T11:55:31.583931Z",
     "shell.execute_reply.started": "2024-05-15T11:55:31.561141Z"
    }
   },
   "outputs": [],
   "source": [
    "rnn_metrics_10_std = {}\n",
    "for key in rnn_metrics_10.keys():\n",
    "  rnn_metrics_10_std[key] = np.array(rnn_metrics_10[key]).std()"
   ]
  },
  {
   "cell_type": "code",
   "execution_count": 29,
   "metadata": {
    "execution": {
     "iopub.execute_input": "2024-05-15T11:55:40.014829Z",
     "iopub.status.busy": "2024-05-15T11:55:40.014146Z",
     "iopub.status.idle": "2024-05-15T11:55:40.033885Z",
     "shell.execute_reply": "2024-05-15T11:55:40.033170Z",
     "shell.execute_reply.started": "2024-05-15T11:55:40.014788Z"
    }
   },
   "outputs": [
    {
     "data": {
      "text/plain": [
       "{'hits@1': 0.0005492983403094041,\n",
       " 'hits@5': 0.0011296409459056705,\n",
       " 'hits@10': 0.0009868813955531451,\n",
       " 'hits@20': 0.0002506077058316846,\n",
       " 'hits@50': 0.0007028684087366662,\n",
       " 'hits@100': 0.0006573767734125112,\n",
       " 'map@1': 0.0005492983403094041,\n",
       " 'map@5': 0.0003151835444097355,\n",
       " 'map@10': 0.00031292846182828175,\n",
       " 'map@20': 0.00026341897341603963,\n",
       " 'map@50': 0.00023731881978091113,\n",
       " 'map@100': 0.00024060525532264567,\n",
       " 'ndcg@1': 0.0005492983403094041,\n",
       " 'ndcg@5': 0.000524537468209448,\n",
       " 'ndcg@10': 0.000485388504190194,\n",
       " 'ndcg@20': 0.0002824511757218694,\n",
       " 'ndcg@50': 0.0001908041462396305,\n",
       " 'ndcg@100': 0.00025322848707571243}"
      ]
     },
     "execution_count": 29,
     "metadata": {},
     "output_type": "execute_result"
    }
   ],
   "source": [
    "rnn_metrics_10_std"
   ]
  },
  {
   "cell_type": "code",
   "execution_count": 30,
   "metadata": {
    "execution": {
     "iopub.execute_input": "2024-05-15T11:57:29.329352Z",
     "iopub.status.busy": "2024-05-15T11:57:29.328665Z",
     "iopub.status.idle": "2024-05-15T11:57:29.355872Z",
     "shell.execute_reply": "2024-05-15T11:57:29.355087Z",
     "shell.execute_reply.started": "2024-05-15T11:57:29.329307Z"
    }
   },
   "outputs": [
    {
     "name": "stdout",
     "output_type": "stream",
     "text": [
      "hits@1: 0.511480\n",
      "hits@5: 0.700759\n",
      "hits@10: 0.746732\n",
      "hits@20: 0.790063\n",
      "\n",
      "hits@50: 0.837375\n",
      "hits@100: 0.868170\n",
      "\n",
      "map@1: 0.511480\n",
      "map@5: 0.587461\n",
      "map@10: 0.593647\n",
      "map@20: 0.596679\n",
      "\n",
      "map@50: 0.598248\n",
      "map@100: 0.598693\n",
      "\n",
      "ndcg@1: 0.511480\n",
      "ndcg@5: 0.616005\n",
      "ndcg@10: 0.630923\n",
      "ndcg@20: 0.641910\n",
      "\n",
      "ndcg@50: 0.651407\n",
      "ndcg@100: 0.656416\n",
      "\n",
      "hits@1: 0.510267\n",
      "hits@5: 0.699752\n",
      "hits@10: 0.746720\n",
      "hits@20: 0.790101\n",
      "\n",
      "hits@50: 0.837272\n",
      "hits@100: 0.864479\n",
      "\n",
      "map@1: 0.510267\n",
      "map@5: 0.586097\n",
      "map@10: 0.592426\n",
      "map@20: 0.595474\n",
      "\n",
      "map@50: 0.597011\n",
      "map@100: 0.597397\n",
      "\n",
      "ndcg@1: 0.510267\n",
      "ndcg@5: 0.614712\n",
      "ndcg@10: 0.629961\n",
      "ndcg@20: 0.640976\n",
      "\n",
      "ndcg@50: 0.650395\n",
      "ndcg@100: 0.654804\n",
      "\n",
      "hits@1: 0.511237\n",
      "hits@5: 0.700709\n",
      "hits@10: 0.749176\n",
      "hits@20: 0.793704\n",
      "\n",
      "hits@50: 0.841269\n",
      "hits@100: 0.871471\n",
      "\n",
      "map@1: 0.511237\n",
      "map@5: 0.587516\n",
      "map@10: 0.594042\n",
      "map@20: 0.597126\n",
      "\n",
      "map@50: 0.598691\n",
      "map@100: 0.599124\n",
      "\n",
      "ndcg@1: 0.511237\n",
      "ndcg@5: 0.616040\n",
      "ndcg@10: 0.631770\n",
      "ndcg@20: 0.643021\n",
      "\n",
      "ndcg@50: 0.652544\n",
      "ndcg@100: 0.657445\n"
     ]
    }
   ],
   "source": [
    "rnn_metrics_15 = read_file('gowalla_rnn_stability_coeff_15.txt')"
   ]
  },
  {
   "cell_type": "code",
   "execution_count": 31,
   "metadata": {
    "execution": {
     "iopub.execute_input": "2024-05-15T11:57:57.963153Z",
     "iopub.status.busy": "2024-05-15T11:57:57.962296Z",
     "iopub.status.idle": "2024-05-15T11:57:57.978677Z",
     "shell.execute_reply": "2024-05-15T11:57:57.978026Z",
     "shell.execute_reply.started": "2024-05-15T11:57:57.963109Z"
    }
   },
   "outputs": [],
   "source": [
    "rnn_metrics_15_mean = {}\n",
    "for key in rnn_metrics_15.keys():\n",
    "  rnn_metrics_15_mean[key] = np.array(rnn_metrics_15[key]).mean()"
   ]
  },
  {
   "cell_type": "code",
   "execution_count": 32,
   "metadata": {
    "execution": {
     "iopub.execute_input": "2024-05-15T11:58:04.196583Z",
     "iopub.status.busy": "2024-05-15T11:58:04.195773Z",
     "iopub.status.idle": "2024-05-15T11:58:04.209824Z",
     "shell.execute_reply": "2024-05-15T11:58:04.209168Z",
     "shell.execute_reply.started": "2024-05-15T11:58:04.196533Z"
    }
   },
   "outputs": [
    {
     "data": {
      "text/plain": [
       "{'hits@1': 0.5109946666666666,\n",
       " 'hits@5': 0.7004066666666667,\n",
       " 'hits@10': 0.7475426666666666,\n",
       " 'hits@20': 0.7912893333333333,\n",
       " 'hits@50': 0.8386386666666666,\n",
       " 'hits@100': 0.86804,\n",
       " 'map@1': 0.5109946666666666,\n",
       " 'map@5': 0.5870246666666666,\n",
       " 'map@10': 0.5933716666666666,\n",
       " 'map@20': 0.5964263333333333,\n",
       " 'map@50': 0.5979833333333334,\n",
       " 'map@100': 0.5984046666666666,\n",
       " 'ndcg@1': 0.5109946666666666,\n",
       " 'ndcg@5': 0.6155856666666667,\n",
       " 'ndcg@10': 0.6308846666666666,\n",
       " 'ndcg@20': 0.641969,\n",
       " 'ndcg@50': 0.6514486666666667,\n",
       " 'ndcg@100': 0.6562216666666667}"
      ]
     },
     "execution_count": 32,
     "metadata": {},
     "output_type": "execute_result"
    }
   ],
   "source": [
    "rnn_metrics_15_mean"
   ]
  },
  {
   "cell_type": "code",
   "execution_count": 33,
   "metadata": {
    "execution": {
     "iopub.execute_input": "2024-05-15T11:59:29.836380Z",
     "iopub.status.busy": "2024-05-15T11:59:29.835495Z",
     "iopub.status.idle": "2024-05-15T11:59:29.849213Z",
     "shell.execute_reply": "2024-05-15T11:59:29.848402Z",
     "shell.execute_reply.started": "2024-05-15T11:59:29.836332Z"
    }
   },
   "outputs": [],
   "source": [
    "rnn_metrics_15_std = {}\n",
    "for key in rnn_metrics_10.keys():\n",
    "  rnn_metrics_15_std[key] = np.array(rnn_metrics_15[key]).std()"
   ]
  },
  {
   "cell_type": "code",
   "execution_count": 34,
   "metadata": {
    "execution": {
     "iopub.execute_input": "2024-05-15T11:59:35.682609Z",
     "iopub.status.busy": "2024-05-15T11:59:35.681997Z",
     "iopub.status.idle": "2024-05-15T11:59:35.696596Z",
     "shell.execute_reply": "2024-05-15T11:59:35.695940Z",
     "shell.execute_reply.started": "2024-05-15T11:59:35.682574Z"
    }
   },
   "outputs": [
    {
     "data": {
      "text/plain": [
       "{'hits@1': 0.0005240142067624689,\n",
       " 'hits@5': 0.00046336906337052897,\n",
       " 'hits@10': 0.0011549514660317275,\n",
       " 'hits@20': 0.001707497649258164,\n",
       " 'hits@50': 0.0018604018084513272,\n",
       " 'hits@100': 0.00285595179697884,\n",
       " 'map@1': 0.0005240142067624689,\n",
       " 'map@5': 0.0006563435753391036,\n",
       " 'map@10': 0.0006878567357298116,\n",
       " 'map@20': 0.000697689679505822,\n",
       " 'map@50': 0.0007109319392334521,\n",
       " 'map@100': 0.0007339320283393095,\n",
       " 'ndcg@1': 0.0005240142067624689,\n",
       " 'ndcg@5': 0.0006179408457845172,\n",
       " 'ndcg@10': 0.0007390184180534735,\n",
       " 'ndcg@20': 0.0008359094847330311,\n",
       " 'ndcg@50': 0.0008778201536888243,\n",
       " 'ndcg@100': 0.0010869051885462665}"
      ]
     },
     "execution_count": 34,
     "metadata": {},
     "output_type": "execute_result"
    }
   ],
   "source": [
    "rnn_metrics_15_std"
   ]
  },
  {
   "cell_type": "code",
   "execution_count": 35,
   "metadata": {
    "execution": {
     "iopub.execute_input": "2024-05-15T12:04:24.211312Z",
     "iopub.status.busy": "2024-05-15T12:04:24.210498Z",
     "iopub.status.idle": "2024-05-15T12:04:24.239939Z",
     "shell.execute_reply": "2024-05-15T12:04:24.239217Z",
     "shell.execute_reply.started": "2024-05-15T12:04:24.211261Z"
    }
   },
   "outputs": [
    {
     "name": "stdout",
     "output_type": "stream",
     "text": [
      "hits@1: 0.554908\n",
      "hits@5: 0.729158\n",
      "hits@10: 0.772638\n",
      "hits@20: 0.811669\n",
      "\n",
      "hits@50: 0.853846\n",
      "hits@100: 0.880697\n",
      "\n",
      "map@1: 0.554908\n",
      "map@5: 0.624902\n",
      "map@10: 0.630842\n",
      "map@20: 0.633568\n",
      "\n",
      "map@50: 0.634955\n",
      "map@100: 0.635341\n",
      "\n",
      "ndcg@1: 0.554908\n",
      "ndcg@5: 0.651171\n",
      "ndcg@10: 0.665369\n",
      "ndcg@20: 0.675260\n",
      "\n",
      "ndcg@50: 0.683701\n",
      "ndcg@100: 0.688062\n",
      "\n",
      "hits@1: 0.555104\n",
      "hits@5: 0.729008\n",
      "hits@10: 0.773231\n",
      "hits@20: 0.812715\n",
      "\n",
      "hits@50: 0.852648\n",
      "hits@100: 0.877358\n",
      "\n",
      "map@1: 0.555104\n",
      "map@5: 0.624650\n",
      "map@10: 0.630536\n",
      "map@20: 0.633308\n",
      "\n",
      "map@50: 0.634631\n",
      "map@100: 0.634982\n",
      "\n",
      "ndcg@1: 0.555104\n",
      "ndcg@5: 0.650925\n",
      "ndcg@10: 0.665210\n",
      "ndcg@20: 0.675233\n",
      "\n",
      "ndcg@50: 0.683245\n",
      "ndcg@100: 0.687248\n",
      "\n",
      "hits@1: 0.553753\n",
      "hits@5: 0.729102\n",
      "hits@10: 0.774276\n",
      "hits@20: 0.813414\n",
      "\n",
      "hits@50: 0.853247\n",
      "hits@100: 0.879505\n",
      "\n",
      "map@1: 0.553753\n",
      "map@5: 0.624393\n",
      "map@10: 0.630467\n",
      "map@20: 0.633190\n",
      "\n",
      "map@50: 0.634513\n",
      "map@100: 0.634892\n",
      "\n",
      "ndcg@1: 0.553753\n",
      "ndcg@5: 0.650780\n",
      "ndcg@10: 0.665434\n",
      "ndcg@20: 0.675337\n",
      "\n",
      "ndcg@50: 0.683335\n",
      "ndcg@100: 0.687603\n"
     ]
    }
   ],
   "source": [
    "rnn_metrics_0 = read_file('gowalla_rnn_stability_coeff_0.txt')"
   ]
  },
  {
   "cell_type": "code",
   "execution_count": 36,
   "metadata": {
    "execution": {
     "iopub.execute_input": "2024-05-15T12:04:50.388745Z",
     "iopub.status.busy": "2024-05-15T12:04:50.388002Z",
     "iopub.status.idle": "2024-05-15T12:04:50.400195Z",
     "shell.execute_reply": "2024-05-15T12:04:50.399532Z",
     "shell.execute_reply.started": "2024-05-15T12:04:50.388702Z"
    }
   },
   "outputs": [],
   "source": [
    "rnn_metrics_0_mean = {}\n",
    "for key in rnn_metrics_0.keys():\n",
    "  rnn_metrics_0_mean[key] = np.array(rnn_metrics_0[key]).mean()"
   ]
  },
  {
   "cell_type": "code",
   "execution_count": 37,
   "metadata": {
    "execution": {
     "iopub.execute_input": "2024-05-15T12:04:57.320284Z",
     "iopub.status.busy": "2024-05-15T12:04:57.319397Z",
     "iopub.status.idle": "2024-05-15T12:04:57.334387Z",
     "shell.execute_reply": "2024-05-15T12:04:57.333721Z",
     "shell.execute_reply.started": "2024-05-15T12:04:57.320239Z"
    }
   },
   "outputs": [
    {
     "data": {
      "text/plain": [
       "{'hits@1': 0.5545883333333333,\n",
       " 'hits@5': 0.7290893333333334,\n",
       " 'hits@10': 0.7733816666666667,\n",
       " 'hits@20': 0.8125993333333333,\n",
       " 'hits@50': 0.853247,\n",
       " 'hits@100': 0.8791866666666666,\n",
       " 'map@1': 0.5545883333333333,\n",
       " 'map@5': 0.6246483333333334,\n",
       " 'map@10': 0.630615,\n",
       " 'map@20': 0.6333553333333333,\n",
       " 'map@50': 0.6346996666666667,\n",
       " 'map@100': 0.6350716666666667,\n",
       " 'ndcg@1': 0.5545883333333333,\n",
       " 'ndcg@5': 0.6509586666666668,\n",
       " 'ndcg@10': 0.6653376666666667,\n",
       " 'ndcg@20': 0.6752766666666666,\n",
       " 'ndcg@50': 0.683427,\n",
       " 'ndcg@100': 0.6876376666666667}"
      ]
     },
     "execution_count": 37,
     "metadata": {},
     "output_type": "execute_result"
    }
   ],
   "source": [
    "rnn_metrics_0_mean"
   ]
  },
  {
   "cell_type": "code",
   "execution_count": 38,
   "metadata": {
    "execution": {
     "iopub.execute_input": "2024-05-15T12:08:32.522081Z",
     "iopub.status.busy": "2024-05-15T12:08:32.521583Z",
     "iopub.status.idle": "2024-05-15T12:08:32.547270Z",
     "shell.execute_reply": "2024-05-15T12:08:32.546508Z",
     "shell.execute_reply.started": "2024-05-15T12:08:32.522040Z"
    }
   },
   "outputs": [],
   "source": [
    "rnn_metrics_0_std = {}\n",
    "for key in rnn_metrics_0.keys():\n",
    "  rnn_metrics_0_std[key] = np.array(rnn_metrics_0[key]).std()"
   ]
  },
  {
   "cell_type": "code",
   "execution_count": 39,
   "metadata": {
    "execution": {
     "iopub.execute_input": "2024-05-15T12:08:47.283423Z",
     "iopub.status.busy": "2024-05-15T12:08:47.282611Z",
     "iopub.status.idle": "2024-05-15T12:08:47.294799Z",
     "shell.execute_reply": "2024-05-15T12:08:47.293988Z",
     "shell.execute_reply.started": "2024-05-15T12:08:47.283371Z"
    }
   },
   "outputs": [
    {
     "data": {
      "text/plain": [
       "{'hits@1': 0.0005960650598345221,\n",
       " 'hits@5': 6.188878914813078e-05,\n",
       " 'hits@10': 0.0006771441664979309,\n",
       " 'hits@20': 0.0007170729081171265,\n",
       " 'hits@50': 0.0004890814519757211,\n",
       " 'hits@100': 0.0013816010840888692,\n",
       " 'map@1': 0.0005960650598345221,\n",
       " 'map@5': 0.00020780172173385023,\n",
       " 'map@10': 0.00016296625417552832,\n",
       " 'map@20': 0.00015790573840814733,\n",
       " 'map@50': 0.00018686418121789295,\n",
       " 'map@100': 0.00019395933136156672,\n",
       " 'ndcg@1': 0.0005960650598345221,\n",
       " 'ndcg@5': 0.0001613904857446506,\n",
       " 'ndcg@10': 9.409333427802474e-05,\n",
       " 'ndcg@20': 4.40630860875096e-05,\n",
       " 'ndcg@50': 0.00019720040567909608,\n",
       " 'ndcg@100': 0.0003332169796927378}"
      ]
     },
     "execution_count": 39,
     "metadata": {},
     "output_type": "execute_result"
    }
   ],
   "source": [
    "rnn_metrics_0_std"
   ]
  }
 ],
 "metadata": {
  "colab": {
   "provenance": []
  },
  "kernelspec": {
   "display_name": "DataSphere Kernel",
   "language": "python",
   "name": "python3"
  },
  "language_info": {
   "codemirror_mode": {
    "name": "ipython",
    "version": 3
   },
   "file_extension": ".py",
   "mimetype": "text/x-python",
   "name": "python",
   "nbconvert_exporter": "python",
   "pygments_lexer": "ipython3",
   "version": "3.10.12"
  }
 },
 "nbformat": 4,
 "nbformat_minor": 4
}
