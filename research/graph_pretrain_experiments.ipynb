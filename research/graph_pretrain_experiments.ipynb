{
  "cells": [
    {
      "cell_type": "markdown",
      "metadata": {
        "id": "5u8S2hz8MVLw"
      },
      "source": [
        "### Import Libraries"
      ]
    },
    {
      "cell_type": "code",
      "execution_count": null,
      "metadata": {
        "colab": {
          "base_uri": "https://localhost:8080/"
        },
        "id": "0FNlr66sPta8",
        "outputId": "4ac7c0af-34a5-407b-eb44-c0891f18a6e2"
      },
      "outputs": [
        {
          "output_type": "stream",
          "name": "stdout",
          "text": [
            "Collecting torch_geometric\n",
            "  Downloading torch_geometric-2.5.3-py3-none-any.whl (1.1 MB)\n",
            "\u001b[2K     \u001b[90m━━━━━━━━━━━━━━━━━━━━━━━━━━━━━━━━━━━━━━━━\u001b[0m \u001b[32m1.1/1.1 MB\u001b[0m \u001b[31m6.9 MB/s\u001b[0m eta \u001b[36m0:00:00\u001b[0m\n",
            "\u001b[?25hRequirement already satisfied: tqdm in /usr/local/lib/python3.10/dist-packages (from torch_geometric) (4.66.4)\n",
            "Requirement already satisfied: numpy in /usr/local/lib/python3.10/dist-packages (from torch_geometric) (1.25.2)\n",
            "Requirement already satisfied: scipy in /usr/local/lib/python3.10/dist-packages (from torch_geometric) (1.11.4)\n",
            "Requirement already satisfied: fsspec in /usr/local/lib/python3.10/dist-packages (from torch_geometric) (2023.6.0)\n",
            "Requirement already satisfied: jinja2 in /usr/local/lib/python3.10/dist-packages (from torch_geometric) (3.1.4)\n",
            "Requirement already satisfied: aiohttp in /usr/local/lib/python3.10/dist-packages (from torch_geometric) (3.9.5)\n",
            "Requirement already satisfied: requests in /usr/local/lib/python3.10/dist-packages (from torch_geometric) (2.31.0)\n",
            "Requirement already satisfied: pyparsing in /usr/local/lib/python3.10/dist-packages (from torch_geometric) (3.1.2)\n",
            "Requirement already satisfied: scikit-learn in /usr/local/lib/python3.10/dist-packages (from torch_geometric) (1.2.2)\n",
            "Requirement already satisfied: psutil>=5.8.0 in /usr/local/lib/python3.10/dist-packages (from torch_geometric) (5.9.5)\n",
            "Requirement already satisfied: aiosignal>=1.1.2 in /usr/local/lib/python3.10/dist-packages (from aiohttp->torch_geometric) (1.3.1)\n",
            "Requirement already satisfied: attrs>=17.3.0 in /usr/local/lib/python3.10/dist-packages (from aiohttp->torch_geometric) (23.2.0)\n",
            "Requirement already satisfied: frozenlist>=1.1.1 in /usr/local/lib/python3.10/dist-packages (from aiohttp->torch_geometric) (1.4.1)\n",
            "Requirement already satisfied: multidict<7.0,>=4.5 in /usr/local/lib/python3.10/dist-packages (from aiohttp->torch_geometric) (6.0.5)\n",
            "Requirement already satisfied: yarl<2.0,>=1.0 in /usr/local/lib/python3.10/dist-packages (from aiohttp->torch_geometric) (1.9.4)\n",
            "Requirement already satisfied: async-timeout<5.0,>=4.0 in /usr/local/lib/python3.10/dist-packages (from aiohttp->torch_geometric) (4.0.3)\n",
            "Requirement already satisfied: MarkupSafe>=2.0 in /usr/local/lib/python3.10/dist-packages (from jinja2->torch_geometric) (2.1.5)\n",
            "Requirement already satisfied: charset-normalizer<4,>=2 in /usr/local/lib/python3.10/dist-packages (from requests->torch_geometric) (3.3.2)\n",
            "Requirement already satisfied: idna<4,>=2.5 in /usr/local/lib/python3.10/dist-packages (from requests->torch_geometric) (3.7)\n",
            "Requirement already satisfied: urllib3<3,>=1.21.1 in /usr/local/lib/python3.10/dist-packages (from requests->torch_geometric) (2.0.7)\n",
            "Requirement already satisfied: certifi>=2017.4.17 in /usr/local/lib/python3.10/dist-packages (from requests->torch_geometric) (2024.2.2)\n",
            "Requirement already satisfied: joblib>=1.1.1 in /usr/local/lib/python3.10/dist-packages (from scikit-learn->torch_geometric) (1.4.2)\n",
            "Requirement already satisfied: threadpoolctl>=2.0.0 in /usr/local/lib/python3.10/dist-packages (from scikit-learn->torch_geometric) (3.5.0)\n",
            "Installing collected packages: torch_geometric\n",
            "Successfully installed torch_geometric-2.5.3\n",
            "Collecting networkit\n",
            "  Downloading networkit-11.0-cp310-cp310-manylinux_2_17_x86_64.manylinux2014_x86_64.whl (13.7 MB)\n",
            "\u001b[2K     \u001b[90m━━━━━━━━━━━━━━━━━━━━━━━━━━━━━━━━━━━━━━━━\u001b[0m \u001b[32m13.7/13.7 MB\u001b[0m \u001b[31m2.7 MB/s\u001b[0m eta \u001b[36m0:00:00\u001b[0m\n",
            "\u001b[?25hRequirement already satisfied: scipy in /usr/local/lib/python3.10/dist-packages (from networkit) (1.11.4)\n",
            "Requirement already satisfied: numpy in /usr/local/lib/python3.10/dist-packages (from networkit) (1.25.2)\n",
            "Installing collected packages: networkit\n",
            "Successfully installed networkit-11.0\n",
            "Reading package lists... Done\n",
            "Building dependency tree... Done\n",
            "Reading state information... Done\n",
            "The following additional packages will be installed:\n",
            "  libgail-common libgail18 libgtk2.0-0 libgtk2.0-bin libgtk2.0-common libgvc6-plugins-gtk\n",
            "  librsvg2-common libxdot4\n",
            "Suggested packages:\n",
            "  gvfs\n",
            "The following NEW packages will be installed:\n",
            "  libgail-common libgail18 libgraphviz-dev libgtk2.0-0 libgtk2.0-bin libgtk2.0-common\n",
            "  libgvc6-plugins-gtk librsvg2-common libxdot4\n",
            "0 upgraded, 9 newly installed, 0 to remove and 45 not upgraded.\n",
            "Need to get 2,433 kB of archives.\n",
            "After this operation, 7,694 kB of additional disk space will be used.\n",
            "Get:1 http://archive.ubuntu.com/ubuntu jammy/main amd64 libgtk2.0-common all 2.24.33-2ubuntu2 [125 kB]\n",
            "Get:2 http://archive.ubuntu.com/ubuntu jammy/main amd64 libgtk2.0-0 amd64 2.24.33-2ubuntu2 [2,037 kB]\n",
            "Get:3 http://archive.ubuntu.com/ubuntu jammy/main amd64 libgail18 amd64 2.24.33-2ubuntu2 [15.9 kB]\n",
            "Get:4 http://archive.ubuntu.com/ubuntu jammy/main amd64 libgail-common amd64 2.24.33-2ubuntu2 [132 kB]\n",
            "Get:5 http://archive.ubuntu.com/ubuntu jammy/universe amd64 libxdot4 amd64 2.42.2-6 [16.4 kB]\n",
            "Get:6 http://archive.ubuntu.com/ubuntu jammy/universe amd64 libgvc6-plugins-gtk amd64 2.42.2-6 [22.6 kB]\n",
            "Get:7 http://archive.ubuntu.com/ubuntu jammy/universe amd64 libgraphviz-dev amd64 2.42.2-6 [58.5 kB]\n",
            "Get:8 http://archive.ubuntu.com/ubuntu jammy/main amd64 libgtk2.0-bin amd64 2.24.33-2ubuntu2 [7,932 B]\n",
            "Get:9 http://archive.ubuntu.com/ubuntu jammy-updates/main amd64 librsvg2-common amd64 2.52.5+dfsg-3ubuntu0.2 [17.7 kB]\n",
            "Fetched 2,433 kB in 4s (570 kB/s)\n",
            "Selecting previously unselected package libgtk2.0-common.\n",
            "(Reading database ... 121918 files and directories currently installed.)\n",
            "Preparing to unpack .../0-libgtk2.0-common_2.24.33-2ubuntu2_all.deb ...\n",
            "Unpacking libgtk2.0-common (2.24.33-2ubuntu2) ...\n",
            "Selecting previously unselected package libgtk2.0-0:amd64.\n",
            "Preparing to unpack .../1-libgtk2.0-0_2.24.33-2ubuntu2_amd64.deb ...\n",
            "Unpacking libgtk2.0-0:amd64 (2.24.33-2ubuntu2) ...\n",
            "Selecting previously unselected package libgail18:amd64.\n",
            "Preparing to unpack .../2-libgail18_2.24.33-2ubuntu2_amd64.deb ...\n",
            "Unpacking libgail18:amd64 (2.24.33-2ubuntu2) ...\n",
            "Selecting previously unselected package libgail-common:amd64.\n",
            "Preparing to unpack .../3-libgail-common_2.24.33-2ubuntu2_amd64.deb ...\n",
            "Unpacking libgail-common:amd64 (2.24.33-2ubuntu2) ...\n",
            "Selecting previously unselected package libxdot4:amd64.\n",
            "Preparing to unpack .../4-libxdot4_2.42.2-6_amd64.deb ...\n",
            "Unpacking libxdot4:amd64 (2.42.2-6) ...\n",
            "Selecting previously unselected package libgvc6-plugins-gtk.\n",
            "Preparing to unpack .../5-libgvc6-plugins-gtk_2.42.2-6_amd64.deb ...\n",
            "Unpacking libgvc6-plugins-gtk (2.42.2-6) ...\n",
            "Selecting previously unselected package libgraphviz-dev:amd64.\n",
            "Preparing to unpack .../6-libgraphviz-dev_2.42.2-6_amd64.deb ...\n",
            "Unpacking libgraphviz-dev:amd64 (2.42.2-6) ...\n",
            "Selecting previously unselected package libgtk2.0-bin.\n",
            "Preparing to unpack .../7-libgtk2.0-bin_2.24.33-2ubuntu2_amd64.deb ...\n",
            "Unpacking libgtk2.0-bin (2.24.33-2ubuntu2) ...\n",
            "Selecting previously unselected package librsvg2-common:amd64.\n",
            "Preparing to unpack .../8-librsvg2-common_2.52.5+dfsg-3ubuntu0.2_amd64.deb ...\n",
            "Unpacking librsvg2-common:amd64 (2.52.5+dfsg-3ubuntu0.2) ...\n",
            "Setting up libxdot4:amd64 (2.42.2-6) ...\n",
            "Setting up librsvg2-common:amd64 (2.52.5+dfsg-3ubuntu0.2) ...\n",
            "Setting up libgtk2.0-common (2.24.33-2ubuntu2) ...\n",
            "Setting up libgtk2.0-0:amd64 (2.24.33-2ubuntu2) ...\n",
            "Setting up libgvc6-plugins-gtk (2.42.2-6) ...\n",
            "Setting up libgail18:amd64 (2.24.33-2ubuntu2) ...\n",
            "Setting up libgtk2.0-bin (2.24.33-2ubuntu2) ...\n",
            "Setting up libgail-common:amd64 (2.24.33-2ubuntu2) ...\n",
            "Setting up libgraphviz-dev:amd64 (2.42.2-6) ...\n",
            "Processing triggers for libc-bin (2.35-0ubuntu3.4) ...\n",
            "/sbin/ldconfig.real: /usr/local/lib/libtbbbind.so.3 is not a symbolic link\n",
            "\n",
            "/sbin/ldconfig.real: /usr/local/lib/libtbbmalloc_proxy.so.2 is not a symbolic link\n",
            "\n",
            "/sbin/ldconfig.real: /usr/local/lib/libtbb.so.12 is not a symbolic link\n",
            "\n",
            "/sbin/ldconfig.real: /usr/local/lib/libtbbmalloc.so.2 is not a symbolic link\n",
            "\n",
            "/sbin/ldconfig.real: /usr/local/lib/libtbbbind_2_0.so.3 is not a symbolic link\n",
            "\n",
            "/sbin/ldconfig.real: /usr/local/lib/libtbbbind_2_5.so.3 is not a symbolic link\n",
            "\n",
            "Processing triggers for man-db (2.10.2-1) ...\n",
            "Processing triggers for libgdk-pixbuf-2.0-0:amd64 (2.42.8+dfsg-1ubuntu0.2) ...\n",
            "Collecting pygraphviz\n",
            "  Downloading pygraphviz-1.13.tar.gz (104 kB)\n",
            "\u001b[2K     \u001b[90m━━━━━━━━━━━━━━━━━━━━━━━━━━━━━━━━━━━━━━━━\u001b[0m \u001b[32m104.6/104.6 kB\u001b[0m \u001b[31m2.2 MB/s\u001b[0m eta \u001b[36m0:00:00\u001b[0m\n",
            "\u001b[?25h  Installing build dependencies ... \u001b[?25l\u001b[?25hdone\n",
            "  Getting requirements to build wheel ... \u001b[?25l\u001b[?25hdone\n",
            "  Installing backend dependencies ... \u001b[?25l\u001b[?25hdone\n",
            "  Preparing metadata (pyproject.toml) ... \u001b[?25l\u001b[?25hdone\n",
            "Building wheels for collected packages: pygraphviz\n",
            "  Building wheel for pygraphviz (pyproject.toml) ... \u001b[?25l\u001b[?25hdone\n",
            "  Created wheel for pygraphviz: filename=pygraphviz-1.13-cp310-cp310-linux_x86_64.whl size=168498 sha256=0843b390710e2966986e7eecf8c676e521f337991595d9e6bc75dddc978d928f\n",
            "  Stored in directory: /root/.cache/pip/wheels/c5/96/10/6c25add1fffc368b1927252bf73b63fcb938de8f4486e23691\n",
            "Successfully built pygraphviz\n",
            "Installing collected packages: pygraphviz\n",
            "Successfully installed pygraphviz-1.13\n"
          ]
        }
      ],
      "source": [
        "!pip install torch_geometric\n",
        "!pip install networkit\n",
        "!apt install libgraphviz-dev\n",
        "!pip install pygraphviz"
      ]
    },
    {
      "cell_type": "code",
      "execution_count": null,
      "metadata": {
        "colab": {
          "base_uri": "https://localhost:8080/",
          "height": 17
        },
        "id": "My_CXpFlxUvA",
        "outputId": "d08978e2-7598-41ef-8dd0-955d4dc2a7e6"
      },
      "outputs": [
        {
          "output_type": "display_data",
          "data": {
            "text/html": [
              "\n",
              "\t\t\t<script type=\"text/javascript\">\n",
              "\t\t\t<!--\n",
              "\t\t\t\t\n",
              "\t\t\t{\n",
              "\t\t\t\tvar element = document.getElementById('NetworKit_script');\n",
              "\t\t\t\tif (element) {\n",
              "\t\t\t\t\telement.parentNode.removeChild(element);\n",
              "\t\t\t\t}\n",
              "\t\t\t\telement = document.createElement('script');\n",
              "\t\t\t\telement.type = 'text/javascript';\n",
              "\t\t\t\telement.innerHTML = 'function NetworKit_pageEmbed(id) { var i, j; var elements; elements = document.getElementById(id).getElementsByClassName(\"Plot\"); for (i=0; i<elements.length; i++) { elements[i].id = id + \"_Plot_\" + i; var data = elements[i].getAttribute(\"data-image\").split(\"|\"); elements[i].removeAttribute(\"data-image\"); var content = \"<div class=\\\\\"Image\\\\\" id=\\\\\"\" + elements[i].id + \"_Image\\\\\" />\"; elements[i].innerHTML = content; elements[i].setAttribute(\"data-image-index\", 0); elements[i].setAttribute(\"data-image-length\", data.length); for (j=0; j<data.length; j++) { elements[i].setAttribute(\"data-image-\" + j, data[j]); } NetworKit_plotUpdate(elements[i]); elements[i].onclick = function (e) { NetworKit_overlayShow((e.target) ? e.target : e.srcElement); } } elements = document.getElementById(id).getElementsByClassName(\"HeatCell\"); for (i=0; i<elements.length; i++) { var data = parseFloat(elements[i].getAttribute(\"data-heat\")); var color = \"#00FF00\"; if (data <= 1 && data > 0) { color = \"hsla(0, 100%, 75%, \" + (data) + \")\"; } else if (data <= 0 && data >= -1) { color = \"hsla(240, 100%, 75%, \" + (-data) + \")\"; } elements[i].style.backgroundColor = color; } elements = document.getElementById(id).getElementsByClassName(\"Details\"); for (i=0; i<elements.length; i++) { elements[i].setAttribute(\"data-title\", \"-\"); NetworKit_toggleDetails(elements[i]); elements[i].onclick = function (e) { NetworKit_toggleDetails((e.target) ? e.target : e.srcElement); } } elements = document.getElementById(id).getElementsByClassName(\"MathValue\"); for (i=elements.length-1; i>=0; i--) { value = elements[i].innerHTML.trim(); if (value === \"nan\") { elements[i].parentNode.innerHTML = \"\" } } elements = document.getElementById(id).getElementsByClassName(\"SubCategory\"); for (i=elements.length-1; i>=0; i--) { value = elements[i].innerHTML.trim(); if (value === \"\") { elements[i].parentNode.removeChild(elements[i]) } } elements = document.getElementById(id).getElementsByClassName(\"Category\"); for (i=elements.length-1; i>=0; i--) { value = elements[i].innerHTML.trim(); if (value === \"\") { elements[i].parentNode.removeChild(elements[i]) } } var isFirefox = false; try { isFirefox = typeof InstallTrigger !== \"undefined\"; } catch (e) {} if (!isFirefox) { alert(\"Currently the function\\'s output is only fully supported by Firefox.\"); } } function NetworKit_plotUpdate(source) { var index = source.getAttribute(\"data-image-index\"); var data = source.getAttribute(\"data-image-\" + index); var image = document.getElementById(source.id + \"_Image\"); image.style.backgroundImage = \"url(\" + data + \")\"; } function NetworKit_showElement(id, show) { var element = document.getElementById(id); element.style.display = (show) ? \"block\" : \"none\"; } function NetworKit_overlayShow(source) { NetworKit_overlayUpdate(source); NetworKit_showElement(\"NetworKit_Overlay\", true); } function NetworKit_overlayUpdate(source) { document.getElementById(\"NetworKit_Overlay_Title\").innerHTML = source.title; var index = source.getAttribute(\"data-image-index\"); var data = source.getAttribute(\"data-image-\" + index); var image = document.getElementById(\"NetworKit_Overlay_Image\"); image.setAttribute(\"data-id\", source.id); image.style.backgroundImage = \"url(\" + data + \")\"; var link = document.getElementById(\"NetworKit_Overlay_Toolbar_Bottom_Save\"); link.href = data; link.download = source.title + \".svg\"; } function NetworKit_overlayImageShift(delta) { var image = document.getElementById(\"NetworKit_Overlay_Image\"); var source = document.getElementById(image.getAttribute(\"data-id\")); var index = parseInt(source.getAttribute(\"data-image-index\")); var length = parseInt(source.getAttribute(\"data-image-length\")); var index = (index+delta) % length; if (index < 0) { index = length + index; } source.setAttribute(\"data-image-index\", index); NetworKit_overlayUpdate(source); } function NetworKit_toggleDetails(source) { var childs = source.children; var show = false; if (source.getAttribute(\"data-title\") == \"-\") { source.setAttribute(\"data-title\", \"+\"); show = false; } else { source.setAttribute(\"data-title\", \"-\"); show = true; } for (i=0; i<childs.length; i++) { if (show) { childs[i].style.display = \"block\"; } else { childs[i].style.display = \"none\"; } } }';\n",
              "\t\t\t\telement.setAttribute('id', 'NetworKit_script');\n",
              "\t\t\t\tdocument.head.appendChild(element);\n",
              "\t\t\t}\n",
              "\t\t\n",
              "\t\t\t\t\n",
              "\t\t\t{\n",
              "\t\t\t\tvar element = document.getElementById('NetworKit_style');\n",
              "\t\t\t\tif (element) {\n",
              "\t\t\t\t\telement.parentNode.removeChild(element);\n",
              "\t\t\t\t}\n",
              "\t\t\t\telement = document.createElement('style');\n",
              "\t\t\t\telement.type = 'text/css';\n",
              "\t\t\t\telement.innerHTML = '.NetworKit_Page { font-family: Arial, Helvetica, sans-serif; font-size: 14px; } .NetworKit_Page .Value:before { font-family: Arial, Helvetica, sans-serif; font-size: 1.05em; content: attr(data-title) \":\"; margin-left: -2.5em; padding-right: 0.5em; } .NetworKit_Page .Details .Value:before { display: block; } .NetworKit_Page .Value { font-family: monospace; white-space: pre; padding-left: 2.5em; white-space: -moz-pre-wrap !important; white-space: -pre-wrap; white-space: -o-pre-wrap; white-space: pre-wrap; word-wrap: break-word; tab-size: 4; -moz-tab-size: 4; } .NetworKit_Page .Category { clear: both; padding-left: 1em; margin-bottom: 1.5em; } .NetworKit_Page .Category:before { content: attr(data-title); font-size: 1.75em; display: block; margin-left: -0.8em; margin-bottom: 0.5em; } .NetworKit_Page .SubCategory { margin-bottom: 1.5em; padding-left: 1em; } .NetworKit_Page .SubCategory:before { font-size: 1.6em; display: block; margin-left: -0.8em; margin-bottom: 0.5em; } .NetworKit_Page .SubCategory[data-title]:before { content: attr(data-title); } .NetworKit_Page .Block { display: block; } .NetworKit_Page .Block:after { content: \".\"; visibility: hidden; display: block; height: 0; clear: both; } .NetworKit_Page .Block .Thumbnail_Overview, .NetworKit_Page .Block .Thumbnail_ScatterPlot { width: 260px; float: left; } .NetworKit_Page .Block .Thumbnail_Overview img, .NetworKit_Page .Block .Thumbnail_ScatterPlot img { width: 260px; } .NetworKit_Page .Block .Thumbnail_Overview:before, .NetworKit_Page .Block .Thumbnail_ScatterPlot:before { display: block; text-align: center; font-weight: bold; } .NetworKit_Page .Block .Thumbnail_Overview:before { content: attr(data-title); } .NetworKit_Page .HeatCell { font-family: \"Courier New\", Courier, monospace; cursor: pointer; } .NetworKit_Page .HeatCell, .NetworKit_Page .HeatCellName { display: inline; padding: 0.1em; margin-right: 2px; background-color: #FFFFFF } .NetworKit_Page .HeatCellName { margin-left: 0.25em; } .NetworKit_Page .HeatCell:before { content: attr(data-heat); display: inline-block; color: #000000; width: 4em; text-align: center; } .NetworKit_Page .Measure { clear: both; } .NetworKit_Page .Measure .Details { cursor: pointer; } .NetworKit_Page .Measure .Details:before { content: \"[\" attr(data-title) \"]\"; display: block; } .NetworKit_Page .Measure .Details .Value { border-left: 1px dotted black; margin-left: 0.4em; padding-left: 3.5em; pointer-events: none; } .NetworKit_Page .Measure .Details .Spacer:before { content: \".\"; opacity: 0.0; pointer-events: none; } .NetworKit_Page .Measure .Plot { width: 440px; height: 440px; cursor: pointer; float: left; margin-left: -0.9em; margin-right: 20px; } .NetworKit_Page .Measure .Plot .Image { background-repeat: no-repeat; background-position: center center; background-size: contain; height: 100%; pointer-events: none; } .NetworKit_Page .Measure .Stat { width: 500px; float: left; } .NetworKit_Page .Measure .Stat .Group { padding-left: 1.25em; margin-bottom: 0.75em; } .NetworKit_Page .Measure .Stat .Group .Title { font-size: 1.1em; display: block; margin-bottom: 0.3em; margin-left: -0.75em; border-right-style: dotted; border-right-width: 1px; border-bottom-style: dotted; border-bottom-width: 1px; background-color: #D0D0D0; padding-left: 0.2em; } .NetworKit_Page .Measure .Stat .Group .List { -webkit-column-count: 3; -moz-column-count: 3; column-count: 3; } .NetworKit_Page .Measure .Stat .Group .List .Entry { position: relative; line-height: 1.75em; } .NetworKit_Page .Measure .Stat .Group .List .Entry[data-tooltip]:before { position: absolute; left: 0; top: -40px; background-color: #808080; color: #ffffff; height: 30px; line-height: 30px; border-radius: 5px; padding: 0 15px; content: attr(data-tooltip); white-space: nowrap; display: none; } .NetworKit_Page .Measure .Stat .Group .List .Entry[data-tooltip]:after { position: absolute; left: 15px; top: -10px; border-top: 7px solid #808080; border-left: 7px solid transparent; border-right: 7px solid transparent; content: \"\"; display: none; } .NetworKit_Page .Measure .Stat .Group .List .Entry[data-tooltip]:hover:after, .NetworKit_Page .Measure .Stat .Group .List .Entry[data-tooltip]:hover:before { display: block; } .NetworKit_Page .Measure .Stat .Group .List .Entry .MathValue { font-family: \"Courier New\", Courier, monospace; } .NetworKit_Page .Measure:after { content: \".\"; visibility: hidden; display: block; height: 0; clear: both; } .NetworKit_Page .PartitionPie { clear: both; } .NetworKit_Page .PartitionPie img { width: 600px; } #NetworKit_Overlay { left: 0px; top: 0px; display: none; position: absolute; width: 100%; height: 100%; background-color: rgba(0,0,0,0.6); z-index: 1000; } #NetworKit_Overlay_Title { position: absolute; color: white; transform: rotate(-90deg); width: 32em; height: 32em; padding-right: 0.5em; padding-top: 0.5em; text-align: right; font-size: 40px; } #NetworKit_Overlay .button { background: white; cursor: pointer; } #NetworKit_Overlay .button:before { size: 13px; display: inline-block; text-align: center; margin-top: 0.5em; margin-bottom: 0.5em; width: 1.5em; height: 1.5em; } #NetworKit_Overlay .icon-close:before { content: \"X\"; } #NetworKit_Overlay .icon-previous:before { content: \"P\"; } #NetworKit_Overlay .icon-next:before { content: \"N\"; } #NetworKit_Overlay .icon-save:before { content: \"S\"; } #NetworKit_Overlay_Toolbar_Top, #NetworKit_Overlay_Toolbar_Bottom { position: absolute; width: 40px; right: 13px; text-align: right; z-index: 1100; } #NetworKit_Overlay_Toolbar_Top { top: 0.5em; } #NetworKit_Overlay_Toolbar_Bottom { Bottom: 0.5em; } #NetworKit_Overlay_ImageContainer { position: absolute; top: 5%; left: 5%; height: 90%; width: 90%; background-repeat: no-repeat; background-position: center center; background-size: contain; } #NetworKit_Overlay_Image { height: 100%; width: 100%; background-repeat: no-repeat; background-position: center center; background-size: contain; }';\n",
              "\t\t\t\telement.setAttribute('id', 'NetworKit_style');\n",
              "\t\t\t\tdocument.head.appendChild(element);\n",
              "\t\t\t}\n",
              "\t\t\n",
              "\t\t\t\t\n",
              "\t\t\t{\n",
              "\t\t\t\tvar element = document.getElementById('NetworKit_Overlay');\n",
              "\t\t\t\tif (element) {\n",
              "\t\t\t\t\telement.parentNode.removeChild(element);\n",
              "\t\t\t\t}\n",
              "\t\t\t\telement = document.createElement('div');\n",
              "\t\t\t\telement.innerHTML = '<div id=\"NetworKit_Overlay_Toolbar_Top\"><div class=\"button icon-close\" id=\"NetworKit_Overlay_Close\" /></div><div id=\"NetworKit_Overlay_Title\" /> <div id=\"NetworKit_Overlay_ImageContainer\"> <div id=\"NetworKit_Overlay_Image\" /> </div> <div id=\"NetworKit_Overlay_Toolbar_Bottom\"> <div class=\"button icon-previous\" onclick=\"NetworKit_overlayImageShift(-1)\" /> <div class=\"button icon-next\" onclick=\"NetworKit_overlayImageShift(1)\" /> <a id=\"NetworKit_Overlay_Toolbar_Bottom_Save\"><div class=\"button icon-save\" /></a> </div>';\n",
              "\t\t\t\telement.setAttribute('id', 'NetworKit_Overlay');\n",
              "\t\t\t\tdocument.body.appendChild(element);\n",
              "\t\t\t\tdocument.getElementById('NetworKit_Overlay_Close').onclick = function (e) {\n",
              "\t\t\t\t\tdocument.getElementById('NetworKit_Overlay').style.display = 'none';\n",
              "\t\t\t\t}\n",
              "\t\t\t}\n",
              "\t\t\n",
              "\t\t\t-->\n",
              "\t\t\t</script>\n",
              "\t\t"
            ]
          },
          "metadata": {}
        }
      ],
      "source": [
        "import numpy as np\n",
        "import pandas as pd\n",
        "import torch\n",
        "from torch import nn\n",
        "\n",
        "import json\n",
        "import os\n",
        "import networkx as nx\n",
        "import networkit as nk\n",
        "from networkit import vizbridges\n",
        "\n",
        "from tqdm import tqdm\n",
        "import ast\n",
        "import matplotlib.pyplot as plt\n",
        "import re\n",
        "from sklearn.metrics import top_k_accuracy_score\n",
        "from sklearn.metrics import ndcg_score\n",
        "\n",
        "from torch_geometric.data import Data\n",
        "from torch_geometric.utils import subgraph\n",
        "from torch_geometric.nn import GATv2Conv, GCNConv\n",
        "\n",
        "import copy\n",
        "from typing import Callable, Tuple\n",
        "\n",
        "import torch\n",
        "from torch import Tensor\n",
        "from torch.nn import Module, Parameter\n",
        "\n",
        "from torch_geometric.nn.inits import reset, uniform\n",
        "import random"
      ]
    },
    {
      "cell_type": "code",
      "execution_count": null,
      "metadata": {
        "id": "ox0nfVzoKySr"
      },
      "outputs": [],
      "source": [
        "torch.manual_seed(200)\n",
        "np.random.seed(200)"
      ]
    },
    {
      "cell_type": "markdown",
      "metadata": {
        "id": "dk6H0-INMmEt"
      },
      "source": [
        "### Util functions"
      ]
    },
    {
      "cell_type": "code",
      "execution_count": null,
      "metadata": {
        "id": "e4mUB-lFrI5U"
      },
      "outputs": [],
      "source": [
        "def load_dataset_timestamp( n_users, n_context, seq_len):\n",
        "    act_list = []\n",
        "    time_list = []\n",
        "    user_list = []\n",
        "\n",
        "    max_timestamp = -1.0\n",
        "    min_timestamp = float('inf')\n",
        "\n",
        "    with open('gowalla_user_activity.txt', 'r') as raw_file:\n",
        "        for line in raw_file:\n",
        "            t_item_list = []\n",
        "            t_time_list = []\n",
        "            user = int(line.split(':')[0])\n",
        "            entries = line.split()[1:]\n",
        "            for a_entry in entries:\n",
        "                item, time_stamp = a_entry.split(':')\n",
        "                t_item_list.append(int(item.strip()))\n",
        "                t_time_list.append(int(time_stamp.strip()))\n",
        "\n",
        "                if min_timestamp > int(time_stamp.strip()):\n",
        "                    min_timestamp = int(time_stamp.strip())\n",
        "                if max_timestamp < int(time_stamp.strip()):\n",
        "                    max_timestamp = int(time_stamp.strip())\n",
        "\n",
        "            act_list.append(t_item_list[0: seq_len])\n",
        "            time_list.append(t_time_list[0: seq_len])\n",
        "            user_list.append(user)\n",
        "\n",
        "    new_time_list = []\n",
        "    num_bins = 0\n",
        "\n",
        "    times_bins = np.linspace(min_timestamp, max_timestamp + 1, num=num_bins, dtype=np.int32)\n",
        "    for a_time_list in time_list:\n",
        "        temp_time_list = (np.digitize(np.asarray(a_time_list), times_bins) - 1).tolist()\n",
        "        new_time_list.append(temp_time_list)\n",
        "\n",
        "    all_examples = {}\n",
        "    for i in range(0, len(act_list)):\n",
        "\n",
        "        train_act_seq = act_list[i][:-2]\n",
        "\n",
        "        train_time_seq = new_time_list[i][:-2]\n",
        "\n",
        "        train_act_label = act_list[i][-2]\n",
        "        train_time_label = new_time_list[i][-2]\n",
        "\n",
        "        test_act_seq = act_list[i][1:-1]\n",
        "        test_time_seq = new_time_list[i][1:-1]\n",
        "\n",
        "        test_act_label = act_list[i][-1]\n",
        "        test_time_label = new_time_list[i][-1]\n",
        "\n",
        "        entry = {\n",
        "            'train_act_seq': train_act_seq,\n",
        "            'train_time_seq': train_time_seq,\n",
        "            'train_act_label': train_act_label,\n",
        "            'train_time_label': train_time_label,\n",
        "            'test_act_seq': test_act_seq,\n",
        "            'test_time_seq': test_time_seq,\n",
        "            'test_act_label': test_act_label,\n",
        "            'test_time_label': test_time_label,\n",
        "            'seq_len': len(train_act_seq),\n",
        "            'user': user_list[i]\n",
        "        }\n",
        "\n",
        "        all_examples[user_list[i]] = entry\n",
        "\n",
        "    return all_examples"
      ]
    },
    {
      "cell_type": "markdown",
      "metadata": {
        "id": "UJLWB1PSSnGz"
      },
      "source": [
        "### Metrics"
      ]
    },
    {
      "cell_type": "code",
      "execution_count": null,
      "metadata": {
        "id": "FmEaZ3v-PPB2"
      },
      "outputs": [],
      "source": [
        "def print_metrics(hits1, hits5, hits10, hits20, hits50, hits100, map1, map5, map10, map20, map50, map100, ndcg1, ndcg5, ndcg10, ndcg20, ndcg50, ndcg100):\n",
        "    print(f'hits@1: {hits1:.6f}, hits@5: {hits5:.6f}, hits@10: {hits10:.6f}, hits@20: {hits20:.6f}')\n",
        "    print(f'hits@50: {hits50:.6f}, hits@100: {hits100:.6f}')\n",
        "    print(f'map@1: {map1:.6f}, map@5: {map5:.6f}, map@10: {map10:.6f}, map@20: {map20:.6f}')\n",
        "    print(f'map@50: {map50:.6f}, map@100: {map100:.6f}')\n",
        "    print(f'ndcg@1: {ndcg1:.6f}, ndcg@5: {ndcg5:.6f}, ndcg@10: {ndcg10:.6f}, ndcg@20: {ndcg20:.6f}')\n",
        "    print(f'ndcg@50: {ndcg50:.6f}, ndcg@100: {ndcg100:.6f}')"
      ]
    },
    {
      "cell_type": "code",
      "execution_count": null,
      "metadata": {
        "id": "wveiHrarPAc2"
      },
      "outputs": [],
      "source": [
        "def apk(actual, predicted, k=10):\n",
        "\n",
        "    if len(predicted) > k:\n",
        "        predicted = predicted[:k]\n",
        "\n",
        "    score = 0.0\n",
        "    num_hits = 0.0\n",
        "\n",
        "    for i, p in enumerate(predicted):\n",
        "        if p in actual and p not in predicted[:i]:\n",
        "            num_hits += 1.0\n",
        "            score += num_hits / (i + 1.0)\n",
        "\n",
        "    if not actual:\n",
        "        return 0.0\n",
        "\n",
        "    return score / min(len(actual), k)\n",
        "\n",
        "\n",
        "def mapk(y_prob, y, k=10):\n",
        "\n",
        "    predicted = [np.argsort(p_)[-k:][::-1] for p_ in y_prob]\n",
        "    actual = [[y_] for y_ in y]\n",
        "    return np.mean([apk(a, p, k) for a, p in zip(actual, predicted)])\n",
        "\n",
        "\n",
        "def hits_k(y_prob, y, k=10):\n",
        "    acc = []\n",
        "    for p_, y_ in zip(y_prob, y):\n",
        "        top_k = p_.argsort()[-k:][::-1]\n",
        "        acc += [1. if y_ in top_k else 0.]\n",
        "    return sum(acc) / len(acc)"
      ]
    },
    {
      "cell_type": "code",
      "execution_count": null,
      "metadata": {
        "id": "ZAIyJzxrNx7B"
      },
      "outputs": [],
      "source": [
        "def get_metrics_(probs, labels_batch, test_one_hot):\n",
        "    hits1 = top_k_accuracy_score(labels_batch, probs.cpu().detach().numpy(), k=1, labels = classes)\n",
        "    hits5 = top_k_accuracy_score(labels_batch, probs.cpu().detach().numpy(), k=5, labels = classes)\n",
        "    hits10 = top_k_accuracy_score(labels_batch, probs.cpu().detach().numpy(), k=10, labels = classes)\n",
        "    hits20 = top_k_accuracy_score(labels_batch, probs.cpu().detach().numpy(), k=20, labels = classes)\n",
        "    hits50= top_k_accuracy_score(labels_batch, probs.cpu().detach().numpy(), k=50, labels = classes)\n",
        "    hits100 = top_k_accuracy_score(labels_batch, probs.cpu().detach().numpy(), k=100, labels = classes)\n",
        "\n",
        "    map1 = mapk(y_prob=probs.cpu().detach().numpy(), y = labels_batch, k=1)\n",
        "    map5 = mapk(y_prob=probs.cpu().detach().numpy(), y = labels_batch, k=5)\n",
        "    map10 = mapk(y_prob=probs.cpu().detach().numpy(), y = labels_batch, k=10)\n",
        "    map20 = mapk(y_prob=probs.cpu().detach().numpy(), y = labels_batch, k=20)\n",
        "    map50 = mapk(y_prob=probs.cpu().detach().numpy(), y = labels_batch, k=50)\n",
        "    map100 = mapk(y_prob=probs.cpu().detach().numpy(), y = labels_batch, k=100)\n",
        "\n",
        "    ndcg1 = ndcg_score(test_one_hot, probs.cpu().detach().numpy(), k=1)\n",
        "    ndcg5 = ndcg_score(test_one_hot, probs.cpu().detach().numpy(), k=5)\n",
        "    ndcg10 = ndcg_score(test_one_hot, probs.cpu().detach().numpy(), k=10)\n",
        "    ndcg20 = ndcg_score(test_one_hot, probs.cpu().detach().numpy(), k=20)\n",
        "    ndcg50 = ndcg_score(test_one_hot, probs.cpu().detach().numpy(), k=50)\n",
        "    ndcg100 = ndcg_score(test_one_hot, probs.cpu().detach().numpy(), k=100)\n",
        "    return hits1, hits5, hits10, hits20, hits50, hits100, map1, map5, map10, map20, map50, map100, ndcg1, ndcg5, ndcg10, ndcg20, ndcg50, ndcg100"
      ]
    },
    {
      "cell_type": "markdown",
      "metadata": {
        "id": "8wzpjzBxTC9r"
      },
      "source": [
        "### Graph construction"
      ]
    },
    {
      "cell_type": "code",
      "execution_count": null,
      "metadata": {
        "id": "E3ZTBmKsM0fy"
      },
      "outputs": [],
      "source": [
        "users = load_dataset_timestamp(20001, 128, 30)"
      ]
    },
    {
      "cell_type": "code",
      "execution_count": null,
      "metadata": {
        "id": "5UMgTVzJnJ8w"
      },
      "outputs": [],
      "source": [
        "friends = pd.read_csv('gowalla_edges.csv')"
      ]
    },
    {
      "cell_type": "code",
      "execution_count": null,
      "metadata": {
        "id": "sYfdtRAnOtdq"
      },
      "outputs": [],
      "source": [
        "Gcl = nx.Graph()\n",
        "for i in range(len(users)):\n",
        "  if users[i]['user'] not in Gcl.nodes():\n",
        "      Gcl.add_node(users[i]['user'], weight=10, color='seagreen')\n",
        "for i in range(len(friends)):\n",
        "  Gcl.add_edge(friends.loc[i, '1st friend'], friends.loc[i, '2nd friend'], color = 'blue')\n",
        "\n",
        "\n",
        "\n",
        "nodes = list(Gcl.nodes())\n",
        "node_colors = [Gcl.nodes[node]['color'] for node in Gcl.nodes]\n",
        "node_weights = [Gcl.nodes[node]['weight'] for node in Gcl.nodes]\n",
        "edge_colors = [Gcl.edges[edge]['color'] for edge in Gcl.edges]\n",
        "\n",
        "plt.figure(figsize=(12, 8))\n",
        "pos = nx.drawing.nx_agraph.graphviz_layout(Gcl, prog='neato')\n",
        "nx.draw_networkx(Gcl, pos=pos, with_labels=False, node_size=node_weights, node_color=node_colors, edge_color=edge_colors, width=1)"
      ]
    },
    {
      "cell_type": "code",
      "execution_count": null,
      "metadata": {
        "id": "zFBHTlHaPQbx"
      },
      "outputs": [],
      "source": [
        "Gcl = nx.Graph()\n",
        "for i in range(len(users)):\n",
        "  if users[i]['user'] not in Gcl.nodes():\n",
        "      Gcl.add_node(users[i]['user'], weight=10, color='seagreen')\n",
        "for i in range(len(friends)):\n",
        "  Gcl.add_edge(friends.loc[i, '1st friend'], friends.loc[i, '2nd friend'], color = 'blue')\n",
        "\n",
        "\n",
        "nodes = list(Gcl.nodes())\n",
        "node_colors = [Gcl.nodes[node]['color'] for node in Gcl.nodes]\n",
        "node_weights = [Gcl.nodes[node]['weight'] for node in Gcl.nodes]\n",
        "edge_colors = [Gcl.edges[edge]['color'] for edge in Gcl.edges]"
      ]
    },
    {
      "cell_type": "code",
      "execution_count": null,
      "metadata": {
        "id": "Dez6obQePj81"
      },
      "outputs": [],
      "source": [
        "graphid2pid = {}\n",
        "pid2graphid = {}\n",
        "\n",
        "s = 0\n",
        "for node_id in Gcl.nodes():\n",
        "    pid2graphid[node_id] = s\n",
        "    graphid2pid[s] = node_id\n",
        "    s += 1\n",
        "\n",
        "graph_edges = []\n",
        "for (u, v) in Gcl.edges():\n",
        "    graph_edges.append((pid2graphid[u], pid2graphid[v]))"
      ]
    },
    {
      "cell_type": "markdown",
      "metadata": {
        "id": "aJ25Is0Kbc_d"
      },
      "source": [
        "### Graph characteristics"
      ]
    },
    {
      "cell_type": "code",
      "execution_count": null,
      "metadata": {
        "id": "y4dADu9NPkpS"
      },
      "outputs": [],
      "source": [
        "nkg = nk.Graph(n=len(pid2graphid), weighted=True, directed=False, edgesIndexed=True)\n",
        "for (u, v) in graph_edges:\n",
        "    nkg.addEdge(u, v)"
      ]
    },
    {
      "cell_type": "code",
      "execution_count": null,
      "metadata": {
        "colab": {
          "base_uri": "https://localhost:8080/"
        },
        "id": "RsdEMGeOPoQB",
        "outputId": "a766c8ad-7cba-408f-f19c-0455d79fef50"
      },
      "outputs": [
        {
          "output_type": "stream",
          "name": "stdout",
          "text": [
            "Network Properties:\n",
            "nodes, edges\t\t\t20001, 167752\n",
            "directed?\t\t\tFalse\n",
            "weighted?\t\t\tTrue\n",
            "isolated nodes\t\t\t275\n",
            "self-loops\t\t\t0\n",
            "density\t\t\t\t0.000839\n",
            "clustering coefficient\t\t0.294269\n",
            "min/max/avg degree\t\t0, 6171, 16.774361\n",
            "degree assortativity\t\t-0.064750\n",
            "number of connected components\t290\n",
            "size of largest component\t19698 (98.49 %)\n"
          ]
        }
      ],
      "source": [
        "nk.overview(nkg)"
      ]
    },
    {
      "cell_type": "markdown",
      "metadata": {
        "id": "SspaQzxebmar"
      },
      "source": [
        "### User dataset construction"
      ]
    },
    {
      "cell_type": "code",
      "execution_count": null,
      "metadata": {
        "id": "Ngj3R0fMPstY"
      },
      "outputs": [],
      "source": [
        "class UserInfoDataset():\n",
        "  def __init__(self, data, max_len):\n",
        "    self.data = data\n",
        "    self.max_len = max_len\n",
        "\n",
        "  def __len__(self):\n",
        "    return len(self.data)\n",
        "\n",
        "  def __getitem__(self, idx):\n",
        "\n",
        "    user = self.data[idx]\n",
        "    seq_len = user['seq_len']\n",
        "\n",
        "    tr_act_seq = np.zeros((self.max_len,)).astype('int32')\n",
        "    tr_act_seq[:seq_len] = np.array(user['train_act_seq'])\n",
        "    tr_act_seq = np.transpose(tr_act_seq)\n",
        "\n",
        "    tr_time_seq = np.zeros((self.max_len,)).astype('int32')\n",
        "    tr_time_seq[:seq_len] = user['train_time_seq']\n",
        "    tr_time_seq = np.transpose(tr_time_seq)\n",
        "\n",
        "    t_act_seq = np.zeros((self.max_len, )).astype('int32')\n",
        "    t_act_seq[:seq_len] = user['test_act_seq']\n",
        "    t_act_seq = np.transpose(t_act_seq)\n",
        "\n",
        "    t_time_seq = np.zeros((self.max_len, )).astype('int32')\n",
        "    t_time_seq[:seq_len] = user['test_time_seq']\n",
        "    t_time_seq = np.transpose(t_time_seq)\n",
        "\n",
        "\n",
        "    return user['user'], tr_act_seq, \\\n",
        "    tr_time_seq, user['train_act_label'], \\\n",
        "    user['train_time_label'], t_act_seq, \\\n",
        "    t_time_seq, user['test_act_label'], \\\n",
        "    user['test_time_label'], user['seq_len']"
      ]
    },
    {
      "cell_type": "code",
      "execution_count": null,
      "metadata": {
        "id": "Nqqd8RNIP3zJ"
      },
      "outputs": [],
      "source": [
        "from torch.utils.data import Subset\n",
        "from torch.utils.data import DataLoader\n",
        "\n",
        "user_dataset = UserInfoDataset(users, 30)\n",
        "\n",
        "n = len(user_dataset)\n",
        "\n",
        "indices = np.arange(n)\n",
        "indices = np.random.permutation(indices)\n",
        "\n",
        "train_indices = indices [:int(0.8*n)]\n",
        "test_indices = indices[int(0.8*n):]\n",
        "\n",
        "user_train_dataset = Subset(user_dataset, train_indices)\n",
        "user_test_dataset = Subset(user_dataset, test_indices)\n",
        "\n",
        "user_dataloader = DataLoader(user_dataset, batch_size = 64, shuffle = True)\n",
        "user_train_dataloader = DataLoader(user_train_dataset, batch_size=64, shuffle=True)\n",
        "user_test_dataloader = DataLoader(user_test_dataset, batch_size=64, shuffle=True)\n",
        "\n",
        "item_emb  = nn.init.xavier_uniform_(torch.empty(186, 128))"
      ]
    },
    {
      "cell_type": "markdown",
      "metadata": {
        "id": "h_pSKPomTILm"
      },
      "source": [
        "## Pre-training experiments"
      ]
    },
    {
      "cell_type": "code",
      "execution_count": null,
      "metadata": {
        "id": "XB3Jxq6xP6EB"
      },
      "outputs": [],
      "source": [
        "rnn = nn.RNN(128, 128, batch_first = True)\n",
        "norm = nn.BatchNorm1d(128)"
      ]
    },
    {
      "cell_type": "markdown",
      "metadata": {
        "id": "1OOE7Mbbb5OA"
      },
      "source": [
        "### Getting initial user representations"
      ]
    },
    {
      "cell_type": "code",
      "execution_count": null,
      "metadata": {
        "id": "SKJopG6QQAVK"
      },
      "outputs": [],
      "source": [
        "user_representations = {}\n",
        "for users, train_input, train_time, train_label, train_time_label, test_input, test_time, test_label, test_time_label, seq_len in user_dataloader:\n",
        "      comb_input = np.concatenate([np.expand_dims(train_input, axis=-1),\n",
        "                                                np.expand_dims(train_time, axis=-1)], axis=2)\n",
        "      model_input = comb_input\n",
        "      model_output = train_label\n",
        "      rnn_input_emb = item_emb[model_input[:, :, 0]]\n",
        "      test_comb_input = np.concatenate([np.expand_dims(test_input, axis=-1),\n",
        "                                                np.expand_dims(test_time, axis=-1)], axis=2)\n",
        "      test_model_input = test_comb_input\n",
        "      test_rnn_input_emb = item_emb[test_model_input[:, :, 0]]\n",
        "      x, h = rnn(rnn_input_emb)\n",
        "      test_x, test_h = rnn(test_rnn_input_emb)\n",
        "      hx = torch.zeros(x.shape[0], x.shape[2])#.to(device)\n",
        "      for i in range(hx.shape[0]):\n",
        "        hx[i] = x[i][seq_len[i] - 1]\n",
        "      user_representation = norm(hx)\n",
        "      test_hx = torch.zeros(test_x.shape[0], test_x.shape[2])\n",
        "      for i in range(test_hx.shape[0]):\n",
        "        test_hx[i] = test_x[i][seq_len[i] - 1]\n",
        "      test_user_representation = norm(test_hx)\n",
        "      for i in range(len(users)):\n",
        "        user_representations[users[i].item()] = (users[i].item(), user_representation[i], train_label[i].item(), seq_len[i].item(), test_user_representation[i], test_label[i].item())"
      ]
    },
    {
      "cell_type": "code",
      "execution_count": null,
      "metadata": {
        "id": "Is_nNVv5QILQ"
      },
      "outputs": [],
      "source": [
        "user_ids = []\n",
        "features = []\n",
        "train_labels = []\n",
        "seq_lens = []\n",
        "test_features = []\n",
        "test_labels = []\n",
        "for graphid in Gcl.nodes():\n",
        "    pid = graphid2pid[graphid]\n",
        "    if graphid in user_representations.keys():\n",
        "      user_ids.append(user_representations[graphid][0])\n",
        "      features.append(user_representations[graphid][1].detach().numpy())\n",
        "      train_labels.append(user_representations[graphid][2])\n",
        "      test_features.append(user_representations[graphid][4].detach().numpy())\n",
        "      seq_lens.append(user_representations[graphid][3])\n",
        "      test_labels.append(user_representations[graphid][5])\n",
        "user_ids = np.array(user_ids)\n",
        "features = np.array(features)\n",
        "train_labels = np.array(train_labels)\n",
        "test_features = np.array(test_features)\n",
        "seq_lens = np.array(seq_lens)\n",
        "test_labels = np.array(test_labels)"
      ]
    },
    {
      "cell_type": "code",
      "execution_count": null,
      "metadata": {
        "id": "A4B48ZSOQL9d"
      },
      "outputs": [],
      "source": [
        "dataset = Data(x=torch.tensor(features, dtype=torch.float), edge_index=torch.tensor(np.array(graph_edges).T, dtype=torch.int64))"
      ]
    },
    {
      "cell_type": "code",
      "execution_count": null,
      "metadata": {
        "colab": {
          "base_uri": "https://localhost:8080/",
          "height": 423
        },
        "id": "TseA9LtIe_J4",
        "outputId": "dd971e2a-5864-444b-b6d7-ed6a4e2c3d8b"
      },
      "outputs": [
        {
          "output_type": "execute_result",
          "data": {
            "text/plain": [
              "        Unnamed: 0  1st friend  2nd friend\n",
              "0                0           0           1\n",
              "1                1           0           2\n",
              "2                2           0           3\n",
              "3                3           0           4\n",
              "4                4           0           5\n",
              "...            ...         ...         ...\n",
              "335499      448763       20000        2892\n",
              "335500      448764       20000        2937\n",
              "335501      448765       20000        2940\n",
              "335502      448766       20000        4375\n",
              "335503      448767       20000       19268\n",
              "\n",
              "[335504 rows x 3 columns]"
            ],
            "text/html": [
              "\n",
              "  <div id=\"df-699fd4eb-55ec-49f7-a382-835ec9bf5be8\" class=\"colab-df-container\">\n",
              "    <div>\n",
              "<style scoped>\n",
              "    .dataframe tbody tr th:only-of-type {\n",
              "        vertical-align: middle;\n",
              "    }\n",
              "\n",
              "    .dataframe tbody tr th {\n",
              "        vertical-align: top;\n",
              "    }\n",
              "\n",
              "    .dataframe thead th {\n",
              "        text-align: right;\n",
              "    }\n",
              "</style>\n",
              "<table border=\"1\" class=\"dataframe\">\n",
              "  <thead>\n",
              "    <tr style=\"text-align: right;\">\n",
              "      <th></th>\n",
              "      <th>Unnamed: 0</th>\n",
              "      <th>1st friend</th>\n",
              "      <th>2nd friend</th>\n",
              "    </tr>\n",
              "  </thead>\n",
              "  <tbody>\n",
              "    <tr>\n",
              "      <th>0</th>\n",
              "      <td>0</td>\n",
              "      <td>0</td>\n",
              "      <td>1</td>\n",
              "    </tr>\n",
              "    <tr>\n",
              "      <th>1</th>\n",
              "      <td>1</td>\n",
              "      <td>0</td>\n",
              "      <td>2</td>\n",
              "    </tr>\n",
              "    <tr>\n",
              "      <th>2</th>\n",
              "      <td>2</td>\n",
              "      <td>0</td>\n",
              "      <td>3</td>\n",
              "    </tr>\n",
              "    <tr>\n",
              "      <th>3</th>\n",
              "      <td>3</td>\n",
              "      <td>0</td>\n",
              "      <td>4</td>\n",
              "    </tr>\n",
              "    <tr>\n",
              "      <th>4</th>\n",
              "      <td>4</td>\n",
              "      <td>0</td>\n",
              "      <td>5</td>\n",
              "    </tr>\n",
              "    <tr>\n",
              "      <th>...</th>\n",
              "      <td>...</td>\n",
              "      <td>...</td>\n",
              "      <td>...</td>\n",
              "    </tr>\n",
              "    <tr>\n",
              "      <th>335499</th>\n",
              "      <td>448763</td>\n",
              "      <td>20000</td>\n",
              "      <td>2892</td>\n",
              "    </tr>\n",
              "    <tr>\n",
              "      <th>335500</th>\n",
              "      <td>448764</td>\n",
              "      <td>20000</td>\n",
              "      <td>2937</td>\n",
              "    </tr>\n",
              "    <tr>\n",
              "      <th>335501</th>\n",
              "      <td>448765</td>\n",
              "      <td>20000</td>\n",
              "      <td>2940</td>\n",
              "    </tr>\n",
              "    <tr>\n",
              "      <th>335502</th>\n",
              "      <td>448766</td>\n",
              "      <td>20000</td>\n",
              "      <td>4375</td>\n",
              "    </tr>\n",
              "    <tr>\n",
              "      <th>335503</th>\n",
              "      <td>448767</td>\n",
              "      <td>20000</td>\n",
              "      <td>19268</td>\n",
              "    </tr>\n",
              "  </tbody>\n",
              "</table>\n",
              "<p>335504 rows × 3 columns</p>\n",
              "</div>\n",
              "    <div class=\"colab-df-buttons\">\n",
              "\n",
              "  <div class=\"colab-df-container\">\n",
              "    <button class=\"colab-df-convert\" onclick=\"convertToInteractive('df-699fd4eb-55ec-49f7-a382-835ec9bf5be8')\"\n",
              "            title=\"Convert this dataframe to an interactive table.\"\n",
              "            style=\"display:none;\">\n",
              "\n",
              "  <svg xmlns=\"http://www.w3.org/2000/svg\" height=\"24px\" viewBox=\"0 -960 960 960\">\n",
              "    <path d=\"M120-120v-720h720v720H120Zm60-500h600v-160H180v160Zm220 220h160v-160H400v160Zm0 220h160v-160H400v160ZM180-400h160v-160H180v160Zm440 0h160v-160H620v160ZM180-180h160v-160H180v160Zm440 0h160v-160H620v160Z\"/>\n",
              "  </svg>\n",
              "    </button>\n",
              "\n",
              "  <style>\n",
              "    .colab-df-container {\n",
              "      display:flex;\n",
              "      gap: 12px;\n",
              "    }\n",
              "\n",
              "    .colab-df-convert {\n",
              "      background-color: #E8F0FE;\n",
              "      border: none;\n",
              "      border-radius: 50%;\n",
              "      cursor: pointer;\n",
              "      display: none;\n",
              "      fill: #1967D2;\n",
              "      height: 32px;\n",
              "      padding: 0 0 0 0;\n",
              "      width: 32px;\n",
              "    }\n",
              "\n",
              "    .colab-df-convert:hover {\n",
              "      background-color: #E2EBFA;\n",
              "      box-shadow: 0px 1px 2px rgba(60, 64, 67, 0.3), 0px 1px 3px 1px rgba(60, 64, 67, 0.15);\n",
              "      fill: #174EA6;\n",
              "    }\n",
              "\n",
              "    .colab-df-buttons div {\n",
              "      margin-bottom: 4px;\n",
              "    }\n",
              "\n",
              "    [theme=dark] .colab-df-convert {\n",
              "      background-color: #3B4455;\n",
              "      fill: #D2E3FC;\n",
              "    }\n",
              "\n",
              "    [theme=dark] .colab-df-convert:hover {\n",
              "      background-color: #434B5C;\n",
              "      box-shadow: 0px 1px 3px 1px rgba(0, 0, 0, 0.15);\n",
              "      filter: drop-shadow(0px 1px 2px rgba(0, 0, 0, 0.3));\n",
              "      fill: #FFFFFF;\n",
              "    }\n",
              "  </style>\n",
              "\n",
              "    <script>\n",
              "      const buttonEl =\n",
              "        document.querySelector('#df-699fd4eb-55ec-49f7-a382-835ec9bf5be8 button.colab-df-convert');\n",
              "      buttonEl.style.display =\n",
              "        google.colab.kernel.accessAllowed ? 'block' : 'none';\n",
              "\n",
              "      async function convertToInteractive(key) {\n",
              "        const element = document.querySelector('#df-699fd4eb-55ec-49f7-a382-835ec9bf5be8');\n",
              "        const dataTable =\n",
              "          await google.colab.kernel.invokeFunction('convertToInteractive',\n",
              "                                                    [key], {});\n",
              "        if (!dataTable) return;\n",
              "\n",
              "        const docLinkHtml = 'Like what you see? Visit the ' +\n",
              "          '<a target=\"_blank\" href=https://colab.research.google.com/notebooks/data_table.ipynb>data table notebook</a>'\n",
              "          + ' to learn more about interactive tables.';\n",
              "        element.innerHTML = '';\n",
              "        dataTable['output_type'] = 'display_data';\n",
              "        await google.colab.output.renderOutput(dataTable, element);\n",
              "        const docLink = document.createElement('div');\n",
              "        docLink.innerHTML = docLinkHtml;\n",
              "        element.appendChild(docLink);\n",
              "      }\n",
              "    </script>\n",
              "  </div>\n",
              "\n",
              "\n",
              "<div id=\"df-52a1233c-a200-496d-a9a7-5d678553548c\">\n",
              "  <button class=\"colab-df-quickchart\" onclick=\"quickchart('df-52a1233c-a200-496d-a9a7-5d678553548c')\"\n",
              "            title=\"Suggest charts\"\n",
              "            style=\"display:none;\">\n",
              "\n",
              "<svg xmlns=\"http://www.w3.org/2000/svg\" height=\"24px\"viewBox=\"0 0 24 24\"\n",
              "     width=\"24px\">\n",
              "    <g>\n",
              "        <path d=\"M19 3H5c-1.1 0-2 .9-2 2v14c0 1.1.9 2 2 2h14c1.1 0 2-.9 2-2V5c0-1.1-.9-2-2-2zM9 17H7v-7h2v7zm4 0h-2V7h2v10zm4 0h-2v-4h2v4z\"/>\n",
              "    </g>\n",
              "</svg>\n",
              "  </button>\n",
              "\n",
              "<style>\n",
              "  .colab-df-quickchart {\n",
              "      --bg-color: #E8F0FE;\n",
              "      --fill-color: #1967D2;\n",
              "      --hover-bg-color: #E2EBFA;\n",
              "      --hover-fill-color: #174EA6;\n",
              "      --disabled-fill-color: #AAA;\n",
              "      --disabled-bg-color: #DDD;\n",
              "  }\n",
              "\n",
              "  [theme=dark] .colab-df-quickchart {\n",
              "      --bg-color: #3B4455;\n",
              "      --fill-color: #D2E3FC;\n",
              "      --hover-bg-color: #434B5C;\n",
              "      --hover-fill-color: #FFFFFF;\n",
              "      --disabled-bg-color: #3B4455;\n",
              "      --disabled-fill-color: #666;\n",
              "  }\n",
              "\n",
              "  .colab-df-quickchart {\n",
              "    background-color: var(--bg-color);\n",
              "    border: none;\n",
              "    border-radius: 50%;\n",
              "    cursor: pointer;\n",
              "    display: none;\n",
              "    fill: var(--fill-color);\n",
              "    height: 32px;\n",
              "    padding: 0;\n",
              "    width: 32px;\n",
              "  }\n",
              "\n",
              "  .colab-df-quickchart:hover {\n",
              "    background-color: var(--hover-bg-color);\n",
              "    box-shadow: 0 1px 2px rgba(60, 64, 67, 0.3), 0 1px 3px 1px rgba(60, 64, 67, 0.15);\n",
              "    fill: var(--button-hover-fill-color);\n",
              "  }\n",
              "\n",
              "  .colab-df-quickchart-complete:disabled,\n",
              "  .colab-df-quickchart-complete:disabled:hover {\n",
              "    background-color: var(--disabled-bg-color);\n",
              "    fill: var(--disabled-fill-color);\n",
              "    box-shadow: none;\n",
              "  }\n",
              "\n",
              "  .colab-df-spinner {\n",
              "    border: 2px solid var(--fill-color);\n",
              "    border-color: transparent;\n",
              "    border-bottom-color: var(--fill-color);\n",
              "    animation:\n",
              "      spin 1s steps(1) infinite;\n",
              "  }\n",
              "\n",
              "  @keyframes spin {\n",
              "    0% {\n",
              "      border-color: transparent;\n",
              "      border-bottom-color: var(--fill-color);\n",
              "      border-left-color: var(--fill-color);\n",
              "    }\n",
              "    20% {\n",
              "      border-color: transparent;\n",
              "      border-left-color: var(--fill-color);\n",
              "      border-top-color: var(--fill-color);\n",
              "    }\n",
              "    30% {\n",
              "      border-color: transparent;\n",
              "      border-left-color: var(--fill-color);\n",
              "      border-top-color: var(--fill-color);\n",
              "      border-right-color: var(--fill-color);\n",
              "    }\n",
              "    40% {\n",
              "      border-color: transparent;\n",
              "      border-right-color: var(--fill-color);\n",
              "      border-top-color: var(--fill-color);\n",
              "    }\n",
              "    60% {\n",
              "      border-color: transparent;\n",
              "      border-right-color: var(--fill-color);\n",
              "    }\n",
              "    80% {\n",
              "      border-color: transparent;\n",
              "      border-right-color: var(--fill-color);\n",
              "      border-bottom-color: var(--fill-color);\n",
              "    }\n",
              "    90% {\n",
              "      border-color: transparent;\n",
              "      border-bottom-color: var(--fill-color);\n",
              "    }\n",
              "  }\n",
              "</style>\n",
              "\n",
              "  <script>\n",
              "    async function quickchart(key) {\n",
              "      const quickchartButtonEl =\n",
              "        document.querySelector('#' + key + ' button');\n",
              "      quickchartButtonEl.disabled = true;  // To prevent multiple clicks.\n",
              "      quickchartButtonEl.classList.add('colab-df-spinner');\n",
              "      try {\n",
              "        const charts = await google.colab.kernel.invokeFunction(\n",
              "            'suggestCharts', [key], {});\n",
              "      } catch (error) {\n",
              "        console.error('Error during call to suggestCharts:', error);\n",
              "      }\n",
              "      quickchartButtonEl.classList.remove('colab-df-spinner');\n",
              "      quickchartButtonEl.classList.add('colab-df-quickchart-complete');\n",
              "    }\n",
              "    (() => {\n",
              "      let quickchartButtonEl =\n",
              "        document.querySelector('#df-52a1233c-a200-496d-a9a7-5d678553548c button');\n",
              "      quickchartButtonEl.style.display =\n",
              "        google.colab.kernel.accessAllowed ? 'block' : 'none';\n",
              "    })();\n",
              "  </script>\n",
              "</div>\n",
              "    </div>\n",
              "  </div>\n"
            ],
            "application/vnd.google.colaboratory.intrinsic+json": {
              "type": "dataframe",
              "variable_name": "friends"
            }
          },
          "metadata": {},
          "execution_count": 20
        }
      ],
      "source": [
        "friends"
      ]
    },
    {
      "cell_type": "code",
      "execution_count": null,
      "metadata": {
        "id": "Pgpyn2lBcgey"
      },
      "outputs": [],
      "source": [
        "dataset.user_ids = torch.tensor(user_ids, dtype=torch.int64)\n",
        "dataset.train_labels = torch.tensor(train_labels, dtype=torch.int64)\n",
        "dataset.seq_lens = torch.tensor(seq_lens, dtype=torch.int64)\n",
        "dataset.test_labels = torch.tensor(test_labels, dtype=torch.int64)\n",
        "dataset.test_features = torch.tensor(test_features, dtype=torch.float)"
      ]
    },
    {
      "cell_type": "code",
      "execution_count": null,
      "metadata": {
        "colab": {
          "base_uri": "https://localhost:8080/"
        },
        "id": "qhUcCEuGdJLd",
        "outputId": "58d0a29d-9abf-436a-d2ba-efb0d267075c"
      },
      "outputs": [
        {
          "output_type": "execute_result",
          "data": {
            "text/plain": [
              "torch.Size([2, 167752])"
            ]
          },
          "metadata": {},
          "execution_count": 22
        }
      ],
      "source": [
        "dataset.edge_index.shape"
      ]
    },
    {
      "cell_type": "code",
      "execution_count": null,
      "metadata": {
        "colab": {
          "base_uri": "https://localhost:8080/"
        },
        "id": "BDachx9G6B-L",
        "outputId": "b5fc6850-099b-4564-8e2e-6291b28a711f"
      },
      "outputs": [
        {
          "output_type": "stream",
          "name": "stdout",
          "text": [
            "20001\n"
          ]
        }
      ],
      "source": [
        "print(len(features))"
      ]
    },
    {
      "cell_type": "markdown",
      "metadata": {
        "id": "OYuDqwyjclwq"
      },
      "source": [
        "### Deep Graph Infomax model"
      ]
    },
    {
      "cell_type": "code",
      "execution_count": null,
      "metadata": {
        "id": "cy4JwHPzQQaK"
      },
      "outputs": [],
      "source": [
        "eps = 1e-15\n",
        "class DeepGraphInfomax(torch.nn.Module):\n",
        "    def __init__(\n",
        "        self,\n",
        "        hidden_channels,\n",
        "        encoder,\n",
        "        summary,\n",
        "        corruption,\n",
        "    ):\n",
        "        super().__init__()\n",
        "        self.hidden_channels = hidden_channels\n",
        "        self.encoder = encoder\n",
        "        self.summary = summary\n",
        "        self.corruption = corruption\n",
        "\n",
        "        self.weight = Parameter(torch.empty(hidden_channels, hidden_channels))\n",
        "\n",
        "        self.reset_parameters()\n",
        "\n",
        "    def reset_parameters(self):\n",
        "        reset(self.encoder)\n",
        "        reset(self.summary)\n",
        "        uniform(self.hidden_channels, self.weight)\n",
        "\n",
        "    def forward(self, *args, **kwargs) -> Tuple[Tensor, Tensor, Tensor]:\n",
        "        pos_z = self.encoder(*args, **kwargs)\n",
        "\n",
        "        cor = self.corruption(*args, **kwargs)\n",
        "        cor = cor if isinstance(cor, tuple) else (cor, )\n",
        "        cor_args = cor[:len(args)]\n",
        "        cor_kwargs = copy.copy(kwargs)\n",
        "        for key, value in zip(kwargs.keys(), cor[len(args):]):\n",
        "            cor_kwargs[key] = value\n",
        "\n",
        "        neg_z = self.encoder(*cor_args, **cor_kwargs)\n",
        "\n",
        "        summary = self.summary(pos_z, *args, **kwargs)\n",
        "\n",
        "        return pos_z, neg_z, summary\n",
        "\n",
        "    def discriminate(self, z: Tensor, summary: Tensor,\n",
        "                     sigmoid: bool = True) -> Tensor:\n",
        "\n",
        "        summary = summary.t() if summary.dim() > 1 else summary\n",
        "        value = torch.matmul(z, torch.matmul(self.weight, summary))\n",
        "        return torch.sigmoid(value) if sigmoid else value\n",
        "\n",
        "    def loss(self, pos_z: Tensor, neg_z: Tensor, summary: Tensor) -> Tensor:\n",
        "        pos_loss = -torch.log(\n",
        "            self.discriminate(pos_z, summary, sigmoid=True) + eps).mean()\n",
        "        neg_loss = -torch.log(1 -\n",
        "                              self.discriminate(neg_z, summary, sigmoid=True) +\n",
        "                              eps).mean()\n",
        "\n",
        "        return pos_loss + neg_loss\n",
        "\n",
        "\n",
        "    def __repr__(self) -> str:\n",
        "        return f'{self.__class__.__name__}({self.hidden_channels})'"
      ]
    },
    {
      "cell_type": "code",
      "execution_count": null,
      "metadata": {
        "id": "UoHpaG67QtJS"
      },
      "outputs": [],
      "source": [
        "class Encoder(nn.Module):\n",
        "    def __init__(self, interm_channels, hidden_channels, num_features):\n",
        "        super().__init__()\n",
        "\n",
        "        self.num_features = num_features\n",
        "        self.rnn = nn.RNN(128, 128, batch_first = True)\n",
        "        self.norm = nn.BatchNorm1d(128)\n",
        "        self.conv1 = GATv2Conv(self.num_features, interm_channels)\n",
        "        self.prelu1 = nn.PReLU(interm_channels)\n",
        "        self.dropout = nn.Dropout(0.2)\n",
        "        self.conv2 = GATv2Conv(interm_channels, hidden_channels)\n",
        "        self.prelu2 = nn.PReLU(hidden_channels)\n",
        "        self.conv3 = GATv2Conv(hidden_channels, hidden_channels)\n",
        "\n",
        "    def forward(self, x, edge_index):\n",
        "        x = self.conv1(x, edge_index)\n",
        "        x = self.prelu1(x)\n",
        "        x = self.dropout(x)\n",
        "        x = self.conv2(x, edge_index)\n",
        "        x = self.prelu2(x)\n",
        "        x = self.dropout(x)\n",
        "        x = self.conv3(x, edge_index)\n",
        "        return x"
      ]
    },
    {
      "cell_type": "markdown",
      "metadata": {
        "id": "bA0seHr3dUkI"
      },
      "source": [
        "### Augmentation construction helping functions"
      ]
    },
    {
      "cell_type": "code",
      "execution_count": null,
      "metadata": {
        "id": "ReW3VoWAKX2D"
      },
      "outputs": [],
      "source": [
        "def index_to_mask(index):\n",
        "\n",
        "    index = index.view(-1)\n",
        "    size = int(index.max()) + 1\n",
        "\n",
        "    mask = index.new_zeros(20001, dtype=torch.bool)\n",
        "    mask[index] = True\n",
        "    return mask"
      ]
    },
    {
      "cell_type": "code",
      "execution_count": null,
      "metadata": {
        "id": "a8hjYrL2RCvm"
      },
      "outputs": [],
      "source": [
        "def map_index(indices, edge_index):\n",
        "  dictionary = {}\n",
        "  label = 0\n",
        "  for ind in indices:\n",
        "    dictionary[ind] = label\n",
        "    label += 1\n",
        "  for i in range(edge_index.shape[1]):\n",
        "    # if edge_index[0][i] in dictionary.keys():\n",
        "    edge_index[0][i] = dictionary[edge_index[0][i].item()]\n",
        "    # if edge_index[1][i] in dictionary.keys():\n",
        "    edge_index[1][i] = dictionary[edge_index[1][i].item()]\n",
        "  return edge_index"
      ]
    },
    {
      "cell_type": "code",
      "execution_count": null,
      "metadata": {
        "id": "WdBU8H_17IZk"
      },
      "outputs": [],
      "source": [
        "def construct_neighbors_dictionary(edge_index):\n",
        "  dictionary = {}\n",
        "  for i in range(edge_index.shape[1]):\n",
        "    if edge_index[0][i].item() not in dictionary.keys():\n",
        "      dictionary[edge_index[0][i].item()] = []\n",
        "    dictionary[edge_index[0][i].item()].append(edge_index[1][i].item())\n",
        "    if edge_index[1][i].item() not in dictionary.keys():\n",
        "      dictionary[edge_index[1][i].item()] = []\n",
        "    dictionary[edge_index[1][i].item()].append(edge_index[0][i].item())\n",
        "  return dictionary"
      ]
    },
    {
      "cell_type": "code",
      "execution_count": null,
      "metadata": {
        "id": "D9xrU89R8ssa"
      },
      "outputs": [],
      "source": [
        "neighbors = construct_neighbors_dictionary(dataset.edge_index)"
      ]
    },
    {
      "cell_type": "markdown",
      "metadata": {
        "id": "WGJXkVRYcws3"
      },
      "source": [
        "### Augmentations"
      ]
    },
    {
      "cell_type": "code",
      "execution_count": null,
      "metadata": {
        "id": "kkbrvZ3KYf5g"
      },
      "outputs": [],
      "source": [
        "def node_mix(x, edge_index):\n",
        "    return x[torch.randperm(x.size(0))], edge_index"
      ]
    },
    {
      "cell_type": "code",
      "execution_count": null,
      "metadata": {
        "id": "va8AImgSkLAG"
      },
      "outputs": [],
      "source": [
        "def node_dropout(x, edge_index):\n",
        "  indices = []\n",
        "  deleted_indices = []\n",
        "  for i in range(x.shape[0]):\n",
        "    drop = random.random()\n",
        "    if drop >= 0.3:\n",
        "      indices.append(i)\n",
        "    else:\n",
        "      deleted_indices.append(i)\n",
        "  x = torch.index_select(x, 0, torch.tensor(indices, dtype = torch.int32))\n",
        "  node_mask = index_to_mask(torch.tensor(indices, dtype = torch.int32))\n",
        "  edge_mask = node_mask[edge_index[0]] & node_mask[edge_index[1]]\n",
        "  edge_index = edge_index[:, edge_mask]\n",
        "  edge_index = map_index(indices, edge_index)\n",
        "\n",
        "  return x, edge_index"
      ]
    },
    {
      "cell_type": "code",
      "execution_count": null,
      "metadata": {
        "id": "cMA3Bvow6gVA"
      },
      "outputs": [],
      "source": [
        "def random_walk(x, edge_index):\n",
        "  node = 0\n",
        "  rwalk = [node]\n",
        "  walk_length = 10000\n",
        "  for i in range(walk_length - 1):\n",
        "    temp = neighbors[node]\n",
        "    temp = list(set(temp) - set(rwalk))\n",
        "    if len(temp) == 0:\n",
        "      break\n",
        "    new_node = random.choice(temp)\n",
        "    rwalk.append(new_node)\n",
        "    node = new_node\n",
        "  x = torch.index_select(x, 0, torch.tensor(rwalk, dtype = torch.int32))\n",
        "  node_mask = index_to_mask(torch.tensor(rwalk, dtype = torch.int32))\n",
        "  edge_mask = node_mask[edge_index[0]] & node_mask[edge_index[1]]\n",
        "  edge_index = edge_index[:, edge_mask]\n",
        "  edge_index = map_index(rwalk, edge_index)\n",
        "\n",
        "  return x, edge_index"
      ]
    },
    {
      "cell_type": "code",
      "execution_count": null,
      "metadata": {
        "id": "KcJi4_EWkQX2"
      },
      "outputs": [],
      "source": [
        "def edge_dropout(x, edge_index):\n",
        "  indices = []\n",
        "  for i in range(edge_index.shape[1]):\n",
        "    drop = random.random()\n",
        "    if drop >= 0.3:\n",
        "      indices.append(i)\n",
        "  edge_index = torch.index_select(edge_index, 1, torch.tensor(indices, dtype = torch.int32))\n",
        "  return x, edge_index"
      ]
    },
    {
      "cell_type": "markdown",
      "metadata": {
        "id": "bqROBxx7ddQ2"
      },
      "source": [
        "### Link prediction head"
      ]
    },
    {
      "cell_type": "code",
      "execution_count": null,
      "metadata": {
        "id": "0WVo1TylQ4Rl"
      },
      "outputs": [],
      "source": [
        "class LinkPredHead(nn.Module):\n",
        "    def __init__(self):\n",
        "        super().__init__()\n",
        "        self.fc_1 = nn.Linear(256, 1)\n",
        "\n",
        "    def forward(self, x, edge_index):\n",
        "        x_src, x_dst = x[edge_index[0]], x[edge_index[1]]\n",
        "        # x = torch.cat((x_src, x_dst), dim = 1)\n",
        "        # x = self.fc_1(x)\n",
        "        return torch.sum(x_src * x_dst, dim=1)"
      ]
    },
    {
      "cell_type": "markdown",
      "metadata": {
        "id": "aLPlcvG6fWyk"
      },
      "source": [
        "### Next action prediction head"
      ]
    },
    {
      "cell_type": "code",
      "execution_count": null,
      "metadata": {
        "id": "_bnrGp6BfS9U"
      },
      "outputs": [],
      "source": [
        "class NextActionPredHead(nn.Module):\n",
        "  def __init__(self):\n",
        "    super(NextActionPredHead, self).__init__()\n",
        "    self.fc1 = nn.Linear(128, num_classes)\n",
        "    self.conv1 = GATv2Conv(128, 128)\n",
        "    self.rnn = nn.RNN(128, 128, batch_first = True)\n",
        "\n",
        "  def forward(self, x):\n",
        "    x = self.fc1(x)\n",
        "    return x"
      ]
    },
    {
      "cell_type": "code",
      "execution_count": null,
      "metadata": {
        "id": "S167i6uNRU3q"
      },
      "outputs": [],
      "source": [
        "def negative_sampling(edge_index, num_nodes):\n",
        "    mask_1 = torch.rand(edge_index.size(1)) < 0.5\n",
        "    mask_2 = ~mask_1\n",
        "\n",
        "    neg_edge_index = edge_index.clone()\n",
        "    neg_edge_index[0, mask_1] = torch.randint(num_nodes, (mask_1.sum(),))\n",
        "    neg_edge_index[1, mask_2] = torch.randint(num_nodes, (mask_2.sum(),))\n",
        "\n",
        "    return neg_edge_index"
      ]
    },
    {
      "cell_type": "markdown",
      "metadata": {
        "id": "1otI0IpBfnU1"
      },
      "source": [
        "### User representations dataset"
      ]
    },
    {
      "cell_type": "code",
      "execution_count": null,
      "metadata": {
        "id": "jxRGw8S1fllP"
      },
      "outputs": [],
      "source": [
        "class UserDataset():\n",
        "    def __init__(self, user_representations):\n",
        "        self.user_representations = user_representations\n",
        "\n",
        "    def __len__(self):\n",
        "        return len(self.user_representations)\n",
        "\n",
        "    def __getitem__(self, idx):\n",
        "\n",
        "        return self.user_representations[idx][0], self.user_representations[idx][1], self.user_representations[idx][2]"
      ]
    },
    {
      "cell_type": "markdown",
      "metadata": {
        "id": "sDBwo2nue_iU"
      },
      "source": [
        "### Training functions"
      ]
    },
    {
      "cell_type": "code",
      "execution_count": null,
      "metadata": {
        "id": "ysaXUViyR9L9"
      },
      "outputs": [],
      "source": [
        "def train_only_infomax(epoch):\n",
        "    model.train()\n",
        "    optimizer.zero_grad()\n",
        "    pos_z, neg_z, summary = model(dataset.x, dataset.edge_index)\n",
        "    loss_infomax = model.loss(pos_z, neg_z, summary)\n",
        "\n",
        "    pos_out = linkmodel(pos_z, dataset.edge_index)\n",
        "    neg_edge_index = negative_sampling(dataset.edge_index, dataset.num_nodes)\n",
        "    neg_out = linkmodel(pos_z, neg_edge_index)\n",
        "\n",
        "    out = torch.cat([pos_out, neg_out])\n",
        "    gt = torch.cat([torch.ones_like(pos_out), torch.zeros_like(neg_out)])\n",
        "    loss_link_pred = loss_bce(out, gt)\n",
        "\n",
        "    loss =  loss_infomax\n",
        "    loss.backward()\n",
        "    optimizer.step()\n",
        "    print(f'Epoch: {epoch}, Loss: {loss}')\n",
        "    if epoch == num_epoch:\n",
        "      return pos_z, neg_z, summary, loss.item()\n",
        "    else:\n",
        "      return loss.item()"
      ]
    },
    {
      "cell_type": "code",
      "execution_count": null,
      "metadata": {
        "id": "T0OgTpboety9"
      },
      "outputs": [],
      "source": [
        "def train_infomax_linkpred(epoch):\n",
        "    model.train()\n",
        "    optimizer.zero_grad()\n",
        "    pos_z, neg_z, summary = model(dataset.x, dataset.edge_index)\n",
        "    loss_infomax = model.loss(pos_z, neg_z, summary)\n",
        "\n",
        "    pos_out = linkmodel(pos_z, dataset.edge_index)\n",
        "    neg_edge_index = negative_sampling(dataset.edge_index, dataset.num_nodes)\n",
        "    neg_out = linkmodel(pos_z, neg_edge_index)\n",
        "\n",
        "    out = torch.cat([pos_out, neg_out])\n",
        "    gt = torch.cat([torch.ones_like(pos_out), torch.zeros_like(neg_out)])\n",
        "    loss_link_pred = loss_bce(out, gt)\n",
        "    loss =  2*loss_infomax + 0.5*loss_link_pred\n",
        "    loss.backward()\n",
        "    optimizer.step()\n",
        "    print(f'Epoch: {epoch}, Loss: {loss}')\n",
        "    if epoch == num_epoch:\n",
        "      return pos_z, neg_z, summary, loss.item()\n",
        "    else:\n",
        "      return loss.item()"
      ]
    },
    {
      "cell_type": "code",
      "execution_count": null,
      "metadata": {
        "id": "O0qMYAF2irlZ"
      },
      "outputs": [],
      "source": [
        "def test(head_model):\n",
        "  metrics_val = []\n",
        "  head_model.eval()\n",
        "  index = 0\n",
        "  for users, vectors, labels in user_test_dataloader:\n",
        "      test_probs = head_model(vectors)\n",
        "      test_pred = torch.argmax(test_probs, axis = 1)#torch.Tensor([0]*20001)\n",
        "\n",
        "      test_one_hot = torch.zeros(len(test_probs), num_classes)\n",
        "      test_one_hot[torch.arange(len(test_one_hot)), labels] = 1\n",
        "\n",
        "\n",
        "      hits1, hits5, hits10, hits20, hits50, hits100, map1, map5, map10, map20, map50, map100, ndcg1, ndcg5, ndcg10, ndcg20, ndcg50, ndcg100 \\\n",
        "       = get_metrics_(test_probs, labels, test_one_hot)\n",
        "\n",
        "      metrics_val.append([hits1, hits5, hits10, hits20, hits50, hits100, map1, map5, map10, map20, map50, map100, ndcg1, ndcg5, ndcg10, ndcg20, ndcg50, ndcg100])#, hits5, hits10, hits20, hits50, hits100, map1, map5, map10, map20, map50, map100])\n",
        "\n",
        "  mean = torch.Tensor(metrics_val).mean(axis=0)\n",
        "  test_hits1, test_hits5, test_hits10, test_hits20, test_hits50, test_hits100, test_map1, test_map5, test_map10, test_map20, test_map50, test_map100, \\\n",
        "  test_ndcg1, test_ndcg5, test_ndcg10, test_ndcg20, test_ndcg50, test_ndcg100 = mean\n",
        "\n",
        "  return test_hits1, test_hits5, test_hits10, test_hits20, test_hits50, test_hits100, test_map1, test_map5, test_map10, test_map20, test_map50, test_map100, \\\n",
        "  test_ndcg1, test_ndcg5, test_ndcg10, test_ndcg20, test_ndcg50, test_ndcg100"
      ]
    },
    {
      "cell_type": "code",
      "execution_count": null,
      "metadata": {
        "id": "OFNjr041kMkE"
      },
      "outputs": [],
      "source": [
        "def middle_test(model):\n",
        "  hits_1 = []\n",
        "  for users, vectors, labels in user_test_dataloader:\n",
        "\n",
        "    test_probs = model(vectors)\n",
        "\n",
        "    test_pred = torch.argmax(test_probs, axis = 1)\n",
        "\n",
        "    test_one_hot = torch.zeros(len(test_probs), num_classes)\n",
        "    test_one_hot[torch.arange(len(test_one_hot)), labels] = 1\n",
        "    hits_1.append(top_k_accuracy_score(labels, test_probs.cpu().detach().numpy(), k=1, labels = classes))\n",
        "  print(f'Hits@1: {torch.mean(torch.Tensor(hits_1))}')\n"
      ]
    },
    {
      "cell_type": "code",
      "execution_count": null,
      "metadata": {
        "id": "k3dHTim1hcrq"
      },
      "outputs": [],
      "source": [
        "def train2task():\n",
        "  loss_fn = nn.CrossEntropyLoss()\n",
        "  head_model  = NextActionPredHead()\n",
        "\n",
        "  head_model.train()\n",
        "  optimizer = torch.optim.Adam(head_model.parameters(), lr = 0.0001)\n",
        "  lr_scheduler = torch.optim.lr_scheduler.ExponentialLR(optimizer=optimizer, gamma=0.97, last_epoch=-1)\n",
        "  losses = []\n",
        "\n",
        "  for i in range(200):\n",
        "    for users, vectors, labels in user_train_dataloader:\n",
        "\n",
        "        optimizer.zero_grad()\n",
        "\n",
        "        probs = head_model(vectors)\n",
        "        pred = torch.argmax(probs, axis = 1)\n",
        "        one_hot = torch.zeros(len(probs), num_classes)\n",
        "        one_hot[torch.arange(len(one_hot)), labels] = 1\n",
        "        # print(one_hot.shape)\n",
        "        # print(probs.shape)\n",
        "        loss = loss_fn(probs, one_hot)\n",
        "\n",
        "        losses.append(loss)\n",
        "        loss.backward()\n",
        "        optimizer.step()\n",
        "    mean_loss = torch.Tensor(losses).mean(axis=0).item()\n",
        "    print(f'Epoch: {i}, Loss: {mean_loss}')\n",
        "    middle_test(head_model)\n",
        "\n",
        "  hits1, hits5, hits10, hits20, hits50, hits100, map1, map5, map10, map20, map50, map100, ndcg1, ndcg5, ndcg10, ndcg20, ndcg50, ndcg100 = test(head_model)\n",
        "  print_metrics(hits1, hits5, hits10, hits20, hits50, hits100, map1, map5, map10, map20, map50, map100, ndcg1, ndcg5, ndcg10, ndcg20, ndcg50, ndcg100)\n",
        "  return head_model"
      ]
    },
    {
      "cell_type": "markdown",
      "metadata": {
        "id": "asZZVWJWgTt5"
      },
      "source": [
        "### Node mix augmentation, only infomax"
      ]
    },
    {
      "cell_type": "code",
      "execution_count": null,
      "metadata": {
        "id": "puaOr6u2e8QW"
      },
      "outputs": [],
      "source": [
        "# device = torch.device('cuda' if torch.cuda.is_available() else 'cpu')\n",
        "device = torch.device('cpu')\n",
        "model = DeepGraphInfomax(hidden_channels=128,\n",
        "                         encoder=Encoder(interm_channels=74, hidden_channels=128,\n",
        "                                         num_features=128),\n",
        "                         summary=lambda z, *args, **kwargs: torch.sigmoid(z.mean(dim=0)),\n",
        "                         corruption=node_mix).to(device)\n",
        "linkmodel = LinkPredHead()\n",
        "optimizer = torch.optim.AdamW(model.parameters(), lr=0.0005)\n",
        "loss_bce = nn.BCEWithLogitsLoss()"
      ]
    },
    {
      "cell_type": "code",
      "execution_count": null,
      "metadata": {
        "colab": {
          "base_uri": "https://localhost:8080/"
        },
        "id": "2XCxNiRSSMrq",
        "outputId": "9dd6242e-0f0c-4fa1-f3c4-20b610121a95"
      },
      "outputs": [
        {
          "output_type": "stream",
          "name": "stderr",
          "text": [
            "  1%|          | 1/100 [00:07<12:41,  7.69s/it]"
          ]
        },
        {
          "output_type": "stream",
          "name": "stdout",
          "text": [
            "Epoch: 1, Loss: 2.0441513061523438\n"
          ]
        },
        {
          "output_type": "stream",
          "name": "stderr",
          "text": [
            "\r  2%|▏         | 2/100 [00:15<12:31,  7.67s/it]"
          ]
        },
        {
          "output_type": "stream",
          "name": "stdout",
          "text": [
            "Epoch: 2, Loss: 1.3706047534942627\n"
          ]
        },
        {
          "output_type": "stream",
          "name": "stderr",
          "text": [
            "\r  3%|▎         | 3/100 [00:21<11:28,  7.10s/it]"
          ]
        },
        {
          "output_type": "stream",
          "name": "stdout",
          "text": [
            "Epoch: 3, Loss: 1.5238572359085083\n"
          ]
        },
        {
          "output_type": "stream",
          "name": "stderr",
          "text": [
            "\r  4%|▍         | 4/100 [00:29<11:41,  7.31s/it]"
          ]
        },
        {
          "output_type": "stream",
          "name": "stdout",
          "text": [
            "Epoch: 4, Loss: 1.4519790410995483\n"
          ]
        },
        {
          "output_type": "stream",
          "name": "stderr",
          "text": [
            "\r  5%|▌         | 5/100 [00:35<11:03,  6.99s/it]"
          ]
        },
        {
          "output_type": "stream",
          "name": "stdout",
          "text": [
            "Epoch: 5, Loss: 1.0741887092590332\n"
          ]
        },
        {
          "output_type": "stream",
          "name": "stderr",
          "text": [
            "\r  6%|▌         | 6/100 [00:43<11:13,  7.16s/it]"
          ]
        },
        {
          "output_type": "stream",
          "name": "stdout",
          "text": [
            "Epoch: 6, Loss: 1.1899919509887695\n"
          ]
        },
        {
          "output_type": "stream",
          "name": "stderr",
          "text": [
            "\r  7%|▋         | 7/100 [00:49<10:40,  6.88s/it]"
          ]
        },
        {
          "output_type": "stream",
          "name": "stdout",
          "text": [
            "Epoch: 7, Loss: 0.8261829614639282\n"
          ]
        },
        {
          "output_type": "stream",
          "name": "stderr",
          "text": [
            "\r  8%|▊         | 8/100 [00:57<10:55,  7.12s/it]"
          ]
        },
        {
          "output_type": "stream",
          "name": "stdout",
          "text": [
            "Epoch: 8, Loss: 0.6506307721138\n"
          ]
        },
        {
          "output_type": "stream",
          "name": "stderr",
          "text": [
            "\r  9%|▉         | 9/100 [01:03<10:28,  6.90s/it]"
          ]
        },
        {
          "output_type": "stream",
          "name": "stdout",
          "text": [
            "Epoch: 9, Loss: 0.4852405786514282\n"
          ]
        },
        {
          "output_type": "stream",
          "name": "stderr",
          "text": [
            "\r 10%|█         | 10/100 [01:11<10:41,  7.13s/it]"
          ]
        },
        {
          "output_type": "stream",
          "name": "stdout",
          "text": [
            "Epoch: 10, Loss: 0.8739855289459229\n"
          ]
        },
        {
          "output_type": "stream",
          "name": "stderr",
          "text": [
            "\r 11%|█         | 11/100 [01:17<10:14,  6.91s/it]"
          ]
        },
        {
          "output_type": "stream",
          "name": "stdout",
          "text": [
            "Epoch: 11, Loss: 0.5356216430664062\n"
          ]
        },
        {
          "output_type": "stream",
          "name": "stderr",
          "text": [
            "\r 12%|█▏        | 12/100 [01:25<10:27,  7.14s/it]"
          ]
        },
        {
          "output_type": "stream",
          "name": "stdout",
          "text": [
            "Epoch: 12, Loss: 0.5005763173103333\n"
          ]
        },
        {
          "output_type": "stream",
          "name": "stderr",
          "text": [
            "\r 13%|█▎        | 13/100 [01:33<10:45,  7.42s/it]"
          ]
        },
        {
          "output_type": "stream",
          "name": "stdout",
          "text": [
            "Epoch: 13, Loss: 0.3467347025871277\n"
          ]
        },
        {
          "output_type": "stream",
          "name": "stderr",
          "text": [
            "\r 14%|█▍        | 14/100 [01:40<10:34,  7.38s/it]"
          ]
        },
        {
          "output_type": "stream",
          "name": "stdout",
          "text": [
            "Epoch: 14, Loss: 0.26977667212486267\n"
          ]
        },
        {
          "output_type": "stream",
          "name": "stderr",
          "text": [
            "\r 15%|█▌        | 15/100 [01:47<10:15,  7.24s/it]"
          ]
        },
        {
          "output_type": "stream",
          "name": "stdout",
          "text": [
            "Epoch: 15, Loss: 0.5275331139564514\n"
          ]
        },
        {
          "output_type": "stream",
          "name": "stderr",
          "text": [
            "\r 16%|█▌        | 16/100 [01:54<10:06,  7.22s/it]"
          ]
        },
        {
          "output_type": "stream",
          "name": "stdout",
          "text": [
            "Epoch: 16, Loss: 0.465753972530365\n"
          ]
        },
        {
          "output_type": "stream",
          "name": "stderr",
          "text": [
            "\r 17%|█▋        | 17/100 [02:01<09:47,  7.08s/it]"
          ]
        },
        {
          "output_type": "stream",
          "name": "stdout",
          "text": [
            "Epoch: 17, Loss: 0.3546474575996399\n"
          ]
        },
        {
          "output_type": "stream",
          "name": "stderr",
          "text": [
            "\r 18%|█▊        | 18/100 [02:09<09:51,  7.22s/it]"
          ]
        },
        {
          "output_type": "stream",
          "name": "stdout",
          "text": [
            "Epoch: 18, Loss: 0.5445301532745361\n"
          ]
        },
        {
          "output_type": "stream",
          "name": "stderr",
          "text": [
            "\r 19%|█▉        | 19/100 [02:15<09:34,  7.09s/it]"
          ]
        },
        {
          "output_type": "stream",
          "name": "stdout",
          "text": [
            "Epoch: 19, Loss: 0.3433173894882202\n"
          ]
        },
        {
          "output_type": "stream",
          "name": "stderr",
          "text": [
            "\r 20%|██        | 20/100 [02:23<09:30,  7.14s/it]"
          ]
        },
        {
          "output_type": "stream",
          "name": "stdout",
          "text": [
            "Epoch: 20, Loss: 0.43800729513168335\n"
          ]
        },
        {
          "output_type": "stream",
          "name": "stderr",
          "text": [
            "\r 21%|██        | 21/100 [02:29<09:16,  7.04s/it]"
          ]
        },
        {
          "output_type": "stream",
          "name": "stdout",
          "text": [
            "Epoch: 21, Loss: 0.3413238525390625\n"
          ]
        },
        {
          "output_type": "stream",
          "name": "stderr",
          "text": [
            "\r 22%|██▏       | 22/100 [02:37<09:12,  7.09s/it]"
          ]
        },
        {
          "output_type": "stream",
          "name": "stdout",
          "text": [
            "Epoch: 22, Loss: 0.36065128445625305\n"
          ]
        },
        {
          "output_type": "stream",
          "name": "stderr",
          "text": [
            "\r 23%|██▎       | 23/100 [02:43<08:55,  6.96s/it]"
          ]
        },
        {
          "output_type": "stream",
          "name": "stdout",
          "text": [
            "Epoch: 23, Loss: 0.33490121364593506\n"
          ]
        },
        {
          "output_type": "stream",
          "name": "stderr",
          "text": [
            "\r 24%|██▍       | 24/100 [02:51<08:56,  7.06s/it]"
          ]
        },
        {
          "output_type": "stream",
          "name": "stdout",
          "text": [
            "Epoch: 24, Loss: 0.3043622374534607\n"
          ]
        },
        {
          "output_type": "stream",
          "name": "stderr",
          "text": [
            "\r 25%|██▌       | 25/100 [02:57<08:37,  6.90s/it]"
          ]
        },
        {
          "output_type": "stream",
          "name": "stdout",
          "text": [
            "Epoch: 25, Loss: 0.374714195728302\n"
          ]
        },
        {
          "output_type": "stream",
          "name": "stderr",
          "text": [
            "\r 26%|██▌       | 26/100 [03:05<08:41,  7.04s/it]"
          ]
        },
        {
          "output_type": "stream",
          "name": "stdout",
          "text": [
            "Epoch: 26, Loss: 0.45965757966041565\n"
          ]
        },
        {
          "output_type": "stream",
          "name": "stderr",
          "text": [
            "\r 27%|██▋       | 27/100 [03:11<08:23,  6.90s/it]"
          ]
        },
        {
          "output_type": "stream",
          "name": "stdout",
          "text": [
            "Epoch: 27, Loss: 0.28340017795562744\n"
          ]
        },
        {
          "output_type": "stream",
          "name": "stderr",
          "text": [
            "\r 28%|██▊       | 28/100 [03:19<08:27,  7.05s/it]"
          ]
        },
        {
          "output_type": "stream",
          "name": "stdout",
          "text": [
            "Epoch: 28, Loss: 0.5449036955833435\n"
          ]
        },
        {
          "output_type": "stream",
          "name": "stderr",
          "text": [
            "\r 29%|██▉       | 29/100 [03:25<08:08,  6.88s/it]"
          ]
        },
        {
          "output_type": "stream",
          "name": "stdout",
          "text": [
            "Epoch: 29, Loss: 0.3212209641933441\n"
          ]
        },
        {
          "output_type": "stream",
          "name": "stderr",
          "text": [
            "\r 30%|███       | 30/100 [03:33<08:14,  7.07s/it]"
          ]
        },
        {
          "output_type": "stream",
          "name": "stdout",
          "text": [
            "Epoch: 30, Loss: 0.3507351279258728\n"
          ]
        },
        {
          "output_type": "stream",
          "name": "stderr",
          "text": [
            "\r 31%|███       | 31/100 [03:39<07:55,  6.89s/it]"
          ]
        },
        {
          "output_type": "stream",
          "name": "stdout",
          "text": [
            "Epoch: 31, Loss: 0.27348196506500244\n"
          ]
        },
        {
          "output_type": "stream",
          "name": "stderr",
          "text": [
            "\r 32%|███▏      | 32/100 [03:47<08:03,  7.11s/it]"
          ]
        },
        {
          "output_type": "stream",
          "name": "stdout",
          "text": [
            "Epoch: 32, Loss: 0.28317779302597046\n"
          ]
        },
        {
          "output_type": "stream",
          "name": "stderr",
          "text": [
            "\r 33%|███▎      | 33/100 [03:54<07:59,  7.16s/it]"
          ]
        },
        {
          "output_type": "stream",
          "name": "stdout",
          "text": [
            "Epoch: 33, Loss: 0.30881232023239136\n"
          ]
        },
        {
          "output_type": "stream",
          "name": "stderr",
          "text": [
            "\r 34%|███▍      | 34/100 [04:02<08:19,  7.56s/it]"
          ]
        },
        {
          "output_type": "stream",
          "name": "stdout",
          "text": [
            "Epoch: 34, Loss: 0.2708754539489746\n"
          ]
        },
        {
          "output_type": "stream",
          "name": "stderr",
          "text": [
            "\r 35%|███▌      | 35/100 [04:09<07:49,  7.22s/it]"
          ]
        },
        {
          "output_type": "stream",
          "name": "stdout",
          "text": [
            "Epoch: 35, Loss: 0.26705610752105713\n"
          ]
        },
        {
          "output_type": "stream",
          "name": "stderr",
          "text": [
            "\r 36%|███▌      | 36/100 [04:16<07:50,  7.36s/it]"
          ]
        },
        {
          "output_type": "stream",
          "name": "stdout",
          "text": [
            "Epoch: 36, Loss: 0.22535641491413116\n"
          ]
        },
        {
          "output_type": "stream",
          "name": "stderr",
          "text": [
            "\r 37%|███▋      | 37/100 [04:23<07:28,  7.12s/it]"
          ]
        },
        {
          "output_type": "stream",
          "name": "stdout",
          "text": [
            "Epoch: 37, Loss: 0.23792573809623718\n"
          ]
        },
        {
          "output_type": "stream",
          "name": "stderr",
          "text": [
            "\r 38%|███▊      | 38/100 [04:31<07:32,  7.30s/it]"
          ]
        },
        {
          "output_type": "stream",
          "name": "stdout",
          "text": [
            "Epoch: 38, Loss: 0.2754320502281189\n"
          ]
        },
        {
          "output_type": "stream",
          "name": "stderr",
          "text": [
            "\r 39%|███▉      | 39/100 [04:37<07:08,  7.03s/it]"
          ]
        },
        {
          "output_type": "stream",
          "name": "stdout",
          "text": [
            "Epoch: 39, Loss: 0.25759458541870117\n"
          ]
        },
        {
          "output_type": "stream",
          "name": "stderr",
          "text": [
            "\r 40%|████      | 40/100 [04:46<07:39,  7.65s/it]"
          ]
        },
        {
          "output_type": "stream",
          "name": "stdout",
          "text": [
            "Epoch: 40, Loss: 0.25509074330329895\n"
          ]
        },
        {
          "output_type": "stream",
          "name": "stderr",
          "text": [
            "\r 41%|████      | 41/100 [04:53<07:09,  7.28s/it]"
          ]
        },
        {
          "output_type": "stream",
          "name": "stdout",
          "text": [
            "Epoch: 41, Loss: 0.2309490442276001\n"
          ]
        },
        {
          "output_type": "stream",
          "name": "stderr",
          "text": [
            "\r 42%|████▏     | 42/100 [05:00<07:07,  7.37s/it]"
          ]
        },
        {
          "output_type": "stream",
          "name": "stdout",
          "text": [
            "Epoch: 42, Loss: 0.20666518807411194\n"
          ]
        },
        {
          "output_type": "stream",
          "name": "stderr",
          "text": [
            "\r 43%|████▎     | 43/100 [05:07<06:43,  7.08s/it]"
          ]
        },
        {
          "output_type": "stream",
          "name": "stdout",
          "text": [
            "Epoch: 43, Loss: 0.18510323762893677\n"
          ]
        },
        {
          "output_type": "stream",
          "name": "stderr",
          "text": [
            "\r 44%|████▍     | 44/100 [05:14<06:46,  7.25s/it]"
          ]
        },
        {
          "output_type": "stream",
          "name": "stdout",
          "text": [
            "Epoch: 44, Loss: 0.16460363566875458\n"
          ]
        },
        {
          "output_type": "stream",
          "name": "stderr",
          "text": [
            "\r 45%|████▌     | 45/100 [05:21<06:24,  6.98s/it]"
          ]
        },
        {
          "output_type": "stream",
          "name": "stdout",
          "text": [
            "Epoch: 45, Loss: 0.2396889477968216\n"
          ]
        },
        {
          "output_type": "stream",
          "name": "stderr",
          "text": [
            "\r 46%|████▌     | 46/100 [05:28<06:27,  7.18s/it]"
          ]
        },
        {
          "output_type": "stream",
          "name": "stdout",
          "text": [
            "Epoch: 46, Loss: 0.1893056035041809\n"
          ]
        },
        {
          "output_type": "stream",
          "name": "stderr",
          "text": [
            "\r 47%|████▋     | 47/100 [05:35<06:09,  6.97s/it]"
          ]
        },
        {
          "output_type": "stream",
          "name": "stdout",
          "text": [
            "Epoch: 47, Loss: 0.1790321171283722\n"
          ]
        },
        {
          "output_type": "stream",
          "name": "stderr",
          "text": [
            "\r 48%|████▊     | 48/100 [05:42<06:12,  7.17s/it]"
          ]
        },
        {
          "output_type": "stream",
          "name": "stdout",
          "text": [
            "Epoch: 48, Loss: 0.1982746422290802\n"
          ]
        },
        {
          "output_type": "stream",
          "name": "stderr",
          "text": [
            "\r 49%|████▉     | 49/100 [05:49<05:52,  6.91s/it]"
          ]
        },
        {
          "output_type": "stream",
          "name": "stdout",
          "text": [
            "Epoch: 49, Loss: 3.456930637359619\n"
          ]
        },
        {
          "output_type": "stream",
          "name": "stderr",
          "text": [
            "\r 50%|█████     | 50/100 [05:56<05:57,  7.15s/it]"
          ]
        },
        {
          "output_type": "stream",
          "name": "stdout",
          "text": [
            "Epoch: 50, Loss: 0.22017526626586914\n"
          ]
        },
        {
          "output_type": "stream",
          "name": "stderr",
          "text": [
            "\r 51%|█████     | 51/100 [06:03<05:39,  6.93s/it]"
          ]
        },
        {
          "output_type": "stream",
          "name": "stdout",
          "text": [
            "Epoch: 51, Loss: 0.3071228265762329\n"
          ]
        },
        {
          "output_type": "stream",
          "name": "stderr",
          "text": [
            "\r 52%|█████▏    | 52/100 [06:10<05:38,  7.06s/it]"
          ]
        },
        {
          "output_type": "stream",
          "name": "stdout",
          "text": [
            "Epoch: 52, Loss: 0.3499699831008911\n"
          ]
        },
        {
          "output_type": "stream",
          "name": "stderr",
          "text": [
            "\r 53%|█████▎    | 53/100 [06:17<05:32,  7.09s/it]"
          ]
        },
        {
          "output_type": "stream",
          "name": "stdout",
          "text": [
            "Epoch: 53, Loss: 0.5960848927497864\n"
          ]
        },
        {
          "output_type": "stream",
          "name": "stderr",
          "text": [
            "\r 54%|█████▍    | 54/100 [06:25<05:40,  7.40s/it]"
          ]
        },
        {
          "output_type": "stream",
          "name": "stdout",
          "text": [
            "Epoch: 54, Loss: 0.5207613706588745\n"
          ]
        },
        {
          "output_type": "stream",
          "name": "stderr",
          "text": [
            "\r 55%|█████▌    | 55/100 [06:32<05:18,  7.08s/it]"
          ]
        },
        {
          "output_type": "stream",
          "name": "stdout",
          "text": [
            "Epoch: 55, Loss: 0.5178110003471375\n"
          ]
        },
        {
          "output_type": "stream",
          "name": "stderr",
          "text": [
            "\r 56%|█████▌    | 56/100 [06:39<05:18,  7.24s/it]"
          ]
        },
        {
          "output_type": "stream",
          "name": "stdout",
          "text": [
            "Epoch: 56, Loss: 0.3621097803115845\n"
          ]
        },
        {
          "output_type": "stream",
          "name": "stderr",
          "text": [
            "\r 57%|█████▋    | 57/100 [06:46<05:00,  6.98s/it]"
          ]
        },
        {
          "output_type": "stream",
          "name": "stdout",
          "text": [
            "Epoch: 57, Loss: 1.0506043434143066\n"
          ]
        },
        {
          "output_type": "stream",
          "name": "stderr",
          "text": [
            "\r 58%|█████▊    | 58/100 [06:53<05:02,  7.19s/it]"
          ]
        },
        {
          "output_type": "stream",
          "name": "stdout",
          "text": [
            "Epoch: 58, Loss: 0.256161630153656\n"
          ]
        },
        {
          "output_type": "stream",
          "name": "stderr",
          "text": [
            "\r 59%|█████▉    | 59/100 [07:00<04:44,  6.93s/it]"
          ]
        },
        {
          "output_type": "stream",
          "name": "stdout",
          "text": [
            "Epoch: 59, Loss: 0.3388850688934326\n"
          ]
        },
        {
          "output_type": "stream",
          "name": "stderr",
          "text": [
            "\r 60%|██████    | 60/100 [07:07<04:45,  7.13s/it]"
          ]
        },
        {
          "output_type": "stream",
          "name": "stdout",
          "text": [
            "Epoch: 60, Loss: 0.1978786587715149\n"
          ]
        },
        {
          "output_type": "stream",
          "name": "stderr",
          "text": [
            "\r 61%|██████    | 61/100 [07:14<04:28,  6.89s/it]"
          ]
        },
        {
          "output_type": "stream",
          "name": "stdout",
          "text": [
            "Epoch: 61, Loss: 0.2442983239889145\n"
          ]
        },
        {
          "output_type": "stream",
          "name": "stderr",
          "text": [
            "\r 62%|██████▏   | 62/100 [07:21<04:30,  7.13s/it]"
          ]
        },
        {
          "output_type": "stream",
          "name": "stdout",
          "text": [
            "Epoch: 62, Loss: 0.26686060428619385\n"
          ]
        },
        {
          "output_type": "stream",
          "name": "stderr",
          "text": [
            "\r 63%|██████▎   | 63/100 [07:28<04:15,  6.90s/it]"
          ]
        },
        {
          "output_type": "stream",
          "name": "stdout",
          "text": [
            "Epoch: 63, Loss: 0.36671730875968933\n"
          ]
        },
        {
          "output_type": "stream",
          "name": "stderr",
          "text": [
            "\r 64%|██████▍   | 64/100 [07:35<04:16,  7.14s/it]"
          ]
        },
        {
          "output_type": "stream",
          "name": "stdout",
          "text": [
            "Epoch: 64, Loss: 0.20375382900238037\n"
          ]
        },
        {
          "output_type": "stream",
          "name": "stderr",
          "text": [
            "\r 65%|██████▌   | 65/100 [07:42<04:01,  6.90s/it]"
          ]
        },
        {
          "output_type": "stream",
          "name": "stdout",
          "text": [
            "Epoch: 65, Loss: 0.16889207065105438\n"
          ]
        },
        {
          "output_type": "stream",
          "name": "stderr",
          "text": [
            "\r 66%|██████▌   | 66/100 [07:50<04:02,  7.13s/it]"
          ]
        },
        {
          "output_type": "stream",
          "name": "stdout",
          "text": [
            "Epoch: 66, Loss: 0.22132810950279236\n"
          ]
        },
        {
          "output_type": "stream",
          "name": "stderr",
          "text": [
            "\r 67%|██████▋   | 67/100 [07:56<03:47,  6.89s/it]"
          ]
        },
        {
          "output_type": "stream",
          "name": "stdout",
          "text": [
            "Epoch: 67, Loss: 0.27139562368392944\n"
          ]
        },
        {
          "output_type": "stream",
          "name": "stderr",
          "text": [
            "\r 68%|██████▊   | 68/100 [08:04<03:48,  7.15s/it]"
          ]
        },
        {
          "output_type": "stream",
          "name": "stdout",
          "text": [
            "Epoch: 68, Loss: 0.172154501080513\n"
          ]
        },
        {
          "output_type": "stream",
          "name": "stderr",
          "text": [
            "\r 69%|██████▉   | 69/100 [08:10<03:34,  6.91s/it]"
          ]
        },
        {
          "output_type": "stream",
          "name": "stdout",
          "text": [
            "Epoch: 69, Loss: 0.20965620875358582\n"
          ]
        },
        {
          "output_type": "stream",
          "name": "stderr",
          "text": [
            "\r 70%|███████   | 70/100 [08:18<03:33,  7.13s/it]"
          ]
        },
        {
          "output_type": "stream",
          "name": "stdout",
          "text": [
            "Epoch: 70, Loss: 0.1667444407939911\n"
          ]
        },
        {
          "output_type": "stream",
          "name": "stderr",
          "text": [
            "\r 71%|███████   | 71/100 [08:24<03:20,  6.90s/it]"
          ]
        },
        {
          "output_type": "stream",
          "name": "stdout",
          "text": [
            "Epoch: 71, Loss: 0.1637231707572937\n"
          ]
        },
        {
          "output_type": "stream",
          "name": "stderr",
          "text": [
            "\r 72%|███████▏  | 72/100 [08:32<03:19,  7.13s/it]"
          ]
        },
        {
          "output_type": "stream",
          "name": "stdout",
          "text": [
            "Epoch: 72, Loss: 0.18219301104545593\n"
          ]
        },
        {
          "output_type": "stream",
          "name": "stderr",
          "text": [
            "\r 73%|███████▎  | 73/100 [08:38<03:06,  6.91s/it]"
          ]
        },
        {
          "output_type": "stream",
          "name": "stdout",
          "text": [
            "Epoch: 73, Loss: 0.2087913304567337\n"
          ]
        },
        {
          "output_type": "stream",
          "name": "stderr",
          "text": [
            "\r 74%|███████▍  | 74/100 [08:47<03:15,  7.50s/it]"
          ]
        },
        {
          "output_type": "stream",
          "name": "stdout",
          "text": [
            "Epoch: 74, Loss: 0.21877218782901764\n"
          ]
        },
        {
          "output_type": "stream",
          "name": "stderr",
          "text": [
            "\r 75%|███████▌  | 75/100 [08:53<02:59,  7.17s/it]"
          ]
        },
        {
          "output_type": "stream",
          "name": "stdout",
          "text": [
            "Epoch: 75, Loss: 0.23566022515296936\n"
          ]
        },
        {
          "output_type": "stream",
          "name": "stderr",
          "text": [
            "\r 76%|███████▌  | 76/100 [09:01<02:55,  7.32s/it]"
          ]
        },
        {
          "output_type": "stream",
          "name": "stdout",
          "text": [
            "Epoch: 76, Loss: 0.20990264415740967\n"
          ]
        },
        {
          "output_type": "stream",
          "name": "stderr",
          "text": [
            "\r 77%|███████▋  | 77/100 [09:07<02:41,  7.04s/it]"
          ]
        },
        {
          "output_type": "stream",
          "name": "stdout",
          "text": [
            "Epoch: 77, Loss: 0.19380119442939758\n"
          ]
        },
        {
          "output_type": "stream",
          "name": "stderr",
          "text": [
            "\r 78%|███████▊  | 78/100 [09:15<02:39,  7.24s/it]"
          ]
        },
        {
          "output_type": "stream",
          "name": "stdout",
          "text": [
            "Epoch: 78, Loss: 0.25988447666168213\n"
          ]
        },
        {
          "output_type": "stream",
          "name": "stderr",
          "text": [
            "\r 79%|███████▉  | 79/100 [09:21<02:26,  6.99s/it]"
          ]
        },
        {
          "output_type": "stream",
          "name": "stdout",
          "text": [
            "Epoch: 79, Loss: 0.17591333389282227\n"
          ]
        },
        {
          "output_type": "stream",
          "name": "stderr",
          "text": [
            "\r 80%|████████  | 80/100 [09:29<02:23,  7.19s/it]"
          ]
        },
        {
          "output_type": "stream",
          "name": "stdout",
          "text": [
            "Epoch: 80, Loss: 0.1559648960828781\n"
          ]
        },
        {
          "output_type": "stream",
          "name": "stderr",
          "text": [
            "\r 81%|████████  | 81/100 [09:35<02:11,  6.94s/it]"
          ]
        },
        {
          "output_type": "stream",
          "name": "stdout",
          "text": [
            "Epoch: 81, Loss: 0.20770439505577087\n"
          ]
        },
        {
          "output_type": "stream",
          "name": "stderr",
          "text": [
            "\r 82%|████████▏ | 82/100 [09:43<02:08,  7.16s/it]"
          ]
        },
        {
          "output_type": "stream",
          "name": "stdout",
          "text": [
            "Epoch: 82, Loss: 0.19117924571037292\n"
          ]
        },
        {
          "output_type": "stream",
          "name": "stderr",
          "text": [
            "\r 83%|████████▎ | 83/100 [09:49<01:57,  6.90s/it]"
          ]
        },
        {
          "output_type": "stream",
          "name": "stdout",
          "text": [
            "Epoch: 83, Loss: 0.1795436143875122\n"
          ]
        },
        {
          "output_type": "stream",
          "name": "stderr",
          "text": [
            "\r 84%|████████▍ | 84/100 [09:57<01:54,  7.14s/it]"
          ]
        },
        {
          "output_type": "stream",
          "name": "stdout",
          "text": [
            "Epoch: 84, Loss: 0.1867300271987915\n"
          ]
        },
        {
          "output_type": "stream",
          "name": "stderr",
          "text": [
            "\r 85%|████████▌ | 85/100 [10:04<01:43,  6.93s/it]"
          ]
        },
        {
          "output_type": "stream",
          "name": "stdout",
          "text": [
            "Epoch: 85, Loss: 0.15875087678432465\n"
          ]
        },
        {
          "output_type": "stream",
          "name": "stderr",
          "text": [
            "\r 86%|████████▌ | 86/100 [10:11<01:40,  7.15s/it]"
          ]
        },
        {
          "output_type": "stream",
          "name": "stdout",
          "text": [
            "Epoch: 86, Loss: 0.14846453070640564\n"
          ]
        },
        {
          "output_type": "stream",
          "name": "stderr",
          "text": [
            "\r 87%|████████▋ | 87/100 [10:18<01:29,  6.92s/it]"
          ]
        },
        {
          "output_type": "stream",
          "name": "stdout",
          "text": [
            "Epoch: 87, Loss: 0.1509300172328949\n"
          ]
        },
        {
          "output_type": "stream",
          "name": "stderr",
          "text": [
            "\r 88%|████████▊ | 88/100 [10:25<01:25,  7.12s/it]"
          ]
        },
        {
          "output_type": "stream",
          "name": "stdout",
          "text": [
            "Epoch: 88, Loss: 0.19810311496257782\n"
          ]
        },
        {
          "output_type": "stream",
          "name": "stderr",
          "text": [
            "\r 89%|████████▉ | 89/100 [10:32<01:15,  6.90s/it]"
          ]
        },
        {
          "output_type": "stream",
          "name": "stdout",
          "text": [
            "Epoch: 89, Loss: 0.1745585948228836\n"
          ]
        },
        {
          "output_type": "stream",
          "name": "stderr",
          "text": [
            "\r 90%|█████████ | 90/100 [10:39<01:10,  7.09s/it]"
          ]
        },
        {
          "output_type": "stream",
          "name": "stdout",
          "text": [
            "Epoch: 90, Loss: 0.2344718873500824\n"
          ]
        },
        {
          "output_type": "stream",
          "name": "stderr",
          "text": [
            "\r 91%|█████████ | 91/100 [10:46<01:02,  6.91s/it]"
          ]
        },
        {
          "output_type": "stream",
          "name": "stdout",
          "text": [
            "Epoch: 91, Loss: 0.17622226476669312\n"
          ]
        },
        {
          "output_type": "stream",
          "name": "stderr",
          "text": [
            "\r 92%|█████████▏| 92/100 [10:53<00:56,  7.07s/it]"
          ]
        },
        {
          "output_type": "stream",
          "name": "stdout",
          "text": [
            "Epoch: 92, Loss: 0.13568104803562164\n"
          ]
        },
        {
          "output_type": "stream",
          "name": "stderr",
          "text": [
            "\r 93%|█████████▎| 93/100 [11:00<00:48,  6.89s/it]"
          ]
        },
        {
          "output_type": "stream",
          "name": "stdout",
          "text": [
            "Epoch: 93, Loss: 0.13894811272621155\n"
          ]
        },
        {
          "output_type": "stream",
          "name": "stderr",
          "text": [
            "\r 94%|█████████▍| 94/100 [11:08<00:44,  7.39s/it]"
          ]
        },
        {
          "output_type": "stream",
          "name": "stdout",
          "text": [
            "Epoch: 94, Loss: 0.1394711285829544\n"
          ]
        },
        {
          "output_type": "stream",
          "name": "stderr",
          "text": [
            "\r 95%|█████████▌| 95/100 [11:15<00:36,  7.25s/it]"
          ]
        },
        {
          "output_type": "stream",
          "name": "stdout",
          "text": [
            "Epoch: 95, Loss: 1.7329628467559814\n"
          ]
        },
        {
          "output_type": "stream",
          "name": "stderr",
          "text": [
            "\r 96%|█████████▌| 96/100 [11:22<00:28,  7.20s/it]"
          ]
        },
        {
          "output_type": "stream",
          "name": "stdout",
          "text": [
            "Epoch: 96, Loss: 0.16524195671081543\n"
          ]
        },
        {
          "output_type": "stream",
          "name": "stderr",
          "text": [
            "\r 97%|█████████▋| 97/100 [11:29<00:21,  7.13s/it]"
          ]
        },
        {
          "output_type": "stream",
          "name": "stdout",
          "text": [
            "Epoch: 97, Loss: 0.1923018991947174\n"
          ]
        },
        {
          "output_type": "stream",
          "name": "stderr",
          "text": [
            "\r 98%|█████████▊| 98/100 [11:36<00:14,  7.07s/it]"
          ]
        },
        {
          "output_type": "stream",
          "name": "stdout",
          "text": [
            "Epoch: 98, Loss: 0.20094075798988342\n"
          ]
        },
        {
          "output_type": "stream",
          "name": "stderr",
          "text": [
            "\r 99%|█████████▉| 99/100 [11:43<00:07,  7.05s/it]"
          ]
        },
        {
          "output_type": "stream",
          "name": "stdout",
          "text": [
            "Epoch: 99, Loss: 0.26364076137542725\n"
          ]
        },
        {
          "output_type": "stream",
          "name": "stderr",
          "text": [
            "100%|██████████| 100/100 [11:50<00:00,  7.10s/it]"
          ]
        },
        {
          "output_type": "stream",
          "name": "stdout",
          "text": [
            "Epoch: 100, Loss: 0.25947657227516174\n"
          ]
        },
        {
          "output_type": "stream",
          "name": "stderr",
          "text": [
            "\n"
          ]
        }
      ],
      "source": [
        "num_epoch = 100\n",
        "loss_epoch = []\n",
        "for epoch in tqdm(range(1, num_epoch+1)):\n",
        "  if epoch == num_epoch:\n",
        "    pos_z, neg_z, summary, loss = train_only_infomax(epoch)\n",
        "  else:\n",
        "    loss = train_only_infomax(epoch)\n",
        "  loss_epoch.append(loss)\n",
        "\n",
        "test_pos_z, test_neg_z, test_summary = model(dataset.test_features, dataset.edge_index)"
      ]
    },
    {
      "cell_type": "code",
      "execution_count": null,
      "metadata": {
        "id": "h9JYHVfSSW8F"
      },
      "outputs": [],
      "source": [
        "train_user_representations = {}\n",
        "test_user_representations = {}\n",
        "for i in range(pos_z.shape[0]):\n",
        "  train_user_representations[i] = (dataset.user_ids[i], pos_z[i].detach(), dataset.train_labels[i])\n",
        "for i in range(test_pos_z.shape[0]):\n",
        "  test_user_representations[i] = (dataset.user_ids[i], test_pos_z[i].detach(), dataset.test_labels[i])"
      ]
    },
    {
      "cell_type": "code",
      "execution_count": null,
      "metadata": {
        "id": "uTh8tKwfiLZ_"
      },
      "outputs": [],
      "source": [
        "user_dataset = UserDataset(train_user_representations)\n",
        "\n",
        "n = len(user_dataset)\n",
        "\n",
        "indices = np.arange(n)\n",
        "indices = np.random.permutation(indices)\n",
        "\n",
        "train_indices = indices [:int(0.8*n)]\n",
        "test_indices = indices[int(0.8*n):]\n",
        "\n",
        "user_train_dataset = Subset(user_dataset, train_indices)\n",
        "user_test_dataset = Subset(user_dataset, test_indices)\n",
        "\n",
        "user_train_dataloader = DataLoader(user_train_dataset, batch_size=64, shuffle=True)\n",
        "user_test_dataloader = DataLoader(user_test_dataset, batch_size=64, shuffle=True)"
      ]
    },
    {
      "cell_type": "code",
      "execution_count": null,
      "metadata": {
        "id": "oObW1gnhkJzf"
      },
      "outputs": [],
      "source": [
        "num_classes = 186\n",
        "classes = np.arange(0, num_classes)"
      ]
    },
    {
      "cell_type": "code",
      "execution_count": null,
      "metadata": {
        "colab": {
          "base_uri": "https://localhost:8080/"
        },
        "id": "UtirFmXjg-mq",
        "outputId": "b5a8da30-b026-4b9e-f3c8-6649d50ba611"
      },
      "outputs": [
        {
          "output_type": "stream",
          "name": "stdout",
          "text": [
            "Epoch: 0, Loss: 4.948060035705566\n",
            "Hits@1: 0.04782196879386902\n",
            "Epoch: 1, Loss: 4.755845546722412\n",
            "Hits@1: 0.054548460990190506\n",
            "Epoch: 2, Loss: 4.627336502075195\n",
            "Hits@1: 0.07984607666730881\n",
            "Epoch: 3, Loss: 4.5391411781311035\n",
            "Hits@1: 0.07826779037714005\n",
            "Epoch: 4, Loss: 4.475954532623291\n",
            "Hits@1: 0.07955297082662582\n",
            "Epoch: 5, Loss: 4.428366661071777\n",
            "Hits@1: 0.08254419267177582\n",
            "Epoch: 6, Loss: 4.390832424163818\n",
            "Hits@1: 0.08524230122566223\n",
            "Epoch: 7, Loss: 4.360129356384277\n",
            "Hits@1: 0.08921055495738983\n",
            "Epoch: 8, Loss: 4.334252834320068\n",
            "Hits@1: 0.09741011261940002\n",
            "Epoch: 9, Loss: 4.311925888061523\n",
            "Hits@1: 0.10312950611114502\n",
            "Epoch: 10, Loss: 4.292300224304199\n",
            "Hits@1: 0.10609066486358643\n",
            "Epoch: 11, Loss: 4.274774074554443\n",
            "Hits@1: 0.10858585685491562\n",
            "Epoch: 12, Loss: 4.2589192390441895\n",
            "Hits@1: 0.11032196879386902\n",
            "Epoch: 13, Loss: 4.244439125061035\n",
            "Hits@1: 0.1118401288986206\n",
            "Epoch: 14, Loss: 4.231086254119873\n",
            "Hits@1: 0.11354617774486542\n",
            "Epoch: 15, Loss: 4.218681812286377\n",
            "Hits@1: 0.11503426730632782\n",
            "Epoch: 16, Loss: 4.207083702087402\n",
            "Hits@1: 0.11847642809152603\n",
            "Epoch: 17, Loss: 4.19618034362793\n",
            "Hits@1: 0.11925054341554642\n",
            "Epoch: 18, Loss: 4.185883522033691\n",
            "Hits@1: 0.12070856988430023\n",
            "Epoch: 19, Loss: 4.176115989685059\n",
            "Hits@1: 0.12123467028141022\n",
            "Epoch: 20, Loss: 4.166815757751465\n",
            "Hits@1: 0.12441378086805344\n",
            "Epoch: 21, Loss: 4.157933712005615\n",
            "Hits@1: 0.12442880868911743\n",
            "Epoch: 22, Loss: 4.149421215057373\n",
            "Hits@1: 0.12473694980144501\n",
            "Epoch: 23, Loss: 4.1412482261657715\n",
            "Hits@1: 0.12889309227466583\n",
            "Epoch: 24, Loss: 4.133385181427002\n",
            "Hits@1: 0.12965217232704163\n",
            "Epoch: 25, Loss: 4.125803470611572\n",
            "Hits@1: 0.13089224696159363\n",
            "Epoch: 26, Loss: 4.118480205535889\n",
            "Hits@1: 0.13604046404361725\n",
            "Epoch: 27, Loss: 4.111390113830566\n",
            "Hits@1: 0.13560456037521362\n",
            "Epoch: 28, Loss: 4.104522705078125\n",
            "Hits@1: 0.1368747055530548\n",
            "Epoch: 29, Loss: 4.097862243652344\n",
            "Hits@1: 0.13783669471740723\n",
            "Epoch: 30, Loss: 4.091388702392578\n",
            "Hits@1: 0.1393548548221588\n",
            "Epoch: 31, Loss: 4.085096836090088\n",
            "Hits@1: 0.14101581275463104\n",
            "Epoch: 32, Loss: 4.07897424697876\n",
            "Hits@1: 0.143075093626976\n",
            "Epoch: 33, Loss: 4.073007583618164\n",
            "Hits@1: 0.14405213296413422\n",
            "Epoch: 34, Loss: 4.0671868324279785\n",
            "Hits@1: 0.14380411803722382\n",
            "Epoch: 35, Loss: 4.061506748199463\n",
            "Hits@1: 0.14451809227466583\n",
            "Epoch: 36, Loss: 4.055960655212402\n",
            "Hits@1: 0.14600619673728943\n",
            "Epoch: 37, Loss: 4.050540447235107\n",
            "Hits@1: 0.14653228223323822\n",
            "Epoch: 38, Loss: 4.045238018035889\n",
            "Hits@1: 0.14895232021808624\n",
            "Epoch: 39, Loss: 4.040049076080322\n",
            "Hits@1: 0.15013228356838226\n",
            "Epoch: 40, Loss: 4.034967422485352\n",
            "Hits@1: 0.14896735548973083\n",
            "Epoch: 41, Loss: 4.029987335205078\n",
            "Hits@1: 0.15245459973812103\n",
            "Epoch: 42, Loss: 4.0251078605651855\n",
            "Hits@1: 0.15195856988430023\n",
            "Epoch: 43, Loss: 4.020322322845459\n",
            "Hits@1: 0.15439362823963165\n",
            "Epoch: 44, Loss: 4.015627384185791\n",
            "Hits@1: 0.15443873405456543\n",
            "Epoch: 45, Loss: 4.011019229888916\n",
            "Hits@1: 0.15612974762916565\n",
            "Epoch: 46, Loss: 4.00649356842041\n",
            "Hits@1: 0.15521283447742462\n",
            "Epoch: 47, Loss: 4.002048969268799\n",
            "Hits@1: 0.15885792672634125\n",
            "Epoch: 48, Loss: 3.997680425643921\n",
            "Hits@1: 0.15767796337604523\n",
            "Epoch: 49, Loss: 3.9933860301971436\n",
            "Hits@1: 0.1564679592847824\n",
            "Epoch: 50, Loss: 3.9891624450683594\n",
            "Hits@1: 0.15763287246227264\n",
            "Epoch: 51, Loss: 3.9850072860717773\n",
            "Hits@1: 0.158963143825531\n",
            "Epoch: 52, Loss: 3.980916976928711\n",
            "Hits@1: 0.16084204614162445\n",
            "Epoch: 53, Loss: 3.9768919944763184\n",
            "Hits@1: 0.1597071886062622\n",
            "Epoch: 54, Loss: 3.972928524017334\n",
            "Hits@1: 0.16308921575546265\n",
            "Epoch: 55, Loss: 3.9690263271331787\n",
            "Hits@1: 0.16533640027046204\n",
            "Epoch: 56, Loss: 3.965181827545166\n",
            "Hits@1: 0.16412638127803802\n",
            "Epoch: 57, Loss: 3.9613921642303467\n",
            "Hits@1: 0.16412638127803802\n",
            "Epoch: 58, Loss: 3.957658529281616\n",
            "Hits@1: 0.16487042605876923\n",
            "Epoch: 59, Loss: 3.953979253768921\n",
            "Hits@1: 0.16958272457122803\n",
            "Epoch: 60, Loss: 3.950347900390625\n",
            "Hits@1: 0.17201779782772064\n",
            "Epoch: 61, Loss: 3.9467668533325195\n",
            "Hits@1: 0.17226581275463104\n",
            "Epoch: 62, Loss: 3.943234443664551\n",
            "Hits@1: 0.17131884396076202\n",
            "Epoch: 63, Loss: 3.939749240875244\n",
            "Hits@1: 0.17083783447742462\n",
            "Epoch: 64, Loss: 3.936309576034546\n",
            "Hits@1: 0.17179983854293823\n",
            "Epoch: 65, Loss: 3.932915210723877\n",
            "Hits@1: 0.17271675169467926\n",
            "Epoch: 66, Loss: 3.929565191268921\n",
            "Hits@1: 0.17428000271320343\n",
            "Epoch: 67, Loss: 3.9262545108795166\n",
            "Hits@1: 0.17378397285938263\n",
            "Epoch: 68, Loss: 3.9229860305786133\n",
            "Hits@1: 0.17431005835533142\n",
            "Epoch: 69, Loss: 3.9197585582733154\n",
            "Hits@1: 0.17500901222229004\n",
            "Epoch: 70, Loss: 3.916569471359253\n",
            "Hits@1: 0.17552007734775543\n",
            "Epoch: 71, Loss: 3.9134180545806885\n",
            "Hits@1: 0.17550504207611084\n",
            "Epoch: 72, Loss: 3.9103035926818848\n",
            "Hits@1: 0.17621903121471405\n",
            "Epoch: 73, Loss: 3.9072256088256836\n",
            "Hits@1: 0.17624910175800323\n",
            "Epoch: 74, Loss: 3.904183864593506\n",
            "Hits@1: 0.17750421166419983\n",
            "Epoch: 75, Loss: 3.9011759757995605\n",
            "Hits@1: 0.17649711668491364\n",
            "Epoch: 76, Loss: 3.8982021808624268\n",
            "Hits@1: 0.17606121301651\n",
            "Epoch: 77, Loss: 3.8952603340148926\n",
            "Hits@1: 0.17823322117328644\n",
            "Epoch: 78, Loss: 3.8923521041870117\n",
            "Hits@1: 0.18020232021808624\n",
            "Epoch: 79, Loss: 3.8894739151000977\n",
            "Hits@1: 0.18068331480026245\n",
            "Epoch: 80, Loss: 3.886627674102783\n",
            "Hits@1: 0.18218643963336945\n",
            "Epoch: 81, Loss: 3.8838117122650146\n",
            "Hits@1: 0.18221651017665863\n",
            "Epoch: 82, Loss: 3.881024122238159\n",
            "Hits@1: 0.18170544505119324\n",
            "Epoch: 83, Loss: 3.8782663345336914\n",
            "Hits@1: 0.18390752375125885\n",
            "Epoch: 84, Loss: 3.8755359649658203\n",
            "Hits@1: 0.18466660380363464\n",
            "Epoch: 85, Loss: 3.872833251953125\n",
            "Hits@1: 0.18465156853199005\n",
            "Epoch: 86, Loss: 3.8701584339141846\n",
            "Hits@1: 0.18640270829200745\n",
            "Epoch: 87, Loss: 3.8675103187561035\n",
            "Hits@1: 0.18768788874149323\n",
            "Epoch: 88, Loss: 3.8648877143859863\n",
            "Hits@1: 0.18889790773391724\n",
            "Epoch: 89, Loss: 3.862290859222412\n",
            "Hits@1: 0.18694384396076202\n",
            "Epoch: 90, Loss: 3.8597190380096436\n",
            "Hits@1: 0.18939393758773804\n",
            "Epoch: 91, Loss: 3.857172966003418\n",
            "Hits@1: 0.18892796337604523\n",
            "Epoch: 92, Loss: 3.8546502590179443\n",
            "Hits@1: 0.18917597830295563\n",
            "Epoch: 93, Loss: 3.8521502017974854\n",
            "Hits@1: 0.19182899594306946\n",
            "Epoch: 94, Loss: 3.8496742248535156\n",
            "Hits@1: 0.19066408276557922\n",
            "Epoch: 95, Loss: 3.8472211360931396\n",
            "Hits@1: 0.19158098101615906\n",
            "Epoch: 96, Loss: 3.84479022026062\n",
            "Hits@1: 0.19134800136089325\n",
            "Epoch: 97, Loss: 3.8423819541931152\n",
            "Hits@1: 0.19139309227466583\n",
            "Epoch: 98, Loss: 3.8399949073791504\n",
            "Hits@1: 0.19288119673728943\n",
            "Epoch: 99, Loss: 3.8376288414001465\n",
            "Hits@1: 0.19482022523880005\n",
            "Epoch: 100, Loss: 3.8352837562561035\n",
            "Hits@1: 0.19311417639255524\n",
            "Epoch: 101, Loss: 3.8329598903656006\n",
            "Hits@1: 0.19387325644493103\n",
            "Epoch: 102, Loss: 3.830655574798584\n",
            "Hits@1: 0.19559434056282043\n",
            "Epoch: 103, Loss: 3.8283708095550537\n",
            "Hits@1: 0.19528618454933167\n",
            "Epoch: 104, Loss: 3.8261053562164307\n",
            "Hits@1: 0.19652627408504486\n",
            "Epoch: 105, Loss: 3.823859691619873\n",
            "Hits@1: 0.19830746948719025\n",
            "Epoch: 106, Loss: 3.8216326236724854\n",
            "Hits@1: 0.19860059022903442\n",
            "Epoch: 107, Loss: 3.8194234371185303\n",
            "Hits@1: 0.19957761466503143\n",
            "Epoch: 108, Loss: 3.8172333240509033\n",
            "Hits@1: 0.20007364451885223\n",
            "Epoch: 109, Loss: 3.81506085395813\n",
            "Hits@1: 0.19909662008285522\n",
            "Epoch: 110, Loss: 3.81290602684021\n",
            "Hits@1: 0.20153167843818665\n",
            "Epoch: 111, Loss: 3.810767889022827\n",
            "Hits@1: 0.20176467299461365\n",
            "Epoch: 112, Loss: 3.8086469173431396\n",
            "Hits@1: 0.20325276255607605\n",
            "Epoch: 113, Loss: 3.8065428733825684\n",
            "Hits@1: 0.20422978699207306\n",
            "Epoch: 114, Loss: 3.8044545650482178\n",
            "Hits@1: 0.20205777883529663\n",
            "Epoch: 115, Loss: 3.802382469177246\n",
            "Hits@1: 0.20428992807865143\n",
            "Epoch: 116, Loss: 3.800328016281128\n",
            "Hits@1: 0.20405693352222443\n",
            "Epoch: 117, Loss: 3.7982876300811768\n",
            "Hits@1: 0.20455296337604523\n",
            "Epoch: 118, Loss: 3.7962636947631836\n",
            "Hits@1: 0.20649200677871704\n",
            "Epoch: 119, Loss: 3.7942538261413574\n",
            "Hits@1: 0.20700305700302124\n",
            "Epoch: 120, Loss: 3.7922604084014893\n",
            "Hits@1: 0.20607112348079681\n",
            "Epoch: 121, Loss: 3.790281295776367\n",
            "Hits@1: 0.20798009634017944\n",
            "Epoch: 122, Loss: 3.7883169651031494\n",
            "Hits@1: 0.20869408547878265\n",
            "Epoch: 123, Loss: 3.7863669395446777\n",
            "Hits@1: 0.20825818181037903\n",
            "Epoch: 124, Loss: 3.784431219100952\n",
            "Hits@1: 0.20988906919956207\n",
            "Epoch: 125, Loss: 3.7825093269348145\n",
            "Hits@1: 0.21021224558353424\n",
            "Epoch: 126, Loss: 3.7806005477905273\n",
            "Hits@1: 0.21140722930431366\n",
            "Epoch: 127, Loss: 3.7787063121795654\n",
            "Hits@1: 0.21164022386074066\n",
            "Epoch: 128, Loss: 3.776825189590454\n",
            "Hits@1: 0.21070827543735504\n",
            "Epoch: 129, Loss: 3.7749576568603516\n",
            "Hits@1: 0.21145232021808624\n",
            "Epoch: 130, Loss: 3.7731029987335205\n",
            "Hits@1: 0.2117754966020584\n",
            "Epoch: 131, Loss: 3.771261692047119\n",
            "Hits@1: 0.21193331480026245\n",
            "Epoch: 132, Loss: 3.769432544708252\n",
            "Hits@1: 0.211294487118721\n",
            "Epoch: 133, Loss: 3.767616033554077\n",
            "Hits@1: 0.21371452510356903\n",
            "Epoch: 134, Loss: 3.7658116817474365\n",
            "Hits@1: 0.21460136771202087\n",
            "Epoch: 135, Loss: 3.7640199661254883\n",
            "Hits@1: 0.21563851833343506\n",
            "Epoch: 136, Loss: 3.762239694595337\n",
            "Hits@1: 0.21663059294223785\n",
            "Epoch: 137, Loss: 3.7604715824127197\n",
            "Hits@1: 0.21644270420074463\n",
            "Epoch: 138, Loss: 3.7587153911590576\n",
            "Hits@1: 0.21594665944576263\n",
            "Epoch: 139, Loss: 3.756970167160034\n",
            "Hits@1: 0.21546566486358643\n",
            "Epoch: 140, Loss: 3.7552359104156494\n",
            "Hits@1: 0.21616461873054504\n",
            "Epoch: 141, Loss: 3.753514051437378\n",
            "Hits@1: 0.21644270420074463\n",
            "Epoch: 142, Loss: 3.751802444458008\n",
            "Hits@1: 0.21622474491596222\n",
            "Epoch: 143, Loss: 3.7501015663146973\n",
            "Hits@1: 0.21763768792152405\n",
            "Epoch: 144, Loss: 3.748412609100342\n",
            "Hits@1: 0.21862974762916565\n",
            "Epoch: 145, Loss: 3.7467336654663086\n",
            "Hits@1: 0.21817880868911743\n",
            "Epoch: 146, Loss: 3.745065450668335\n",
            "Hits@1: 0.21793079376220703\n",
            "Epoch: 147, Loss: 3.7434074878692627\n",
            "Hits@1: 0.21867483854293823\n",
            "Epoch: 148, Loss: 3.741760015487671\n",
            "Hits@1: 0.21839676797389984\n",
            "Epoch: 149, Loss: 3.7401232719421387\n",
            "Hits@1: 0.22087691724300385\n",
            "Epoch: 150, Loss: 3.738496780395508\n",
            "Hits@1: 0.22183892130851746\n",
            "Epoch: 151, Loss: 3.7368786334991455\n",
            "Hits@1: 0.22062890231609344\n",
            "Epoch: 152, Loss: 3.735271692276001\n",
            "Hits@1: 0.22236502170562744\n",
            "Epoch: 153, Loss: 3.7336740493774414\n",
            "Hits@1: 0.22166606783866882\n",
            "Epoch: 154, Loss: 3.7320854663848877\n",
            "Hits@1: 0.22258296608924866\n",
            "Epoch: 155, Loss: 3.7305057048797607\n",
            "Hits@1: 0.22259800136089325\n",
            "Epoch: 156, Loss: 3.7289366722106934\n",
            "Hits@1: 0.22284601628780365\n",
            "Epoch: 157, Loss: 3.7273762226104736\n",
            "Hits@1: 0.22312410175800323\n",
            "Epoch: 158, Loss: 3.725825548171997\n",
            "Hits@1: 0.22239507734775543\n",
            "Epoch: 159, Loss: 3.7242836952209473\n",
            "Hits@1: 0.22289110720157623\n",
            "Epoch: 160, Loss: 3.722749948501587\n",
            "Hits@1: 0.22360509634017944\n",
            "Epoch: 161, Loss: 3.7212252616882324\n",
            "Hits@1: 0.22554412484169006\n",
            "Epoch: 162, Loss: 3.719710111618042\n",
            "Hits@1: 0.22489027678966522\n",
            "Epoch: 163, Loss: 3.718203067779541\n",
            "Hits@1: 0.22439423203468323\n",
            "Epoch: 164, Loss: 3.7167046070098877\n",
            "Hits@1: 0.22411616146564484\n",
            "Epoch: 165, Loss: 3.715214490890503\n",
            "Hits@1: 0.22628816962242126\n",
            "Epoch: 166, Loss: 3.713733196258545\n",
            "Hits@1: 0.22563432157039642\n",
            "Epoch: 167, Loss: 3.7122597694396973\n",
            "Hits@1: 0.22608526051044464\n",
            "Epoch: 168, Loss: 3.710794687271118\n",
            "Hits@1: 0.22639340162277222\n",
            "Epoch: 169, Loss: 3.7093372344970703\n",
            "Hits@1: 0.22780632972717285\n",
            "Epoch: 170, Loss: 3.707887887954712\n",
            "Hits@1: 0.22707732021808624\n",
            "Epoch: 171, Loss: 3.7064461708068848\n",
            "Hits@1: 0.22734037041664124\n",
            "Epoch: 172, Loss: 3.705012559890747\n",
            "Hits@1: 0.22833243012428284\n",
            "Epoch: 173, Loss: 3.7035868167877197\n",
            "Hits@1: 0.22830235958099365\n",
            "Epoch: 174, Loss: 3.7021682262420654\n",
            "Hits@1: 0.22809945046901703\n",
            "Epoch: 175, Loss: 3.7007575035095215\n",
            "Hits@1: 0.22830235958099365\n",
            "Epoch: 176, Loss: 3.699354887008667\n",
            "Hits@1: 0.23028649389743805\n",
            "Epoch: 177, Loss: 3.6979589462280273\n",
            "Hits@1: 0.23369859158992767\n",
            "Epoch: 178, Loss: 3.696571111679077\n",
            "Hits@1: 0.23124849796295166\n",
            "Epoch: 179, Loss: 3.695190906524658\n",
            "Hits@1: 0.23103053867816925\n",
            "Epoch: 180, Loss: 3.693816661834717\n",
            "Hits@1: 0.23133867979049683\n",
            "Epoch: 181, Loss: 3.6924502849578857\n",
            "Hits@1: 0.23227061331272125\n",
            "Epoch: 182, Loss: 3.6910901069641113\n",
            "Hits@1: 0.23492364585399628\n",
            "Epoch: 183, Loss: 3.6897377967834473\n",
            "Hits@1: 0.23326268792152405\n",
            "Epoch: 184, Loss: 3.688391923904419\n",
            "Hits@1: 0.23422467708587646\n",
            "Epoch: 185, Loss: 3.6870527267456055\n",
            "Hits@1: 0.23447269201278687\n",
            "Epoch: 186, Loss: 3.6857211589813232\n",
            "Hits@1: 0.23429983854293823\n",
            "Epoch: 187, Loss: 3.6843953132629395\n",
            "Hits@1: 0.23523177206516266\n",
            "Epoch: 188, Loss: 3.6830761432647705\n",
            "Hits@1: 0.23530693352222443\n",
            "Epoch: 189, Loss: 3.6817638874053955\n",
            "Hits@1: 0.23527687788009644\n",
            "Epoch: 190, Loss: 3.68045711517334\n",
            "Hits@1: 0.23747895658016205\n",
            "Epoch: 191, Loss: 3.6791582107543945\n",
            "Hits@1: 0.23717081546783447\n",
            "Epoch: 192, Loss: 3.6778650283813477\n",
            "Hits@1: 0.23502886295318604\n",
            "Epoch: 193, Loss: 3.6765782833099365\n",
            "Hits@1: 0.23502886295318604\n",
            "Epoch: 194, Loss: 3.675297498703003\n",
            "Hits@1: 0.23642675578594208\n",
            "Epoch: 195, Loss: 3.674022912979126\n",
            "Hits@1: 0.23820796608924866\n",
            "Epoch: 196, Loss: 3.6727540493011475\n",
            "Hits@1: 0.23768189549446106\n",
            "Epoch: 197, Loss: 3.671492338180542\n",
            "Hits@1: 0.23724596202373505\n",
            "Epoch: 198, Loss: 3.670236110687256\n",
            "Hits@1: 0.23820796608924866\n",
            "Epoch: 199, Loss: 3.668985605239868\n",
            "Hits@1: 0.23841089010238647\n",
            "hits@1: 0.237013, hits@5: 0.464030, hits@10: 0.584521, hits@20: 0.728836\n",
            "hits@50: 0.903334, hits@100: 0.985615\n",
            "map@1: 0.237013, map@5: 0.319507, map@10: 0.335473, map@20: 0.345495\n",
            "map@50: 0.351301, map@100: 0.352513\n",
            "ndcg@1: 0.237013, ndcg@5: 0.355382, ndcg@10: 0.394236, ndcg@20: 0.430727\n",
            "ndcg@50: 0.465784, ndcg@100: 0.479230\n"
          ]
        }
      ],
      "source": [
        "head_model = train2task()\n",
        "torch.save(head_model.state_dict(), 'node_mix_only_infomax_model.pth')"
      ]
    },
    {
      "cell_type": "markdown",
      "metadata": {
        "id": "Y9ZnPpK0hWIi"
      },
      "source": [
        "### Node dropout augmentation, only infomax"
      ]
    },
    {
      "cell_type": "code",
      "execution_count": null,
      "metadata": {
        "id": "iPzekjVEhhUU"
      },
      "outputs": [],
      "source": [
        "# device = torch.device('cuda' if torch.cuda.is_available() else 'cpu')\n",
        "device = torch.device('cpu')\n",
        "model = DeepGraphInfomax(hidden_channels=128,\n",
        "                         encoder=Encoder(interm_channels=74, hidden_channels=128,\n",
        "                                         num_features=128),\n",
        "                         summary=lambda z, *args, **kwargs: torch.sigmoid(z.mean(dim=0)),\n",
        "                         corruption=node_dropout).to(device)\n",
        "linkmodel = LinkPredHead()\n",
        "optimizer = torch.optim.AdamW(model.parameters(), lr=0.0005)\n",
        "loss_bce = nn.BCEWithLogitsLoss()"
      ]
    },
    {
      "cell_type": "code",
      "execution_count": null,
      "metadata": {
        "colab": {
          "base_uri": "https://localhost:8080/"
        },
        "id": "osafppfahhUe",
        "outputId": "464f205f-5c2a-4104-ca68-38c6b2720a13"
      },
      "outputs": [
        {
          "output_type": "stream",
          "name": "stderr",
          "text": [
            "  1%|          | 1/100 [00:10<16:43, 10.14s/it]"
          ]
        },
        {
          "output_type": "stream",
          "name": "stdout",
          "text": [
            "Epoch: 1, Loss: 1.434377908706665\n"
          ]
        },
        {
          "output_type": "stream",
          "name": "stderr",
          "text": [
            "\r  2%|▏         | 2/100 [00:18<14:57,  9.16s/it]"
          ]
        },
        {
          "output_type": "stream",
          "name": "stdout",
          "text": [
            "Epoch: 2, Loss: 1.6858642101287842\n"
          ]
        },
        {
          "output_type": "stream",
          "name": "stderr",
          "text": [
            "\r  3%|▎         | 3/100 [00:25<13:03,  8.07s/it]"
          ]
        },
        {
          "output_type": "stream",
          "name": "stdout",
          "text": [
            "Epoch: 3, Loss: 1.4676151275634766\n"
          ]
        },
        {
          "output_type": "stream",
          "name": "stderr",
          "text": [
            "\r  4%|▍         | 4/100 [00:33<13:02,  8.15s/it]"
          ]
        },
        {
          "output_type": "stream",
          "name": "stdout",
          "text": [
            "Epoch: 4, Loss: 1.4774839878082275\n"
          ]
        },
        {
          "output_type": "stream",
          "name": "stderr",
          "text": [
            "\r  5%|▌         | 5/100 [00:40<12:10,  7.69s/it]"
          ]
        },
        {
          "output_type": "stream",
          "name": "stdout",
          "text": [
            "Epoch: 5, Loss: 1.471682071685791\n"
          ]
        },
        {
          "output_type": "stream",
          "name": "stderr",
          "text": [
            "\r  6%|▌         | 6/100 [00:48<12:27,  7.95s/it]"
          ]
        },
        {
          "output_type": "stream",
          "name": "stdout",
          "text": [
            "Epoch: 6, Loss: 1.5278609991073608\n"
          ]
        },
        {
          "output_type": "stream",
          "name": "stderr",
          "text": [
            "\r  7%|▋         | 7/100 [00:55<11:48,  7.61s/it]"
          ]
        },
        {
          "output_type": "stream",
          "name": "stdout",
          "text": [
            "Epoch: 7, Loss: 1.493563175201416\n"
          ]
        },
        {
          "output_type": "stream",
          "name": "stderr",
          "text": [
            "\r  8%|▊         | 8/100 [01:04<12:00,  7.84s/it]"
          ]
        },
        {
          "output_type": "stream",
          "name": "stdout",
          "text": [
            "Epoch: 8, Loss: 1.413658857345581\n"
          ]
        },
        {
          "output_type": "stream",
          "name": "stderr",
          "text": [
            "\r  9%|▉         | 9/100 [01:11<11:37,  7.66s/it]"
          ]
        },
        {
          "output_type": "stream",
          "name": "stdout",
          "text": [
            "Epoch: 9, Loss: 1.4670861959457397\n"
          ]
        },
        {
          "output_type": "stream",
          "name": "stderr",
          "text": [
            "\r 10%|█         | 10/100 [01:18<11:22,  7.58s/it]"
          ]
        },
        {
          "output_type": "stream",
          "name": "stdout",
          "text": [
            "Epoch: 10, Loss: 1.2441600561141968\n"
          ]
        },
        {
          "output_type": "stream",
          "name": "stderr",
          "text": [
            "\r 11%|█         | 11/100 [01:26<11:23,  7.68s/it]"
          ]
        },
        {
          "output_type": "stream",
          "name": "stdout",
          "text": [
            "Epoch: 11, Loss: 1.3666484355926514\n"
          ]
        },
        {
          "output_type": "stream",
          "name": "stderr",
          "text": [
            "\r 12%|█▏        | 12/100 [01:34<11:03,  7.54s/it]"
          ]
        },
        {
          "output_type": "stream",
          "name": "stdout",
          "text": [
            "Epoch: 12, Loss: 1.3139638900756836\n"
          ]
        },
        {
          "output_type": "stream",
          "name": "stderr",
          "text": [
            "\r 13%|█▎        | 13/100 [01:42<11:24,  7.87s/it]"
          ]
        },
        {
          "output_type": "stream",
          "name": "stdout",
          "text": [
            "Epoch: 13, Loss: 1.436647891998291\n"
          ]
        },
        {
          "output_type": "stream",
          "name": "stderr",
          "text": [
            "\r 14%|█▍        | 14/100 [01:49<10:44,  7.50s/it]"
          ]
        },
        {
          "output_type": "stream",
          "name": "stdout",
          "text": [
            "Epoch: 14, Loss: 1.2914801836013794\n"
          ]
        },
        {
          "output_type": "stream",
          "name": "stderr",
          "text": [
            "\r 15%|█▌        | 15/100 [01:57<10:47,  7.62s/it]"
          ]
        },
        {
          "output_type": "stream",
          "name": "stdout",
          "text": [
            "Epoch: 15, Loss: 1.1389440298080444\n"
          ]
        },
        {
          "output_type": "stream",
          "name": "stderr",
          "text": [
            "\r 16%|█▌        | 16/100 [02:04<10:22,  7.41s/it]"
          ]
        },
        {
          "output_type": "stream",
          "name": "stdout",
          "text": [
            "Epoch: 16, Loss: 1.4007046222686768\n"
          ]
        },
        {
          "output_type": "stream",
          "name": "stderr",
          "text": [
            "\r 17%|█▋        | 17/100 [02:12<10:36,  7.67s/it]"
          ]
        },
        {
          "output_type": "stream",
          "name": "stdout",
          "text": [
            "Epoch: 17, Loss: 1.3011038303375244\n"
          ]
        },
        {
          "output_type": "stream",
          "name": "stderr",
          "text": [
            "\r 18%|█▊        | 18/100 [02:20<10:43,  7.85s/it]"
          ]
        },
        {
          "output_type": "stream",
          "name": "stdout",
          "text": [
            "Epoch: 18, Loss: 1.1491774320602417\n"
          ]
        },
        {
          "output_type": "stream",
          "name": "stderr",
          "text": [
            "\r 19%|█▉        | 19/100 [02:29<10:47,  8.00s/it]"
          ]
        },
        {
          "output_type": "stream",
          "name": "stdout",
          "text": [
            "Epoch: 19, Loss: 1.1295394897460938\n"
          ]
        },
        {
          "output_type": "stream",
          "name": "stderr",
          "text": [
            "\r 20%|██        | 20/100 [02:36<10:28,  7.86s/it]"
          ]
        },
        {
          "output_type": "stream",
          "name": "stdout",
          "text": [
            "Epoch: 20, Loss: 1.3284473419189453\n"
          ]
        },
        {
          "output_type": "stream",
          "name": "stderr",
          "text": [
            "\r 21%|██        | 21/100 [02:43<10:09,  7.72s/it]"
          ]
        },
        {
          "output_type": "stream",
          "name": "stdout",
          "text": [
            "Epoch: 21, Loss: 1.4089276790618896\n"
          ]
        },
        {
          "output_type": "stream",
          "name": "stderr",
          "text": [
            "\r 22%|██▏       | 22/100 [02:51<10:04,  7.75s/it]"
          ]
        },
        {
          "output_type": "stream",
          "name": "stdout",
          "text": [
            "Epoch: 22, Loss: 1.2242851257324219\n"
          ]
        },
        {
          "output_type": "stream",
          "name": "stderr",
          "text": [
            "\r 23%|██▎       | 23/100 [02:58<09:42,  7.57s/it]"
          ]
        },
        {
          "output_type": "stream",
          "name": "stdout",
          "text": [
            "Epoch: 23, Loss: 1.2039520740509033\n"
          ]
        },
        {
          "output_type": "stream",
          "name": "stderr",
          "text": [
            "\r 24%|██▍       | 24/100 [03:06<09:41,  7.65s/it]"
          ]
        },
        {
          "output_type": "stream",
          "name": "stdout",
          "text": [
            "Epoch: 24, Loss: 1.1842586994171143\n"
          ]
        },
        {
          "output_type": "stream",
          "name": "stderr",
          "text": [
            "\r 25%|██▌       | 25/100 [03:13<09:18,  7.45s/it]"
          ]
        },
        {
          "output_type": "stream",
          "name": "stdout",
          "text": [
            "Epoch: 25, Loss: 1.3701759576797485\n"
          ]
        },
        {
          "output_type": "stream",
          "name": "stderr",
          "text": [
            "\r 26%|██▌       | 26/100 [03:22<09:29,  7.70s/it]"
          ]
        },
        {
          "output_type": "stream",
          "name": "stdout",
          "text": [
            "Epoch: 26, Loss: 1.493953824043274\n"
          ]
        },
        {
          "output_type": "stream",
          "name": "stderr",
          "text": [
            "\r 27%|██▋       | 27/100 [03:28<09:01,  7.41s/it]"
          ]
        },
        {
          "output_type": "stream",
          "name": "stdout",
          "text": [
            "Epoch: 27, Loss: 1.0008609294891357\n"
          ]
        },
        {
          "output_type": "stream",
          "name": "stderr",
          "text": [
            "\r 28%|██▊       | 28/100 [03:36<09:08,  7.62s/it]"
          ]
        },
        {
          "output_type": "stream",
          "name": "stdout",
          "text": [
            "Epoch: 28, Loss: 1.1428148746490479\n"
          ]
        },
        {
          "output_type": "stream",
          "name": "stderr",
          "text": [
            "\r 29%|██▉       | 29/100 [03:43<08:45,  7.40s/it]"
          ]
        },
        {
          "output_type": "stream",
          "name": "stdout",
          "text": [
            "Epoch: 29, Loss: 0.9720543026924133\n"
          ]
        },
        {
          "output_type": "stream",
          "name": "stderr",
          "text": [
            "\r 30%|███       | 30/100 [03:51<08:50,  7.58s/it]"
          ]
        },
        {
          "output_type": "stream",
          "name": "stdout",
          "text": [
            "Epoch: 30, Loss: 1.5224685668945312\n"
          ]
        },
        {
          "output_type": "stream",
          "name": "stderr",
          "text": [
            "\r 31%|███       | 31/100 [03:59<08:36,  7.49s/it]"
          ]
        },
        {
          "output_type": "stream",
          "name": "stdout",
          "text": [
            "Epoch: 31, Loss: 1.3161308765411377\n"
          ]
        },
        {
          "output_type": "stream",
          "name": "stderr",
          "text": [
            "\r 32%|███▏      | 32/100 [04:07<08:40,  7.65s/it]"
          ]
        },
        {
          "output_type": "stream",
          "name": "stdout",
          "text": [
            "Epoch: 32, Loss: 1.5469311475753784\n"
          ]
        },
        {
          "output_type": "stream",
          "name": "stderr",
          "text": [
            "\r 33%|███▎      | 33/100 [04:14<08:35,  7.69s/it]"
          ]
        },
        {
          "output_type": "stream",
          "name": "stdout",
          "text": [
            "Epoch: 33, Loss: 0.9444793462753296\n"
          ]
        },
        {
          "output_type": "stream",
          "name": "stderr",
          "text": [
            "\r 34%|███▍      | 34/100 [04:22<08:18,  7.56s/it]"
          ]
        },
        {
          "output_type": "stream",
          "name": "stdout",
          "text": [
            "Epoch: 34, Loss: 1.0261913537979126\n"
          ]
        },
        {
          "output_type": "stream",
          "name": "stderr",
          "text": [
            "\r 35%|███▌      | 35/100 [04:30<08:25,  7.78s/it]"
          ]
        },
        {
          "output_type": "stream",
          "name": "stdout",
          "text": [
            "Epoch: 35, Loss: 1.585784673690796\n"
          ]
        },
        {
          "output_type": "stream",
          "name": "stderr",
          "text": [
            "\r 36%|███▌      | 36/100 [04:38<08:29,  7.95s/it]"
          ]
        },
        {
          "output_type": "stream",
          "name": "stdout",
          "text": [
            "Epoch: 36, Loss: 1.1696017980575562\n"
          ]
        },
        {
          "output_type": "stream",
          "name": "stderr",
          "text": [
            "\r 37%|███▋      | 37/100 [04:46<08:20,  7.95s/it]"
          ]
        },
        {
          "output_type": "stream",
          "name": "stdout",
          "text": [
            "Epoch: 37, Loss: 1.2164859771728516\n"
          ]
        },
        {
          "output_type": "stream",
          "name": "stderr",
          "text": [
            "\r 38%|███▊      | 38/100 [04:53<07:47,  7.54s/it]"
          ]
        },
        {
          "output_type": "stream",
          "name": "stdout",
          "text": [
            "Epoch: 38, Loss: 0.8097628355026245\n"
          ]
        },
        {
          "output_type": "stream",
          "name": "stderr",
          "text": [
            "\r 39%|███▉      | 39/100 [05:01<07:47,  7.66s/it]"
          ]
        },
        {
          "output_type": "stream",
          "name": "stdout",
          "text": [
            "Epoch: 39, Loss: 1.3112215995788574\n"
          ]
        },
        {
          "output_type": "stream",
          "name": "stderr",
          "text": [
            "\r 40%|████      | 40/100 [05:08<07:37,  7.62s/it]"
          ]
        },
        {
          "output_type": "stream",
          "name": "stdout",
          "text": [
            "Epoch: 40, Loss: 1.5048935413360596\n"
          ]
        },
        {
          "output_type": "stream",
          "name": "stderr",
          "text": [
            "\r 41%|████      | 41/100 [05:16<07:25,  7.55s/it]"
          ]
        },
        {
          "output_type": "stream",
          "name": "stdout",
          "text": [
            "Epoch: 41, Loss: 1.320711374282837\n"
          ]
        },
        {
          "output_type": "stream",
          "name": "stderr",
          "text": [
            "\r 42%|████▏     | 42/100 [05:23<07:20,  7.60s/it]"
          ]
        },
        {
          "output_type": "stream",
          "name": "stdout",
          "text": [
            "Epoch: 42, Loss: 0.9727059602737427\n"
          ]
        },
        {
          "output_type": "stream",
          "name": "stderr",
          "text": [
            "\r 43%|████▎     | 43/100 [05:30<07:02,  7.41s/it]"
          ]
        },
        {
          "output_type": "stream",
          "name": "stdout",
          "text": [
            "Epoch: 43, Loss: 1.4551103115081787\n"
          ]
        },
        {
          "output_type": "stream",
          "name": "stderr",
          "text": [
            "\r 44%|████▍     | 44/100 [05:39<07:08,  7.65s/it]"
          ]
        },
        {
          "output_type": "stream",
          "name": "stdout",
          "text": [
            "Epoch: 44, Loss: 1.502182960510254\n"
          ]
        },
        {
          "output_type": "stream",
          "name": "stderr",
          "text": [
            "\r 45%|████▌     | 45/100 [05:45<06:46,  7.40s/it]"
          ]
        },
        {
          "output_type": "stream",
          "name": "stdout",
          "text": [
            "Epoch: 45, Loss: 1.4356248378753662\n"
          ]
        },
        {
          "output_type": "stream",
          "name": "stderr",
          "text": [
            "\r 46%|████▌     | 46/100 [05:53<06:50,  7.61s/it]"
          ]
        },
        {
          "output_type": "stream",
          "name": "stdout",
          "text": [
            "Epoch: 46, Loss: 1.3414232730865479\n"
          ]
        },
        {
          "output_type": "stream",
          "name": "stderr",
          "text": [
            "\r 47%|████▋     | 47/100 [06:00<06:32,  7.40s/it]"
          ]
        },
        {
          "output_type": "stream",
          "name": "stdout",
          "text": [
            "Epoch: 47, Loss: 1.060674786567688\n"
          ]
        },
        {
          "output_type": "stream",
          "name": "stderr",
          "text": [
            "\r 48%|████▊     | 48/100 [06:09<06:40,  7.70s/it]"
          ]
        },
        {
          "output_type": "stream",
          "name": "stdout",
          "text": [
            "Epoch: 48, Loss: 1.32865309715271\n"
          ]
        },
        {
          "output_type": "stream",
          "name": "stderr",
          "text": [
            "\r 49%|████▉     | 49/100 [06:16<06:25,  7.57s/it]"
          ]
        },
        {
          "output_type": "stream",
          "name": "stdout",
          "text": [
            "Epoch: 49, Loss: 1.1351902484893799\n"
          ]
        },
        {
          "output_type": "stream",
          "name": "stderr",
          "text": [
            "\r 50%|█████     | 50/100 [06:24<06:27,  7.75s/it]"
          ]
        },
        {
          "output_type": "stream",
          "name": "stdout",
          "text": [
            "Epoch: 50, Loss: 1.5129246711730957\n"
          ]
        },
        {
          "output_type": "stream",
          "name": "stderr",
          "text": [
            "\r 51%|█████     | 51/100 [06:32<06:20,  7.76s/it]"
          ]
        },
        {
          "output_type": "stream",
          "name": "stdout",
          "text": [
            "Epoch: 51, Loss: 1.4626754522323608\n"
          ]
        },
        {
          "output_type": "stream",
          "name": "stderr",
          "text": [
            "\r 52%|█████▏    | 52/100 [06:39<06:02,  7.55s/it]"
          ]
        },
        {
          "output_type": "stream",
          "name": "stdout",
          "text": [
            "Epoch: 52, Loss: 1.3119215965270996\n"
          ]
        },
        {
          "output_type": "stream",
          "name": "stderr",
          "text": [
            "\r 53%|█████▎    | 53/100 [06:47<06:01,  7.68s/it]"
          ]
        },
        {
          "output_type": "stream",
          "name": "stdout",
          "text": [
            "Epoch: 53, Loss: 1.433196783065796\n"
          ]
        },
        {
          "output_type": "stream",
          "name": "stderr",
          "text": [
            "\r 54%|█████▍    | 54/100 [06:54<05:41,  7.42s/it]"
          ]
        },
        {
          "output_type": "stream",
          "name": "stdout",
          "text": [
            "Epoch: 54, Loss: 1.0706886053085327\n"
          ]
        },
        {
          "output_type": "stream",
          "name": "stderr",
          "text": [
            "\r 55%|█████▌    | 55/100 [07:04<06:05,  8.13s/it]"
          ]
        },
        {
          "output_type": "stream",
          "name": "stdout",
          "text": [
            "Epoch: 55, Loss: 1.1254193782806396\n"
          ]
        },
        {
          "output_type": "stream",
          "name": "stderr",
          "text": [
            "\r 56%|█████▌    | 56/100 [07:11<05:45,  7.86s/it]"
          ]
        },
        {
          "output_type": "stream",
          "name": "stdout",
          "text": [
            "Epoch: 56, Loss: 1.29121732711792\n"
          ]
        },
        {
          "output_type": "stream",
          "name": "stderr",
          "text": [
            "\r 57%|█████▋    | 57/100 [07:19<05:44,  8.01s/it]"
          ]
        },
        {
          "output_type": "stream",
          "name": "stdout",
          "text": [
            "Epoch: 57, Loss: 1.2475066184997559\n"
          ]
        },
        {
          "output_type": "stream",
          "name": "stderr",
          "text": [
            "\r 58%|█████▊    | 58/100 [07:26<05:23,  7.70s/it]"
          ]
        },
        {
          "output_type": "stream",
          "name": "stdout",
          "text": [
            "Epoch: 58, Loss: 1.3682318925857544\n"
          ]
        },
        {
          "output_type": "stream",
          "name": "stderr",
          "text": [
            "\r 59%|█████▉    | 59/100 [07:34<05:17,  7.74s/it]"
          ]
        },
        {
          "output_type": "stream",
          "name": "stdout",
          "text": [
            "Epoch: 59, Loss: 1.3778488636016846\n"
          ]
        },
        {
          "output_type": "stream",
          "name": "stderr",
          "text": [
            "\r 60%|██████    | 60/100 [07:41<05:02,  7.57s/it]"
          ]
        },
        {
          "output_type": "stream",
          "name": "stdout",
          "text": [
            "Epoch: 60, Loss: 0.9925915598869324\n"
          ]
        },
        {
          "output_type": "stream",
          "name": "stderr",
          "text": [
            "\r 61%|██████    | 61/100 [07:49<04:56,  7.60s/it]"
          ]
        },
        {
          "output_type": "stream",
          "name": "stdout",
          "text": [
            "Epoch: 61, Loss: 1.3898911476135254\n"
          ]
        },
        {
          "output_type": "stream",
          "name": "stderr",
          "text": [
            "\r 62%|██████▏   | 62/100 [07:57<04:54,  7.76s/it]"
          ]
        },
        {
          "output_type": "stream",
          "name": "stdout",
          "text": [
            "Epoch: 62, Loss: 1.3822014331817627\n"
          ]
        },
        {
          "output_type": "stream",
          "name": "stderr",
          "text": [
            "\r 63%|██████▎   | 63/100 [08:04<04:39,  7.56s/it]"
          ]
        },
        {
          "output_type": "stream",
          "name": "stdout",
          "text": [
            "Epoch: 63, Loss: 1.3768699169158936\n"
          ]
        },
        {
          "output_type": "stream",
          "name": "stderr",
          "text": [
            "\r 64%|██████▍   | 64/100 [08:13<04:43,  7.88s/it]"
          ]
        },
        {
          "output_type": "stream",
          "name": "stdout",
          "text": [
            "Epoch: 64, Loss: 1.2479016780853271\n"
          ]
        },
        {
          "output_type": "stream",
          "name": "stderr",
          "text": [
            "\r 65%|██████▌   | 65/100 [08:20<04:28,  7.68s/it]"
          ]
        },
        {
          "output_type": "stream",
          "name": "stdout",
          "text": [
            "Epoch: 65, Loss: 0.9863511323928833\n"
          ]
        },
        {
          "output_type": "stream",
          "name": "stderr",
          "text": [
            "\r 66%|██████▌   | 66/100 [08:28<04:27,  7.86s/it]"
          ]
        },
        {
          "output_type": "stream",
          "name": "stdout",
          "text": [
            "Epoch: 66, Loss: 1.253706693649292\n"
          ]
        },
        {
          "output_type": "stream",
          "name": "stderr",
          "text": [
            "\r 67%|██████▋   | 67/100 [08:35<04:07,  7.51s/it]"
          ]
        },
        {
          "output_type": "stream",
          "name": "stdout",
          "text": [
            "Epoch: 67, Loss: 1.4212249517440796\n"
          ]
        },
        {
          "output_type": "stream",
          "name": "stderr",
          "text": [
            "\r 68%|██████▊   | 68/100 [08:43<04:07,  7.72s/it]"
          ]
        },
        {
          "output_type": "stream",
          "name": "stdout",
          "text": [
            "Epoch: 68, Loss: 1.2988011837005615\n"
          ]
        },
        {
          "output_type": "stream",
          "name": "stderr",
          "text": [
            "\r 69%|██████▉   | 69/100 [08:50<03:51,  7.45s/it]"
          ]
        },
        {
          "output_type": "stream",
          "name": "stdout",
          "text": [
            "Epoch: 69, Loss: 1.0215299129486084\n"
          ]
        },
        {
          "output_type": "stream",
          "name": "stderr",
          "text": [
            "\r 70%|███████   | 70/100 [08:58<03:46,  7.56s/it]"
          ]
        },
        {
          "output_type": "stream",
          "name": "stdout",
          "text": [
            "Epoch: 70, Loss: 1.2296409606933594\n"
          ]
        },
        {
          "output_type": "stream",
          "name": "stderr",
          "text": [
            "\r 71%|███████   | 71/100 [09:05<03:35,  7.45s/it]"
          ]
        },
        {
          "output_type": "stream",
          "name": "stdout",
          "text": [
            "Epoch: 71, Loss: 1.2914327383041382\n"
          ]
        },
        {
          "output_type": "stream",
          "name": "stderr",
          "text": [
            "\r 72%|███████▏  | 72/100 [09:13<03:29,  7.49s/it]"
          ]
        },
        {
          "output_type": "stream",
          "name": "stdout",
          "text": [
            "Epoch: 72, Loss: 1.092300534248352\n"
          ]
        },
        {
          "output_type": "stream",
          "name": "stderr",
          "text": [
            "\r 73%|███████▎  | 73/100 [09:21<03:28,  7.74s/it]"
          ]
        },
        {
          "output_type": "stream",
          "name": "stdout",
          "text": [
            "Epoch: 73, Loss: 0.8509871959686279\n"
          ]
        },
        {
          "output_type": "stream",
          "name": "stderr",
          "text": [
            "\r 74%|███████▍  | 74/100 [09:28<03:20,  7.70s/it]"
          ]
        },
        {
          "output_type": "stream",
          "name": "stdout",
          "text": [
            "Epoch: 74, Loss: 0.8271988034248352\n"
          ]
        },
        {
          "output_type": "stream",
          "name": "stderr",
          "text": [
            "\r 75%|███████▌  | 75/100 [09:36<03:08,  7.56s/it]"
          ]
        },
        {
          "output_type": "stream",
          "name": "stdout",
          "text": [
            "Epoch: 75, Loss: 1.2355655431747437\n"
          ]
        },
        {
          "output_type": "stream",
          "name": "stderr",
          "text": [
            "\r 76%|███████▌  | 76/100 [09:43<03:03,  7.63s/it]"
          ]
        },
        {
          "output_type": "stream",
          "name": "stdout",
          "text": [
            "Epoch: 76, Loss: 1.5652377605438232\n"
          ]
        },
        {
          "output_type": "stream",
          "name": "stderr",
          "text": [
            "\r 77%|███████▋  | 77/100 [09:51<02:55,  7.64s/it]"
          ]
        },
        {
          "output_type": "stream",
          "name": "stdout",
          "text": [
            "Epoch: 77, Loss: 0.6490504145622253\n"
          ]
        },
        {
          "output_type": "stream",
          "name": "stderr",
          "text": [
            "\r 78%|███████▊  | 78/100 [09:58<02:45,  7.50s/it]"
          ]
        },
        {
          "output_type": "stream",
          "name": "stdout",
          "text": [
            "Epoch: 78, Loss: 1.328251600265503\n"
          ]
        },
        {
          "output_type": "stream",
          "name": "stderr",
          "text": [
            "\r 79%|███████▉  | 79/100 [10:06<02:39,  7.61s/it]"
          ]
        },
        {
          "output_type": "stream",
          "name": "stdout",
          "text": [
            "Epoch: 79, Loss: 1.3262487649917603\n"
          ]
        },
        {
          "output_type": "stream",
          "name": "stderr",
          "text": [
            "\r 80%|████████  | 80/100 [10:13<02:28,  7.44s/it]"
          ]
        },
        {
          "output_type": "stream",
          "name": "stdout",
          "text": [
            "Epoch: 80, Loss: 1.65399968624115\n"
          ]
        },
        {
          "output_type": "stream",
          "name": "stderr",
          "text": [
            "\r 81%|████████  | 81/100 [10:23<02:34,  8.12s/it]"
          ]
        },
        {
          "output_type": "stream",
          "name": "stdout",
          "text": [
            "Epoch: 81, Loss: 1.4593112468719482\n"
          ]
        },
        {
          "output_type": "stream",
          "name": "stderr",
          "text": [
            "\r 82%|████████▏ | 82/100 [10:30<02:22,  7.91s/it]"
          ]
        },
        {
          "output_type": "stream",
          "name": "stdout",
          "text": [
            "Epoch: 82, Loss: 1.4507437944412231\n"
          ]
        },
        {
          "output_type": "stream",
          "name": "stderr",
          "text": [
            "\r 83%|████████▎ | 83/100 [10:39<02:17,  8.07s/it]"
          ]
        },
        {
          "output_type": "stream",
          "name": "stdout",
          "text": [
            "Epoch: 83, Loss: 1.4126683473587036\n"
          ]
        },
        {
          "output_type": "stream",
          "name": "stderr",
          "text": [
            "\r 84%|████████▍ | 84/100 [10:47<02:09,  8.08s/it]"
          ]
        },
        {
          "output_type": "stream",
          "name": "stdout",
          "text": [
            "Epoch: 84, Loss: 1.4047579765319824\n"
          ]
        },
        {
          "output_type": "stream",
          "name": "stderr",
          "text": [
            "\r 85%|████████▌ | 85/100 [10:54<01:57,  7.84s/it]"
          ]
        },
        {
          "output_type": "stream",
          "name": "stdout",
          "text": [
            "Epoch: 85, Loss: 1.2953596115112305\n"
          ]
        },
        {
          "output_type": "stream",
          "name": "stderr",
          "text": [
            "\r 86%|████████▌ | 86/100 [11:02<01:50,  7.93s/it]"
          ]
        },
        {
          "output_type": "stream",
          "name": "stdout",
          "text": [
            "Epoch: 86, Loss: 1.3627493381500244\n"
          ]
        },
        {
          "output_type": "stream",
          "name": "stderr",
          "text": [
            "\r 87%|████████▋ | 87/100 [11:09<01:38,  7.55s/it]"
          ]
        },
        {
          "output_type": "stream",
          "name": "stdout",
          "text": [
            "Epoch: 87, Loss: 1.1717016696929932\n"
          ]
        },
        {
          "output_type": "stream",
          "name": "stderr",
          "text": [
            "\r 88%|████████▊ | 88/100 [11:17<01:32,  7.72s/it]"
          ]
        },
        {
          "output_type": "stream",
          "name": "stdout",
          "text": [
            "Epoch: 88, Loss: 1.198279857635498\n"
          ]
        },
        {
          "output_type": "stream",
          "name": "stderr",
          "text": [
            "\r 89%|████████▉ | 89/100 [11:24<01:22,  7.46s/it]"
          ]
        },
        {
          "output_type": "stream",
          "name": "stdout",
          "text": [
            "Epoch: 89, Loss: 1.4529569149017334\n"
          ]
        },
        {
          "output_type": "stream",
          "name": "stderr",
          "text": [
            "\r 90%|█████████ | 90/100 [11:32<01:16,  7.63s/it]"
          ]
        },
        {
          "output_type": "stream",
          "name": "stdout",
          "text": [
            "Epoch: 90, Loss: 0.8439153432846069\n"
          ]
        },
        {
          "output_type": "stream",
          "name": "stderr",
          "text": [
            "\r 91%|█████████ | 91/100 [11:40<01:10,  7.84s/it]"
          ]
        },
        {
          "output_type": "stream",
          "name": "stdout",
          "text": [
            "Epoch: 91, Loss: 1.5079786777496338\n"
          ]
        },
        {
          "output_type": "stream",
          "name": "stderr",
          "text": [
            "\r 92%|█████████▏| 92/100 [11:48<01:03,  7.88s/it]"
          ]
        },
        {
          "output_type": "stream",
          "name": "stdout",
          "text": [
            "Epoch: 92, Loss: 1.0753843784332275\n"
          ]
        },
        {
          "output_type": "stream",
          "name": "stderr",
          "text": [
            "\r 93%|█████████▎| 93/100 [11:56<00:54,  7.80s/it]"
          ]
        },
        {
          "output_type": "stream",
          "name": "stdout",
          "text": [
            "Epoch: 93, Loss: 1.3580098152160645\n"
          ]
        },
        {
          "output_type": "stream",
          "name": "stderr",
          "text": [
            "\r 94%|█████████▍| 94/100 [12:03<00:45,  7.59s/it]"
          ]
        },
        {
          "output_type": "stream",
          "name": "stdout",
          "text": [
            "Epoch: 94, Loss: 1.3142826557159424\n"
          ]
        },
        {
          "output_type": "stream",
          "name": "stderr",
          "text": [
            "\r 95%|█████████▌| 95/100 [12:11<00:37,  7.58s/it]"
          ]
        },
        {
          "output_type": "stream",
          "name": "stdout",
          "text": [
            "Epoch: 95, Loss: 0.8830126523971558\n"
          ]
        },
        {
          "output_type": "stream",
          "name": "stderr",
          "text": [
            "\r 96%|█████████▌| 96/100 [12:18<00:29,  7.42s/it]"
          ]
        },
        {
          "output_type": "stream",
          "name": "stdout",
          "text": [
            "Epoch: 96, Loss: 1.176457405090332\n"
          ]
        },
        {
          "output_type": "stream",
          "name": "stderr",
          "text": [
            "\r 97%|█████████▋| 97/100 [12:26<00:22,  7.66s/it]"
          ]
        },
        {
          "output_type": "stream",
          "name": "stdout",
          "text": [
            "Epoch: 97, Loss: 0.6481517553329468\n"
          ]
        },
        {
          "output_type": "stream",
          "name": "stderr",
          "text": [
            "\r 98%|█████████▊| 98/100 [12:33<00:15,  7.53s/it]"
          ]
        },
        {
          "output_type": "stream",
          "name": "stdout",
          "text": [
            "Epoch: 98, Loss: 0.5377374291419983\n"
          ]
        },
        {
          "output_type": "stream",
          "name": "stderr",
          "text": [
            "\r 99%|█████████▉| 99/100 [12:41<00:07,  7.80s/it]"
          ]
        },
        {
          "output_type": "stream",
          "name": "stdout",
          "text": [
            "Epoch: 99, Loss: 0.6868425607681274\n"
          ]
        },
        {
          "output_type": "stream",
          "name": "stderr",
          "text": [
            "100%|██████████| 100/100 [12:48<00:00,  7.69s/it]"
          ]
        },
        {
          "output_type": "stream",
          "name": "stdout",
          "text": [
            "Epoch: 100, Loss: 0.4218140244483948\n"
          ]
        },
        {
          "output_type": "stream",
          "name": "stderr",
          "text": [
            "\n"
          ]
        }
      ],
      "source": [
        "num_epoch = 100\n",
        "loss_epoch = []\n",
        "for epoch in tqdm(range(1, num_epoch+1)):\n",
        "  if epoch == num_epoch:\n",
        "    pos_z, neg_z, summary, loss = train_only_infomax(epoch)\n",
        "  else:\n",
        "    loss = train_only_infomax(epoch)\n",
        "  loss_epoch.append(loss)\n",
        "test_pos_z, test_neg_z, test_summary = model(dataset.test_features, dataset.edge_index)"
      ]
    },
    {
      "cell_type": "code",
      "execution_count": null,
      "metadata": {
        "id": "7bDxqySnhhUf"
      },
      "outputs": [],
      "source": [
        "train_user_representations = {}\n",
        "test_user_representations = {}\n",
        "for i in range(pos_z.shape[0]):\n",
        "  train_user_representations[i] = (dataset.user_ids[i], pos_z[i].detach(), dataset.train_labels[i])\n",
        "for i in range(test_pos_z.shape[0]):\n",
        "  test_user_representations[i] = (dataset.user_ids[i], test_pos_z[i].detach(), dataset.test_labels[i])"
      ]
    },
    {
      "cell_type": "code",
      "execution_count": null,
      "metadata": {
        "id": "PTTgSAR4hhUg"
      },
      "outputs": [],
      "source": [
        "user_dataset = UserDataset(train_user_representations)\n",
        "\n",
        "n = len(user_dataset)\n",
        "\n",
        "indices = np.arange(n)\n",
        "indices = np.random.permutation(indices)\n",
        "\n",
        "train_indices = indices [:int(0.8*n)]\n",
        "test_indices = indices[int(0.8*n):]\n",
        "\n",
        "user_train_dataset = Subset(user_dataset, train_indices)\n",
        "user_test_dataset = Subset(user_dataset, test_indices)\n",
        "\n",
        "user_train_dataloader = DataLoader(user_train_dataset, batch_size=64, shuffle=True)\n",
        "user_test_dataloader = DataLoader(user_test_dataset, batch_size=64, shuffle=True)"
      ]
    },
    {
      "cell_type": "code",
      "execution_count": null,
      "metadata": {
        "id": "ZIP_m-cphhUg"
      },
      "outputs": [],
      "source": [
        "num_classes = 186\n",
        "classes = np.arange(0, num_classes)"
      ]
    },
    {
      "cell_type": "code",
      "execution_count": null,
      "metadata": {
        "colab": {
          "base_uri": "https://localhost:8080/"
        },
        "id": "MXefZj6QhhUg",
        "outputId": "7a438d1c-eebb-4a51-a97c-725a5e62f0c0"
      },
      "outputs": [
        {
          "output_type": "stream",
          "name": "stdout",
          "text": [
            "Epoch: 0, Loss: 5.0717082023620605\n",
            "Hits@1: 0.04041155427694321\n",
            "Epoch: 1, Loss: 4.94442892074585\n",
            "Hits@1: 0.05825366824865341\n",
            "Epoch: 2, Loss: 4.8375325202941895\n",
            "Hits@1: 0.08203312754631042\n",
            "Epoch: 3, Loss: 4.747663974761963\n",
            "Hits@1: 0.08848153799772263\n",
            "Epoch: 4, Loss: 4.671762943267822\n",
            "Hits@1: 0.09320887178182602\n",
            "Epoch: 5, Loss: 4.607346534729004\n",
            "Hits@1: 0.09345688670873642\n",
            "Epoch: 6, Loss: 4.552304744720459\n",
            "Hits@1: 0.09494498372077942\n",
            "Epoch: 7, Loss: 4.5048627853393555\n",
            "Hits@1: 0.09818422049283981\n",
            "Epoch: 8, Loss: 4.463573455810547\n",
            "Hits@1: 0.10140842944383621\n",
            "Epoch: 9, Loss: 4.427262306213379\n",
            "Hits@1: 0.1046476662158966\n",
            "Epoch: 10, Loss: 4.394991874694824\n",
            "Hits@1: 0.10905182361602783\n",
            "Epoch: 11, Loss: 4.36603307723999\n",
            "Hits@1: 0.11108104884624481\n",
            "Epoch: 12, Loss: 4.339807510375977\n",
            "Hits@1: 0.11474116146564484\n",
            "Epoch: 13, Loss: 4.3158698081970215\n",
            "Hits@1: 0.11943843215703964\n",
            "Epoch: 14, Loss: 4.293863773345947\n",
            "Hits@1: 0.12219666689634323\n",
            "Epoch: 15, Loss: 4.273504734039307\n",
            "Hits@1: 0.12543590366840363\n",
            "Epoch: 16, Loss: 4.25456428527832\n",
            "Hits@1: 0.12869016826152802\n",
            "Epoch: 17, Loss: 4.236856937408447\n",
            "Hits@1: 0.13185425102710724\n",
            "Epoch: 18, Loss: 4.220229625701904\n",
            "Hits@1: 0.1326734572649002\n",
            "Epoch: 19, Loss: 4.204556465148926\n",
            "Hits@1: 0.13558952510356903\n",
            "Epoch: 20, Loss: 4.189724922180176\n",
            "Hits@1: 0.1373707354068756\n",
            "Epoch: 21, Loss: 4.175655364990234\n",
            "Hits@1: 0.13906174898147583\n",
            "Epoch: 22, Loss: 4.162265300750732\n",
            "Hits@1: 0.14030182361602783\n",
            "Epoch: 23, Loss: 4.149491310119629\n",
            "Hits@1: 0.14278198778629303\n",
            "Epoch: 24, Loss: 4.137275218963623\n",
            "Hits@1: 0.14327801764011383\n",
            "Epoch: 25, Loss: 4.1255693435668945\n",
            "Hits@1: 0.14425504207611084\n",
            "Epoch: 26, Loss: 4.114329814910889\n",
            "Hits@1: 0.14699825644493103\n",
            "Epoch: 27, Loss: 4.103519916534424\n",
            "Hits@1: 0.14799031615257263\n",
            "Epoch: 28, Loss: 4.093105792999268\n",
            "Hits@1: 0.14994437992572784\n",
            "Epoch: 29, Loss: 4.083059787750244\n",
            "Hits@1: 0.15147757530212402\n",
            "Epoch: 30, Loss: 4.073351860046387\n",
            "Hits@1: 0.15467171370983124\n",
            "Epoch: 31, Loss: 4.063962936401367\n",
            "Hits@1: 0.1539877951145172\n",
            "Epoch: 32, Loss: 4.054869174957275\n",
            "Hits@1: 0.15567880868911743\n",
            "Epoch: 33, Loss: 4.046052932739258\n",
            "Hits@1: 0.15815897285938263\n",
            "Epoch: 34, Loss: 4.037496089935303\n",
            "Hits@1: 0.16062410175800323\n",
            "Epoch: 35, Loss: 4.029184818267822\n",
            "Hits@1: 0.16160112619400024\n",
            "Epoch: 36, Loss: 4.02110481262207\n",
            "Hits@1: 0.16262325644493103\n",
            "Epoch: 37, Loss: 4.013240337371826\n",
            "Hits@1: 0.16310425102710724\n",
            "Epoch: 38, Loss: 4.005581378936768\n",
            "Hits@1: 0.16530632972717285\n",
            "Epoch: 39, Loss: 3.998117208480835\n",
            "Hits@1: 0.16463744640350342\n",
            "Epoch: 40, Loss: 3.990837335586548\n",
            "Hits@1: 0.16735059022903442\n",
            "Epoch: 41, Loss: 3.9837324619293213\n",
            "Hits@1: 0.16907165944576263\n",
            "Epoch: 42, Loss: 3.976794958114624\n",
            "Hits@1: 0.16924452781677246\n",
            "Epoch: 43, Loss: 3.9700162410736084\n",
            "Hits@1: 0.17102572321891785\n",
            "Epoch: 44, Loss: 3.963388204574585\n",
            "Hits@1: 0.17134889960289001\n",
            "Epoch: 45, Loss: 3.956904888153076\n",
            "Hits@1: 0.17403198778629303\n",
            "Epoch: 46, Loss: 3.950559139251709\n",
            "Hits@1: 0.17500901222229004\n",
            "Epoch: 47, Loss: 3.9443459510803223\n",
            "Hits@1: 0.17671506106853485\n",
            "Epoch: 48, Loss: 3.9382588863372803\n",
            "Hits@1: 0.17703823745250702\n",
            "Epoch: 49, Loss: 3.932293176651001\n",
            "Hits@1: 0.17801527678966522\n",
            "Epoch: 50, Loss: 3.9264447689056396\n",
            "Hits@1: 0.17944324016571045\n",
            "Epoch: 51, Loss: 3.9207091331481934\n",
            "Hits@1: 0.18096140027046204\n",
            "Epoch: 52, Loss: 3.9150807857513428\n",
            "Hits@1: 0.18317851424217224\n",
            "Epoch: 53, Loss: 3.9095561504364014\n",
            "Hits@1: 0.18535053730010986\n",
            "Epoch: 54, Loss: 3.9041309356689453\n",
            "Hits@1: 0.18469665944576263\n",
            "Epoch: 55, Loss: 3.8988025188446045\n",
            "Hits@1: 0.18592171370983124\n",
            "Epoch: 56, Loss: 3.893566846847534\n",
            "Hits@1: 0.18668079376220703\n",
            "Epoch: 57, Loss: 3.888420581817627\n",
            "Hits@1: 0.19034090638160706\n",
            "Epoch: 58, Loss: 3.883361339569092\n",
            "Hits@1: 0.19161105155944824\n",
            "Epoch: 59, Loss: 3.878385066986084\n",
            "Hits@1: 0.19353505969047546\n",
            "Epoch: 60, Loss: 3.873490810394287\n",
            "Hits@1: 0.1926782727241516\n",
            "Epoch: 61, Loss: 3.868673801422119\n",
            "Hits@1: 0.19337722659111023\n",
            "Epoch: 62, Loss: 3.8639330863952637\n",
            "Hits@1: 0.19677428901195526\n",
            "Epoch: 63, Loss: 3.859266519546509\n",
            "Hits@1: 0.19636844098567963\n",
            "Epoch: 64, Loss: 3.854671001434326\n",
            "Hits@1: 0.19906654953956604\n",
            "Epoch: 65, Loss: 3.850145101547241\n",
            "Hits@1: 0.20077259838581085\n",
            "Epoch: 66, Loss: 3.8456857204437256\n",
            "Hits@1: 0.20109577476978302\n",
            "Epoch: 67, Loss: 3.8412914276123047\n",
            "Hits@1: 0.20328281819820404\n",
            "Epoch: 68, Loss: 3.836960554122925\n",
            "Hits@1: 0.20283189415931702\n",
            "Epoch: 69, Loss: 3.8326914310455322\n",
            "Hits@1: 0.20447781682014465\n",
            "Epoch: 70, Loss: 3.8284823894500732\n",
            "Hits@1: 0.204102024435997\n",
            "Epoch: 71, Loss: 3.824331045150757\n",
            "Hits@1: 0.20739388465881348\n",
            "Epoch: 72, Loss: 3.8202362060546875\n",
            "Hits@1: 0.20796506106853485\n",
            "Epoch: 73, Loss: 3.8161966800689697\n",
            "Hits@1: 0.20776213705539703\n",
            "Epoch: 74, Loss: 3.81221079826355\n",
            "Hits@1: 0.20751412212848663\n",
            "Epoch: 75, Loss: 3.808277130126953\n",
            "Hits@1: 0.20920513570308685\n",
            "Epoch: 76, Loss: 3.804394483566284\n",
            "Hits@1: 0.20946818590164185\n",
            "Epoch: 77, Loss: 3.80056095123291\n",
            "Hits@1: 0.21025733649730682\n",
            "Epoch: 78, Loss: 3.796776056289673\n",
            "Hits@1: 0.21218132972717285\n",
            "Epoch: 79, Loss: 3.7930383682250977\n",
            "Hits@1: 0.21318842470645905\n",
            "Epoch: 80, Loss: 3.78934645652771\n",
            "Hits@1: 0.21393246948719025\n",
            "Epoch: 81, Loss: 3.7856993675231934\n",
            "Hits@1: 0.21466149389743805\n",
            "Epoch: 82, Loss: 3.7820963859558105\n",
            "Hits@1: 0.21490950882434845\n",
            "Epoch: 83, Loss: 3.7785356044769287\n",
            "Hits@1: 0.21472162008285522\n",
            "Epoch: 84, Loss: 3.775017261505127\n",
            "Hits@1: 0.21664561331272125\n",
            "Epoch: 85, Loss: 3.771540641784668\n",
            "Hits@1: 0.21835166215896606\n",
            "Epoch: 86, Loss: 3.7681031227111816\n",
            "Hits@1: 0.21842682361602783\n",
            "Epoch: 87, Loss: 3.7647056579589844\n",
            "Hits@1: 0.21937379240989685\n",
            "Epoch: 88, Loss: 3.761345863342285\n",
            "Hits@1: 0.22086188197135925\n",
            "Epoch: 89, Loss: 3.758023500442505\n",
            "Hits@1: 0.22204184532165527\n",
            "Epoch: 90, Loss: 3.754737615585327\n",
            "Hits@1: 0.22303390502929688\n",
            "Epoch: 91, Loss: 3.7514877319335938\n",
            "Hits@1: 0.22231991589069366\n",
            "Epoch: 92, Loss: 3.74827241897583\n",
            "Hits@1: 0.22185395658016205\n",
            "Epoch: 93, Loss: 3.7450923919677734\n",
            "Hits@1: 0.22335708141326904\n",
            "Epoch: 94, Loss: 3.7419464588165283\n",
            "Hits@1: 0.22241011261940002\n",
            "Epoch: 95, Loss: 3.738832712173462\n",
            "Hits@1: 0.22407107055187225\n",
            "Epoch: 96, Loss: 3.735750675201416\n",
            "Hits@1: 0.22386814653873444\n",
            "Epoch: 97, Loss: 3.732701301574707\n",
            "Hits@1: 0.22436417639255524\n",
            "Epoch: 98, Loss: 3.729682445526123\n",
            "Hits@1: 0.22607022523880005\n",
            "Epoch: 99, Loss: 3.7266945838928223\n",
            "Hits@1: 0.22729526460170746\n",
            "Epoch: 100, Loss: 3.723736047744751\n",
            "Hits@1: 0.22901634871959686\n",
            "Epoch: 101, Loss: 3.7208073139190674\n",
            "Hits@1: 0.22856540977954865\n",
            "Epoch: 102, Loss: 3.717907190322876\n",
            "Hits@1: 0.23076748847961426\n",
            "Epoch: 103, Loss: 3.7150352001190186\n",
            "Hits@1: 0.23081259429454803\n",
            "Epoch: 104, Loss: 3.712191104888916\n",
            "Hits@1: 0.23177458345890045\n",
            "Epoch: 105, Loss: 3.709374189376831\n",
            "Hits@1: 0.23346561193466187\n",
            "Epoch: 106, Loss: 3.706583023071289\n",
            "Hits@1: 0.23282678425312042\n",
            "Epoch: 107, Loss: 3.7038190364837646\n",
            "Hits@1: 0.23498375713825226\n",
            "Epoch: 108, Loss: 3.701080322265625\n",
            "Hits@1: 0.23523177206516266\n",
            "Epoch: 109, Loss: 3.69836688041687\n",
            "Hits@1: 0.23478084802627563\n",
            "Epoch: 110, Loss: 3.695678472518921\n",
            "Hits@1: 0.23549482226371765\n",
            "Epoch: 111, Loss: 3.6930148601531982\n",
            "Hits@1: 0.23578794300556183\n",
            "Epoch: 112, Loss: 3.6903750896453857\n",
            "Hits@1: 0.23695285618305206\n",
            "Epoch: 113, Loss: 3.687758445739746\n",
            "Hits@1: 0.23721590638160706\n",
            "Epoch: 114, Loss: 3.6851651668548584\n",
            "Hits@1: 0.23726099729537964\n",
            "Epoch: 115, Loss: 3.6825950145721436\n",
            "Hits@1: 0.23774200677871704\n",
            "Epoch: 116, Loss: 3.680046796798706\n",
            "Hits@1: 0.23848605155944824\n",
            "Epoch: 117, Loss: 3.677521228790283\n",
            "Hits@1: 0.23946307599544525\n",
            "Epoch: 118, Loss: 3.6750168800354004\n",
            "Hits@1: 0.23876412212848663\n",
            "Epoch: 119, Loss: 3.6725337505340576\n",
            "Hits@1: 0.24095118045806885\n",
            "Epoch: 120, Loss: 3.670072078704834\n",
            "Hits@1: 0.24070316553115845\n",
            "Epoch: 121, Loss: 3.667630910873413\n",
            "Hits@1: 0.24118416011333466\n",
            "Epoch: 122, Loss: 3.665210008621216\n",
            "Hits@1: 0.24195827543735504\n",
            "Epoch: 123, Loss: 3.662808895111084\n",
            "Hits@1: 0.24201840162277222\n",
            "Epoch: 124, Loss: 3.660428524017334\n",
            "Hits@1: 0.24246934056282043\n",
            "Epoch: 125, Loss: 3.658066987991333\n",
            "Hits@1: 0.24440836906433105\n",
            "Epoch: 126, Loss: 3.6557250022888184\n",
            "Hits@1: 0.24537037312984467\n",
            "Epoch: 127, Loss: 3.6534011363983154\n",
            "Hits@1: 0.24519750475883484\n",
            "Epoch: 128, Loss: 3.6510963439941406\n",
            "Hits@1: 0.24494948983192444\n",
            "Epoch: 129, Loss: 3.6488094329833984\n",
            "Hits@1: 0.24589645862579346\n",
            "Epoch: 130, Loss: 3.646541118621826\n",
            "Hits@1: 0.24783548712730408\n",
            "Epoch: 131, Loss: 3.644289970397949\n",
            "Hits@1: 0.24667057394981384\n",
            "Epoch: 132, Loss: 3.642056941986084\n",
            "Hits@1: 0.24812860786914825\n",
            "Epoch: 133, Loss: 3.639840602874756\n",
            "Hits@1: 0.25005263090133667\n",
            "Epoch: 134, Loss: 3.637641429901123\n",
            "Hits@1: 0.24840667843818665\n",
            "Epoch: 135, Loss: 3.6354587078094482\n",
            "Hits@1: 0.24893277883529663\n",
            "Epoch: 136, Loss: 3.6332929134368896\n",
            "Hits@1: 0.25062379240989685\n",
            "Epoch: 137, Loss: 3.631143569946289\n",
            "Hits@1: 0.25139790773391724\n",
            "Epoch: 138, Loss: 3.62900972366333\n",
            "Hits@1: 0.25181880593299866\n",
            "Epoch: 139, Loss: 3.626891851425171\n",
            "Hits@1: 0.25163090229034424\n",
            "Epoch: 140, Loss: 3.6247894763946533\n",
            "Hits@1: 0.2527958154678345\n",
            "Epoch: 141, Loss: 3.6227023601531982\n",
            "Hits@1: 0.25260791182518005\n",
            "Epoch: 142, Loss: 3.6206307411193848\n",
            "Hits@1: 0.25288599729537964\n",
            "Epoch: 143, Loss: 3.6185741424560547\n",
            "Hits@1: 0.25263798236846924\n",
            "Epoch: 144, Loss: 3.616532802581787\n",
            "Hits@1: 0.25290101766586304\n",
            "Epoch: 145, Loss: 3.6145050525665283\n",
            "Hits@1: 0.25384798645973206\n",
            "Epoch: 146, Loss: 3.6124918460845947\n",
            "Hits@1: 0.25409600138664246\n",
            "Epoch: 147, Loss: 3.610492706298828\n",
            "Hits@1: 0.25384798645973206\n",
            "Epoch: 148, Loss: 3.6085078716278076\n",
            "Hits@1: 0.25481000542640686\n",
            "Epoch: 149, Loss: 3.606536626815796\n",
            "Hits@1: 0.25606513023376465\n",
            "Epoch: 150, Loss: 3.604579448699951\n",
            "Hits@1: 0.25583213567733765\n",
            "Epoch: 151, Loss: 3.602634906768799\n",
            "Hits@1: 0.25729015469551086\n",
            "Epoch: 152, Loss: 3.6007046699523926\n",
            "Hits@1: 0.25930434465408325\n",
            "Epoch: 153, Loss: 3.5987865924835205\n",
            "Hits@1: 0.2581093907356262\n",
            "Epoch: 154, Loss: 3.5968825817108154\n",
            "Hits@1: 0.25998827815055847\n",
            "Epoch: 155, Loss: 3.5949904918670654\n",
            "Hits@1: 0.26004838943481445\n",
            "Epoch: 156, Loss: 3.593111038208008\n",
            "Hits@1: 0.26077741384506226\n",
            "Epoch: 157, Loss: 3.5912444591522217\n",
            "Hits@1: 0.26127347350120544\n",
            "Epoch: 158, Loss: 3.5893895626068115\n",
            "Hits@1: 0.26226553320884705\n",
            "Epoch: 159, Loss: 3.5875473022460938\n",
            "Hits@1: 0.26299452781677246\n",
            "Epoch: 160, Loss: 3.585716962814331\n",
            "Hits@1: 0.26279157400131226\n",
            "Epoch: 161, Loss: 3.5838990211486816\n",
            "Hits@1: 0.26279157400131226\n",
            "Epoch: 162, Loss: 3.582092046737671\n",
            "Hits@1: 0.26373857259750366\n",
            "Epoch: 163, Loss: 3.5802972316741943\n",
            "Hits@1: 0.2639565169811249\n",
            "Epoch: 164, Loss: 3.5785131454467773\n",
            "Hits@1: 0.26327261328697205\n",
            "Epoch: 165, Loss: 3.5767409801483154\n",
            "Hits@1: 0.26378366351127625\n",
            "Epoch: 166, Loss: 3.574979782104492\n",
            "Hits@1: 0.26426467299461365\n",
            "Epoch: 167, Loss: 3.573230266571045\n",
            "Hits@1: 0.26473063230514526\n",
            "Epoch: 168, Loss: 3.5714919567108154\n",
            "Hits@1: 0.26500871777534485\n",
            "Epoch: 169, Loss: 3.56976318359375\n",
            "Hits@1: 0.26575276255607605\n",
            "Epoch: 170, Loss: 3.5680456161499023\n",
            "Hits@1: 0.26597070693969727\n",
            "Epoch: 171, Loss: 3.566338300704956\n",
            "Hits@1: 0.26479077339172363\n",
            "Epoch: 172, Loss: 3.564641237258911\n",
            "Hits@1: 0.26572269201278687\n",
            "Epoch: 173, Loss: 3.562955141067505\n",
            "Hits@1: 0.26600077748298645\n",
            "Epoch: 174, Loss: 3.561279296875\n",
            "Hits@1: 0.26601579785346985\n",
            "Epoch: 175, Loss: 3.5596132278442383\n",
            "Hits@1: 0.26694777607917786\n",
            "Epoch: 176, Loss: 3.557957172393799\n",
            "Hits@1: 0.2658129036426544\n",
            "Epoch: 177, Loss: 3.5563111305236816\n",
            "Hits@1: 0.26700785756111145\n",
            "Epoch: 178, Loss: 3.5546746253967285\n",
            "Hits@1: 0.26677489280700684\n",
            "Epoch: 179, Loss: 3.5530478954315186\n",
            "Hits@1: 0.26727092266082764\n",
            "Epoch: 180, Loss: 3.5514309406280518\n",
            "Hits@1: 0.26820287108421326\n",
            "Epoch: 181, Loss: 3.549823045730591\n",
            "Hits@1: 0.26845088601112366\n",
            "Epoch: 182, Loss: 3.548224687576294\n",
            "Hits@1: 0.26967594027519226\n",
            "Epoch: 183, Loss: 3.546635150909424\n",
            "Hits@1: 0.26899197697639465\n",
            "Epoch: 184, Loss: 3.545055389404297\n",
            "Hits@1: 0.27020204067230225\n",
            "Epoch: 185, Loss: 3.5434844493865967\n",
            "Hits@1: 0.27045005559921265\n",
            "Epoch: 186, Loss: 3.541922092437744\n",
            "Hits@1: 0.2711489796638489\n",
            "Epoch: 187, Loss: 3.5403692722320557\n",
            "Hits@1: 0.26950305700302124\n",
            "Epoch: 188, Loss: 3.5388247966766357\n",
            "Hits@1: 0.2719080448150635\n",
            "Epoch: 189, Loss: 3.5372889041900635\n",
            "Hits@1: 0.27097612619400024\n",
            "Epoch: 190, Loss: 3.535762071609497\n",
            "Hits@1: 0.2728249728679657\n",
            "Epoch: 191, Loss: 3.5342438220977783\n",
            "Hits@1: 0.2735539972782135\n",
            "Epoch: 192, Loss: 3.532733201980591\n",
            "Hits@1: 0.27266713976860046\n",
            "Epoch: 193, Loss: 3.531231641769409\n",
            "Hits@1: 0.27243417501449585\n",
            "Epoch: 194, Loss: 3.5297374725341797\n",
            "Hits@1: 0.27125421166419983\n",
            "Epoch: 195, Loss: 3.528251886367798\n",
            "Hits@1: 0.2736441493034363\n",
            "Epoch: 196, Loss: 3.5267744064331055\n",
            "Hits@1: 0.27198323607444763\n",
            "Epoch: 197, Loss: 3.5253050327301025\n",
            "Hits@1: 0.27341118454933167\n",
            "Epoch: 198, Loss: 3.5238430500030518\n",
            "Hits@1: 0.27316316962242126\n",
            "Epoch: 199, Loss: 3.5223896503448486\n",
            "Hits@1: 0.27272728085517883\n",
            "hits@1: 0.273193, hits@5: 0.494596, hits@10: 0.620017, hits@20: 0.745994\n",
            "hits@50: 0.912262, hits@100: 0.988343\n",
            "map@1: 0.273193, map@5: 0.353884, map@10: 0.370921, map@20: 0.379537\n",
            "map@50: 0.384952, map@100: 0.386118\n",
            "ndcg@1: 0.273193, ndcg@5: 0.388871, ndcg@10: 0.429726, ndcg@20: 0.461415\n",
            "ndcg@50: 0.494625, ndcg@100: 0.507177\n"
          ]
        }
      ],
      "source": [
        "head_model = train2task()\n",
        "torch.save(head_model.state_dict(), 'node_dropout_only_infomax_model.pth')"
      ]
    },
    {
      "cell_type": "markdown",
      "metadata": {
        "id": "76Znxqtkhq-Q"
      },
      "source": [
        "### Edge dropout, only infomax"
      ]
    },
    {
      "cell_type": "code",
      "execution_count": null,
      "metadata": {
        "id": "ZWdS4JboiCUq"
      },
      "outputs": [],
      "source": [
        "# device = torch.device('cuda' if torch.cuda.is_available() else 'cpu')\n",
        "device = torch.device('cpu')\n",
        "model = DeepGraphInfomax(hidden_channels=128,\n",
        "                         encoder=Encoder(interm_channels=74, hidden_channels=128,\n",
        "                                         num_features=128),\n",
        "                         summary=lambda z, *args, **kwargs: torch.sigmoid(z.mean(dim=0)),\n",
        "                         corruption=edge_dropout).to(device)\n",
        "linkmodel = LinkPredHead()\n",
        "optimizer = torch.optim.AdamW(model.parameters(), lr=0.0005)\n",
        "loss_bce = nn.BCEWithLogitsLoss()"
      ]
    },
    {
      "cell_type": "code",
      "execution_count": null,
      "metadata": {
        "colab": {
          "base_uri": "https://localhost:8080/"
        },
        "id": "4i9IQJ_SiCUz",
        "outputId": "5a490645-16ed-484c-f615-fd6789ad5c25"
      },
      "outputs": [
        {
          "output_type": "stream",
          "name": "stderr",
          "text": [
            "  1%|          | 1/100 [00:08<14:41,  8.90s/it]"
          ]
        },
        {
          "output_type": "stream",
          "name": "stdout",
          "text": [
            "Epoch: 1, Loss: 1.5315818786621094\n"
          ]
        },
        {
          "output_type": "stream",
          "name": "stderr",
          "text": [
            "\r  2%|▏         | 2/100 [00:14<11:28,  7.03s/it]"
          ]
        },
        {
          "output_type": "stream",
          "name": "stdout",
          "text": [
            "Epoch: 2, Loss: 1.4307504892349243\n"
          ]
        },
        {
          "output_type": "stream",
          "name": "stderr",
          "text": [
            "\r  3%|▎         | 3/100 [00:21<11:01,  6.82s/it]"
          ]
        },
        {
          "output_type": "stream",
          "name": "stdout",
          "text": [
            "Epoch: 3, Loss: 1.450163722038269\n"
          ]
        },
        {
          "output_type": "stream",
          "name": "stderr",
          "text": [
            "\r  4%|▍         | 4/100 [00:27<10:23,  6.49s/it]"
          ]
        },
        {
          "output_type": "stream",
          "name": "stdout",
          "text": [
            "Epoch: 4, Loss: 1.3130885362625122\n"
          ]
        },
        {
          "output_type": "stream",
          "name": "stderr",
          "text": [
            "\r  5%|▌         | 5/100 [00:33<09:57,  6.29s/it]"
          ]
        },
        {
          "output_type": "stream",
          "name": "stdout",
          "text": [
            "Epoch: 5, Loss: 1.4555678367614746\n"
          ]
        },
        {
          "output_type": "stream",
          "name": "stderr",
          "text": [
            "\r  6%|▌         | 6/100 [00:39<09:54,  6.32s/it]"
          ]
        },
        {
          "output_type": "stream",
          "name": "stdout",
          "text": [
            "Epoch: 6, Loss: 1.3451616764068604\n"
          ]
        },
        {
          "output_type": "stream",
          "name": "stderr",
          "text": [
            "\r  7%|▋         | 7/100 [00:45<09:24,  6.07s/it]"
          ]
        },
        {
          "output_type": "stream",
          "name": "stdout",
          "text": [
            "Epoch: 7, Loss: 1.2964013814926147\n"
          ]
        },
        {
          "output_type": "stream",
          "name": "stderr",
          "text": [
            "\r  8%|▊         | 8/100 [00:51<09:42,  6.33s/it]"
          ]
        },
        {
          "output_type": "stream",
          "name": "stdout",
          "text": [
            "Epoch: 8, Loss: 1.3289048671722412\n"
          ]
        },
        {
          "output_type": "stream",
          "name": "stderr",
          "text": [
            "\r  9%|▉         | 9/100 [00:57<09:17,  6.12s/it]"
          ]
        },
        {
          "output_type": "stream",
          "name": "stdout",
          "text": [
            "Epoch: 9, Loss: 1.3488438129425049\n"
          ]
        },
        {
          "output_type": "stream",
          "name": "stderr",
          "text": [
            "\r 10%|█         | 10/100 [01:04<09:29,  6.33s/it]"
          ]
        },
        {
          "output_type": "stream",
          "name": "stdout",
          "text": [
            "Epoch: 10, Loss: 1.4355223178863525\n"
          ]
        },
        {
          "output_type": "stream",
          "name": "stderr",
          "text": [
            "\r 11%|█         | 11/100 [01:10<09:05,  6.13s/it]"
          ]
        },
        {
          "output_type": "stream",
          "name": "stdout",
          "text": [
            "Epoch: 11, Loss: 1.3512799739837646\n"
          ]
        },
        {
          "output_type": "stream",
          "name": "stderr",
          "text": [
            "\r 12%|█▏        | 12/100 [01:16<08:59,  6.14s/it]"
          ]
        },
        {
          "output_type": "stream",
          "name": "stdout",
          "text": [
            "Epoch: 12, Loss: 1.3199876546859741\n"
          ]
        },
        {
          "output_type": "stream",
          "name": "stderr",
          "text": [
            "\r 13%|█▎        | 13/100 [01:22<08:58,  6.19s/it]"
          ]
        },
        {
          "output_type": "stream",
          "name": "stdout",
          "text": [
            "Epoch: 13, Loss: 1.2901902198791504\n"
          ]
        },
        {
          "output_type": "stream",
          "name": "stderr",
          "text": [
            "\r 14%|█▍        | 14/100 [01:28<08:38,  6.03s/it]"
          ]
        },
        {
          "output_type": "stream",
          "name": "stdout",
          "text": [
            "Epoch: 14, Loss: 1.3807094097137451\n"
          ]
        },
        {
          "output_type": "stream",
          "name": "stderr",
          "text": [
            "\r 15%|█▌        | 15/100 [01:36<09:31,  6.73s/it]"
          ]
        },
        {
          "output_type": "stream",
          "name": "stdout",
          "text": [
            "Epoch: 15, Loss: 1.323075771331787\n"
          ]
        },
        {
          "output_type": "stream",
          "name": "stderr",
          "text": [
            "\r 16%|█▌        | 16/100 [01:42<08:55,  6.37s/it]"
          ]
        },
        {
          "output_type": "stream",
          "name": "stdout",
          "text": [
            "Epoch: 16, Loss: 1.3552299737930298\n"
          ]
        },
        {
          "output_type": "stream",
          "name": "stderr",
          "text": [
            "\r 17%|█▋        | 17/100 [01:49<09:02,  6.54s/it]"
          ]
        },
        {
          "output_type": "stream",
          "name": "stdout",
          "text": [
            "Epoch: 17, Loss: 1.2928330898284912\n"
          ]
        },
        {
          "output_type": "stream",
          "name": "stderr",
          "text": [
            "\r 18%|█▊        | 18/100 [01:54<08:32,  6.25s/it]"
          ]
        },
        {
          "output_type": "stream",
          "name": "stdout",
          "text": [
            "Epoch: 18, Loss: 1.188621997833252\n"
          ]
        },
        {
          "output_type": "stream",
          "name": "stderr",
          "text": [
            "\r 19%|█▉        | 19/100 [02:00<08:22,  6.20s/it]"
          ]
        },
        {
          "output_type": "stream",
          "name": "stdout",
          "text": [
            "Epoch: 19, Loss: 1.235265851020813\n"
          ]
        },
        {
          "output_type": "stream",
          "name": "stderr",
          "text": [
            "\r 20%|██        | 20/100 [02:07<08:20,  6.25s/it]"
          ]
        },
        {
          "output_type": "stream",
          "name": "stdout",
          "text": [
            "Epoch: 20, Loss: 1.3095481395721436\n"
          ]
        },
        {
          "output_type": "stream",
          "name": "stderr",
          "text": [
            "\r 21%|██        | 21/100 [02:12<08:00,  6.08s/it]"
          ]
        },
        {
          "output_type": "stream",
          "name": "stdout",
          "text": [
            "Epoch: 21, Loss: 1.3086782693862915\n"
          ]
        },
        {
          "output_type": "stream",
          "name": "stderr",
          "text": [
            "\r 22%|██▏       | 22/100 [02:19<08:11,  6.30s/it]"
          ]
        },
        {
          "output_type": "stream",
          "name": "stdout",
          "text": [
            "Epoch: 22, Loss: 1.2790441513061523\n"
          ]
        },
        {
          "output_type": "stream",
          "name": "stderr",
          "text": [
            "\r 23%|██▎       | 23/100 [02:25<07:50,  6.11s/it]"
          ]
        },
        {
          "output_type": "stream",
          "name": "stdout",
          "text": [
            "Epoch: 23, Loss: 1.1856164932250977\n"
          ]
        },
        {
          "output_type": "stream",
          "name": "stderr",
          "text": [
            "\r 24%|██▍       | 24/100 [02:32<08:03,  6.36s/it]"
          ]
        },
        {
          "output_type": "stream",
          "name": "stdout",
          "text": [
            "Epoch: 24, Loss: 1.227426290512085\n"
          ]
        },
        {
          "output_type": "stream",
          "name": "stderr",
          "text": [
            "\r 25%|██▌       | 25/100 [02:37<07:40,  6.15s/it]"
          ]
        },
        {
          "output_type": "stream",
          "name": "stdout",
          "text": [
            "Epoch: 25, Loss: 1.2669401168823242\n"
          ]
        },
        {
          "output_type": "stream",
          "name": "stderr",
          "text": [
            "\r 26%|██▌       | 26/100 [02:44<07:43,  6.26s/it]"
          ]
        },
        {
          "output_type": "stream",
          "name": "stdout",
          "text": [
            "Epoch: 26, Loss: 1.163386583328247\n"
          ]
        },
        {
          "output_type": "stream",
          "name": "stderr",
          "text": [
            "\r 27%|██▋       | 27/100 [02:50<07:26,  6.12s/it]"
          ]
        },
        {
          "output_type": "stream",
          "name": "stdout",
          "text": [
            "Epoch: 27, Loss: 1.1860742568969727\n"
          ]
        },
        {
          "output_type": "stream",
          "name": "stderr",
          "text": [
            "\r 28%|██▊       | 28/100 [02:56<07:15,  6.05s/it]"
          ]
        },
        {
          "output_type": "stream",
          "name": "stdout",
          "text": [
            "Epoch: 28, Loss: 1.1444859504699707\n"
          ]
        },
        {
          "output_type": "stream",
          "name": "stderr",
          "text": [
            "\r 29%|██▉       | 29/100 [03:02<07:21,  6.21s/it]"
          ]
        },
        {
          "output_type": "stream",
          "name": "stdout",
          "text": [
            "Epoch: 29, Loss: 1.0480680465698242\n"
          ]
        },
        {
          "output_type": "stream",
          "name": "stderr",
          "text": [
            "\r 30%|███       | 30/100 [03:08<07:01,  6.03s/it]"
          ]
        },
        {
          "output_type": "stream",
          "name": "stdout",
          "text": [
            "Epoch: 30, Loss: 1.0864105224609375\n"
          ]
        },
        {
          "output_type": "stream",
          "name": "stderr",
          "text": [
            "\r 31%|███       | 31/100 [03:15<07:13,  6.28s/it]"
          ]
        },
        {
          "output_type": "stream",
          "name": "stdout",
          "text": [
            "Epoch: 31, Loss: 1.1932272911071777\n"
          ]
        },
        {
          "output_type": "stream",
          "name": "stderr",
          "text": [
            "\r 32%|███▏      | 32/100 [03:20<06:51,  6.05s/it]"
          ]
        },
        {
          "output_type": "stream",
          "name": "stdout",
          "text": [
            "Epoch: 32, Loss: 1.0998951196670532\n"
          ]
        },
        {
          "output_type": "stream",
          "name": "stderr",
          "text": [
            "\r 33%|███▎      | 33/100 [03:27<07:03,  6.32s/it]"
          ]
        },
        {
          "output_type": "stream",
          "name": "stdout",
          "text": [
            "Epoch: 33, Loss: 0.9680413603782654\n"
          ]
        },
        {
          "output_type": "stream",
          "name": "stderr",
          "text": [
            "\r 34%|███▍      | 34/100 [03:33<06:42,  6.10s/it]"
          ]
        },
        {
          "output_type": "stream",
          "name": "stdout",
          "text": [
            "Epoch: 34, Loss: 1.1599860191345215\n"
          ]
        },
        {
          "output_type": "stream",
          "name": "stderr",
          "text": [
            "\r 35%|███▌      | 35/100 [03:39<06:36,  6.10s/it]"
          ]
        },
        {
          "output_type": "stream",
          "name": "stdout",
          "text": [
            "Epoch: 35, Loss: 0.8700605630874634\n"
          ]
        },
        {
          "output_type": "stream",
          "name": "stderr",
          "text": [
            "\r 36%|███▌      | 36/100 [03:45<06:38,  6.23s/it]"
          ]
        },
        {
          "output_type": "stream",
          "name": "stdout",
          "text": [
            "Epoch: 36, Loss: 0.9803987145423889\n"
          ]
        },
        {
          "output_type": "stream",
          "name": "stderr",
          "text": [
            "\r 37%|███▋      | 37/100 [03:52<06:47,  6.47s/it]"
          ]
        },
        {
          "output_type": "stream",
          "name": "stdout",
          "text": [
            "Epoch: 37, Loss: 0.9227088689804077\n"
          ]
        },
        {
          "output_type": "stream",
          "name": "stderr",
          "text": [
            "\r 38%|███▊      | 38/100 [03:59<06:40,  6.46s/it]"
          ]
        },
        {
          "output_type": "stream",
          "name": "stdout",
          "text": [
            "Epoch: 38, Loss: 0.983038604259491\n"
          ]
        },
        {
          "output_type": "stream",
          "name": "stderr",
          "text": [
            "\r 39%|███▉      | 39/100 [04:04<06:21,  6.25s/it]"
          ]
        },
        {
          "output_type": "stream",
          "name": "stdout",
          "text": [
            "Epoch: 39, Loss: 1.0280659198760986\n"
          ]
        },
        {
          "output_type": "stream",
          "name": "stderr",
          "text": [
            "\r 40%|████      | 40/100 [04:11<06:28,  6.47s/it]"
          ]
        },
        {
          "output_type": "stream",
          "name": "stdout",
          "text": [
            "Epoch: 40, Loss: 0.8215065598487854\n"
          ]
        },
        {
          "output_type": "stream",
          "name": "stderr",
          "text": [
            "\r 41%|████      | 41/100 [04:17<06:08,  6.25s/it]"
          ]
        },
        {
          "output_type": "stream",
          "name": "stdout",
          "text": [
            "Epoch: 41, Loss: 0.827405571937561\n"
          ]
        },
        {
          "output_type": "stream",
          "name": "stderr",
          "text": [
            "\r 42%|████▏     | 42/100 [04:24<06:14,  6.45s/it]"
          ]
        },
        {
          "output_type": "stream",
          "name": "stdout",
          "text": [
            "Epoch: 42, Loss: 0.8928031325340271\n"
          ]
        },
        {
          "output_type": "stream",
          "name": "stderr",
          "text": [
            "\r 43%|████▎     | 43/100 [04:30<05:53,  6.20s/it]"
          ]
        },
        {
          "output_type": "stream",
          "name": "stdout",
          "text": [
            "Epoch: 43, Loss: 0.807645320892334\n"
          ]
        },
        {
          "output_type": "stream",
          "name": "stderr",
          "text": [
            "\r 44%|████▍     | 44/100 [04:36<05:54,  6.34s/it]"
          ]
        },
        {
          "output_type": "stream",
          "name": "stdout",
          "text": [
            "Epoch: 44, Loss: 0.7820622324943542\n"
          ]
        },
        {
          "output_type": "stream",
          "name": "stderr",
          "text": [
            "\r 45%|████▌     | 45/100 [04:42<05:40,  6.19s/it]"
          ]
        },
        {
          "output_type": "stream",
          "name": "stdout",
          "text": [
            "Epoch: 45, Loss: 0.6725160479545593\n"
          ]
        },
        {
          "output_type": "stream",
          "name": "stderr",
          "text": [
            "\r 46%|████▌     | 46/100 [04:48<05:29,  6.10s/it]"
          ]
        },
        {
          "output_type": "stream",
          "name": "stdout",
          "text": [
            "Epoch: 46, Loss: 0.7326535582542419\n"
          ]
        },
        {
          "output_type": "stream",
          "name": "stderr",
          "text": [
            "\r 47%|████▋     | 47/100 [04:55<05:31,  6.25s/it]"
          ]
        },
        {
          "output_type": "stream",
          "name": "stdout",
          "text": [
            "Epoch: 47, Loss: 0.7734333276748657\n"
          ]
        },
        {
          "output_type": "stream",
          "name": "stderr",
          "text": [
            "\r 48%|████▊     | 48/100 [05:00<05:15,  6.07s/it]"
          ]
        },
        {
          "output_type": "stream",
          "name": "stdout",
          "text": [
            "Epoch: 48, Loss: 0.9913886785507202\n"
          ]
        },
        {
          "output_type": "stream",
          "name": "stderr",
          "text": [
            "\r 49%|████▉     | 49/100 [05:07<05:22,  6.33s/it]"
          ]
        },
        {
          "output_type": "stream",
          "name": "stdout",
          "text": [
            "Epoch: 49, Loss: 0.8644290566444397\n"
          ]
        },
        {
          "output_type": "stream",
          "name": "stderr",
          "text": [
            "\r 50%|█████     | 50/100 [05:13<05:06,  6.12s/it]"
          ]
        },
        {
          "output_type": "stream",
          "name": "stdout",
          "text": [
            "Epoch: 50, Loss: 0.7474942207336426\n"
          ]
        },
        {
          "output_type": "stream",
          "name": "stderr",
          "text": [
            "\r 51%|█████     | 51/100 [05:20<05:11,  6.36s/it]"
          ]
        },
        {
          "output_type": "stream",
          "name": "stdout",
          "text": [
            "Epoch: 51, Loss: 0.7413913607597351\n"
          ]
        },
        {
          "output_type": "stream",
          "name": "stderr",
          "text": [
            "\r 52%|█████▏    | 52/100 [05:26<04:55,  6.15s/it]"
          ]
        },
        {
          "output_type": "stream",
          "name": "stdout",
          "text": [
            "Epoch: 52, Loss: 0.7447165846824646\n"
          ]
        },
        {
          "output_type": "stream",
          "name": "stderr",
          "text": [
            "\r 53%|█████▎    | 53/100 [05:32<04:50,  6.19s/it]"
          ]
        },
        {
          "output_type": "stream",
          "name": "stdout",
          "text": [
            "Epoch: 53, Loss: 0.7733690738677979\n"
          ]
        },
        {
          "output_type": "stream",
          "name": "stderr",
          "text": [
            "\r 54%|█████▍    | 54/100 [05:38<04:45,  6.20s/it]"
          ]
        },
        {
          "output_type": "stream",
          "name": "stdout",
          "text": [
            "Epoch: 54, Loss: 0.7040135264396667\n"
          ]
        },
        {
          "output_type": "stream",
          "name": "stderr",
          "text": [
            "\r 55%|█████▌    | 55/100 [05:44<04:31,  6.03s/it]"
          ]
        },
        {
          "output_type": "stream",
          "name": "stdout",
          "text": [
            "Epoch: 55, Loss: 0.6966257095336914\n"
          ]
        },
        {
          "output_type": "stream",
          "name": "stderr",
          "text": [
            "\r 56%|█████▌    | 56/100 [05:51<04:37,  6.31s/it]"
          ]
        },
        {
          "output_type": "stream",
          "name": "stdout",
          "text": [
            "Epoch: 56, Loss: 0.7589700222015381\n"
          ]
        },
        {
          "output_type": "stream",
          "name": "stderr",
          "text": [
            "\r 57%|█████▋    | 57/100 [05:56<04:21,  6.09s/it]"
          ]
        },
        {
          "output_type": "stream",
          "name": "stdout",
          "text": [
            "Epoch: 57, Loss: 0.6942002773284912\n"
          ]
        },
        {
          "output_type": "stream",
          "name": "stderr",
          "text": [
            "\r 58%|█████▊    | 58/100 [06:04<04:34,  6.54s/it]"
          ]
        },
        {
          "output_type": "stream",
          "name": "stdout",
          "text": [
            "Epoch: 58, Loss: 0.6957862377166748\n"
          ]
        },
        {
          "output_type": "stream",
          "name": "stderr",
          "text": [
            "\r 59%|█████▉    | 59/100 [06:10<04:26,  6.49s/it]"
          ]
        },
        {
          "output_type": "stream",
          "name": "stdout",
          "text": [
            "Epoch: 59, Loss: 0.6682083606719971\n"
          ]
        },
        {
          "output_type": "stream",
          "name": "stderr",
          "text": [
            "\r 60%|██████    | 60/100 [06:16<04:08,  6.20s/it]"
          ]
        },
        {
          "output_type": "stream",
          "name": "stdout",
          "text": [
            "Epoch: 60, Loss: 0.7383553981781006\n"
          ]
        },
        {
          "output_type": "stream",
          "name": "stderr",
          "text": [
            "\r 61%|██████    | 61/100 [06:23<04:11,  6.46s/it]"
          ]
        },
        {
          "output_type": "stream",
          "name": "stdout",
          "text": [
            "Epoch: 61, Loss: 0.6952181458473206\n"
          ]
        },
        {
          "output_type": "stream",
          "name": "stderr",
          "text": [
            "\r 62%|██████▏   | 62/100 [06:28<03:55,  6.20s/it]"
          ]
        },
        {
          "output_type": "stream",
          "name": "stdout",
          "text": [
            "Epoch: 62, Loss: 0.679351270198822\n"
          ]
        },
        {
          "output_type": "stream",
          "name": "stderr",
          "text": [
            "\r 63%|██████▎   | 63/100 [06:35<03:57,  6.42s/it]"
          ]
        },
        {
          "output_type": "stream",
          "name": "stdout",
          "text": [
            "Epoch: 63, Loss: 0.6721837520599365\n"
          ]
        },
        {
          "output_type": "stream",
          "name": "stderr",
          "text": [
            "\r 64%|██████▍   | 64/100 [06:41<03:42,  6.17s/it]"
          ]
        },
        {
          "output_type": "stream",
          "name": "stdout",
          "text": [
            "Epoch: 64, Loss: 0.6837379932403564\n"
          ]
        },
        {
          "output_type": "stream",
          "name": "stderr",
          "text": [
            "\r 65%|██████▌   | 65/100 [06:47<03:40,  6.29s/it]"
          ]
        },
        {
          "output_type": "stream",
          "name": "stdout",
          "text": [
            "Epoch: 65, Loss: 0.7463153600692749\n"
          ]
        },
        {
          "output_type": "stream",
          "name": "stderr",
          "text": [
            "\r 66%|██████▌   | 66/100 [06:53<03:30,  6.18s/it]"
          ]
        },
        {
          "output_type": "stream",
          "name": "stdout",
          "text": [
            "Epoch: 66, Loss: 0.8935039043426514\n"
          ]
        },
        {
          "output_type": "stream",
          "name": "stderr",
          "text": [
            "\r 67%|██████▋   | 67/100 [06:59<03:20,  6.06s/it]"
          ]
        },
        {
          "output_type": "stream",
          "name": "stdout",
          "text": [
            "Epoch: 67, Loss: 0.5790199041366577\n"
          ]
        },
        {
          "output_type": "stream",
          "name": "stderr",
          "text": [
            "\r 68%|██████▊   | 68/100 [07:06<03:17,  6.18s/it]"
          ]
        },
        {
          "output_type": "stream",
          "name": "stdout",
          "text": [
            "Epoch: 68, Loss: 0.6081664562225342\n"
          ]
        },
        {
          "output_type": "stream",
          "name": "stderr",
          "text": [
            "\r 69%|██████▉   | 69/100 [07:11<03:06,  6.02s/it]"
          ]
        },
        {
          "output_type": "stream",
          "name": "stdout",
          "text": [
            "Epoch: 69, Loss: 0.6213963627815247\n"
          ]
        },
        {
          "output_type": "stream",
          "name": "stderr",
          "text": [
            "\r 70%|███████   | 70/100 [07:18<03:07,  6.26s/it]"
          ]
        },
        {
          "output_type": "stream",
          "name": "stdout",
          "text": [
            "Epoch: 70, Loss: 0.8244941234588623\n"
          ]
        },
        {
          "output_type": "stream",
          "name": "stderr",
          "text": [
            "\r 71%|███████   | 71/100 [07:24<02:56,  6.07s/it]"
          ]
        },
        {
          "output_type": "stream",
          "name": "stdout",
          "text": [
            "Epoch: 71, Loss: 0.6187937259674072\n"
          ]
        },
        {
          "output_type": "stream",
          "name": "stderr",
          "text": [
            "\r 72%|███████▏  | 72/100 [07:31<02:57,  6.32s/it]"
          ]
        },
        {
          "output_type": "stream",
          "name": "stdout",
          "text": [
            "Epoch: 72, Loss: 0.601722002029419\n"
          ]
        },
        {
          "output_type": "stream",
          "name": "stderr",
          "text": [
            "\r 73%|███████▎  | 73/100 [07:36<02:45,  6.12s/it]"
          ]
        },
        {
          "output_type": "stream",
          "name": "stdout",
          "text": [
            "Epoch: 73, Loss: 0.5183278322219849\n"
          ]
        },
        {
          "output_type": "stream",
          "name": "stderr",
          "text": [
            "\r 74%|███████▍  | 74/100 [07:42<02:39,  6.15s/it]"
          ]
        },
        {
          "output_type": "stream",
          "name": "stdout",
          "text": [
            "Epoch: 74, Loss: 0.6255543231964111\n"
          ]
        },
        {
          "output_type": "stream",
          "name": "stderr",
          "text": [
            "\r 75%|███████▌  | 75/100 [07:49<02:34,  6.16s/it]"
          ]
        },
        {
          "output_type": "stream",
          "name": "stdout",
          "text": [
            "Epoch: 75, Loss: 0.7441462278366089\n"
          ]
        },
        {
          "output_type": "stream",
          "name": "stderr",
          "text": [
            "\r 76%|███████▌  | 76/100 [07:54<02:23,  5.99s/it]"
          ]
        },
        {
          "output_type": "stream",
          "name": "stdout",
          "text": [
            "Epoch: 76, Loss: 0.592313289642334\n"
          ]
        },
        {
          "output_type": "stream",
          "name": "stderr",
          "text": [
            "\r 77%|███████▋  | 77/100 [08:01<02:23,  6.25s/it]"
          ]
        },
        {
          "output_type": "stream",
          "name": "stdout",
          "text": [
            "Epoch: 77, Loss: 0.6758454442024231\n"
          ]
        },
        {
          "output_type": "stream",
          "name": "stderr",
          "text": [
            "\r 78%|███████▊  | 78/100 [08:07<02:14,  6.09s/it]"
          ]
        },
        {
          "output_type": "stream",
          "name": "stdout",
          "text": [
            "Epoch: 78, Loss: 0.6430345773696899\n"
          ]
        },
        {
          "output_type": "stream",
          "name": "stderr",
          "text": [
            "\r 79%|███████▉  | 79/100 [08:14<02:17,  6.54s/it]"
          ]
        },
        {
          "output_type": "stream",
          "name": "stdout",
          "text": [
            "Epoch: 79, Loss: 0.5575236082077026\n"
          ]
        },
        {
          "output_type": "stream",
          "name": "stderr",
          "text": [
            "\r 80%|████████  | 80/100 [08:21<02:09,  6.50s/it]"
          ]
        },
        {
          "output_type": "stream",
          "name": "stdout",
          "text": [
            "Epoch: 80, Loss: 0.6221998929977417\n"
          ]
        },
        {
          "output_type": "stream",
          "name": "stderr",
          "text": [
            "\r 81%|████████  | 81/100 [08:28<02:05,  6.62s/it]"
          ]
        },
        {
          "output_type": "stream",
          "name": "stdout",
          "text": [
            "Epoch: 81, Loss: 0.6545928716659546\n"
          ]
        },
        {
          "output_type": "stream",
          "name": "stderr",
          "text": [
            "\r 82%|████████▏ | 82/100 [08:33<01:53,  6.31s/it]"
          ]
        },
        {
          "output_type": "stream",
          "name": "stdout",
          "text": [
            "Epoch: 82, Loss: 0.662026047706604\n"
          ]
        },
        {
          "output_type": "stream",
          "name": "stderr",
          "text": [
            "\r 83%|████████▎ | 83/100 [08:40<01:47,  6.33s/it]"
          ]
        },
        {
          "output_type": "stream",
          "name": "stdout",
          "text": [
            "Epoch: 83, Loss: 0.6462627053260803\n"
          ]
        },
        {
          "output_type": "stream",
          "name": "stderr",
          "text": [
            "\r 84%|████████▍ | 84/100 [08:46<01:39,  6.24s/it]"
          ]
        },
        {
          "output_type": "stream",
          "name": "stdout",
          "text": [
            "Epoch: 84, Loss: 0.5960139632225037\n"
          ]
        },
        {
          "output_type": "stream",
          "name": "stderr",
          "text": [
            "\r 85%|████████▌ | 85/100 [08:51<01:30,  6.06s/it]"
          ]
        },
        {
          "output_type": "stream",
          "name": "stdout",
          "text": [
            "Epoch: 85, Loss: 0.6004881858825684\n"
          ]
        },
        {
          "output_type": "stream",
          "name": "stderr",
          "text": [
            "\r 86%|████████▌ | 86/100 [08:58<01:28,  6.30s/it]"
          ]
        },
        {
          "output_type": "stream",
          "name": "stdout",
          "text": [
            "Epoch: 86, Loss: 0.5678758025169373\n"
          ]
        },
        {
          "output_type": "stream",
          "name": "stderr",
          "text": [
            "\r 87%|████████▋ | 87/100 [09:04<01:19,  6.09s/it]"
          ]
        },
        {
          "output_type": "stream",
          "name": "stdout",
          "text": [
            "Epoch: 87, Loss: 0.5468395948410034\n"
          ]
        },
        {
          "output_type": "stream",
          "name": "stderr",
          "text": [
            "\r 88%|████████▊ | 88/100 [09:11<01:15,  6.32s/it]"
          ]
        },
        {
          "output_type": "stream",
          "name": "stdout",
          "text": [
            "Epoch: 88, Loss: 0.608731746673584\n"
          ]
        },
        {
          "output_type": "stream",
          "name": "stderr",
          "text": [
            "\r 89%|████████▉ | 89/100 [09:16<01:07,  6.12s/it]"
          ]
        },
        {
          "output_type": "stream",
          "name": "stdout",
          "text": [
            "Epoch: 89, Loss: 0.5690065026283264\n"
          ]
        },
        {
          "output_type": "stream",
          "name": "stderr",
          "text": [
            "\r 90%|█████████ | 90/100 [09:23<01:02,  6.21s/it]"
          ]
        },
        {
          "output_type": "stream",
          "name": "stdout",
          "text": [
            "Epoch: 90, Loss: 0.6468214392662048\n"
          ]
        },
        {
          "output_type": "stream",
          "name": "stderr",
          "text": [
            "\r 91%|█████████ | 91/100 [09:29<00:55,  6.12s/it]"
          ]
        },
        {
          "output_type": "stream",
          "name": "stdout",
          "text": [
            "Epoch: 91, Loss: 0.677240252494812\n"
          ]
        },
        {
          "output_type": "stream",
          "name": "stderr",
          "text": [
            "\r 92%|█████████▏| 92/100 [09:34<00:48,  6.02s/it]"
          ]
        },
        {
          "output_type": "stream",
          "name": "stdout",
          "text": [
            "Epoch: 92, Loss: 0.5484325885772705\n"
          ]
        },
        {
          "output_type": "stream",
          "name": "stderr",
          "text": [
            "\r 93%|█████████▎| 93/100 [09:41<00:43,  6.20s/it]"
          ]
        },
        {
          "output_type": "stream",
          "name": "stdout",
          "text": [
            "Epoch: 93, Loss: 0.552706241607666\n"
          ]
        },
        {
          "output_type": "stream",
          "name": "stderr",
          "text": [
            "\r 94%|█████████▍| 94/100 [09:47<00:36,  6.01s/it]"
          ]
        },
        {
          "output_type": "stream",
          "name": "stdout",
          "text": [
            "Epoch: 94, Loss: 0.5386564135551453\n"
          ]
        },
        {
          "output_type": "stream",
          "name": "stderr",
          "text": [
            "\r 95%|█████████▌| 95/100 [09:53<00:31,  6.27s/it]"
          ]
        },
        {
          "output_type": "stream",
          "name": "stdout",
          "text": [
            "Epoch: 95, Loss: 0.4837915599346161\n"
          ]
        },
        {
          "output_type": "stream",
          "name": "stderr",
          "text": [
            "\r 96%|█████████▌| 96/100 [09:59<00:24,  6.08s/it]"
          ]
        },
        {
          "output_type": "stream",
          "name": "stdout",
          "text": [
            "Epoch: 96, Loss: 0.6473405957221985\n"
          ]
        },
        {
          "output_type": "stream",
          "name": "stderr",
          "text": [
            "\r 97%|█████████▋| 97/100 [10:06<00:18,  6.33s/it]"
          ]
        },
        {
          "output_type": "stream",
          "name": "stdout",
          "text": [
            "Epoch: 97, Loss: 0.6031897068023682\n"
          ]
        },
        {
          "output_type": "stream",
          "name": "stderr",
          "text": [
            "\r 98%|█████████▊| 98/100 [10:12<00:12,  6.13s/it]"
          ]
        },
        {
          "output_type": "stream",
          "name": "stdout",
          "text": [
            "Epoch: 98, Loss: 0.5901374220848083\n"
          ]
        },
        {
          "output_type": "stream",
          "name": "stderr",
          "text": [
            "\r 99%|█████████▉| 99/100 [10:18<00:06,  6.15s/it]"
          ]
        },
        {
          "output_type": "stream",
          "name": "stdout",
          "text": [
            "Epoch: 99, Loss: 0.5753174424171448\n"
          ]
        },
        {
          "output_type": "stream",
          "name": "stderr",
          "text": [
            "100%|██████████| 100/100 [10:24<00:00,  6.25s/it]"
          ]
        },
        {
          "output_type": "stream",
          "name": "stdout",
          "text": [
            "Epoch: 100, Loss: 0.5405212640762329\n"
          ]
        },
        {
          "output_type": "stream",
          "name": "stderr",
          "text": [
            "\n"
          ]
        }
      ],
      "source": [
        "num_epoch = 100\n",
        "loss_epoch = []\n",
        "for epoch in tqdm(range(1, num_epoch+1)):\n",
        "  if epoch == num_epoch:\n",
        "    pos_z, neg_z, summary, loss = train_only_infomax(epoch)\n",
        "  else:\n",
        "    loss = train_only_infomax(epoch)\n",
        "  loss_epoch.append(loss)\n",
        "test_pos_z, test_neg_z, test_summary = model(dataset.test_features, dataset.edge_index)"
      ]
    },
    {
      "cell_type": "code",
      "execution_count": null,
      "metadata": {
        "id": "w3Xu2FVfiCU0"
      },
      "outputs": [],
      "source": [
        "train_user_representations = {}\n",
        "test_user_representations = {}\n",
        "for i in range(pos_z.shape[0]):\n",
        "  train_user_representations[i] = (dataset.user_ids[i], pos_z[i].detach(), dataset.train_labels[i])\n",
        "for i in range(test_pos_z.shape[0]):\n",
        "  test_user_representations[i] = (dataset.user_ids[i], test_pos_z[i].detach(), dataset.test_labels[i])"
      ]
    },
    {
      "cell_type": "code",
      "execution_count": null,
      "metadata": {
        "id": "wIQc4D1piCU0"
      },
      "outputs": [],
      "source": [
        "user_dataset = UserDataset(train_user_representations)\n",
        "\n",
        "n = len(user_dataset)\n",
        "\n",
        "indices = np.arange(n)\n",
        "indices = np.random.permutation(indices)\n",
        "\n",
        "train_indices = indices [:int(0.8*n)]\n",
        "test_indices = indices[int(0.8*n):]\n",
        "\n",
        "user_train_dataset = Subset(user_dataset, train_indices)\n",
        "user_test_dataset = Subset(user_dataset, test_indices)\n",
        "\n",
        "user_train_dataloader = DataLoader(user_train_dataset, batch_size=64, shuffle=True)\n",
        "user_test_dataloader = DataLoader(user_test_dataset, batch_size=64, shuffle=True)"
      ]
    },
    {
      "cell_type": "code",
      "execution_count": null,
      "metadata": {
        "id": "H6EzO1GHiCU0"
      },
      "outputs": [],
      "source": [
        "num_classes = 186\n",
        "classes = np.arange(0, num_classes)"
      ]
    },
    {
      "cell_type": "code",
      "execution_count": null,
      "metadata": {
        "id": "fQeXwFsUiCU0",
        "colab": {
          "base_uri": "https://localhost:8080/"
        },
        "outputId": "cc9ae7e6-30d9-4185-db01-ad29e1ae795e"
      },
      "outputs": [
        {
          "output_type": "stream",
          "name": "stdout",
          "text": [
            "Epoch: 0, Loss: 4.957077503204346\n",
            "Hits@1: 0.09370490163564682\n",
            "Epoch: 1, Loss: 4.774438858032227\n",
            "Hits@1: 0.09492995589971542\n",
            "Epoch: 2, Loss: 4.651824951171875\n",
            "Hits@1: 0.09392286092042923\n",
            "Epoch: 3, Loss: 4.566333770751953\n",
            "Hits@1: 0.09395292401313782\n",
            "Epoch: 4, Loss: 4.503297328948975\n",
            "Hits@1: 0.09492995589971542\n",
            "Epoch: 5, Loss: 4.454209804534912\n",
            "Hits@1: 0.09891323745250702\n",
            "Epoch: 6, Loss: 4.414301872253418\n",
            "Hits@1: 0.100679412484169\n",
            "Epoch: 7, Loss: 4.380742073059082\n",
            "Hits@1: 0.10337752103805542\n",
            "Epoch: 8, Loss: 4.351809978485107\n",
            "Hits@1: 0.10560967028141022\n",
            "Epoch: 9, Loss: 4.326364517211914\n",
            "Hits@1: 0.1086159199476242\n",
            "Epoch: 10, Loss: 4.303642272949219\n",
            "Hits@1: 0.10935996472835541\n",
            "Epoch: 11, Loss: 4.283111572265625\n",
            "Hits@1: 0.11449314653873444\n",
            "Epoch: 12, Loss: 4.264362812042236\n",
            "Hits@1: 0.11751443147659302\n",
            "Epoch: 13, Loss: 4.247109889984131\n",
            "Hits@1: 0.11849146336317062\n",
            "Epoch: 14, Loss: 4.231112957000732\n",
            "Hits@1: 0.12124969810247421\n",
            "Epoch: 15, Loss: 4.216197490692139\n",
            "Hits@1: 0.12369979172945023\n",
            "Epoch: 16, Loss: 4.202218532562256\n",
            "Hits@1: 0.12495490163564682\n",
            "Epoch: 17, Loss: 4.189064025878906\n",
            "Hits@1: 0.12715698778629303\n",
            "Epoch: 18, Loss: 4.176632881164551\n",
            "Hits@1: 0.12791606783866882\n",
            "Epoch: 19, Loss: 4.164852142333984\n",
            "Hits@1: 0.13084715604782104\n",
            "Epoch: 20, Loss: 4.153652667999268\n",
            "Hits@1: 0.130426287651062\n",
            "Epoch: 21, Loss: 4.142974853515625\n",
            "Hits@1: 0.13386844098567963\n",
            "Epoch: 22, Loss: 4.132774829864502\n",
            "Hits@1: 0.13512355089187622\n",
            "Epoch: 23, Loss: 4.123010635375977\n",
            "Hits@1: 0.13780663907527924\n",
            "Epoch: 24, Loss: 4.113642692565918\n",
            "Hits@1: 0.13858073949813843\n",
            "Epoch: 25, Loss: 4.104638576507568\n",
            "Hits@1: 0.13985088467597961\n",
            "Epoch: 26, Loss: 4.095974922180176\n",
            "Hits@1: 0.14157196879386902\n",
            "Epoch: 27, Loss: 4.087619304656982\n",
            "Hits@1: 0.14470598101615906\n",
            "Epoch: 28, Loss: 4.0795512199401855\n",
            "Hits@1: 0.14628426730632782\n",
            "Epoch: 29, Loss: 4.071753025054932\n",
            "Hits@1: 0.14772726595401764\n",
            "Epoch: 30, Loss: 4.064204216003418\n",
            "Hits@1: 0.14923039078712463\n",
            "Epoch: 31, Loss: 4.0568928718566895\n",
            "Hits@1: 0.15048550069332123\n",
            "Epoch: 32, Loss: 4.049800395965576\n",
            "Hits@1: 0.15119948983192444\n",
            "Epoch: 33, Loss: 4.042911529541016\n",
            "Hits@1: 0.15445376932621002\n",
            "Epoch: 34, Loss: 4.036220550537109\n",
            "Hits@1: 0.1552278697490692\n",
            "Epoch: 35, Loss: 4.029716968536377\n",
            "Hits@1: 0.15618987381458282\n",
            "Epoch: 36, Loss: 4.023384094238281\n",
            "Hits@1: 0.15764790773391724\n",
            "Epoch: 37, Loss: 4.017215251922607\n",
            "Hits@1: 0.15913599729537964\n",
            "Epoch: 38, Loss: 4.011200904846191\n",
            "Hits@1: 0.15910594165325165\n",
            "Epoch: 39, Loss: 4.005335330963135\n",
            "Hits@1: 0.16062410175800323\n",
            "Epoch: 40, Loss: 3.9996097087860107\n",
            "Hits@1: 0.16065415740013123\n",
            "Epoch: 41, Loss: 3.9940178394317627\n",
            "Hits@1: 0.16138318181037903\n",
            "Epoch: 42, Loss: 3.988553762435913\n",
            "Hits@1: 0.16139820218086243\n",
            "Epoch: 43, Loss: 3.9832096099853516\n",
            "Hits@1: 0.16234517097473145\n",
            "Epoch: 44, Loss: 3.9779820442199707\n",
            "Hits@1: 0.16434434056282043\n",
            "Epoch: 45, Loss: 3.9728665351867676\n",
            "Hits@1: 0.16384829580783844\n",
            "Epoch: 46, Loss: 3.9678564071655273\n",
            "Hits@1: 0.16505831480026245\n",
            "Epoch: 47, Loss: 3.962949752807617\n",
            "Hits@1: 0.16508838534355164\n",
            "Epoch: 48, Loss: 3.9581403732299805\n",
            "Hits@1: 0.16561447083950043\n",
            "Epoch: 49, Loss: 3.9534220695495605\n",
            "Hits@1: 0.16853053867816925\n",
            "Epoch: 50, Loss: 3.9487955570220947\n",
            "Hits@1: 0.16806456446647644\n",
            "Epoch: 51, Loss: 3.944256067276001\n",
            "Hits@1: 0.16857562959194183\n",
            "Epoch: 52, Loss: 3.939797878265381\n",
            "Hits@1: 0.1696127951145172\n",
            "Epoch: 53, Loss: 3.9354212284088135\n",
            "Hits@1: 0.17197269201278687\n",
            "Epoch: 54, Loss: 3.9311227798461914\n",
            "Hits@1: 0.17248375713825226\n",
            "Epoch: 55, Loss: 3.9268958568573\n",
            "Hits@1: 0.17249879240989685\n",
            "Epoch: 56, Loss: 3.9227421283721924\n",
            "Hits@1: 0.17375390231609344\n",
            "Epoch: 57, Loss: 3.9186575412750244\n",
            "Hits@1: 0.17305494844913483\n",
            "Epoch: 58, Loss: 3.9146411418914795\n",
            "Hits@1: 0.17355097830295563\n",
            "Epoch: 59, Loss: 3.9106879234313965\n",
            "Hits@1: 0.17356601357460022\n",
            "Epoch: 60, Loss: 3.9067981243133545\n",
            "Hits@1: 0.17724116146564484\n",
            "Epoch: 61, Loss: 3.902967691421509\n",
            "Hits@1: 0.17598605155944824\n",
            "Epoch: 62, Loss: 3.899197578430176\n",
            "Hits@1: 0.1765722632408142\n",
            "Epoch: 63, Loss: 3.8954825401306152\n",
            "Hits@1: 0.17845118045806885\n",
            "Epoch: 64, Loss: 3.891824722290039\n",
            "Hits@1: 0.17970629036426544\n",
            "Epoch: 65, Loss: 3.888219118118286\n",
            "Hits@1: 0.17950336635112762\n",
            "Epoch: 66, Loss: 3.8846659660339355\n",
            "Hits@1: 0.17975138127803802\n",
            "Epoch: 67, Loss: 3.8811631202697754\n",
            "Hits@1: 0.17925535142421722\n",
            "Epoch: 68, Loss: 3.877709150314331\n",
            "Hits@1: 0.18120941519737244\n",
            "Epoch: 69, Loss: 3.874302625656128\n",
            "Hits@1: 0.18147246539592743\n",
            "Epoch: 70, Loss: 3.8709418773651123\n",
            "Hits@1: 0.18195345997810364\n",
            "Epoch: 71, Loss: 3.867626667022705\n",
            "Hits@1: 0.18272757530212402\n",
            "Epoch: 72, Loss: 3.8643548488616943\n",
            "Hits@1: 0.18568873405456543\n",
            "Epoch: 73, Loss: 3.8611254692077637\n",
            "Hits@1: 0.18519270420074463\n",
            "Epoch: 74, Loss: 3.8579370975494385\n",
            "Hits@1: 0.18666575849056244\n",
            "Epoch: 75, Loss: 3.854789972305298\n",
            "Hits@1: 0.18571878969669342\n",
            "Epoch: 76, Loss: 3.851681709289551\n",
            "Hits@1: 0.18768788874149323\n",
            "Epoch: 77, Loss: 3.8486125469207764\n",
            "Hits@1: 0.18883778154850006\n",
            "Epoch: 78, Loss: 3.8455810546875\n",
            "Hits@1: 0.1884620040655136\n",
            "Epoch: 79, Loss: 3.842585563659668\n",
            "Hits@1: 0.18892796337604523\n",
            "Epoch: 80, Loss: 3.8396260738372803\n",
            "Hits@1: 0.19114507734775543\n",
            "Epoch: 81, Loss: 3.836702346801758\n",
            "Hits@1: 0.19336219131946564\n",
            "Epoch: 82, Loss: 3.833811044692993\n",
            "Hits@1: 0.19387325644493103\n",
            "Epoch: 83, Loss: 3.8309531211853027\n",
            "Hits@1: 0.19585737586021423\n",
            "Epoch: 84, Loss: 3.828127861022949\n",
            "Hits@1: 0.19460226595401764\n",
            "Epoch: 85, Loss: 3.8253345489501953\n",
            "Hits@1: 0.19582732021808624\n",
            "Epoch: 86, Loss: 3.8225724697113037\n",
            "Hits@1: 0.19460226595401764\n",
            "Epoch: 87, Loss: 3.8198416233062744\n",
            "Hits@1: 0.19463233649730682\n",
            "Epoch: 88, Loss: 3.8171398639678955\n",
            "Hits@1: 0.19654129445552826\n",
            "Epoch: 89, Loss: 3.814466953277588\n",
            "Hits@1: 0.19630831480026245\n",
            "Epoch: 90, Loss: 3.8118224143981934\n",
            "Hits@1: 0.19635340571403503\n",
            "Epoch: 91, Loss: 3.8092050552368164\n",
            "Hits@1: 0.19923943281173706\n",
            "Epoch: 92, Loss: 3.8066155910491943\n",
            "Hits@1: 0.19779641926288605\n",
            "Epoch: 93, Loss: 3.8040528297424316\n",
            "Hits@1: 0.19981060922145844\n",
            "Epoch: 94, Loss: 3.8015151023864746\n",
            "Hits@1: 0.20053961873054504\n",
            "Epoch: 95, Loss: 3.799004554748535\n",
            "Hits@1: 0.20080266892910004\n",
            "Epoch: 96, Loss: 3.7965173721313477\n",
            "Hits@1: 0.20106571912765503\n",
            "Epoch: 97, Loss: 3.7940545082092285\n",
            "Hits@1: 0.20008867979049683\n",
            "Epoch: 98, Loss: 3.791616678237915\n",
            "Hits@1: 0.20323772728443146\n",
            "Epoch: 99, Loss: 3.7892019748687744\n",
            "Hits@1: 0.20453794300556183\n",
            "Epoch: 100, Loss: 3.7868103981018066\n",
            "Hits@1: 0.20421476662158966\n",
            "Epoch: 101, Loss: 3.7844414710998535\n",
            "Hits@1: 0.20592081546783447\n",
            "Epoch: 102, Loss: 3.7820956707000732\n",
            "Hits@1: 0.2033579796552658\n",
            "Epoch: 103, Loss: 3.779771089553833\n",
            "Hits@1: 0.20526695251464844\n",
            "Epoch: 104, Loss: 3.7774691581726074\n",
            "Hits@1: 0.204598069190979\n",
            "Epoch: 105, Loss: 3.7751872539520264\n",
            "Hits@1: 0.20551496744155884\n",
            "Epoch: 106, Loss: 3.7729263305664062\n",
            "Hits@1: 0.20480097830295563\n",
            "Epoch: 107, Loss: 3.770686149597168\n",
            "Hits@1: 0.20573292672634125\n",
            "Epoch: 108, Loss: 3.768465995788574\n",
            "Hits@1: 0.20677007734775543\n",
            "Epoch: 109, Loss: 3.7662644386291504\n",
            "Hits@1: 0.20726610720157623\n",
            "Epoch: 110, Loss: 3.76408314704895\n",
            "Hits@1: 0.20729617774486542\n",
            "Epoch: 111, Loss: 3.76192045211792\n",
            "Hits@1: 0.20821307599544525\n",
            "Epoch: 112, Loss: 3.759777069091797\n",
            "Hits@1: 0.21038509905338287\n",
            "Epoch: 113, Loss: 3.7576518058776855\n",
            "Hits@1: 0.20876923203468323\n",
            "Epoch: 114, Loss: 3.755544662475586\n",
            "Hits@1: 0.20951329171657562\n",
            "Epoch: 115, Loss: 3.7534546852111816\n",
            "Hits@1: 0.21194835007190704\n",
            "Epoch: 116, Loss: 3.75138258934021\n",
            "Hits@1: 0.21098634600639343\n",
            "Epoch: 117, Loss: 3.749328374862671\n",
            "Hits@1: 0.21222643554210663\n",
            "Epoch: 118, Loss: 3.7472898960113525\n",
            "Hits@1: 0.21269239485263824\n",
            "Epoch: 119, Loss: 3.7452688217163086\n",
            "Hits@1: 0.21515752375125885\n",
            "Epoch: 120, Loss: 3.7432637214660645\n",
            "Hits@1: 0.21393246948719025\n",
            "Epoch: 121, Loss: 3.741274833679199\n",
            "Hits@1: 0.21584144234657288\n",
            "Epoch: 122, Loss: 3.739302396774292\n",
            "Hits@1: 0.21518759429454803\n",
            "Epoch: 123, Loss: 3.737344741821289\n",
            "Hits@1: 0.21591660380363464\n",
            "Epoch: 124, Loss: 3.7354023456573486\n",
            "Hits@1: 0.21690866351127625\n",
            "Epoch: 125, Loss: 3.7334752082824707\n",
            "Hits@1: 0.21619468927383423\n",
            "Epoch: 126, Loss: 3.7315621376037598\n",
            "Hits@1: 0.21814875304698944\n",
            "Epoch: 127, Loss: 3.7296643257141113\n",
            "Hits@1: 0.2165028303861618\n",
            "Epoch: 128, Loss: 3.7277815341949463\n",
            "Hits@1: 0.21911074221134186\n",
            "Epoch: 129, Loss: 3.7259130477905273\n",
            "Hits@1: 0.21914081275463104\n",
            "Epoch: 130, Loss: 3.72405743598938\n",
            "Hits@1: 0.21864478290081024\n",
            "Epoch: 131, Loss: 3.7222163677215576\n",
            "Hits@1: 0.21985478699207306\n",
            "Epoch: 132, Loss: 3.720388650894165\n",
            "Hits@1: 0.21991492807865143\n",
            "Epoch: 133, Loss: 3.7185750007629395\n",
            "Hits@1: 0.22159090638160706\n",
            "Epoch: 134, Loss: 3.7167747020721436\n",
            "Hits@1: 0.22039592266082764\n",
            "Epoch: 135, Loss: 3.7149863243103027\n",
            "Hits@1: 0.22138798236846924\n",
            "Epoch: 136, Loss: 3.713212251663208\n",
            "Hits@1: 0.22163599729537964\n",
            "Epoch: 137, Loss: 3.7114503383636475\n",
            "Hits@1: 0.22189904749393463\n",
            "Epoch: 138, Loss: 3.709700584411621\n",
            "Hits@1: 0.22360509634017944\n",
            "Epoch: 139, Loss: 3.707962989807129\n",
            "Hits@1: 0.22236502170562744\n",
            "Epoch: 140, Loss: 3.706238031387329\n",
            "Hits@1: 0.22233495116233826\n",
            "Epoch: 141, Loss: 3.7045247554779053\n",
            "Hits@1: 0.22408609092235565\n",
            "Epoch: 142, Loss: 3.7028229236602783\n",
            "Hits@1: 0.22383807599544525\n",
            "Epoch: 143, Loss: 3.7011327743530273\n",
            "Hits@1: 0.22459715604782104\n",
            "Epoch: 144, Loss: 3.6994543075561523\n",
            "Hits@1: 0.22679923474788666\n",
            "Epoch: 145, Loss: 3.6977877616882324\n",
            "Hits@1: 0.22340217232704163\n",
            "Epoch: 146, Loss: 3.696132183074951\n",
            "Hits@1: 0.22557419538497925\n",
            "Epoch: 147, Loss: 3.6944878101348877\n",
            "Hits@1: 0.22707732021808624\n",
            "Epoch: 148, Loss: 3.6928539276123047\n",
            "Hits@1: 0.22802428901195526\n",
            "Epoch: 149, Loss: 3.691230535507202\n",
            "Hits@1: 0.22799421846866608\n",
            "Epoch: 150, Loss: 3.6896183490753174\n",
            "Hits@1: 0.22859548032283783\n",
            "Epoch: 151, Loss: 3.6880173683166504\n",
            "Hits@1: 0.22763347625732422\n",
            "Epoch: 152, Loss: 3.6864261627197266\n",
            "Hits@1: 0.22933952510356903\n",
            "Epoch: 153, Loss: 3.684845447540283\n",
            "Hits@1: 0.23051947355270386\n",
            "Epoch: 154, Loss: 3.683274507522583\n",
            "Hits@1: 0.23104557394981384\n",
            "Epoch: 155, Loss: 3.681713581085205\n",
            "Hits@1: 0.23253366351127625\n",
            "Epoch: 156, Loss: 3.6801624298095703\n",
            "Hits@1: 0.23154160380363464\n",
            "Epoch: 157, Loss: 3.678621768951416\n",
            "Hits@1: 0.2336685210466385\n",
            "Epoch: 158, Loss: 3.6770899295806885\n",
            "Hits@1: 0.23375871777534485\n",
            "Epoch: 159, Loss: 3.6755683422088623\n",
            "Hits@1: 0.23233073949813843\n",
            "Epoch: 160, Loss: 3.674055576324463\n",
            "Hits@1: 0.23378877341747284\n",
            "Epoch: 161, Loss: 3.6725516319274902\n",
            "Hits@1: 0.23378877341747284\n",
            "Epoch: 162, Loss: 3.6710574626922607\n",
            "Hits@1: 0.23479586839675903\n",
            "Epoch: 163, Loss: 3.669572353363037\n",
            "Hits@1: 0.23529189825057983\n",
            "Epoch: 164, Loss: 3.6680963039398193\n",
            "Hits@1: 0.23431487381458282\n",
            "Epoch: 165, Loss: 3.666628837585449\n",
            "Hits@1: 0.23569776117801666\n",
            "Epoch: 166, Loss: 3.665170192718506\n",
            "Hits@1: 0.23647186160087585\n",
            "Epoch: 167, Loss: 3.6637210845947266\n",
            "Hits@1: 0.23625390231609344\n",
            "Epoch: 168, Loss: 3.6622796058654785\n",
            "Hits@1: 0.23670484125614166\n",
            "Epoch: 169, Loss: 3.6608479022979736\n",
            "Hits@1: 0.23769690096378326\n",
            "Epoch: 170, Loss: 3.6594228744506836\n",
            "Hits@1: 0.23602092266082764\n",
            "Epoch: 171, Loss: 3.658006191253662\n",
            "Hits@1: 0.23819293081760406\n",
            "Epoch: 172, Loss: 3.6565985679626465\n",
            "Hits@1: 0.23998917639255524\n",
            "Epoch: 173, Loss: 3.6551990509033203\n",
            "Hits@1: 0.23943302035331726\n",
            "Epoch: 174, Loss: 3.653806447982788\n",
            "Hits@1: 0.24044011533260345\n",
            "Epoch: 175, Loss: 3.6524226665496826\n",
            "Hits@1: 0.23828312754631042\n",
            "Epoch: 176, Loss: 3.6510465145111084\n",
            "Hits@1: 0.24092110991477966\n",
            "Epoch: 177, Loss: 3.6496784687042236\n",
            "Hits@1: 0.24019210040569305\n",
            "Epoch: 178, Loss: 3.64831805229187\n",
            "Hits@1: 0.24213112890720367\n",
            "Epoch: 179, Loss: 3.6469650268554688\n",
            "Hits@1: 0.23877915740013123\n",
            "Epoch: 180, Loss: 3.6456193923950195\n",
            "Hits@1: 0.23975619673728943\n",
            "Epoch: 181, Loss: 3.6442811489105225\n",
            "Hits@1: 0.24186809360980988\n",
            "Epoch: 182, Loss: 3.6429505348205566\n",
            "Hits@1: 0.24116912484169006\n",
            "Epoch: 183, Loss: 3.641627311706543\n",
            "Hits@1: 0.24071818590164185\n",
            "Epoch: 184, Loss: 3.640310764312744\n",
            "Hits@1: 0.24119919538497925\n",
            "Epoch: 185, Loss: 3.6390020847320557\n",
            "Hits@1: 0.24118416011333466\n",
            "Epoch: 186, Loss: 3.637699842453003\n",
            "Hits@1: 0.24271735548973083\n",
            "Epoch: 187, Loss: 3.636404514312744\n",
            "Hits@1: 0.24240919947624207\n",
            "Epoch: 188, Loss: 3.6351163387298584\n",
            "Hits@1: 0.24346140027046204\n",
            "Epoch: 189, Loss: 3.6338348388671875\n",
            "Hits@1: 0.24267224967479706\n",
            "Epoch: 190, Loss: 3.6325602531433105\n",
            "Hits@1: 0.24313823878765106\n",
            "Epoch: 191, Loss: 3.6312923431396484\n",
            "Hits@1: 0.24392735958099365\n",
            "Epoch: 192, Loss: 3.6300318241119385\n",
            "Hits@1: 0.24251443147659302\n",
            "Epoch: 193, Loss: 3.6287763118743896\n",
            "Hits@1: 0.24465638399124146\n",
            "Epoch: 194, Loss: 3.6275274753570557\n",
            "Hits@1: 0.24538539350032806\n",
            "Epoch: 195, Loss: 3.626286268234253\n",
            "Hits@1: 0.24512235820293427\n",
            "Epoch: 196, Loss: 3.6250507831573486\n",
            "Hits@1: 0.24490439891815186\n",
            "Epoch: 197, Loss: 3.623821258544922\n",
            "Hits@1: 0.24639248847961426\n",
            "Epoch: 198, Loss: 3.62259840965271\n",
            "Hits@1: 0.2483014613389969\n",
            "Epoch: 199, Loss: 3.6213815212249756\n",
            "Hits@1: 0.24661046266555786\n",
            "hits@1: 0.246377, hits@5: 0.472230, hits@10: 0.597929, hits@20: 0.725582\n",
            "hits@50: 0.906573, hits@100: 0.987629\n",
            "map@1: 0.246377, map@5: 0.327607, map@10: 0.344243, map@20: 0.353109\n",
            "map@50: 0.359103, map@100: 0.360313\n",
            "ndcg@1: 0.246377, ndcg@5: 0.363511, ndcg@10: 0.404019, ndcg@20: 0.436302\n",
            "ndcg@50: 0.472617, ndcg@100: 0.485902\n"
          ]
        }
      ],
      "source": [
        "head_model = train2task()\n",
        "torch.save(head_model.state_dict(), 'edge_dropout_only_infomax_model.pth')"
      ]
    },
    {
      "cell_type": "markdown",
      "metadata": {
        "id": "SJObZ20-icRc"
      },
      "source": [
        "### Random walk, only infomax"
      ]
    },
    {
      "cell_type": "code",
      "execution_count": null,
      "metadata": {
        "id": "B2aIJhScimkS"
      },
      "outputs": [],
      "source": [
        "# device = torch.device('cuda' if torch.cuda.is_available() else 'cpu')\n",
        "device = torch.device('cpu')\n",
        "model = DeepGraphInfomax(hidden_channels=128,\n",
        "                         encoder=Encoder(interm_channels=74, hidden_channels=128,\n",
        "                                         num_features=128),\n",
        "                         summary=lambda z, *args, **kwargs: torch.sigmoid(z.mean(dim=0)),\n",
        "                         corruption=random_walk).to(device)\n",
        "linkmodel = LinkPredHead()\n",
        "optimizer = torch.optim.AdamW(model.parameters(), lr=0.0005)\n",
        "loss_bce = nn.BCEWithLogitsLoss()"
      ]
    },
    {
      "cell_type": "code",
      "execution_count": null,
      "metadata": {
        "colab": {
          "base_uri": "https://localhost:8080/"
        },
        "id": "U5Qmp4u1imkT",
        "outputId": "ede3cf6f-c67b-4736-d3f8-6086724aa0ff"
      },
      "outputs": [
        {
          "output_type": "stream",
          "name": "stderr",
          "text": [
            "  1%|          | 1/100 [00:05<08:20,  5.06s/it]"
          ]
        },
        {
          "output_type": "stream",
          "name": "stdout",
          "text": [
            "Epoch: 1, Loss: 1.3601748943328857\n"
          ]
        },
        {
          "output_type": "stream",
          "name": "stderr",
          "text": [
            "\r  2%|▏         | 2/100 [00:08<06:45,  4.14s/it]"
          ]
        },
        {
          "output_type": "stream",
          "name": "stdout",
          "text": [
            "Epoch: 2, Loss: 1.3325636386871338\n"
          ]
        },
        {
          "output_type": "stream",
          "name": "stderr",
          "text": [
            "\r  3%|▎         | 3/100 [00:13<07:06,  4.40s/it]"
          ]
        },
        {
          "output_type": "stream",
          "name": "stdout",
          "text": [
            "Epoch: 3, Loss: 1.3798646926879883\n"
          ]
        },
        {
          "output_type": "stream",
          "name": "stderr",
          "text": [
            "\r  4%|▍         | 4/100 [00:16<06:33,  4.10s/it]"
          ]
        },
        {
          "output_type": "stream",
          "name": "stdout",
          "text": [
            "Epoch: 4, Loss: 1.1963316202163696\n"
          ]
        },
        {
          "output_type": "stream",
          "name": "stderr",
          "text": [
            "\r  5%|▌         | 5/100 [00:20<06:07,  3.87s/it]"
          ]
        },
        {
          "output_type": "stream",
          "name": "stdout",
          "text": [
            "Epoch: 5, Loss: 1.0853121280670166\n"
          ]
        },
        {
          "output_type": "stream",
          "name": "stderr",
          "text": [
            "\r  6%|▌         | 6/100 [00:24<05:58,  3.81s/it]"
          ]
        },
        {
          "output_type": "stream",
          "name": "stdout",
          "text": [
            "Epoch: 6, Loss: 0.6716153025627136\n"
          ]
        },
        {
          "output_type": "stream",
          "name": "stderr",
          "text": [
            "\r  7%|▋         | 7/100 [00:28<06:15,  4.03s/it]"
          ]
        },
        {
          "output_type": "stream",
          "name": "stdout",
          "text": [
            "Epoch: 7, Loss: 1.2048636674880981\n"
          ]
        },
        {
          "output_type": "stream",
          "name": "stderr",
          "text": [
            "\r  8%|▊         | 8/100 [00:32<05:55,  3.86s/it]"
          ]
        },
        {
          "output_type": "stream",
          "name": "stdout",
          "text": [
            "Epoch: 8, Loss: 1.5446449518203735\n"
          ]
        },
        {
          "output_type": "stream",
          "name": "stderr",
          "text": [
            "\r  9%|▉         | 9/100 [00:35<05:41,  3.75s/it]"
          ]
        },
        {
          "output_type": "stream",
          "name": "stdout",
          "text": [
            "Epoch: 9, Loss: 1.4881179332733154\n"
          ]
        },
        {
          "output_type": "stream",
          "name": "stderr",
          "text": [
            "\r 10%|█         | 10/100 [00:39<05:52,  3.91s/it]"
          ]
        },
        {
          "output_type": "stream",
          "name": "stdout",
          "text": [
            "Epoch: 10, Loss: 1.5803169012069702\n"
          ]
        },
        {
          "output_type": "stream",
          "name": "stderr",
          "text": [
            "\r 11%|█         | 11/100 [00:43<05:49,  3.92s/it]"
          ]
        },
        {
          "output_type": "stream",
          "name": "stdout",
          "text": [
            "Epoch: 11, Loss: 0.9594547748565674\n"
          ]
        },
        {
          "output_type": "stream",
          "name": "stderr",
          "text": [
            "\r 12%|█▏        | 12/100 [00:47<05:34,  3.80s/it]"
          ]
        },
        {
          "output_type": "stream",
          "name": "stdout",
          "text": [
            "Epoch: 12, Loss: 0.7972549796104431\n"
          ]
        },
        {
          "output_type": "stream",
          "name": "stderr",
          "text": [
            "\r 13%|█▎        | 13/100 [00:50<05:20,  3.68s/it]"
          ]
        },
        {
          "output_type": "stream",
          "name": "stdout",
          "text": [
            "Epoch: 13, Loss: 0.6490609049797058\n"
          ]
        },
        {
          "output_type": "stream",
          "name": "stderr",
          "text": [
            "\r 14%|█▍        | 14/100 [00:55<05:40,  3.96s/it]"
          ]
        },
        {
          "output_type": "stream",
          "name": "stdout",
          "text": [
            "Epoch: 14, Loss: 0.6712852120399475\n"
          ]
        },
        {
          "output_type": "stream",
          "name": "stderr",
          "text": [
            "\r 15%|█▌        | 15/100 [00:58<05:23,  3.81s/it]"
          ]
        },
        {
          "output_type": "stream",
          "name": "stdout",
          "text": [
            "Epoch: 15, Loss: 0.8232851028442383\n"
          ]
        },
        {
          "output_type": "stream",
          "name": "stderr",
          "text": [
            "\r 16%|█▌        | 16/100 [01:02<05:11,  3.71s/it]"
          ]
        },
        {
          "output_type": "stream",
          "name": "stdout",
          "text": [
            "Epoch: 16, Loss: 1.639331579208374\n"
          ]
        },
        {
          "output_type": "stream",
          "name": "stderr",
          "text": [
            "\r 17%|█▋        | 17/100 [01:05<05:08,  3.72s/it]"
          ]
        },
        {
          "output_type": "stream",
          "name": "stdout",
          "text": [
            "Epoch: 17, Loss: 1.0431206226348877\n"
          ]
        },
        {
          "output_type": "stream",
          "name": "stderr",
          "text": [
            "\r 18%|█▊        | 18/100 [01:10<05:22,  3.93s/it]"
          ]
        },
        {
          "output_type": "stream",
          "name": "stdout",
          "text": [
            "Epoch: 18, Loss: 0.6099056601524353\n"
          ]
        },
        {
          "output_type": "stream",
          "name": "stderr",
          "text": [
            "\r 19%|█▉        | 19/100 [01:13<05:07,  3.80s/it]"
          ]
        },
        {
          "output_type": "stream",
          "name": "stdout",
          "text": [
            "Epoch: 19, Loss: 0.7573067545890808\n"
          ]
        },
        {
          "output_type": "stream",
          "name": "stderr",
          "text": [
            "\r 20%|██        | 20/100 [01:17<04:56,  3.70s/it]"
          ]
        },
        {
          "output_type": "stream",
          "name": "stdout",
          "text": [
            "Epoch: 20, Loss: 1.1397576332092285\n"
          ]
        },
        {
          "output_type": "stream",
          "name": "stderr",
          "text": [
            "\r 21%|██        | 21/100 [01:21<05:04,  3.85s/it]"
          ]
        },
        {
          "output_type": "stream",
          "name": "stdout",
          "text": [
            "Epoch: 21, Loss: 0.5661287307739258\n"
          ]
        },
        {
          "output_type": "stream",
          "name": "stderr",
          "text": [
            "\r 22%|██▏       | 22/100 [01:25<05:04,  3.90s/it]"
          ]
        },
        {
          "output_type": "stream",
          "name": "stdout",
          "text": [
            "Epoch: 22, Loss: 1.0171226263046265\n"
          ]
        },
        {
          "output_type": "stream",
          "name": "stderr",
          "text": [
            "\r 23%|██▎       | 23/100 [01:29<04:49,  3.76s/it]"
          ]
        },
        {
          "output_type": "stream",
          "name": "stdout",
          "text": [
            "Epoch: 23, Loss: 0.45251381397247314\n"
          ]
        },
        {
          "output_type": "stream",
          "name": "stderr",
          "text": [
            "\r 24%|██▍       | 24/100 [01:32<04:39,  3.68s/it]"
          ]
        },
        {
          "output_type": "stream",
          "name": "stdout",
          "text": [
            "Epoch: 24, Loss: 0.7087335586547852\n"
          ]
        },
        {
          "output_type": "stream",
          "name": "stderr",
          "text": [
            "\r 25%|██▌       | 25/100 [01:37<04:58,  3.98s/it]"
          ]
        },
        {
          "output_type": "stream",
          "name": "stdout",
          "text": [
            "Epoch: 25, Loss: 0.5964272618293762\n"
          ]
        },
        {
          "output_type": "stream",
          "name": "stderr",
          "text": [
            "\r 26%|██▌       | 26/100 [01:40<04:48,  3.90s/it]"
          ]
        },
        {
          "output_type": "stream",
          "name": "stdout",
          "text": [
            "Epoch: 26, Loss: 1.8610165119171143\n"
          ]
        },
        {
          "output_type": "stream",
          "name": "stderr",
          "text": [
            "\r 27%|██▋       | 27/100 [01:44<04:36,  3.79s/it]"
          ]
        },
        {
          "output_type": "stream",
          "name": "stdout",
          "text": [
            "Epoch: 27, Loss: 0.8373644351959229\n"
          ]
        },
        {
          "output_type": "stream",
          "name": "stderr",
          "text": [
            "\r 28%|██▊       | 28/100 [01:48<04:29,  3.75s/it]"
          ]
        },
        {
          "output_type": "stream",
          "name": "stdout",
          "text": [
            "Epoch: 28, Loss: 0.7456758618354797\n"
          ]
        },
        {
          "output_type": "stream",
          "name": "stderr",
          "text": [
            "\r 29%|██▉       | 29/100 [01:52<04:46,  4.04s/it]"
          ]
        },
        {
          "output_type": "stream",
          "name": "stdout",
          "text": [
            "Epoch: 29, Loss: 0.9508333802223206\n"
          ]
        },
        {
          "output_type": "stream",
          "name": "stderr",
          "text": [
            "\r 30%|███       | 30/100 [01:56<04:31,  3.88s/it]"
          ]
        },
        {
          "output_type": "stream",
          "name": "stdout",
          "text": [
            "Epoch: 30, Loss: 0.6101541519165039\n"
          ]
        },
        {
          "output_type": "stream",
          "name": "stderr",
          "text": [
            "\r 31%|███       | 31/100 [01:59<04:19,  3.76s/it]"
          ]
        },
        {
          "output_type": "stream",
          "name": "stdout",
          "text": [
            "Epoch: 31, Loss: 1.345369815826416\n"
          ]
        },
        {
          "output_type": "stream",
          "name": "stderr",
          "text": [
            "\r 32%|███▏      | 32/100 [02:04<04:24,  3.90s/it]"
          ]
        },
        {
          "output_type": "stream",
          "name": "stdout",
          "text": [
            "Epoch: 32, Loss: 1.0017595291137695\n"
          ]
        },
        {
          "output_type": "stream",
          "name": "stderr",
          "text": [
            "\r 33%|███▎      | 33/100 [02:08<04:24,  3.94s/it]"
          ]
        },
        {
          "output_type": "stream",
          "name": "stdout",
          "text": [
            "Epoch: 33, Loss: 0.7214342355728149\n"
          ]
        },
        {
          "output_type": "stream",
          "name": "stderr",
          "text": [
            "\r 34%|███▍      | 34/100 [02:11<04:10,  3.80s/it]"
          ]
        },
        {
          "output_type": "stream",
          "name": "stdout",
          "text": [
            "Epoch: 34, Loss: 0.6556901335716248\n"
          ]
        },
        {
          "output_type": "stream",
          "name": "stderr",
          "text": [
            "\r 35%|███▌      | 35/100 [02:15<04:15,  3.93s/it]"
          ]
        },
        {
          "output_type": "stream",
          "name": "stdout",
          "text": [
            "Epoch: 35, Loss: 0.7617374658584595\n"
          ]
        },
        {
          "output_type": "stream",
          "name": "stderr",
          "text": [
            "\r 36%|███▌      | 36/100 [02:20<04:35,  4.31s/it]"
          ]
        },
        {
          "output_type": "stream",
          "name": "stdout",
          "text": [
            "Epoch: 36, Loss: 0.6858187913894653\n"
          ]
        },
        {
          "output_type": "stream",
          "name": "stderr",
          "text": [
            "\r 37%|███▋      | 37/100 [02:24<04:19,  4.12s/it]"
          ]
        },
        {
          "output_type": "stream",
          "name": "stdout",
          "text": [
            "Epoch: 37, Loss: 0.6721980571746826\n"
          ]
        },
        {
          "output_type": "stream",
          "name": "stderr",
          "text": [
            "\r 38%|███▊      | 38/100 [02:28<04:04,  3.95s/it]"
          ]
        },
        {
          "output_type": "stream",
          "name": "stdout",
          "text": [
            "Epoch: 38, Loss: 0.8292343020439148\n"
          ]
        },
        {
          "output_type": "stream",
          "name": "stderr",
          "text": [
            "\r 39%|███▉      | 39/100 [02:31<03:54,  3.84s/it]"
          ]
        },
        {
          "output_type": "stream",
          "name": "stdout",
          "text": [
            "Epoch: 39, Loss: 1.040019154548645\n"
          ]
        },
        {
          "output_type": "stream",
          "name": "stderr",
          "text": [
            "\r 40%|████      | 40/100 [02:36<04:05,  4.10s/it]"
          ]
        },
        {
          "output_type": "stream",
          "name": "stdout",
          "text": [
            "Epoch: 40, Loss: 0.5001113414764404\n"
          ]
        },
        {
          "output_type": "stream",
          "name": "stderr",
          "text": [
            "\r 41%|████      | 41/100 [02:40<03:51,  3.93s/it]"
          ]
        },
        {
          "output_type": "stream",
          "name": "stdout",
          "text": [
            "Epoch: 41, Loss: 0.4677208960056305\n"
          ]
        },
        {
          "output_type": "stream",
          "name": "stderr",
          "text": [
            "\r 42%|████▏     | 42/100 [02:43<03:46,  3.91s/it]"
          ]
        },
        {
          "output_type": "stream",
          "name": "stdout",
          "text": [
            "Epoch: 42, Loss: 0.6839302778244019\n"
          ]
        },
        {
          "output_type": "stream",
          "name": "stderr",
          "text": [
            "\r 43%|████▎     | 43/100 [02:49<04:13,  4.45s/it]"
          ]
        },
        {
          "output_type": "stream",
          "name": "stdout",
          "text": [
            "Epoch: 43, Loss: 0.45360392332077026\n"
          ]
        },
        {
          "output_type": "stream",
          "name": "stderr",
          "text": [
            "\r 44%|████▍     | 44/100 [02:53<03:53,  4.18s/it]"
          ]
        },
        {
          "output_type": "stream",
          "name": "stdout",
          "text": [
            "Epoch: 44, Loss: 2.7614216804504395\n"
          ]
        },
        {
          "output_type": "stream",
          "name": "stderr",
          "text": [
            "\r 45%|████▌     | 45/100 [02:56<03:38,  3.97s/it]"
          ]
        },
        {
          "output_type": "stream",
          "name": "stdout",
          "text": [
            "Epoch: 45, Loss: 0.6343388557434082\n"
          ]
        },
        {
          "output_type": "stream",
          "name": "stderr",
          "text": [
            "\r 46%|████▌     | 46/100 [03:00<03:29,  3.87s/it]"
          ]
        },
        {
          "output_type": "stream",
          "name": "stdout",
          "text": [
            "Epoch: 46, Loss: 0.5497608780860901\n"
          ]
        },
        {
          "output_type": "stream",
          "name": "stderr",
          "text": [
            "\r 47%|████▋     | 47/100 [03:04<03:36,  4.08s/it]"
          ]
        },
        {
          "output_type": "stream",
          "name": "stdout",
          "text": [
            "Epoch: 47, Loss: 0.5573652982711792\n"
          ]
        },
        {
          "output_type": "stream",
          "name": "stderr",
          "text": [
            "\r 48%|████▊     | 48/100 [03:08<03:22,  3.89s/it]"
          ]
        },
        {
          "output_type": "stream",
          "name": "stdout",
          "text": [
            "Epoch: 48, Loss: 0.45027604699134827\n"
          ]
        },
        {
          "output_type": "stream",
          "name": "stderr",
          "text": [
            "\r 49%|████▉     | 49/100 [03:11<03:13,  3.79s/it]"
          ]
        },
        {
          "output_type": "stream",
          "name": "stdout",
          "text": [
            "Epoch: 49, Loss: 0.9700979590415955\n"
          ]
        },
        {
          "output_type": "stream",
          "name": "stderr",
          "text": [
            "\r 50%|█████     | 50/100 [03:16<03:15,  3.91s/it]"
          ]
        },
        {
          "output_type": "stream",
          "name": "stdout",
          "text": [
            "Epoch: 50, Loss: 0.5275843143463135\n"
          ]
        },
        {
          "output_type": "stream",
          "name": "stderr",
          "text": [
            "\r 51%|█████     | 51/100 [03:20<03:14,  3.96s/it]"
          ]
        },
        {
          "output_type": "stream",
          "name": "stdout",
          "text": [
            "Epoch: 51, Loss: 0.8243167400360107\n"
          ]
        },
        {
          "output_type": "stream",
          "name": "stderr",
          "text": [
            "\r 52%|█████▏    | 52/100 [03:23<03:03,  3.83s/it]"
          ]
        },
        {
          "output_type": "stream",
          "name": "stdout",
          "text": [
            "Epoch: 52, Loss: 0.5209327936172485\n"
          ]
        },
        {
          "output_type": "stream",
          "name": "stderr",
          "text": [
            "\r 53%|█████▎    | 53/100 [03:27<02:54,  3.72s/it]"
          ]
        },
        {
          "output_type": "stream",
          "name": "stdout",
          "text": [
            "Epoch: 53, Loss: 1.1006125211715698\n"
          ]
        },
        {
          "output_type": "stream",
          "name": "stderr",
          "text": [
            "\r 54%|█████▍    | 54/100 [03:31<03:03,  4.00s/it]"
          ]
        },
        {
          "output_type": "stream",
          "name": "stdout",
          "text": [
            "Epoch: 54, Loss: 0.4618203341960907\n"
          ]
        },
        {
          "output_type": "stream",
          "name": "stderr",
          "text": [
            "\r 55%|█████▌    | 55/100 [03:35<02:54,  3.89s/it]"
          ]
        },
        {
          "output_type": "stream",
          "name": "stdout",
          "text": [
            "Epoch: 55, Loss: 0.4196470379829407\n"
          ]
        },
        {
          "output_type": "stream",
          "name": "stderr",
          "text": [
            "\r 56%|█████▌    | 56/100 [03:38<02:45,  3.77s/it]"
          ]
        },
        {
          "output_type": "stream",
          "name": "stdout",
          "text": [
            "Epoch: 56, Loss: 0.6552998423576355\n"
          ]
        },
        {
          "output_type": "stream",
          "name": "stderr",
          "text": [
            "\r 57%|█████▋    | 57/100 [03:42<02:41,  3.76s/it]"
          ]
        },
        {
          "output_type": "stream",
          "name": "stdout",
          "text": [
            "Epoch: 57, Loss: 0.6829873323440552\n"
          ]
        },
        {
          "output_type": "stream",
          "name": "stderr",
          "text": [
            "\r 58%|█████▊    | 58/100 [03:47<02:48,  4.01s/it]"
          ]
        },
        {
          "output_type": "stream",
          "name": "stdout",
          "text": [
            "Epoch: 58, Loss: 0.36889898777008057\n"
          ]
        },
        {
          "output_type": "stream",
          "name": "stderr",
          "text": [
            "\r 59%|█████▉    | 59/100 [03:50<02:38,  3.86s/it]"
          ]
        },
        {
          "output_type": "stream",
          "name": "stdout",
          "text": [
            "Epoch: 59, Loss: 1.632730484008789\n"
          ]
        },
        {
          "output_type": "stream",
          "name": "stderr",
          "text": [
            "\r 60%|██████    | 60/100 [03:54<02:30,  3.76s/it]"
          ]
        },
        {
          "output_type": "stream",
          "name": "stdout",
          "text": [
            "Epoch: 60, Loss: 0.683708906173706\n"
          ]
        },
        {
          "output_type": "stream",
          "name": "stderr",
          "text": [
            "\r 61%|██████    | 61/100 [03:58<02:31,  3.89s/it]"
          ]
        },
        {
          "output_type": "stream",
          "name": "stdout",
          "text": [
            "Epoch: 61, Loss: 1.361624002456665\n"
          ]
        },
        {
          "output_type": "stream",
          "name": "stderr",
          "text": [
            "\r 62%|██████▏   | 62/100 [04:02<02:29,  3.95s/it]"
          ]
        },
        {
          "output_type": "stream",
          "name": "stdout",
          "text": [
            "Epoch: 62, Loss: 0.422578901052475\n"
          ]
        },
        {
          "output_type": "stream",
          "name": "stderr",
          "text": [
            "\r 63%|██████▎   | 63/100 [04:05<02:21,  3.81s/it]"
          ]
        },
        {
          "output_type": "stream",
          "name": "stdout",
          "text": [
            "Epoch: 63, Loss: 0.6483668684959412\n"
          ]
        },
        {
          "output_type": "stream",
          "name": "stderr",
          "text": [
            "\r 64%|██████▍   | 64/100 [04:09<02:13,  3.72s/it]"
          ]
        },
        {
          "output_type": "stream",
          "name": "stdout",
          "text": [
            "Epoch: 64, Loss: 1.6068445444107056\n"
          ]
        },
        {
          "output_type": "stream",
          "name": "stderr",
          "text": [
            "\r 65%|██████▌   | 65/100 [04:14<02:20,  4.00s/it]"
          ]
        },
        {
          "output_type": "stream",
          "name": "stdout",
          "text": [
            "Epoch: 65, Loss: 0.6636335849761963\n"
          ]
        },
        {
          "output_type": "stream",
          "name": "stderr",
          "text": [
            "\r 66%|██████▌   | 66/100 [04:17<02:12,  3.89s/it]"
          ]
        },
        {
          "output_type": "stream",
          "name": "stdout",
          "text": [
            "Epoch: 66, Loss: 0.6579346656799316\n"
          ]
        },
        {
          "output_type": "stream",
          "name": "stderr",
          "text": [
            "\r 67%|██████▋   | 67/100 [04:21<02:04,  3.77s/it]"
          ]
        },
        {
          "output_type": "stream",
          "name": "stdout",
          "text": [
            "Epoch: 67, Loss: 0.5483803749084473\n"
          ]
        },
        {
          "output_type": "stream",
          "name": "stderr",
          "text": [
            "\r 68%|██████▊   | 68/100 [04:24<01:59,  3.74s/it]"
          ]
        },
        {
          "output_type": "stream",
          "name": "stdout",
          "text": [
            "Epoch: 68, Loss: 0.76332688331604\n"
          ]
        },
        {
          "output_type": "stream",
          "name": "stderr",
          "text": [
            "\r 69%|██████▉   | 69/100 [04:30<02:11,  4.23s/it]"
          ]
        },
        {
          "output_type": "stream",
          "name": "stdout",
          "text": [
            "Epoch: 69, Loss: 2.23990797996521\n"
          ]
        },
        {
          "output_type": "stream",
          "name": "stderr",
          "text": [
            "\r 70%|███████   | 70/100 [04:34<02:06,  4.22s/it]"
          ]
        },
        {
          "output_type": "stream",
          "name": "stdout",
          "text": [
            "Epoch: 70, Loss: 0.6463057398796082\n"
          ]
        },
        {
          "output_type": "stream",
          "name": "stderr",
          "text": [
            "\r 71%|███████   | 71/100 [04:38<01:56,  4.00s/it]"
          ]
        },
        {
          "output_type": "stream",
          "name": "stdout",
          "text": [
            "Epoch: 71, Loss: 0.7627145648002625\n"
          ]
        },
        {
          "output_type": "stream",
          "name": "stderr",
          "text": [
            "\r 72%|███████▏  | 72/100 [04:41<01:47,  3.85s/it]"
          ]
        },
        {
          "output_type": "stream",
          "name": "stdout",
          "text": [
            "Epoch: 72, Loss: 0.7993032932281494\n"
          ]
        },
        {
          "output_type": "stream",
          "name": "stderr",
          "text": [
            "\r 73%|███████▎  | 73/100 [04:46<01:51,  4.11s/it]"
          ]
        },
        {
          "output_type": "stream",
          "name": "stdout",
          "text": [
            "Epoch: 73, Loss: 0.641755998134613\n"
          ]
        },
        {
          "output_type": "stream",
          "name": "stderr",
          "text": [
            "\r 74%|███████▍  | 74/100 [04:49<01:42,  3.93s/it]"
          ]
        },
        {
          "output_type": "stream",
          "name": "stdout",
          "text": [
            "Epoch: 74, Loss: 0.6518844366073608\n"
          ]
        },
        {
          "output_type": "stream",
          "name": "stderr",
          "text": [
            "\r 75%|███████▌  | 75/100 [04:53<01:34,  3.79s/it]"
          ]
        },
        {
          "output_type": "stream",
          "name": "stdout",
          "text": [
            "Epoch: 75, Loss: 0.4565773606300354\n"
          ]
        },
        {
          "output_type": "stream",
          "name": "stderr",
          "text": [
            "\r 76%|███████▌  | 76/100 [04:56<01:29,  3.74s/it]"
          ]
        },
        {
          "output_type": "stream",
          "name": "stdout",
          "text": [
            "Epoch: 76, Loss: 0.3337230682373047\n"
          ]
        },
        {
          "output_type": "stream",
          "name": "stderr",
          "text": [
            "\r 77%|███████▋  | 77/100 [05:01<01:31,  3.99s/it]"
          ]
        },
        {
          "output_type": "stream",
          "name": "stdout",
          "text": [
            "Epoch: 77, Loss: 1.8073581457138062\n"
          ]
        },
        {
          "output_type": "stream",
          "name": "stderr",
          "text": [
            "\r 78%|███████▊  | 78/100 [05:04<01:24,  3.84s/it]"
          ]
        },
        {
          "output_type": "stream",
          "name": "stdout",
          "text": [
            "Epoch: 78, Loss: 0.6676205396652222\n"
          ]
        },
        {
          "output_type": "stream",
          "name": "stderr",
          "text": [
            "\r 79%|███████▉  | 79/100 [05:08<01:18,  3.74s/it]"
          ]
        },
        {
          "output_type": "stream",
          "name": "stdout",
          "text": [
            "Epoch: 79, Loss: 0.5103175640106201\n"
          ]
        },
        {
          "output_type": "stream",
          "name": "stderr",
          "text": [
            "\r 80%|████████  | 80/100 [05:12<01:17,  3.86s/it]"
          ]
        },
        {
          "output_type": "stream",
          "name": "stdout",
          "text": [
            "Epoch: 80, Loss: 0.3151206374168396\n"
          ]
        },
        {
          "output_type": "stream",
          "name": "stderr",
          "text": [
            "\r 81%|████████  | 81/100 [05:16<01:13,  3.89s/it]"
          ]
        },
        {
          "output_type": "stream",
          "name": "stdout",
          "text": [
            "Epoch: 81, Loss: 0.42546531558036804\n"
          ]
        },
        {
          "output_type": "stream",
          "name": "stderr",
          "text": [
            "\r 82%|████████▏ | 82/100 [05:19<01:07,  3.77s/it]"
          ]
        },
        {
          "output_type": "stream",
          "name": "stdout",
          "text": [
            "Epoch: 82, Loss: 0.49405449628829956\n"
          ]
        },
        {
          "output_type": "stream",
          "name": "stderr",
          "text": [
            "\r 83%|████████▎ | 83/100 [05:23<01:02,  3.68s/it]"
          ]
        },
        {
          "output_type": "stream",
          "name": "stdout",
          "text": [
            "Epoch: 83, Loss: 0.5833823680877686\n"
          ]
        },
        {
          "output_type": "stream",
          "name": "stderr",
          "text": [
            "\r 84%|████████▍ | 84/100 [05:28<01:03,  3.96s/it]"
          ]
        },
        {
          "output_type": "stream",
          "name": "stdout",
          "text": [
            "Epoch: 84, Loss: 0.535919189453125\n"
          ]
        },
        {
          "output_type": "stream",
          "name": "stderr",
          "text": [
            "\r 85%|████████▌ | 85/100 [05:31<00:57,  3.84s/it]"
          ]
        },
        {
          "output_type": "stream",
          "name": "stdout",
          "text": [
            "Epoch: 85, Loss: 0.6563652753829956\n"
          ]
        },
        {
          "output_type": "stream",
          "name": "stderr",
          "text": [
            "\r 86%|████████▌ | 86/100 [05:35<00:52,  3.76s/it]"
          ]
        },
        {
          "output_type": "stream",
          "name": "stdout",
          "text": [
            "Epoch: 86, Loss: 1.0327975749969482\n"
          ]
        },
        {
          "output_type": "stream",
          "name": "stderr",
          "text": [
            "\r 87%|████████▋ | 87/100 [05:38<00:48,  3.73s/it]"
          ]
        },
        {
          "output_type": "stream",
          "name": "stdout",
          "text": [
            "Epoch: 87, Loss: 0.379071444272995\n"
          ]
        },
        {
          "output_type": "stream",
          "name": "stderr",
          "text": [
            "\r 88%|████████▊ | 88/100 [05:43<00:47,  3.97s/it]"
          ]
        },
        {
          "output_type": "stream",
          "name": "stdout",
          "text": [
            "Epoch: 88, Loss: 0.38967403769493103\n"
          ]
        },
        {
          "output_type": "stream",
          "name": "stderr",
          "text": [
            "\r 89%|████████▉ | 89/100 [05:46<00:42,  3.84s/it]"
          ]
        },
        {
          "output_type": "stream",
          "name": "stdout",
          "text": [
            "Epoch: 89, Loss: 0.8332091569900513\n"
          ]
        },
        {
          "output_type": "stream",
          "name": "stderr",
          "text": [
            "\r 90%|█████████ | 90/100 [05:50<00:37,  3.75s/it]"
          ]
        },
        {
          "output_type": "stream",
          "name": "stdout",
          "text": [
            "Epoch: 90, Loss: 0.43500861525535583\n"
          ]
        },
        {
          "output_type": "stream",
          "name": "stderr",
          "text": [
            "\r 91%|█████████ | 91/100 [05:54<00:34,  3.88s/it]"
          ]
        },
        {
          "output_type": "stream",
          "name": "stdout",
          "text": [
            "Epoch: 91, Loss: 0.5338840484619141\n"
          ]
        },
        {
          "output_type": "stream",
          "name": "stderr",
          "text": [
            "\r 92%|█████████▏| 92/100 [05:58<00:31,  3.92s/it]"
          ]
        },
        {
          "output_type": "stream",
          "name": "stdout",
          "text": [
            "Epoch: 92, Loss: 0.6744825839996338\n"
          ]
        },
        {
          "output_type": "stream",
          "name": "stderr",
          "text": [
            "\r 93%|█████████▎| 93/100 [06:02<00:26,  3.79s/it]"
          ]
        },
        {
          "output_type": "stream",
          "name": "stdout",
          "text": [
            "Epoch: 93, Loss: 0.3683546185493469\n"
          ]
        },
        {
          "output_type": "stream",
          "name": "stderr",
          "text": [
            "\r 94%|█████████▍| 94/100 [06:05<00:22,  3.72s/it]"
          ]
        },
        {
          "output_type": "stream",
          "name": "stdout",
          "text": [
            "Epoch: 94, Loss: 0.38512611389160156\n"
          ]
        },
        {
          "output_type": "stream",
          "name": "stderr",
          "text": [
            "\r 95%|█████████▌| 95/100 [06:10<00:20,  4.03s/it]"
          ]
        },
        {
          "output_type": "stream",
          "name": "stdout",
          "text": [
            "Epoch: 95, Loss: 0.38876864314079285\n"
          ]
        },
        {
          "output_type": "stream",
          "name": "stderr",
          "text": [
            "\r 96%|█████████▌| 96/100 [06:14<00:15,  3.95s/it]"
          ]
        },
        {
          "output_type": "stream",
          "name": "stdout",
          "text": [
            "Epoch: 96, Loss: 1.7054141759872437\n"
          ]
        },
        {
          "output_type": "stream",
          "name": "stderr",
          "text": [
            "\r 97%|█████████▋| 97/100 [06:17<00:11,  3.81s/it]"
          ]
        },
        {
          "output_type": "stream",
          "name": "stdout",
          "text": [
            "Epoch: 97, Loss: 0.5347980260848999\n"
          ]
        },
        {
          "output_type": "stream",
          "name": "stderr",
          "text": [
            "\r 98%|█████████▊| 98/100 [06:21<00:07,  3.78s/it]"
          ]
        },
        {
          "output_type": "stream",
          "name": "stdout",
          "text": [
            "Epoch: 98, Loss: 0.664185643196106\n"
          ]
        },
        {
          "output_type": "stream",
          "name": "stderr",
          "text": [
            "\r 99%|█████████▉| 99/100 [06:25<00:03,  3.96s/it]"
          ]
        },
        {
          "output_type": "stream",
          "name": "stdout",
          "text": [
            "Epoch: 99, Loss: 0.4624948799610138\n"
          ]
        },
        {
          "output_type": "stream",
          "name": "stderr",
          "text": [
            "100%|██████████| 100/100 [06:29<00:00,  3.89s/it]"
          ]
        },
        {
          "output_type": "stream",
          "name": "stdout",
          "text": [
            "Epoch: 100, Loss: 0.7446961402893066\n"
          ]
        },
        {
          "output_type": "stream",
          "name": "stderr",
          "text": [
            "\n"
          ]
        }
      ],
      "source": [
        "num_epoch = 100\n",
        "loss_epoch = []\n",
        "for epoch in tqdm(range(1, num_epoch+1)):\n",
        "  if epoch == num_epoch:\n",
        "    pos_z, neg_z, summary, loss = train_only_infomax(epoch)\n",
        "  else:\n",
        "    loss = train_only_infomax(epoch)\n",
        "  loss_epoch.append(loss)\n",
        "test_pos_z, test_neg_z, test_summary = model(dataset.test_features, dataset.edge_index)"
      ]
    },
    {
      "cell_type": "code",
      "execution_count": null,
      "metadata": {
        "id": "G1DcCQt4imkT"
      },
      "outputs": [],
      "source": [
        "train_user_representations = {}\n",
        "test_user_representations = {}\n",
        "for i in range(pos_z.shape[0]):\n",
        "  train_user_representations[i] = (dataset.user_ids[i], pos_z[i].detach(), dataset.train_labels[i])\n",
        "for i in range(test_pos_z.shape[0]):\n",
        "  test_user_representations[i] = (dataset.user_ids[i], test_pos_z[i].detach(), dataset.test_labels[i])"
      ]
    },
    {
      "cell_type": "code",
      "execution_count": null,
      "metadata": {
        "id": "Wie6EhM4imkU"
      },
      "outputs": [],
      "source": [
        "user_dataset = UserDataset(train_user_representations)\n",
        "\n",
        "n = len(user_dataset)\n",
        "\n",
        "indices = np.arange(n)\n",
        "indices = np.random.permutation(indices)\n",
        "\n",
        "train_indices = indices [:int(0.8*n)]\n",
        "test_indices = indices[int(0.8*n):]\n",
        "\n",
        "user_train_dataset = Subset(user_dataset, train_indices)\n",
        "user_test_dataset = Subset(user_dataset, test_indices)\n",
        "\n",
        "user_train_dataloader = DataLoader(user_train_dataset, batch_size=64, shuffle=True)\n",
        "user_test_dataloader = DataLoader(user_test_dataset, batch_size=64, shuffle=True)"
      ]
    },
    {
      "cell_type": "code",
      "execution_count": null,
      "metadata": {
        "id": "W3q1_6FhimkU"
      },
      "outputs": [],
      "source": [
        "num_classes = 186\n",
        "classes = np.arange(0, num_classes)"
      ]
    },
    {
      "cell_type": "code",
      "execution_count": null,
      "metadata": {
        "colab": {
          "base_uri": "https://localhost:8080/"
        },
        "id": "dMtZaIwyimkU",
        "outputId": "031b8628-2b91-430d-db4f-08b179a64e19"
      },
      "outputs": [
        {
          "output_type": "stream",
          "name": "stdout",
          "text": [
            "Epoch: 0, Loss: 5.0268049240112305\n",
            "Hits@1: 0.038923460990190506\n",
            "Epoch: 1, Loss: 4.866142272949219\n",
            "Hits@1: 0.05279731750488281\n",
            "Epoch: 2, Loss: 4.744835376739502\n",
            "Hits@1: 0.08801557123661041\n",
            "Epoch: 3, Loss: 4.6520304679870605\n",
            "Hits@1: 0.10407647490501404\n",
            "Epoch: 4, Loss: 4.579610347747803\n",
            "Hits@1: 0.10286646336317062\n",
            "Epoch: 5, Loss: 4.521663188934326\n",
            "Hits@1: 0.10514369606971741\n",
            "Epoch: 6, Loss: 4.474079608917236\n",
            "Hits@1: 0.10661676526069641\n",
            "Epoch: 7, Loss: 4.434088230133057\n",
            "Hits@1: 0.10835286974906921\n",
            "Epoch: 8, Loss: 4.399752140045166\n",
            "Hits@1: 0.11255411058664322\n",
            "Epoch: 9, Loss: 4.369768142700195\n",
            "Hits@1: 0.11624428629875183\n",
            "Epoch: 10, Loss: 4.343201160430908\n",
            "Hits@1: 0.12146764993667603\n",
            "Epoch: 11, Loss: 4.319370269775391\n",
            "Hits@1: 0.12447390705347061\n",
            "Epoch: 12, Loss: 4.297772407531738\n",
            "Hits@1: 0.126473069190979\n",
            "Epoch: 13, Loss: 4.278028964996338\n",
            "Hits@1: 0.13014820218086243\n",
            "Epoch: 14, Loss: 4.2598443031311035\n",
            "Hits@1: 0.13210226595401764\n",
            "Epoch: 15, Loss: 4.242992401123047\n",
            "Hits@1: 0.13332732021808624\n",
            "Epoch: 16, Loss: 4.227280139923096\n",
            "Hits@1: 0.13385340571403503\n",
            "Epoch: 17, Loss: 4.212560653686523\n",
            "Hits@1: 0.13608555495738983\n",
            "Epoch: 18, Loss: 4.198723793029785\n",
            "Hits@1: 0.13803961873054504\n",
            "Epoch: 19, Loss: 4.185657024383545\n",
            "Hits@1: 0.13932479918003082\n",
            "Epoch: 20, Loss: 4.173276424407959\n",
            "Hits@1: 0.14056487381458282\n",
            "Epoch: 21, Loss: 4.161514759063721\n",
            "Hits@1: 0.14180494844913483\n",
            "Epoch: 22, Loss: 4.15031099319458\n",
            "Hits@1: 0.14453312754631042\n",
            "Epoch: 23, Loss: 4.139613151550293\n",
            "Hits@1: 0.14625421166419983\n",
            "Epoch: 24, Loss: 4.129373550415039\n",
            "Hits@1: 0.14699825644493103\n",
            "Epoch: 25, Loss: 4.1195526123046875\n",
            "Hits@1: 0.14851641654968262\n",
            "Epoch: 26, Loss: 4.110119342803955\n",
            "Hits@1: 0.15023748576641083\n",
            "Epoch: 27, Loss: 4.101038932800293\n",
            "Hits@1: 0.15172559022903442\n",
            "Epoch: 28, Loss: 4.092290878295898\n",
            "Hits@1: 0.15346169471740723\n",
            "Epoch: 29, Loss: 4.0838494300842285\n",
            "Hits@1: 0.15543079376220703\n",
            "Epoch: 30, Loss: 4.075692653656006\n",
            "Hits@1: 0.15668590366840363\n",
            "Epoch: 31, Loss: 4.067802429199219\n",
            "Hits@1: 0.15884289145469666\n",
            "Epoch: 32, Loss: 4.060160160064697\n",
            "Hits@1: 0.15933892130851746\n",
            "Epoch: 33, Loss: 4.0527520179748535\n",
            "Hits@1: 0.15988004207611084\n",
            "Epoch: 34, Loss: 4.045563697814941\n",
            "Hits@1: 0.16066919267177582\n",
            "Epoch: 35, Loss: 4.038581371307373\n",
            "Hits@1: 0.16115018725395203\n",
            "Epoch: 36, Loss: 4.031793594360352\n",
            "Hits@1: 0.16429923474788666\n",
            "Epoch: 37, Loss: 4.025191307067871\n",
            "Hits@1: 0.16482533514499664\n",
            "Epoch: 38, Loss: 4.018762111663818\n",
            "Hits@1: 0.16485539078712463\n",
            "Epoch: 39, Loss: 4.012497425079346\n",
            "Hits@1: 0.16632845997810364\n",
            "Epoch: 40, Loss: 4.006393909454346\n",
            "Hits@1: 0.16679443418979645\n",
            "Epoch: 41, Loss: 4.0004377365112305\n",
            "Hits@1: 0.16781654953956604\n",
            "Epoch: 42, Loss: 3.9946227073669434\n",
            "Hits@1: 0.16761364042758942\n",
            "Epoch: 43, Loss: 3.9889464378356934\n",
            "Hits@1: 0.17025162279605865\n",
            "Epoch: 44, Loss: 3.983398675918579\n",
            "Hits@1: 0.17077770829200745\n",
            "Epoch: 45, Loss: 3.9779739379882812\n",
            "Hits@1: 0.17057479918003082\n",
            "Epoch: 46, Loss: 3.9726686477661133\n",
            "Hits@1: 0.17297978699207306\n",
            "Epoch: 47, Loss: 3.9674766063690186\n",
            "Hits@1: 0.17156685888767242\n",
            "Epoch: 48, Loss: 3.962392807006836\n",
            "Hits@1: 0.17394180595874786\n",
            "Epoch: 49, Loss: 3.957416296005249\n",
            "Hits@1: 0.17355097830295563\n",
            "Epoch: 50, Loss: 3.9525389671325684\n",
            "Hits@1: 0.17379899322986603\n",
            "Epoch: 51, Loss: 3.947758436203003\n",
            "Hits@1: 0.17552007734775543\n",
            "Epoch: 52, Loss: 3.9430689811706543\n",
            "Hits@1: 0.17626412212848663\n",
            "Epoch: 53, Loss: 3.938469409942627\n",
            "Hits@1: 0.17770712077617645\n",
            "Epoch: 54, Loss: 3.9339568614959717\n",
            "Hits@1: 0.17803029716014862\n",
            "Epoch: 55, Loss: 3.9295268058776855\n",
            "Hits@1: 0.18072840571403503\n",
            "Epoch: 56, Loss: 3.9251766204833984\n",
            "Hits@1: 0.18166035413742065\n",
            "Epoch: 57, Loss: 3.920903444290161\n",
            "Hits@1: 0.18293049931526184\n",
            "Epoch: 58, Loss: 3.9167068004608154\n",
            "Hits@1: 0.18341149389743805\n",
            "Epoch: 59, Loss: 3.9125804901123047\n",
            "Hits@1: 0.18344154953956604\n",
            "Epoch: 60, Loss: 3.908524751663208\n",
            "Hits@1: 0.18345658481121063\n",
            "Epoch: 61, Loss: 3.9045357704162598\n",
            "Hits@1: 0.18517766892910004\n",
            "Epoch: 62, Loss: 3.9006123542785645\n",
            "Hits@1: 0.18739478290081024\n",
            "Epoch: 63, Loss: 3.896752119064331\n",
            "Hits@1: 0.18762776255607605\n",
            "Epoch: 64, Loss: 3.8929543495178223\n",
            "Hits@1: 0.18742483854293823\n",
            "Epoch: 65, Loss: 3.8892149925231934\n",
            "Hits@1: 0.18720689415931702\n",
            "Epoch: 66, Loss: 3.885532855987549\n",
            "Hits@1: 0.18790584802627563\n",
            "Epoch: 67, Loss: 3.8819072246551514\n",
            "Hits@1: 0.18841689825057983\n",
            "Epoch: 68, Loss: 3.87833571434021\n",
            "Hits@1: 0.1889580339193344\n",
            "Epoch: 69, Loss: 3.874817371368408\n",
            "Hits@1: 0.19018307328224182\n",
            "Epoch: 70, Loss: 3.871349811553955\n",
            "Hits@1: 0.189950093626976\n",
            "Epoch: 71, Loss: 3.8679327964782715\n",
            "Hits@1: 0.19164110720157623\n",
            "Epoch: 72, Loss: 3.86456561088562\n",
            "Hits@1: 0.19092713296413422\n",
            "Epoch: 73, Loss: 3.861243724822998\n",
            "Hits@1: 0.19210708141326904\n",
            "Epoch: 74, Loss: 3.8579695224761963\n",
            "Hits@1: 0.19311417639255524\n",
            "Epoch: 75, Loss: 3.8547396659851074\n",
            "Hits@1: 0.19388829171657562\n",
            "Epoch: 76, Loss: 3.851553201675415\n",
            "Hits@1: 0.19432419538497925\n",
            "Epoch: 77, Loss: 3.84840989112854\n",
            "Hits@1: 0.19505320489406586\n",
            "Epoch: 78, Loss: 3.845306873321533\n",
            "Hits@1: 0.19559434056282043\n",
            "Epoch: 79, Loss: 3.842244863510132\n",
            "Hits@1: 0.19654129445552826\n",
            "Epoch: 80, Loss: 3.8392221927642822\n",
            "Hits@1: 0.19657136499881744\n",
            "Epoch: 81, Loss: 3.836237907409668\n",
            "Hits@1: 0.19612042605876923\n",
            "Epoch: 82, Loss: 3.8332905769348145\n",
            "Hits@1: 0.19728535413742065\n",
            "Epoch: 83, Loss: 3.830380916595459\n",
            "Hits@1: 0.19663149118423462\n",
            "Epoch: 84, Loss: 3.8275065422058105\n",
            "Hits@1: 0.1966465264558792\n",
            "Epoch: 85, Loss: 3.824666738510132\n",
            "Hits@1: 0.19782647490501404\n",
            "Epoch: 86, Loss: 3.8218605518341064\n",
            "Hits@1: 0.19787156581878662\n",
            "Epoch: 87, Loss: 3.8190886974334717\n",
            "Hits@1: 0.19884860515594482\n",
            "Epoch: 88, Loss: 3.8163490295410156\n",
            "Hits@1: 0.20002855360507965\n",
            "Epoch: 89, Loss: 3.813641309738159\n",
            "Hits@1: 0.20027656853199005\n",
            "Epoch: 90, Loss: 3.810964345932007\n",
            "Hits@1: 0.20097553730010986\n",
            "Epoch: 91, Loss: 3.808318614959717\n",
            "Hits@1: 0.20053961873054504\n",
            "Epoch: 92, Loss: 3.805701494216919\n",
            "Hits@1: 0.20052458345890045\n",
            "Epoch: 93, Loss: 3.803114652633667\n",
            "Hits@1: 0.20103564858436584\n",
            "Epoch: 94, Loss: 3.8005566596984863\n",
            "Hits@1: 0.20131373405456543\n",
            "Epoch: 95, Loss: 3.7980260848999023\n",
            "Hits@1: 0.20208783447742462\n",
            "Epoch: 96, Loss: 3.795522928237915\n",
            "Hits@1: 0.20396675169467926\n",
            "Epoch: 97, Loss: 3.793046474456787\n",
            "Hits@1: 0.20281685888767242\n",
            "Epoch: 98, Loss: 3.7905960083007812\n",
            "Hits@1: 0.20401184260845184\n",
            "Epoch: 99, Loss: 3.7881717681884766\n",
            "Hits@1: 0.20428992807865143\n",
            "Epoch: 100, Loss: 3.785773515701294\n",
            "Hits@1: 0.20472583174705505\n",
            "Epoch: 101, Loss: 3.7833986282348633\n",
            "Hits@1: 0.20571789145469666\n",
            "Epoch: 102, Loss: 3.781048536300659\n",
            "Hits@1: 0.20427489280700684\n",
            "Epoch: 103, Loss: 3.7787227630615234\n",
            "Hits@1: 0.20475588738918304\n",
            "Epoch: 104, Loss: 3.7764196395874023\n",
            "Hits@1: 0.20598094165325165\n",
            "Epoch: 105, Loss: 3.774139642715454\n",
            "Hits@1: 0.20596590638160706\n",
            "Epoch: 106, Loss: 3.7718820571899414\n",
            "Hits@1: 0.20622895658016205\n",
            "Epoch: 107, Loss: 3.769646644592285\n",
            "Hits@1: 0.20598094165325165\n",
            "Epoch: 108, Loss: 3.7674331665039062\n",
            "Hits@1: 0.20700305700302124\n",
            "Epoch: 109, Loss: 3.7652409076690674\n",
            "Hits@1: 0.20602603256702423\n",
            "Epoch: 110, Loss: 3.7630701065063477\n",
            "Hits@1: 0.20579305291175842\n",
            "Epoch: 111, Loss: 3.760918617248535\n",
            "Hits@1: 0.20723605155944824\n",
            "Epoch: 112, Loss: 3.7587881088256836\n",
            "Hits@1: 0.20819804072380066\n",
            "Epoch: 113, Loss: 3.7566776275634766\n",
            "Hits@1: 0.20729617774486542\n",
            "Epoch: 114, Loss: 3.7545862197875977\n",
            "Hits@1: 0.20749910175800323\n",
            "Epoch: 115, Loss: 3.7525134086608887\n",
            "Hits@1: 0.20846109092235565\n",
            "Epoch: 116, Loss: 3.750459671020508\n",
            "Hits@1: 0.20726610720157623\n",
            "Epoch: 117, Loss: 3.748424768447876\n",
            "Hits@1: 0.20726610720157623\n",
            "Epoch: 118, Loss: 3.7464077472686768\n",
            "Hits@1: 0.20819804072380066\n",
            "Epoch: 119, Loss: 3.744408130645752\n",
            "Hits@1: 0.20751412212848663\n",
            "Epoch: 120, Loss: 3.7424261569976807\n",
            "Hits@1: 0.20798009634017944\n",
            "Epoch: 121, Loss: 3.740461587905884\n",
            "Hits@1: 0.20703312754631042\n",
            "Epoch: 122, Loss: 3.738513946533203\n",
            "Hits@1: 0.20852121710777283\n",
            "Epoch: 123, Loss: 3.7365832328796387\n",
            "Hits@1: 0.20895712077617645\n",
            "Epoch: 124, Loss: 3.7346692085266113\n",
            "Hits@1: 0.21018217504024506\n",
            "Epoch: 125, Loss: 3.732771158218384\n",
            "Hits@1: 0.20948322117328644\n",
            "Epoch: 126, Loss: 3.730889320373535\n",
            "Hits@1: 0.21139220893383026\n",
            "Epoch: 127, Loss: 3.729022741317749\n",
            "Hits@1: 0.21092621982097626\n",
            "Epoch: 128, Loss: 3.7271714210510254\n",
            "Hits@1: 0.21070827543735504\n",
            "Epoch: 129, Loss: 3.7253355979919434\n",
            "Hits@1: 0.21167026460170746\n",
            "Epoch: 130, Loss: 3.7235147953033447\n",
            "Hits@1: 0.21027237176895142\n",
            "Epoch: 131, Loss: 3.7217085361480713\n",
            "Hits@1: 0.21191827952861786\n",
            "Epoch: 132, Loss: 3.719917058944702\n",
            "Hits@1: 0.21052038669586182\n",
            "Epoch: 133, Loss: 3.718139171600342\n",
            "Hits@1: 0.21076840162277222\n",
            "Epoch: 134, Loss: 3.7163753509521484\n",
            "Hits@1: 0.21266233921051025\n",
            "Epoch: 135, Loss: 3.714625835418701\n",
            "Hits@1: 0.21292537450790405\n",
            "Epoch: 136, Loss: 3.712890148162842\n",
            "Hits@1: 0.21295544505119324\n",
            "Epoch: 137, Loss: 3.7111668586730957\n",
            "Hits@1: 0.21318842470645905\n",
            "Epoch: 138, Loss: 3.709458112716675\n",
            "Hits@1: 0.21270743012428284\n",
            "Epoch: 139, Loss: 3.7077620029449463\n",
            "Hits@1: 0.21368445456027985\n",
            "Epoch: 140, Loss: 3.7060790061950684\n",
            "Hits@1: 0.21393246948719025\n",
            "Epoch: 141, Loss: 3.7044084072113037\n",
            "Hits@1: 0.21487943828105927\n",
            "Epoch: 142, Loss: 3.7027499675750732\n",
            "Hits@1: 0.21509739756584167\n",
            "Epoch: 143, Loss: 3.701104164123535\n",
            "Hits@1: 0.21397757530212402\n",
            "Epoch: 144, Loss: 3.699470281600952\n",
            "Hits@1: 0.21613456308841705\n",
            "Epoch: 145, Loss: 3.6978485584259033\n",
            "Hits@1: 0.21543560922145844\n",
            "Epoch: 146, Loss: 3.6962385177612305\n",
            "Hits@1: 0.21568362414836884\n",
            "Epoch: 147, Loss: 3.6946401596069336\n",
            "Hits@1: 0.21616461873054504\n",
            "Epoch: 148, Loss: 3.693053722381592\n",
            "Hits@1: 0.21616461873054504\n",
            "Epoch: 149, Loss: 3.6914782524108887\n",
            "Hits@1: 0.21568362414836884\n",
            "Epoch: 150, Loss: 3.6899142265319824\n",
            "Hits@1: 0.21686357259750366\n",
            "Epoch: 151, Loss: 3.6883609294891357\n",
            "Hits@1: 0.21546566486358643\n",
            "Epoch: 152, Loss: 3.6868185997009277\n",
            "Hits@1: 0.21545062959194183\n",
            "Epoch: 153, Loss: 3.685288190841675\n",
            "Hits@1: 0.21693873405456543\n",
            "Epoch: 154, Loss: 3.6837668418884277\n",
            "Hits@1: 0.21763768792152405\n",
            "Epoch: 155, Loss: 3.6822571754455566\n",
            "Hits@1: 0.21714165806770325\n",
            "Epoch: 156, Loss: 3.6807568073272705\n",
            "Hits@1: 0.21788570284843445\n",
            "Epoch: 157, Loss: 3.679266929626465\n",
            "Hits@1: 0.21765270829200745\n",
            "Epoch: 158, Loss: 3.6777873039245605\n",
            "Hits@1: 0.21740469336509705\n",
            "Epoch: 159, Loss: 3.6763176918029785\n",
            "Hits@1: 0.21833665668964386\n",
            "Epoch: 160, Loss: 3.6748578548431396\n",
            "Hits@1: 0.21740469336509705\n",
            "Epoch: 161, Loss: 3.673407793045044\n",
            "Hits@1: 0.21836669743061066\n",
            "Epoch: 162, Loss: 3.6719675064086914\n",
            "Hits@1: 0.21813371777534485\n",
            "Epoch: 163, Loss: 3.6705362796783447\n",
            "Hits@1: 0.21908070147037506\n",
            "Epoch: 164, Loss: 3.669114351272583\n",
            "Hits@1: 0.21744979918003082\n",
            "Epoch: 165, Loss: 3.6677021980285645\n",
            "Hits@1: 0.21957673132419586\n",
            "Epoch: 166, Loss: 3.6662991046905518\n",
            "Hits@1: 0.21937379240989685\n",
            "Epoch: 167, Loss: 3.6649043560028076\n",
            "Hits@1: 0.21864478290081024\n",
            "Epoch: 168, Loss: 3.663519859313965\n",
            "Hits@1: 0.21814875304698944\n",
            "Epoch: 169, Loss: 3.6621429920196533\n",
            "Hits@1: 0.2174798548221588\n",
            "Epoch: 170, Loss: 3.660775661468506\n",
            "Hits@1: 0.21915584802627563\n",
            "Epoch: 171, Loss: 3.659416437149048\n",
            "Hits@1: 0.21884769201278687\n",
            "Epoch: 172, Loss: 3.6580657958984375\n",
            "Hits@1: 0.21890781819820404\n",
            "Epoch: 173, Loss: 3.6567234992980957\n",
            "Hits@1: 0.21890781819820404\n",
            "Epoch: 174, Loss: 3.6553893089294434\n",
            "Hits@1: 0.22107984125614166\n",
            "Epoch: 175, Loss: 3.6540634632110596\n",
            "Hits@1: 0.21992994844913483\n",
            "Epoch: 176, Loss: 3.6527469158172607\n",
            "Hits@1: 0.21917086839675903\n",
            "Epoch: 177, Loss: 3.6514363288879395\n",
            "Hits@1: 0.21965187788009644\n",
            "Epoch: 178, Loss: 3.650135040283203\n",
            "Hits@1: 0.22013287246227264\n",
            "Epoch: 179, Loss: 3.64884090423584\n",
            "Hits@1: 0.22041095793247223\n",
            "Epoch: 180, Loss: 3.647555351257324\n",
            "Hits@1: 0.22036585211753845\n",
            "Epoch: 181, Loss: 3.6462764739990234\n",
            "Hits@1: 0.22113996744155884\n",
            "Epoch: 182, Loss: 3.645005226135254\n",
            "Hits@1: 0.22115500271320343\n",
            "Epoch: 183, Loss: 3.6437418460845947\n",
            "Hits@1: 0.22210197150707245\n",
            "Epoch: 184, Loss: 3.6424858570098877\n",
            "Hits@1: 0.22261303663253784\n",
            "Epoch: 185, Loss: 3.641237258911133\n",
            "Hits@1: 0.22165103256702423\n",
            "Epoch: 186, Loss: 3.63999605178833\n",
            "Hits@1: 0.22092202305793762\n",
            "Epoch: 187, Loss: 3.6387619972229004\n",
            "Hits@1: 0.22259800136089325\n",
            "Epoch: 188, Loss: 3.6375350952148438\n",
            "Hits@1: 0.22236502170562744\n",
            "Epoch: 189, Loss: 3.636314868927002\n",
            "Hits@1: 0.22286105155944824\n",
            "Epoch: 190, Loss: 3.635101556777954\n",
            "Hits@1: 0.22354498505592346\n",
            "Epoch: 191, Loss: 3.6338953971862793\n",
            "Hits@1: 0.22262805700302124\n",
            "Epoch: 192, Loss: 3.6326966285705566\n",
            "Hits@1: 0.22377794981002808\n",
            "Epoch: 193, Loss: 3.631503105163574\n",
            "Hits@1: 0.22332701086997986\n",
            "Epoch: 194, Loss: 3.630317211151123\n",
            "Hits@1: 0.22241011261940002\n",
            "Epoch: 195, Loss: 3.6291379928588867\n",
            "Hits@1: 0.22431908547878265\n",
            "Epoch: 196, Loss: 3.627965211868286\n",
            "Hits@1: 0.22405603528022766\n",
            "Epoch: 197, Loss: 3.6267988681793213\n",
            "Hits@1: 0.22501803934574127\n",
            "Epoch: 198, Loss: 3.625638723373413\n",
            "Hits@1: 0.22506313025951385\n",
            "Epoch: 199, Loss: 3.6244850158691406\n",
            "Hits@1: 0.22486020624637604\n",
            "hits@1: 0.226025, hits@5: 0.450404, hits@10: 0.578072, hits@20: 0.715398\n",
            "hits@50: 0.897645, hits@100: 0.986622\n",
            "map@1: 0.226025, map@5: 0.306750, map@10: 0.323796, map@20: 0.333201\n",
            "map@50: 0.339120, map@100: 0.340449\n",
            "ndcg@1: 0.226025, ndcg@5: 0.342406, ndcg@10: 0.383698, ndcg@20: 0.418261\n",
            "ndcg@50: 0.454619, ndcg@100: 0.469204\n"
          ]
        }
      ],
      "source": [
        "head_model = train2task()\n",
        "torch.save(head_model.state_dict(), 'random_walk_only_infomax_model.pth')"
      ]
    },
    {
      "cell_type": "markdown",
      "metadata": {
        "id": "4zKb6JDBi19K"
      },
      "source": [
        "### Node mix, Infomax + Link pred"
      ]
    },
    {
      "cell_type": "code",
      "execution_count": null,
      "metadata": {
        "id": "q_3MVDGEi__F"
      },
      "outputs": [],
      "source": [
        "# device = torch.device('cuda' if torch.cuda.is_available() else 'cpu')\n",
        "device = torch.device('cpu')\n",
        "model = DeepGraphInfomax(hidden_channels=128,\n",
        "                         encoder=Encoder(interm_channels=74, hidden_channels=128,\n",
        "                                         num_features=128),\n",
        "                         summary=lambda z, *args, **kwargs: torch.sigmoid(z.mean(dim=0)),\n",
        "                         corruption=node_mix).to(device)\n",
        "linkmodel = LinkPredHead()\n",
        "optimizer = torch.optim.AdamW(model.parameters(), lr=0.0005)\n",
        "loss_bce = nn.BCEWithLogitsLoss()"
      ]
    },
    {
      "cell_type": "code",
      "execution_count": null,
      "metadata": {
        "colab": {
          "base_uri": "https://localhost:8080/"
        },
        "id": "ZId-eb2Si__F",
        "outputId": "aa3f4f91-c7cd-41dd-8fd7-77e7c3c3ed13"
      },
      "outputs": [
        {
          "output_type": "stream",
          "name": "stderr",
          "text": [
            "  1%|          | 1/100 [00:10<16:33, 10.03s/it]"
          ]
        },
        {
          "output_type": "stream",
          "name": "stdout",
          "text": [
            "Epoch: 1, Loss: 4.500741958618164\n"
          ]
        },
        {
          "output_type": "stream",
          "name": "stderr",
          "text": [
            "\r  2%|▏         | 2/100 [00:17<13:39,  8.36s/it]"
          ]
        },
        {
          "output_type": "stream",
          "name": "stdout",
          "text": [
            "Epoch: 2, Loss: 3.718627452850342\n"
          ]
        },
        {
          "output_type": "stream",
          "name": "stderr",
          "text": [
            "\r  3%|▎         | 3/100 [00:25<13:23,  8.29s/it]"
          ]
        },
        {
          "output_type": "stream",
          "name": "stdout",
          "text": [
            "Epoch: 3, Loss: 3.4254417419433594\n"
          ]
        },
        {
          "output_type": "stream",
          "name": "stderr",
          "text": [
            "\r  4%|▍         | 4/100 [00:32<12:28,  7.80s/it]"
          ]
        },
        {
          "output_type": "stream",
          "name": "stdout",
          "text": [
            "Epoch: 4, Loss: 3.2371156215667725\n"
          ]
        },
        {
          "output_type": "stream",
          "name": "stderr",
          "text": [
            "\r  5%|▌         | 5/100 [00:40<12:36,  7.97s/it]"
          ]
        },
        {
          "output_type": "stream",
          "name": "stdout",
          "text": [
            "Epoch: 5, Loss: 3.07939076423645\n"
          ]
        },
        {
          "output_type": "stream",
          "name": "stderr",
          "text": [
            "\r  6%|▌         | 6/100 [00:48<12:10,  7.77s/it]"
          ]
        },
        {
          "output_type": "stream",
          "name": "stdout",
          "text": [
            "Epoch: 6, Loss: 2.6666293144226074\n"
          ]
        },
        {
          "output_type": "stream",
          "name": "stderr",
          "text": [
            "\r  7%|▋         | 7/100 [00:55<12:05,  7.80s/it]"
          ]
        },
        {
          "output_type": "stream",
          "name": "stdout",
          "text": [
            "Epoch: 7, Loss: 2.402069091796875\n"
          ]
        },
        {
          "output_type": "stream",
          "name": "stderr",
          "text": [
            "\r  8%|▊         | 8/100 [01:03<11:48,  7.70s/it]"
          ]
        },
        {
          "output_type": "stream",
          "name": "stdout",
          "text": [
            "Epoch: 8, Loss: 2.415858030319214\n"
          ]
        },
        {
          "output_type": "stream",
          "name": "stderr",
          "text": [
            "\r  9%|▉         | 9/100 [01:11<11:37,  7.67s/it]"
          ]
        },
        {
          "output_type": "stream",
          "name": "stdout",
          "text": [
            "Epoch: 9, Loss: 2.1719188690185547\n"
          ]
        },
        {
          "output_type": "stream",
          "name": "stderr",
          "text": [
            "\r 10%|█         | 10/100 [01:19<11:44,  7.82s/it]"
          ]
        },
        {
          "output_type": "stream",
          "name": "stdout",
          "text": [
            "Epoch: 10, Loss: 2.281268358230591\n"
          ]
        },
        {
          "output_type": "stream",
          "name": "stderr",
          "text": [
            "\r 11%|█         | 11/100 [01:26<11:21,  7.66s/it]"
          ]
        },
        {
          "output_type": "stream",
          "name": "stdout",
          "text": [
            "Epoch: 11, Loss: 3.3060061931610107\n"
          ]
        },
        {
          "output_type": "stream",
          "name": "stderr",
          "text": [
            "\r 12%|█▏        | 12/100 [01:34<11:27,  7.82s/it]"
          ]
        },
        {
          "output_type": "stream",
          "name": "stdout",
          "text": [
            "Epoch: 12, Loss: 1.639325499534607\n"
          ]
        },
        {
          "output_type": "stream",
          "name": "stderr",
          "text": [
            "\r 13%|█▎        | 13/100 [01:41<10:52,  7.50s/it]"
          ]
        },
        {
          "output_type": "stream",
          "name": "stdout",
          "text": [
            "Epoch: 13, Loss: 2.8956797122955322\n"
          ]
        },
        {
          "output_type": "stream",
          "name": "stderr",
          "text": [
            "\r 14%|█▍        | 14/100 [01:49<10:58,  7.66s/it]"
          ]
        },
        {
          "output_type": "stream",
          "name": "stdout",
          "text": [
            "Epoch: 14, Loss: 1.3943301439285278\n"
          ]
        },
        {
          "output_type": "stream",
          "name": "stderr",
          "text": [
            "\r 15%|█▌        | 15/100 [01:56<10:26,  7.37s/it]"
          ]
        },
        {
          "output_type": "stream",
          "name": "stdout",
          "text": [
            "Epoch: 15, Loss: 1.8662102222442627\n"
          ]
        },
        {
          "output_type": "stream",
          "name": "stderr",
          "text": [
            "\r 16%|█▌        | 16/100 [02:04<10:50,  7.75s/it]"
          ]
        },
        {
          "output_type": "stream",
          "name": "stdout",
          "text": [
            "Epoch: 16, Loss: 1.7523062229156494\n"
          ]
        },
        {
          "output_type": "stream",
          "name": "stderr",
          "text": [
            "\r 17%|█▋        | 17/100 [02:13<11:11,  8.09s/it]"
          ]
        },
        {
          "output_type": "stream",
          "name": "stdout",
          "text": [
            "Epoch: 17, Loss: 1.4031293392181396\n"
          ]
        },
        {
          "output_type": "stream",
          "name": "stderr",
          "text": [
            "\r 18%|█▊        | 18/100 [02:21<11:08,  8.15s/it]"
          ]
        },
        {
          "output_type": "stream",
          "name": "stdout",
          "text": [
            "Epoch: 18, Loss: 1.2916085720062256\n"
          ]
        },
        {
          "output_type": "stream",
          "name": "stderr",
          "text": [
            "\r 19%|█▉        | 19/100 [02:29<10:42,  7.94s/it]"
          ]
        },
        {
          "output_type": "stream",
          "name": "stdout",
          "text": [
            "Epoch: 19, Loss: 2.2038042545318604\n"
          ]
        },
        {
          "output_type": "stream",
          "name": "stderr",
          "text": [
            "\r 20%|██        | 20/100 [02:37<10:37,  7.96s/it]"
          ]
        },
        {
          "output_type": "stream",
          "name": "stdout",
          "text": [
            "Epoch: 20, Loss: 2.70727276802063\n"
          ]
        },
        {
          "output_type": "stream",
          "name": "stderr",
          "text": [
            "\r 21%|██        | 21/100 [02:44<10:16,  7.80s/it]"
          ]
        },
        {
          "output_type": "stream",
          "name": "stdout",
          "text": [
            "Epoch: 21, Loss: 1.91615629196167\n"
          ]
        },
        {
          "output_type": "stream",
          "name": "stderr",
          "text": [
            "\r 22%|██▏       | 22/100 [02:52<09:55,  7.63s/it]"
          ]
        },
        {
          "output_type": "stream",
          "name": "stdout",
          "text": [
            "Epoch: 22, Loss: 1.3311233520507812\n"
          ]
        },
        {
          "output_type": "stream",
          "name": "stderr",
          "text": [
            "\r 23%|██▎       | 23/100 [02:59<09:47,  7.63s/it]"
          ]
        },
        {
          "output_type": "stream",
          "name": "stdout",
          "text": [
            "Epoch: 23, Loss: 1.4793239831924438\n"
          ]
        },
        {
          "output_type": "stream",
          "name": "stderr",
          "text": [
            "\r 24%|██▍       | 24/100 [03:06<09:24,  7.43s/it]"
          ]
        },
        {
          "output_type": "stream",
          "name": "stdout",
          "text": [
            "Epoch: 24, Loss: 1.6419076919555664\n"
          ]
        },
        {
          "output_type": "stream",
          "name": "stderr",
          "text": [
            "\r 25%|██▌       | 25/100 [03:14<09:27,  7.56s/it]"
          ]
        },
        {
          "output_type": "stream",
          "name": "stdout",
          "text": [
            "Epoch: 25, Loss: 1.2551809549331665\n"
          ]
        },
        {
          "output_type": "stream",
          "name": "stderr",
          "text": [
            "\r 26%|██▌       | 26/100 [03:21<09:01,  7.32s/it]"
          ]
        },
        {
          "output_type": "stream",
          "name": "stdout",
          "text": [
            "Epoch: 26, Loss: 1.319373369216919\n"
          ]
        },
        {
          "output_type": "stream",
          "name": "stderr",
          "text": [
            "\r 27%|██▋       | 27/100 [03:29<09:09,  7.53s/it]"
          ]
        },
        {
          "output_type": "stream",
          "name": "stdout",
          "text": [
            "Epoch: 27, Loss: 1.2911067008972168\n"
          ]
        },
        {
          "output_type": "stream",
          "name": "stderr",
          "text": [
            "\r 28%|██▊       | 28/100 [03:36<08:45,  7.29s/it]"
          ]
        },
        {
          "output_type": "stream",
          "name": "stdout",
          "text": [
            "Epoch: 28, Loss: 1.3610830307006836\n"
          ]
        },
        {
          "output_type": "stream",
          "name": "stderr",
          "text": [
            "\r 29%|██▉       | 29/100 [03:44<08:54,  7.53s/it]"
          ]
        },
        {
          "output_type": "stream",
          "name": "stdout",
          "text": [
            "Epoch: 29, Loss: 1.0908353328704834\n"
          ]
        },
        {
          "output_type": "stream",
          "name": "stderr",
          "text": [
            "\r 30%|███       | 30/100 [03:50<08:31,  7.30s/it]"
          ]
        },
        {
          "output_type": "stream",
          "name": "stdout",
          "text": [
            "Epoch: 30, Loss: 1.2094981670379639\n"
          ]
        },
        {
          "output_type": "stream",
          "name": "stderr",
          "text": [
            "\r 31%|███       | 31/100 [03:59<08:40,  7.55s/it]"
          ]
        },
        {
          "output_type": "stream",
          "name": "stdout",
          "text": [
            "Epoch: 31, Loss: 1.606271743774414\n"
          ]
        },
        {
          "output_type": "stream",
          "name": "stderr",
          "text": [
            "\r 32%|███▏      | 32/100 [04:05<08:17,  7.32s/it]"
          ]
        },
        {
          "output_type": "stream",
          "name": "stdout",
          "text": [
            "Epoch: 32, Loss: 1.4398698806762695\n"
          ]
        },
        {
          "output_type": "stream",
          "name": "stderr",
          "text": [
            "\r 33%|███▎      | 33/100 [04:13<08:25,  7.55s/it]"
          ]
        },
        {
          "output_type": "stream",
          "name": "stdout",
          "text": [
            "Epoch: 33, Loss: 1.496410846710205\n"
          ]
        },
        {
          "output_type": "stream",
          "name": "stderr",
          "text": [
            "\r 34%|███▍      | 34/100 [04:20<08:03,  7.32s/it]"
          ]
        },
        {
          "output_type": "stream",
          "name": "stdout",
          "text": [
            "Epoch: 34, Loss: 1.11375892162323\n"
          ]
        },
        {
          "output_type": "stream",
          "name": "stderr",
          "text": [
            "\r 35%|███▌      | 35/100 [04:28<08:10,  7.54s/it]"
          ]
        },
        {
          "output_type": "stream",
          "name": "stdout",
          "text": [
            "Epoch: 35, Loss: 1.4157794713974\n"
          ]
        },
        {
          "output_type": "stream",
          "name": "stderr",
          "text": [
            "\r 36%|███▌      | 36/100 [04:35<07:46,  7.29s/it]"
          ]
        },
        {
          "output_type": "stream",
          "name": "stdout",
          "text": [
            "Epoch: 36, Loss: 1.0820322036743164\n"
          ]
        },
        {
          "output_type": "stream",
          "name": "stderr",
          "text": [
            "\r 37%|███▋      | 37/100 [04:43<07:53,  7.52s/it]"
          ]
        },
        {
          "output_type": "stream",
          "name": "stdout",
          "text": [
            "Epoch: 37, Loss: 1.1804450750350952\n"
          ]
        },
        {
          "output_type": "stream",
          "name": "stderr",
          "text": [
            "\r 38%|███▊      | 38/100 [04:52<08:05,  7.82s/it]"
          ]
        },
        {
          "output_type": "stream",
          "name": "stdout",
          "text": [
            "Epoch: 38, Loss: 1.381648302078247\n"
          ]
        },
        {
          "output_type": "stream",
          "name": "stderr",
          "text": [
            "\r 39%|███▉      | 39/100 [04:59<07:48,  7.67s/it]"
          ]
        },
        {
          "output_type": "stream",
          "name": "stdout",
          "text": [
            "Epoch: 39, Loss: 1.1143170595169067\n"
          ]
        },
        {
          "output_type": "stream",
          "name": "stderr",
          "text": [
            "\r 40%|████      | 40/100 [05:07<07:40,  7.67s/it]"
          ]
        },
        {
          "output_type": "stream",
          "name": "stdout",
          "text": [
            "Epoch: 40, Loss: 1.8352549076080322\n"
          ]
        },
        {
          "output_type": "stream",
          "name": "stderr",
          "text": [
            "\r 41%|████      | 41/100 [05:14<07:21,  7.49s/it]"
          ]
        },
        {
          "output_type": "stream",
          "name": "stdout",
          "text": [
            "Epoch: 41, Loss: 1.1110121011734009\n"
          ]
        },
        {
          "output_type": "stream",
          "name": "stderr",
          "text": [
            "\r 42%|████▏     | 42/100 [05:22<07:23,  7.64s/it]"
          ]
        },
        {
          "output_type": "stream",
          "name": "stdout",
          "text": [
            "Epoch: 42, Loss: 1.2400658130645752\n"
          ]
        },
        {
          "output_type": "stream",
          "name": "stderr",
          "text": [
            "\r 43%|████▎     | 43/100 [05:28<07:00,  7.37s/it]"
          ]
        },
        {
          "output_type": "stream",
          "name": "stdout",
          "text": [
            "Epoch: 43, Loss: 1.080901861190796\n"
          ]
        },
        {
          "output_type": "stream",
          "name": "stderr",
          "text": [
            "\r 44%|████▍     | 44/100 [05:36<07:03,  7.57s/it]"
          ]
        },
        {
          "output_type": "stream",
          "name": "stdout",
          "text": [
            "Epoch: 44, Loss: 1.1956465244293213\n"
          ]
        },
        {
          "output_type": "stream",
          "name": "stderr",
          "text": [
            "\r 45%|████▌     | 45/100 [05:43<06:42,  7.32s/it]"
          ]
        },
        {
          "output_type": "stream",
          "name": "stdout",
          "text": [
            "Epoch: 45, Loss: 1.021637201309204\n"
          ]
        },
        {
          "output_type": "stream",
          "name": "stderr",
          "text": [
            "\r 46%|████▌     | 46/100 [05:51<06:47,  7.55s/it]"
          ]
        },
        {
          "output_type": "stream",
          "name": "stdout",
          "text": [
            "Epoch: 46, Loss: 0.9964213967323303\n"
          ]
        },
        {
          "output_type": "stream",
          "name": "stderr",
          "text": [
            "\r 47%|████▋     | 47/100 [05:58<06:27,  7.31s/it]"
          ]
        },
        {
          "output_type": "stream",
          "name": "stdout",
          "text": [
            "Epoch: 47, Loss: 1.1061662435531616\n"
          ]
        },
        {
          "output_type": "stream",
          "name": "stderr",
          "text": [
            "\r 48%|████▊     | 48/100 [06:06<06:31,  7.53s/it]"
          ]
        },
        {
          "output_type": "stream",
          "name": "stdout",
          "text": [
            "Epoch: 48, Loss: 1.0074001550674438\n"
          ]
        },
        {
          "output_type": "stream",
          "name": "stderr",
          "text": [
            "\r 49%|████▉     | 49/100 [06:13<06:12,  7.30s/it]"
          ]
        },
        {
          "output_type": "stream",
          "name": "stdout",
          "text": [
            "Epoch: 49, Loss: 0.994920015335083\n"
          ]
        },
        {
          "output_type": "stream",
          "name": "stderr",
          "text": [
            "\r 50%|█████     | 50/100 [06:21<06:16,  7.54s/it]"
          ]
        },
        {
          "output_type": "stream",
          "name": "stdout",
          "text": [
            "Epoch: 50, Loss: 0.9733976125717163\n"
          ]
        },
        {
          "output_type": "stream",
          "name": "stderr",
          "text": [
            "\r 51%|█████     | 51/100 [06:28<05:58,  7.31s/it]"
          ]
        },
        {
          "output_type": "stream",
          "name": "stdout",
          "text": [
            "Epoch: 51, Loss: 0.9484869241714478\n"
          ]
        },
        {
          "output_type": "stream",
          "name": "stderr",
          "text": [
            "\r 52%|█████▏    | 52/100 [06:36<06:01,  7.52s/it]"
          ]
        },
        {
          "output_type": "stream",
          "name": "stdout",
          "text": [
            "Epoch: 52, Loss: 1.7245705127716064\n"
          ]
        },
        {
          "output_type": "stream",
          "name": "stderr",
          "text": [
            "\r 53%|█████▎    | 53/100 [06:42<05:42,  7.28s/it]"
          ]
        },
        {
          "output_type": "stream",
          "name": "stdout",
          "text": [
            "Epoch: 53, Loss: 0.8939281702041626\n"
          ]
        },
        {
          "output_type": "stream",
          "name": "stderr",
          "text": [
            "\r 54%|█████▍    | 54/100 [06:50<05:43,  7.47s/it]"
          ]
        },
        {
          "output_type": "stream",
          "name": "stdout",
          "text": [
            "Epoch: 54, Loss: 0.9867926239967346\n"
          ]
        },
        {
          "output_type": "stream",
          "name": "stderr",
          "text": [
            "\r 55%|█████▌    | 55/100 [06:57<05:27,  7.27s/it]"
          ]
        },
        {
          "output_type": "stream",
          "name": "stdout",
          "text": [
            "Epoch: 55, Loss: 0.9388020038604736\n"
          ]
        },
        {
          "output_type": "stream",
          "name": "stderr",
          "text": [
            "\r 56%|█████▌    | 56/100 [07:05<05:27,  7.44s/it]"
          ]
        },
        {
          "output_type": "stream",
          "name": "stdout",
          "text": [
            "Epoch: 56, Loss: 1.1811331510543823\n"
          ]
        },
        {
          "output_type": "stream",
          "name": "stderr",
          "text": [
            "\r 57%|█████▋    | 57/100 [07:12<05:14,  7.32s/it]"
          ]
        },
        {
          "output_type": "stream",
          "name": "stdout",
          "text": [
            "Epoch: 57, Loss: 0.9871504306793213\n"
          ]
        },
        {
          "output_type": "stream",
          "name": "stderr",
          "text": [
            "\r 58%|█████▊    | 58/100 [07:21<05:27,  7.80s/it]"
          ]
        },
        {
          "output_type": "stream",
          "name": "stdout",
          "text": [
            "Epoch: 58, Loss: 0.9777753353118896\n"
          ]
        },
        {
          "output_type": "stream",
          "name": "stderr",
          "text": [
            "\r 59%|█████▉    | 59/100 [07:29<05:20,  7.83s/it]"
          ]
        },
        {
          "output_type": "stream",
          "name": "stdout",
          "text": [
            "Epoch: 59, Loss: 0.8910067081451416\n"
          ]
        },
        {
          "output_type": "stream",
          "name": "stderr",
          "text": [
            "\r 60%|██████    | 60/100 [07:36<05:00,  7.52s/it]"
          ]
        },
        {
          "output_type": "stream",
          "name": "stdout",
          "text": [
            "Epoch: 60, Loss: 0.8786947727203369\n"
          ]
        },
        {
          "output_type": "stream",
          "name": "stderr",
          "text": [
            "\r 61%|██████    | 61/100 [07:44<04:59,  7.67s/it]"
          ]
        },
        {
          "output_type": "stream",
          "name": "stdout",
          "text": [
            "Epoch: 61, Loss: 0.9064375162124634\n"
          ]
        },
        {
          "output_type": "stream",
          "name": "stderr",
          "text": [
            "\r 62%|██████▏   | 62/100 [07:50<04:40,  7.38s/it]"
          ]
        },
        {
          "output_type": "stream",
          "name": "stdout",
          "text": [
            "Epoch: 62, Loss: 1.149276614189148\n"
          ]
        },
        {
          "output_type": "stream",
          "name": "stderr",
          "text": [
            "\r 63%|██████▎   | 63/100 [07:58<04:39,  7.56s/it]"
          ]
        },
        {
          "output_type": "stream",
          "name": "stdout",
          "text": [
            "Epoch: 63, Loss: 1.3048304319381714\n"
          ]
        },
        {
          "output_type": "stream",
          "name": "stderr",
          "text": [
            "\r 64%|██████▍   | 64/100 [08:05<04:22,  7.30s/it]"
          ]
        },
        {
          "output_type": "stream",
          "name": "stdout",
          "text": [
            "Epoch: 64, Loss: 0.8333754539489746\n"
          ]
        },
        {
          "output_type": "stream",
          "name": "stderr",
          "text": [
            "\r 65%|██████▌   | 65/100 [08:13<04:23,  7.53s/it]"
          ]
        },
        {
          "output_type": "stream",
          "name": "stdout",
          "text": [
            "Epoch: 65, Loss: 0.8392172455787659\n"
          ]
        },
        {
          "output_type": "stream",
          "name": "stderr",
          "text": [
            "\r 66%|██████▌   | 66/100 [08:20<04:08,  7.30s/it]"
          ]
        },
        {
          "output_type": "stream",
          "name": "stdout",
          "text": [
            "Epoch: 66, Loss: 0.795709490776062\n"
          ]
        },
        {
          "output_type": "stream",
          "name": "stderr",
          "text": [
            "\r 67%|██████▋   | 67/100 [08:28<04:08,  7.53s/it]"
          ]
        },
        {
          "output_type": "stream",
          "name": "stdout",
          "text": [
            "Epoch: 67, Loss: 1.0410243272781372\n"
          ]
        },
        {
          "output_type": "stream",
          "name": "stderr",
          "text": [
            "\r 68%|██████▊   | 68/100 [08:35<03:52,  7.27s/it]"
          ]
        },
        {
          "output_type": "stream",
          "name": "stdout",
          "text": [
            "Epoch: 68, Loss: 0.8275045156478882\n"
          ]
        },
        {
          "output_type": "stream",
          "name": "stderr",
          "text": [
            "\r 69%|██████▉   | 69/100 [08:42<03:51,  7.47s/it]"
          ]
        },
        {
          "output_type": "stream",
          "name": "stdout",
          "text": [
            "Epoch: 69, Loss: 1.0379537343978882\n"
          ]
        },
        {
          "output_type": "stream",
          "name": "stderr",
          "text": [
            "\r 70%|███████   | 70/100 [08:49<03:37,  7.24s/it]"
          ]
        },
        {
          "output_type": "stream",
          "name": "stdout",
          "text": [
            "Epoch: 70, Loss: 0.9351856708526611\n"
          ]
        },
        {
          "output_type": "stream",
          "name": "stderr",
          "text": [
            "\r 71%|███████   | 71/100 [08:57<03:36,  7.45s/it]"
          ]
        },
        {
          "output_type": "stream",
          "name": "stdout",
          "text": [
            "Epoch: 71, Loss: 0.902019739151001\n"
          ]
        },
        {
          "output_type": "stream",
          "name": "stderr",
          "text": [
            "\r 72%|███████▏  | 72/100 [09:04<03:22,  7.23s/it]"
          ]
        },
        {
          "output_type": "stream",
          "name": "stdout",
          "text": [
            "Epoch: 72, Loss: 0.8208370208740234\n"
          ]
        },
        {
          "output_type": "stream",
          "name": "stderr",
          "text": [
            "\r 73%|███████▎  | 73/100 [09:12<03:20,  7.44s/it]"
          ]
        },
        {
          "output_type": "stream",
          "name": "stdout",
          "text": [
            "Epoch: 73, Loss: 0.8728042840957642\n"
          ]
        },
        {
          "output_type": "stream",
          "name": "stderr",
          "text": [
            "\r 74%|███████▍  | 74/100 [09:19<03:08,  7.25s/it]"
          ]
        },
        {
          "output_type": "stream",
          "name": "stdout",
          "text": [
            "Epoch: 74, Loss: 1.1103196144104004\n"
          ]
        },
        {
          "output_type": "stream",
          "name": "stderr",
          "text": [
            "\r 75%|███████▌  | 75/100 [09:26<03:05,  7.41s/it]"
          ]
        },
        {
          "output_type": "stream",
          "name": "stdout",
          "text": [
            "Epoch: 75, Loss: 0.804144561290741\n"
          ]
        },
        {
          "output_type": "stream",
          "name": "stderr",
          "text": [
            "\r 76%|███████▌  | 76/100 [09:33<02:54,  7.29s/it]"
          ]
        },
        {
          "output_type": "stream",
          "name": "stdout",
          "text": [
            "Epoch: 76, Loss: 0.7732282876968384\n"
          ]
        },
        {
          "output_type": "stream",
          "name": "stderr",
          "text": [
            "\r 77%|███████▋  | 77/100 [09:41<02:49,  7.38s/it]"
          ]
        },
        {
          "output_type": "stream",
          "name": "stdout",
          "text": [
            "Epoch: 77, Loss: 0.8808126449584961\n"
          ]
        },
        {
          "output_type": "stream",
          "name": "stderr",
          "text": [
            "\r 78%|███████▊  | 78/100 [09:48<02:41,  7.34s/it]"
          ]
        },
        {
          "output_type": "stream",
          "name": "stdout",
          "text": [
            "Epoch: 78, Loss: 0.7988002300262451\n"
          ]
        },
        {
          "output_type": "stream",
          "name": "stderr",
          "text": [
            "\r 79%|███████▉  | 79/100 [09:57<02:43,  7.77s/it]"
          ]
        },
        {
          "output_type": "stream",
          "name": "stdout",
          "text": [
            "Epoch: 79, Loss: 0.7806093692779541\n"
          ]
        },
        {
          "output_type": "stream",
          "name": "stderr",
          "text": [
            "\r 80%|████████  | 80/100 [10:04<02:32,  7.64s/it]"
          ]
        },
        {
          "output_type": "stream",
          "name": "stdout",
          "text": [
            "Epoch: 80, Loss: 0.7347771525382996\n"
          ]
        },
        {
          "output_type": "stream",
          "name": "stderr",
          "text": [
            "\r 81%|████████  | 81/100 [10:12<02:23,  7.54s/it]"
          ]
        },
        {
          "output_type": "stream",
          "name": "stdout",
          "text": [
            "Epoch: 81, Loss: 0.9318368434906006\n"
          ]
        },
        {
          "output_type": "stream",
          "name": "stderr",
          "text": [
            "\r 82%|████████▏ | 82/100 [10:19<02:16,  7.57s/it]"
          ]
        },
        {
          "output_type": "stream",
          "name": "stdout",
          "text": [
            "Epoch: 82, Loss: 0.8014329671859741\n"
          ]
        },
        {
          "output_type": "stream",
          "name": "stderr",
          "text": [
            "\r 83%|████████▎ | 83/100 [10:26<02:05,  7.40s/it]"
          ]
        },
        {
          "output_type": "stream",
          "name": "stdout",
          "text": [
            "Epoch: 83, Loss: 0.7344963550567627\n"
          ]
        },
        {
          "output_type": "stream",
          "name": "stderr",
          "text": [
            "\r 84%|████████▍ | 84/100 [10:34<02:01,  7.57s/it]"
          ]
        },
        {
          "output_type": "stream",
          "name": "stdout",
          "text": [
            "Epoch: 84, Loss: 0.9185954928398132\n"
          ]
        },
        {
          "output_type": "stream",
          "name": "stderr",
          "text": [
            "\r 85%|████████▌ | 85/100 [10:41<01:49,  7.30s/it]"
          ]
        },
        {
          "output_type": "stream",
          "name": "stdout",
          "text": [
            "Epoch: 85, Loss: 0.848392903804779\n"
          ]
        },
        {
          "output_type": "stream",
          "name": "stderr",
          "text": [
            "\r 86%|████████▌ | 86/100 [10:49<01:45,  7.50s/it]"
          ]
        },
        {
          "output_type": "stream",
          "name": "stdout",
          "text": [
            "Epoch: 86, Loss: 0.7166116237640381\n"
          ]
        },
        {
          "output_type": "stream",
          "name": "stderr",
          "text": [
            "\r 87%|████████▋ | 87/100 [10:56<01:34,  7.26s/it]"
          ]
        },
        {
          "output_type": "stream",
          "name": "stdout",
          "text": [
            "Epoch: 87, Loss: 0.8188190460205078\n"
          ]
        },
        {
          "output_type": "stream",
          "name": "stderr",
          "text": [
            "\r 88%|████████▊ | 88/100 [11:04<01:29,  7.48s/it]"
          ]
        },
        {
          "output_type": "stream",
          "name": "stdout",
          "text": [
            "Epoch: 88, Loss: 0.8207554817199707\n"
          ]
        },
        {
          "output_type": "stream",
          "name": "stderr",
          "text": [
            "\r 89%|████████▉ | 89/100 [11:10<01:19,  7.23s/it]"
          ]
        },
        {
          "output_type": "stream",
          "name": "stdout",
          "text": [
            "Epoch: 89, Loss: 0.773224949836731\n"
          ]
        },
        {
          "output_type": "stream",
          "name": "stderr",
          "text": [
            "\r 90%|█████████ | 90/100 [11:18<01:14,  7.46s/it]"
          ]
        },
        {
          "output_type": "stream",
          "name": "stdout",
          "text": [
            "Epoch: 90, Loss: 0.7276590466499329\n"
          ]
        },
        {
          "output_type": "stream",
          "name": "stderr",
          "text": [
            "\r 91%|█████████ | 91/100 [11:25<01:05,  7.23s/it]"
          ]
        },
        {
          "output_type": "stream",
          "name": "stdout",
          "text": [
            "Epoch: 91, Loss: 0.8430317044258118\n"
          ]
        },
        {
          "output_type": "stream",
          "name": "stderr",
          "text": [
            "\r 92%|█████████▏| 92/100 [11:33<00:59,  7.45s/it]"
          ]
        },
        {
          "output_type": "stream",
          "name": "stdout",
          "text": [
            "Epoch: 92, Loss: 0.7088104486465454\n"
          ]
        },
        {
          "output_type": "stream",
          "name": "stderr",
          "text": [
            "\r 93%|█████████▎| 93/100 [11:40<00:50,  7.22s/it]"
          ]
        },
        {
          "output_type": "stream",
          "name": "stdout",
          "text": [
            "Epoch: 93, Loss: 0.7430026531219482\n"
          ]
        },
        {
          "output_type": "stream",
          "name": "stderr",
          "text": [
            "\r 94%|█████████▍| 94/100 [11:47<00:44,  7.44s/it]"
          ]
        },
        {
          "output_type": "stream",
          "name": "stdout",
          "text": [
            "Epoch: 94, Loss: 0.7606393694877625\n"
          ]
        },
        {
          "output_type": "stream",
          "name": "stderr",
          "text": [
            "\r 95%|█████████▌| 95/100 [11:54<00:36,  7.21s/it]"
          ]
        },
        {
          "output_type": "stream",
          "name": "stdout",
          "text": [
            "Epoch: 95, Loss: 0.6833232641220093\n"
          ]
        },
        {
          "output_type": "stream",
          "name": "stderr",
          "text": [
            "\r 96%|█████████▌| 96/100 [12:02<00:29,  7.44s/it]"
          ]
        },
        {
          "output_type": "stream",
          "name": "stdout",
          "text": [
            "Epoch: 96, Loss: 0.8263025283813477\n"
          ]
        },
        {
          "output_type": "stream",
          "name": "stderr",
          "text": [
            "\r 97%|█████████▋| 97/100 [12:09<00:21,  7.23s/it]"
          ]
        },
        {
          "output_type": "stream",
          "name": "stdout",
          "text": [
            "Epoch: 97, Loss: 0.6642577648162842\n"
          ]
        },
        {
          "output_type": "stream",
          "name": "stderr",
          "text": [
            "\r 98%|█████████▊| 98/100 [12:17<00:14,  7.48s/it]"
          ]
        },
        {
          "output_type": "stream",
          "name": "stdout",
          "text": [
            "Epoch: 98, Loss: 0.9257211685180664\n"
          ]
        },
        {
          "output_type": "stream",
          "name": "stderr",
          "text": [
            "\r 99%|█████████▉| 99/100 [12:26<00:07,  7.87s/it]"
          ]
        },
        {
          "output_type": "stream",
          "name": "stdout",
          "text": [
            "Epoch: 99, Loss: 0.6998384594917297\n"
          ]
        },
        {
          "output_type": "stream",
          "name": "stderr",
          "text": [
            "100%|██████████| 100/100 [12:33<00:00,  7.53s/it]"
          ]
        },
        {
          "output_type": "stream",
          "name": "stdout",
          "text": [
            "Epoch: 100, Loss: 0.7707847356796265\n"
          ]
        },
        {
          "output_type": "stream",
          "name": "stderr",
          "text": [
            "\n"
          ]
        }
      ],
      "source": [
        "num_epoch = 100\n",
        "loss_epoch = []\n",
        "for epoch in tqdm(range(1, num_epoch+1)):\n",
        "  if epoch == num_epoch:\n",
        "    pos_z, neg_z, summary, loss = train_infomax_linkpred(epoch)\n",
        "  else:\n",
        "    loss = train_infomax_linkpred(epoch)\n",
        "  loss_epoch.append(loss)\n",
        "test_pos_z, test_neg_z, test_summary = model(dataset.test_features, dataset.edge_index)"
      ]
    },
    {
      "cell_type": "code",
      "execution_count": null,
      "metadata": {
        "id": "rVAOuQ5Ri__G"
      },
      "outputs": [],
      "source": [
        "train_user_representations = {}\n",
        "test_user_representations = {}\n",
        "for i in range(pos_z.shape[0]):\n",
        "  train_user_representations[i] = (dataset.user_ids[i], pos_z[i].detach(), dataset.train_labels[i])\n",
        "for i in range(test_pos_z.shape[0]):\n",
        "  test_user_representations[i] = (dataset.user_ids[i], test_pos_z[i].detach(), dataset.test_labels[i])"
      ]
    },
    {
      "cell_type": "code",
      "execution_count": null,
      "metadata": {
        "id": "FPnPkGd4i__G"
      },
      "outputs": [],
      "source": [
        "user_dataset = UserDataset(train_user_representations)\n",
        "\n",
        "n = len(user_dataset)\n",
        "\n",
        "indices = np.arange(n)\n",
        "indices = np.random.permutation(indices)\n",
        "\n",
        "train_indices = indices [:int(0.8*n)]\n",
        "test_indices = indices[int(0.8*n):]\n",
        "\n",
        "user_train_dataset = Subset(user_dataset, train_indices)\n",
        "user_test_dataset = Subset(user_dataset, test_indices)\n",
        "\n",
        "user_train_dataloader = DataLoader(user_train_dataset, batch_size=64, shuffle=True)\n",
        "user_test_dataloader = DataLoader(user_test_dataset, batch_size=64, shuffle=True)"
      ]
    },
    {
      "cell_type": "code",
      "execution_count": null,
      "metadata": {
        "id": "7L1dEI81i__G"
      },
      "outputs": [],
      "source": [
        "num_classes = 186\n",
        "classes = np.arange(0, num_classes)"
      ]
    },
    {
      "cell_type": "code",
      "execution_count": null,
      "metadata": {
        "colab": {
          "base_uri": "https://localhost:8080/"
        },
        "id": "hr2vyM3ji__H",
        "outputId": "069b0e8a-1438-4c0b-8d13-2684cc9835f3"
      },
      "outputs": [
        {
          "output_type": "stream",
          "name": "stdout",
          "text": [
            "Epoch: 0, Loss: 5.155427932739258\n",
            "Hits@1: 0.06047077849507332\n",
            "Epoch: 1, Loss: 5.084137916564941\n",
            "Hits@1: 0.08645232021808624\n",
            "Epoch: 2, Loss: 5.018618583679199\n",
            "Hits@1: 0.10460256785154343\n",
            "Epoch: 3, Loss: 4.958208084106445\n",
            "Hits@1: 0.12050565332174301\n",
            "Epoch: 4, Loss: 4.902405261993408\n",
            "Hits@1: 0.12737493216991425\n",
            "Epoch: 5, Loss: 4.850795745849609\n",
            "Hits@1: 0.12934403121471405\n",
            "Epoch: 6, Loss: 4.803010940551758\n",
            "Hits@1: 0.13211730122566223\n",
            "Epoch: 7, Loss: 4.75872278213501\n",
            "Hits@1: 0.13189934194087982\n",
            "Epoch: 8, Loss: 4.717621326446533\n",
            "Hits@1: 0.13388347625732422\n",
            "Epoch: 9, Loss: 4.679427146911621\n",
            "Hits@1: 0.13461248576641083\n",
            "Epoch: 10, Loss: 4.643889427185059\n",
            "Hits@1: 0.13459746539592743\n",
            "Epoch: 11, Loss: 4.610775947570801\n",
            "Hits@1: 0.13484548032283783\n",
            "Epoch: 12, Loss: 4.579861640930176\n",
            "Hits@1: 0.13509349524974823\n",
            "Epoch: 13, Loss: 4.550949573516846\n",
            "Hits@1: 0.13658158481121063\n",
            "Epoch: 14, Loss: 4.523855209350586\n",
            "Hits@1: 0.13707761466503143\n",
            "Epoch: 15, Loss: 4.4984130859375\n",
            "Hits@1: 0.13709264993667603\n",
            "Epoch: 16, Loss: 4.474470615386963\n",
            "Hits@1: 0.13662667572498322\n",
            "Epoch: 17, Loss: 4.45189094543457\n",
            "Hits@1: 0.13834775984287262\n",
            "Epoch: 18, Loss: 4.430548667907715\n",
            "Hits@1: 0.14008387923240662\n",
            "Epoch: 19, Loss: 4.410332679748535\n",
            "Hits@1: 0.14225588738918304\n",
            "Epoch: 20, Loss: 4.391144275665283\n",
            "Hits@1: 0.14470598101615906\n",
            "Epoch: 21, Loss: 4.372896194458008\n",
            "Hits@1: 0.14578823745250702\n",
            "Epoch: 22, Loss: 4.355508804321289\n",
            "Hits@1: 0.14650222659111023\n",
            "Epoch: 23, Loss: 4.338911056518555\n",
            "Hits@1: 0.14775733649730682\n",
            "Epoch: 24, Loss: 4.323041915893555\n",
            "Hits@1: 0.14998947083950043\n",
            "Epoch: 25, Loss: 4.3078436851501465\n",
            "Hits@1: 0.15293560922145844\n",
            "Epoch: 26, Loss: 4.293264865875244\n",
            "Hits@1: 0.15420573949813843\n",
            "Epoch: 27, Loss: 4.279262065887451\n",
            "Hits@1: 0.15422077476978302\n",
            "Epoch: 28, Loss: 4.265793323516846\n",
            "Hits@1: 0.15617483854293823\n",
            "Epoch: 29, Loss: 4.252823352813721\n",
            "Hits@1: 0.15839195251464844\n",
            "Epoch: 30, Loss: 4.240317344665527\n",
            "Hits@1: 0.15767796337604523\n",
            "Epoch: 31, Loss: 4.22824764251709\n",
            "Hits@1: 0.15988004207611084\n",
            "Epoch: 32, Loss: 4.216583251953125\n",
            "Hits@1: 0.16160112619400024\n",
            "Epoch: 33, Loss: 4.205300331115723\n",
            "Hits@1: 0.16211219131946564\n",
            "Epoch: 34, Loss: 4.1943769454956055\n",
            "Hits@1: 0.16239027678966522\n",
            "Epoch: 35, Loss: 4.1837897300720215\n",
            "Hits@1: 0.16282618045806885\n",
            "Epoch: 36, Loss: 4.173521041870117\n",
            "Hits@1: 0.16454724967479706\n",
            "Epoch: 37, Loss: 4.163552761077881\n",
            "Hits@1: 0.16508838534355164\n",
            "Epoch: 38, Loss: 4.153867244720459\n",
            "Hits@1: 0.16513347625732422\n",
            "Epoch: 39, Loss: 4.144450664520264\n",
            "Hits@1: 0.16660654544830322\n",
            "Epoch: 40, Loss: 4.135288238525391\n",
            "Hits@1: 0.16804954409599304\n",
            "Epoch: 41, Loss: 4.126367568969727\n",
            "Hits@1: 0.16905663907527924\n",
            "Epoch: 42, Loss: 4.117675304412842\n",
            "Hits@1: 0.168635755777359\n",
            "Epoch: 43, Loss: 4.109201908111572\n",
            "Hits@1: 0.17079274356365204\n",
            "Epoch: 44, Loss: 4.100935935974121\n",
            "Hits@1: 0.17203281819820404\n",
            "Epoch: 45, Loss: 4.092868804931641\n",
            "Hits@1: 0.17353595793247223\n",
            "Epoch: 46, Loss: 4.084990501403809\n",
            "Hits@1: 0.17502404749393463\n",
            "Epoch: 47, Loss: 4.0772929191589355\n",
            "Hits@1: 0.17601610720157623\n",
            "Epoch: 48, Loss: 4.069767475128174\n",
            "Hits@1: 0.17798520624637604\n",
            "Epoch: 49, Loss: 4.062407493591309\n",
            "Hits@1: 0.17921026051044464\n",
            "Epoch: 50, Loss: 4.055206298828125\n",
            "Hits@1: 0.17924031615257263\n",
            "Epoch: 51, Loss: 4.048157215118408\n",
            "Hits@1: 0.18096140027046204\n",
            "Epoch: 52, Loss: 4.041252613067627\n",
            "Hits@1: 0.18218643963336945\n",
            "Epoch: 53, Loss: 4.034487724304199\n",
            "Hits@1: 0.18390752375125885\n",
            "Epoch: 54, Loss: 4.027857303619385\n",
            "Hits@1: 0.18492965400218964\n",
            "Epoch: 55, Loss: 4.021354675292969\n",
            "Hits@1: 0.18613967299461365\n",
            "Epoch: 56, Loss: 4.014977931976318\n",
            "Hits@1: 0.18713173270225525\n",
            "Epoch: 57, Loss: 4.008718967437744\n",
            "Hits@1: 0.1862448900938034\n",
            "Epoch: 58, Loss: 4.002575874328613\n",
            "Hits@1: 0.18838684260845184\n",
            "Epoch: 59, Loss: 3.9965434074401855\n",
            "Hits@1: 0.18934884667396545\n",
            "Epoch: 60, Loss: 3.99061918258667\n",
            "Hits@1: 0.19060395658016205\n",
            "Epoch: 61, Loss: 3.984797477722168\n",
            "Hits@1: 0.19016805291175842\n",
            "Epoch: 62, Loss: 3.9790754318237305\n",
            "Hits@1: 0.19190415740013123\n",
            "Epoch: 63, Loss: 3.973450183868408\n",
            "Hits@1: 0.19237013161182404\n",
            "Epoch: 64, Loss: 3.967918634414673\n",
            "Hits@1: 0.19430916011333466\n",
            "Epoch: 65, Loss: 3.9624764919281006\n",
            "Hits@1: 0.19579724967479706\n",
            "Epoch: 66, Loss: 3.9571220874786377\n",
            "Hits@1: 0.19537638127803802\n",
            "Epoch: 67, Loss: 3.951852560043335\n",
            "Hits@1: 0.19588744640350342\n",
            "Epoch: 68, Loss: 3.946664333343506\n",
            "Hits@1: 0.19775132834911346\n",
            "Epoch: 69, Loss: 3.941556215286255\n",
            "Hits@1: 0.19703733921051025\n",
            "Epoch: 70, Loss: 3.9365246295928955\n",
            "Hits@1: 0.19708243012428284\n",
            "Epoch: 71, Loss: 3.9315686225891113\n",
            "Hits@1: 0.19829244911670685\n",
            "Epoch: 72, Loss: 3.926684617996216\n",
            "Hits@1: 0.19762355089187622\n",
            "Epoch: 73, Loss: 3.9218716621398926\n",
            "Hits@1: 0.19984066486358643\n",
            "Epoch: 74, Loss: 3.9171266555786133\n",
            "Hits@1: 0.20153167843818665\n",
            "Epoch: 75, Loss: 3.9124491214752197\n",
            "Hits@1: 0.20252375304698944\n",
            "Epoch: 76, Loss: 3.9078359603881836\n",
            "Hits@1: 0.20304983854293823\n",
            "Epoch: 77, Loss: 3.9032857418060303\n",
            "Hits@1: 0.20546987652778625\n",
            "Epoch: 78, Loss: 3.8987975120544434\n",
            "Hits@1: 0.20526695251464844\n",
            "Epoch: 79, Loss: 3.8943686485290527\n",
            "Hits@1: 0.20625901222229004\n",
            "Epoch: 80, Loss: 3.889998435974121\n",
            "Hits@1: 0.20892706513404846\n",
            "Epoch: 81, Loss: 3.885684013366699\n",
            "Hits@1: 0.20920513570308685\n",
            "Epoch: 82, Loss: 3.881425142288208\n",
            "Hits@1: 0.20974627137184143\n",
            "Epoch: 83, Loss: 3.877220630645752\n",
            "Hits@1: 0.21193331480026245\n",
            "Epoch: 84, Loss: 3.873068332672119\n",
            "Hits@1: 0.21168529987335205\n",
            "Epoch: 85, Loss: 3.868966579437256\n",
            "Hits@1: 0.21221140027046204\n",
            "Epoch: 86, Loss: 3.864915609359741\n",
            "Hits@1: 0.21339134871959686\n",
            "Epoch: 87, Loss: 3.860913038253784\n",
            "Hits@1: 0.21321849524974823\n",
            "Epoch: 88, Loss: 3.8569586277008057\n",
            "Hits@1: 0.21368445456027985\n",
            "Epoch: 89, Loss: 3.8530499935150146\n",
            "Hits@1: 0.21372956037521362\n",
            "Epoch: 90, Loss: 3.8491876125335693\n",
            "Hits@1: 0.21520261466503143\n",
            "Epoch: 91, Loss: 3.845369338989258\n",
            "Hits@1: 0.21616461873054504\n",
            "Epoch: 92, Loss: 3.8415937423706055\n",
            "Hits@1: 0.21569864451885223\n",
            "Epoch: 93, Loss: 3.8378617763519287\n",
            "Hits@1: 0.21667568385601044\n",
            "Epoch: 94, Loss: 3.8341710567474365\n",
            "Hits@1: 0.21744979918003082\n",
            "Epoch: 95, Loss: 3.8305203914642334\n",
            "Hits@1: 0.21889279782772064\n",
            "Epoch: 96, Loss: 3.8269104957580566\n",
            "Hits@1: 0.21890781819820404\n",
            "Epoch: 97, Loss: 3.8233399391174316\n",
            "Hits@1: 0.21940386295318604\n",
            "Epoch: 98, Loss: 3.8198068141937256\n",
            "Hits@1: 0.22112493216991425\n",
            "Epoch: 99, Loss: 3.8163113594055176\n",
            "Hits@1: 0.22092202305793762\n",
            "Epoch: 100, Loss: 3.8128514289855957\n",
            "Hits@1: 0.22383807599544525\n",
            "Epoch: 101, Loss: 3.8094286918640137\n",
            "Hits@1: 0.22388318181037903\n",
            "Epoch: 102, Loss: 3.8060410022735596\n",
            "Hits@1: 0.22507816553115845\n",
            "Epoch: 103, Loss: 3.802686929702759\n",
            "Hits@1: 0.22487524151802063\n",
            "Epoch: 104, Loss: 3.7993667125701904\n",
            "Hits@1: 0.22726522386074066\n",
            "Epoch: 105, Loss: 3.7960801124572754\n",
            "Hits@1: 0.22754327952861786\n",
            "Epoch: 106, Loss: 3.792825937271118\n",
            "Hits@1: 0.22706228494644165\n",
            "Epoch: 107, Loss: 3.7896034717559814\n",
            "Hits@1: 0.22754327952861786\n",
            "Epoch: 108, Loss: 3.786412000656128\n",
            "Hits@1: 0.22755831480026245\n",
            "Epoch: 109, Loss: 3.7832510471343994\n",
            "Hits@1: 0.22875331342220306\n",
            "Epoch: 110, Loss: 3.780121088027954\n",
            "Hits@1: 0.22782136499881744\n",
            "Epoch: 111, Loss: 3.777019739151001\n",
            "Hits@1: 0.22901634871959686\n",
            "Epoch: 112, Loss: 3.7739474773406982\n",
            "Hits@1: 0.22811447083950043\n",
            "Epoch: 113, Loss: 3.770904064178467\n",
            "Hits@1: 0.23025642335414886\n",
            "Epoch: 114, Loss: 3.767888307571411\n",
            "Hits@1: 0.23172950744628906\n",
            "Epoch: 115, Loss: 3.764899969100952\n",
            "Hits@1: 0.23225559294223785\n",
            "Epoch: 116, Loss: 3.76193904876709\n",
            "Hits@1: 0.23181968927383423\n",
            "Epoch: 117, Loss: 3.7590043544769287\n",
            "Hits@1: 0.23323261737823486\n",
            "Epoch: 118, Loss: 3.756096124649048\n",
            "Hits@1: 0.23279671370983124\n",
            "Epoch: 119, Loss: 3.7532126903533936\n",
            "Hits@1: 0.23524680733680725\n",
            "Epoch: 120, Loss: 3.7503554821014404\n",
            "Hits@1: 0.23403678834438324\n",
            "Epoch: 121, Loss: 3.7475223541259766\n",
            "Hits@1: 0.23523177206516266\n",
            "Epoch: 122, Loss: 3.74471378326416\n",
            "Hits@1: 0.23602092266082764\n",
            "Epoch: 123, Loss: 3.741929769515991\n",
            "Hits@1: 0.23628397285938263\n",
            "Epoch: 124, Loss: 3.739168405532837\n",
            "Hits@1: 0.23651695251464844\n",
            "Epoch: 125, Loss: 3.7364308834075928\n",
            "Hits@1: 0.23797498643398285\n",
            "Epoch: 126, Loss: 3.733715534210205\n",
            "Hits@1: 0.23750901222229004\n",
            "Epoch: 127, Loss: 3.7310235500335693\n",
            "Hits@1: 0.23895201086997986\n",
            "Epoch: 128, Loss: 3.7283527851104736\n",
            "Hits@1: 0.23901213705539703\n",
            "Epoch: 129, Loss: 3.7257044315338135\n",
            "Hits@1: 0.24092110991477966\n",
            "Epoch: 130, Loss: 3.7230770587921143\n",
            "Hits@1: 0.24047017097473145\n",
            "Epoch: 131, Loss: 3.720470905303955\n",
            "Hits@1: 0.24191316962242126\n",
            "Epoch: 132, Loss: 3.717885732650757\n",
            "Hits@1: 0.2407933473587036\n",
            "Epoch: 133, Loss: 3.7153213024139404\n",
            "Hits@1: 0.24245430529117584\n",
            "Epoch: 134, Loss: 3.7127768993377686\n",
            "Hits@1: 0.24270232021808624\n",
            "Epoch: 135, Loss: 3.710252285003662\n",
            "Hits@1: 0.24370941519737244\n",
            "Epoch: 136, Loss: 3.707747220993042\n",
            "Hits@1: 0.24464134871959686\n",
            "Epoch: 137, Loss: 3.705261468887329\n",
            "Hits@1: 0.24494948983192444\n",
            "Epoch: 138, Loss: 3.7027945518493652\n",
            "Hits@1: 0.24658039212226868\n",
            "Epoch: 139, Loss: 3.7003467082977295\n",
            "Hits@1: 0.24615950882434845\n",
            "Epoch: 140, Loss: 3.6979172229766846\n",
            "Hits@1: 0.24662548303604126\n",
            "Epoch: 141, Loss: 3.695505380630493\n",
            "Hits@1: 0.24594154953956604\n",
            "Epoch: 142, Loss: 3.6931118965148926\n",
            "Hits@1: 0.24834656715393066\n",
            "Epoch: 143, Loss: 3.6907360553741455\n",
            "Hits@1: 0.24791064858436584\n",
            "Epoch: 144, Loss: 3.688378095626831\n",
            "Hits@1: 0.24863967299461365\n",
            "Epoch: 145, Loss: 3.6860368251800537\n",
            "Hits@1: 0.24794071912765503\n",
            "Epoch: 146, Loss: 3.6837124824523926\n",
            "Hits@1: 0.24915072321891785\n",
            "Epoch: 147, Loss: 3.6814050674438477\n",
            "Hits@1: 0.24961669743061066\n",
            "Epoch: 148, Loss: 3.6791136264801025\n",
            "Hits@1: 0.25105971097946167\n",
            "Epoch: 149, Loss: 3.676839590072632\n",
            "Hits@1: 0.25060877203941345\n",
            "Epoch: 150, Loss: 3.6745808124542236\n",
            "Hits@1: 0.25180375576019287\n",
            "Epoch: 151, Loss: 3.6723380088806152\n",
            "Hits@1: 0.25211188197135925\n",
            "Epoch: 152, Loss: 3.6701107025146484\n",
            "Hits@1: 0.25209686160087585\n",
            "Epoch: 153, Loss: 3.6678988933563232\n",
            "Hits@1: 0.2514279782772064\n",
            "Epoch: 154, Loss: 3.6657021045684814\n",
            "Hits@1: 0.25307390093803406\n",
            "Epoch: 155, Loss: 3.6635208129882812\n",
            "Hits@1: 0.25240498781204224\n",
            "Epoch: 156, Loss: 3.661353826522827\n",
            "Hits@1: 0.25262296199798584\n",
            "Epoch: 157, Loss: 3.6592016220092773\n",
            "Hits@1: 0.25405094027519226\n",
            "Epoch: 158, Loss: 3.657064437866211\n",
            "Hits@1: 0.2552609443664551\n",
            "Epoch: 159, Loss: 3.6549410820007324\n",
            "Hits@1: 0.25504299998283386\n",
            "Epoch: 160, Loss: 3.652832269668579\n",
            "Hits@1: 0.25507307052612305\n",
            "Epoch: 161, Loss: 3.6507368087768555\n",
            "Hits@1: 0.25580206513404846\n",
            "Epoch: 162, Loss: 3.6486551761627197\n",
            "Hits@1: 0.25657618045806885\n",
            "Epoch: 163, Loss: 3.646587371826172\n",
            "Hits@1: 0.25638827681541443\n",
            "Epoch: 164, Loss: 3.6445326805114746\n",
            "Hits@1: 0.25781625509262085\n",
            "Epoch: 165, Loss: 3.6424918174743652\n",
            "Hits@1: 0.25809434056282043\n",
            "Epoch: 166, Loss: 3.6404635906219482\n",
            "Hits@1: 0.25879329442977905\n",
            "Epoch: 167, Loss: 3.638448715209961\n",
            "Hits@1: 0.25832730531692505\n",
            "Epoch: 168, Loss: 3.636446475982666\n",
            "Hits@1: 0.25904130935668945\n",
            "Epoch: 169, Loss: 3.6344566345214844\n",
            "Hits@1: 0.25950726866722107\n",
            "Epoch: 170, Loss: 3.632479429244995\n",
            "Hits@1: 0.25834235548973083\n",
            "Epoch: 171, Loss: 3.630514621734619\n",
            "Hits@1: 0.25977030396461487\n",
            "Epoch: 172, Loss: 3.6285622119903564\n",
            "Hits@1: 0.25978535413742065\n",
            "Epoch: 173, Loss: 3.626621723175049\n",
            "Hits@1: 0.25981539487838745\n",
            "Epoch: 174, Loss: 3.6246931552886963\n",
            "Hits@1: 0.25958243012428284\n",
            "Epoch: 175, Loss: 3.6227760314941406\n",
            "Hits@1: 0.26124340295791626\n",
            "Epoch: 176, Loss: 3.620870351791382\n",
            "Hits@1: 0.26006340980529785\n",
            "Epoch: 177, Loss: 3.6189768314361572\n",
            "Hits@1: 0.26074737310409546\n",
            "Epoch: 178, Loss: 3.6170945167541504\n",
            "Hits@1: 0.26029640436172485\n",
            "Epoch: 179, Loss: 3.6152231693267822\n",
            "Hits@1: 0.26054441928863525\n",
            "Epoch: 180, Loss: 3.61336350440979\n",
            "Hits@1: 0.2596275210380554\n",
            "Epoch: 181, Loss: 3.6115143299102783\n",
            "Hits@1: 0.26175445318222046\n",
            "Epoch: 182, Loss: 3.6096761226654053\n",
            "Hits@1: 0.2627164423465729\n",
            "Epoch: 183, Loss: 3.607848882675171\n",
            "Hits@1: 0.2624834477901459\n",
            "Epoch: 184, Loss: 3.606032133102417\n",
            "Hits@1: 0.2620776295661926\n",
            "Epoch: 185, Loss: 3.6042261123657227\n",
            "Hits@1: 0.2634755074977875\n",
            "Epoch: 186, Loss: 3.602430582046509\n",
            "Hits@1: 0.26277658343315125\n",
            "Epoch: 187, Loss: 3.60064435005188\n",
            "Hits@1: 0.26352062821388245\n",
            "Epoch: 188, Loss: 3.5988693237304688\n",
            "Hits@1: 0.2644525468349457\n",
            "Epoch: 189, Loss: 3.597104549407959\n",
            "Hits@1: 0.26473063230514526\n",
            "Epoch: 190, Loss: 3.595349073410034\n",
            "Hits@1: 0.26597070693969727\n",
            "Epoch: 191, Loss: 3.5936038494110107\n",
            "Hits@1: 0.26646673679351807\n",
            "Epoch: 192, Loss: 3.5918681621551514\n",
            "Hits@1: 0.26551976799964905\n",
            "Epoch: 193, Loss: 3.5901427268981934\n",
            "Hits@1: 0.26598575711250305\n",
            "Epoch: 194, Loss: 3.588425874710083\n",
            "Hits@1: 0.2648058235645294\n",
            "Epoch: 195, Loss: 3.5867197513580322\n",
            "Hits@1: 0.26553481817245483\n",
            "Epoch: 196, Loss: 3.585022449493408\n",
            "Hits@1: 0.2662939131259918\n",
            "Epoch: 197, Loss: 3.5833346843719482\n",
            "Hits@1: 0.26772186160087585\n",
            "Epoch: 198, Loss: 3.581655502319336\n",
            "Hits@1: 0.2700667381286621\n",
            "Epoch: 199, Loss: 3.5799858570098877\n",
            "Hits@1: 0.26795485615730286\n",
            "hits@1: 0.267489, hits@5: 0.502458, hits@10: 0.614764, hits@20: 0.740959\n",
            "hits@50: 0.905273, hits@100: 0.987103\n",
            "map@1: 0.267489, map@5: 0.351050, map@10: 0.365832, map@20: 0.374394\n",
            "map@50: 0.379788, map@100: 0.381010\n",
            "ndcg@1: 0.267489, ndcg@5: 0.388572, ndcg@10: 0.424685, ndcg@20: 0.456350\n",
            "ndcg@50: 0.489237, ndcg@100: 0.502652\n"
          ]
        }
      ],
      "source": [
        "head_model = train2task()\n",
        "torch.save(head_model.state_dict(), 'node_mix_infomax_linkpred_model.pth')"
      ]
    },
    {
      "cell_type": "markdown",
      "metadata": {
        "id": "8F9aiXG-kO2r"
      },
      "source": [
        "### Node dropout, Infomax + Link pred"
      ]
    },
    {
      "cell_type": "code",
      "execution_count": null,
      "metadata": {
        "id": "JsIqi4pCkZkW"
      },
      "outputs": [],
      "source": [
        "# device = torch.device('cuda' if torch.cuda.is_available() else 'cpu')\n",
        "device = torch.device('cpu')\n",
        "model = DeepGraphInfomax(hidden_channels=128,\n",
        "                         encoder=Encoder(interm_channels=74, hidden_channels=128,\n",
        "                                         num_features=128),\n",
        "                         summary=lambda z, *args, **kwargs: torch.sigmoid(z.mean(dim=0)),\n",
        "                         corruption=node_dropout).to(device)\n",
        "linkmodel = LinkPredHead()\n",
        "optimizer = torch.optim.AdamW(model.parameters(), lr=0.0005)\n",
        "loss_bce = nn.BCEWithLogitsLoss()"
      ]
    },
    {
      "cell_type": "code",
      "execution_count": null,
      "metadata": {
        "colab": {
          "base_uri": "https://localhost:8080/"
        },
        "id": "x8dYRrGukZke",
        "outputId": "a2c06f4c-6192-4877-abf1-4eafae0e3499"
      },
      "outputs": [
        {
          "output_type": "stream",
          "name": "stderr",
          "text": [
            "  1%|          | 1/100 [00:10<16:50, 10.20s/it]"
          ]
        },
        {
          "output_type": "stream",
          "name": "stdout",
          "text": [
            "Epoch: 1, Loss: 3.8799002170562744\n"
          ]
        },
        {
          "output_type": "stream",
          "name": "stderr",
          "text": [
            "\r  2%|▏         | 2/100 [00:17<14:05,  8.63s/it]"
          ]
        },
        {
          "output_type": "stream",
          "name": "stdout",
          "text": [
            "Epoch: 2, Loss: 3.5561585426330566\n"
          ]
        },
        {
          "output_type": "stream",
          "name": "stderr",
          "text": [
            "\r  3%|▎         | 3/100 [00:27<14:44,  9.12s/it]"
          ]
        },
        {
          "output_type": "stream",
          "name": "stdout",
          "text": [
            "Epoch: 3, Loss: 3.5263118743896484\n"
          ]
        },
        {
          "output_type": "stream",
          "name": "stderr",
          "text": [
            "\r  4%|▍         | 4/100 [00:41<17:57, 11.23s/it]"
          ]
        },
        {
          "output_type": "stream",
          "name": "stdout",
          "text": [
            "Epoch: 4, Loss: 3.481123208999634\n"
          ]
        },
        {
          "output_type": "stream",
          "name": "stderr",
          "text": [
            "\r  5%|▌         | 5/100 [00:51<16:47, 10.61s/it]"
          ]
        },
        {
          "output_type": "stream",
          "name": "stdout",
          "text": [
            "Epoch: 5, Loss: 3.0215132236480713\n"
          ]
        },
        {
          "output_type": "stream",
          "name": "stderr",
          "text": [
            "\r  6%|▌         | 6/100 [00:59<15:09,  9.68s/it]"
          ]
        },
        {
          "output_type": "stream",
          "name": "stdout",
          "text": [
            "Epoch: 6, Loss: 3.2386960983276367\n"
          ]
        },
        {
          "output_type": "stream",
          "name": "stderr",
          "text": [
            "\r  7%|▋         | 7/100 [01:07<14:28,  9.33s/it]"
          ]
        },
        {
          "output_type": "stream",
          "name": "stdout",
          "text": [
            "Epoch: 7, Loss: 3.191718101501465\n"
          ]
        },
        {
          "output_type": "stream",
          "name": "stderr",
          "text": [
            "\r  8%|▊         | 8/100 [01:15<13:35,  8.86s/it]"
          ]
        },
        {
          "output_type": "stream",
          "name": "stdout",
          "text": [
            "Epoch: 8, Loss: 3.200770378112793\n"
          ]
        },
        {
          "output_type": "stream",
          "name": "stderr",
          "text": [
            "\r  9%|▉         | 9/100 [01:24<13:14,  8.73s/it]"
          ]
        },
        {
          "output_type": "stream",
          "name": "stdout",
          "text": [
            "Epoch: 9, Loss: 3.2664012908935547\n"
          ]
        },
        {
          "output_type": "stream",
          "name": "stderr",
          "text": [
            "\r 10%|█         | 10/100 [01:32<13:06,  8.74s/it]"
          ]
        },
        {
          "output_type": "stream",
          "name": "stdout",
          "text": [
            "Epoch: 10, Loss: 3.320202112197876\n"
          ]
        },
        {
          "output_type": "stream",
          "name": "stderr",
          "text": [
            "\r 11%|█         | 11/100 [01:40<12:25,  8.38s/it]"
          ]
        },
        {
          "output_type": "stream",
          "name": "stdout",
          "text": [
            "Epoch: 11, Loss: 3.019913673400879\n"
          ]
        },
        {
          "output_type": "stream",
          "name": "stderr",
          "text": [
            "\r 12%|█▏        | 12/100 [01:49<12:24,  8.46s/it]"
          ]
        },
        {
          "output_type": "stream",
          "name": "stdout",
          "text": [
            "Epoch: 12, Loss: 3.1790578365325928\n"
          ]
        },
        {
          "output_type": "stream",
          "name": "stderr",
          "text": [
            "\r 13%|█▎        | 13/100 [01:56<11:45,  8.11s/it]"
          ]
        },
        {
          "output_type": "stream",
          "name": "stdout",
          "text": [
            "Epoch: 13, Loss: 3.0948691368103027\n"
          ]
        },
        {
          "output_type": "stream",
          "name": "stderr",
          "text": [
            "\r 14%|█▍        | 14/100 [02:05<12:04,  8.43s/it]"
          ]
        },
        {
          "output_type": "stream",
          "name": "stdout",
          "text": [
            "Epoch: 14, Loss: 3.026639699935913\n"
          ]
        },
        {
          "output_type": "stream",
          "name": "stderr",
          "text": [
            "\r 15%|█▌        | 15/100 [02:13<11:52,  8.38s/it]"
          ]
        },
        {
          "output_type": "stream",
          "name": "stdout",
          "text": [
            "Epoch: 15, Loss: 3.095552921295166\n"
          ]
        },
        {
          "output_type": "stream",
          "name": "stderr",
          "text": [
            "\r 16%|█▌        | 16/100 [02:21<11:24,  8.15s/it]"
          ]
        },
        {
          "output_type": "stream",
          "name": "stdout",
          "text": [
            "Epoch: 16, Loss: 3.1355197429656982\n"
          ]
        },
        {
          "output_type": "stream",
          "name": "stderr",
          "text": [
            "\r 17%|█▋        | 17/100 [02:30<11:35,  8.38s/it]"
          ]
        },
        {
          "output_type": "stream",
          "name": "stdout",
          "text": [
            "Epoch: 17, Loss: 2.8428714275360107\n"
          ]
        },
        {
          "output_type": "stream",
          "name": "stderr",
          "text": [
            "\r 18%|█▊        | 18/100 [02:37<11:03,  8.09s/it]"
          ]
        },
        {
          "output_type": "stream",
          "name": "stdout",
          "text": [
            "Epoch: 18, Loss: 3.0672106742858887\n"
          ]
        },
        {
          "output_type": "stream",
          "name": "stderr",
          "text": [
            "\r 19%|█▉        | 19/100 [02:46<11:13,  8.32s/it]"
          ]
        },
        {
          "output_type": "stream",
          "name": "stdout",
          "text": [
            "Epoch: 19, Loss: 3.1016013622283936\n"
          ]
        },
        {
          "output_type": "stream",
          "name": "stderr",
          "text": [
            "\r 20%|██        | 20/100 [02:54<10:43,  8.04s/it]"
          ]
        },
        {
          "output_type": "stream",
          "name": "stdout",
          "text": [
            "Epoch: 20, Loss: 2.810856819152832\n"
          ]
        },
        {
          "output_type": "stream",
          "name": "stderr",
          "text": [
            "\r 21%|██        | 21/100 [03:02<10:37,  8.07s/it]"
          ]
        },
        {
          "output_type": "stream",
          "name": "stdout",
          "text": [
            "Epoch: 21, Loss: 2.846606492996216\n"
          ]
        },
        {
          "output_type": "stream",
          "name": "stderr",
          "text": [
            "\r 22%|██▏       | 22/100 [03:10<10:38,  8.19s/it]"
          ]
        },
        {
          "output_type": "stream",
          "name": "stdout",
          "text": [
            "Epoch: 22, Loss: 2.6299173831939697\n"
          ]
        },
        {
          "output_type": "stream",
          "name": "stderr",
          "text": [
            "\r 23%|██▎       | 23/100 [03:18<10:14,  7.98s/it]"
          ]
        },
        {
          "output_type": "stream",
          "name": "stdout",
          "text": [
            "Epoch: 23, Loss: 3.155036687850952\n"
          ]
        },
        {
          "output_type": "stream",
          "name": "stderr",
          "text": [
            "\r 24%|██▍       | 24/100 [03:26<10:21,  8.17s/it]"
          ]
        },
        {
          "output_type": "stream",
          "name": "stdout",
          "text": [
            "Epoch: 24, Loss: 3.1829307079315186\n"
          ]
        },
        {
          "output_type": "stream",
          "name": "stderr",
          "text": [
            "\r 25%|██▌       | 25/100 [03:35<10:24,  8.32s/it]"
          ]
        },
        {
          "output_type": "stream",
          "name": "stdout",
          "text": [
            "Epoch: 25, Loss: 2.9033031463623047\n"
          ]
        },
        {
          "output_type": "stream",
          "name": "stderr",
          "text": [
            "\r 26%|██▌       | 26/100 [03:44<10:22,  8.41s/it]"
          ]
        },
        {
          "output_type": "stream",
          "name": "stdout",
          "text": [
            "Epoch: 26, Loss: 2.6108057498931885\n"
          ]
        },
        {
          "output_type": "stream",
          "name": "stderr",
          "text": [
            "\r 27%|██▋       | 27/100 [03:52<10:20,  8.50s/it]"
          ]
        },
        {
          "output_type": "stream",
          "name": "stdout",
          "text": [
            "Epoch: 27, Loss: 3.133852005004883\n"
          ]
        },
        {
          "output_type": "stream",
          "name": "stderr",
          "text": [
            "\r 28%|██▊       | 28/100 [04:00<09:48,  8.17s/it]"
          ]
        },
        {
          "output_type": "stream",
          "name": "stdout",
          "text": [
            "Epoch: 28, Loss: 3.0625596046447754\n"
          ]
        },
        {
          "output_type": "stream",
          "name": "stderr",
          "text": [
            "\r 29%|██▉       | 29/100 [04:09<09:53,  8.36s/it]"
          ]
        },
        {
          "output_type": "stream",
          "name": "stdout",
          "text": [
            "Epoch: 29, Loss: 3.2569961547851562\n"
          ]
        },
        {
          "output_type": "stream",
          "name": "stderr",
          "text": [
            "\r 30%|███       | 30/100 [04:16<09:25,  8.07s/it]"
          ]
        },
        {
          "output_type": "stream",
          "name": "stdout",
          "text": [
            "Epoch: 30, Loss: 3.0811307430267334\n"
          ]
        },
        {
          "output_type": "stream",
          "name": "stderr",
          "text": [
            "\r 31%|███       | 31/100 [04:25<09:32,  8.30s/it]"
          ]
        },
        {
          "output_type": "stream",
          "name": "stdout",
          "text": [
            "Epoch: 31, Loss: 2.526677370071411\n"
          ]
        },
        {
          "output_type": "stream",
          "name": "stderr",
          "text": [
            "\r 32%|███▏      | 32/100 [04:33<09:30,  8.39s/it]"
          ]
        },
        {
          "output_type": "stream",
          "name": "stdout",
          "text": [
            "Epoch: 32, Loss: 3.2386057376861572\n"
          ]
        },
        {
          "output_type": "stream",
          "name": "stderr",
          "text": [
            "\r 33%|███▎      | 33/100 [04:41<09:06,  8.16s/it]"
          ]
        },
        {
          "output_type": "stream",
          "name": "stdout",
          "text": [
            "Epoch: 33, Loss: 3.127969980239868\n"
          ]
        },
        {
          "output_type": "stream",
          "name": "stderr",
          "text": [
            "\r 34%|███▍      | 34/100 [04:50<09:12,  8.36s/it]"
          ]
        },
        {
          "output_type": "stream",
          "name": "stdout",
          "text": [
            "Epoch: 34, Loss: 3.025425434112549\n"
          ]
        },
        {
          "output_type": "stream",
          "name": "stderr",
          "text": [
            "\r 35%|███▌      | 35/100 [04:57<08:40,  8.01s/it]"
          ]
        },
        {
          "output_type": "stream",
          "name": "stdout",
          "text": [
            "Epoch: 35, Loss: 3.091251850128174\n"
          ]
        },
        {
          "output_type": "stream",
          "name": "stderr",
          "text": [
            "\r 36%|███▌      | 36/100 [05:05<08:35,  8.06s/it]"
          ]
        },
        {
          "output_type": "stream",
          "name": "stdout",
          "text": [
            "Epoch: 36, Loss: 2.834530830383301\n"
          ]
        },
        {
          "output_type": "stream",
          "name": "stderr",
          "text": [
            "\r 37%|███▋      | 37/100 [05:12<08:11,  7.80s/it]"
          ]
        },
        {
          "output_type": "stream",
          "name": "stdout",
          "text": [
            "Epoch: 37, Loss: 2.9161033630371094\n"
          ]
        },
        {
          "output_type": "stream",
          "name": "stderr",
          "text": [
            "\r 38%|███▊      | 38/100 [05:21<08:10,  7.92s/it]"
          ]
        },
        {
          "output_type": "stream",
          "name": "stdout",
          "text": [
            "Epoch: 38, Loss: 2.5751819610595703\n"
          ]
        },
        {
          "output_type": "stream",
          "name": "stderr",
          "text": [
            "\r 39%|███▉      | 39/100 [05:29<08:15,  8.12s/it]"
          ]
        },
        {
          "output_type": "stream",
          "name": "stdout",
          "text": [
            "Epoch: 39, Loss: 3.0209598541259766\n"
          ]
        },
        {
          "output_type": "stream",
          "name": "stderr",
          "text": [
            "\r 40%|████      | 40/100 [05:37<07:54,  7.92s/it]"
          ]
        },
        {
          "output_type": "stream",
          "name": "stdout",
          "text": [
            "Epoch: 40, Loss: 2.6153688430786133\n"
          ]
        },
        {
          "output_type": "stream",
          "name": "stderr",
          "text": [
            "\r 41%|████      | 41/100 [05:45<07:59,  8.13s/it]"
          ]
        },
        {
          "output_type": "stream",
          "name": "stdout",
          "text": [
            "Epoch: 41, Loss: 3.047680377960205\n"
          ]
        },
        {
          "output_type": "stream",
          "name": "stderr",
          "text": [
            "\r 42%|████▏     | 42/100 [05:53<07:38,  7.91s/it]"
          ]
        },
        {
          "output_type": "stream",
          "name": "stdout",
          "text": [
            "Epoch: 42, Loss: 2.840416669845581\n"
          ]
        },
        {
          "output_type": "stream",
          "name": "stderr",
          "text": [
            "\r 43%|████▎     | 43/100 [06:01<07:46,  8.18s/it]"
          ]
        },
        {
          "output_type": "stream",
          "name": "stdout",
          "text": [
            "Epoch: 43, Loss: 2.499664783477783\n"
          ]
        },
        {
          "output_type": "stream",
          "name": "stderr",
          "text": [
            "\r 44%|████▍     | 44/100 [06:09<07:33,  8.09s/it]"
          ]
        },
        {
          "output_type": "stream",
          "name": "stdout",
          "text": [
            "Epoch: 44, Loss: 3.1664838790893555\n"
          ]
        },
        {
          "output_type": "stream",
          "name": "stderr",
          "text": [
            "\r 45%|████▌     | 45/100 [06:17<07:25,  8.11s/it]"
          ]
        },
        {
          "output_type": "stream",
          "name": "stdout",
          "text": [
            "Epoch: 45, Loss: 3.2506115436553955\n"
          ]
        },
        {
          "output_type": "stream",
          "name": "stderr",
          "text": [
            "\r 46%|████▌     | 46/100 [06:27<07:35,  8.44s/it]"
          ]
        },
        {
          "output_type": "stream",
          "name": "stdout",
          "text": [
            "Epoch: 46, Loss: 3.2048707008361816\n"
          ]
        },
        {
          "output_type": "stream",
          "name": "stderr",
          "text": [
            "\r 47%|████▋     | 47/100 [06:34<07:17,  8.26s/it]"
          ]
        },
        {
          "output_type": "stream",
          "name": "stdout",
          "text": [
            "Epoch: 47, Loss: 3.108206272125244\n"
          ]
        },
        {
          "output_type": "stream",
          "name": "stderr",
          "text": [
            "\r 48%|████▊     | 48/100 [06:43<07:11,  8.29s/it]"
          ]
        },
        {
          "output_type": "stream",
          "name": "stdout",
          "text": [
            "Epoch: 48, Loss: 2.3807852268218994\n"
          ]
        },
        {
          "output_type": "stream",
          "name": "stderr",
          "text": [
            "\r 49%|████▉     | 49/100 [06:50<06:47,  7.99s/it]"
          ]
        },
        {
          "output_type": "stream",
          "name": "stdout",
          "text": [
            "Epoch: 49, Loss: 3.074702501296997\n"
          ]
        },
        {
          "output_type": "stream",
          "name": "stderr",
          "text": [
            "\r 50%|█████     | 50/100 [06:59<06:47,  8.15s/it]"
          ]
        },
        {
          "output_type": "stream",
          "name": "stdout",
          "text": [
            "Epoch: 50, Loss: 2.4425833225250244\n"
          ]
        },
        {
          "output_type": "stream",
          "name": "stderr",
          "text": [
            "\r 51%|█████     | 51/100 [07:06<06:23,  7.83s/it]"
          ]
        },
        {
          "output_type": "stream",
          "name": "stdout",
          "text": [
            "Epoch: 51, Loss: 2.8964760303497314\n"
          ]
        },
        {
          "output_type": "stream",
          "name": "stderr",
          "text": [
            "\r 52%|█████▏    | 52/100 [07:14<06:27,  8.08s/it]"
          ]
        },
        {
          "output_type": "stream",
          "name": "stdout",
          "text": [
            "Epoch: 52, Loss: 2.2449018955230713\n"
          ]
        },
        {
          "output_type": "stream",
          "name": "stderr",
          "text": [
            "\r 53%|█████▎    | 53/100 [07:22<06:13,  7.95s/it]"
          ]
        },
        {
          "output_type": "stream",
          "name": "stdout",
          "text": [
            "Epoch: 53, Loss: 2.881822109222412\n"
          ]
        },
        {
          "output_type": "stream",
          "name": "stderr",
          "text": [
            "\r 54%|█████▍    | 54/100 [07:31<06:13,  8.13s/it]"
          ]
        },
        {
          "output_type": "stream",
          "name": "stdout",
          "text": [
            "Epoch: 54, Loss: 3.2685694694519043\n"
          ]
        },
        {
          "output_type": "stream",
          "name": "stderr",
          "text": [
            "\r 55%|█████▌    | 55/100 [07:39<06:13,  8.31s/it]"
          ]
        },
        {
          "output_type": "stream",
          "name": "stdout",
          "text": [
            "Epoch: 55, Loss: 3.2967002391815186\n"
          ]
        },
        {
          "output_type": "stream",
          "name": "stderr",
          "text": [
            "\r 56%|█████▌    | 56/100 [07:47<05:53,  8.03s/it]"
          ]
        },
        {
          "output_type": "stream",
          "name": "stdout",
          "text": [
            "Epoch: 56, Loss: 2.2019448280334473\n"
          ]
        },
        {
          "output_type": "stream",
          "name": "stderr",
          "text": [
            "\r 57%|█████▋    | 57/100 [07:56<05:59,  8.37s/it]"
          ]
        },
        {
          "output_type": "stream",
          "name": "stdout",
          "text": [
            "Epoch: 57, Loss: 2.061732530593872\n"
          ]
        },
        {
          "output_type": "stream",
          "name": "stderr",
          "text": [
            "\r 58%|█████▊    | 58/100 [08:03<05:38,  8.06s/it]"
          ]
        },
        {
          "output_type": "stream",
          "name": "stdout",
          "text": [
            "Epoch: 58, Loss: 2.0578713417053223\n"
          ]
        },
        {
          "output_type": "stream",
          "name": "stderr",
          "text": [
            "\r 59%|█████▉    | 59/100 [08:12<05:38,  8.26s/it]"
          ]
        },
        {
          "output_type": "stream",
          "name": "stdout",
          "text": [
            "Epoch: 59, Loss: 2.1723439693450928\n"
          ]
        },
        {
          "output_type": "stream",
          "name": "stderr",
          "text": [
            "\r 60%|██████    | 60/100 [08:20<05:24,  8.10s/it]"
          ]
        },
        {
          "output_type": "stream",
          "name": "stdout",
          "text": [
            "Epoch: 60, Loss: 1.81612229347229\n"
          ]
        },
        {
          "output_type": "stream",
          "name": "stderr",
          "text": [
            "\r 61%|██████    | 61/100 [08:27<05:11,  7.99s/it]"
          ]
        },
        {
          "output_type": "stream",
          "name": "stdout",
          "text": [
            "Epoch: 61, Loss: 3.583026885986328\n"
          ]
        },
        {
          "output_type": "stream",
          "name": "stderr",
          "text": [
            "\r 62%|██████▏   | 62/100 [08:36<05:07,  8.10s/it]"
          ]
        },
        {
          "output_type": "stream",
          "name": "stdout",
          "text": [
            "Epoch: 62, Loss: 3.879030704498291\n"
          ]
        },
        {
          "output_type": "stream",
          "name": "stderr",
          "text": [
            "\r 63%|██████▎   | 63/100 [08:43<04:53,  7.94s/it]"
          ]
        },
        {
          "output_type": "stream",
          "name": "stdout",
          "text": [
            "Epoch: 63, Loss: 3.8042047023773193\n"
          ]
        },
        {
          "output_type": "stream",
          "name": "stderr",
          "text": [
            "\r 64%|██████▍   | 64/100 [08:52<04:54,  8.19s/it]"
          ]
        },
        {
          "output_type": "stream",
          "name": "stdout",
          "text": [
            "Epoch: 64, Loss: 2.893742084503174\n"
          ]
        },
        {
          "output_type": "stream",
          "name": "stderr",
          "text": [
            "\r 65%|██████▌   | 65/100 [09:00<04:38,  7.97s/it]"
          ]
        },
        {
          "output_type": "stream",
          "name": "stdout",
          "text": [
            "Epoch: 65, Loss: 3.2911911010742188\n"
          ]
        },
        {
          "output_type": "stream",
          "name": "stderr",
          "text": [
            "\r 66%|██████▌   | 66/100 [09:08<04:39,  8.21s/it]"
          ]
        },
        {
          "output_type": "stream",
          "name": "stdout",
          "text": [
            "Epoch: 66, Loss: 3.205655336380005\n"
          ]
        },
        {
          "output_type": "stream",
          "name": "stderr",
          "text": [
            "\r 67%|██████▋   | 67/100 [09:17<04:33,  8.30s/it]"
          ]
        },
        {
          "output_type": "stream",
          "name": "stdout",
          "text": [
            "Epoch: 67, Loss: 3.2659752368927\n"
          ]
        },
        {
          "output_type": "stream",
          "name": "stderr",
          "text": [
            "\r 68%|██████▊   | 68/100 [09:26<04:30,  8.45s/it]"
          ]
        },
        {
          "output_type": "stream",
          "name": "stdout",
          "text": [
            "Epoch: 68, Loss: 3.3171753883361816\n"
          ]
        },
        {
          "output_type": "stream",
          "name": "stderr",
          "text": [
            "\r 69%|██████▉   | 69/100 [09:34<04:19,  8.38s/it]"
          ]
        },
        {
          "output_type": "stream",
          "name": "stdout",
          "text": [
            "Epoch: 69, Loss: 3.0113513469696045\n"
          ]
        },
        {
          "output_type": "stream",
          "name": "stderr",
          "text": [
            "\r 70%|███████   | 70/100 [09:42<04:05,  8.17s/it]"
          ]
        },
        {
          "output_type": "stream",
          "name": "stdout",
          "text": [
            "Epoch: 70, Loss: 3.2539029121398926\n"
          ]
        },
        {
          "output_type": "stream",
          "name": "stderr",
          "text": [
            "\r 71%|███████   | 71/100 [09:51<04:06,  8.49s/it]"
          ]
        },
        {
          "output_type": "stream",
          "name": "stdout",
          "text": [
            "Epoch: 71, Loss: 3.077662944793701\n"
          ]
        },
        {
          "output_type": "stream",
          "name": "stderr",
          "text": [
            "\r 72%|███████▏  | 72/100 [09:59<03:53,  8.35s/it]"
          ]
        },
        {
          "output_type": "stream",
          "name": "stdout",
          "text": [
            "Epoch: 72, Loss: 2.435187816619873\n"
          ]
        },
        {
          "output_type": "stream",
          "name": "stderr",
          "text": [
            "\r 73%|███████▎  | 73/100 [10:07<03:46,  8.38s/it]"
          ]
        },
        {
          "output_type": "stream",
          "name": "stdout",
          "text": [
            "Epoch: 73, Loss: 3.0788934230804443\n"
          ]
        },
        {
          "output_type": "stream",
          "name": "stderr",
          "text": [
            "\r 74%|███████▍  | 74/100 [10:16<03:40,  8.48s/it]"
          ]
        },
        {
          "output_type": "stream",
          "name": "stdout",
          "text": [
            "Epoch: 74, Loss: 2.8194491863250732\n"
          ]
        },
        {
          "output_type": "stream",
          "name": "stderr",
          "text": [
            "\r 75%|███████▌  | 75/100 [10:23<03:22,  8.12s/it]"
          ]
        },
        {
          "output_type": "stream",
          "name": "stdout",
          "text": [
            "Epoch: 75, Loss: 2.9657645225524902\n"
          ]
        },
        {
          "output_type": "stream",
          "name": "stderr",
          "text": [
            "\r 76%|███████▌  | 76/100 [10:32<03:19,  8.30s/it]"
          ]
        },
        {
          "output_type": "stream",
          "name": "stdout",
          "text": [
            "Epoch: 76, Loss: 2.997180938720703\n"
          ]
        },
        {
          "output_type": "stream",
          "name": "stderr",
          "text": [
            "\r 77%|███████▋  | 77/100 [10:45<03:45,  9.80s/it]"
          ]
        },
        {
          "output_type": "stream",
          "name": "stdout",
          "text": [
            "Epoch: 77, Loss: 2.9431307315826416\n"
          ]
        },
        {
          "output_type": "stream",
          "name": "stderr",
          "text": [
            "\r 78%|███████▊  | 78/100 [10:53<03:23,  9.25s/it]"
          ]
        },
        {
          "output_type": "stream",
          "name": "stdout",
          "text": [
            "Epoch: 78, Loss: 2.7808141708374023\n"
          ]
        },
        {
          "output_type": "stream",
          "name": "stderr",
          "text": [
            "\r 79%|███████▉  | 79/100 [11:02<03:11,  9.14s/it]"
          ]
        },
        {
          "output_type": "stream",
          "name": "stdout",
          "text": [
            "Epoch: 79, Loss: 3.0553770065307617\n"
          ]
        },
        {
          "output_type": "stream",
          "name": "stderr",
          "text": [
            "\r 80%|████████  | 80/100 [11:10<02:52,  8.64s/it]"
          ]
        },
        {
          "output_type": "stream",
          "name": "stdout",
          "text": [
            "Epoch: 80, Loss: 2.965224266052246\n"
          ]
        },
        {
          "output_type": "stream",
          "name": "stderr",
          "text": [
            "\r 81%|████████  | 81/100 [11:19<02:48,  8.88s/it]"
          ]
        },
        {
          "output_type": "stream",
          "name": "stdout",
          "text": [
            "Epoch: 81, Loss: 2.807588577270508\n"
          ]
        },
        {
          "output_type": "stream",
          "name": "stderr",
          "text": [
            "\r 82%|████████▏ | 82/100 [11:28<02:39,  8.85s/it]"
          ]
        },
        {
          "output_type": "stream",
          "name": "stdout",
          "text": [
            "Epoch: 82, Loss: 3.222757339477539\n"
          ]
        },
        {
          "output_type": "stream",
          "name": "stderr",
          "text": [
            "\r 83%|████████▎ | 83/100 [11:35<02:20,  8.28s/it]"
          ]
        },
        {
          "output_type": "stream",
          "name": "stdout",
          "text": [
            "Epoch: 83, Loss: 2.694793462753296\n"
          ]
        },
        {
          "output_type": "stream",
          "name": "stderr",
          "text": [
            "\r 84%|████████▍ | 84/100 [11:43<02:13,  8.35s/it]"
          ]
        },
        {
          "output_type": "stream",
          "name": "stdout",
          "text": [
            "Epoch: 84, Loss: 2.968139410018921\n"
          ]
        },
        {
          "output_type": "stream",
          "name": "stderr",
          "text": [
            "\r 85%|████████▌ | 85/100 [11:51<02:01,  8.11s/it]"
          ]
        },
        {
          "output_type": "stream",
          "name": "stdout",
          "text": [
            "Epoch: 85, Loss: 2.848836660385132\n"
          ]
        },
        {
          "output_type": "stream",
          "name": "stderr",
          "text": [
            "\r 86%|████████▌ | 86/100 [11:59<01:52,  8.02s/it]"
          ]
        },
        {
          "output_type": "stream",
          "name": "stdout",
          "text": [
            "Epoch: 86, Loss: 2.946662425994873\n"
          ]
        },
        {
          "output_type": "stream",
          "name": "stderr",
          "text": [
            "\r 87%|████████▋ | 87/100 [12:08<01:48,  8.33s/it]"
          ]
        },
        {
          "output_type": "stream",
          "name": "stdout",
          "text": [
            "Epoch: 87, Loss: 2.98275089263916\n"
          ]
        },
        {
          "output_type": "stream",
          "name": "stderr",
          "text": [
            "\r 88%|████████▊ | 88/100 [12:17<01:43,  8.58s/it]"
          ]
        },
        {
          "output_type": "stream",
          "name": "stdout",
          "text": [
            "Epoch: 88, Loss: 2.1955714225769043\n"
          ]
        },
        {
          "output_type": "stream",
          "name": "stderr",
          "text": [
            "\r 89%|████████▉ | 89/100 [12:26<01:35,  8.73s/it]"
          ]
        },
        {
          "output_type": "stream",
          "name": "stdout",
          "text": [
            "Epoch: 89, Loss: 2.313645839691162\n"
          ]
        },
        {
          "output_type": "stream",
          "name": "stderr",
          "text": [
            "\r 90%|█████████ | 90/100 [12:34<01:26,  8.65s/it]"
          ]
        },
        {
          "output_type": "stream",
          "name": "stdout",
          "text": [
            "Epoch: 90, Loss: 3.2426090240478516\n"
          ]
        },
        {
          "output_type": "stream",
          "name": "stderr",
          "text": [
            "\r 91%|█████████ | 91/100 [12:42<01:14,  8.30s/it]"
          ]
        },
        {
          "output_type": "stream",
          "name": "stdout",
          "text": [
            "Epoch: 91, Loss: 2.0695273876190186\n"
          ]
        },
        {
          "output_type": "stream",
          "name": "stderr",
          "text": [
            "\r 92%|█████████▏| 92/100 [12:51<01:07,  8.45s/it]"
          ]
        },
        {
          "output_type": "stream",
          "name": "stdout",
          "text": [
            "Epoch: 92, Loss: 3.1278977394104004\n"
          ]
        },
        {
          "output_type": "stream",
          "name": "stderr",
          "text": [
            "\r 93%|█████████▎| 93/100 [12:58<00:56,  8.11s/it]"
          ]
        },
        {
          "output_type": "stream",
          "name": "stdout",
          "text": [
            "Epoch: 93, Loss: 2.605182647705078\n"
          ]
        },
        {
          "output_type": "stream",
          "name": "stderr",
          "text": [
            "\r 94%|█████████▍| 94/100 [13:07<00:49,  8.28s/it]"
          ]
        },
        {
          "output_type": "stream",
          "name": "stdout",
          "text": [
            "Epoch: 94, Loss: 1.8050992488861084\n"
          ]
        },
        {
          "output_type": "stream",
          "name": "stderr",
          "text": [
            "\r 95%|█████████▌| 95/100 [13:15<00:41,  8.21s/it]"
          ]
        },
        {
          "output_type": "stream",
          "name": "stdout",
          "text": [
            "Epoch: 95, Loss: 3.070251226425171\n"
          ]
        },
        {
          "output_type": "stream",
          "name": "stderr",
          "text": [
            "\r 96%|█████████▌| 96/100 [13:22<00:32,  8.03s/it]"
          ]
        },
        {
          "output_type": "stream",
          "name": "stdout",
          "text": [
            "Epoch: 96, Loss: 3.2370011806488037\n"
          ]
        },
        {
          "output_type": "stream",
          "name": "stderr",
          "text": [
            "\r 97%|█████████▋| 97/100 [13:31<00:24,  8.17s/it]"
          ]
        },
        {
          "output_type": "stream",
          "name": "stdout",
          "text": [
            "Epoch: 97, Loss: 1.834581732749939\n"
          ]
        },
        {
          "output_type": "stream",
          "name": "stderr",
          "text": [
            "\r 98%|█████████▊| 98/100 [13:38<00:15,  7.95s/it]"
          ]
        },
        {
          "output_type": "stream",
          "name": "stdout",
          "text": [
            "Epoch: 98, Loss: 1.912804365158081\n"
          ]
        },
        {
          "output_type": "stream",
          "name": "stderr",
          "text": [
            "\r 99%|█████████▉| 99/100 [13:47<00:08,  8.13s/it]"
          ]
        },
        {
          "output_type": "stream",
          "name": "stdout",
          "text": [
            "Epoch: 99, Loss: 2.6845946311950684\n"
          ]
        },
        {
          "output_type": "stream",
          "name": "stderr",
          "text": [
            "100%|██████████| 100/100 [13:54<00:00,  8.35s/it]"
          ]
        },
        {
          "output_type": "stream",
          "name": "stdout",
          "text": [
            "Epoch: 100, Loss: 1.856714129447937\n"
          ]
        },
        {
          "output_type": "stream",
          "name": "stderr",
          "text": [
            "\n"
          ]
        }
      ],
      "source": [
        "num_epoch = 100\n",
        "loss_epoch = []\n",
        "for epoch in tqdm(range(1, num_epoch+1)):\n",
        "  if epoch == num_epoch:\n",
        "    pos_z, neg_z, summary, loss = train_infomax_linkpred(epoch)\n",
        "  else:\n",
        "    loss = train_infomax_linkpred(epoch)\n",
        "  loss_epoch.append(loss)\n",
        "test_pos_z, test_neg_z, test_summary = model(dataset.test_features, dataset.edge_index)"
      ]
    },
    {
      "cell_type": "code",
      "execution_count": null,
      "metadata": {
        "id": "4B9ZplOYkZke"
      },
      "outputs": [],
      "source": [
        "train_user_representations = {}\n",
        "test_user_representations = {}\n",
        "for i in range(pos_z.shape[0]):\n",
        "  train_user_representations[i] = (dataset.user_ids[i], pos_z[i].detach(), dataset.train_labels[i])\n",
        "for i in range(test_pos_z.shape[0]):\n",
        "  test_user_representations[i] = (dataset.user_ids[i], test_pos_z[i].detach(), dataset.test_labels[i])"
      ]
    },
    {
      "cell_type": "code",
      "execution_count": null,
      "metadata": {
        "id": "nOuAg2SCkZke"
      },
      "outputs": [],
      "source": [
        "user_dataset = UserDataset(train_user_representations)\n",
        "\n",
        "n = len(user_dataset)\n",
        "\n",
        "indices = np.arange(n)\n",
        "indices = np.random.permutation(indices)\n",
        "\n",
        "train_indices = indices [:int(0.8*n)]\n",
        "test_indices = indices[int(0.8*n):]\n",
        "\n",
        "user_train_dataset = Subset(user_dataset, train_indices)\n",
        "user_test_dataset = Subset(user_dataset, test_indices)\n",
        "\n",
        "user_train_dataloader = DataLoader(user_train_dataset, batch_size=64, shuffle=True)\n",
        "user_test_dataloader = DataLoader(user_test_dataset, batch_size=64, shuffle=True)"
      ]
    },
    {
      "cell_type": "code",
      "execution_count": null,
      "metadata": {
        "id": "-4nbScB9kZke"
      },
      "outputs": [],
      "source": [
        "num_classes = 186\n",
        "classes = np.arange(0, num_classes)"
      ]
    },
    {
      "cell_type": "code",
      "execution_count": null,
      "metadata": {
        "colab": {
          "base_uri": "https://localhost:8080/"
        },
        "id": "kUxyiEfkkZke",
        "outputId": "4ba1f9b4-49ff-4c2c-f7a7-c66df293bedd"
      },
      "outputs": [
        {
          "output_type": "stream",
          "name": "stdout",
          "text": [
            "Epoch: 0, Loss: 5.17767858505249\n",
            "Hits@1: 0.057772666215896606\n",
            "Epoch: 1, Loss: 5.126504898071289\n",
            "Hits@1: 0.09021764993667603\n",
            "Epoch: 2, Loss: 5.078027248382568\n",
            "Hits@1: 0.10703763365745544\n",
            "Epoch: 3, Loss: 5.031926155090332\n",
            "Hits@1: 0.11799542605876923\n",
            "Epoch: 4, Loss: 4.9880218505859375\n",
            "Hits@1: 0.13461248576641083\n",
            "Epoch: 5, Loss: 4.946174621582031\n",
            "Hits@1: 0.144578218460083\n",
            "Epoch: 6, Loss: 4.906243801116943\n",
            "Hits@1: 0.15295062959194183\n",
            "Epoch: 7, Loss: 4.868104934692383\n",
            "Hits@1: 0.15837691724300385\n",
            "Epoch: 8, Loss: 4.831657886505127\n",
            "Hits@1: 0.15811386704444885\n",
            "Epoch: 9, Loss: 4.796802520751953\n",
            "Hits@1: 0.15986502170562744\n",
            "Epoch: 10, Loss: 4.7634501457214355\n",
            "Hits@1: 0.15988004207611084\n",
            "Epoch: 11, Loss: 4.731516361236572\n",
            "Hits@1: 0.16087211668491364\n",
            "Epoch: 12, Loss: 4.700922966003418\n",
            "Hits@1: 0.16333724558353424\n",
            "Epoch: 13, Loss: 4.671606540679932\n",
            "Hits@1: 0.1624203324317932\n",
            "Epoch: 14, Loss: 4.643500804901123\n",
            "Hits@1: 0.16487042605876923\n",
            "Epoch: 15, Loss: 4.61654806137085\n",
            "Hits@1: 0.16435936093330383\n",
            "Epoch: 16, Loss: 4.590686798095703\n",
            "Hits@1: 0.16628336906433105\n",
            "Epoch: 17, Loss: 4.56586217880249\n",
            "Hits@1: 0.16676436364650726\n",
            "Epoch: 18, Loss: 4.542023658752441\n",
            "Hits@1: 0.16683952510356903\n",
            "Epoch: 19, Loss: 4.51912260055542\n",
            "Hits@1: 0.16736562550067902\n",
            "Epoch: 20, Loss: 4.497110366821289\n",
            "Hits@1: 0.17048460245132446\n",
            "Epoch: 21, Loss: 4.475941181182861\n",
            "Hits@1: 0.1693798154592514\n",
            "Epoch: 22, Loss: 4.455572605133057\n",
            "Hits@1: 0.16934974491596222\n",
            "Epoch: 23, Loss: 4.435961723327637\n",
            "Hits@1: 0.17006373405456543\n",
            "Epoch: 24, Loss: 4.417070388793945\n",
            "Hits@1: 0.17082281410694122\n",
            "Epoch: 25, Loss: 4.398859024047852\n",
            "Hits@1: 0.17274680733680725\n",
            "Epoch: 26, Loss: 4.381292343139648\n",
            "Hits@1: 0.17330296337604523\n",
            "Epoch: 27, Loss: 4.364334583282471\n",
            "Hits@1: 0.17400191724300385\n",
            "Epoch: 28, Loss: 4.347954750061035\n",
            "Hits@1: 0.17624910175800323\n",
            "Epoch: 29, Loss: 4.332121849060059\n",
            "Hits@1: 0.17894721031188965\n",
            "Epoch: 30, Loss: 4.316806316375732\n",
            "Hits@1: 0.17992423474788666\n",
            "Epoch: 31, Loss: 4.301980972290039\n",
            "Hits@1: 0.18291546404361725\n",
            "Epoch: 32, Loss: 4.287619590759277\n",
            "Hits@1: 0.18291546404361725\n",
            "Epoch: 33, Loss: 4.273698806762695\n",
            "Hits@1: 0.18319353461265564\n",
            "Epoch: 34, Loss: 4.260196208953857\n",
            "Hits@1: 0.18417057394981384\n",
            "Epoch: 35, Loss: 4.2470903396606445\n",
            "Hits@1: 0.18638768792152405\n",
            "Epoch: 36, Loss: 4.2343621253967285\n",
            "Hits@1: 0.18643277883529663\n",
            "Epoch: 37, Loss: 4.2219929695129395\n",
            "Hits@1: 0.18671086430549622\n",
            "Epoch: 38, Loss: 4.209965705871582\n",
            "Hits@1: 0.18844696879386902\n",
            "Epoch: 39, Loss: 4.1982622146606445\n",
            "Hits@1: 0.18894299864768982\n",
            "Epoch: 40, Loss: 4.186869144439697\n",
            "Hits@1: 0.18965698778629303\n",
            "Epoch: 41, Loss: 4.175771713256836\n",
            "Hits@1: 0.19015301764011383\n",
            "Epoch: 42, Loss: 4.164957046508789\n",
            "Hits@1: 0.19114507734775543\n",
            "Epoch: 43, Loss: 4.154411792755127\n",
            "Hits@1: 0.19308410584926605\n",
            "Epoch: 44, Loss: 4.144123554229736\n",
            "Hits@1: 0.19334715604782104\n",
            "Epoch: 45, Loss: 4.134082317352295\n",
            "Hits@1: 0.19454213976860046\n",
            "Epoch: 46, Loss: 4.124277591705322\n",
            "Hits@1: 0.19554923474788666\n",
            "Epoch: 47, Loss: 4.114699363708496\n",
            "Hits@1: 0.19560936093330383\n",
            "Epoch: 48, Loss: 4.105338096618652\n",
            "Hits@1: 0.1961655169725418\n",
            "Epoch: 49, Loss: 4.096185207366943\n",
            "Hits@1: 0.19760853052139282\n",
            "Epoch: 50, Loss: 4.087233066558838\n",
            "Hits@1: 0.19979557394981384\n",
            "Epoch: 51, Loss: 4.078473091125488\n",
            "Hits@1: 0.20100559294223785\n",
            "Epoch: 52, Loss: 4.0698981285095215\n",
            "Hits@1: 0.20106571912765503\n",
            "Epoch: 53, Loss: 4.061500072479248\n",
            "Hits@1: 0.20202770829200745\n",
            "Epoch: 54, Loss: 4.053273677825928\n",
            "Hits@1: 0.20252375304698944\n",
            "Epoch: 55, Loss: 4.045212268829346\n",
            "Hits@1: 0.20377886295318604\n",
            "Epoch: 56, Loss: 4.037309646606445\n",
            "Hits@1: 0.20478595793247223\n",
            "Epoch: 57, Loss: 4.029560565948486\n",
            "Hits@1: 0.20528198778629303\n",
            "Epoch: 58, Loss: 4.021958827972412\n",
            "Hits@1: 0.20818302035331726\n",
            "Epoch: 59, Loss: 4.014500141143799\n",
            "Hits@1: 0.21044522523880005\n",
            "Epoch: 60, Loss: 4.007179260253906\n",
            "Hits@1: 0.21239928901195526\n",
            "Epoch: 61, Loss: 3.9999921321868896\n",
            "Hits@1: 0.21318842470645905\n",
            "Epoch: 62, Loss: 3.9929332733154297\n",
            "Hits@1: 0.21537548303604126\n",
            "Epoch: 63, Loss: 3.985999584197998\n",
            "Hits@1: 0.21613456308841705\n",
            "Epoch: 64, Loss: 3.9791862964630127\n",
            "Hits@1: 0.21593163907527924\n",
            "Epoch: 65, Loss: 3.972490072250366\n",
            "Hits@1: 0.21667568385601044\n",
            "Epoch: 66, Loss: 3.965907096862793\n",
            "Hits@1: 0.21814875304698944\n",
            "Epoch: 67, Loss: 3.9594333171844482\n",
            "Hits@1: 0.21985478699207306\n",
            "Epoch: 68, Loss: 3.9530656337738037\n",
            "Hits@1: 0.21941888332366943\n",
            "Epoch: 69, Loss: 3.9468014240264893\n",
            "Hits@1: 0.22064393758773804\n",
            "Epoch: 70, Loss: 3.9406368732452393\n",
            "Hits@1: 0.22207190096378326\n",
            "Epoch: 71, Loss: 3.934569835662842\n",
            "Hits@1: 0.22259800136089325\n",
            "Epoch: 72, Loss: 3.9285967350006104\n",
            "Hits@1: 0.22289110720157623\n",
            "Epoch: 73, Loss: 3.922714948654175\n",
            "Hits@1: 0.22456710040569305\n",
            "Epoch: 74, Loss: 3.9169225692749023\n",
            "Hits@1: 0.22557419538497925\n",
            "Epoch: 75, Loss: 3.9112167358398438\n",
            "Hits@1: 0.22633327543735504\n",
            "Epoch: 76, Loss: 3.90559458732605\n",
            "Hits@1: 0.22734037041664124\n",
            "Epoch: 77, Loss: 3.900054931640625\n",
            "Hits@1: 0.22805434465408325\n",
            "Epoch: 78, Loss: 3.8945937156677246\n",
            "Hits@1: 0.22952741384506226\n",
            "Epoch: 79, Loss: 3.889211416244507\n",
            "Hits@1: 0.23050443828105927\n",
            "Epoch: 80, Loss: 3.8839032649993896\n",
            "Hits@1: 0.23127855360507965\n",
            "Epoch: 81, Loss: 3.878669261932373\n",
            "Hits@1: 0.23084264993667603\n",
            "Epoch: 82, Loss: 3.873506784439087\n",
            "Hits@1: 0.23399169743061066\n",
            "Epoch: 83, Loss: 3.8684141635894775\n",
            "Hits@1: 0.23496873676776886\n",
            "Epoch: 84, Loss: 3.8633899688720703\n",
            "Hits@1: 0.23405182361602783\n",
            "Epoch: 85, Loss: 3.8584325313568115\n",
            "Hits@1: 0.23501382768154144\n",
            "Epoch: 86, Loss: 3.8535385131835938\n",
            "Hits@1: 0.23786978423595428\n",
            "Epoch: 87, Loss: 3.8487088680267334\n",
            "Hits@1: 0.23653198778629303\n",
            "Epoch: 88, Loss: 3.8439407348632812\n",
            "Hits@1: 0.23845598101615906\n",
            "Epoch: 89, Loss: 3.8392322063446045\n",
            "Hits@1: 0.23963595926761627\n",
            "Epoch: 90, Loss: 3.8345835208892822\n",
            "Hits@1: 0.23975619673728943\n",
            "Epoch: 91, Loss: 3.829991579055786\n",
            "Hits@1: 0.24096620082855225\n",
            "Epoch: 92, Loss: 3.825456380844116\n",
            "Hits@1: 0.24122925102710724\n",
            "Epoch: 93, Loss: 3.8209760189056396\n",
            "Hits@1: 0.24172528088092804\n",
            "Epoch: 94, Loss: 3.816549301147461\n",
            "Hits@1: 0.24172528088092804\n",
            "Epoch: 95, Loss: 3.812175750732422\n",
            "Hits@1: 0.24222131073474884\n",
            "Epoch: 96, Loss: 3.8078529834747314\n",
            "Hits@1: 0.24315325915813446\n",
            "Epoch: 97, Loss: 3.8035802841186523\n",
            "Hits@1: 0.24318331480026245\n",
            "Epoch: 98, Loss: 3.7993574142456055\n",
            "Hits@1: 0.24467141926288605\n",
            "Epoch: 99, Loss: 3.795182466506958\n",
            "Hits@1: 0.24516744911670685\n",
            "Epoch: 100, Loss: 3.7910544872283936\n",
            "Hits@1: 0.24639248847961426\n",
            "Epoch: 101, Loss: 3.786973714828491\n",
            "Hits@1: 0.24642255902290344\n",
            "Epoch: 102, Loss: 3.7829372882843018\n",
            "Hits@1: 0.24788059294223785\n",
            "Epoch: 103, Loss: 3.7789456844329834\n",
            "Hits@1: 0.24817369878292084\n",
            "Epoch: 104, Loss: 3.774996757507324\n",
            "Hits@1: 0.24888768792152405\n",
            "Epoch: 105, Loss: 3.7710909843444824\n",
            "Hits@1: 0.24964676797389984\n",
            "Epoch: 106, Loss: 3.7672269344329834\n",
            "Hits@1: 0.25037577748298645\n",
            "Epoch: 107, Loss: 3.7634036540985107\n",
            "Hits@1: 0.25133776664733887\n",
            "Epoch: 108, Loss: 3.7596206665039062\n",
            "Hits@1: 0.25305888056755066\n",
            "Epoch: 109, Loss: 3.7558767795562744\n",
            "Hits@1: 0.2535398602485657\n",
            "Epoch: 110, Loss: 3.752171754837036\n",
            "Hits@1: 0.2545319199562073\n",
            "Epoch: 111, Loss: 3.7485039234161377\n",
            "Hits@1: 0.25409600138664246\n",
            "Epoch: 112, Loss: 3.7448740005493164\n",
            "Hits@1: 0.25605008006095886\n",
            "Epoch: 113, Loss: 3.7412796020507812\n",
            "Hits@1: 0.25631314516067505\n",
            "Epoch: 114, Loss: 3.7377214431762695\n",
            "Hits@1: 0.25801917910575867\n",
            "Epoch: 115, Loss: 3.7341980934143066\n",
            "Hits@1: 0.25735029578208923\n",
            "Epoch: 116, Loss: 3.7307093143463135\n",
            "Hits@1: 0.25924423336982727\n",
            "Epoch: 117, Loss: 3.7272543907165527\n",
            "Hits@1: 0.25955235958099365\n",
            "Epoch: 118, Loss: 3.7238330841064453\n",
            "Hits@1: 0.26000332832336426\n",
            "Epoch: 119, Loss: 3.7204434871673584\n",
            "Hits@1: 0.25952228903770447\n",
            "Epoch: 120, Loss: 3.7170863151550293\n",
            "Hits@1: 0.26025134325027466\n",
            "Epoch: 121, Loss: 3.713761329650879\n",
            "Hits@1: 0.26003336906433105\n",
            "Epoch: 122, Loss: 3.7104666233062744\n",
            "Hits@1: 0.26006340980529785\n",
            "Epoch: 123, Loss: 3.707202434539795\n",
            "Hits@1: 0.26124340295791626\n",
            "Epoch: 124, Loss: 3.7039682865142822\n",
            "Hits@1: 0.26128846406936646\n",
            "Epoch: 125, Loss: 3.7007639408111572\n",
            "Hits@1: 0.2615815997123718\n",
            "Epoch: 126, Loss: 3.6975882053375244\n",
            "Hits@1: 0.2654596269130707\n",
            "Epoch: 127, Loss: 3.6944403648376465\n",
            "Hits@1: 0.26666969060897827\n",
            "Epoch: 128, Loss: 3.69132137298584\n",
            "Hits@1: 0.26694777607917786\n",
            "Epoch: 129, Loss: 3.688230037689209\n",
            "Hits@1: 0.265797883272171\n",
            "Epoch: 130, Loss: 3.6851654052734375\n",
            "Hits@1: 0.2689168453216553\n",
            "Epoch: 131, Loss: 3.6821274757385254\n",
            "Hits@1: 0.26944294571876526\n",
            "Epoch: 132, Loss: 3.6791152954101562\n",
            "Hits@1: 0.26972100138664246\n",
            "Epoch: 133, Loss: 3.6761293411254883\n",
            "Hits@1: 0.2697661221027374\n",
            "Epoch: 134, Loss: 3.6731691360473633\n",
            "Hits@1: 0.27147215604782104\n",
            "Epoch: 135, Loss: 3.6702334880828857\n",
            "Hits@1: 0.27221620082855225\n",
            "Epoch: 136, Loss: 3.667322874069214\n",
            "Hits@1: 0.27387717366218567\n",
            "Epoch: 137, Loss: 3.664435863494873\n",
            "Hits@1: 0.27341118454933167\n",
            "Epoch: 138, Loss: 3.661573648452759\n",
            "Hits@1: 0.27392226457595825\n",
            "Epoch: 139, Loss: 3.6587343215942383\n",
            "Hits@1: 0.27489927411079407\n",
            "Epoch: 140, Loss: 3.6559183597564697\n",
            "Hits@1: 0.2744784355163574\n",
            "Epoch: 141, Loss: 3.653125524520874\n",
            "Hits@1: 0.27495941519737244\n",
            "Epoch: 142, Loss: 3.6503548622131348\n",
            "Hits@1: 0.27592140436172485\n",
            "Epoch: 143, Loss: 3.6476058959960938\n",
            "Hits@1: 0.2776124179363251\n",
            "Epoch: 144, Loss: 3.6448798179626465\n",
            "Hits@1: 0.27717649936676025\n",
            "Epoch: 145, Loss: 3.6421751976013184\n",
            "Hits@1: 0.2785744369029999\n",
            "Epoch: 146, Loss: 3.6394906044006348\n",
            "Hits@1: 0.27764251828193665\n",
            "Epoch: 147, Loss: 3.6368277072906494\n",
            "Hits@1: 0.27740949392318726\n",
            "Epoch: 148, Loss: 3.634185314178467\n",
            "Hits@1: 0.27861952781677246\n",
            "Epoch: 149, Loss: 3.631563425064087\n",
            "Hits@1: 0.2800775468349457\n",
            "Epoch: 150, Loss: 3.6289615631103516\n",
            "Hits@1: 0.27964165806770325\n",
            "Epoch: 151, Loss: 3.6263790130615234\n",
            "Hits@1: 0.28088173270225525\n",
            "Epoch: 152, Loss: 3.6238162517547607\n",
            "Hits@1: 0.28109967708587646\n",
            "Epoch: 153, Loss: 3.6212728023529053\n",
            "Hits@1: 0.28112974762916565\n",
            "Epoch: 154, Loss: 3.618748426437378\n",
            "Hits@1: 0.28164079785346985\n",
            "Epoch: 155, Loss: 3.6162424087524414\n",
            "Hits@1: 0.2825727164745331\n",
            "Epoch: 156, Loss: 3.613755226135254\n",
            "Hits@1: 0.28212180733680725\n",
            "Epoch: 157, Loss: 3.611285924911499\n",
            "Hits@1: 0.2837827801704407\n",
            "Epoch: 158, Loss: 3.6088340282440186\n",
            "Hits@1: 0.2840458154678345\n",
            "Epoch: 159, Loss: 3.606400728225708\n",
            "Hits@1: 0.28289592266082764\n",
            "Epoch: 160, Loss: 3.60398530960083\n",
            "Hits@1: 0.28433892130851746\n",
            "Epoch: 161, Loss: 3.60158634185791\n",
            "Hits@1: 0.28363996744155884\n",
            "Epoch: 162, Loss: 3.5992047786712646\n",
            "Hits@1: 0.28458696603775024\n",
            "Epoch: 163, Loss: 3.5968399047851562\n",
            "Hits@1: 0.28533101081848145\n",
            "Epoch: 164, Loss: 3.5944912433624268\n",
            "Hits@1: 0.28512805700302124\n",
            "Epoch: 165, Loss: 3.5921597480773926\n",
            "Hits@1: 0.28678902983665466\n",
            "Epoch: 166, Loss: 3.589843988418579\n",
            "Hits@1: 0.28730008006095886\n",
            "Epoch: 167, Loss: 3.5875439643859863\n",
            "Hits@1: 0.2875330448150635\n",
            "Epoch: 168, Loss: 3.5852599143981934\n",
            "Hits@1: 0.28753307461738586\n",
            "Epoch: 169, Loss: 3.582991123199463\n",
            "Hits@1: 0.28804412484169006\n",
            "Epoch: 170, Loss: 3.5807383060455322\n",
            "Hits@1: 0.28782618045806885\n",
            "Epoch: 171, Loss: 3.578500747680664\n",
            "Hits@1: 0.28923913836479187\n",
            "Epoch: 172, Loss: 3.576277494430542\n",
            "Hits@1: 0.2892691493034363\n",
            "Epoch: 173, Loss: 3.5740697383880615\n",
            "Hits@1: 0.28833723068237305\n",
            "Epoch: 174, Loss: 3.571876049041748\n",
            "Hits@1: 0.28785625100135803\n",
            "Epoch: 175, Loss: 3.569697380065918\n",
            "Hits@1: 0.28881824016571045\n",
            "Epoch: 176, Loss: 3.567532777786255\n",
            "Hits@1: 0.29075726866722107\n",
            "Epoch: 177, Loss: 3.565382480621338\n",
            "Hits@1: 0.29249337315559387\n",
            "Epoch: 178, Loss: 3.5632457733154297\n",
            "Hits@1: 0.29179441928863525\n",
            "Epoch: 179, Loss: 3.5611228942871094\n",
            "Hits@1: 0.29201239347457886\n",
            "Epoch: 180, Loss: 3.559013843536377\n",
            "Hits@1: 0.29156142473220825\n",
            "Epoch: 181, Loss: 3.5569183826446533\n",
            "Hits@1: 0.29229044914245605\n",
            "Epoch: 182, Loss: 3.5548367500305176\n",
            "Hits@1: 0.29326751828193665\n",
            "Epoch: 183, Loss: 3.552767276763916\n",
            "Hits@1: 0.2946804165840149\n",
            "Epoch: 184, Loss: 3.550711154937744\n",
            "Hits@1: 0.2939664423465729\n",
            "Epoch: 185, Loss: 3.5486676692962646\n",
            "Hits@1: 0.2942144572734833\n",
            "Epoch: 186, Loss: 3.5466372966766357\n",
            "Hits@1: 0.29401156306266785\n",
            "Epoch: 187, Loss: 3.5446197986602783\n",
            "Hits@1: 0.29425957798957825\n",
            "Epoch: 188, Loss: 3.5426137447357178\n",
            "Hits@1: 0.29450759291648865\n",
            "Epoch: 189, Loss: 3.540621042251587\n",
            "Hits@1: 0.2954695522785187\n",
            "Epoch: 190, Loss: 3.538639783859253\n",
            "Hits@1: 0.2957025468349457\n",
            "Epoch: 191, Loss: 3.5366709232330322\n",
            "Hits@1: 0.29573261737823486\n",
            "Epoch: 192, Loss: 3.534714460372925\n",
            "Hits@1: 0.29478564858436584\n",
            "Epoch: 193, Loss: 3.532768726348877\n",
            "Hits@1: 0.2968975603580475\n",
            "Epoch: 194, Loss: 3.5308351516723633\n",
            "Hits@1: 0.2966645658016205\n",
            "Epoch: 195, Loss: 3.5289130210876465\n",
            "Hits@1: 0.29528167843818665\n",
            "Epoch: 196, Loss: 3.5270023345947266\n",
            "Hits@1: 0.29793471097946167\n",
            "Epoch: 197, Loss: 3.5251026153564453\n",
            "Hits@1: 0.29628878831863403\n",
            "Epoch: 198, Loss: 3.52321457862854\n",
            "Hits@1: 0.29843074083328247\n",
            "Epoch: 199, Loss: 3.5213375091552734\n",
            "Hits@1: 0.29751381278038025\n",
            "hits@1: 0.298446, hits@5: 0.545612, hits@10: 0.658151, hits@20: 0.773930\n",
            "hits@50: 0.914961, hits@100: 0.988591\n",
            "map@1: 0.298446, map@5: 0.391078, map@10: 0.406166, map@20: 0.414245\n",
            "map@50: 0.418759, map@100: 0.419855\n",
            "ndcg@1: 0.298446, ndcg@5: 0.429621, ndcg@10: 0.466075, ndcg@20: 0.495401\n",
            "ndcg@50: 0.523421, ndcg@100: 0.535479\n"
          ]
        }
      ],
      "source": [
        "head_model = train2task()\n",
        "torch.save(head_model.state_dict(), 'node_dropout_infomax_linkpred_model.pth')"
      ]
    },
    {
      "cell_type": "markdown",
      "metadata": {
        "id": "Wq4BzC5ekttn"
      },
      "source": [
        "### Edge dropout, Infomax + Link pred"
      ]
    },
    {
      "cell_type": "code",
      "execution_count": null,
      "metadata": {
        "id": "I_UNe0jhk0D4"
      },
      "outputs": [],
      "source": [
        "# device = torch.device('cuda' if torch.cuda.is_available() else 'cpu')\n",
        "device = torch.device('cpu')\n",
        "model = DeepGraphInfomax(hidden_channels=128,\n",
        "                         encoder=Encoder(interm_channels=74, hidden_channels=128,\n",
        "                                         num_features=128),\n",
        "                         summary=lambda z, *args, **kwargs: torch.sigmoid(z.mean(dim=0)),\n",
        "                         corruption=edge_dropout).to(device)\n",
        "linkmodel = LinkPredHead()\n",
        "optimizer = torch.optim.AdamW(model.parameters(), lr=0.0005)\n",
        "loss_bce = nn.BCEWithLogitsLoss()"
      ]
    },
    {
      "cell_type": "code",
      "execution_count": null,
      "metadata": {
        "colab": {
          "base_uri": "https://localhost:8080/"
        },
        "id": "R3Q6-o9sk0D_",
        "outputId": "83bd63ca-31eb-47e2-d4e9-f5a98b8b75d7"
      },
      "outputs": [
        {
          "output_type": "stream",
          "name": "stderr",
          "text": [
            "  1%|          | 1/100 [00:08<13:23,  8.11s/it]"
          ]
        },
        {
          "output_type": "stream",
          "name": "stdout",
          "text": [
            "Epoch: 1, Loss: 7.972873687744141\n"
          ]
        },
        {
          "output_type": "stream",
          "name": "stderr",
          "text": [
            "\r  2%|▏         | 2/100 [00:15<12:37,  7.73s/it]"
          ]
        },
        {
          "output_type": "stream",
          "name": "stdout",
          "text": [
            "Epoch: 2, Loss: 6.6683197021484375\n"
          ]
        },
        {
          "output_type": "stream",
          "name": "stderr",
          "text": [
            "\r  3%|▎         | 3/100 [00:21<11:04,  6.86s/it]"
          ]
        },
        {
          "output_type": "stream",
          "name": "stdout",
          "text": [
            "Epoch: 3, Loss: 5.006956100463867\n"
          ]
        },
        {
          "output_type": "stream",
          "name": "stderr",
          "text": [
            "\r  4%|▍         | 4/100 [00:28<11:08,  6.97s/it]"
          ]
        },
        {
          "output_type": "stream",
          "name": "stdout",
          "text": [
            "Epoch: 4, Loss: 4.139936923980713\n"
          ]
        },
        {
          "output_type": "stream",
          "name": "stderr",
          "text": [
            "\r  5%|▌         | 5/100 [00:34<10:18,  6.51s/it]"
          ]
        },
        {
          "output_type": "stream",
          "name": "stdout",
          "text": [
            "Epoch: 5, Loss: 4.0134687423706055\n"
          ]
        },
        {
          "output_type": "stream",
          "name": "stderr",
          "text": [
            "\r  6%|▌         | 6/100 [00:41<10:22,  6.62s/it]"
          ]
        },
        {
          "output_type": "stream",
          "name": "stdout",
          "text": [
            "Epoch: 6, Loss: 3.50099778175354\n"
          ]
        },
        {
          "output_type": "stream",
          "name": "stderr",
          "text": [
            "\r  7%|▋         | 7/100 [00:47<09:56,  6.42s/it]"
          ]
        },
        {
          "output_type": "stream",
          "name": "stdout",
          "text": [
            "Epoch: 7, Loss: 3.5405797958374023\n"
          ]
        },
        {
          "output_type": "stream",
          "name": "stderr",
          "text": [
            "\r  8%|▊         | 8/100 [00:53<09:48,  6.40s/it]"
          ]
        },
        {
          "output_type": "stream",
          "name": "stdout",
          "text": [
            "Epoch: 8, Loss: 3.4753026962280273\n"
          ]
        },
        {
          "output_type": "stream",
          "name": "stderr",
          "text": [
            "\r  9%|▉         | 9/100 [01:00<09:51,  6.50s/it]"
          ]
        },
        {
          "output_type": "stream",
          "name": "stdout",
          "text": [
            "Epoch: 9, Loss: 3.3867475986480713\n"
          ]
        },
        {
          "output_type": "stream",
          "name": "stderr",
          "text": [
            "\r 10%|█         | 10/100 [01:05<09:26,  6.29s/it]"
          ]
        },
        {
          "output_type": "stream",
          "name": "stdout",
          "text": [
            "Epoch: 10, Loss: 3.2560577392578125\n"
          ]
        },
        {
          "output_type": "stream",
          "name": "stderr",
          "text": [
            "\r 11%|█         | 11/100 [01:13<09:41,  6.53s/it]"
          ]
        },
        {
          "output_type": "stream",
          "name": "stdout",
          "text": [
            "Epoch: 11, Loss: 3.376514196395874\n"
          ]
        },
        {
          "output_type": "stream",
          "name": "stderr",
          "text": [
            "\r 12%|█▏        | 12/100 [01:18<09:13,  6.29s/it]"
          ]
        },
        {
          "output_type": "stream",
          "name": "stdout",
          "text": [
            "Epoch: 12, Loss: 3.251241683959961\n"
          ]
        },
        {
          "output_type": "stream",
          "name": "stderr",
          "text": [
            "\r 13%|█▎        | 13/100 [01:26<09:45,  6.73s/it]"
          ]
        },
        {
          "output_type": "stream",
          "name": "stdout",
          "text": [
            "Epoch: 13, Loss: 3.2346372604370117\n"
          ]
        },
        {
          "output_type": "stream",
          "name": "stderr",
          "text": [
            "\r 14%|█▍        | 14/100 [01:32<09:29,  6.62s/it]"
          ]
        },
        {
          "output_type": "stream",
          "name": "stdout",
          "text": [
            "Epoch: 14, Loss: 3.2260708808898926\n"
          ]
        },
        {
          "output_type": "stream",
          "name": "stderr",
          "text": [
            "\r 15%|█▌        | 15/100 [01:40<09:38,  6.81s/it]"
          ]
        },
        {
          "output_type": "stream",
          "name": "stdout",
          "text": [
            "Epoch: 15, Loss: 3.153749465942383\n"
          ]
        },
        {
          "output_type": "stream",
          "name": "stderr",
          "text": [
            "\r 16%|█▌        | 16/100 [01:46<09:09,  6.55s/it]"
          ]
        },
        {
          "output_type": "stream",
          "name": "stdout",
          "text": [
            "Epoch: 16, Loss: 3.130607843399048\n"
          ]
        },
        {
          "output_type": "stream",
          "name": "stderr",
          "text": [
            "\r 17%|█▋        | 17/100 [01:53<09:18,  6.73s/it]"
          ]
        },
        {
          "output_type": "stream",
          "name": "stdout",
          "text": [
            "Epoch: 17, Loss: 3.065579652786255\n"
          ]
        },
        {
          "output_type": "stream",
          "name": "stderr",
          "text": [
            "\r 18%|█▊        | 18/100 [01:59<08:52,  6.50s/it]"
          ]
        },
        {
          "output_type": "stream",
          "name": "stdout",
          "text": [
            "Epoch: 18, Loss: 3.0902693271636963\n"
          ]
        },
        {
          "output_type": "stream",
          "name": "stderr",
          "text": [
            "\r 19%|█▉        | 19/100 [02:06<09:00,  6.68s/it]"
          ]
        },
        {
          "output_type": "stream",
          "name": "stdout",
          "text": [
            "Epoch: 19, Loss: 3.0478515625\n"
          ]
        },
        {
          "output_type": "stream",
          "name": "stderr",
          "text": [
            "\r 20%|██        | 20/100 [02:12<08:40,  6.51s/it]"
          ]
        },
        {
          "output_type": "stream",
          "name": "stdout",
          "text": [
            "Epoch: 20, Loss: 3.02191162109375\n"
          ]
        },
        {
          "output_type": "stream",
          "name": "stderr",
          "text": [
            "\r 21%|██        | 21/100 [02:18<08:34,  6.51s/it]"
          ]
        },
        {
          "output_type": "stream",
          "name": "stdout",
          "text": [
            "Epoch: 21, Loss: 2.9809556007385254\n"
          ]
        },
        {
          "output_type": "stream",
          "name": "stderr",
          "text": [
            "\r 22%|██▏       | 22/100 [02:25<08:26,  6.50s/it]"
          ]
        },
        {
          "output_type": "stream",
          "name": "stdout",
          "text": [
            "Epoch: 22, Loss: 2.9802358150482178\n"
          ]
        },
        {
          "output_type": "stream",
          "name": "stderr",
          "text": [
            "\r 23%|██▎       | 23/100 [02:31<08:12,  6.40s/it]"
          ]
        },
        {
          "output_type": "stream",
          "name": "stdout",
          "text": [
            "Epoch: 23, Loss: 3.042116403579712\n"
          ]
        },
        {
          "output_type": "stream",
          "name": "stderr",
          "text": [
            "\r 24%|██▍       | 24/100 [02:38<08:17,  6.54s/it]"
          ]
        },
        {
          "output_type": "stream",
          "name": "stdout",
          "text": [
            "Epoch: 24, Loss: 2.9695005416870117\n"
          ]
        },
        {
          "output_type": "stream",
          "name": "stderr",
          "text": [
            "\r 25%|██▌       | 25/100 [02:44<07:55,  6.34s/it]"
          ]
        },
        {
          "output_type": "stream",
          "name": "stdout",
          "text": [
            "Epoch: 25, Loss: 2.9641294479370117\n"
          ]
        },
        {
          "output_type": "stream",
          "name": "stderr",
          "text": [
            "\r 26%|██▌       | 26/100 [02:51<08:06,  6.58s/it]"
          ]
        },
        {
          "output_type": "stream",
          "name": "stdout",
          "text": [
            "Epoch: 26, Loss: 3.031702995300293\n"
          ]
        },
        {
          "output_type": "stream",
          "name": "stderr",
          "text": [
            "\r 27%|██▋       | 27/100 [02:57<07:42,  6.34s/it]"
          ]
        },
        {
          "output_type": "stream",
          "name": "stdout",
          "text": [
            "Epoch: 27, Loss: 3.035066604614258\n"
          ]
        },
        {
          "output_type": "stream",
          "name": "stderr",
          "text": [
            "\r 28%|██▊       | 28/100 [03:04<07:55,  6.60s/it]"
          ]
        },
        {
          "output_type": "stream",
          "name": "stdout",
          "text": [
            "Epoch: 28, Loss: 3.0239429473876953\n"
          ]
        },
        {
          "output_type": "stream",
          "name": "stderr",
          "text": [
            "\r 29%|██▉       | 29/100 [03:10<07:32,  6.37s/it]"
          ]
        },
        {
          "output_type": "stream",
          "name": "stdout",
          "text": [
            "Epoch: 29, Loss: 2.9365108013153076\n"
          ]
        },
        {
          "output_type": "stream",
          "name": "stderr",
          "text": [
            "\r 30%|███       | 30/100 [03:17<07:41,  6.60s/it]"
          ]
        },
        {
          "output_type": "stream",
          "name": "stdout",
          "text": [
            "Epoch: 30, Loss: 3.011253833770752\n"
          ]
        },
        {
          "output_type": "stream",
          "name": "stderr",
          "text": [
            "\r 31%|███       | 31/100 [03:23<07:20,  6.38s/it]"
          ]
        },
        {
          "output_type": "stream",
          "name": "stdout",
          "text": [
            "Epoch: 31, Loss: 3.009251832962036\n"
          ]
        },
        {
          "output_type": "stream",
          "name": "stderr",
          "text": [
            "\r 32%|███▏      | 32/100 [03:29<07:17,  6.44s/it]"
          ]
        },
        {
          "output_type": "stream",
          "name": "stdout",
          "text": [
            "Epoch: 32, Loss: 2.988787889480591\n"
          ]
        },
        {
          "output_type": "stream",
          "name": "stderr",
          "text": [
            "\r 33%|███▎      | 33/100 [03:36<07:07,  6.39s/it]"
          ]
        },
        {
          "output_type": "stream",
          "name": "stdout",
          "text": [
            "Epoch: 33, Loss: 3.0037593841552734\n"
          ]
        },
        {
          "output_type": "stream",
          "name": "stderr",
          "text": [
            "\r 34%|███▍      | 34/100 [03:41<06:48,  6.18s/it]"
          ]
        },
        {
          "output_type": "stream",
          "name": "stdout",
          "text": [
            "Epoch: 34, Loss: 2.9603185653686523\n"
          ]
        },
        {
          "output_type": "stream",
          "name": "stderr",
          "text": [
            "\r 35%|███▌      | 35/100 [03:48<07:00,  6.47s/it]"
          ]
        },
        {
          "output_type": "stream",
          "name": "stdout",
          "text": [
            "Epoch: 35, Loss: 3.044111728668213\n"
          ]
        },
        {
          "output_type": "stream",
          "name": "stderr",
          "text": [
            "\r 36%|███▌      | 36/100 [03:54<06:40,  6.26s/it]"
          ]
        },
        {
          "output_type": "stream",
          "name": "stdout",
          "text": [
            "Epoch: 36, Loss: 3.0083017349243164\n"
          ]
        },
        {
          "output_type": "stream",
          "name": "stderr",
          "text": [
            "\r 37%|███▋      | 37/100 [04:01<06:51,  6.54s/it]"
          ]
        },
        {
          "output_type": "stream",
          "name": "stdout",
          "text": [
            "Epoch: 37, Loss: 2.9340362548828125\n"
          ]
        },
        {
          "output_type": "stream",
          "name": "stderr",
          "text": [
            "\r 38%|███▊      | 38/100 [04:07<06:34,  6.36s/it]"
          ]
        },
        {
          "output_type": "stream",
          "name": "stdout",
          "text": [
            "Epoch: 38, Loss: 2.8995468616485596\n"
          ]
        },
        {
          "output_type": "stream",
          "name": "stderr",
          "text": [
            "\r 39%|███▉      | 39/100 [04:15<06:56,  6.83s/it]"
          ]
        },
        {
          "output_type": "stream",
          "name": "stdout",
          "text": [
            "Epoch: 39, Loss: 2.894562244415283\n"
          ]
        },
        {
          "output_type": "stream",
          "name": "stderr",
          "text": [
            "\r 40%|████      | 40/100 [04:22<06:41,  6.70s/it]"
          ]
        },
        {
          "output_type": "stream",
          "name": "stdout",
          "text": [
            "Epoch: 40, Loss: 2.925473690032959\n"
          ]
        },
        {
          "output_type": "stream",
          "name": "stderr",
          "text": [
            "\r 41%|████      | 41/100 [04:28<06:35,  6.70s/it]"
          ]
        },
        {
          "output_type": "stream",
          "name": "stdout",
          "text": [
            "Epoch: 41, Loss: 2.9335944652557373\n"
          ]
        },
        {
          "output_type": "stream",
          "name": "stderr",
          "text": [
            "\r 42%|████▏     | 42/100 [04:34<06:12,  6.42s/it]"
          ]
        },
        {
          "output_type": "stream",
          "name": "stdout",
          "text": [
            "Epoch: 42, Loss: 2.8973708152770996\n"
          ]
        },
        {
          "output_type": "stream",
          "name": "stderr",
          "text": [
            "\r 43%|████▎     | 43/100 [04:40<05:53,  6.20s/it]"
          ]
        },
        {
          "output_type": "stream",
          "name": "stdout",
          "text": [
            "Epoch: 43, Loss: 2.9480836391448975\n"
          ]
        },
        {
          "output_type": "stream",
          "name": "stderr",
          "text": [
            "\r 44%|████▍     | 44/100 [04:46<05:52,  6.30s/it]"
          ]
        },
        {
          "output_type": "stream",
          "name": "stdout",
          "text": [
            "Epoch: 44, Loss: 2.9056589603424072\n"
          ]
        },
        {
          "output_type": "stream",
          "name": "stderr",
          "text": [
            "\r 45%|████▌     | 45/100 [04:53<05:44,  6.26s/it]"
          ]
        },
        {
          "output_type": "stream",
          "name": "stdout",
          "text": [
            "Epoch: 45, Loss: 2.865370035171509\n"
          ]
        },
        {
          "output_type": "stream",
          "name": "stderr",
          "text": [
            "\r 46%|████▌     | 46/100 [05:00<05:53,  6.54s/it]"
          ]
        },
        {
          "output_type": "stream",
          "name": "stdout",
          "text": [
            "Epoch: 46, Loss: 2.9345810413360596\n"
          ]
        },
        {
          "output_type": "stream",
          "name": "stderr",
          "text": [
            "\r 47%|████▋     | 47/100 [05:06<05:36,  6.34s/it]"
          ]
        },
        {
          "output_type": "stream",
          "name": "stdout",
          "text": [
            "Epoch: 47, Loss: 2.8942737579345703\n"
          ]
        },
        {
          "output_type": "stream",
          "name": "stderr",
          "text": [
            "\r 48%|████▊     | 48/100 [05:13<05:41,  6.57s/it]"
          ]
        },
        {
          "output_type": "stream",
          "name": "stdout",
          "text": [
            "Epoch: 48, Loss: 2.9147911071777344\n"
          ]
        },
        {
          "output_type": "stream",
          "name": "stderr",
          "text": [
            "\r 49%|████▉     | 49/100 [05:19<05:24,  6.36s/it]"
          ]
        },
        {
          "output_type": "stream",
          "name": "stdout",
          "text": [
            "Epoch: 49, Loss: 2.893551826477051\n"
          ]
        },
        {
          "output_type": "stream",
          "name": "stderr",
          "text": [
            "\r 50%|█████     | 50/100 [05:26<05:28,  6.56s/it]"
          ]
        },
        {
          "output_type": "stream",
          "name": "stdout",
          "text": [
            "Epoch: 50, Loss: 2.9695916175842285\n"
          ]
        },
        {
          "output_type": "stream",
          "name": "stderr",
          "text": [
            "\r 51%|█████     | 51/100 [05:31<05:08,  6.30s/it]"
          ]
        },
        {
          "output_type": "stream",
          "name": "stdout",
          "text": [
            "Epoch: 51, Loss: 2.8322227001190186\n"
          ]
        },
        {
          "output_type": "stream",
          "name": "stderr",
          "text": [
            "\r 52%|█████▏    | 52/100 [05:38<05:06,  6.39s/it]"
          ]
        },
        {
          "output_type": "stream",
          "name": "stdout",
          "text": [
            "Epoch: 52, Loss: 2.871096134185791\n"
          ]
        },
        {
          "output_type": "stream",
          "name": "stderr",
          "text": [
            "\r 53%|█████▎    | 53/100 [05:44<04:54,  6.27s/it]"
          ]
        },
        {
          "output_type": "stream",
          "name": "stdout",
          "text": [
            "Epoch: 53, Loss: 2.8242156505584717\n"
          ]
        },
        {
          "output_type": "stream",
          "name": "stderr",
          "text": [
            "\r 54%|█████▍    | 54/100 [05:50<04:45,  6.21s/it]"
          ]
        },
        {
          "output_type": "stream",
          "name": "stdout",
          "text": [
            "Epoch: 54, Loss: 2.925766944885254\n"
          ]
        },
        {
          "output_type": "stream",
          "name": "stderr",
          "text": [
            "\r 55%|█████▌    | 55/100 [05:57<04:44,  6.32s/it]"
          ]
        },
        {
          "output_type": "stream",
          "name": "stdout",
          "text": [
            "Epoch: 55, Loss: 2.8468832969665527\n"
          ]
        },
        {
          "output_type": "stream",
          "name": "stderr",
          "text": [
            "\r 56%|█████▌    | 56/100 [06:02<04:30,  6.14s/it]"
          ]
        },
        {
          "output_type": "stream",
          "name": "stdout",
          "text": [
            "Epoch: 56, Loss: 2.8794198036193848\n"
          ]
        },
        {
          "output_type": "stream",
          "name": "stderr",
          "text": [
            "\r 57%|█████▋    | 57/100 [06:09<04:36,  6.43s/it]"
          ]
        },
        {
          "output_type": "stream",
          "name": "stdout",
          "text": [
            "Epoch: 57, Loss: 2.9931304454803467\n"
          ]
        },
        {
          "output_type": "stream",
          "name": "stderr",
          "text": [
            "\r 58%|█████▊    | 58/100 [06:15<04:23,  6.28s/it]"
          ]
        },
        {
          "output_type": "stream",
          "name": "stdout",
          "text": [
            "Epoch: 58, Loss: 2.9667513370513916\n"
          ]
        },
        {
          "output_type": "stream",
          "name": "stderr",
          "text": [
            "\r 59%|█████▉    | 59/100 [06:22<04:26,  6.50s/it]"
          ]
        },
        {
          "output_type": "stream",
          "name": "stdout",
          "text": [
            "Epoch: 59, Loss: 2.8371102809906006\n"
          ]
        },
        {
          "output_type": "stream",
          "name": "stderr",
          "text": [
            "\r 60%|██████    | 60/100 [06:28<04:09,  6.24s/it]"
          ]
        },
        {
          "output_type": "stream",
          "name": "stdout",
          "text": [
            "Epoch: 60, Loss: 2.8573575019836426\n"
          ]
        },
        {
          "output_type": "stream",
          "name": "stderr",
          "text": [
            "\r 61%|██████    | 61/100 [06:34<04:07,  6.34s/it]"
          ]
        },
        {
          "output_type": "stream",
          "name": "stdout",
          "text": [
            "Epoch: 61, Loss: 2.7421131134033203\n"
          ]
        },
        {
          "output_type": "stream",
          "name": "stderr",
          "text": [
            "\r 62%|██████▏   | 62/100 [06:41<03:57,  6.26s/it]"
          ]
        },
        {
          "output_type": "stream",
          "name": "stdout",
          "text": [
            "Epoch: 62, Loss: 2.89747953414917\n"
          ]
        },
        {
          "output_type": "stream",
          "name": "stderr",
          "text": [
            "\r 63%|██████▎   | 63/100 [06:46<03:47,  6.15s/it]"
          ]
        },
        {
          "output_type": "stream",
          "name": "stdout",
          "text": [
            "Epoch: 63, Loss: 2.819314956665039\n"
          ]
        },
        {
          "output_type": "stream",
          "name": "stderr",
          "text": [
            "\r 64%|██████▍   | 64/100 [06:53<03:46,  6.28s/it]"
          ]
        },
        {
          "output_type": "stream",
          "name": "stdout",
          "text": [
            "Epoch: 64, Loss: 2.8107454776763916\n"
          ]
        },
        {
          "output_type": "stream",
          "name": "stderr",
          "text": [
            "\r 65%|██████▌   | 65/100 [07:00<03:47,  6.49s/it]"
          ]
        },
        {
          "output_type": "stream",
          "name": "stdout",
          "text": [
            "Epoch: 65, Loss: 2.8509974479675293\n"
          ]
        },
        {
          "output_type": "stream",
          "name": "stderr",
          "text": [
            "\r 66%|██████▌   | 66/100 [07:08<03:51,  6.80s/it]"
          ]
        },
        {
          "output_type": "stream",
          "name": "stdout",
          "text": [
            "Epoch: 66, Loss: 2.8306057453155518\n"
          ]
        },
        {
          "output_type": "stream",
          "name": "stderr",
          "text": [
            "\r 67%|██████▋   | 67/100 [07:13<03:34,  6.50s/it]"
          ]
        },
        {
          "output_type": "stream",
          "name": "stdout",
          "text": [
            "Epoch: 67, Loss: 2.8052237033843994\n"
          ]
        },
        {
          "output_type": "stream",
          "name": "stderr",
          "text": [
            "\r 68%|██████▊   | 68/100 [07:21<03:36,  6.78s/it]"
          ]
        },
        {
          "output_type": "stream",
          "name": "stdout",
          "text": [
            "Epoch: 68, Loss: 2.7014517784118652\n"
          ]
        },
        {
          "output_type": "stream",
          "name": "stderr",
          "text": [
            "\r 69%|██████▉   | 69/100 [07:27<03:23,  6.56s/it]"
          ]
        },
        {
          "output_type": "stream",
          "name": "stdout",
          "text": [
            "Epoch: 69, Loss: 2.76137113571167\n"
          ]
        },
        {
          "output_type": "stream",
          "name": "stderr",
          "text": [
            "\r 70%|███████   | 70/100 [07:34<03:21,  6.72s/it]"
          ]
        },
        {
          "output_type": "stream",
          "name": "stdout",
          "text": [
            "Epoch: 70, Loss: 2.8849003314971924\n"
          ]
        },
        {
          "output_type": "stream",
          "name": "stderr",
          "text": [
            "\r 71%|███████   | 71/100 [07:40<03:07,  6.46s/it]"
          ]
        },
        {
          "output_type": "stream",
          "name": "stdout",
          "text": [
            "Epoch: 71, Loss: 2.6901602745056152\n"
          ]
        },
        {
          "output_type": "stream",
          "name": "stderr",
          "text": [
            "\r 72%|███████▏  | 72/100 [07:47<03:08,  6.75s/it]"
          ]
        },
        {
          "output_type": "stream",
          "name": "stdout",
          "text": [
            "Epoch: 72, Loss: 2.814882278442383\n"
          ]
        },
        {
          "output_type": "stream",
          "name": "stderr",
          "text": [
            "\r 73%|███████▎  | 73/100 [07:53<02:54,  6.47s/it]"
          ]
        },
        {
          "output_type": "stream",
          "name": "stdout",
          "text": [
            "Epoch: 73, Loss: 2.7026445865631104\n"
          ]
        },
        {
          "output_type": "stream",
          "name": "stderr",
          "text": [
            "\r 74%|███████▍  | 74/100 [08:00<02:50,  6.55s/it]"
          ]
        },
        {
          "output_type": "stream",
          "name": "stdout",
          "text": [
            "Epoch: 74, Loss: 2.6862411499023438\n"
          ]
        },
        {
          "output_type": "stream",
          "name": "stderr",
          "text": [
            "\r 75%|███████▌  | 75/100 [08:06<02:41,  6.44s/it]"
          ]
        },
        {
          "output_type": "stream",
          "name": "stdout",
          "text": [
            "Epoch: 75, Loss: 2.661720037460327\n"
          ]
        },
        {
          "output_type": "stream",
          "name": "stderr",
          "text": [
            "\r 76%|███████▌  | 76/100 [08:12<02:33,  6.38s/it]"
          ]
        },
        {
          "output_type": "stream",
          "name": "stdout",
          "text": [
            "Epoch: 76, Loss: 2.6175200939178467\n"
          ]
        },
        {
          "output_type": "stream",
          "name": "stderr",
          "text": [
            "\r 77%|███████▋  | 77/100 [08:19<02:28,  6.46s/it]"
          ]
        },
        {
          "output_type": "stream",
          "name": "stdout",
          "text": [
            "Epoch: 77, Loss: 2.5456700325012207\n"
          ]
        },
        {
          "output_type": "stream",
          "name": "stderr",
          "text": [
            "\r 78%|███████▊  | 78/100 [08:25<02:17,  6.26s/it]"
          ]
        },
        {
          "output_type": "stream",
          "name": "stdout",
          "text": [
            "Epoch: 78, Loss: 2.5091590881347656\n"
          ]
        },
        {
          "output_type": "stream",
          "name": "stderr",
          "text": [
            "\r 79%|███████▉  | 79/100 [08:32<02:18,  6.61s/it]"
          ]
        },
        {
          "output_type": "stream",
          "name": "stdout",
          "text": [
            "Epoch: 79, Loss: 2.8703455924987793\n"
          ]
        },
        {
          "output_type": "stream",
          "name": "stderr",
          "text": [
            "\r 80%|████████  | 80/100 [08:38<02:08,  6.44s/it]"
          ]
        },
        {
          "output_type": "stream",
          "name": "stdout",
          "text": [
            "Epoch: 80, Loss: 2.416902780532837\n"
          ]
        },
        {
          "output_type": "stream",
          "name": "stderr",
          "text": [
            "\r 81%|████████  | 81/100 [08:45<02:06,  6.68s/it]"
          ]
        },
        {
          "output_type": "stream",
          "name": "stdout",
          "text": [
            "Epoch: 81, Loss: 2.6998395919799805\n"
          ]
        },
        {
          "output_type": "stream",
          "name": "stderr",
          "text": [
            "\r 82%|████████▏ | 82/100 [08:51<01:55,  6.44s/it]"
          ]
        },
        {
          "output_type": "stream",
          "name": "stdout",
          "text": [
            "Epoch: 82, Loss: 2.416534900665283\n"
          ]
        },
        {
          "output_type": "stream",
          "name": "stderr",
          "text": [
            "\r 83%|████████▎ | 83/100 [08:58<01:52,  6.59s/it]"
          ]
        },
        {
          "output_type": "stream",
          "name": "stdout",
          "text": [
            "Epoch: 83, Loss: 2.6298694610595703\n"
          ]
        },
        {
          "output_type": "stream",
          "name": "stderr",
          "text": [
            "\r 84%|████████▍ | 84/100 [09:04<01:40,  6.30s/it]"
          ]
        },
        {
          "output_type": "stream",
          "name": "stdout",
          "text": [
            "Epoch: 84, Loss: 2.4910731315612793\n"
          ]
        },
        {
          "output_type": "stream",
          "name": "stderr",
          "text": [
            "\r 85%|████████▌ | 85/100 [09:10<01:33,  6.21s/it]"
          ]
        },
        {
          "output_type": "stream",
          "name": "stdout",
          "text": [
            "Epoch: 85, Loss: 2.415893793106079\n"
          ]
        },
        {
          "output_type": "stream",
          "name": "stderr",
          "text": [
            "\r 86%|████████▌ | 86/100 [09:15<01:24,  6.04s/it]"
          ]
        },
        {
          "output_type": "stream",
          "name": "stdout",
          "text": [
            "Epoch: 86, Loss: 2.355123996734619\n"
          ]
        },
        {
          "output_type": "stream",
          "name": "stderr",
          "text": [
            "\r 87%|████████▋ | 87/100 [09:21<01:15,  5.79s/it]"
          ]
        },
        {
          "output_type": "stream",
          "name": "stdout",
          "text": [
            "Epoch: 87, Loss: 2.3531363010406494\n"
          ]
        },
        {
          "output_type": "stream",
          "name": "stderr",
          "text": [
            "\r 88%|████████▊ | 88/100 [09:27<01:12,  6.04s/it]"
          ]
        },
        {
          "output_type": "stream",
          "name": "stdout",
          "text": [
            "Epoch: 88, Loss: 2.125384569168091\n"
          ]
        },
        {
          "output_type": "stream",
          "name": "stderr",
          "text": [
            "\r 89%|████████▉ | 89/100 [09:32<01:03,  5.80s/it]"
          ]
        },
        {
          "output_type": "stream",
          "name": "stdout",
          "text": [
            "Epoch: 89, Loss: 2.5547902584075928\n"
          ]
        },
        {
          "output_type": "stream",
          "name": "stderr",
          "text": [
            "\r 90%|█████████ | 90/100 [09:40<01:02,  6.27s/it]"
          ]
        },
        {
          "output_type": "stream",
          "name": "stdout",
          "text": [
            "Epoch: 90, Loss: 2.0218300819396973\n"
          ]
        },
        {
          "output_type": "stream",
          "name": "stderr",
          "text": [
            "\r 91%|█████████ | 91/100 [09:47<00:58,  6.46s/it]"
          ]
        },
        {
          "output_type": "stream",
          "name": "stdout",
          "text": [
            "Epoch: 91, Loss: 2.0381736755371094\n"
          ]
        },
        {
          "output_type": "stream",
          "name": "stderr",
          "text": [
            "\r 92%|█████████▏| 92/100 [09:54<00:53,  6.74s/it]"
          ]
        },
        {
          "output_type": "stream",
          "name": "stdout",
          "text": [
            "Epoch: 92, Loss: 1.927133560180664\n"
          ]
        },
        {
          "output_type": "stream",
          "name": "stderr",
          "text": [
            "\r 93%|█████████▎| 93/100 [10:00<00:45,  6.47s/it]"
          ]
        },
        {
          "output_type": "stream",
          "name": "stdout",
          "text": [
            "Epoch: 93, Loss: 2.1542325019836426\n"
          ]
        },
        {
          "output_type": "stream",
          "name": "stderr",
          "text": [
            "\r 94%|█████████▍| 94/100 [10:07<00:39,  6.51s/it]"
          ]
        },
        {
          "output_type": "stream",
          "name": "stdout",
          "text": [
            "Epoch: 94, Loss: 2.1112804412841797\n"
          ]
        },
        {
          "output_type": "stream",
          "name": "stderr",
          "text": [
            "\r 95%|█████████▌| 95/100 [10:13<00:32,  6.44s/it]"
          ]
        },
        {
          "output_type": "stream",
          "name": "stdout",
          "text": [
            "Epoch: 95, Loss: 1.9988771677017212\n"
          ]
        },
        {
          "output_type": "stream",
          "name": "stderr",
          "text": [
            "\r 96%|█████████▌| 96/100 [10:19<00:25,  6.30s/it]"
          ]
        },
        {
          "output_type": "stream",
          "name": "stdout",
          "text": [
            "Epoch: 96, Loss: 1.867392897605896\n"
          ]
        },
        {
          "output_type": "stream",
          "name": "stderr",
          "text": [
            "\r 97%|█████████▋| 97/100 [10:26<00:19,  6.44s/it]"
          ]
        },
        {
          "output_type": "stream",
          "name": "stdout",
          "text": [
            "Epoch: 97, Loss: 2.060044527053833\n"
          ]
        },
        {
          "output_type": "stream",
          "name": "stderr",
          "text": [
            "\r 98%|█████████▊| 98/100 [10:31<00:12,  6.23s/it]"
          ]
        },
        {
          "output_type": "stream",
          "name": "stdout",
          "text": [
            "Epoch: 98, Loss: 1.9780542850494385\n"
          ]
        },
        {
          "output_type": "stream",
          "name": "stderr",
          "text": [
            "\r 99%|█████████▉| 99/100 [10:39<00:06,  6.52s/it]"
          ]
        },
        {
          "output_type": "stream",
          "name": "stdout",
          "text": [
            "Epoch: 99, Loss: 1.9169942140579224\n"
          ]
        },
        {
          "output_type": "stream",
          "name": "stderr",
          "text": [
            "100%|██████████| 100/100 [10:45<00:00,  6.45s/it]"
          ]
        },
        {
          "output_type": "stream",
          "name": "stdout",
          "text": [
            "Epoch: 100, Loss: 2.0916476249694824\n"
          ]
        },
        {
          "output_type": "stream",
          "name": "stderr",
          "text": [
            "\n"
          ]
        }
      ],
      "source": [
        "num_epoch = 100\n",
        "loss_epoch = []\n",
        "for epoch in tqdm(range(1, num_epoch+1)):\n",
        "  if epoch == num_epoch:\n",
        "    pos_z, neg_z, summary, loss = train_infomax_linkpred(epoch)\n",
        "  else:\n",
        "    loss = train_infomax_linkpred(epoch)\n",
        "  loss_epoch.append(loss)\n",
        "test_pos_z, test_neg_z, test_summary = model(dataset.test_features, dataset.edge_index)"
      ]
    },
    {
      "cell_type": "code",
      "execution_count": null,
      "metadata": {
        "id": "Uw6tf-6uk0D_"
      },
      "outputs": [],
      "source": [
        "train_user_representations = {}\n",
        "test_user_representations = {}\n",
        "for i in range(pos_z.shape[0]):\n",
        "  train_user_representations[i] = (dataset.user_ids[i], pos_z[i].detach(), dataset.train_labels[i])\n",
        "for i in range(test_pos_z.shape[0]):\n",
        "  test_user_representations[i] = (dataset.user_ids[i], test_pos_z[i].detach(), dataset.test_labels[i])"
      ]
    },
    {
      "cell_type": "code",
      "execution_count": null,
      "metadata": {
        "id": "HH3daN5Qk0D_"
      },
      "outputs": [],
      "source": [
        "user_dataset = UserDataset(train_user_representations)\n",
        "\n",
        "n = len(user_dataset)\n",
        "\n",
        "indices = np.arange(n)\n",
        "indices = np.random.permutation(indices)\n",
        "\n",
        "train_indices = indices [:int(0.8*n)]\n",
        "test_indices = indices[int(0.8*n):]\n",
        "\n",
        "user_train_dataset = Subset(user_dataset, train_indices)\n",
        "user_test_dataset = Subset(user_dataset, test_indices)\n",
        "\n",
        "user_train_dataloader = DataLoader(user_train_dataset, batch_size=64, shuffle=True)\n",
        "user_test_dataloader = DataLoader(user_test_dataset, batch_size=64, shuffle=True)"
      ]
    },
    {
      "cell_type": "code",
      "execution_count": null,
      "metadata": {
        "id": "MKIfS2nOk0D_"
      },
      "outputs": [],
      "source": [
        "num_classes = 186\n",
        "classes = np.arange(0, num_classes)"
      ]
    },
    {
      "cell_type": "code",
      "execution_count": null,
      "metadata": {
        "colab": {
          "base_uri": "https://localhost:8080/"
        },
        "id": "-TLr3sx_k0D_",
        "outputId": "c308cc4b-d0ca-4128-a0b4-2b054d317ed0"
      },
      "outputs": [
        {
          "output_type": "stream",
          "name": "stdout",
          "text": [
            "Epoch: 0, Loss: 5.160297393798828\n",
            "Hits@1: 0.05130922049283981\n",
            "Epoch: 1, Loss: 5.097674369812012\n",
            "Hits@1: 0.072420634329319\n",
            "Epoch: 2, Loss: 5.039208889007568\n",
            "Hits@1: 0.10237042605876923\n",
            "Epoch: 3, Loss: 4.984537601470947\n",
            "Hits@1: 0.11653739959001541\n",
            "Epoch: 4, Loss: 4.9333577156066895\n",
            "Hits@1: 0.12617994844913483\n",
            "Epoch: 5, Loss: 4.885403156280518\n",
            "Hits@1: 0.13459746539592743\n",
            "Epoch: 6, Loss: 4.840405464172363\n",
            "Hits@1: 0.14278198778629303\n",
            "Epoch: 7, Loss: 4.798115253448486\n",
            "Hits@1: 0.14825336635112762\n",
            "Epoch: 8, Loss: 4.758296966552734\n",
            "Hits@1: 0.15389759838581085\n",
            "Epoch: 9, Loss: 4.720736026763916\n",
            "Hits@1: 0.16037608683109283\n",
            "Epoch: 10, Loss: 4.685244083404541\n",
            "Hits@1: 0.16354015469551086\n",
            "Epoch: 11, Loss: 4.651653289794922\n",
            "Hits@1: 0.16536645591259003\n",
            "Epoch: 12, Loss: 4.619807720184326\n",
            "Hits@1: 0.17178480327129364\n",
            "Epoch: 13, Loss: 4.589570999145508\n",
            "Hits@1: 0.17503908276557922\n",
            "Epoch: 14, Loss: 4.560819625854492\n",
            "Hits@1: 0.17753426730632782\n",
            "Epoch: 15, Loss: 4.533444881439209\n",
            "Hits@1: 0.18020232021808624\n",
            "Epoch: 16, Loss: 4.507345676422119\n",
            "Hits@1: 0.18269750475883484\n",
            "Epoch: 17, Loss: 4.4824323654174805\n",
            "Hits@1: 0.18299062550067902\n",
            "Epoch: 18, Loss: 4.458620548248291\n",
            "Hits@1: 0.18596680462360382\n",
            "Epoch: 19, Loss: 4.435835838317871\n",
            "Hits@1: 0.1879659742116928\n",
            "Epoch: 20, Loss: 4.414007663726807\n",
            "Hits@1: 0.19116011261940002\n",
            "Epoch: 21, Loss: 4.393075942993164\n",
            "Hits@1: 0.19477514922618866\n",
            "Epoch: 22, Loss: 4.372982501983643\n",
            "Hits@1: 0.19725529849529266\n",
            "Epoch: 23, Loss: 4.353673934936523\n",
            "Hits@1: 0.19756342470645905\n",
            "Epoch: 24, Loss: 4.335100173950195\n",
            "Hits@1: 0.19884860515594482\n",
            "Epoch: 25, Loss: 4.317218780517578\n",
            "Hits@1: 0.20005862414836884\n",
            "Epoch: 26, Loss: 4.299986839294434\n",
            "Hits@1: 0.20233586430549622\n",
            "Epoch: 27, Loss: 4.283366680145264\n",
            "Hits@1: 0.20573292672634125\n",
            "Epoch: 28, Loss: 4.267322063446045\n",
            "Hits@1: 0.20625901222229004\n",
            "Epoch: 29, Loss: 4.251821517944336\n",
            "Hits@1: 0.2096109837293625\n",
            "Epoch: 30, Loss: 4.236833572387695\n",
            "Hits@1: 0.20876923203468323\n",
            "Epoch: 31, Loss: 4.222329616546631\n",
            "Hits@1: 0.21047528088092804\n",
            "Epoch: 32, Loss: 4.208284378051758\n",
            "Hits@1: 0.21190325915813446\n",
            "Epoch: 33, Loss: 4.194674015045166\n",
            "Hits@1: 0.21270743012428284\n",
            "Epoch: 34, Loss: 4.1814751625061035\n",
            "Hits@1: 0.21320345997810364\n",
            "Epoch: 35, Loss: 4.168665885925293\n",
            "Hits@1: 0.21445856988430023\n",
            "Epoch: 36, Loss: 4.156228542327881\n",
            "Hits@1: 0.21596169471740723\n",
            "Epoch: 37, Loss: 4.144143581390381\n",
            "Hits@1: 0.21838173270225525\n",
            "Epoch: 38, Loss: 4.1323933601379395\n",
            "Hits@1: 0.21937379240989685\n",
            "Epoch: 39, Loss: 4.120963096618652\n",
            "Hits@1: 0.21944895386695862\n",
            "Epoch: 40, Loss: 4.109837532043457\n",
            "Hits@1: 0.22064393758773804\n",
            "Epoch: 41, Loss: 4.099002361297607\n",
            "Hits@1: 0.22211700677871704\n",
            "Epoch: 42, Loss: 4.088444232940674\n",
            "Hits@1: 0.22166606783866882\n",
            "Epoch: 43, Loss: 4.078151226043701\n",
            "Hits@1: 0.22504809498786926\n",
            "Epoch: 44, Loss: 4.068111896514893\n",
            "Hits@1: 0.22513829171657562\n",
            "Epoch: 45, Loss: 4.058314800262451\n",
            "Hits@1: 0.22707732021808624\n",
            "Epoch: 46, Loss: 4.048749923706055\n",
            "Hits@1: 0.22907647490501404\n",
            "Epoch: 47, Loss: 4.039407730102539\n",
            "Hits@1: 0.23101550340652466\n",
            "Epoch: 48, Loss: 4.030279159545898\n",
            "Hits@1: 0.23346561193466187\n",
            "Epoch: 49, Loss: 4.021354675292969\n",
            "Hits@1: 0.23327770829200745\n",
            "Epoch: 50, Loss: 4.012627601623535\n",
            "Hits@1: 0.23420967161655426\n",
            "Epoch: 51, Loss: 4.004088878631592\n",
            "Hits@1: 0.23450276255607605\n",
            "Epoch: 52, Loss: 3.995731830596924\n",
            "Hits@1: 0.23572781682014465\n",
            "Epoch: 53, Loss: 3.987549304962158\n",
            "Hits@1: 0.23676496744155884\n",
            "Epoch: 54, Loss: 3.9795353412628174\n",
            "Hits@1: 0.23921506106853485\n",
            "Epoch: 55, Loss: 3.9716830253601074\n",
            "Hits@1: 0.23904220759868622\n",
            "Epoch: 56, Loss: 3.963987350463867\n",
            "Hits@1: 0.24214617908000946\n",
            "Epoch: 57, Loss: 3.956442356109619\n",
            "Hits@1: 0.24341629445552826\n",
            "Epoch: 58, Loss: 3.949042320251465\n",
            "Hits@1: 0.24367934465408325\n",
            "Epoch: 59, Loss: 3.9417834281921387\n",
            "Hits@1: 0.24273237586021423\n",
            "Epoch: 60, Loss: 3.934659242630005\n",
            "Hits@1: 0.24394239485263824\n",
            "Epoch: 61, Loss: 3.927666425704956\n",
            "Hits@1: 0.24491943418979645\n",
            "Epoch: 62, Loss: 3.9208006858825684\n",
            "Hits@1: 0.24642255902290344\n",
            "Epoch: 63, Loss: 3.9140570163726807\n",
            "Hits@1: 0.24769270420074463\n",
            "Epoch: 64, Loss: 3.9074323177337646\n",
            "Hits@1: 0.24871481955051422\n",
            "Epoch: 65, Loss: 3.9009218215942383\n",
            "Hits@1: 0.25163090229034424\n",
            "Epoch: 66, Loss: 3.894523859024048\n",
            "Hits@1: 0.2516759932041168\n",
            "Epoch: 67, Loss: 3.8882334232330322\n",
            "Hits@1: 0.25454697012901306\n",
            "Epoch: 68, Loss: 3.882047653198242\n",
            "Hits@1: 0.25605008006095886\n",
            "Epoch: 69, Loss: 3.8759634494781494\n",
            "Hits@1: 0.2565010190010071\n",
            "Epoch: 70, Loss: 3.8699769973754883\n",
            "Hits@1: 0.25727513432502747\n",
            "Epoch: 71, Loss: 3.864086866378784\n",
            "Hits@1: 0.25730520486831665\n",
            "Epoch: 72, Loss: 3.8582894802093506\n",
            "Hits@1: 0.25710228085517883\n",
            "Epoch: 73, Loss: 3.8525824546813965\n",
            "Hits@1: 0.25924423336982727\n",
            "Epoch: 74, Loss: 3.8469624519348145\n",
            "Hits@1: 0.26077741384506226\n",
            "Epoch: 75, Loss: 3.841428518295288\n",
            "Hits@1: 0.26152148842811584\n",
            "Epoch: 76, Loss: 3.83597731590271\n",
            "Hits@1: 0.26128846406936646\n",
            "Epoch: 77, Loss: 3.830606460571289\n",
            "Hits@1: 0.2613636255264282\n",
            "Epoch: 78, Loss: 3.825314521789551\n",
            "Hits@1: 0.2625886797904968\n",
            "Epoch: 79, Loss: 3.820098876953125\n",
            "Hits@1: 0.26330265402793884\n",
            "Epoch: 80, Loss: 3.814957618713379\n",
            "Hits@1: 0.26427969336509705\n",
            "Epoch: 81, Loss: 3.8098886013031006\n",
            "Hits@1: 0.26573774218559265\n",
            "Epoch: 82, Loss: 3.8048901557922363\n",
            "Hits@1: 0.26551976799964905\n",
            "Epoch: 83, Loss: 3.7999606132507324\n",
            "Hits@1: 0.26649680733680725\n",
            "Epoch: 84, Loss: 3.795098066329956\n",
            "Hits@1: 0.26603084802627563\n",
            "Epoch: 85, Loss: 3.790302038192749\n",
            "Hits@1: 0.26773688197135925\n",
            "Epoch: 86, Loss: 3.785569429397583\n",
            "Hits@1: 0.26945799589157104\n",
            "Epoch: 87, Loss: 3.7808990478515625\n",
            "Hits@1: 0.26950305700302124\n",
            "Epoch: 88, Loss: 3.776289701461792\n",
            "Hits@1: 0.27069807052612305\n",
            "Epoch: 89, Loss: 3.771740198135376\n",
            "Hits@1: 0.27169013023376465\n",
            "Epoch: 90, Loss: 3.7672479152679443\n",
            "Hits@1: 0.27411016821861267\n",
            "Epoch: 91, Loss: 3.762812614440918\n",
            "Hits@1: 0.27344125509262085\n",
            "Epoch: 92, Loss: 3.7584328651428223\n",
            "Hits@1: 0.2734863758087158\n",
            "Epoch: 93, Loss: 3.754107713699341\n",
            "Hits@1: 0.27441829442977905\n",
            "Epoch: 94, Loss: 3.7498347759246826\n",
            "Hits@1: 0.2763272523880005\n",
            "Epoch: 95, Loss: 3.7456138134002686\n",
            "Hits@1: 0.27562832832336426\n",
            "Epoch: 96, Loss: 3.7414443492889404\n",
            "Hits@1: 0.27686840295791626\n",
            "Epoch: 97, Loss: 3.73732328414917\n",
            "Hits@1: 0.27737945318222046\n",
            "Epoch: 98, Loss: 3.7332513332366943\n",
            "Hits@1: 0.2786044776439667\n",
            "Epoch: 99, Loss: 3.72922682762146\n",
            "Hits@1: 0.27816855907440186\n",
            "Epoch: 100, Loss: 3.725248336791992\n",
            "Hits@1: 0.2802805006504059\n",
            "Epoch: 101, Loss: 3.72131609916687\n",
            "Hits@1: 0.27985960245132446\n",
            "Epoch: 102, Loss: 3.71742844581604\n",
            "Hits@1: 0.28015270829200745\n",
            "Epoch: 103, Loss: 3.7135841846466064\n",
            "Hits@1: 0.28061869740486145\n",
            "Epoch: 104, Loss: 3.709782838821411\n",
            "Hits@1: 0.28181368112564087\n",
            "Epoch: 105, Loss: 3.7060229778289795\n",
            "Hits@1: 0.28161075711250305\n",
            "Epoch: 106, Loss: 3.7023048400878906\n",
            "Hits@1: 0.28305375576019287\n",
            "Epoch: 107, Loss: 3.698627233505249\n",
            "Hits@1: 0.28309884667396545\n",
            "Epoch: 108, Loss: 3.694988250732422\n",
            "Hits@1: 0.28409090638160706\n",
            "Epoch: 109, Loss: 3.6913881301879883\n",
            "Hits@1: 0.2853009104728699\n",
            "Epoch: 110, Loss: 3.687825918197632\n",
            "Hits@1: 0.28509798645973206\n",
            "Epoch: 111, Loss: 3.6843011379241943\n",
            "Hits@1: 0.28657108545303345\n",
            "Epoch: 112, Loss: 3.6808125972747803\n",
            "Hits@1: 0.2886979877948761\n",
            "Epoch: 113, Loss: 3.677360773086548\n",
            "Hits@1: 0.28709715604782104\n",
            "Epoch: 114, Loss: 3.673943281173706\n",
            "Hits@1: 0.2885100841522217\n",
            "Epoch: 115, Loss: 3.670560598373413\n",
            "Hits@1: 0.28805917501449585\n",
            "Epoch: 116, Loss: 3.6672120094299316\n",
            "Hits@1: 0.2894570827484131\n",
            "Epoch: 117, Loss: 3.6638965606689453\n",
            "Hits@1: 0.28855520486831665\n",
            "Epoch: 118, Loss: 3.660613775253296\n",
            "Hits@1: 0.28950217366218567\n",
            "Epoch: 119, Loss: 3.6573636531829834\n",
            "Hits@1: 0.29004329442977905\n",
            "Epoch: 120, Loss: 3.654144287109375\n",
            "Hits@1: 0.2914712727069855\n",
            "Epoch: 121, Loss: 3.650956392288208\n",
            "Hits@1: 0.29052427411079407\n",
            "Epoch: 122, Loss: 3.647799253463745\n",
            "Hits@1: 0.29077228903770447\n",
            "Epoch: 123, Loss: 3.6446714401245117\n",
            "Hits@1: 0.29128336906433105\n",
            "Epoch: 124, Loss: 3.641573429107666\n",
            "Hits@1: 0.29179441928863525\n",
            "Epoch: 125, Loss: 3.6385045051574707\n",
            "Hits@1: 0.29300445318222046\n",
            "Epoch: 126, Loss: 3.6354634761810303\n",
            "Hits@1: 0.29253846406936646\n",
            "Epoch: 127, Loss: 3.632451057434082\n",
            "Hits@1: 0.2937034070491791\n",
            "Epoch: 128, Loss: 3.6294655799865723\n",
            "Hits@1: 0.29326751828193665\n",
            "Epoch: 129, Loss: 3.626507520675659\n",
            "Hits@1: 0.29350048303604126\n",
            "Epoch: 130, Loss: 3.6235761642456055\n",
            "Hits@1: 0.29379355907440186\n",
            "Epoch: 131, Loss: 3.6206705570220947\n",
            "Hits@1: 0.29497355222702026\n",
            "Epoch: 132, Loss: 3.617790937423706\n",
            "Hits@1: 0.29598063230514526\n",
            "Epoch: 133, Loss: 3.614936590194702\n",
            "Hits@1: 0.2966946065425873\n",
            "Epoch: 134, Loss: 3.612107515335083\n",
            "Hits@1: 0.29599568247795105\n",
            "Epoch: 135, Loss: 3.609302520751953\n",
            "Hits@1: 0.29652175307273865\n",
            "Epoch: 136, Loss: 3.6065216064453125\n",
            "Hits@1: 0.29843074083328247\n",
            "Epoch: 137, Loss: 3.6037654876708984\n",
            "Hits@1: 0.2988967001438141\n",
            "Epoch: 138, Loss: 3.601031541824341\n",
            "Hits@1: 0.2991597652435303\n",
            "Epoch: 139, Loss: 3.5983211994171143\n",
            "Hits@1: 0.29824283719062805\n",
            "Epoch: 140, Loss: 3.5956337451934814\n",
            "Hits@1: 0.29869377613067627\n",
            "Epoch: 141, Loss: 3.592967987060547\n",
            "Hits@1: 0.29923489689826965\n",
            "Epoch: 142, Loss: 3.590324878692627\n",
            "Hits@1: 0.2999188303947449\n",
            "Epoch: 143, Loss: 3.5877034664154053\n",
            "Hits@1: 0.30044493079185486\n",
            "Epoch: 144, Loss: 3.5851035118103027\n",
            "Hits@1: 0.3016248643398285\n",
            "Epoch: 145, Loss: 3.582524299621582\n",
            "Hits@1: 0.30070799589157104\n",
            "Epoch: 146, Loss: 3.5799660682678223\n",
            "Hits@1: 0.30069294571876526\n",
            "Epoch: 147, Loss: 3.5774285793304443\n",
            "Hits@1: 0.3011739253997803\n",
            "Epoch: 148, Loss: 3.5749106407165527\n",
            "Hits@1: 0.30050504207611084\n",
            "Epoch: 149, Loss: 3.572413444519043\n",
            "Hits@1: 0.30196309089660645\n",
            "Epoch: 150, Loss: 3.5699350833892822\n",
            "Hits@1: 0.3039020895957947\n",
            "Epoch: 151, Loss: 3.5674760341644287\n",
            "Hits@1: 0.3046311140060425\n",
            "Epoch: 152, Loss: 3.5650367736816406\n",
            "Hits@1: 0.30515721440315247\n",
            "Epoch: 153, Loss: 3.5626156330108643\n",
            "Hits@1: 0.30593132972717285\n",
            "Epoch: 154, Loss: 3.5602128505706787\n",
            "Hits@1: 0.30594635009765625\n",
            "Epoch: 155, Loss: 3.557828903198242\n",
            "Hits@1: 0.30712631344795227\n",
            "Epoch: 156, Loss: 3.555462598800659\n",
            "Hits@1: 0.3073442876338959\n",
            "Epoch: 157, Loss: 3.553114414215088\n",
            "Hits@1: 0.30712631344795227\n",
            "Epoch: 158, Loss: 3.55078387260437\n",
            "Hits@1: 0.30763739347457886\n",
            "Epoch: 159, Loss: 3.5484702587127686\n",
            "Hits@1: 0.30790045857429504\n",
            "Epoch: 160, Loss: 3.546173572540283\n",
            "Hits@1: 0.30766743421554565\n",
            "Epoch: 161, Loss: 3.543893575668335\n",
            "Hits@1: 0.30937349796295166\n",
            "Epoch: 162, Loss: 3.541630268096924\n",
            "Hits@1: 0.3089526295661926\n",
            "Epoch: 163, Loss: 3.53938364982605\n",
            "Hits@1: 0.3105835020542145\n",
            "Epoch: 164, Loss: 3.537153482437134\n",
            "Hits@1: 0.31014761328697205\n",
            "Epoch: 165, Loss: 3.5349390506744385\n",
            "Hits@1: 0.31064364314079285\n",
            "Epoch: 166, Loss: 3.532740592956543\n",
            "Hits@1: 0.31090667843818665\n",
            "Epoch: 167, Loss: 3.53055739402771\n",
            "Hits@1: 0.31162068247795105\n",
            "Epoch: 168, Loss: 3.5283894538879395\n",
            "Hits@1: 0.3128156363964081\n",
            "Epoch: 169, Loss: 3.5262372493743896\n",
            "Hits@1: 0.3135296404361725\n",
            "Epoch: 170, Loss: 3.524099111557007\n",
            "Hits@1: 0.3140256702899933\n",
            "Epoch: 171, Loss: 3.5219767093658447\n",
            "Hits@1: 0.3133266866207123\n",
            "Epoch: 172, Loss: 3.5198686122894287\n",
            "Hits@1: 0.31355971097946167\n",
            "Epoch: 173, Loss: 3.517775058746338\n",
            "Hits@1: 0.31383776664733887\n",
            "Epoch: 174, Loss: 3.515695333480835\n",
            "Hits@1: 0.31506282091140747\n",
            "Epoch: 175, Loss: 3.513629913330078\n",
            "Hits@1: 0.31461188197135925\n",
            "Epoch: 176, Loss: 3.5115787982940674\n",
            "Hits@1: 0.31484487652778625\n",
            "Epoch: 177, Loss: 3.5095407962799072\n",
            "Hits@1: 0.31531083583831787\n",
            "Epoch: 178, Loss: 3.507516860961914\n",
            "Hits@1: 0.31534090638160706\n",
            "Epoch: 179, Loss: 3.5055058002471924\n",
            "Hits@1: 0.31513798236846924\n",
            "Epoch: 180, Loss: 3.5035083293914795\n",
            "Hits@1: 0.3170168995857239\n",
            "Epoch: 181, Loss: 3.501523733139038\n",
            "Hits@1: 0.3174978792667389\n",
            "Epoch: 182, Loss: 3.4995522499084473\n",
            "Hits@1: 0.31710705161094666\n",
            "Epoch: 183, Loss: 3.497594118118286\n",
            "Hits@1: 0.3190010190010071\n",
            "Epoch: 184, Loss: 3.495647668838501\n",
            "Hits@1: 0.3197300434112549\n",
            "Epoch: 185, Loss: 3.4937140941619873\n",
            "Hits@1: 0.31763318181037903\n",
            "Epoch: 186, Loss: 3.491793155670166\n",
            "Hits@1: 0.3192790746688843\n",
            "Epoch: 187, Loss: 3.4898838996887207\n",
            "Hits@1: 0.31906116008758545\n",
            "Epoch: 188, Loss: 3.4879870414733887\n",
            "Hits@1: 0.32073715329170227\n",
            "Epoch: 189, Loss: 3.486102342605591\n",
            "Hits@1: 0.32100018858909607\n",
            "Epoch: 190, Loss: 3.48422908782959\n",
            "Hits@1: 0.32054924964904785\n",
            "Epoch: 191, Loss: 3.482367753982544\n",
            "Hits@1: 0.32079726457595825\n",
            "Epoch: 192, Loss: 3.4805173873901367\n",
            "Hits@1: 0.32155632972717285\n",
            "Epoch: 193, Loss: 3.4786791801452637\n",
            "Hits@1: 0.32273629307746887\n",
            "Epoch: 194, Loss: 3.47685170173645\n",
            "Hits@1: 0.32132333517074585\n",
            "Epoch: 195, Loss: 3.4750354290008545\n",
            "Hits@1: 0.3229843080043793\n",
            "Epoch: 196, Loss: 3.4732303619384766\n",
            "Hits@1: 0.32275131344795227\n",
            "Epoch: 197, Loss: 3.471436023712158\n",
            "Hits@1: 0.32133838534355164\n",
            "Epoch: 198, Loss: 3.4696526527404785\n",
            "Hits@1: 0.32180434465408325\n",
            "Epoch: 199, Loss: 3.4678800106048584\n",
            "Hits@1: 0.3239462971687317\n",
            "hits@1: 0.322548, hits@5: 0.556743, hits@10: 0.670056, hits@20: 0.787338\n",
            "hits@50: 0.921394, hits@100: 0.988839\n",
            "map@1: 0.322548, map@5: 0.407939, map@10: 0.422947, map@20: 0.430972\n",
            "map@50: 0.435496, map@100: 0.436497\n",
            "ndcg@1: 0.322548, ndcg@5: 0.444938, ndcg@10: 0.481462, ndcg@20: 0.510974\n",
            "ndcg@50: 0.538014, ndcg@100: 0.549048\n"
          ]
        }
      ],
      "source": [
        "head_model = train2task()\n",
        "torch.save(head_model.state_dict(), 'edge_dropout_infomax_linkpred_model.pth')"
      ]
    },
    {
      "cell_type": "markdown",
      "metadata": {
        "id": "75KAYVFVk7_b"
      },
      "source": [
        "### Random walk, Infomax + Link pred"
      ]
    },
    {
      "cell_type": "code",
      "execution_count": null,
      "metadata": {
        "id": "7Z3AcTgllF0j"
      },
      "outputs": [],
      "source": [
        "# device = torch.device('cuda' if torch.cuda.is_available() else 'cpu')\n",
        "device = torch.device('cpu')\n",
        "model = DeepGraphInfomax(hidden_channels=128,\n",
        "                         encoder=Encoder(interm_channels=74, hidden_channels=128,\n",
        "                                         num_features=128),\n",
        "                         summary=lambda z, *args, **kwargs: torch.sigmoid(z.mean(dim=0)),\n",
        "                         corruption=random_walk).to(device)\n",
        "linkmodel = LinkPredHead()\n",
        "optimizer = torch.optim.AdamW(model.parameters(), lr=0.0005)\n",
        "loss_bce = nn.BCEWithLogitsLoss()"
      ]
    },
    {
      "cell_type": "code",
      "execution_count": null,
      "metadata": {
        "colab": {
          "base_uri": "https://localhost:8080/"
        },
        "id": "4uNVp0AllF0q",
        "outputId": "52e083c0-7a22-45c0-b1f0-2a2db6252f40"
      },
      "outputs": [
        {
          "output_type": "stream",
          "name": "stderr",
          "text": [
            "  1%|          | 1/100 [00:05<09:24,  5.70s/it]"
          ]
        },
        {
          "output_type": "stream",
          "name": "stdout",
          "text": [
            "Epoch: 1, Loss: 4.511188983917236\n"
          ]
        },
        {
          "output_type": "stream",
          "name": "stderr",
          "text": [
            "\r  2%|▏         | 2/100 [00:10<08:10,  5.01s/it]"
          ]
        },
        {
          "output_type": "stream",
          "name": "stdout",
          "text": [
            "Epoch: 2, Loss: 3.2485270500183105\n"
          ]
        },
        {
          "output_type": "stream",
          "name": "stderr",
          "text": [
            "\r  3%|▎         | 3/100 [00:14<07:17,  4.51s/it]"
          ]
        },
        {
          "output_type": "stream",
          "name": "stdout",
          "text": [
            "Epoch: 3, Loss: 3.6351232528686523\n"
          ]
        },
        {
          "output_type": "stream",
          "name": "stderr",
          "text": [
            "\r  4%|▍         | 4/100 [00:17<06:47,  4.24s/it]"
          ]
        },
        {
          "output_type": "stream",
          "name": "stdout",
          "text": [
            "Epoch: 4, Loss: 3.651085376739502\n"
          ]
        },
        {
          "output_type": "stream",
          "name": "stderr",
          "text": [
            "\r  5%|▌         | 5/100 [00:23<07:11,  4.54s/it]"
          ]
        },
        {
          "output_type": "stream",
          "name": "stdout",
          "text": [
            "Epoch: 5, Loss: 2.938366651535034\n"
          ]
        },
        {
          "output_type": "stream",
          "name": "stderr",
          "text": [
            "\r  6%|▌         | 6/100 [00:26<06:44,  4.31s/it]"
          ]
        },
        {
          "output_type": "stream",
          "name": "stdout",
          "text": [
            "Epoch: 6, Loss: 2.899475574493408\n"
          ]
        },
        {
          "output_type": "stream",
          "name": "stderr",
          "text": [
            "\r  7%|▋         | 7/100 [00:30<06:27,  4.16s/it]"
          ]
        },
        {
          "output_type": "stream",
          "name": "stdout",
          "text": [
            "Epoch: 7, Loss: 2.7207932472229004\n"
          ]
        },
        {
          "output_type": "stream",
          "name": "stderr",
          "text": [
            "\r  8%|▊         | 8/100 [00:35<06:47,  4.43s/it]"
          ]
        },
        {
          "output_type": "stream",
          "name": "stdout",
          "text": [
            "Epoch: 8, Loss: 2.125828504562378\n"
          ]
        },
        {
          "output_type": "stream",
          "name": "stderr",
          "text": [
            "\r  9%|▉         | 9/100 [00:41<07:06,  4.69s/it]"
          ]
        },
        {
          "output_type": "stream",
          "name": "stdout",
          "text": [
            "Epoch: 9, Loss: 1.3321194648742676\n"
          ]
        },
        {
          "output_type": "stream",
          "name": "stderr",
          "text": [
            "\r 10%|█         | 10/100 [00:44<06:38,  4.43s/it]"
          ]
        },
        {
          "output_type": "stream",
          "name": "stdout",
          "text": [
            "Epoch: 10, Loss: 2.705251455307007\n"
          ]
        },
        {
          "output_type": "stream",
          "name": "stderr",
          "text": [
            "\r 11%|█         | 11/100 [00:49<06:46,  4.57s/it]"
          ]
        },
        {
          "output_type": "stream",
          "name": "stdout",
          "text": [
            "Epoch: 11, Loss: 2.5453333854675293\n"
          ]
        },
        {
          "output_type": "stream",
          "name": "stderr",
          "text": [
            "\r 12%|█▏        | 12/100 [00:53<06:28,  4.42s/it]"
          ]
        },
        {
          "output_type": "stream",
          "name": "stdout",
          "text": [
            "Epoch: 12, Loss: 3.61480975151062\n"
          ]
        },
        {
          "output_type": "stream",
          "name": "stderr",
          "text": [
            "\r 13%|█▎        | 13/100 [00:57<06:10,  4.26s/it]"
          ]
        },
        {
          "output_type": "stream",
          "name": "stdout",
          "text": [
            "Epoch: 13, Loss: 2.415259599685669\n"
          ]
        },
        {
          "output_type": "stream",
          "name": "stderr",
          "text": [
            "\r 14%|█▍        | 14/100 [01:02<06:07,  4.28s/it]"
          ]
        },
        {
          "output_type": "stream",
          "name": "stdout",
          "text": [
            "Epoch: 14, Loss: 1.7380506992340088\n"
          ]
        },
        {
          "output_type": "stream",
          "name": "stderr",
          "text": [
            "\r 15%|█▌        | 15/100 [01:06<06:10,  4.36s/it]"
          ]
        },
        {
          "output_type": "stream",
          "name": "stdout",
          "text": [
            "Epoch: 15, Loss: 2.565542697906494\n"
          ]
        },
        {
          "output_type": "stream",
          "name": "stderr",
          "text": [
            "\r 16%|█▌        | 16/100 [01:10<05:51,  4.19s/it]"
          ]
        },
        {
          "output_type": "stream",
          "name": "stdout",
          "text": [
            "Epoch: 16, Loss: 1.8678243160247803\n"
          ]
        },
        {
          "output_type": "stream",
          "name": "stderr",
          "text": [
            "\r 17%|█▋        | 17/100 [01:14<05:39,  4.09s/it]"
          ]
        },
        {
          "output_type": "stream",
          "name": "stdout",
          "text": [
            "Epoch: 17, Loss: 1.9113147258758545\n"
          ]
        },
        {
          "output_type": "stream",
          "name": "stderr",
          "text": [
            "\r 18%|█▊        | 18/100 [01:19<05:59,  4.39s/it]"
          ]
        },
        {
          "output_type": "stream",
          "name": "stdout",
          "text": [
            "Epoch: 18, Loss: 1.5109338760375977\n"
          ]
        },
        {
          "output_type": "stream",
          "name": "stderr",
          "text": [
            "\r 19%|█▉        | 19/100 [01:23<05:41,  4.21s/it]"
          ]
        },
        {
          "output_type": "stream",
          "name": "stdout",
          "text": [
            "Epoch: 19, Loss: 1.3621124029159546\n"
          ]
        },
        {
          "output_type": "stream",
          "name": "stderr",
          "text": [
            "\r 20%|██        | 20/100 [01:26<05:27,  4.09s/it]"
          ]
        },
        {
          "output_type": "stream",
          "name": "stdout",
          "text": [
            "Epoch: 20, Loss: 3.75809383392334\n"
          ]
        },
        {
          "output_type": "stream",
          "name": "stderr",
          "text": [
            "\r 21%|██        | 21/100 [01:31<05:38,  4.29s/it]"
          ]
        },
        {
          "output_type": "stream",
          "name": "stdout",
          "text": [
            "Epoch: 21, Loss: 1.9234745502471924\n"
          ]
        },
        {
          "output_type": "stream",
          "name": "stderr",
          "text": [
            "\r 22%|██▏       | 22/100 [01:35<05:30,  4.24s/it]"
          ]
        },
        {
          "output_type": "stream",
          "name": "stdout",
          "text": [
            "Epoch: 22, Loss: 1.9660276174545288\n"
          ]
        },
        {
          "output_type": "stream",
          "name": "stderr",
          "text": [
            "\r 23%|██▎       | 23/100 [01:39<05:16,  4.11s/it]"
          ]
        },
        {
          "output_type": "stream",
          "name": "stdout",
          "text": [
            "Epoch: 23, Loss: 1.4544951915740967\n"
          ]
        },
        {
          "output_type": "stream",
          "name": "stderr",
          "text": [
            "\r 24%|██▍       | 24/100 [01:43<05:10,  4.09s/it]"
          ]
        },
        {
          "output_type": "stream",
          "name": "stdout",
          "text": [
            "Epoch: 24, Loss: 3.1708004474639893\n"
          ]
        },
        {
          "output_type": "stream",
          "name": "stderr",
          "text": [
            "\r 25%|██▌       | 25/100 [01:48<05:22,  4.30s/it]"
          ]
        },
        {
          "output_type": "stream",
          "name": "stdout",
          "text": [
            "Epoch: 25, Loss: 2.0654702186584473\n"
          ]
        },
        {
          "output_type": "stream",
          "name": "stderr",
          "text": [
            "\r 26%|██▌       | 26/100 [01:52<05:08,  4.16s/it]"
          ]
        },
        {
          "output_type": "stream",
          "name": "stdout",
          "text": [
            "Epoch: 26, Loss: 1.7574079036712646\n"
          ]
        },
        {
          "output_type": "stream",
          "name": "stderr",
          "text": [
            "\r 27%|██▋       | 27/100 [01:56<04:55,  4.05s/it]"
          ]
        },
        {
          "output_type": "stream",
          "name": "stdout",
          "text": [
            "Epoch: 27, Loss: 2.4111247062683105\n"
          ]
        },
        {
          "output_type": "stream",
          "name": "stderr",
          "text": [
            "\r 28%|██▊       | 28/100 [02:01<05:13,  4.36s/it]"
          ]
        },
        {
          "output_type": "stream",
          "name": "stdout",
          "text": [
            "Epoch: 28, Loss: 1.1909468173980713\n"
          ]
        },
        {
          "output_type": "stream",
          "name": "stderr",
          "text": [
            "\r 29%|██▉       | 29/100 [02:04<04:58,  4.20s/it]"
          ]
        },
        {
          "output_type": "stream",
          "name": "stdout",
          "text": [
            "Epoch: 29, Loss: 1.956261396408081\n"
          ]
        },
        {
          "output_type": "stream",
          "name": "stderr",
          "text": [
            "\r 30%|███       | 30/100 [02:08<04:45,  4.08s/it]"
          ]
        },
        {
          "output_type": "stream",
          "name": "stdout",
          "text": [
            "Epoch: 30, Loss: 1.6135680675506592\n"
          ]
        },
        {
          "output_type": "stream",
          "name": "stderr",
          "text": [
            "\r 31%|███       | 31/100 [02:13<04:50,  4.22s/it]"
          ]
        },
        {
          "output_type": "stream",
          "name": "stdout",
          "text": [
            "Epoch: 31, Loss: 1.576305866241455\n"
          ]
        },
        {
          "output_type": "stream",
          "name": "stderr",
          "text": [
            "\r 32%|███▏      | 32/100 [02:17<04:48,  4.25s/it]"
          ]
        },
        {
          "output_type": "stream",
          "name": "stdout",
          "text": [
            "Epoch: 32, Loss: 1.5809212923049927\n"
          ]
        },
        {
          "output_type": "stream",
          "name": "stderr",
          "text": [
            "\r 33%|███▎      | 33/100 [02:21<04:36,  4.12s/it]"
          ]
        },
        {
          "output_type": "stream",
          "name": "stdout",
          "text": [
            "Epoch: 33, Loss: 1.2449508905410767\n"
          ]
        },
        {
          "output_type": "stream",
          "name": "stderr",
          "text": [
            "\r 34%|███▍      | 34/100 [02:25<04:29,  4.08s/it]"
          ]
        },
        {
          "output_type": "stream",
          "name": "stdout",
          "text": [
            "Epoch: 34, Loss: 2.092135429382324\n"
          ]
        },
        {
          "output_type": "stream",
          "name": "stderr",
          "text": [
            "\r 35%|███▌      | 35/100 [02:30<04:42,  4.35s/it]"
          ]
        },
        {
          "output_type": "stream",
          "name": "stdout",
          "text": [
            "Epoch: 35, Loss: 1.574366569519043\n"
          ]
        },
        {
          "output_type": "stream",
          "name": "stderr",
          "text": [
            "\r 36%|███▌      | 36/100 [02:34<04:29,  4.21s/it]"
          ]
        },
        {
          "output_type": "stream",
          "name": "stdout",
          "text": [
            "Epoch: 36, Loss: 1.21950364112854\n"
          ]
        },
        {
          "output_type": "stream",
          "name": "stderr",
          "text": [
            "\r 37%|███▋      | 37/100 [02:38<04:17,  4.09s/it]"
          ]
        },
        {
          "output_type": "stream",
          "name": "stdout",
          "text": [
            "Epoch: 37, Loss: 1.5938754081726074\n"
          ]
        },
        {
          "output_type": "stream",
          "name": "stderr",
          "text": [
            "\r 38%|███▊      | 38/100 [02:43<04:31,  4.37s/it]"
          ]
        },
        {
          "output_type": "stream",
          "name": "stdout",
          "text": [
            "Epoch: 38, Loss: 1.2114832401275635\n"
          ]
        },
        {
          "output_type": "stream",
          "name": "stderr",
          "text": [
            "\r 39%|███▉      | 39/100 [02:47<04:18,  4.24s/it]"
          ]
        },
        {
          "output_type": "stream",
          "name": "stdout",
          "text": [
            "Epoch: 39, Loss: 1.649965763092041\n"
          ]
        },
        {
          "output_type": "stream",
          "name": "stderr",
          "text": [
            "\r 40%|████      | 40/100 [02:50<04:07,  4.12s/it]"
          ]
        },
        {
          "output_type": "stream",
          "name": "stdout",
          "text": [
            "Epoch: 40, Loss: 1.0123355388641357\n"
          ]
        },
        {
          "output_type": "stream",
          "name": "stderr",
          "text": [
            "\r 41%|████      | 41/100 [02:55<04:09,  4.22s/it]"
          ]
        },
        {
          "output_type": "stream",
          "name": "stdout",
          "text": [
            "Epoch: 41, Loss: 1.2586123943328857\n"
          ]
        },
        {
          "output_type": "stream",
          "name": "stderr",
          "text": [
            "\r 42%|████▏     | 42/100 [02:59<04:08,  4.29s/it]"
          ]
        },
        {
          "output_type": "stream",
          "name": "stdout",
          "text": [
            "Epoch: 42, Loss: 5.310296535491943\n"
          ]
        },
        {
          "output_type": "stream",
          "name": "stderr",
          "text": [
            "\r 43%|████▎     | 43/100 [03:03<03:56,  4.15s/it]"
          ]
        },
        {
          "output_type": "stream",
          "name": "stdout",
          "text": [
            "Epoch: 43, Loss: 1.129935622215271\n"
          ]
        },
        {
          "output_type": "stream",
          "name": "stderr",
          "text": [
            "\r 44%|████▍     | 44/100 [03:07<03:47,  4.07s/it]"
          ]
        },
        {
          "output_type": "stream",
          "name": "stdout",
          "text": [
            "Epoch: 44, Loss: 1.0830315351486206\n"
          ]
        },
        {
          "output_type": "stream",
          "name": "stderr",
          "text": [
            "\r 45%|████▌     | 45/100 [03:12<03:59,  4.36s/it]"
          ]
        },
        {
          "output_type": "stream",
          "name": "stdout",
          "text": [
            "Epoch: 45, Loss: 3.2153217792510986\n"
          ]
        },
        {
          "output_type": "stream",
          "name": "stderr",
          "text": [
            "\r 46%|████▌     | 46/100 [03:17<03:59,  4.44s/it]"
          ]
        },
        {
          "output_type": "stream",
          "name": "stdout",
          "text": [
            "Epoch: 46, Loss: 1.1599193811416626\n"
          ]
        },
        {
          "output_type": "stream",
          "name": "stderr",
          "text": [
            "\r 47%|████▋     | 47/100 [03:21<03:54,  4.42s/it]"
          ]
        },
        {
          "output_type": "stream",
          "name": "stdout",
          "text": [
            "Epoch: 47, Loss: 1.6275129318237305\n"
          ]
        },
        {
          "output_type": "stream",
          "name": "stderr",
          "text": [
            "\r 48%|████▊     | 48/100 [03:26<03:58,  4.59s/it]"
          ]
        },
        {
          "output_type": "stream",
          "name": "stdout",
          "text": [
            "Epoch: 48, Loss: 1.283963680267334\n"
          ]
        },
        {
          "output_type": "stream",
          "name": "stderr",
          "text": [
            "\r 49%|████▉     | 49/100 [03:30<03:42,  4.36s/it]"
          ]
        },
        {
          "output_type": "stream",
          "name": "stdout",
          "text": [
            "Epoch: 49, Loss: 1.5670708417892456\n"
          ]
        },
        {
          "output_type": "stream",
          "name": "stderr",
          "text": [
            "\r 50%|█████     | 50/100 [03:34<03:32,  4.25s/it]"
          ]
        },
        {
          "output_type": "stream",
          "name": "stdout",
          "text": [
            "Epoch: 50, Loss: 2.7998526096343994\n"
          ]
        },
        {
          "output_type": "stream",
          "name": "stderr",
          "text": [
            "\r 51%|█████     | 51/100 [03:39<03:39,  4.48s/it]"
          ]
        },
        {
          "output_type": "stream",
          "name": "stdout",
          "text": [
            "Epoch: 51, Loss: 1.316085934638977\n"
          ]
        },
        {
          "output_type": "stream",
          "name": "stderr",
          "text": [
            "\r 52%|█████▏    | 52/100 [03:43<03:26,  4.31s/it]"
          ]
        },
        {
          "output_type": "stream",
          "name": "stdout",
          "text": [
            "Epoch: 52, Loss: 1.312340497970581\n"
          ]
        },
        {
          "output_type": "stream",
          "name": "stderr",
          "text": [
            "\r 53%|█████▎    | 53/100 [03:47<03:15,  4.17s/it]"
          ]
        },
        {
          "output_type": "stream",
          "name": "stdout",
          "text": [
            "Epoch: 53, Loss: 1.3568636178970337\n"
          ]
        },
        {
          "output_type": "stream",
          "name": "stderr",
          "text": [
            "\r 54%|█████▍    | 54/100 [03:51<03:13,  4.21s/it]"
          ]
        },
        {
          "output_type": "stream",
          "name": "stdout",
          "text": [
            "Epoch: 54, Loss: 2.2088911533355713\n"
          ]
        },
        {
          "output_type": "stream",
          "name": "stderr",
          "text": [
            "\r 55%|█████▌    | 55/100 [03:55<03:13,  4.30s/it]"
          ]
        },
        {
          "output_type": "stream",
          "name": "stdout",
          "text": [
            "Epoch: 55, Loss: 1.930277943611145\n"
          ]
        },
        {
          "output_type": "stream",
          "name": "stderr",
          "text": [
            "\r 56%|█████▌    | 56/100 [03:59<03:03,  4.17s/it]"
          ]
        },
        {
          "output_type": "stream",
          "name": "stdout",
          "text": [
            "Epoch: 56, Loss: 2.0289790630340576\n"
          ]
        },
        {
          "output_type": "stream",
          "name": "stderr",
          "text": [
            "\r 57%|█████▋    | 57/100 [04:03<02:54,  4.06s/it]"
          ]
        },
        {
          "output_type": "stream",
          "name": "stdout",
          "text": [
            "Epoch: 57, Loss: 1.2134690284729004\n"
          ]
        },
        {
          "output_type": "stream",
          "name": "stderr",
          "text": [
            "\r 58%|█████▊    | 58/100 [04:08<03:02,  4.35s/it]"
          ]
        },
        {
          "output_type": "stream",
          "name": "stdout",
          "text": [
            "Epoch: 58, Loss: 1.2428863048553467\n"
          ]
        },
        {
          "output_type": "stream",
          "name": "stderr",
          "text": [
            "\r 59%|█████▉    | 59/100 [04:12<02:52,  4.20s/it]"
          ]
        },
        {
          "output_type": "stream",
          "name": "stdout",
          "text": [
            "Epoch: 59, Loss: 3.5572304725646973\n"
          ]
        },
        {
          "output_type": "stream",
          "name": "stderr",
          "text": [
            "\r 60%|██████    | 60/100 [04:16<02:43,  4.08s/it]"
          ]
        },
        {
          "output_type": "stream",
          "name": "stdout",
          "text": [
            "Epoch: 60, Loss: 1.4177736043930054\n"
          ]
        },
        {
          "output_type": "stream",
          "name": "stderr",
          "text": [
            "\r 61%|██████    | 61/100 [04:21<02:47,  4.31s/it]"
          ]
        },
        {
          "output_type": "stream",
          "name": "stdout",
          "text": [
            "Epoch: 61, Loss: 1.7786927223205566\n"
          ]
        },
        {
          "output_type": "stream",
          "name": "stderr",
          "text": [
            "\r 62%|██████▏   | 62/100 [04:25<02:40,  4.23s/it]"
          ]
        },
        {
          "output_type": "stream",
          "name": "stdout",
          "text": [
            "Epoch: 62, Loss: 1.389376163482666\n"
          ]
        },
        {
          "output_type": "stream",
          "name": "stderr",
          "text": [
            "\r 63%|██████▎   | 63/100 [04:28<02:31,  4.10s/it]"
          ]
        },
        {
          "output_type": "stream",
          "name": "stdout",
          "text": [
            "Epoch: 63, Loss: 1.0315724611282349\n"
          ]
        },
        {
          "output_type": "stream",
          "name": "stderr",
          "text": [
            "\r 64%|██████▍   | 64/100 [04:33<02:28,  4.13s/it]"
          ]
        },
        {
          "output_type": "stream",
          "name": "stdout",
          "text": [
            "Epoch: 64, Loss: 2.045011520385742\n"
          ]
        },
        {
          "output_type": "stream",
          "name": "stderr",
          "text": [
            "\r 65%|██████▌   | 65/100 [04:37<02:30,  4.29s/it]"
          ]
        },
        {
          "output_type": "stream",
          "name": "stdout",
          "text": [
            "Epoch: 65, Loss: 1.5561038255691528\n"
          ]
        },
        {
          "output_type": "stream",
          "name": "stderr",
          "text": [
            "\r 66%|██████▌   | 66/100 [04:41<02:21,  4.15s/it]"
          ]
        },
        {
          "output_type": "stream",
          "name": "stdout",
          "text": [
            "Epoch: 66, Loss: 1.20207941532135\n"
          ]
        },
        {
          "output_type": "stream",
          "name": "stderr",
          "text": [
            "\r 67%|██████▋   | 67/100 [04:45<02:13,  4.06s/it]"
          ]
        },
        {
          "output_type": "stream",
          "name": "stdout",
          "text": [
            "Epoch: 67, Loss: 1.6902382373809814\n"
          ]
        },
        {
          "output_type": "stream",
          "name": "stderr",
          "text": [
            "\r 68%|██████▊   | 68/100 [04:50<02:20,  4.38s/it]"
          ]
        },
        {
          "output_type": "stream",
          "name": "stdout",
          "text": [
            "Epoch: 68, Loss: 1.739739179611206\n"
          ]
        },
        {
          "output_type": "stream",
          "name": "stderr",
          "text": [
            "\r 69%|██████▉   | 69/100 [04:54<02:11,  4.23s/it]"
          ]
        },
        {
          "output_type": "stream",
          "name": "stdout",
          "text": [
            "Epoch: 69, Loss: 1.7542521953582764\n"
          ]
        },
        {
          "output_type": "stream",
          "name": "stderr",
          "text": [
            "\r 70%|███████   | 70/100 [04:58<02:03,  4.10s/it]"
          ]
        },
        {
          "output_type": "stream",
          "name": "stdout",
          "text": [
            "Epoch: 70, Loss: 1.1743898391723633\n"
          ]
        },
        {
          "output_type": "stream",
          "name": "stderr",
          "text": [
            "\r 71%|███████   | 71/100 [05:03<02:04,  4.28s/it]"
          ]
        },
        {
          "output_type": "stream",
          "name": "stdout",
          "text": [
            "Epoch: 71, Loss: 1.2128801345825195\n"
          ]
        },
        {
          "output_type": "stream",
          "name": "stderr",
          "text": [
            "\r 72%|███████▏  | 72/100 [05:07<01:58,  4.22s/it]"
          ]
        },
        {
          "output_type": "stream",
          "name": "stdout",
          "text": [
            "Epoch: 72, Loss: 1.32389235496521\n"
          ]
        },
        {
          "output_type": "stream",
          "name": "stderr",
          "text": [
            "\r 73%|███████▎  | 73/100 [05:10<01:51,  4.11s/it]"
          ]
        },
        {
          "output_type": "stream",
          "name": "stdout",
          "text": [
            "Epoch: 73, Loss: 1.4665169715881348\n"
          ]
        },
        {
          "output_type": "stream",
          "name": "stderr",
          "text": [
            "\r 74%|███████▍  | 74/100 [05:15<01:47,  4.13s/it]"
          ]
        },
        {
          "output_type": "stream",
          "name": "stdout",
          "text": [
            "Epoch: 74, Loss: 1.1121770143508911\n"
          ]
        },
        {
          "output_type": "stream",
          "name": "stderr",
          "text": [
            "\r 75%|███████▌  | 75/100 [05:19<01:47,  4.31s/it]"
          ]
        },
        {
          "output_type": "stream",
          "name": "stdout",
          "text": [
            "Epoch: 75, Loss: 1.7261290550231934\n"
          ]
        },
        {
          "output_type": "stream",
          "name": "stderr",
          "text": [
            "\r 76%|███████▌  | 76/100 [05:23<01:39,  4.17s/it]"
          ]
        },
        {
          "output_type": "stream",
          "name": "stdout",
          "text": [
            "Epoch: 76, Loss: 1.5960215330123901\n"
          ]
        },
        {
          "output_type": "stream",
          "name": "stderr",
          "text": [
            "\r 77%|███████▋  | 77/100 [05:27<01:33,  4.07s/it]"
          ]
        },
        {
          "output_type": "stream",
          "name": "stdout",
          "text": [
            "Epoch: 77, Loss: 3.560223340988159\n"
          ]
        },
        {
          "output_type": "stream",
          "name": "stderr",
          "text": [
            "\r 78%|███████▊  | 78/100 [05:32<01:36,  4.37s/it]"
          ]
        },
        {
          "output_type": "stream",
          "name": "stdout",
          "text": [
            "Epoch: 78, Loss: 2.0181429386138916\n"
          ]
        },
        {
          "output_type": "stream",
          "name": "stderr",
          "text": [
            "\r 79%|███████▉  | 79/100 [05:36<01:28,  4.21s/it]"
          ]
        },
        {
          "output_type": "stream",
          "name": "stdout",
          "text": [
            "Epoch: 79, Loss: 1.878627061843872\n"
          ]
        },
        {
          "output_type": "stream",
          "name": "stderr",
          "text": [
            "\r 80%|████████  | 80/100 [05:40<01:21,  4.10s/it]"
          ]
        },
        {
          "output_type": "stream",
          "name": "stdout",
          "text": [
            "Epoch: 80, Loss: 1.3989757299423218\n"
          ]
        },
        {
          "output_type": "stream",
          "name": "stderr",
          "text": [
            "\r 81%|████████  | 81/100 [05:45<01:22,  4.32s/it]"
          ]
        },
        {
          "output_type": "stream",
          "name": "stdout",
          "text": [
            "Epoch: 81, Loss: 1.4625917673110962\n"
          ]
        },
        {
          "output_type": "stream",
          "name": "stderr",
          "text": [
            "\r 82%|████████▏ | 82/100 [05:49<01:16,  4.25s/it]"
          ]
        },
        {
          "output_type": "stream",
          "name": "stdout",
          "text": [
            "Epoch: 82, Loss: 1.5742082595825195\n"
          ]
        },
        {
          "output_type": "stream",
          "name": "stderr",
          "text": [
            "\r 83%|████████▎ | 83/100 [05:53<01:10,  4.16s/it]"
          ]
        },
        {
          "output_type": "stream",
          "name": "stdout",
          "text": [
            "Epoch: 83, Loss: 1.2698966264724731\n"
          ]
        },
        {
          "output_type": "stream",
          "name": "stderr",
          "text": [
            "\r 84%|████████▍ | 84/100 [05:57<01:08,  4.29s/it]"
          ]
        },
        {
          "output_type": "stream",
          "name": "stdout",
          "text": [
            "Epoch: 84, Loss: 1.6807007789611816\n"
          ]
        },
        {
          "output_type": "stream",
          "name": "stderr",
          "text": [
            "\r 85%|████████▌ | 85/100 [06:03<01:11,  4.78s/it]"
          ]
        },
        {
          "output_type": "stream",
          "name": "stdout",
          "text": [
            "Epoch: 85, Loss: 1.3083661794662476\n"
          ]
        },
        {
          "output_type": "stream",
          "name": "stderr",
          "text": [
            "\r 86%|████████▌ | 86/100 [06:07<01:03,  4.51s/it]"
          ]
        },
        {
          "output_type": "stream",
          "name": "stdout",
          "text": [
            "Epoch: 86, Loss: 1.7620327472686768\n"
          ]
        },
        {
          "output_type": "stream",
          "name": "stderr",
          "text": [
            "\r 87%|████████▋ | 87/100 [06:11<00:55,  4.31s/it]"
          ]
        },
        {
          "output_type": "stream",
          "name": "stdout",
          "text": [
            "Epoch: 87, Loss: 1.4557660818099976\n"
          ]
        },
        {
          "output_type": "stream",
          "name": "stderr",
          "text": [
            "\r 88%|████████▊ | 88/100 [06:15<00:52,  4.39s/it]"
          ]
        },
        {
          "output_type": "stream",
          "name": "stdout",
          "text": [
            "Epoch: 88, Loss: 1.4443100690841675\n"
          ]
        },
        {
          "output_type": "stream",
          "name": "stderr",
          "text": [
            "\r 89%|████████▉ | 89/100 [06:20<00:47,  4.29s/it]"
          ]
        },
        {
          "output_type": "stream",
          "name": "stdout",
          "text": [
            "Epoch: 89, Loss: 0.9974012970924377\n"
          ]
        },
        {
          "output_type": "stream",
          "name": "stderr",
          "text": [
            "\r 90%|█████████ | 90/100 [06:23<00:41,  4.18s/it]"
          ]
        },
        {
          "output_type": "stream",
          "name": "stdout",
          "text": [
            "Epoch: 90, Loss: 4.479115009307861\n"
          ]
        },
        {
          "output_type": "stream",
          "name": "stderr",
          "text": [
            "\r 91%|█████████ | 91/100 [06:28<00:37,  4.19s/it]"
          ]
        },
        {
          "output_type": "stream",
          "name": "stdout",
          "text": [
            "Epoch: 91, Loss: 1.3958474397659302\n"
          ]
        },
        {
          "output_type": "stream",
          "name": "stderr",
          "text": [
            "\r 92%|█████████▏| 92/100 [06:32<00:34,  4.35s/it]"
          ]
        },
        {
          "output_type": "stream",
          "name": "stdout",
          "text": [
            "Epoch: 92, Loss: 1.9911344051361084\n"
          ]
        },
        {
          "output_type": "stream",
          "name": "stderr",
          "text": [
            "\r 93%|█████████▎| 93/100 [06:36<00:29,  4.22s/it]"
          ]
        },
        {
          "output_type": "stream",
          "name": "stdout",
          "text": [
            "Epoch: 93, Loss: 1.173257827758789\n"
          ]
        },
        {
          "output_type": "stream",
          "name": "stderr",
          "text": [
            "\r 94%|█████████▍| 94/100 [06:40<00:24,  4.10s/it]"
          ]
        },
        {
          "output_type": "stream",
          "name": "stdout",
          "text": [
            "Epoch: 94, Loss: 1.5896925926208496\n"
          ]
        },
        {
          "output_type": "stream",
          "name": "stderr",
          "text": [
            "\r 95%|█████████▌| 95/100 [06:45<00:22,  4.41s/it]"
          ]
        },
        {
          "output_type": "stream",
          "name": "stdout",
          "text": [
            "Epoch: 95, Loss: 1.0592446327209473\n"
          ]
        },
        {
          "output_type": "stream",
          "name": "stderr",
          "text": [
            "\r 96%|█████████▌| 96/100 [06:49<00:17,  4.26s/it]"
          ]
        },
        {
          "output_type": "stream",
          "name": "stdout",
          "text": [
            "Epoch: 96, Loss: 1.3572649955749512\n"
          ]
        },
        {
          "output_type": "stream",
          "name": "stderr",
          "text": [
            "\r 97%|█████████▋| 97/100 [06:53<00:12,  4.15s/it]"
          ]
        },
        {
          "output_type": "stream",
          "name": "stdout",
          "text": [
            "Epoch: 97, Loss: 1.2067577838897705\n"
          ]
        },
        {
          "output_type": "stream",
          "name": "stderr",
          "text": [
            "\r 98%|█████████▊| 98/100 [06:58<00:08,  4.37s/it]"
          ]
        },
        {
          "output_type": "stream",
          "name": "stdout",
          "text": [
            "Epoch: 98, Loss: 1.7433596849441528\n"
          ]
        },
        {
          "output_type": "stream",
          "name": "stderr",
          "text": [
            "\r 99%|█████████▉| 99/100 [07:02<00:04,  4.29s/it]"
          ]
        },
        {
          "output_type": "stream",
          "name": "stdout",
          "text": [
            "Epoch: 99, Loss: 1.2765605449676514\n"
          ]
        },
        {
          "output_type": "stream",
          "name": "stderr",
          "text": [
            "100%|██████████| 100/100 [07:06<00:00,  4.26s/it]"
          ]
        },
        {
          "output_type": "stream",
          "name": "stdout",
          "text": [
            "Epoch: 100, Loss: 1.296288013458252\n"
          ]
        },
        {
          "output_type": "stream",
          "name": "stderr",
          "text": [
            "\n"
          ]
        }
      ],
      "source": [
        "num_epoch = 100\n",
        "loss_epoch = []\n",
        "for epoch in tqdm(range(1, num_epoch+1)):\n",
        "  if epoch == num_epoch:\n",
        "    pos_z, neg_z, summary, loss = train_infomax_linkpred(epoch)\n",
        "  else:\n",
        "    loss = train_infomax_linkpred(epoch)\n",
        "  loss_epoch.append(loss)\n",
        "test_pos_z, test_neg_z, test_summary = model(dataset.test_features, dataset.edge_index)"
      ]
    },
    {
      "cell_type": "code",
      "execution_count": null,
      "metadata": {
        "id": "5kPIheLblF0q"
      },
      "outputs": [],
      "source": [
        "train_user_representations = {}\n",
        "test_user_representations = {}\n",
        "for i in range(pos_z.shape[0]):\n",
        "  train_user_representations[i] = (dataset.user_ids[i], pos_z[i].detach(), dataset.train_labels[i])\n",
        "for i in range(test_pos_z.shape[0]):\n",
        "  test_user_representations[i] = (dataset.user_ids[i], test_pos_z[i].detach(), dataset.test_labels[i])"
      ]
    },
    {
      "cell_type": "code",
      "execution_count": null,
      "metadata": {
        "id": "uXVHtFuclF0r"
      },
      "outputs": [],
      "source": [
        "user_dataset = UserDataset(train_user_representations)\n",
        "\n",
        "n = len(user_dataset)\n",
        "\n",
        "indices = np.arange(n)\n",
        "indices = np.random.permutation(indices)\n",
        "\n",
        "train_indices = indices [:int(0.8*n)]\n",
        "test_indices = indices[int(0.8*n):]\n",
        "\n",
        "user_train_dataset = Subset(user_dataset, train_indices)\n",
        "user_test_dataset = Subset(user_dataset, test_indices)\n",
        "\n",
        "user_train_dataloader = DataLoader(user_train_dataset, batch_size=64, shuffle=True)\n",
        "user_test_dataloader = DataLoader(user_test_dataset, batch_size=64, shuffle=True)"
      ]
    },
    {
      "cell_type": "code",
      "execution_count": null,
      "metadata": {
        "id": "VPLSbMy6lF0r"
      },
      "outputs": [],
      "source": [
        "num_classes = 186\n",
        "classes = np.arange(0, num_classes)"
      ]
    },
    {
      "cell_type": "code",
      "execution_count": null,
      "metadata": {
        "colab": {
          "base_uri": "https://localhost:8080/"
        },
        "id": "wzQlnv9RlF0r",
        "outputId": "dec0adf0-20af-40cb-d5d0-f04005ff0bda"
      },
      "outputs": [
        {
          "output_type": "stream",
          "name": "stdout",
          "text": [
            "Epoch: 0, Loss: 5.178340911865234\n",
            "Hits@1: 0.04955808073282242\n",
            "Epoch: 1, Loss: 5.1121368408203125\n",
            "Hits@1: 0.07634379714727402\n",
            "Epoch: 2, Loss: 5.050725936889648\n",
            "Hits@1: 0.09246482700109482\n",
            "Epoch: 3, Loss: 4.993563175201416\n",
            "Hits@1: 0.10117544233798981\n",
            "Epoch: 4, Loss: 4.940242767333984\n",
            "Hits@1: 0.11373406648635864\n",
            "Epoch: 5, Loss: 4.890415191650391\n",
            "Hits@1: 0.12101671099662781\n",
            "Epoch: 6, Loss: 4.843774318695068\n",
            "Hits@1: 0.12841209769248962\n",
            "Epoch: 7, Loss: 4.800050735473633\n",
            "Hits@1: 0.13436447083950043\n",
            "Epoch: 8, Loss: 4.759006500244141\n",
            "Hits@1: 0.1408730149269104\n",
            "Epoch: 9, Loss: 4.720427989959717\n",
            "Hits@1: 0.14826840162277222\n",
            "Epoch: 10, Loss: 4.684117794036865\n",
            "Hits@1: 0.15346169471740723\n",
            "Epoch: 11, Loss: 4.649898052215576\n",
            "Hits@1: 0.15693391859531403\n",
            "Epoch: 12, Loss: 4.61760950088501\n",
            "Hits@1: 0.15960197150707245\n",
            "Epoch: 13, Loss: 4.587100505828857\n",
            "Hits@1: 0.16236020624637604\n",
            "Epoch: 14, Loss: 4.558238506317139\n",
            "Hits@1: 0.16190926730632782\n",
            "Epoch: 15, Loss: 4.530893325805664\n",
            "Hits@1: 0.16310425102710724\n",
            "Epoch: 16, Loss: 4.504950046539307\n",
            "Hits@1: 0.16339737176895142\n",
            "Epoch: 17, Loss: 4.480302333831787\n",
            "Hits@1: 0.16507335007190704\n",
            "Epoch: 18, Loss: 4.45685338973999\n",
            "Hits@1: 0.16535143554210663\n",
            "Epoch: 19, Loss: 4.434512615203857\n",
            "Hits@1: 0.16685456037521362\n",
            "Epoch: 20, Loss: 4.413197040557861\n",
            "Hits@1: 0.16711761057376862\n",
            "Epoch: 21, Loss: 4.392830848693848\n",
            "Hits@1: 0.16883867979049683\n",
            "Epoch: 22, Loss: 4.373344898223877\n",
            "Hits@1: 0.17107082903385162\n",
            "Epoch: 23, Loss: 4.354677677154541\n",
            "Hits@1: 0.17226581275463104\n",
            "Epoch: 24, Loss: 4.3367719650268555\n",
            "Hits@1: 0.17306998372077942\n",
            "Epoch: 25, Loss: 4.319577693939209\n",
            "Hits@1: 0.17621903121471405\n",
            "Epoch: 26, Loss: 4.303043842315674\n",
            "Hits@1: 0.17721109092235565\n",
            "Epoch: 27, Loss: 4.287129878997803\n",
            "Hits@1: 0.17770712077617645\n",
            "Epoch: 28, Loss: 4.27179479598999\n",
            "Hits@1: 0.17846620082855225\n",
            "Epoch: 29, Loss: 4.257003307342529\n",
            "Hits@1: 0.17899230122566223\n",
            "Epoch: 30, Loss: 4.242720127105713\n",
            "Hits@1: 0.18020232021808624\n",
            "Epoch: 31, Loss: 4.228917598724365\n",
            "Hits@1: 0.18072840571403503\n",
            "Epoch: 32, Loss: 4.215564727783203\n",
            "Hits@1: 0.18198353052139282\n",
            "Epoch: 33, Loss: 4.202639102935791\n",
            "Hits@1: 0.18492965400218964\n",
            "Epoch: 34, Loss: 4.190113544464111\n",
            "Hits@1: 0.18472672998905182\n",
            "Epoch: 35, Loss: 4.177968502044678\n",
            "Hits@1: 0.18737974762916565\n",
            "Epoch: 36, Loss: 4.166182994842529\n",
            "Hits@1: 0.18768788874149323\n",
            "Epoch: 37, Loss: 4.1547369956970215\n",
            "Hits@1: 0.18943902850151062\n",
            "Epoch: 38, Loss: 4.143615245819092\n",
            "Hits@1: 0.19060395658016205\n",
            "Epoch: 39, Loss: 4.13279914855957\n",
            "Hits@1: 0.18967202305793762\n",
            "Epoch: 40, Loss: 4.122274398803711\n",
            "Hits@1: 0.19285112619400024\n",
            "Epoch: 41, Loss: 4.112028121948242\n",
            "Hits@1: 0.19359517097473145\n",
            "Epoch: 42, Loss: 4.102046012878418\n",
            "Hits@1: 0.19457221031188965\n",
            "Epoch: 43, Loss: 4.092315673828125\n",
            "Hits@1: 0.19410623610019684\n",
            "Epoch: 44, Loss: 4.082827091217041\n",
            "Hits@1: 0.19534631073474884\n",
            "Epoch: 45, Loss: 4.073568820953369\n",
            "Hits@1: 0.19661645591259003\n",
            "Epoch: 46, Loss: 4.064530372619629\n",
            "Hits@1: 0.19878847897052765\n",
            "Epoch: 47, Loss: 4.055702209472656\n",
            "Hits@1: 0.20001351833343506\n",
            "Epoch: 48, Loss: 4.047077178955078\n",
            "Hits@1: 0.20176467299461365\n",
            "Epoch: 49, Loss: 4.038644790649414\n",
            "Hits@1: 0.20156174898147583\n",
            "Epoch: 50, Loss: 4.030398845672607\n",
            "Hits@1: 0.20182479918003082\n",
            "Epoch: 51, Loss: 4.0223307609558105\n",
            "Hits@1: 0.20371873676776886\n",
            "Epoch: 52, Loss: 4.014433860778809\n",
            "Hits@1: 0.20281685888767242\n",
            "Epoch: 53, Loss: 4.006701946258545\n",
            "Hits@1: 0.20430494844913483\n",
            "Epoch: 54, Loss: 3.999128580093384\n",
            "Hits@1: 0.20622895658016205\n",
            "Epoch: 55, Loss: 3.9917080402374268\n",
            "Hits@1: 0.20802518725395203\n",
            "Epoch: 56, Loss: 3.9844348430633545\n",
            "Hits@1: 0.21140722930431366\n",
            "Epoch: 57, Loss: 3.977303981781006\n",
            "Hits@1: 0.21095629036426544\n",
            "Epoch: 58, Loss: 3.9703094959259033\n",
            "Hits@1: 0.21215127408504486\n",
            "Epoch: 59, Loss: 3.963447093963623\n",
            "Hits@1: 0.21336129307746887\n",
            "Epoch: 60, Loss: 3.9567129611968994\n",
            "Hits@1: 0.21342141926288605\n",
            "Epoch: 61, Loss: 3.950101852416992\n",
            "Hits@1: 0.21466149389743805\n",
            "Epoch: 62, Loss: 3.9436099529266357\n",
            "Hits@1: 0.21540553867816925\n",
            "Epoch: 63, Loss: 3.9372334480285645\n",
            "Hits@1: 0.2177955061197281\n",
            "Epoch: 64, Loss: 3.9309685230255127\n",
            "Hits@1: 0.21690866351127625\n",
            "Epoch: 65, Loss: 3.924812078475952\n",
            "Hits@1: 0.21741972863674164\n",
            "Epoch: 66, Loss: 3.918759822845459\n",
            "Hits@1: 0.21836669743061066\n",
            "Epoch: 67, Loss: 3.9128098487854004\n",
            "Hits@1: 0.21937379240989685\n",
            "Epoch: 68, Loss: 3.9069583415985107\n",
            "Hits@1: 0.22064393758773804\n",
            "Epoch: 69, Loss: 3.9012012481689453\n",
            "Hits@1: 0.22313912212848663\n",
            "Epoch: 70, Loss: 3.8955368995666504\n",
            "Hits@1: 0.22290614247322083\n",
            "Epoch: 71, Loss: 3.889962673187256\n",
            "Hits@1: 0.22509318590164185\n",
            "Epoch: 72, Loss: 3.8844752311706543\n",
            "Hits@1: 0.22704724967479706\n",
            "Epoch: 73, Loss: 3.879072666168213\n",
            "Hits@1: 0.22682930529117584\n",
            "Epoch: 74, Loss: 3.8737525939941406\n",
            "Hits@1: 0.22704724967479706\n",
            "Epoch: 75, Loss: 3.8685126304626465\n",
            "Hits@1: 0.22754327952861786\n",
            "Epoch: 76, Loss: 3.8633506298065186\n",
            "Hits@1: 0.22827230393886566\n",
            "Epoch: 77, Loss: 3.858264446258545\n",
            "Hits@1: 0.22808441519737244\n",
            "Epoch: 78, Loss: 3.8532516956329346\n",
            "Hits@1: 0.22927939891815186\n",
            "Epoch: 79, Loss: 3.848310947418213\n",
            "Hits@1: 0.23005351424217224\n",
            "Epoch: 80, Loss: 3.843440294265747\n",
            "Hits@1: 0.23130862414836884\n",
            "Epoch: 81, Loss: 3.838637590408325\n",
            "Hits@1: 0.23203763365745544\n",
            "Epoch: 82, Loss: 3.8339006900787354\n",
            "Hits@1: 0.23205266892910004\n",
            "Epoch: 83, Loss: 3.8292298316955566\n",
            "Hits@1: 0.23426978290081024\n",
            "Epoch: 84, Loss: 3.8246214389801025\n",
            "Hits@1: 0.23693783581256866\n",
            "Epoch: 85, Loss: 3.8200747966766357\n",
            "Hits@1: 0.23723094165325165\n",
            "Epoch: 86, Loss: 3.8155879974365234\n",
            "Hits@1: 0.23868897557258606\n",
            "Epoch: 87, Loss: 3.811160087585449\n",
            "Hits@1: 0.23873406648635864\n",
            "Epoch: 88, Loss: 3.8067893981933594\n",
            "Hits@1: 0.23848605155944824\n",
            "Epoch: 89, Loss: 3.8024742603302\n",
            "Hits@1: 0.23874910175800323\n",
            "Epoch: 90, Loss: 3.798213243484497\n",
            "Hits@1: 0.23877915740013123\n",
            "Epoch: 91, Loss: 3.794005870819092\n",
            "Hits@1: 0.24092110991477966\n",
            "Epoch: 92, Loss: 3.7898502349853516\n",
            "Hits@1: 0.24188311398029327\n",
            "Epoch: 93, Loss: 3.7857460975646973\n",
            "Hits@1: 0.24073322117328644\n",
            "Epoch: 94, Loss: 3.781691074371338\n",
            "Hits@1: 0.24214617908000946\n",
            "Epoch: 95, Loss: 3.7776856422424316\n",
            "Hits@1: 0.24220629036426544\n",
            "Epoch: 96, Loss: 3.77372670173645\n",
            "Hits@1: 0.24385222792625427\n",
            "Epoch: 97, Loss: 3.7698147296905518\n",
            "Hits@1: 0.24367934465408325\n",
            "Epoch: 98, Loss: 3.7659478187561035\n",
            "Hits@1: 0.24465638399124146\n",
            "Epoch: 99, Loss: 3.7621262073516846\n",
            "Hits@1: 0.24488936364650726\n",
            "Epoch: 100, Loss: 3.758347988128662\n",
            "Hits@1: 0.24423550069332123\n",
            "Epoch: 101, Loss: 3.754612445831299\n",
            "Hits@1: 0.24688851833343506\n",
            "Epoch: 102, Loss: 3.7509191036224365\n",
            "Hits@1: 0.24764759838581085\n",
            "Epoch: 103, Loss: 3.7472667694091797\n",
            "Hits@1: 0.24767766892910004\n",
            "Epoch: 104, Loss: 3.743654251098633\n",
            "Hits@1: 0.24932359158992767\n",
            "Epoch: 105, Loss: 3.7400808334350586\n",
            "Hits@1: 0.24888768792152405\n",
            "Epoch: 106, Loss: 3.736546516418457\n",
            "Hits@1: 0.24915072321891785\n",
            "Epoch: 107, Loss: 3.7330498695373535\n",
            "Hits@1: 0.25012776255607605\n",
            "Epoch: 108, Loss: 3.72959041595459\n",
            "Hits@1: 0.25087180733680725\n",
            "Epoch: 109, Loss: 3.7261669635772705\n",
            "Hits@1: 0.25184884667396545\n",
            "Epoch: 110, Loss: 3.7227792739868164\n",
            "Hits@1: 0.25161585211753845\n",
            "Epoch: 111, Loss: 3.7194268703460693\n",
            "Hits@1: 0.25235989689826965\n",
            "Epoch: 112, Loss: 3.7161080837249756\n",
            "Hits@1: 0.25355491042137146\n",
            "Epoch: 113, Loss: 3.7128233909606934\n",
            "Hits@1: 0.25358495116233826\n",
            "Epoch: 114, Loss: 3.709571361541748\n",
            "Hits@1: 0.25311899185180664\n",
            "Epoch: 115, Loss: 3.706352949142456\n",
            "Hits@1: 0.25504299998283386\n",
            "Epoch: 116, Loss: 3.703165292739868\n",
            "Hits@1: 0.25460705161094666\n",
            "Epoch: 117, Loss: 3.70000958442688\n",
            "Hits@1: 0.2543891370296478\n",
            "Epoch: 118, Loss: 3.6968839168548584\n",
            "Hits@1: 0.25608015060424805\n",
            "Epoch: 119, Loss: 3.693788766860962\n",
            "Hits@1: 0.25631314516067505\n",
            "Epoch: 120, Loss: 3.690723419189453\n",
            "Hits@1: 0.25677910447120667\n",
            "Epoch: 121, Loss: 3.6876869201660156\n",
            "Hits@1: 0.25583213567733765\n",
            "Epoch: 122, Loss: 3.6846792697906494\n",
            "Hits@1: 0.25538119673728943\n",
            "Epoch: 123, Loss: 3.6816999912261963\n",
            "Hits@1: 0.2571173310279846\n",
            "Epoch: 124, Loss: 3.6787476539611816\n",
            "Hits@1: 0.2601761519908905\n",
            "Epoch: 125, Loss: 3.675823211669922\n",
            "Hits@1: 0.25857532024383545\n",
            "Epoch: 126, Loss: 3.6729254722595215\n",
            "Hits@1: 0.25787636637687683\n",
            "Epoch: 127, Loss: 3.6700539588928223\n",
            "Hits@1: 0.2607323229312897\n",
            "Epoch: 128, Loss: 3.667208433151245\n",
            "Hits@1: 0.26102545857429504\n",
            "Epoch: 129, Loss: 3.6643879413604736\n",
            "Hits@1: 0.26104044914245605\n",
            "Epoch: 130, Loss: 3.661592483520508\n",
            "Hits@1: 0.26204752922058105\n",
            "Epoch: 131, Loss: 3.658822536468506\n",
            "Hits@1: 0.2636784315109253\n",
            "Epoch: 132, Loss: 3.656076669692993\n",
            "Hits@1: 0.26229554414749146\n",
            "Epoch: 133, Loss: 3.6533539295196533\n",
            "Hits@1: 0.26255860924720764\n",
            "Epoch: 134, Loss: 3.6506552696228027\n",
            "Hits@1: 0.26373857259750366\n",
            "Epoch: 135, Loss: 3.647979736328125\n",
            "Hits@1: 0.26423460245132446\n",
            "Epoch: 136, Loss: 3.645326614379883\n",
            "Hits@1: 0.26454275846481323\n",
            "Epoch: 137, Loss: 3.6426961421966553\n",
            "Hits@1: 0.26524171233177185\n",
            "Epoch: 138, Loss: 3.640087842941284\n",
            "Hits@1: 0.26621872186660767\n",
            "Epoch: 139, Loss: 3.6375010013580322\n",
            "Hits@1: 0.26553481817245483\n",
            "Epoch: 140, Loss: 3.6349363327026367\n",
            "Hits@1: 0.26699283719062805\n",
            "Epoch: 141, Loss: 3.632391929626465\n",
            "Hits@1: 0.26775190234184265\n",
            "Epoch: 142, Loss: 3.629868984222412\n",
            "Hits@1: 0.26992395520210266\n",
            "Epoch: 143, Loss: 3.627365827560425\n",
            "Hits@1: 0.26922497153282166\n",
            "Epoch: 144, Loss: 3.6248831748962402\n",
            "Hits@1: 0.26969096064567566\n",
            "Epoch: 145, Loss: 3.622420310974121\n",
            "Hits@1: 0.26972100138664246\n",
            "Epoch: 146, Loss: 3.6199769973754883\n",
            "Hits@1: 0.27069807052612305\n",
            "Epoch: 147, Loss: 3.617553234100342\n",
            "Hits@1: 0.2702621519565582\n",
            "Epoch: 148, Loss: 3.6151485443115234\n",
            "Hits@1: 0.27192309498786926\n",
            "Epoch: 149, Loss: 3.612762451171875\n",
            "Hits@1: 0.27147215604782104\n",
            "Epoch: 150, Loss: 3.6103949546813965\n",
            "Hits@1: 0.27265211939811707\n",
            "Epoch: 151, Loss: 3.6080453395843506\n",
            "Hits@1: 0.2733811140060425\n",
            "Epoch: 152, Loss: 3.6057140827178955\n",
            "Hits@1: 0.2733961343765259\n",
            "Epoch: 153, Loss: 3.6033997535705566\n",
            "Hits@1: 0.27341118454933167\n",
            "Epoch: 154, Loss: 3.6011040210723877\n",
            "Hits@1: 0.27387717366218567\n",
            "Epoch: 155, Loss: 3.598824977874756\n",
            "Hits@1: 0.27345627546310425\n",
            "Epoch: 156, Loss: 3.5965628623962402\n",
            "Hits@1: 0.27393728494644165\n",
            "Epoch: 157, Loss: 3.594317674636841\n",
            "Hits@1: 0.27371934056282043\n",
            "Epoch: 158, Loss: 3.5920891761779785\n",
            "Hits@1: 0.27514728903770447\n",
            "Epoch: 159, Loss: 3.589876890182495\n",
            "Hits@1: 0.2758462727069855\n",
            "Epoch: 160, Loss: 3.5876808166503906\n",
            "Hits@1: 0.27468132972717285\n",
            "Epoch: 161, Loss: 3.585500717163086\n",
            "Hits@1: 0.27541035413742065\n",
            "Epoch: 162, Loss: 3.583336353302002\n",
            "Hits@1: 0.27519237995147705\n",
            "Epoch: 163, Loss: 3.5811874866485596\n",
            "Hits@1: 0.27565836906433105\n",
            "Epoch: 164, Loss: 3.5790534019470215\n",
            "Hits@1: 0.27662038803100586\n",
            "Epoch: 165, Loss: 3.576935291290283\n",
            "Hits@1: 0.27762746810913086\n",
            "Epoch: 166, Loss: 3.574831485748291\n",
            "Hits@1: 0.2788374722003937\n",
            "Epoch: 167, Loss: 3.5727429389953613\n",
            "Hits@1: 0.27861952781677246\n",
            "Epoch: 168, Loss: 3.5706686973571777\n",
            "Hits@1: 0.2790854871273041\n",
            "Epoch: 169, Loss: 3.568608522415161\n",
            "Hits@1: 0.27841657400131226\n",
            "Epoch: 170, Loss: 3.5665624141693115\n",
            "Hits@1: 0.27964165806770325\n",
            "Epoch: 171, Loss: 3.564530611038208\n",
            "Hits@1: 0.28037068247795105\n",
            "Epoch: 172, Loss: 3.5625126361846924\n",
            "Hits@1: 0.28015270829200745\n",
            "Epoch: 173, Loss: 3.5605080127716064\n",
            "Hits@1: 0.28063371777534485\n",
            "Epoch: 174, Loss: 3.5585174560546875\n",
            "Hits@1: 0.2794687747955322\n",
            "Epoch: 175, Loss: 3.55653977394104\n",
            "Hits@1: 0.28088173270225525\n",
            "Epoch: 176, Loss: 3.5545756816864014\n",
            "Hits@1: 0.28280574083328247\n",
            "Epoch: 177, Loss: 3.552624225616455\n",
            "Hits@1: 0.2814379036426544\n",
            "Epoch: 178, Loss: 3.550685405731201\n",
            "Hits@1: 0.28354978561401367\n",
            "Epoch: 179, Loss: 3.548759698867798\n",
            "Hits@1: 0.28260281682014465\n",
            "Epoch: 180, Loss: 3.546846389770508\n",
            "Hits@1: 0.28331679105758667\n",
            "Epoch: 181, Loss: 3.544945478439331\n",
            "Hits@1: 0.2837978005409241\n",
            "Epoch: 182, Loss: 3.5430567264556885\n",
            "Hits@1: 0.28384289145469666\n",
            "Epoch: 183, Loss: 3.541180372238159\n",
            "Hits@1: 0.28362491726875305\n",
            "Epoch: 184, Loss: 3.5393154621124268\n",
            "Hits@1: 0.28432390093803406\n",
            "Epoch: 185, Loss: 3.5374629497528076\n",
            "Hits@1: 0.28506794571876526\n",
            "Epoch: 186, Loss: 3.5356218814849854\n",
            "Hits@1: 0.28413599729537964\n",
            "Epoch: 187, Loss: 3.533792495727539\n",
            "Hits@1: 0.2862478792667389\n",
            "Epoch: 188, Loss: 3.5319747924804688\n",
            "Hits@1: 0.28556397557258606\n",
            "Epoch: 189, Loss: 3.530167818069458\n",
            "Hits@1: 0.28534600138664246\n",
            "Epoch: 190, Loss: 3.5283727645874023\n",
            "Hits@1: 0.2841510474681854\n",
            "Epoch: 191, Loss: 3.526587963104248\n",
            "Hits@1: 0.28559404611587524\n",
            "Epoch: 192, Loss: 3.5248148441314697\n",
            "Hits@1: 0.28606000542640686\n",
            "Epoch: 193, Loss: 3.5230519771575928\n",
            "Hits@1: 0.28610506653785706\n",
            "Epoch: 194, Loss: 3.5213000774383545\n",
            "Hits@1: 0.28658610582351685\n",
            "Epoch: 195, Loss: 3.5195586681365967\n",
            "Hits@1: 0.28706711530685425\n",
            "Epoch: 196, Loss: 3.5178275108337402\n",
            "Hits@1: 0.28756314516067505\n",
            "Epoch: 197, Loss: 3.5161070823669434\n",
            "Hits@1: 0.2877810597419739\n",
            "Epoch: 198, Loss: 3.5143966674804688\n",
            "Hits@1: 0.28708213567733765\n",
            "Epoch: 199, Loss: 3.5126962661743164\n",
            "Hits@1: 0.2882470488548279\n",
            "hits@1: 0.288713, hits@5: 0.506832, hits@10: 0.633801, hits@20: 0.764227\n",
            "hits@50: 0.911751, hits@100: 0.987103\n",
            "map@1: 0.288713, map@5: 0.368744, map@10: 0.385643, map@20: 0.394722\n",
            "map@50: 0.399549, map@100: 0.400694\n",
            "ndcg@1: 0.288713, ndcg@5: 0.403075, ndcg@10: 0.444085, ndcg@20: 0.477101\n",
            "ndcg@50: 0.506595, ndcg@100: 0.518997\n"
          ]
        }
      ],
      "source": [
        "head_model = train2task()\n",
        "torch.save(head_model.state_dict(), 'random_walk_infomax_linkpred_model.pth')"
      ]
    },
    {
      "cell_type": "markdown",
      "source": [
        "## Training on target experiments"
      ],
      "metadata": {
        "id": "A4x06v2oIJCr"
      }
    },
    {
      "cell_type": "markdown",
      "metadata": {
        "id": "31KTmRtQ2oyW"
      },
      "source": [
        "### Concatenation"
      ]
    },
    {
      "cell_type": "code",
      "execution_count": null,
      "metadata": {
        "id": "UdYvqvYFEjF3"
      },
      "outputs": [],
      "source": [
        "users_list = load_dataset_timestamp(20001, 128, 30)"
      ]
    },
    {
      "cell_type": "code",
      "execution_count": null,
      "metadata": {
        "id": "9UT5bJMxwKkS"
      },
      "outputs": [],
      "source": [
        "class UserInfoDataset():\n",
        "  def __init__(self, data, max_len, train_user_representations, test_user_representations):\n",
        "    self.data = data\n",
        "    self.max_len = max_len\n",
        "    self.train_user_representations = train_user_representations\n",
        "    self.test_user_representations = test_user_representations\n",
        "\n",
        "  def __len__(self):\n",
        "    return len(self.data)\n",
        "\n",
        "  def __getitem__(self, idx):\n",
        "\n",
        "    user = self.data[idx]\n",
        "    seq_len = user['seq_len']\n",
        "\n",
        "    tr_act_seq = np.zeros((self.max_len,)).astype('int32')\n",
        "    tr_act_seq[:seq_len] = np.array(user['train_act_seq'])\n",
        "    tr_act_seq = np.transpose(tr_act_seq)\n",
        "\n",
        "    tr_time_seq = np.zeros((self.max_len,)).astype('int32')\n",
        "    tr_time_seq[:seq_len] = user['train_time_seq']\n",
        "    tr_time_seq = np.transpose(tr_time_seq)\n",
        "\n",
        "    t_act_seq = np.zeros((self.max_len, )).astype('int32')\n",
        "    t_act_seq[:seq_len] = user['test_act_seq']\n",
        "    t_act_seq = np.transpose(t_act_seq)\n",
        "\n",
        "    t_time_seq = np.zeros((self.max_len, )).astype('int32')\n",
        "    t_time_seq[:seq_len] = user['test_time_seq']\n",
        "    t_time_seq = np.transpose(t_time_seq)\n",
        "\n",
        "    if idx not in self.train_user_representations.keys():\n",
        "      self.train_user_representations[idx] = (torch.zeros(size=(128,)), torch.tensor(0))\n",
        "      self.test_user_representations[idx] = (torch.zeros(size=(128,)), torch.tensor(0))\n",
        "\n",
        "\n",
        "    return user['user'], tr_act_seq, \\\n",
        "    tr_time_seq, user['train_act_label'], \\\n",
        "    user['train_time_label'], t_act_seq, \\\n",
        "    t_time_seq, user['test_act_label'], \\\n",
        "    user['test_time_label'], user['seq_len'], self.train_user_representations[idx][1], self.test_user_representations[idx][1]"
      ]
    },
    {
      "cell_type": "code",
      "execution_count": null,
      "metadata": {
        "id": "VFlVGBQuxTBM"
      },
      "outputs": [],
      "source": [
        "user_dataset = UserInfoDataset(users_list, 30, train_user_representations, test_user_representations)\n",
        "user_dataloader = DataLoader(user_dataset, batch_size = 64, shuffle=True)"
      ]
    },
    {
      "cell_type": "markdown",
      "source": [
        "Concatenation with pre-trained embedding"
      ],
      "metadata": {
        "id": "ikfaCKj0HCe7"
      }
    },
    {
      "cell_type": "code",
      "execution_count": null,
      "metadata": {
        "id": "Qo0UCpaRyu0z"
      },
      "outputs": [],
      "source": [
        "class RNNTargetModel(nn.Module):\n",
        "  def __init__(self, num_classes):\n",
        "    super(RNNTargetModel, self).__init__()\n",
        "    self.fc1 = nn.Linear(256, num_classes)\n",
        "    self.rnn = nn.RNN(128, 128, batch_first = True)\n",
        "    self.norm = nn.BatchNorm1d(128)\n",
        "    self.reduce_dim = nn.Linear(128, 128)\n",
        "\n",
        "  def forward(self, x, repr, seq_len):\n",
        "    x, h = self.rnn(x)\n",
        "    hx = torch.zeros(x.shape[0], x.shape[2])\n",
        "    for i in range(hx.shape[0]):\n",
        "      hx[i] = x[i][seq_len[i] - 1]\n",
        "\n",
        "    hx = torch.cat([hx, repr], dim= 1)\n",
        "\n",
        "    x = self.fc1(hx)\n",
        "    return x"
      ]
    },
    {
      "cell_type": "markdown",
      "source": [
        "Concatenation with random embedding"
      ],
      "metadata": {
        "id": "AmdgqkfbHc8s"
      }
    },
    {
      "cell_type": "code",
      "source": [
        "class RNNTargetModel(nn.Module):\n",
        "  def __init__(self, num_classes):\n",
        "    super(RNNTargetModel, self).__init__()\n",
        "    self.fc1 = nn.Linear(256, num_classes)\n",
        "    self.rnn = nn.RNN(128, 128, batch_first = True)\n",
        "    self.norm = nn.BatchNorm1d(128)\n",
        "    self.reduce_dim = nn.Linear(128, 128)\n",
        "\n",
        "  def forward(self, x, repr, seq_len):\n",
        "    x, h = self.rnn(x)\n",
        "    hx = torch.zeros(x.shape[0], x.shape[2])\n",
        "    for i in range(hx.shape[0]):\n",
        "      hx[i] = x[i][seq_len[i] - 1]\n",
        "\n",
        "    repr = torch.rand((len(x), 128))\n",
        "    hx = torch.cat([hx, repr], dim= 1)\n",
        "    x = self.fc1(hx)\n",
        "    return x"
      ],
      "metadata": {
        "id": "uOPROqFXHTdk"
      },
      "execution_count": null,
      "outputs": []
    },
    {
      "cell_type": "markdown",
      "source": [
        "Without embedding add"
      ],
      "metadata": {
        "id": "X8KLkQu4Hxd4"
      }
    },
    {
      "cell_type": "code",
      "source": [
        "class RNNTargetModel(nn.Module):\n",
        "  def __init__(self, num_classes):\n",
        "    super(RNNTargetModel, self).__init__()\n",
        "    self.fc1 = nn.Linear(256, num_classes)\n",
        "    self.rnn = nn.RNN(128, 128, batch_first = True)\n",
        "    self.norm = nn.BatchNorm1d(128)\n",
        "    self.reduce_dim = nn.Linear(128, 128)\n",
        "\n",
        "  def forward(self, x, repr, seq_len):\n",
        "    x, h = self.rnn(x)\n",
        "    hx = torch.zeros(x.shape[0], x.shape[2])\n",
        "    for i in range(hx.shape[0]):\n",
        "      hx[i] = x[i][seq_len[i] - 1]\n",
        "    x = self.fc1(hx)\n",
        "    return x"
      ],
      "metadata": {
        "id": "B2630Vh3HX5D"
      },
      "execution_count": null,
      "outputs": []
    },
    {
      "cell_type": "code",
      "execution_count": null,
      "metadata": {
        "id": "tlkvda7NYagQ"
      },
      "outputs": [],
      "source": [
        "def rnn_target_test(model):\n",
        "  metrics_val = []\n",
        "  model.eval()\n",
        "  index = 0\n",
        "\n",
        "  for user, train_input, train_time, train_label, train_time_label, test_input, test_time, test_label, test_time_label, seq_len, train_repr, test_repr in user_dataloader:\n",
        "\n",
        "      test_comb_input = np.concatenate([np.expand_dims(test_input, axis=-1),\n",
        "                                                np.expand_dims(test_time, axis=-1)], axis=2)\n",
        "      model_input = test_comb_input\n",
        "      model_output = test_label\n",
        "      test_rnn_input_emb = item_emb[model_input[:, :, 0]]\n",
        "      test_probs = model(test_rnn_input_emb, test_repr, seq_len)\n",
        "\n",
        "      test_pred = torch.argmax(test_probs, axis = 1)\n",
        "\n",
        "      test_one_hot = torch.zeros(len(test_probs), num_classes)\n",
        "      test_one_hot[torch.arange(len(test_one_hot)), test_label] = 1\n",
        "      loss = loss_fn(test_probs, test_one_hot)\n",
        "\n",
        "      hits1, hits5, hits10, hits20, hits50, hits100, map1, map5, map10, map20, map50, map100, \\\n",
        "      ndcg1, ndcg5, ndcg10, ndcg20, ndcg50, ndcg100 = get_metrics_(test_probs, test_label, test_one_hot)\n",
        "\n",
        "      metrics_val.append([hits1, hits5, hits10, hits20, hits50, hits100, map1, map5, map10, map20, map50, map100, ndcg1, ndcg5, ndcg10, ndcg20, ndcg50, ndcg100])\n",
        "\n",
        "\n",
        "  mean = torch.Tensor(metrics_val).mean(axis=0)\n",
        "  test_hits1, test_hits5, test_hits10, test_hits20, test_hits50, test_hits100, \\\n",
        "  test_map1, test_map5, test_map10, test_map20, test_map50, test_map100, test_ndcg1, test_ndcg5, test_ndcg10, test_ndcg20, test_ndcg50, test_ndcg100 = mean\n",
        "  return test_hits1, test_hits5, test_hits10, test_hits20, test_hits50, test_hits100, test_map1, test_map5, test_map10, test_map20, test_map50, test_map100,\\\n",
        "  test_ndcg1, test_ndcg5, test_ndcg10, test_ndcg20, test_ndcg50, test_ndcg100\n"
      ]
    },
    {
      "cell_type": "code",
      "execution_count": null,
      "metadata": {
        "colab": {
          "base_uri": "https://localhost:8080/"
        },
        "id": "V9KvC7SUxkfW",
        "outputId": "d8b34577-f562-4906-e463-7913f434be42"
      },
      "outputs": [
        {
          "output_type": "stream",
          "name": "stdout",
          "text": [
            "Epoch: 0 Loss: 4.462273597717285, Val loss: 4.467819690704346 Hits@1: 0.06983523815870285\n",
            "Epoch: 1 Loss: 4.01273775100708, Val loss: 4.0267839431762695 Hits@1: 0.13592343032360077\n",
            "Epoch: 2 Loss: 3.4965574741363525, Val loss: 3.5176172256469727 Hits@1: 0.25534600019454956\n",
            "Epoch: 3 Loss: 2.9872641563415527, Val loss: 3.0122857093811035 Hits@1: 0.3300824761390686\n",
            "Epoch: 4 Loss: 2.592750310897827, Val loss: 2.621905565261841 Hits@1: 0.4544183909893036\n",
            "Epoch: 5 Loss: 2.2767646312713623, Val loss: 2.3081257343292236 Hits@1: 0.5460777878761292\n",
            "Epoch: 6 Loss: 2.023632049560547, Val loss: 2.0590434074401855 Hits@1: 0.6054298281669617\n",
            "Epoch: 7 Loss: 1.8238966464996338, Val loss: 1.8630046844482422 Hits@1: 0.6465548872947693\n",
            "Epoch: 8 Loss: 1.6682329177856445, Val loss: 1.712514042854309 Hits@1: 0.677602231502533\n",
            "Epoch: 9 Loss: 1.5491427183151245, Val loss: 1.5955711603164673 Hits@1: 0.6961286067962646\n",
            "Epoch: 10 Loss: 1.4537062644958496, Val loss: 1.5024302005767822 Hits@1: 0.7095329165458679\n",
            "Epoch: 11 Loss: 1.3777340650558472, Val loss: 1.4302654266357422 Hits@1: 0.7232261300086975\n",
            "Epoch: 12 Loss: 1.3131271600723267, Val loss: 1.369296669960022 Hits@1: 0.7324961423873901\n",
            "Epoch: 13 Loss: 1.2613918781280518, Val loss: 1.3180763721466064 Hits@1: 0.7412442564964294\n",
            "Epoch: 14 Loss: 1.2142430543899536, Val loss: 1.2734590768814087 Hits@1: 0.7483238577842712\n",
            "Epoch: 15 Loss: 1.1731818914413452, Val loss: 1.2348600625991821 Hits@1: 0.754014790058136\n",
            "Epoch: 16 Loss: 1.137147307395935, Val loss: 1.200485110282898 Hits@1: 0.7590158581733704\n",
            "Epoch: 17 Loss: 1.1051031351089478, Val loss: 1.1698963642120361 Hits@1: 0.763901948928833\n",
            "Epoch: 18 Loss: 1.0763001441955566, Val loss: 1.1423894166946411 Hits@1: 0.7681921124458313\n",
            "Epoch: 19 Loss: 1.0508872270584106, Val loss: 1.1189677715301514 Hits@1: 0.7725442051887512\n",
            "hits@1: 0.775821, hits@5: 0.906509, hits@10: 0.931662, hits@20: 0.956120\n",
            "hits@50: 0.982428, hits@100: 0.995607\n",
            "map@1: 0.775821, map@5: 0.830571, map@10: 0.833986, map@20: 0.835703\n",
            "map@50: 0.836573, map@100: 0.836771\n",
            "ndcg@1: 0.775821, ndcg@5: 0.849818, ndcg@10: 0.858010, ndcg@20: 0.864218\n",
            "ndcg@50: 0.869494, ndcg@100: 0.871656\n"
          ]
        }
      ],
      "source": [
        "model = RNNTargetModel(num_classes)\n",
        "loss_fn = nn.CrossEntropyLoss()\n",
        "model.train()\n",
        "optimizer = torch.optim.Adam(model.parameters(), lr = 0.0001)\n",
        "lr_scheduler = torch.optim.lr_scheduler.ExponentialLR(optimizer=optimizer, gamma=0.97, last_epoch=-1)\n",
        "\n",
        "\n",
        "for i in range(20):\n",
        "  losses = []\n",
        "  val_losses = []\n",
        "  hits_1_scores = []\n",
        "\n",
        "  for user, train_input, train_time, train_label, train_time_label, test_input, test_time, test_label, \\\n",
        "  test_time_label, seq_len, train_repr, test_repr in user_dataloader:\n",
        "      optimizer.zero_grad()\n",
        "      comb_input = np.concatenate([np.expand_dims(train_input, axis=-1),\n",
        "                                                np.expand_dims(train_time, axis=-1)], axis=2)\n",
        "      model_input = comb_input\n",
        "      model_output = train_label\n",
        "      rnn_input_emb = item_emb[model_input[:, :, 0]]\n",
        "      test_comb_input = np.concatenate([np.expand_dims(test_input, axis=-1),\n",
        "                                                np.expand_dims(test_time, axis=-1)], axis=2)\n",
        "      test_model_input = test_comb_input\n",
        "      test_rnn_input_emb = item_emb[test_model_input[:, :, 0]]\n",
        "      probs = model(rnn_input_emb, train_repr, seq_len)\n",
        "      test_probs = model(test_rnn_input_emb, test_repr, seq_len)\n",
        "      pred = torch.argmax(probs, axis = 1)\n",
        "\n",
        "      one_hot = torch.zeros(len(probs), num_classes)\n",
        "      one_hot[torch.arange(len(one_hot)), model_output] = 1\n",
        "\n",
        "      test_one_hot = torch.zeros(len(test_probs), num_classes)\n",
        "      test_one_hot[torch.arange(len(test_one_hot)), test_label] = 1\n",
        "\n",
        "      loss = loss_fn(probs, one_hot)\n",
        "      val_loss = loss_fn(test_probs, test_one_hot)\n",
        "      losses.append(loss)\n",
        "      val_losses.append(val_loss)\n",
        "      hits_1_scores.append(top_k_accuracy_score(test_label, test_probs.cpu().detach().numpy(), k=1, labels = classes))\n",
        "      loss.backward()\n",
        "      optimizer.step()\n",
        "      losses.append(loss)\n",
        "\n",
        "\n",
        "  mean_loss = torch.Tensor(losses).mean(axis=0)\n",
        "  mean_val_loss = torch.Tensor(val_losses).mean(axis = 0).item()\n",
        "  mean_hits = torch.Tensor(hits_1_scores).mean(axis=0).item()\n",
        "  print(f'Epoch: {i} Loss: {mean_loss.item()}, Val loss: {mean_val_loss} Hits@1: {mean_hits}')\n",
        "hits1, hits5, hits10, hits20, hits50, hits100, map1, map5, map10, map20, map50, map100, ndcg1, ndcg5, ndcg10, ndcg20, ndcg50, ndcg100 = rnn_target_test(model)\n",
        "print_metrics(hits1, hits5, hits10, hits20, hits50, hits100, map1, map5, map10, map20, map50, map100, ndcg1, ndcg5, ndcg10, ndcg20, ndcg50, ndcg100)"
      ]
    }
  ],
  "metadata": {
    "accelerator": "GPU",
    "colab": {
      "collapsed_sections": [
        "sDBwo2nue_iU",
        "asZZVWJWgTt5",
        "Y9ZnPpK0hWIi",
        "4zKb6JDBi19K",
        "8F9aiXG-kO2r",
        "Wq4BzC5ekttn",
        "75KAYVFVk7_b",
        "vN0hR00yPQd5",
        "Pf19_Pnl8r25",
        "WpAhsXQF98jT",
        "bGjf5XTJ_NgN",
        "Exs9I4RoAPZa",
        "gwKzfPxjA_pa",
        "H32N74BxBOey",
        "7ytiJNrDBcdi"
      ],
      "gpuType": "T4",
      "provenance": []
    },
    "kernelspec": {
      "display_name": "Python 3",
      "name": "python3"
    },
    "language_info": {
      "name": "python"
    }
  },
  "nbformat": 4,
  "nbformat_minor": 0
}