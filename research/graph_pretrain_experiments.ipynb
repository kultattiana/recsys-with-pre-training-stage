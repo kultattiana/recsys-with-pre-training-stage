{
  "nbformat": 4,
  "nbformat_minor": 0,
  "metadata": {
    "colab": {
      "provenance": []
    },
    "kernelspec": {
      "name": "python3",
      "display_name": "Python 3"
    },
    "language_info": {
      "name": "python"
    }
  },
  "cells": [
    {
      "cell_type": "markdown",
      "source": [
        "### Import Libraries"
      ],
      "metadata": {
        "id": "5u8S2hz8MVLw"
      }
    },
    {
      "cell_type": "code",
      "execution_count": 1,
      "metadata": {
        "colab": {
          "base_uri": "https://localhost:8080/"
        },
        "id": "0FNlr66sPta8",
        "outputId": "f7367415-166d-4714-b373-98f9dbe63712"
      },
      "outputs": [
        {
          "output_type": "stream",
          "name": "stdout",
          "text": [
            "Collecting torch_geometric\n",
            "  Downloading torch_geometric-2.5.3-py3-none-any.whl (1.1 MB)\n",
            "\u001b[2K     \u001b[90m━━━━━━━━━━━━━━━━━━━━━━━━━━━━━━━━━━━━━━━━\u001b[0m \u001b[32m1.1/1.1 MB\u001b[0m \u001b[31m8.4 MB/s\u001b[0m eta \u001b[36m0:00:00\u001b[0m\n",
            "\u001b[?25hRequirement already satisfied: tqdm in /usr/local/lib/python3.10/dist-packages (from torch_geometric) (4.66.2)\n",
            "Requirement already satisfied: numpy in /usr/local/lib/python3.10/dist-packages (from torch_geometric) (1.25.2)\n",
            "Requirement already satisfied: scipy in /usr/local/lib/python3.10/dist-packages (from torch_geometric) (1.11.4)\n",
            "Requirement already satisfied: fsspec in /usr/local/lib/python3.10/dist-packages (from torch_geometric) (2023.6.0)\n",
            "Requirement already satisfied: jinja2 in /usr/local/lib/python3.10/dist-packages (from torch_geometric) (3.1.3)\n",
            "Requirement already satisfied: aiohttp in /usr/local/lib/python3.10/dist-packages (from torch_geometric) (3.9.5)\n",
            "Requirement already satisfied: requests in /usr/local/lib/python3.10/dist-packages (from torch_geometric) (2.31.0)\n",
            "Requirement already satisfied: pyparsing in /usr/local/lib/python3.10/dist-packages (from torch_geometric) (3.1.2)\n",
            "Requirement already satisfied: scikit-learn in /usr/local/lib/python3.10/dist-packages (from torch_geometric) (1.2.2)\n",
            "Requirement already satisfied: psutil>=5.8.0 in /usr/local/lib/python3.10/dist-packages (from torch_geometric) (5.9.5)\n",
            "Requirement already satisfied: aiosignal>=1.1.2 in /usr/local/lib/python3.10/dist-packages (from aiohttp->torch_geometric) (1.3.1)\n",
            "Requirement already satisfied: attrs>=17.3.0 in /usr/local/lib/python3.10/dist-packages (from aiohttp->torch_geometric) (23.2.0)\n",
            "Requirement already satisfied: frozenlist>=1.1.1 in /usr/local/lib/python3.10/dist-packages (from aiohttp->torch_geometric) (1.4.1)\n",
            "Requirement already satisfied: multidict<7.0,>=4.5 in /usr/local/lib/python3.10/dist-packages (from aiohttp->torch_geometric) (6.0.5)\n",
            "Requirement already satisfied: yarl<2.0,>=1.0 in /usr/local/lib/python3.10/dist-packages (from aiohttp->torch_geometric) (1.9.4)\n",
            "Requirement already satisfied: async-timeout<5.0,>=4.0 in /usr/local/lib/python3.10/dist-packages (from aiohttp->torch_geometric) (4.0.3)\n",
            "Requirement already satisfied: MarkupSafe>=2.0 in /usr/local/lib/python3.10/dist-packages (from jinja2->torch_geometric) (2.1.5)\n",
            "Requirement already satisfied: charset-normalizer<4,>=2 in /usr/local/lib/python3.10/dist-packages (from requests->torch_geometric) (3.3.2)\n",
            "Requirement already satisfied: idna<4,>=2.5 in /usr/local/lib/python3.10/dist-packages (from requests->torch_geometric) (3.7)\n",
            "Requirement already satisfied: urllib3<3,>=1.21.1 in /usr/local/lib/python3.10/dist-packages (from requests->torch_geometric) (2.0.7)\n",
            "Requirement already satisfied: certifi>=2017.4.17 in /usr/local/lib/python3.10/dist-packages (from requests->torch_geometric) (2024.2.2)\n",
            "Requirement already satisfied: joblib>=1.1.1 in /usr/local/lib/python3.10/dist-packages (from scikit-learn->torch_geometric) (1.4.0)\n",
            "Requirement already satisfied: threadpoolctl>=2.0.0 in /usr/local/lib/python3.10/dist-packages (from scikit-learn->torch_geometric) (3.4.0)\n",
            "Installing collected packages: torch_geometric\n",
            "Successfully installed torch_geometric-2.5.3\n",
            "Collecting networkit\n",
            "  Downloading networkit-11.0-cp310-cp310-manylinux_2_17_x86_64.manylinux2014_x86_64.whl (13.7 MB)\n",
            "\u001b[2K     \u001b[90m━━━━━━━━━━━━━━━━━━━━━━━━━━━━━━━━━━━━━━━━\u001b[0m \u001b[32m13.7/13.7 MB\u001b[0m \u001b[31m50.9 MB/s\u001b[0m eta \u001b[36m0:00:00\u001b[0m\n",
            "\u001b[?25hRequirement already satisfied: scipy in /usr/local/lib/python3.10/dist-packages (from networkit) (1.11.4)\n",
            "Requirement already satisfied: numpy in /usr/local/lib/python3.10/dist-packages (from networkit) (1.25.2)\n",
            "Installing collected packages: networkit\n",
            "Successfully installed networkit-11.0\n",
            "Reading package lists... Done\n",
            "Building dependency tree... Done\n",
            "Reading state information... Done\n",
            "The following additional packages will be installed:\n",
            "  libgail-common libgail18 libgtk2.0-0 libgtk2.0-bin libgtk2.0-common libgvc6-plugins-gtk\n",
            "  librsvg2-common libxdot4\n",
            "Suggested packages:\n",
            "  gvfs\n",
            "The following NEW packages will be installed:\n",
            "  libgail-common libgail18 libgraphviz-dev libgtk2.0-0 libgtk2.0-bin libgtk2.0-common\n",
            "  libgvc6-plugins-gtk librsvg2-common libxdot4\n",
            "0 upgraded, 9 newly installed, 0 to remove and 45 not upgraded.\n",
            "Need to get 2,433 kB of archives.\n",
            "After this operation, 7,694 kB of additional disk space will be used.\n",
            "Get:1 http://archive.ubuntu.com/ubuntu jammy/main amd64 libgtk2.0-common all 2.24.33-2ubuntu2 [125 kB]\n",
            "Get:2 http://archive.ubuntu.com/ubuntu jammy/main amd64 libgtk2.0-0 amd64 2.24.33-2ubuntu2 [2,037 kB]\n",
            "Get:3 http://archive.ubuntu.com/ubuntu jammy/main amd64 libgail18 amd64 2.24.33-2ubuntu2 [15.9 kB]\n",
            "Get:4 http://archive.ubuntu.com/ubuntu jammy/main amd64 libgail-common amd64 2.24.33-2ubuntu2 [132 kB]\n",
            "Get:5 http://archive.ubuntu.com/ubuntu jammy/universe amd64 libxdot4 amd64 2.42.2-6 [16.4 kB]\n",
            "Get:6 http://archive.ubuntu.com/ubuntu jammy/universe amd64 libgvc6-plugins-gtk amd64 2.42.2-6 [22.6 kB]\n",
            "Get:7 http://archive.ubuntu.com/ubuntu jammy/universe amd64 libgraphviz-dev amd64 2.42.2-6 [58.5 kB]\n",
            "Get:8 http://archive.ubuntu.com/ubuntu jammy/main amd64 libgtk2.0-bin amd64 2.24.33-2ubuntu2 [7,932 B]\n",
            "Get:9 http://archive.ubuntu.com/ubuntu jammy-updates/main amd64 librsvg2-common amd64 2.52.5+dfsg-3ubuntu0.2 [17.7 kB]\n",
            "Fetched 2,433 kB in 2s (993 kB/s)\n",
            "Selecting previously unselected package libgtk2.0-common.\n",
            "(Reading database ... 121752 files and directories currently installed.)\n",
            "Preparing to unpack .../0-libgtk2.0-common_2.24.33-2ubuntu2_all.deb ...\n",
            "Unpacking libgtk2.0-common (2.24.33-2ubuntu2) ...\n",
            "Selecting previously unselected package libgtk2.0-0:amd64.\n",
            "Preparing to unpack .../1-libgtk2.0-0_2.24.33-2ubuntu2_amd64.deb ...\n",
            "Unpacking libgtk2.0-0:amd64 (2.24.33-2ubuntu2) ...\n",
            "Selecting previously unselected package libgail18:amd64.\n",
            "Preparing to unpack .../2-libgail18_2.24.33-2ubuntu2_amd64.deb ...\n",
            "Unpacking libgail18:amd64 (2.24.33-2ubuntu2) ...\n",
            "Selecting previously unselected package libgail-common:amd64.\n",
            "Preparing to unpack .../3-libgail-common_2.24.33-2ubuntu2_amd64.deb ...\n",
            "Unpacking libgail-common:amd64 (2.24.33-2ubuntu2) ...\n",
            "Selecting previously unselected package libxdot4:amd64.\n",
            "Preparing to unpack .../4-libxdot4_2.42.2-6_amd64.deb ...\n",
            "Unpacking libxdot4:amd64 (2.42.2-6) ...\n",
            "Selecting previously unselected package libgvc6-plugins-gtk.\n",
            "Preparing to unpack .../5-libgvc6-plugins-gtk_2.42.2-6_amd64.deb ...\n",
            "Unpacking libgvc6-plugins-gtk (2.42.2-6) ...\n",
            "Selecting previously unselected package libgraphviz-dev:amd64.\n",
            "Preparing to unpack .../6-libgraphviz-dev_2.42.2-6_amd64.deb ...\n",
            "Unpacking libgraphviz-dev:amd64 (2.42.2-6) ...\n",
            "Selecting previously unselected package libgtk2.0-bin.\n",
            "Preparing to unpack .../7-libgtk2.0-bin_2.24.33-2ubuntu2_amd64.deb ...\n",
            "Unpacking libgtk2.0-bin (2.24.33-2ubuntu2) ...\n",
            "Selecting previously unselected package librsvg2-common:amd64.\n",
            "Preparing to unpack .../8-librsvg2-common_2.52.5+dfsg-3ubuntu0.2_amd64.deb ...\n",
            "Unpacking librsvg2-common:amd64 (2.52.5+dfsg-3ubuntu0.2) ...\n",
            "Setting up libxdot4:amd64 (2.42.2-6) ...\n",
            "Setting up librsvg2-common:amd64 (2.52.5+dfsg-3ubuntu0.2) ...\n",
            "Setting up libgtk2.0-common (2.24.33-2ubuntu2) ...\n",
            "Setting up libgtk2.0-0:amd64 (2.24.33-2ubuntu2) ...\n",
            "Setting up libgvc6-plugins-gtk (2.42.2-6) ...\n",
            "Setting up libgail18:amd64 (2.24.33-2ubuntu2) ...\n",
            "Setting up libgtk2.0-bin (2.24.33-2ubuntu2) ...\n",
            "Setting up libgail-common:amd64 (2.24.33-2ubuntu2) ...\n",
            "Setting up libgraphviz-dev:amd64 (2.42.2-6) ...\n",
            "Processing triggers for libc-bin (2.35-0ubuntu3.4) ...\n",
            "/sbin/ldconfig.real: /usr/local/lib/libtbbmalloc.so.2 is not a symbolic link\n",
            "\n",
            "/sbin/ldconfig.real: /usr/local/lib/libtbbbind_2_0.so.3 is not a symbolic link\n",
            "\n",
            "/sbin/ldconfig.real: /usr/local/lib/libtbbbind.so.3 is not a symbolic link\n",
            "\n",
            "/sbin/ldconfig.real: /usr/local/lib/libtbb.so.12 is not a symbolic link\n",
            "\n",
            "/sbin/ldconfig.real: /usr/local/lib/libtbbbind_2_5.so.3 is not a symbolic link\n",
            "\n",
            "/sbin/ldconfig.real: /usr/local/lib/libtbbmalloc_proxy.so.2 is not a symbolic link\n",
            "\n",
            "Processing triggers for man-db (2.10.2-1) ...\n",
            "Processing triggers for libgdk-pixbuf-2.0-0:amd64 (2.42.8+dfsg-1ubuntu0.2) ...\n",
            "Collecting pygraphviz\n",
            "  Downloading pygraphviz-1.12.tar.gz (104 kB)\n",
            "\u001b[2K     \u001b[90m━━━━━━━━━━━━━━━━━━━━━━━━━━━━━━━━━━━━━━━━\u001b[0m \u001b[32m104.9/104.9 kB\u001b[0m \u001b[31m2.5 MB/s\u001b[0m eta \u001b[36m0:00:00\u001b[0m\n",
            "\u001b[?25h  Installing build dependencies ... \u001b[?25l\u001b[?25hdone\n",
            "  Getting requirements to build wheel ... \u001b[?25l\u001b[?25hdone\n",
            "  Installing backend dependencies ... \u001b[?25l\u001b[?25hdone\n",
            "  Preparing metadata (pyproject.toml) ... \u001b[?25l\u001b[?25hdone\n",
            "Building wheels for collected packages: pygraphviz\n",
            "  Building wheel for pygraphviz (pyproject.toml) ... \u001b[?25l\u001b[?25hdone\n",
            "  Created wheel for pygraphviz: filename=pygraphviz-1.12-cp310-cp310-linux_x86_64.whl size=168130 sha256=e9db6711f53627282fd855869497e408422ff76b2cca3bc99199f810f488c3f5\n",
            "  Stored in directory: /root/.cache/pip/wheels/1d/ee/b5/a2f54f9e9b3951599c05dcce270ca85e472f8e6cec470e397a\n",
            "Successfully built pygraphviz\n",
            "Installing collected packages: pygraphviz\n",
            "Successfully installed pygraphviz-1.12\n"
          ]
        }
      ],
      "source": [
        "!pip install torch_geometric\n",
        "!pip install networkit\n",
        "!apt install libgraphviz-dev\n",
        "!pip install pygraphviz"
      ]
    },
    {
      "cell_type": "code",
      "execution_count": 26,
      "metadata": {
        "id": "My_CXpFlxUvA"
      },
      "outputs": [],
      "source": [
        "import numpy as np\n",
        "import pandas as pd\n",
        "import torch\n",
        "from torch import nn\n",
        "\n",
        "import json\n",
        "import os\n",
        "import networkx as nx\n",
        "import networkit as nk\n",
        "from networkit import vizbridges\n",
        "\n",
        "from tqdm import tqdm\n",
        "import ast\n",
        "import matplotlib.pyplot as plt\n",
        "import re\n",
        "from sklearn.metrics import top_k_accuracy_score\n",
        "from sklearn.metrics import ndcg_score\n",
        "\n",
        "from torch_geometric.data import Data\n",
        "from torch_geometric.nn import GATv2Conv\n",
        "\n",
        "import copy\n",
        "from typing import Callable, Tuple\n",
        "\n",
        "import torch\n",
        "from torch import Tensor\n",
        "from torch.nn import Module, Parameter\n",
        "\n",
        "from torch_geometric.nn.inits import reset, uniform\n",
        "import random"
      ]
    },
    {
      "cell_type": "code",
      "execution_count": 3,
      "metadata": {
        "id": "ox0nfVzoKySr"
      },
      "outputs": [],
      "source": [
        "torch.manual_seed(42)\n",
        "np.random.seed(42)"
      ]
    },
    {
      "cell_type": "markdown",
      "source": [
        "### Util functions"
      ],
      "metadata": {
        "id": "dk6H0-INMmEt"
      }
    },
    {
      "cell_type": "code",
      "execution_count": 4,
      "metadata": {
        "id": "e4mUB-lFrI5U"
      },
      "outputs": [],
      "source": [
        "def load_dataset_timestamp( n_users, n_context, seq_len):\n",
        "    act_list = []\n",
        "    time_list = []\n",
        "    user_list = []\n",
        "\n",
        "    max_timestamp = -1.0\n",
        "    min_timestamp = float('inf')\n",
        "\n",
        "    with open('gowalla_user_activity.txt', 'r') as raw_file:\n",
        "        for line in raw_file:\n",
        "            t_item_list = []\n",
        "            t_time_list = []\n",
        "            user = int(line.split(':')[0])\n",
        "            entries = line.split()[1:]\n",
        "            for a_entry in entries:\n",
        "                item, time_stamp = a_entry.split(':')\n",
        "                t_item_list.append(int(item.strip()))\n",
        "                t_time_list.append(int(time_stamp.strip()))\n",
        "\n",
        "                if min_timestamp > int(time_stamp.strip()):\n",
        "                    min_timestamp = int(time_stamp.strip())\n",
        "                if max_timestamp < int(time_stamp.strip()):\n",
        "                    max_timestamp = int(time_stamp.strip())\n",
        "\n",
        "            act_list.append(t_item_list[0: seq_len])\n",
        "            time_list.append(t_time_list[0: seq_len])\n",
        "            user_list.append(user)\n",
        "\n",
        "    new_time_list = []\n",
        "    num_bins = 0\n",
        "\n",
        "    times_bins = np.linspace(min_timestamp, max_timestamp + 1, num=num_bins, dtype=np.int32)\n",
        "    for a_time_list in time_list:\n",
        "        temp_time_list = (np.digitize(np.asarray(a_time_list), times_bins) - 1).tolist()\n",
        "        new_time_list.append(temp_time_list)\n",
        "\n",
        "    all_examples = {}\n",
        "    for i in range(0, len(act_list)):\n",
        "\n",
        "        train_act_seq = act_list[i][:-2]\n",
        "\n",
        "        train_time_seq = new_time_list[i][:-2]\n",
        "\n",
        "        train_act_label = act_list[i][-2]\n",
        "        train_time_label = new_time_list[i][-2]\n",
        "\n",
        "        test_act_seq = act_list[i][1:-1]\n",
        "        test_time_seq = new_time_list[i][1:-1]\n",
        "\n",
        "        test_act_label = act_list[i][-1]\n",
        "        test_time_label = new_time_list[i][-1]\n",
        "\n",
        "        entry = {\n",
        "            'train_act_seq': train_act_seq,\n",
        "            'train_time_seq': train_time_seq,\n",
        "            'train_act_label': train_act_label,\n",
        "            'train_time_label': train_time_label,\n",
        "            'test_act_seq': test_act_seq,\n",
        "            'test_time_seq': test_time_seq,\n",
        "            'test_act_label': test_act_label,\n",
        "            'test_time_label': test_time_label,\n",
        "            'seq_len': len(train_act_seq),\n",
        "            'user': user_list[i]\n",
        "        }\n",
        "\n",
        "        all_examples[user_list[i]] = entry\n",
        "\n",
        "    return all_examples"
      ]
    },
    {
      "cell_type": "markdown",
      "source": [
        "### Metrics"
      ],
      "metadata": {
        "id": "UJLWB1PSSnGz"
      }
    },
    {
      "cell_type": "code",
      "execution_count": 5,
      "metadata": {
        "id": "FmEaZ3v-PPB2"
      },
      "outputs": [],
      "source": [
        "def print_metrics(hits1, hits5, hits10, hits20, hits50, hits100, map1, map5, map10, map20, map50, map100, ndcg1, ndcg5, ndcg10, ndcg20, ndcg50, ndcg100):\n",
        "    print(f'hits@1: {hits1:.6f}, hits@5: {hits5:.6f}, hits@10: {hits10:.6f}, hits@20: {hits20:.6f}')\n",
        "    print(f'hits@50: {hits50:.6f}, hits@100: {hits100:.6f}')\n",
        "    print(f'map@1: {map1:.6f}, map@5: {map5:.6f}, map@10: {map10:.6f}, map@20: {map20:.6f}')\n",
        "    print(f'map@50: {map50:.6f}, map@100: {map100:.6f}')\n",
        "    print(f'ndcg@1: {ndcg1:.6f}, ndcg@5: {ndcg5:.6f}, ndcg@10: {ndcg10:.6f}, ndcg@20: {ndcg20:.6f}')\n",
        "    print(f'ndcg@50: {ndcg50:.6f}, ndcg@100: {ndcg100:.6f}')"
      ]
    },
    {
      "cell_type": "code",
      "execution_count": 6,
      "metadata": {
        "id": "wveiHrarPAc2"
      },
      "outputs": [],
      "source": [
        "def apk(actual, predicted, k=10):\n",
        "\n",
        "    if len(predicted) > k:\n",
        "        predicted = predicted[:k]\n",
        "\n",
        "    score = 0.0\n",
        "    num_hits = 0.0\n",
        "\n",
        "    for i, p in enumerate(predicted):\n",
        "        if p in actual and p not in predicted[:i]:\n",
        "            num_hits += 1.0\n",
        "            score += num_hits / (i + 1.0)\n",
        "\n",
        "    if not actual:\n",
        "        return 0.0\n",
        "\n",
        "    return score / min(len(actual), k)\n",
        "\n",
        "\n",
        "def mapk(y_prob, y, k=10):\n",
        "\n",
        "    predicted = [np.argsort(p_)[-k:][::-1] for p_ in y_prob]\n",
        "    actual = [[y_] for y_ in y]\n",
        "    return np.mean([apk(a, p, k) for a, p in zip(actual, predicted)])\n",
        "\n",
        "\n",
        "def hits_k(y_prob, y, k=10):\n",
        "    acc = []\n",
        "    for p_, y_ in zip(y_prob, y):\n",
        "        top_k = p_.argsort()[-k:][::-1]\n",
        "        acc += [1. if y_ in top_k else 0.]\n",
        "    return sum(acc) / len(acc)"
      ]
    },
    {
      "cell_type": "code",
      "execution_count": 7,
      "metadata": {
        "id": "ZAIyJzxrNx7B"
      },
      "outputs": [],
      "source": [
        "def get_metrics_(probs, labels_batch, test_one_hot):\n",
        "    hits1 = top_k_accuracy_score(labels_batch, probs.cpu().detach().numpy(), k=1, labels = classes)\n",
        "    hits5 = top_k_accuracy_score(labels_batch, probs.cpu().detach().numpy(), k=5, labels = classes)\n",
        "    hits10 = top_k_accuracy_score(labels_batch, probs.cpu().detach().numpy(), k=10, labels = classes)\n",
        "    hits20 = top_k_accuracy_score(labels_batch, probs.cpu().detach().numpy(), k=20, labels = classes)\n",
        "    hits50= top_k_accuracy_score(labels_batch, probs.cpu().detach().numpy(), k=50, labels = classes)\n",
        "    hits100 = top_k_accuracy_score(labels_batch, probs.cpu().detach().numpy(), k=100, labels = classes)\n",
        "\n",
        "    map1 = mapk(y_prob=probs.cpu().detach().numpy(), y = labels_batch, k=1)\n",
        "    map5 = mapk(y_prob=probs.cpu().detach().numpy(), y = labels_batch, k=5)\n",
        "    map10 = mapk(y_prob=probs.cpu().detach().numpy(), y = labels_batch, k=10)\n",
        "    map20 = mapk(y_prob=probs.cpu().detach().numpy(), y = labels_batch, k=20)\n",
        "    map50 = mapk(y_prob=probs.cpu().detach().numpy(), y = labels_batch, k=50)\n",
        "    map100 = mapk(y_prob=probs.cpu().detach().numpy(), y = labels_batch, k=100)\n",
        "\n",
        "    ndcg1 = ndcg_score(test_one_hot, probs.cpu().detach().numpy(), k=1)\n",
        "    ndcg5 = ndcg_score(test_one_hot, probs.cpu().detach().numpy(), k=5)\n",
        "    ndcg10 = ndcg_score(test_one_hot, probs.cpu().detach().numpy(), k=10)\n",
        "    ndcg20 = ndcg_score(test_one_hot, probs.cpu().detach().numpy(), k=20)\n",
        "    ndcg50 = ndcg_score(test_one_hot, probs.cpu().detach().numpy(), k=50)\n",
        "    ndcg100 = ndcg_score(test_one_hot, probs.cpu().detach().numpy(), k=100)\n",
        "    return hits1, hits5, hits10, hits20, hits50, hits100, map1, map5, map10, map20, map50, map100, ndcg1, ndcg5, ndcg10, ndcg20, ndcg50, ndcg100"
      ]
    },
    {
      "cell_type": "markdown",
      "source": [
        "### Graph construction"
      ],
      "metadata": {
        "id": "8wzpjzBxTC9r"
      }
    },
    {
      "cell_type": "code",
      "source": [
        "users = load_dataset_timestamp(20001, 128, 30)"
      ],
      "metadata": {
        "id": "E3ZTBmKsM0fy"
      },
      "execution_count": 8,
      "outputs": []
    },
    {
      "cell_type": "code",
      "execution_count": 9,
      "metadata": {
        "id": "5UMgTVzJnJ8w"
      },
      "outputs": [],
      "source": [
        "friends = pd.read_csv('gowalla_edges.csv')"
      ]
    },
    {
      "cell_type": "code",
      "source": [
        "Gcl = nx.Graph()\n",
        "for i in range(len(users)):\n",
        "  if users[i]['user'] not in Gcl.nodes():\n",
        "      Gcl.add_node(users[i]['user'], weight=10, color='seagreen')\n",
        "for i in range(len(friends)):\n",
        "  Gcl.add_edge(friends.loc[i, '1st friend'], friends.loc[i, '2nd friend'], color = 'blue')\n",
        "\n",
        "\n",
        "\n",
        "nodes = list(Gcl.nodes())\n",
        "node_colors = [Gcl.nodes[node]['color'] for node in Gcl.nodes]\n",
        "node_weights = [Gcl.nodes[node]['weight'] for node in Gcl.nodes]\n",
        "edge_colors = [Gcl.edges[edge]['color'] for edge in Gcl.edges]\n",
        "\n",
        "plt.figure(figsize=(12, 8))\n",
        "pos = nx.drawing.nx_agraph.graphviz_layout(Gcl, prog='neato')\n",
        "nx.draw_networkx(Gcl, pos=pos, with_labels=False, node_size=node_weights, node_color=node_colors, edge_color=edge_colors, width=1)"
      ],
      "metadata": {
        "id": "sYfdtRAnOtdq"
      },
      "execution_count": null,
      "outputs": []
    },
    {
      "cell_type": "code",
      "source": [
        "Gcl = nx.Graph()\n",
        "for i in range(len(users)):\n",
        "  if users[i]['user'] not in Gcl.nodes():\n",
        "      Gcl.add_node(users[i]['user'], weight=10, color='seagreen')\n",
        "for i in range(len(friends)):\n",
        "  Gcl.add_edge(friends.loc[i, '1st friend'], friends.loc[i, '2nd friend'], color = 'blue')\n",
        "\n",
        "\n",
        "nodes = list(Gcl.nodes())\n",
        "node_colors = [Gcl.nodes[node]['color'] for node in Gcl.nodes]\n",
        "node_weights = [Gcl.nodes[node]['weight'] for node in Gcl.nodes]\n",
        "edge_colors = [Gcl.edges[edge]['color'] for edge in Gcl.edges]"
      ],
      "metadata": {
        "id": "zFBHTlHaPQbx"
      },
      "execution_count": 10,
      "outputs": []
    },
    {
      "cell_type": "code",
      "source": [
        "graphid2pid = {}\n",
        "pid2graphid = {}\n",
        "\n",
        "s = 0\n",
        "for node_id in Gcl.nodes():\n",
        "    pid2graphid[node_id] = s\n",
        "    graphid2pid[s] = node_id\n",
        "    s += 1\n",
        "\n",
        "graph_edges = []\n",
        "for (u, v) in Gcl.edges():\n",
        "    graph_edges.append((pid2graphid[u], pid2graphid[v]))"
      ],
      "metadata": {
        "id": "Dez6obQePj81"
      },
      "execution_count": 11,
      "outputs": []
    },
    {
      "cell_type": "markdown",
      "source": [
        "### Graph characteristics"
      ],
      "metadata": {
        "id": "aJ25Is0Kbc_d"
      }
    },
    {
      "cell_type": "code",
      "source": [
        "nkg = nk.Graph(n=len(pid2graphid), weighted=True, directed=False, edgesIndexed=True)\n",
        "for (u, v) in graph_edges:\n",
        "    nkg.addEdge(u, v)"
      ],
      "metadata": {
        "id": "y4dADu9NPkpS"
      },
      "execution_count": 12,
      "outputs": []
    },
    {
      "cell_type": "code",
      "source": [
        "nk.overview(nkg)"
      ],
      "metadata": {
        "colab": {
          "base_uri": "https://localhost:8080/"
        },
        "id": "RsdEMGeOPoQB",
        "outputId": "03b083ab-5b0c-4eb3-afc6-863227b8731e"
      },
      "execution_count": 13,
      "outputs": [
        {
          "output_type": "stream",
          "name": "stdout",
          "text": [
            "Network Properties:\n",
            "nodes, edges\t\t\t20001, 167752\n",
            "directed?\t\t\tFalse\n",
            "weighted?\t\t\tTrue\n",
            "isolated nodes\t\t\t275\n",
            "self-loops\t\t\t0\n",
            "density\t\t\t\t0.000839\n",
            "clustering coefficient\t\t0.294269\n",
            "min/max/avg degree\t\t0, 6171, 16.774361\n",
            "degree assortativity\t\t-0.064750\n",
            "number of connected components\t290\n",
            "size of largest component\t19698 (98.49 %)\n"
          ]
        }
      ]
    },
    {
      "cell_type": "markdown",
      "source": [
        "### User dataset construction"
      ],
      "metadata": {
        "id": "SspaQzxebmar"
      }
    },
    {
      "cell_type": "code",
      "source": [
        "class UserInfoDataset():\n",
        "  def __init__(self, data, max_len):\n",
        "    self.data = data\n",
        "    self.max_len = max_len\n",
        "\n",
        "  def __len__(self):\n",
        "    return len(self.data)\n",
        "\n",
        "  def __getitem__(self, idx):\n",
        "\n",
        "    user = self.data[idx]\n",
        "    seq_len = user['seq_len']\n",
        "\n",
        "    tr_act_seq = np.zeros((self.max_len,)).astype('int32')\n",
        "    tr_act_seq[:seq_len] = np.array(user['train_act_seq'])\n",
        "    tr_act_seq = np.transpose(tr_act_seq)\n",
        "\n",
        "    tr_time_seq = np.zeros((self.max_len,)).astype('int32')\n",
        "    tr_time_seq[:seq_len] = user['train_time_seq']\n",
        "    tr_time_seq = np.transpose(tr_time_seq)\n",
        "\n",
        "    t_act_seq = np.zeros((self.max_len, )).astype('int32')\n",
        "    t_act_seq[:seq_len] = user['test_act_seq']\n",
        "    t_act_seq = np.transpose(t_act_seq)\n",
        "\n",
        "    t_time_seq = np.zeros((self.max_len, )).astype('int32')\n",
        "    t_time_seq[:seq_len] = user['test_time_seq']\n",
        "    t_time_seq = np.transpose(t_time_seq)\n",
        "\n",
        "\n",
        "    return user['user'], tr_act_seq, \\\n",
        "    tr_time_seq, user['train_act_label'], \\\n",
        "    user['train_time_label'], t_act_seq, \\\n",
        "    t_time_seq, user['test_act_label'], \\\n",
        "    user['test_time_label'], user['seq_len']"
      ],
      "metadata": {
        "id": "Ngj3R0fMPstY"
      },
      "execution_count": 14,
      "outputs": []
    },
    {
      "cell_type": "code",
      "source": [
        "from torch.utils.data import Subset\n",
        "from torch.utils.data import DataLoader\n",
        "\n",
        "user_dataset = UserInfoDataset(users, 30)\n",
        "\n",
        "n = len(user_dataset)\n",
        "\n",
        "indices = np.arange(n)\n",
        "indices = np.random.permutation(indices)\n",
        "\n",
        "train_indices = indices [:int(0.8*n)]\n",
        "test_indices = indices[int(0.8*n):]\n",
        "\n",
        "user_train_dataset = Subset(user_dataset, train_indices)\n",
        "user_test_dataset = Subset(user_dataset, test_indices)\n",
        "\n",
        "user_dataloader = DataLoader(user_dataset, batch_size = 64, shuffle = True)\n",
        "user_train_dataloader = DataLoader(user_train_dataset, batch_size=64, shuffle=True)\n",
        "user_test_dataloader = DataLoader(user_test_dataset, batch_size=64, shuffle=True)\n",
        "\n",
        "item_emb  = nn.init.xavier_uniform_(torch.empty(186, 128))"
      ],
      "metadata": {
        "id": "Nqqd8RNIP3zJ"
      },
      "execution_count": 15,
      "outputs": []
    },
    {
      "cell_type": "markdown",
      "source": [
        "## Pre-training"
      ],
      "metadata": {
        "id": "h_pSKPomTILm"
      }
    },
    {
      "cell_type": "code",
      "source": [
        "rnn = nn.RNN(128, 128, batch_first = True)\n",
        "norm = nn.BatchNorm1d(128)"
      ],
      "metadata": {
        "id": "XB3Jxq6xP6EB"
      },
      "execution_count": 16,
      "outputs": []
    },
    {
      "cell_type": "markdown",
      "source": [
        "### Getting initial user representations"
      ],
      "metadata": {
        "id": "1OOE7Mbbb5OA"
      }
    },
    {
      "cell_type": "code",
      "source": [
        "user_representations = {}\n",
        "for users, train_input, train_time, train_label, train_time_label, test_input, test_time, test_label, test_time_label, seq_len in user_dataloader:\n",
        "      comb_input = np.concatenate([np.expand_dims(train_input, axis=-1),\n",
        "                                                np.expand_dims(train_time, axis=-1)], axis=2)\n",
        "      model_input = comb_input\n",
        "      model_output = train_label\n",
        "      rnn_input_emb = item_emb[model_input[:, :, 0]]\n",
        "      x, h = rnn(rnn_input_emb)\n",
        "      hx = torch.zeros(x.shape[0], x.shape[2])#.to(device)\n",
        "      for i in range(hx.shape[0]):\n",
        "        hx[i] = x[i][seq_len[i] - 1]\n",
        "      user_representation = norm(hx)\n",
        "      for i in range(len(users)):\n",
        "        user_representations[users[i].item()] = (user_representation[i], train_label[i].item(), seq_len[i].item())"
      ],
      "metadata": {
        "id": "SKJopG6QQAVK"
      },
      "execution_count": 17,
      "outputs": []
    },
    {
      "cell_type": "code",
      "source": [
        "features = []\n",
        "seq_lens = []\n",
        "for graphid in Gcl.nodes():\n",
        "    pid = graphid2pid[graphid]\n",
        "    features.append(user_representations[graphid][0].detach().numpy())\n",
        "    seq_lens.append(user_representations[graphid][2])\n",
        "features = np.array(features)"
      ],
      "metadata": {
        "id": "Is_nNVv5QILQ"
      },
      "execution_count": 18,
      "outputs": []
    },
    {
      "cell_type": "code",
      "source": [
        "dataset = Data(x=torch.tensor(features, dtype=torch.float), edge_index=torch.tensor(np.array(graph_edges).T, dtype=torch.int64))"
      ],
      "metadata": {
        "id": "A4B48ZSOQL9d"
      },
      "execution_count": 19,
      "outputs": []
    },
    {
      "cell_type": "markdown",
      "source": [
        "### Deep Graph Infomax model"
      ],
      "metadata": {
        "id": "OYuDqwyjclwq"
      }
    },
    {
      "cell_type": "code",
      "source": [
        "eps = 1e-15\n",
        "class DeepGraphInfomax(torch.nn.Module):\n",
        "    def __init__(\n",
        "        self,\n",
        "        hidden_channels,\n",
        "        encoder,\n",
        "        summary,\n",
        "        corruption,\n",
        "    ):\n",
        "        super().__init__()\n",
        "        self.hidden_channels = hidden_channels\n",
        "        self.encoder = encoder\n",
        "        self.summary = summary\n",
        "        self.corruption = corruption\n",
        "\n",
        "        self.weight = Parameter(torch.empty(hidden_channels, hidden_channels))\n",
        "\n",
        "        self.reset_parameters()\n",
        "\n",
        "    def reset_parameters(self):\n",
        "        reset(self.encoder)\n",
        "        reset(self.summary)\n",
        "        uniform(self.hidden_channels, self.weight)\n",
        "\n",
        "    def forward(self, *args, **kwargs) -> Tuple[Tensor, Tensor, Tensor]:\n",
        "        pos_z = self.encoder(*args, **kwargs)\n",
        "\n",
        "        cor = self.corruption(*args, **kwargs)\n",
        "        cor = cor if isinstance(cor, tuple) else (cor, )\n",
        "        cor_args = cor[:len(args)]\n",
        "        cor_kwargs = copy.copy(kwargs)\n",
        "        for key, value in zip(kwargs.keys(), cor[len(args):]):\n",
        "            cor_kwargs[key] = value\n",
        "\n",
        "        neg_z = self.encoder(*cor_args, **cor_kwargs)\n",
        "\n",
        "        summary = self.summary(pos_z, *args, **kwargs)\n",
        "\n",
        "        return pos_z, neg_z, summary\n",
        "\n",
        "    def discriminate(self, z: Tensor, summary: Tensor,\n",
        "                     sigmoid: bool = True) -> Tensor:\n",
        "\n",
        "        summary = summary.t() if summary.dim() > 1 else summary\n",
        "        value = torch.matmul(z, torch.matmul(self.weight, summary))\n",
        "        return torch.sigmoid(value) if sigmoid else value\n",
        "\n",
        "    def loss(self, pos_z: Tensor, neg_z: Tensor, summary: Tensor) -> Tensor:\n",
        "        pos_loss = -torch.log(\n",
        "            self.discriminate(pos_z, summary, sigmoid=True) + eps).mean()\n",
        "        neg_loss = -torch.log(1 -\n",
        "                              self.discriminate(neg_z, summary, sigmoid=True) +\n",
        "                              eps).mean()\n",
        "\n",
        "        return pos_loss + neg_loss\n",
        "\n",
        "\n",
        "    def __repr__(self) -> str:\n",
        "        return f'{self.__class__.__name__}({self.hidden_channels})'"
      ],
      "metadata": {
        "id": "cy4JwHPzQQaK"
      },
      "execution_count": 20,
      "outputs": []
    },
    {
      "cell_type": "code",
      "source": [
        "class Encoder(nn.Module):\n",
        "    def __init__(self, interm_channels, hidden_channels, num_features):\n",
        "        super().__init__()\n",
        "\n",
        "        self.num_features = num_features\n",
        "        self.rnn = nn.RNN(128, 128, batch_first = True)\n",
        "        self.norm = nn.BatchNorm1d(128)\n",
        "        self.conv1 = GATv2Conv(self.num_features, interm_channels)\n",
        "        self.prelu1 = nn.PReLU(interm_channels)\n",
        "        self.dropout = nn.Dropout(0.2)\n",
        "        self.conv2 = GATv2Conv(interm_channels, hidden_channels)\n",
        "        self.prelu2 = nn.PReLU(hidden_channels)\n",
        "        self.conv3 = GATv2Conv(hidden_channels, hidden_channels)\n",
        "\n",
        "    def forward(self, x, edge_index):\n",
        "        x = self.conv1(x, edge_index)\n",
        "        x = self.prelu1(x)\n",
        "        x = self.dropout(x)\n",
        "        x = self.conv2(x, edge_index)\n",
        "        x = self.prelu2(x)\n",
        "        x = self.dropout(x)\n",
        "        x = self.conv3(x, edge_index)\n",
        "        return x"
      ],
      "metadata": {
        "id": "UoHpaG67QtJS"
      },
      "execution_count": 21,
      "outputs": []
    },
    {
      "cell_type": "markdown",
      "source": [
        "### Augmentation construction helping functions"
      ],
      "metadata": {
        "id": "bA0seHr3dUkI"
      }
    },
    {
      "cell_type": "code",
      "execution_count": 22,
      "metadata": {
        "id": "ReW3VoWAKX2D"
      },
      "outputs": [],
      "source": [
        "def index_to_mask(index):\n",
        "\n",
        "    index = index.view(-1)\n",
        "    size = int(index.max()) + 1\n",
        "\n",
        "    mask = index.new_zeros(20001, dtype=torch.bool)\n",
        "    mask[index] = True\n",
        "    return mask"
      ]
    },
    {
      "cell_type": "code",
      "execution_count": 23,
      "metadata": {
        "id": "a8hjYrL2RCvm"
      },
      "outputs": [],
      "source": [
        "def map_index(indices, edge_index):\n",
        "  dictionary = {}\n",
        "  label = 0\n",
        "  for ind in indices:\n",
        "    dictionary[ind] = label\n",
        "    label += 1\n",
        "  for i in range(edge_index.shape[1]):\n",
        "    edge_index[0][i] = dictionary[edge_index[0][i].item()]\n",
        "    edge_index[1][i] = dictionary[edge_index[1][i].item()]\n",
        "  return edge_index"
      ]
    },
    {
      "cell_type": "code",
      "execution_count": 24,
      "metadata": {
        "id": "WdBU8H_17IZk"
      },
      "outputs": [],
      "source": [
        "def construct_neighbors_dictionary(edge_index):\n",
        "  dictionary = {}\n",
        "  for i in range(edge_index.shape[1]):\n",
        "    if edge_index[0][i].item() not in dictionary.keys():\n",
        "      dictionary[edge_index[0][i].item()] = []\n",
        "    dictionary[edge_index[0][i].item()].append(edge_index[1][i].item())\n",
        "    if edge_index[1][i].item() not in dictionary.keys():\n",
        "      dictionary[edge_index[1][i].item()] = []\n",
        "    dictionary[edge_index[1][i].item()].append(edge_index[0][i].item())\n",
        "  return dictionary"
      ]
    },
    {
      "cell_type": "code",
      "execution_count": 25,
      "metadata": {
        "id": "D9xrU89R8ssa"
      },
      "outputs": [],
      "source": [
        "neighbors = construct_neighbors_dictionary(dataset.edge_index)"
      ]
    },
    {
      "cell_type": "markdown",
      "source": [
        "### Augmentations"
      ],
      "metadata": {
        "id": "WGJXkVRYcws3"
      }
    },
    {
      "cell_type": "code",
      "execution_count": 27,
      "metadata": {
        "id": "kkbrvZ3KYf5g"
      },
      "outputs": [],
      "source": [
        "def node_mix(x, edge_index):\n",
        "    return x[torch.randperm(x.size(0))], edge_index"
      ]
    },
    {
      "cell_type": "code",
      "execution_count": 28,
      "metadata": {
        "id": "va8AImgSkLAG"
      },
      "outputs": [],
      "source": [
        "def node_dropout(x, edge_index):\n",
        "  indices = []\n",
        "  deleted_indices = []\n",
        "  for i in range(x.shape[0]):\n",
        "    drop = random.random()\n",
        "    if drop >= 0.3:\n",
        "      indices.append(i)\n",
        "    else:\n",
        "      deleted_indices.append(i)\n",
        "  x = torch.index_select(x, 0, torch.tensor(indices, dtype = torch.int32))\n",
        "  node_mask = index_to_mask(torch.tensor(indices, dtype = torch.int32))\n",
        "  edge_mask = node_mask[edge_index[0]] & node_mask[edge_index[1]]\n",
        "  edge_index = edge_index[:, edge_mask]\n",
        "  edge_index = map_index(indices, edge_index)\n",
        "\n",
        "  return x, edge_index"
      ]
    },
    {
      "cell_type": "code",
      "execution_count": 29,
      "metadata": {
        "id": "cMA3Bvow6gVA"
      },
      "outputs": [],
      "source": [
        "def random_walk(x, edge_index):\n",
        "  node = 0\n",
        "  rwalk = [node]\n",
        "  walk_length = 10000\n",
        "  for i in range(walk_length - 1):\n",
        "    temp = neighbors[node]\n",
        "    temp = list(set(temp) - set(rwalk))\n",
        "    if len(temp) == 0:\n",
        "      break\n",
        "    new_node = random.choice(temp)\n",
        "    rwalk.append(new_node)\n",
        "    node = new_node\n",
        "  x = torch.index_select(x, 0, torch.tensor(rwalk, dtype = torch.int32))\n",
        "  node_mask = index_to_mask(torch.tensor(rwalk, dtype = torch.int32))\n",
        "  edge_mask = node_mask[edge_index[0]] & node_mask[edge_index[1]]\n",
        "  edge_index = edge_index[:, edge_mask]\n",
        "  edge_index = map_index(rwalk, edge_index)\n",
        "\n",
        "  return x, edge_index"
      ]
    },
    {
      "cell_type": "code",
      "execution_count": 30,
      "metadata": {
        "id": "KcJi4_EWkQX2"
      },
      "outputs": [],
      "source": [
        "def edge_dropout(x, edge_index):\n",
        "  indices = []\n",
        "  for i in range(edge_index.shape[1]):\n",
        "    drop = random.random()\n",
        "    if drop >= 0.3:\n",
        "      indices.append(i)\n",
        "  edge_index = torch.index_select(edge_index, 1, torch.tensor(indices, dtype = torch.int32))\n",
        "  return x, edge_index"
      ]
    },
    {
      "cell_type": "markdown",
      "source": [
        "### Link prediction head"
      ],
      "metadata": {
        "id": "bqROBxx7ddQ2"
      }
    },
    {
      "cell_type": "code",
      "source": [
        "class LinkPredHead(nn.Module):\n",
        "    def __init__(self):\n",
        "        super().__init__()\n",
        "        self.fc_1 = nn.Linear(256, 1)\n",
        "\n",
        "    def forward(self, x, edge_index):\n",
        "        x_src, x_dst = x[edge_index[0]], x[edge_index[1]]\n",
        "        x = torch.cat((x_src, x_dst), dim = 1)\n",
        "        x = self.fc_1(x)\n",
        "        return x#torch.sum(x_src * x_dst, dim=1)"
      ],
      "metadata": {
        "id": "0WVo1TylQ4Rl"
      },
      "execution_count": 31,
      "outputs": []
    },
    {
      "cell_type": "markdown",
      "source": [
        "### Next action prediction head"
      ],
      "metadata": {
        "id": "aLPlcvG6fWyk"
      }
    },
    {
      "cell_type": "code",
      "source": [
        "class NextActionPredHead(nn.Module):\n",
        "  def __init__(self):\n",
        "    super(NextActionPredHead, self).__init__()\n",
        "    self.fc1 = nn.Linear(128, 186)\n",
        "    self.rnn = nn.RNN(128, 128, batch_first = True)\n",
        "\n",
        "  def forward(self, x):\n",
        "    x = self.fc1(x)\n",
        "    return x"
      ],
      "metadata": {
        "id": "_bnrGp6BfS9U"
      },
      "execution_count": 32,
      "outputs": []
    },
    {
      "cell_type": "code",
      "source": [
        "def negative_sampling(edge_index, num_nodes):\n",
        "    mask_1 = torch.rand(edge_index.size(1)) < 0.5\n",
        "    mask_2 = ~mask_1\n",
        "\n",
        "    neg_edge_index = edge_index.clone()\n",
        "    neg_edge_index[0, mask_1] = torch.randint(num_nodes, (mask_1.sum(),))\n",
        "    neg_edge_index[1, mask_2] = torch.randint(num_nodes, (mask_2.sum(),))\n",
        "\n",
        "    return neg_edge_index"
      ],
      "metadata": {
        "id": "S167i6uNRU3q"
      },
      "execution_count": 33,
      "outputs": []
    },
    {
      "cell_type": "markdown",
      "source": [
        "### User representations dataset"
      ],
      "metadata": {
        "id": "1otI0IpBfnU1"
      }
    },
    {
      "cell_type": "code",
      "source": [
        "class UserDataset():\n",
        "    def __init__(self, user_representations):\n",
        "        self.user_representations = user_representations\n",
        "\n",
        "    def __len__(self):\n",
        "        return len(self.user_representations)\n",
        "\n",
        "    def __getitem__(self, idx):\n",
        "\n",
        "        return self.user_representations[idx][0], self.user_representations[idx][1], self.user_representations[idx][2]"
      ],
      "metadata": {
        "id": "jxRGw8S1fllP"
      },
      "execution_count": 34,
      "outputs": []
    },
    {
      "cell_type": "markdown",
      "source": [
        "### Training functions"
      ],
      "metadata": {
        "id": "sDBwo2nue_iU"
      }
    },
    {
      "cell_type": "code",
      "source": [
        "def train_only_infomax(epoch):\n",
        "    model.train()\n",
        "    optimizer.zero_grad()\n",
        "    pos_z, neg_z, summary = model(dataset.x, dataset.edge_index)\n",
        "\n",
        "    loss_infomax = model.loss(pos_z, neg_z, summary)\n",
        "\n",
        "    pos_out = linkmodel(pos_z, dataset.edge_index)\n",
        "    neg_edge_index = negative_sampling(dataset.edge_index, dataset.num_nodes)\n",
        "    neg_out = linkmodel(pos_z, neg_edge_index)\n",
        "\n",
        "    out = torch.cat([pos_out, neg_out])\n",
        "    gt = torch.cat([torch.ones_like(pos_out), torch.zeros_like(neg_out)])\n",
        "    loss_link_pred = loss_bce(out, gt)\n",
        "\n",
        "    loss =  loss_infomax\n",
        "    loss.backward()\n",
        "    optimizer.step()\n",
        "    print(f'Epoch: {epoch}, Loss: {loss}')\n",
        "    if epoch == num_epoch:\n",
        "      return pos_z, neg_z, summary, loss.item()\n",
        "    else:\n",
        "      return loss.item()"
      ],
      "metadata": {
        "id": "ysaXUViyR9L9"
      },
      "execution_count": 37,
      "outputs": []
    },
    {
      "cell_type": "code",
      "source": [
        "def train_infomax_linkpred(epoch):\n",
        "    model.train()\n",
        "    optimizer.zero_grad()\n",
        "    pos_z, neg_z, summary = model(dataset.x, dataset.edge_index)\n",
        "\n",
        "    loss_infomax = model.loss(pos_z, neg_z, summary)\n",
        "\n",
        "    pos_out = linkmodel(pos_z, dataset.edge_index)\n",
        "    neg_edge_index = negative_sampling(dataset.edge_index, dataset.num_nodes)\n",
        "    neg_out = linkmodel(pos_z, neg_edge_index)\n",
        "\n",
        "    out = torch.cat([pos_out, neg_out])\n",
        "    gt = torch.cat([torch.ones_like(pos_out), torch.zeros_like(neg_out)])\n",
        "    loss_link_pred = loss_bce(out, gt)\n",
        "    loss =  2*loss_infomax + 0.5*loss_link_pred\n",
        "    loss.backward()\n",
        "    optimizer.step()\n",
        "    print(f'Epoch: {epoch}, Loss: {loss}')\n",
        "    if epoch == num_epoch:\n",
        "      return pos_z, neg_z, summary, loss.item()\n",
        "    else:\n",
        "      return loss.item()"
      ],
      "metadata": {
        "id": "T0OgTpboety9"
      },
      "execution_count": 38,
      "outputs": []
    },
    {
      "cell_type": "code",
      "execution_count": 53,
      "metadata": {
        "id": "O0qMYAF2irlZ"
      },
      "outputs": [],
      "source": [
        "def test(head_model):\n",
        "  metrics_val = []\n",
        "  head_model.eval()\n",
        "  index = 0\n",
        "  for users, vectors, labels in user_test_dataloader:\n",
        "      test_probs = head_model(vectors)\n",
        "      test_pred = torch.argmax(test_probs, axis = 1)#torch.Tensor([0]*20001)\n",
        "\n",
        "      test_one_hot = torch.zeros(len(test_probs), num_classes)\n",
        "      test_one_hot[torch.arange(len(test_one_hot)), labels] = 1\n",
        "\n",
        "\n",
        "      hits1, hits5, hits10, hits20, hits50, hits100, map1, map5, map10, map20, map50, map100, ndcg1, ndcg5, ndcg10, ndcg20, ndcg50, ndcg100 \\\n",
        "       = get_metrics_(test_probs, labels, test_one_hot)\n",
        "\n",
        "      metrics_val.append([hits1, hits5, hits10, hits20, hits50, hits100, map1, map5, map10, map20, map50, map100, ndcg1, ndcg5, ndcg10, ndcg20, ndcg50, ndcg100])#, hits5, hits10, hits20, hits50, hits100, map1, map5, map10, map20, map50, map100])\n",
        "\n",
        "  mean = torch.Tensor(metrics_val).mean(axis=0)\n",
        "  test_hits1, test_hits5, test_hits10, test_hits20, test_hits50, test_hits100, test_map1, test_map5, test_map10, test_map20, test_map50, test_map100, \\\n",
        "  test_ndcg1, test_ndcg5, test_ndcg10, test_ndcg20, test_ndcg50, test_ndcg100 = mean\n",
        "\n",
        "  return test_hits1, test_hits5, test_hits10, test_hits20, test_hits50, test_hits100, test_map1, test_map5, test_map10, test_map20, test_map50, test_map100, \\\n",
        "  test_ndcg1, test_ndcg5, test_ndcg10, test_ndcg20, test_ndcg50, test_ndcg100"
      ]
    },
    {
      "cell_type": "code",
      "execution_count": 50,
      "metadata": {
        "id": "k3dHTim1hcrq"
      },
      "outputs": [],
      "source": [
        "def train2task():\n",
        "  loss_fn = nn.CrossEntropyLoss()\n",
        "  head_model  = NextActionPredHead()\n",
        "\n",
        "  head_model.train()\n",
        "  optimizer = torch.optim.Adam(head_model.parameters(), lr = 0.001)\n",
        "  lr_scheduler = torch.optim.lr_scheduler.ExponentialLR(optimizer=optimizer, gamma=0.97, last_epoch=-1)\n",
        "  losses = []\n",
        "\n",
        "  for i in range(200):\n",
        "    for users, vectors, labels in user_train_dataloader:\n",
        "\n",
        "        optimizer.zero_grad()\n",
        "\n",
        "        probs = head_model(vectors)\n",
        "        pred = torch.argmax(probs, axis = 1)\n",
        "        one_hot = torch.zeros(len(probs), num_classes)\n",
        "        one_hot[torch.arange(len(one_hot)), labels] = 1\n",
        "        loss = loss_fn(probs, one_hot)\n",
        "\n",
        "        losses.append(loss)\n",
        "        loss.backward()\n",
        "        optimizer.step()\n",
        "    mean_loss = torch.Tensor(losses).mean(axis=0).item()\n",
        "    print(f'Epoch: {i}, Loss: {mean_loss}')\n",
        "  hits1, hits5, hits10, hits20, hits50, hits100, map1, map5, map10, map20, map50, map100, ndcg1, ndcg5, ndcg10, ndcg20, ndcg50, ndcg100 = test(head_model)\n",
        "  print_metrics(hits1, hits5, hits10, hits20, hits50, hits100, map1, map5, map10, map20, map50, map100, ndcg1, ndcg5, ndcg10, ndcg20, ndcg50, ndcg100)\n",
        "  return head_model"
      ]
    },
    {
      "cell_type": "markdown",
      "source": [
        "### Node mix augmentation, only infomax"
      ],
      "metadata": {
        "id": "asZZVWJWgTt5"
      }
    },
    {
      "cell_type": "code",
      "source": [
        "# device = torch.device('cuda' if torch.cuda.is_available() else 'cpu')\n",
        "device = torch.device('cpu')\n",
        "model = DeepGraphInfomax(hidden_channels=128,\n",
        "                         encoder=Encoder(interm_channels=74, hidden_channels=128,\n",
        "                                         num_features=128),\n",
        "                         summary=lambda z, *args, **kwargs: torch.sigmoid(z.mean(dim=0)),\n",
        "                         corruption=node_mix).to(device)\n",
        "linkmodel = LinkPredHead()\n",
        "optimizer = torch.optim.AdamW(model.parameters(), lr=0.0005)\n",
        "loss_bce = nn.BCEWithLogitsLoss()"
      ],
      "metadata": {
        "id": "puaOr6u2e8QW"
      },
      "execution_count": 42,
      "outputs": []
    },
    {
      "cell_type": "code",
      "source": [
        "num_epoch = 100\n",
        "loss_epoch = []\n",
        "for epoch in tqdm(range(1, num_epoch+1)):\n",
        "  if epoch == num_epoch:\n",
        "    pos_z, neg_z, summary, loss = train_only_infomax(epoch)\n",
        "  else:\n",
        "    loss = train_only_infomax(epoch)\n",
        "  loss_epoch.append(loss)"
      ],
      "metadata": {
        "colab": {
          "base_uri": "https://localhost:8080/"
        },
        "id": "2XCxNiRSSMrq",
        "outputId": "e07f4b90-3495-43f8-b291-95e254361dad"
      },
      "execution_count": 54,
      "outputs": [
        {
          "output_type": "stream",
          "name": "stderr",
          "text": [
            "  1%|          | 1/100 [00:09<15:58,  9.68s/it]"
          ]
        },
        {
          "output_type": "stream",
          "name": "stdout",
          "text": [
            "Epoch: 1, Loss: 0.3002675175666809\n"
          ]
        },
        {
          "output_type": "stream",
          "name": "stderr",
          "text": [
            "\r  2%|▏         | 2/100 [00:16<13:11,  8.07s/it]"
          ]
        },
        {
          "output_type": "stream",
          "name": "stdout",
          "text": [
            "Epoch: 2, Loss: 0.30694717168807983\n"
          ]
        },
        {
          "output_type": "stream",
          "name": "stderr",
          "text": [
            "\r  3%|▎         | 3/100 [00:22<11:45,  7.27s/it]"
          ]
        },
        {
          "output_type": "stream",
          "name": "stdout",
          "text": [
            "Epoch: 3, Loss: 0.26518505811691284\n"
          ]
        },
        {
          "output_type": "stream",
          "name": "stderr",
          "text": [
            "\r  4%|▍         | 4/100 [00:30<11:35,  7.25s/it]"
          ]
        },
        {
          "output_type": "stream",
          "name": "stdout",
          "text": [
            "Epoch: 4, Loss: 0.37640535831451416\n"
          ]
        },
        {
          "output_type": "stream",
          "name": "stderr",
          "text": [
            "\r  5%|▌         | 5/100 [00:37<11:20,  7.16s/it]"
          ]
        },
        {
          "output_type": "stream",
          "name": "stdout",
          "text": [
            "Epoch: 5, Loss: 0.23803697526454926\n"
          ]
        },
        {
          "output_type": "stream",
          "name": "stderr",
          "text": [
            "\r  6%|▌         | 6/100 [00:43<10:57,  7.00s/it]"
          ]
        },
        {
          "output_type": "stream",
          "name": "stdout",
          "text": [
            "Epoch: 6, Loss: 0.3896709084510803\n"
          ]
        },
        {
          "output_type": "stream",
          "name": "stderr",
          "text": [
            "\r  7%|▋         | 7/100 [00:49<10:17,  6.64s/it]"
          ]
        },
        {
          "output_type": "stream",
          "name": "stdout",
          "text": [
            "Epoch: 7, Loss: 0.22360339760780334\n"
          ]
        },
        {
          "output_type": "stream",
          "name": "stderr",
          "text": [
            "\r  8%|▊         | 8/100 [00:56<10:09,  6.63s/it]"
          ]
        },
        {
          "output_type": "stream",
          "name": "stdout",
          "text": [
            "Epoch: 8, Loss: 0.2510923445224762\n"
          ]
        },
        {
          "output_type": "stream",
          "name": "stderr",
          "text": [
            "\r  9%|▉         | 9/100 [01:02<09:38,  6.36s/it]"
          ]
        },
        {
          "output_type": "stream",
          "name": "stdout",
          "text": [
            "Epoch: 9, Loss: 0.16009752452373505\n"
          ]
        },
        {
          "output_type": "stream",
          "name": "stderr",
          "text": [
            "\r 10%|█         | 10/100 [01:08<09:41,  6.46s/it]"
          ]
        },
        {
          "output_type": "stream",
          "name": "stdout",
          "text": [
            "Epoch: 10, Loss: 0.15542955696582794\n"
          ]
        },
        {
          "output_type": "stream",
          "name": "stderr",
          "text": [
            "\r 11%|█         | 11/100 [01:14<09:19,  6.29s/it]"
          ]
        },
        {
          "output_type": "stream",
          "name": "stdout",
          "text": [
            "Epoch: 11, Loss: 0.1545710563659668\n"
          ]
        },
        {
          "output_type": "stream",
          "name": "stderr",
          "text": [
            "\r 12%|█▏        | 12/100 [01:21<09:20,  6.37s/it]"
          ]
        },
        {
          "output_type": "stream",
          "name": "stdout",
          "text": [
            "Epoch: 12, Loss: 0.4257308840751648\n"
          ]
        },
        {
          "output_type": "stream",
          "name": "stderr",
          "text": [
            "\r 13%|█▎        | 13/100 [01:27<09:07,  6.29s/it]"
          ]
        },
        {
          "output_type": "stream",
          "name": "stdout",
          "text": [
            "Epoch: 13, Loss: 0.2021554410457611\n"
          ]
        },
        {
          "output_type": "stream",
          "name": "stderr",
          "text": [
            "\r 14%|█▍        | 14/100 [01:34<09:20,  6.52s/it]"
          ]
        },
        {
          "output_type": "stream",
          "name": "stdout",
          "text": [
            "Epoch: 14, Loss: 0.1513550579547882\n"
          ]
        },
        {
          "output_type": "stream",
          "name": "stderr",
          "text": [
            "\r 15%|█▌        | 15/100 [01:40<09:01,  6.37s/it]"
          ]
        },
        {
          "output_type": "stream",
          "name": "stdout",
          "text": [
            "Epoch: 15, Loss: 0.13279816508293152\n"
          ]
        },
        {
          "output_type": "stream",
          "name": "stderr",
          "text": [
            "\r 16%|█▌        | 16/100 [01:47<09:11,  6.56s/it]"
          ]
        },
        {
          "output_type": "stream",
          "name": "stdout",
          "text": [
            "Epoch: 16, Loss: 0.2059984803199768\n"
          ]
        },
        {
          "output_type": "stream",
          "name": "stderr",
          "text": [
            "\r 17%|█▋        | 17/100 [01:53<08:51,  6.41s/it]"
          ]
        },
        {
          "output_type": "stream",
          "name": "stdout",
          "text": [
            "Epoch: 17, Loss: 0.2528940737247467\n"
          ]
        },
        {
          "output_type": "stream",
          "name": "stderr",
          "text": [
            "\r 18%|█▊        | 18/100 [02:00<08:51,  6.48s/it]"
          ]
        },
        {
          "output_type": "stream",
          "name": "stdout",
          "text": [
            "Epoch: 18, Loss: 0.2083817422389984\n"
          ]
        },
        {
          "output_type": "stream",
          "name": "stderr",
          "text": [
            "\r 19%|█▉        | 19/100 [02:05<08:25,  6.25s/it]"
          ]
        },
        {
          "output_type": "stream",
          "name": "stdout",
          "text": [
            "Epoch: 19, Loss: 0.17879986763000488\n"
          ]
        },
        {
          "output_type": "stream",
          "name": "stderr",
          "text": [
            "\r 20%|██        | 20/100 [02:13<08:43,  6.54s/it]"
          ]
        },
        {
          "output_type": "stream",
          "name": "stdout",
          "text": [
            "Epoch: 20, Loss: 0.1757945716381073\n"
          ]
        },
        {
          "output_type": "stream",
          "name": "stderr",
          "text": [
            "\r 21%|██        | 21/100 [02:19<08:33,  6.50s/it]"
          ]
        },
        {
          "output_type": "stream",
          "name": "stdout",
          "text": [
            "Epoch: 21, Loss: 0.23683615028858185\n"
          ]
        },
        {
          "output_type": "stream",
          "name": "stderr",
          "text": [
            "\r 22%|██▏       | 22/100 [02:26<08:45,  6.73s/it]"
          ]
        },
        {
          "output_type": "stream",
          "name": "stdout",
          "text": [
            "Epoch: 22, Loss: 0.15496590733528137\n"
          ]
        },
        {
          "output_type": "stream",
          "name": "stderr",
          "text": [
            "\r 23%|██▎       | 23/100 [02:33<08:27,  6.59s/it]"
          ]
        },
        {
          "output_type": "stream",
          "name": "stdout",
          "text": [
            "Epoch: 23, Loss: 0.14650748670101166\n"
          ]
        },
        {
          "output_type": "stream",
          "name": "stderr",
          "text": [
            "\r 24%|██▍       | 24/100 [02:39<08:29,  6.70s/it]"
          ]
        },
        {
          "output_type": "stream",
          "name": "stdout",
          "text": [
            "Epoch: 24, Loss: 0.1578107476234436\n"
          ]
        },
        {
          "output_type": "stream",
          "name": "stderr",
          "text": [
            "\r 25%|██▌       | 25/100 [02:46<08:10,  6.54s/it]"
          ]
        },
        {
          "output_type": "stream",
          "name": "stdout",
          "text": [
            "Epoch: 25, Loss: 0.2268022894859314\n"
          ]
        },
        {
          "output_type": "stream",
          "name": "stderr",
          "text": [
            "\r 26%|██▌       | 26/100 [02:53<08:13,  6.67s/it]"
          ]
        },
        {
          "output_type": "stream",
          "name": "stdout",
          "text": [
            "Epoch: 26, Loss: 0.14022402465343475\n"
          ]
        },
        {
          "output_type": "stream",
          "name": "stderr",
          "text": [
            "\r 27%|██▋       | 27/100 [02:59<07:53,  6.49s/it]"
          ]
        },
        {
          "output_type": "stream",
          "name": "stdout",
          "text": [
            "Epoch: 27, Loss: 0.16834306716918945\n"
          ]
        },
        {
          "output_type": "stream",
          "name": "stderr",
          "text": [
            "\r 28%|██▊       | 28/100 [03:05<07:53,  6.57s/it]"
          ]
        },
        {
          "output_type": "stream",
          "name": "stdout",
          "text": [
            "Epoch: 28, Loss: 0.2711249589920044\n"
          ]
        },
        {
          "output_type": "stream",
          "name": "stderr",
          "text": [
            "\r 29%|██▉       | 29/100 [03:12<07:35,  6.41s/it]"
          ]
        },
        {
          "output_type": "stream",
          "name": "stdout",
          "text": [
            "Epoch: 29, Loss: 0.170964777469635\n"
          ]
        },
        {
          "output_type": "stream",
          "name": "stderr",
          "text": [
            "\r 30%|███       | 30/100 [03:18<07:35,  6.51s/it]"
          ]
        },
        {
          "output_type": "stream",
          "name": "stdout",
          "text": [
            "Epoch: 30, Loss: 0.20412488281726837\n"
          ]
        },
        {
          "output_type": "stream",
          "name": "stderr",
          "text": [
            "\r 31%|███       | 31/100 [03:24<07:16,  6.32s/it]"
          ]
        },
        {
          "output_type": "stream",
          "name": "stdout",
          "text": [
            "Epoch: 31, Loss: 0.15708477795124054\n"
          ]
        },
        {
          "output_type": "stream",
          "name": "stderr",
          "text": [
            "\r 32%|███▏      | 32/100 [03:31<07:16,  6.42s/it]"
          ]
        },
        {
          "output_type": "stream",
          "name": "stdout",
          "text": [
            "Epoch: 32, Loss: 0.15989485383033752\n"
          ]
        },
        {
          "output_type": "stream",
          "name": "stderr",
          "text": [
            "\r 33%|███▎      | 33/100 [03:36<06:55,  6.20s/it]"
          ]
        },
        {
          "output_type": "stream",
          "name": "stdout",
          "text": [
            "Epoch: 33, Loss: 0.15788307785987854\n"
          ]
        },
        {
          "output_type": "stream",
          "name": "stderr",
          "text": [
            "\r 34%|███▍      | 34/100 [03:43<06:58,  6.34s/it]"
          ]
        },
        {
          "output_type": "stream",
          "name": "stdout",
          "text": [
            "Epoch: 34, Loss: 0.19117417931556702\n"
          ]
        },
        {
          "output_type": "stream",
          "name": "stderr",
          "text": [
            "\r 35%|███▌      | 35/100 [03:49<06:38,  6.14s/it]"
          ]
        },
        {
          "output_type": "stream",
          "name": "stdout",
          "text": [
            "Epoch: 35, Loss: 0.15301983058452606\n"
          ]
        },
        {
          "output_type": "stream",
          "name": "stderr",
          "text": [
            "\r 36%|███▌      | 36/100 [03:56<06:45,  6.33s/it]"
          ]
        },
        {
          "output_type": "stream",
          "name": "stdout",
          "text": [
            "Epoch: 36, Loss: 0.16762995719909668\n"
          ]
        },
        {
          "output_type": "stream",
          "name": "stderr",
          "text": [
            "\r 37%|███▋      | 37/100 [04:01<06:30,  6.19s/it]"
          ]
        },
        {
          "output_type": "stream",
          "name": "stdout",
          "text": [
            "Epoch: 37, Loss: 0.20510390400886536\n"
          ]
        },
        {
          "output_type": "stream",
          "name": "stderr",
          "text": [
            "\r 38%|███▊      | 38/100 [04:08<06:30,  6.29s/it]"
          ]
        },
        {
          "output_type": "stream",
          "name": "stdout",
          "text": [
            "Epoch: 38, Loss: 0.22311821579933167\n"
          ]
        },
        {
          "output_type": "stream",
          "name": "stderr",
          "text": [
            "\r 39%|███▉      | 39/100 [04:14<06:13,  6.13s/it]"
          ]
        },
        {
          "output_type": "stream",
          "name": "stdout",
          "text": [
            "Epoch: 39, Loss: 0.16185416281223297\n"
          ]
        },
        {
          "output_type": "stream",
          "name": "stderr",
          "text": [
            "\r 40%|████      | 40/100 [04:21<06:19,  6.33s/it]"
          ]
        },
        {
          "output_type": "stream",
          "name": "stdout",
          "text": [
            "Epoch: 40, Loss: 0.1469678282737732\n"
          ]
        },
        {
          "output_type": "stream",
          "name": "stderr",
          "text": [
            "\r 41%|████      | 41/100 [04:26<06:03,  6.16s/it]"
          ]
        },
        {
          "output_type": "stream",
          "name": "stdout",
          "text": [
            "Epoch: 41, Loss: 0.13009658455848694\n"
          ]
        },
        {
          "output_type": "stream",
          "name": "stderr",
          "text": [
            "\r 42%|████▏     | 42/100 [04:33<06:05,  6.29s/it]"
          ]
        },
        {
          "output_type": "stream",
          "name": "stdout",
          "text": [
            "Epoch: 42, Loss: 0.205097496509552\n"
          ]
        },
        {
          "output_type": "stream",
          "name": "stderr",
          "text": [
            "\r 43%|████▎     | 43/100 [04:39<05:58,  6.29s/it]"
          ]
        },
        {
          "output_type": "stream",
          "name": "stdout",
          "text": [
            "Epoch: 43, Loss: 0.16404470801353455\n"
          ]
        },
        {
          "output_type": "stream",
          "name": "stderr",
          "text": [
            "\r 44%|████▍     | 44/100 [04:46<05:59,  6.42s/it]"
          ]
        },
        {
          "output_type": "stream",
          "name": "stdout",
          "text": [
            "Epoch: 44, Loss: 0.13248814642429352\n"
          ]
        },
        {
          "output_type": "stream",
          "name": "stderr",
          "text": [
            "\r 45%|████▌     | 45/100 [04:52<05:47,  6.31s/it]"
          ]
        },
        {
          "output_type": "stream",
          "name": "stdout",
          "text": [
            "Epoch: 45, Loss: 0.22499555349349976\n"
          ]
        },
        {
          "output_type": "stream",
          "name": "stderr",
          "text": [
            "\r 46%|████▌     | 46/100 [04:59<05:51,  6.52s/it]"
          ]
        },
        {
          "output_type": "stream",
          "name": "stdout",
          "text": [
            "Epoch: 46, Loss: 0.15422075986862183\n"
          ]
        },
        {
          "output_type": "stream",
          "name": "stderr",
          "text": [
            "\r 47%|████▋     | 47/100 [05:05<05:38,  6.39s/it]"
          ]
        },
        {
          "output_type": "stream",
          "name": "stdout",
          "text": [
            "Epoch: 47, Loss: 0.15052026510238647\n"
          ]
        },
        {
          "output_type": "stream",
          "name": "stderr",
          "text": [
            "\r 48%|████▊     | 48/100 [05:12<05:41,  6.56s/it]"
          ]
        },
        {
          "output_type": "stream",
          "name": "stdout",
          "text": [
            "Epoch: 48, Loss: 0.14086061716079712\n"
          ]
        },
        {
          "output_type": "stream",
          "name": "stderr",
          "text": [
            "\r 49%|████▉     | 49/100 [05:18<05:33,  6.54s/it]"
          ]
        },
        {
          "output_type": "stream",
          "name": "stdout",
          "text": [
            "Epoch: 49, Loss: 0.24439141154289246\n"
          ]
        },
        {
          "output_type": "stream",
          "name": "stderr",
          "text": [
            "\r 50%|█████     | 50/100 [05:26<05:34,  6.70s/it]"
          ]
        },
        {
          "output_type": "stream",
          "name": "stdout",
          "text": [
            "Epoch: 50, Loss: 0.1890474557876587\n"
          ]
        },
        {
          "output_type": "stream",
          "name": "stderr",
          "text": [
            "\r 51%|█████     | 51/100 [05:32<05:17,  6.47s/it]"
          ]
        },
        {
          "output_type": "stream",
          "name": "stdout",
          "text": [
            "Epoch: 51, Loss: 0.15591935813426971\n"
          ]
        },
        {
          "output_type": "stream",
          "name": "stderr",
          "text": [
            "\r 52%|█████▏    | 52/100 [05:38<05:11,  6.48s/it]"
          ]
        },
        {
          "output_type": "stream",
          "name": "stdout",
          "text": [
            "Epoch: 52, Loss: 0.13176171481609344\n"
          ]
        },
        {
          "output_type": "stream",
          "name": "stderr",
          "text": [
            "\r 53%|█████▎    | 53/100 [05:44<04:54,  6.26s/it]"
          ]
        },
        {
          "output_type": "stream",
          "name": "stdout",
          "text": [
            "Epoch: 53, Loss: 0.1342114806175232\n"
          ]
        },
        {
          "output_type": "stream",
          "name": "stderr",
          "text": [
            "\r 54%|█████▍    | 54/100 [05:50<04:52,  6.36s/it]"
          ]
        },
        {
          "output_type": "stream",
          "name": "stdout",
          "text": [
            "Epoch: 54, Loss: 0.15334489941596985\n"
          ]
        },
        {
          "output_type": "stream",
          "name": "stderr",
          "text": [
            "\r 55%|█████▌    | 55/100 [05:56<04:40,  6.24s/it]"
          ]
        },
        {
          "output_type": "stream",
          "name": "stdout",
          "text": [
            "Epoch: 55, Loss: 0.1330406367778778\n"
          ]
        },
        {
          "output_type": "stream",
          "name": "stderr",
          "text": [
            "\r 56%|█████▌    | 56/100 [06:06<05:16,  7.18s/it]"
          ]
        },
        {
          "output_type": "stream",
          "name": "stdout",
          "text": [
            "Epoch: 56, Loss: 0.13244040310382843\n"
          ]
        },
        {
          "output_type": "stream",
          "name": "stderr",
          "text": [
            "\r 57%|█████▋    | 57/100 [06:17<06:08,  8.57s/it]"
          ]
        },
        {
          "output_type": "stream",
          "name": "stdout",
          "text": [
            "Epoch: 57, Loss: 0.14043393731117249\n"
          ]
        },
        {
          "output_type": "stream",
          "name": "stderr",
          "text": [
            "\r 58%|█████▊    | 58/100 [06:24<05:37,  8.04s/it]"
          ]
        },
        {
          "output_type": "stream",
          "name": "stdout",
          "text": [
            "Epoch: 58, Loss: 0.21874941885471344\n"
          ]
        },
        {
          "output_type": "stream",
          "name": "stderr",
          "text": [
            "\r 59%|█████▉    | 59/100 [06:31<05:18,  7.77s/it]"
          ]
        },
        {
          "output_type": "stream",
          "name": "stdout",
          "text": [
            "Epoch: 59, Loss: 0.14789608120918274\n"
          ]
        },
        {
          "output_type": "stream",
          "name": "stderr",
          "text": [
            "\r 60%|██████    | 60/100 [06:38<04:51,  7.28s/it]"
          ]
        },
        {
          "output_type": "stream",
          "name": "stdout",
          "text": [
            "Epoch: 60, Loss: 0.14554563164710999\n"
          ]
        },
        {
          "output_type": "stream",
          "name": "stderr",
          "text": [
            "\r 61%|██████    | 61/100 [06:44<04:38,  7.14s/it]"
          ]
        },
        {
          "output_type": "stream",
          "name": "stdout",
          "text": [
            "Epoch: 61, Loss: 0.14839476346969604\n"
          ]
        },
        {
          "output_type": "stream",
          "name": "stderr",
          "text": [
            "\r 62%|██████▏   | 62/100 [06:50<04:16,  6.76s/it]"
          ]
        },
        {
          "output_type": "stream",
          "name": "stdout",
          "text": [
            "Epoch: 62, Loss: 0.1151055246591568\n"
          ]
        },
        {
          "output_type": "stream",
          "name": "stderr",
          "text": [
            "\r 63%|██████▎   | 63/100 [06:57<04:09,  6.73s/it]"
          ]
        },
        {
          "output_type": "stream",
          "name": "stdout",
          "text": [
            "Epoch: 63, Loss: 0.1547539234161377\n"
          ]
        },
        {
          "output_type": "stream",
          "name": "stderr",
          "text": [
            "\r 64%|██████▍   | 64/100 [07:03<03:51,  6.42s/it]"
          ]
        },
        {
          "output_type": "stream",
          "name": "stdout",
          "text": [
            "Epoch: 64, Loss: 0.14166928827762604\n"
          ]
        },
        {
          "output_type": "stream",
          "name": "stderr",
          "text": [
            "\r 65%|██████▌   | 65/100 [07:09<03:45,  6.45s/it]"
          ]
        },
        {
          "output_type": "stream",
          "name": "stdout",
          "text": [
            "Epoch: 65, Loss: 0.14612534642219543\n"
          ]
        },
        {
          "output_type": "stream",
          "name": "stderr",
          "text": [
            "\r 66%|██████▌   | 66/100 [07:15<03:32,  6.25s/it]"
          ]
        },
        {
          "output_type": "stream",
          "name": "stdout",
          "text": [
            "Epoch: 66, Loss: 0.12506693601608276\n"
          ]
        },
        {
          "output_type": "stream",
          "name": "stderr",
          "text": [
            "\r 67%|██████▋   | 67/100 [07:21<03:29,  6.34s/it]"
          ]
        },
        {
          "output_type": "stream",
          "name": "stdout",
          "text": [
            "Epoch: 67, Loss: 0.19205403327941895\n"
          ]
        },
        {
          "output_type": "stream",
          "name": "stderr",
          "text": [
            "\r 68%|██████▊   | 68/100 [07:27<03:18,  6.21s/it]"
          ]
        },
        {
          "output_type": "stream",
          "name": "stdout",
          "text": [
            "Epoch: 68, Loss: 0.126337468624115\n"
          ]
        },
        {
          "output_type": "stream",
          "name": "stderr",
          "text": [
            "\r 69%|██████▉   | 69/100 [07:34<03:16,  6.35s/it]"
          ]
        },
        {
          "output_type": "stream",
          "name": "stdout",
          "text": [
            "Epoch: 69, Loss: 0.181796133518219\n"
          ]
        },
        {
          "output_type": "stream",
          "name": "stderr",
          "text": [
            "\r 70%|███████   | 70/100 [07:40<03:05,  6.17s/it]"
          ]
        },
        {
          "output_type": "stream",
          "name": "stdout",
          "text": [
            "Epoch: 70, Loss: 0.1407671570777893\n"
          ]
        },
        {
          "output_type": "stream",
          "name": "stderr",
          "text": [
            "\r 71%|███████   | 71/100 [07:46<03:03,  6.33s/it]"
          ]
        },
        {
          "output_type": "stream",
          "name": "stdout",
          "text": [
            "Epoch: 71, Loss: 0.19136682152748108\n"
          ]
        },
        {
          "output_type": "stream",
          "name": "stderr",
          "text": [
            "\r 72%|███████▏  | 72/100 [07:52<02:51,  6.14s/it]"
          ]
        },
        {
          "output_type": "stream",
          "name": "stdout",
          "text": [
            "Epoch: 72, Loss: 0.1800568848848343\n"
          ]
        },
        {
          "output_type": "stream",
          "name": "stderr",
          "text": [
            "\r 73%|███████▎  | 73/100 [07:59<02:48,  6.26s/it]"
          ]
        },
        {
          "output_type": "stream",
          "name": "stdout",
          "text": [
            "Epoch: 73, Loss: 0.14817996323108673\n"
          ]
        },
        {
          "output_type": "stream",
          "name": "stderr",
          "text": [
            "\r 74%|███████▍  | 74/100 [08:04<02:37,  6.07s/it]"
          ]
        },
        {
          "output_type": "stream",
          "name": "stdout",
          "text": [
            "Epoch: 74, Loss: 0.17347538471221924\n"
          ]
        },
        {
          "output_type": "stream",
          "name": "stderr",
          "text": [
            "\r 75%|███████▌  | 75/100 [08:11<02:35,  6.22s/it]"
          ]
        },
        {
          "output_type": "stream",
          "name": "stdout",
          "text": [
            "Epoch: 75, Loss: 0.1272200644016266\n"
          ]
        },
        {
          "output_type": "stream",
          "name": "stderr",
          "text": [
            "\r 76%|███████▌  | 76/100 [08:17<02:25,  6.08s/it]"
          ]
        },
        {
          "output_type": "stream",
          "name": "stdout",
          "text": [
            "Epoch: 76, Loss: 0.1569189876317978\n"
          ]
        },
        {
          "output_type": "stream",
          "name": "stderr",
          "text": [
            "\r 77%|███████▋  | 77/100 [08:23<02:24,  6.30s/it]"
          ]
        },
        {
          "output_type": "stream",
          "name": "stdout",
          "text": [
            "Epoch: 77, Loss: 0.12976409494876862\n"
          ]
        },
        {
          "output_type": "stream",
          "name": "stderr",
          "text": [
            "\r 78%|███████▊  | 78/100 [08:30<02:20,  6.41s/it]"
          ]
        },
        {
          "output_type": "stream",
          "name": "stdout",
          "text": [
            "Epoch: 78, Loss: 0.14737485349178314\n"
          ]
        },
        {
          "output_type": "stream",
          "name": "stderr",
          "text": [
            "\r 79%|███████▉  | 79/100 [08:38<02:20,  6.71s/it]"
          ]
        },
        {
          "output_type": "stream",
          "name": "stdout",
          "text": [
            "Epoch: 79, Loss: 0.15660804510116577\n"
          ]
        },
        {
          "output_type": "stream",
          "name": "stderr",
          "text": [
            "\r 80%|████████  | 80/100 [08:43<02:08,  6.43s/it]"
          ]
        },
        {
          "output_type": "stream",
          "name": "stdout",
          "text": [
            "Epoch: 80, Loss: 0.13563519716262817\n"
          ]
        },
        {
          "output_type": "stream",
          "name": "stderr",
          "text": [
            "\r 81%|████████  | 81/100 [08:50<02:02,  6.47s/it]"
          ]
        },
        {
          "output_type": "stream",
          "name": "stdout",
          "text": [
            "Epoch: 81, Loss: 0.1281663030385971\n"
          ]
        },
        {
          "output_type": "stream",
          "name": "stderr",
          "text": [
            "\r 82%|████████▏ | 82/100 [08:56<01:52,  6.23s/it]"
          ]
        },
        {
          "output_type": "stream",
          "name": "stdout",
          "text": [
            "Epoch: 82, Loss: 0.19340670108795166\n"
          ]
        },
        {
          "output_type": "stream",
          "name": "stderr",
          "text": [
            "\r 83%|████████▎ | 83/100 [09:02<01:47,  6.32s/it]"
          ]
        },
        {
          "output_type": "stream",
          "name": "stdout",
          "text": [
            "Epoch: 83, Loss: 0.1464885026216507\n"
          ]
        },
        {
          "output_type": "stream",
          "name": "stderr",
          "text": [
            "\r 84%|████████▍ | 84/100 [09:08<01:40,  6.27s/it]"
          ]
        },
        {
          "output_type": "stream",
          "name": "stdout",
          "text": [
            "Epoch: 84, Loss: 0.15055608749389648\n"
          ]
        },
        {
          "output_type": "stream",
          "name": "stderr",
          "text": [
            "\r 85%|████████▌ | 85/100 [09:15<01:36,  6.44s/it]"
          ]
        },
        {
          "output_type": "stream",
          "name": "stdout",
          "text": [
            "Epoch: 85, Loss: 0.14342889189720154\n"
          ]
        },
        {
          "output_type": "stream",
          "name": "stderr",
          "text": [
            "\r 86%|████████▌ | 86/100 [09:21<01:27,  6.26s/it]"
          ]
        },
        {
          "output_type": "stream",
          "name": "stdout",
          "text": [
            "Epoch: 86, Loss: 0.13952520489692688\n"
          ]
        },
        {
          "output_type": "stream",
          "name": "stderr",
          "text": [
            "\r 87%|████████▋ | 87/100 [09:27<01:22,  6.35s/it]"
          ]
        },
        {
          "output_type": "stream",
          "name": "stdout",
          "text": [
            "Epoch: 87, Loss: 0.12110862135887146\n"
          ]
        },
        {
          "output_type": "stream",
          "name": "stderr",
          "text": [
            "\r 88%|████████▊ | 88/100 [09:33<01:14,  6.18s/it]"
          ]
        },
        {
          "output_type": "stream",
          "name": "stdout",
          "text": [
            "Epoch: 88, Loss: 0.15002602338790894\n"
          ]
        },
        {
          "output_type": "stream",
          "name": "stderr",
          "text": [
            "\r 89%|████████▉ | 89/100 [09:40<01:09,  6.32s/it]"
          ]
        },
        {
          "output_type": "stream",
          "name": "stdout",
          "text": [
            "Epoch: 89, Loss: 0.11163340508937836\n"
          ]
        },
        {
          "output_type": "stream",
          "name": "stderr",
          "text": [
            "\r 90%|█████████ | 90/100 [09:46<01:01,  6.17s/it]"
          ]
        },
        {
          "output_type": "stream",
          "name": "stdout",
          "text": [
            "Epoch: 90, Loss: 0.10398396849632263\n"
          ]
        },
        {
          "output_type": "stream",
          "name": "stderr",
          "text": [
            "\r 91%|█████████ | 91/100 [09:52<00:56,  6.31s/it]"
          ]
        },
        {
          "output_type": "stream",
          "name": "stdout",
          "text": [
            "Epoch: 91, Loss: 0.13373365998268127\n"
          ]
        },
        {
          "output_type": "stream",
          "name": "stderr",
          "text": [
            "\r 92%|█████████▏| 92/100 [09:59<00:51,  6.43s/it]"
          ]
        },
        {
          "output_type": "stream",
          "name": "stdout",
          "text": [
            "Epoch: 92, Loss: 0.14581242203712463\n"
          ]
        },
        {
          "output_type": "stream",
          "name": "stderr",
          "text": [
            "\r 93%|█████████▎| 93/100 [10:05<00:44,  6.34s/it]"
          ]
        },
        {
          "output_type": "stream",
          "name": "stdout",
          "text": [
            "Epoch: 93, Loss: 0.12000899016857147\n"
          ]
        },
        {
          "output_type": "stream",
          "name": "stderr",
          "text": [
            "\r 94%|█████████▍| 94/100 [10:12<00:38,  6.48s/it]"
          ]
        },
        {
          "output_type": "stream",
          "name": "stdout",
          "text": [
            "Epoch: 94, Loss: 0.13284677267074585\n"
          ]
        },
        {
          "output_type": "stream",
          "name": "stderr",
          "text": [
            "\r 95%|█████████▌| 95/100 [10:18<00:32,  6.42s/it]"
          ]
        },
        {
          "output_type": "stream",
          "name": "stdout",
          "text": [
            "Epoch: 95, Loss: 0.15432047843933105\n"
          ]
        },
        {
          "output_type": "stream",
          "name": "stderr",
          "text": [
            "\r 96%|█████████▌| 96/100 [10:25<00:25,  6.41s/it]"
          ]
        },
        {
          "output_type": "stream",
          "name": "stdout",
          "text": [
            "Epoch: 96, Loss: 0.1384410858154297\n"
          ]
        },
        {
          "output_type": "stream",
          "name": "stderr",
          "text": [
            "\r 97%|█████████▋| 97/100 [10:31<00:18,  6.30s/it]"
          ]
        },
        {
          "output_type": "stream",
          "name": "stdout",
          "text": [
            "Epoch: 97, Loss: 0.19565926492214203\n"
          ]
        },
        {
          "output_type": "stream",
          "name": "stderr",
          "text": [
            "\r 98%|█████████▊| 98/100 [10:37<00:12,  6.31s/it]"
          ]
        },
        {
          "output_type": "stream",
          "name": "stdout",
          "text": [
            "Epoch: 98, Loss: 0.10686999559402466\n"
          ]
        },
        {
          "output_type": "stream",
          "name": "stderr",
          "text": [
            "\r 99%|█████████▉| 99/100 [10:43<00:06,  6.23s/it]"
          ]
        },
        {
          "output_type": "stream",
          "name": "stdout",
          "text": [
            "Epoch: 99, Loss: 0.1630438268184662\n"
          ]
        },
        {
          "output_type": "stream",
          "name": "stderr",
          "text": [
            "100%|██████████| 100/100 [10:50<00:00,  6.50s/it]"
          ]
        },
        {
          "output_type": "stream",
          "name": "stdout",
          "text": [
            "Epoch: 100, Loss: 0.13529092073440552\n"
          ]
        },
        {
          "output_type": "stream",
          "name": "stderr",
          "text": [
            "\n"
          ]
        }
      ]
    },
    {
      "cell_type": "code",
      "source": [
        "final_user_representations = {}\n",
        "repr = pos_z\n",
        "for i in range(pos_z.shape[0]):\n",
        "  final_user_representations[i] = (i, repr[i].detach(), user_representations[i][1])"
      ],
      "metadata": {
        "id": "h9JYHVfSSW8F"
      },
      "execution_count": 55,
      "outputs": []
    },
    {
      "cell_type": "code",
      "execution_count": 56,
      "metadata": {
        "id": "uTh8tKwfiLZ_"
      },
      "outputs": [],
      "source": [
        "user_dataset = UserDataset(final_user_representations)\n",
        "\n",
        "n = len(user_dataset)\n",
        "\n",
        "indices = np.arange(n)\n",
        "indices = np.random.permutation(indices)\n",
        "\n",
        "train_indices = indices [:int(0.8*n)]\n",
        "test_indices = indices[int(0.8*n):]\n",
        "\n",
        "user_train_dataset = Subset(user_dataset, train_indices)\n",
        "user_test_dataset = Subset(user_dataset, test_indices)\n",
        "\n",
        "user_train_dataloader = DataLoader(user_train_dataset, batch_size=64, shuffle=True)\n",
        "user_test_dataloader = DataLoader(user_test_dataset, batch_size=64, shuffle=True)"
      ]
    },
    {
      "cell_type": "code",
      "execution_count": 57,
      "metadata": {
        "id": "oObW1gnhkJzf"
      },
      "outputs": [],
      "source": [
        "num_classes = 186\n",
        "classes = np.arange(0, num_classes)"
      ]
    },
    {
      "cell_type": "code",
      "source": [
        "head_model = train2task()\n",
        "torch.save(head_model.state_dict(), 'node_mix_only_infomax_model.pth')"
      ],
      "metadata": {
        "id": "UtirFmXjg-mq",
        "colab": {
          "base_uri": "https://localhost:8080/"
        },
        "outputId": "2f8d0541-9f20-4c85-84d1-0c4c5ffc889b"
      },
      "execution_count": 58,
      "outputs": [
        {
          "output_type": "stream",
          "name": "stdout",
          "text": [
            "Epoch: 0, Loss: 4.285384654998779\n",
            "Epoch: 1, Loss: 4.190764904022217\n",
            "Epoch: 2, Loss: 4.137697696685791\n",
            "Epoch: 3, Loss: 4.099329948425293\n",
            "Epoch: 4, Loss: 4.069395542144775\n",
            "Epoch: 5, Loss: 4.044259071350098\n",
            "Epoch: 6, Loss: 4.022629261016846\n",
            "Epoch: 7, Loss: 4.003567695617676\n",
            "Epoch: 8, Loss: 3.9867825508117676\n",
            "Epoch: 9, Loss: 3.971529960632324\n",
            "Epoch: 10, Loss: 3.957684278488159\n",
            "Epoch: 11, Loss: 3.9449241161346436\n",
            "Epoch: 12, Loss: 3.933150291442871\n",
            "Epoch: 13, Loss: 3.9221835136413574\n",
            "Epoch: 14, Loss: 3.911931276321411\n",
            "Epoch: 15, Loss: 3.902322292327881\n",
            "Epoch: 16, Loss: 3.8933143615722656\n",
            "Epoch: 17, Loss: 3.8847427368164062\n",
            "Epoch: 18, Loss: 3.8766443729400635\n",
            "Epoch: 19, Loss: 3.868969440460205\n",
            "Epoch: 20, Loss: 3.861726999282837\n",
            "Epoch: 21, Loss: 3.8548171520233154\n",
            "Epoch: 22, Loss: 3.848130464553833\n",
            "Epoch: 23, Loss: 3.841722249984741\n",
            "Epoch: 24, Loss: 3.8356709480285645\n",
            "Epoch: 25, Loss: 3.829836130142212\n",
            "Epoch: 26, Loss: 3.8241353034973145\n",
            "Epoch: 27, Loss: 3.818697214126587\n",
            "Epoch: 28, Loss: 3.8135077953338623\n",
            "Epoch: 29, Loss: 3.808440923690796\n",
            "Epoch: 30, Loss: 3.8035597801208496\n",
            "Epoch: 31, Loss: 3.7988107204437256\n",
            "Epoch: 32, Loss: 3.7942352294921875\n",
            "Epoch: 33, Loss: 3.789754629135132\n",
            "Epoch: 34, Loss: 3.7854156494140625\n",
            "Epoch: 35, Loss: 3.781193971633911\n",
            "Epoch: 36, Loss: 3.777116060256958\n",
            "Epoch: 37, Loss: 3.773153066635132\n",
            "Epoch: 38, Loss: 3.7692923545837402\n",
            "Epoch: 39, Loss: 3.7655413150787354\n",
            "Epoch: 40, Loss: 3.761852979660034\n",
            "Epoch: 41, Loss: 3.758300304412842\n",
            "Epoch: 42, Loss: 3.7547993659973145\n",
            "Epoch: 43, Loss: 3.751399040222168\n",
            "Epoch: 44, Loss: 3.7480483055114746\n",
            "Epoch: 45, Loss: 3.7448174953460693\n",
            "Epoch: 46, Loss: 3.7416296005249023\n",
            "Epoch: 47, Loss: 3.7385172843933105\n",
            "Epoch: 48, Loss: 3.7354586124420166\n",
            "Epoch: 49, Loss: 3.732454299926758\n",
            "Epoch: 50, Loss: 3.7295260429382324\n",
            "Epoch: 51, Loss: 3.7266383171081543\n",
            "Epoch: 52, Loss: 3.7238261699676514\n",
            "Epoch: 53, Loss: 3.721083641052246\n",
            "Epoch: 54, Loss: 3.718363046646118\n",
            "Epoch: 55, Loss: 3.715714454650879\n",
            "Epoch: 56, Loss: 3.7131147384643555\n",
            "Epoch: 57, Loss: 3.7105634212493896\n",
            "Epoch: 58, Loss: 3.708073854446411\n",
            "Epoch: 59, Loss: 3.7055983543395996\n",
            "Epoch: 60, Loss: 3.7031538486480713\n",
            "Epoch: 61, Loss: 3.7007558345794678\n",
            "Epoch: 62, Loss: 3.698420286178589\n",
            "Epoch: 63, Loss: 3.696094512939453\n",
            "Epoch: 64, Loss: 3.693833827972412\n",
            "Epoch: 65, Loss: 3.691601276397705\n",
            "Epoch: 66, Loss: 3.689397096633911\n",
            "Epoch: 67, Loss: 3.6872286796569824\n",
            "Epoch: 68, Loss: 3.685091495513916\n",
            "Epoch: 69, Loss: 3.6829872131347656\n",
            "Epoch: 70, Loss: 3.680913209915161\n",
            "Epoch: 71, Loss: 3.6788671016693115\n",
            "Epoch: 72, Loss: 3.6768553256988525\n",
            "Epoch: 73, Loss: 3.6748647689819336\n",
            "Epoch: 74, Loss: 3.6729066371917725\n",
            "Epoch: 75, Loss: 3.670969247817993\n",
            "Epoch: 76, Loss: 3.6690776348114014\n",
            "Epoch: 77, Loss: 3.6671946048736572\n",
            "Epoch: 78, Loss: 3.665334701538086\n",
            "Epoch: 79, Loss: 3.663499593734741\n",
            "Epoch: 80, Loss: 3.661691427230835\n",
            "Epoch: 81, Loss: 3.6599206924438477\n",
            "Epoch: 82, Loss: 3.6581499576568604\n",
            "Epoch: 83, Loss: 3.65641450881958\n",
            "Epoch: 84, Loss: 3.6546919345855713\n",
            "Epoch: 85, Loss: 3.653000831604004\n",
            "Epoch: 86, Loss: 3.6513218879699707\n",
            "Epoch: 87, Loss: 3.649665594100952\n",
            "Epoch: 88, Loss: 3.648022413253784\n",
            "Epoch: 89, Loss: 3.646409749984741\n",
            "Epoch: 90, Loss: 3.644810438156128\n",
            "Epoch: 91, Loss: 3.6432433128356934\n",
            "Epoch: 92, Loss: 3.6416738033294678\n",
            "Epoch: 93, Loss: 3.6401243209838867\n",
            "Epoch: 94, Loss: 3.6385936737060547\n",
            "Epoch: 95, Loss: 3.6370885372161865\n",
            "Epoch: 96, Loss: 3.635585308074951\n",
            "Epoch: 97, Loss: 3.634104013442993\n",
            "Epoch: 98, Loss: 3.6326353549957275\n",
            "Epoch: 99, Loss: 3.631181240081787\n",
            "Epoch: 100, Loss: 3.629743814468384\n",
            "Epoch: 101, Loss: 3.628321647644043\n",
            "Epoch: 102, Loss: 3.626918315887451\n",
            "Epoch: 103, Loss: 3.6255226135253906\n",
            "Epoch: 104, Loss: 3.6241354942321777\n",
            "Epoch: 105, Loss: 3.622769355773926\n",
            "Epoch: 106, Loss: 3.6214284896850586\n",
            "Epoch: 107, Loss: 3.620091199874878\n",
            "Epoch: 108, Loss: 3.6187708377838135\n",
            "Epoch: 109, Loss: 3.617457866668701\n",
            "Epoch: 110, Loss: 3.6161656379699707\n",
            "Epoch: 111, Loss: 3.6148641109466553\n",
            "Epoch: 112, Loss: 3.613583564758301\n",
            "Epoch: 113, Loss: 3.612323760986328\n",
            "Epoch: 114, Loss: 3.611060380935669\n",
            "Epoch: 115, Loss: 3.609815835952759\n",
            "Epoch: 116, Loss: 3.608592987060547\n",
            "Epoch: 117, Loss: 3.6073760986328125\n",
            "Epoch: 118, Loss: 3.6061770915985107\n",
            "Epoch: 119, Loss: 3.6049721240997314\n",
            "Epoch: 120, Loss: 3.603789806365967\n",
            "Epoch: 121, Loss: 3.6026172637939453\n",
            "Epoch: 122, Loss: 3.60145902633667\n",
            "Epoch: 123, Loss: 3.60030460357666\n",
            "Epoch: 124, Loss: 3.5991742610931396\n",
            "Epoch: 125, Loss: 3.598048686981201\n",
            "Epoch: 126, Loss: 3.596926689147949\n",
            "Epoch: 127, Loss: 3.595808267593384\n",
            "Epoch: 128, Loss: 3.594708204269409\n",
            "Epoch: 129, Loss: 3.5936126708984375\n",
            "Epoch: 130, Loss: 3.592510223388672\n",
            "Epoch: 131, Loss: 3.591431140899658\n",
            "Epoch: 132, Loss: 3.590360403060913\n",
            "Epoch: 133, Loss: 3.5892982482910156\n",
            "Epoch: 134, Loss: 3.5882415771484375\n",
            "Epoch: 135, Loss: 3.587195873260498\n",
            "Epoch: 136, Loss: 3.586149215698242\n",
            "Epoch: 137, Loss: 3.5851211547851562\n",
            "Epoch: 138, Loss: 3.5840940475463867\n",
            "Epoch: 139, Loss: 3.5830729007720947\n",
            "Epoch: 140, Loss: 3.582062005996704\n",
            "Epoch: 141, Loss: 3.5810606479644775\n",
            "Epoch: 142, Loss: 3.5800669193267822\n",
            "Epoch: 143, Loss: 3.5790748596191406\n",
            "Epoch: 144, Loss: 3.5780961513519287\n",
            "Epoch: 145, Loss: 3.577117443084717\n",
            "Epoch: 146, Loss: 3.5761492252349854\n",
            "Epoch: 147, Loss: 3.575186252593994\n",
            "Epoch: 148, Loss: 3.5742318630218506\n",
            "Epoch: 149, Loss: 3.5732858180999756\n",
            "Epoch: 150, Loss: 3.5723397731781006\n",
            "Epoch: 151, Loss: 3.5714075565338135\n",
            "Epoch: 152, Loss: 3.57047963142395\n",
            "Epoch: 153, Loss: 3.5695595741271973\n",
            "Epoch: 154, Loss: 3.568650007247925\n",
            "Epoch: 155, Loss: 3.567741870880127\n",
            "Epoch: 156, Loss: 3.5668439865112305\n",
            "Epoch: 157, Loss: 3.5659470558166504\n",
            "Epoch: 158, Loss: 3.565053939819336\n",
            "Epoch: 159, Loss: 3.56417179107666\n",
            "Epoch: 160, Loss: 3.5632903575897217\n",
            "Epoch: 161, Loss: 3.5624258518218994\n",
            "Epoch: 162, Loss: 3.561558723449707\n",
            "Epoch: 163, Loss: 3.560702323913574\n",
            "Epoch: 164, Loss: 3.5598459243774414\n",
            "Epoch: 165, Loss: 3.5590124130249023\n",
            "Epoch: 166, Loss: 3.5581729412078857\n",
            "Epoch: 167, Loss: 3.5573415756225586\n",
            "Epoch: 168, Loss: 3.5565097332000732\n",
            "Epoch: 169, Loss: 3.555682420730591\n",
            "Epoch: 170, Loss: 3.5548601150512695\n",
            "Epoch: 171, Loss: 3.554049015045166\n",
            "Epoch: 172, Loss: 3.5532355308532715\n",
            "Epoch: 173, Loss: 3.5524232387542725\n",
            "Epoch: 174, Loss: 3.551623582839966\n",
            "Epoch: 175, Loss: 3.5508224964141846\n",
            "Epoch: 176, Loss: 3.5500359535217285\n",
            "Epoch: 177, Loss: 3.5492451190948486\n",
            "Epoch: 178, Loss: 3.5484609603881836\n",
            "Epoch: 179, Loss: 3.5476906299591064\n",
            "Epoch: 180, Loss: 3.54691743850708\n",
            "Epoch: 181, Loss: 3.546140193939209\n",
            "Epoch: 182, Loss: 3.5453760623931885\n",
            "Epoch: 183, Loss: 3.5446133613586426\n",
            "Epoch: 184, Loss: 3.5438544750213623\n",
            "Epoch: 185, Loss: 3.5431017875671387\n",
            "Epoch: 186, Loss: 3.542358636856079\n",
            "Epoch: 187, Loss: 3.5416150093078613\n",
            "Epoch: 188, Loss: 3.5408759117126465\n",
            "Epoch: 189, Loss: 3.540142059326172\n",
            "Epoch: 190, Loss: 3.539409637451172\n",
            "Epoch: 191, Loss: 3.538686752319336\n",
            "Epoch: 192, Loss: 3.5379676818847656\n",
            "Epoch: 193, Loss: 3.5372474193573\n",
            "Epoch: 194, Loss: 3.536529541015625\n",
            "Epoch: 195, Loss: 3.535818338394165\n",
            "Epoch: 196, Loss: 3.535106897354126\n",
            "Epoch: 197, Loss: 3.5344080924987793\n",
            "Epoch: 198, Loss: 3.5337018966674805\n",
            "Epoch: 199, Loss: 3.5330007076263428\n",
            "hits@1: 0.198338, hits@5: 0.402379, hits@10: 0.515400, hits@20: 0.664119\n",
            "hits@50: 0.878036, hits@100: 0.981429\n",
            "map@1: 0.198338, map@5: 0.273046, map@10: 0.288003, map@20: 0.298159\n",
            "map@50: 0.305230, map@100: 0.306778\n",
            "ndcg@1: 0.198338, ndcg@5: 0.305201, ndcg@10: 0.341622, ndcg@20: 0.379023\n",
            "ndcg@50: 0.421919, ndcg@100: 0.438878\n"
          ]
        }
      ]
    },
    {
      "cell_type": "markdown",
      "source": [
        "### Node dropout augmentation, only infomax"
      ],
      "metadata": {
        "id": "Y9ZnPpK0hWIi"
      }
    },
    {
      "cell_type": "code",
      "source": [
        "# device = torch.device('cuda' if torch.cuda.is_available() else 'cpu')\n",
        "device = torch.device('cpu')\n",
        "model = DeepGraphInfomax(hidden_channels=128,\n",
        "                         encoder=Encoder(interm_channels=74, hidden_channels=128,\n",
        "                                         num_features=128),\n",
        "                         summary=lambda z, *args, **kwargs: torch.sigmoid(z.mean(dim=0)),\n",
        "                         corruption=node_dropout).to(device)\n",
        "linkmodel = LinkPredHead()\n",
        "optimizer = torch.optim.AdamW(model.parameters(), lr=0.0005)\n",
        "loss_bce = nn.BCEWithLogitsLoss()"
      ],
      "metadata": {
        "id": "iPzekjVEhhUU"
      },
      "execution_count": 59,
      "outputs": []
    },
    {
      "cell_type": "code",
      "source": [
        "num_epoch = 100\n",
        "loss_epoch = []\n",
        "for epoch in tqdm(range(1, num_epoch+1)):\n",
        "  if epoch == num_epoch:\n",
        "    pos_z, neg_z, summary, loss = train_only_infomax(epoch)\n",
        "  else:\n",
        "    loss = train_only_infomax(epoch)\n",
        "  loss_epoch.append(loss)"
      ],
      "metadata": {
        "colab": {
          "base_uri": "https://localhost:8080/"
        },
        "outputId": "d430bbbf-936d-46bf-cef5-3ed93315c7f0",
        "id": "osafppfahhUe"
      },
      "execution_count": 60,
      "outputs": [
        {
          "output_type": "stream",
          "name": "stderr",
          "text": [
            "  1%|          | 1/100 [00:08<13:26,  8.15s/it]"
          ]
        },
        {
          "output_type": "stream",
          "name": "stdout",
          "text": [
            "Epoch: 1, Loss: 1.4168205261230469\n"
          ]
        },
        {
          "output_type": "stream",
          "name": "stderr",
          "text": [
            "\r  2%|▏         | 2/100 [00:15<13:00,  7.96s/it]"
          ]
        },
        {
          "output_type": "stream",
          "name": "stdout",
          "text": [
            "Epoch: 2, Loss: 1.591853141784668\n"
          ]
        },
        {
          "output_type": "stream",
          "name": "stderr",
          "text": [
            "\r  3%|▎         | 3/100 [00:23<12:13,  7.56s/it]"
          ]
        },
        {
          "output_type": "stream",
          "name": "stdout",
          "text": [
            "Epoch: 3, Loss: 1.4212048053741455\n"
          ]
        },
        {
          "output_type": "stream",
          "name": "stderr",
          "text": [
            "\r  4%|▍         | 4/100 [00:30<12:17,  7.68s/it]"
          ]
        },
        {
          "output_type": "stream",
          "name": "stdout",
          "text": [
            "Epoch: 4, Loss: 1.3830645084381104\n"
          ]
        },
        {
          "output_type": "stream",
          "name": "stderr",
          "text": [
            "\r  5%|▌         | 5/100 [00:38<12:17,  7.77s/it]"
          ]
        },
        {
          "output_type": "stream",
          "name": "stdout",
          "text": [
            "Epoch: 5, Loss: 1.475018858909607\n"
          ]
        },
        {
          "output_type": "stream",
          "name": "stderr",
          "text": [
            "\r  6%|▌         | 6/100 [00:46<12:12,  7.79s/it]"
          ]
        },
        {
          "output_type": "stream",
          "name": "stdout",
          "text": [
            "Epoch: 6, Loss: 1.4030492305755615\n"
          ]
        },
        {
          "output_type": "stream",
          "name": "stderr",
          "text": [
            "\r  7%|▋         | 7/100 [00:54<12:05,  7.80s/it]"
          ]
        },
        {
          "output_type": "stream",
          "name": "stdout",
          "text": [
            "Epoch: 7, Loss: 1.4170567989349365\n"
          ]
        },
        {
          "output_type": "stream",
          "name": "stderr",
          "text": [
            "\r  8%|▊         | 8/100 [01:01<11:30,  7.50s/it]"
          ]
        },
        {
          "output_type": "stream",
          "name": "stdout",
          "text": [
            "Epoch: 8, Loss: 1.1938517093658447\n"
          ]
        },
        {
          "output_type": "stream",
          "name": "stderr",
          "text": [
            "\r  9%|▉         | 9/100 [01:09<11:33,  7.62s/it]"
          ]
        },
        {
          "output_type": "stream",
          "name": "stdout",
          "text": [
            "Epoch: 9, Loss: 1.4324705600738525\n"
          ]
        },
        {
          "output_type": "stream",
          "name": "stderr",
          "text": [
            "\r 10%|█         | 10/100 [01:16<11:08,  7.42s/it]"
          ]
        },
        {
          "output_type": "stream",
          "name": "stdout",
          "text": [
            "Epoch: 10, Loss: 1.4478225708007812\n"
          ]
        },
        {
          "output_type": "stream",
          "name": "stderr",
          "text": [
            "\r 11%|█         | 11/100 [01:23<11:08,  7.51s/it]"
          ]
        },
        {
          "output_type": "stream",
          "name": "stdout",
          "text": [
            "Epoch: 11, Loss: 1.456478238105774\n"
          ]
        },
        {
          "output_type": "stream",
          "name": "stderr",
          "text": [
            "\r 12%|█▏        | 12/100 [01:32<11:34,  7.89s/it]"
          ]
        },
        {
          "output_type": "stream",
          "name": "stdout",
          "text": [
            "Epoch: 12, Loss: 1.1826938390731812\n"
          ]
        },
        {
          "output_type": "stream",
          "name": "stderr",
          "text": [
            "\r 13%|█▎        | 13/100 [01:40<11:16,  7.77s/it]"
          ]
        },
        {
          "output_type": "stream",
          "name": "stdout",
          "text": [
            "Epoch: 13, Loss: 1.4611215591430664\n"
          ]
        },
        {
          "output_type": "stream",
          "name": "stderr",
          "text": [
            "\r 14%|█▍        | 14/100 [01:48<11:11,  7.80s/it]"
          ]
        },
        {
          "output_type": "stream",
          "name": "stdout",
          "text": [
            "Epoch: 14, Loss: 1.396592617034912\n"
          ]
        },
        {
          "output_type": "stream",
          "name": "stderr",
          "text": [
            "\r 15%|█▌        | 15/100 [01:55<10:48,  7.63s/it]"
          ]
        },
        {
          "output_type": "stream",
          "name": "stdout",
          "text": [
            "Epoch: 15, Loss: 1.278359293937683\n"
          ]
        },
        {
          "output_type": "stream",
          "name": "stderr",
          "text": [
            "\r 16%|█▌        | 16/100 [02:03<10:49,  7.73s/it]"
          ]
        },
        {
          "output_type": "stream",
          "name": "stdout",
          "text": [
            "Epoch: 16, Loss: 1.3996843099594116\n"
          ]
        },
        {
          "output_type": "stream",
          "name": "stderr",
          "text": [
            "\r 17%|█▋        | 17/100 [02:10<10:26,  7.54s/it]"
          ]
        },
        {
          "output_type": "stream",
          "name": "stdout",
          "text": [
            "Epoch: 17, Loss: 1.1736801862716675\n"
          ]
        },
        {
          "output_type": "stream",
          "name": "stderr",
          "text": [
            "\r 18%|█▊        | 18/100 [02:17<10:13,  7.48s/it]"
          ]
        },
        {
          "output_type": "stream",
          "name": "stdout",
          "text": [
            "Epoch: 18, Loss: 1.280418872833252\n"
          ]
        },
        {
          "output_type": "stream",
          "name": "stderr",
          "text": [
            "\r 19%|█▉        | 19/100 [02:25<10:19,  7.64s/it]"
          ]
        },
        {
          "output_type": "stream",
          "name": "stdout",
          "text": [
            "Epoch: 19, Loss: 1.1688823699951172\n"
          ]
        },
        {
          "output_type": "stream",
          "name": "stderr",
          "text": [
            "\r 20%|██        | 20/100 [02:32<09:52,  7.41s/it]"
          ]
        },
        {
          "output_type": "stream",
          "name": "stdout",
          "text": [
            "Epoch: 20, Loss: 1.533452033996582\n"
          ]
        },
        {
          "output_type": "stream",
          "name": "stderr",
          "text": [
            "\r 21%|██        | 21/100 [02:40<09:57,  7.56s/it]"
          ]
        },
        {
          "output_type": "stream",
          "name": "stdout",
          "text": [
            "Epoch: 21, Loss: 1.376896619796753\n"
          ]
        },
        {
          "output_type": "stream",
          "name": "stderr",
          "text": [
            "\r 22%|██▏       | 22/100 [02:47<09:40,  7.45s/it]"
          ]
        },
        {
          "output_type": "stream",
          "name": "stdout",
          "text": [
            "Epoch: 22, Loss: 1.4878584146499634\n"
          ]
        },
        {
          "output_type": "stream",
          "name": "stderr",
          "text": [
            "\r 23%|██▎       | 23/100 [02:55<09:42,  7.57s/it]"
          ]
        },
        {
          "output_type": "stream",
          "name": "stdout",
          "text": [
            "Epoch: 23, Loss: 1.4129183292388916\n"
          ]
        },
        {
          "output_type": "stream",
          "name": "stderr",
          "text": [
            "\r 24%|██▍       | 24/100 [03:03<09:33,  7.55s/it]"
          ]
        },
        {
          "output_type": "stream",
          "name": "stdout",
          "text": [
            "Epoch: 24, Loss: 1.3518874645233154\n"
          ]
        },
        {
          "output_type": "stream",
          "name": "stderr",
          "text": [
            "\r 25%|██▌       | 25/100 [03:10<09:18,  7.45s/it]"
          ]
        },
        {
          "output_type": "stream",
          "name": "stdout",
          "text": [
            "Epoch: 25, Loss: 1.4134693145751953\n"
          ]
        },
        {
          "output_type": "stream",
          "name": "stderr",
          "text": [
            "\r 26%|██▌       | 26/100 [03:25<11:53,  9.65s/it]"
          ]
        },
        {
          "output_type": "stream",
          "name": "stdout",
          "text": [
            "Epoch: 26, Loss: 1.5204503536224365\n"
          ]
        },
        {
          "output_type": "stream",
          "name": "stderr",
          "text": [
            "\r 27%|██▋       | 27/100 [03:33<11:09,  9.17s/it]"
          ]
        },
        {
          "output_type": "stream",
          "name": "stdout",
          "text": [
            "Epoch: 27, Loss: 1.3951189517974854\n"
          ]
        },
        {
          "output_type": "stream",
          "name": "stderr",
          "text": [
            "\r 28%|██▊       | 28/100 [03:40<10:17,  8.58s/it]"
          ]
        },
        {
          "output_type": "stream",
          "name": "stdout",
          "text": [
            "Epoch: 28, Loss: 1.4244699478149414\n"
          ]
        },
        {
          "output_type": "stream",
          "name": "stderr",
          "text": [
            "\r 29%|██▉       | 29/100 [03:48<09:54,  8.37s/it]"
          ]
        },
        {
          "output_type": "stream",
          "name": "stdout",
          "text": [
            "Epoch: 29, Loss: 1.353857159614563\n"
          ]
        },
        {
          "output_type": "stream",
          "name": "stderr",
          "text": [
            "\r 30%|███       | 30/100 [03:55<09:18,  7.98s/it]"
          ]
        },
        {
          "output_type": "stream",
          "name": "stdout",
          "text": [
            "Epoch: 30, Loss: 1.3371782302856445\n"
          ]
        },
        {
          "output_type": "stream",
          "name": "stderr",
          "text": [
            "\r 31%|███       | 31/100 [04:03<09:10,  7.97s/it]"
          ]
        },
        {
          "output_type": "stream",
          "name": "stdout",
          "text": [
            "Epoch: 31, Loss: 1.284060001373291\n"
          ]
        },
        {
          "output_type": "stream",
          "name": "stderr",
          "text": [
            "\r 32%|███▏      | 32/100 [04:10<08:55,  7.87s/it]"
          ]
        },
        {
          "output_type": "stream",
          "name": "stdout",
          "text": [
            "Epoch: 32, Loss: 1.2138322591781616\n"
          ]
        },
        {
          "output_type": "stream",
          "name": "stderr",
          "text": [
            "\r 33%|███▎      | 33/100 [04:18<08:33,  7.67s/it]"
          ]
        },
        {
          "output_type": "stream",
          "name": "stdout",
          "text": [
            "Epoch: 33, Loss: 1.3548414707183838\n"
          ]
        },
        {
          "output_type": "stream",
          "name": "stderr",
          "text": [
            "\r 34%|███▍      | 34/100 [04:26<08:34,  7.80s/it]"
          ]
        },
        {
          "output_type": "stream",
          "name": "stdout",
          "text": [
            "Epoch: 34, Loss: 1.4006657600402832\n"
          ]
        },
        {
          "output_type": "stream",
          "name": "stderr",
          "text": [
            "\r 35%|███▌      | 35/100 [04:33<08:15,  7.62s/it]"
          ]
        },
        {
          "output_type": "stream",
          "name": "stdout",
          "text": [
            "Epoch: 35, Loss: 1.3051148653030396\n"
          ]
        },
        {
          "output_type": "stream",
          "name": "stderr",
          "text": [
            "\r 36%|███▌      | 36/100 [04:41<08:18,  7.78s/it]"
          ]
        },
        {
          "output_type": "stream",
          "name": "stdout",
          "text": [
            "Epoch: 36, Loss: 1.3959543704986572\n"
          ]
        },
        {
          "output_type": "stream",
          "name": "stderr",
          "text": [
            "\r 37%|███▋      | 37/100 [04:49<08:11,  7.80s/it]"
          ]
        },
        {
          "output_type": "stream",
          "name": "stdout",
          "text": [
            "Epoch: 37, Loss: 1.2533702850341797\n"
          ]
        },
        {
          "output_type": "stream",
          "name": "stderr",
          "text": [
            "\r 38%|███▊      | 38/100 [04:56<07:50,  7.59s/it]"
          ]
        },
        {
          "output_type": "stream",
          "name": "stdout",
          "text": [
            "Epoch: 38, Loss: 1.3324816226959229\n"
          ]
        },
        {
          "output_type": "stream",
          "name": "stderr",
          "text": [
            "\r 39%|███▉      | 39/100 [05:04<07:51,  7.74s/it]"
          ]
        },
        {
          "output_type": "stream",
          "name": "stdout",
          "text": [
            "Epoch: 39, Loss: 1.3885287046432495\n"
          ]
        },
        {
          "output_type": "stream",
          "name": "stderr",
          "text": [
            "\r 40%|████      | 40/100 [05:11<07:34,  7.58s/it]"
          ]
        },
        {
          "output_type": "stream",
          "name": "stdout",
          "text": [
            "Epoch: 40, Loss: 1.2417242527008057\n"
          ]
        },
        {
          "output_type": "stream",
          "name": "stderr",
          "text": [
            "\r 41%|████      | 41/100 [05:19<07:35,  7.72s/it]"
          ]
        },
        {
          "output_type": "stream",
          "name": "stdout",
          "text": [
            "Epoch: 41, Loss: 1.3939311504364014\n"
          ]
        },
        {
          "output_type": "stream",
          "name": "stderr",
          "text": [
            "\r 42%|████▏     | 42/100 [05:27<07:34,  7.83s/it]"
          ]
        },
        {
          "output_type": "stream",
          "name": "stdout",
          "text": [
            "Epoch: 42, Loss: 1.258837103843689\n"
          ]
        },
        {
          "output_type": "stream",
          "name": "stderr",
          "text": [
            "\r 43%|████▎     | 43/100 [05:35<07:17,  7.68s/it]"
          ]
        },
        {
          "output_type": "stream",
          "name": "stdout",
          "text": [
            "Epoch: 43, Loss: 1.405261516571045\n"
          ]
        },
        {
          "output_type": "stream",
          "name": "stderr",
          "text": [
            "\r 44%|████▍     | 44/100 [05:42<07:11,  7.70s/it]"
          ]
        },
        {
          "output_type": "stream",
          "name": "stdout",
          "text": [
            "Epoch: 44, Loss: 1.263129711151123\n"
          ]
        },
        {
          "output_type": "stream",
          "name": "stderr",
          "text": [
            "\r 45%|████▌     | 45/100 [05:50<06:53,  7.52s/it]"
          ]
        },
        {
          "output_type": "stream",
          "name": "stdout",
          "text": [
            "Epoch: 45, Loss: 1.3547449111938477\n"
          ]
        },
        {
          "output_type": "stream",
          "name": "stderr",
          "text": [
            "\r 46%|████▌     | 46/100 [05:58<06:53,  7.66s/it]"
          ]
        },
        {
          "output_type": "stream",
          "name": "stdout",
          "text": [
            "Epoch: 46, Loss: 1.2820305824279785\n"
          ]
        },
        {
          "output_type": "stream",
          "name": "stderr",
          "text": [
            "\r 47%|████▋     | 47/100 [06:06<06:52,  7.78s/it]"
          ]
        },
        {
          "output_type": "stream",
          "name": "stdout",
          "text": [
            "Epoch: 47, Loss: 1.2751684188842773\n"
          ]
        },
        {
          "output_type": "stream",
          "name": "stderr",
          "text": [
            "\r 48%|████▊     | 48/100 [06:14<06:53,  7.96s/it]"
          ]
        },
        {
          "output_type": "stream",
          "name": "stdout",
          "text": [
            "Epoch: 48, Loss: 1.4534101486206055\n"
          ]
        },
        {
          "output_type": "stream",
          "name": "stderr",
          "text": [
            "\r 49%|████▉     | 49/100 [06:22<06:46,  7.96s/it]"
          ]
        },
        {
          "output_type": "stream",
          "name": "stdout",
          "text": [
            "Epoch: 49, Loss: 1.3253811597824097\n"
          ]
        },
        {
          "output_type": "stream",
          "name": "stderr",
          "text": [
            "\r 50%|█████     | 50/100 [06:29<06:27,  7.75s/it]"
          ]
        },
        {
          "output_type": "stream",
          "name": "stdout",
          "text": [
            "Epoch: 50, Loss: 1.442108154296875\n"
          ]
        },
        {
          "output_type": "stream",
          "name": "stderr",
          "text": [
            "\r 51%|█████     | 51/100 [06:37<06:16,  7.68s/it]"
          ]
        },
        {
          "output_type": "stream",
          "name": "stdout",
          "text": [
            "Epoch: 51, Loss: 1.2980668544769287\n"
          ]
        },
        {
          "output_type": "stream",
          "name": "stderr",
          "text": [
            "\r 52%|█████▏    | 52/100 [06:45<06:15,  7.83s/it]"
          ]
        },
        {
          "output_type": "stream",
          "name": "stdout",
          "text": [
            "Epoch: 52, Loss: 1.3662607669830322\n"
          ]
        },
        {
          "output_type": "stream",
          "name": "stderr",
          "text": [
            "\r 53%|█████▎    | 53/100 [06:52<05:59,  7.66s/it]"
          ]
        },
        {
          "output_type": "stream",
          "name": "stdout",
          "text": [
            "Epoch: 53, Loss: 1.4389551877975464\n"
          ]
        },
        {
          "output_type": "stream",
          "name": "stderr",
          "text": [
            "\r 54%|█████▍    | 54/100 [07:00<05:59,  7.82s/it]"
          ]
        },
        {
          "output_type": "stream",
          "name": "stdout",
          "text": [
            "Epoch: 54, Loss: 1.3411061763763428\n"
          ]
        },
        {
          "output_type": "stream",
          "name": "stderr",
          "text": [
            "\r 55%|█████▌    | 55/100 [07:08<05:44,  7.67s/it]"
          ]
        },
        {
          "output_type": "stream",
          "name": "stdout",
          "text": [
            "Epoch: 55, Loss: 1.3281176090240479\n"
          ]
        },
        {
          "output_type": "stream",
          "name": "stderr",
          "text": [
            "\r 56%|█████▌    | 56/100 [07:15<05:36,  7.66s/it]"
          ]
        },
        {
          "output_type": "stream",
          "name": "stdout",
          "text": [
            "Epoch: 56, Loss: 1.2961795330047607\n"
          ]
        },
        {
          "output_type": "stream",
          "name": "stderr",
          "text": [
            "\r 57%|█████▋    | 57/100 [07:23<05:33,  7.75s/it]"
          ]
        },
        {
          "output_type": "stream",
          "name": "stdout",
          "text": [
            "Epoch: 57, Loss: 1.381026268005371\n"
          ]
        },
        {
          "output_type": "stream",
          "name": "stderr",
          "text": [
            "\r 58%|█████▊    | 58/100 [07:30<05:17,  7.55s/it]"
          ]
        },
        {
          "output_type": "stream",
          "name": "stdout",
          "text": [
            "Epoch: 58, Loss: 1.3331272602081299\n"
          ]
        },
        {
          "output_type": "stream",
          "name": "stderr",
          "text": [
            "\r 59%|█████▉    | 59/100 [07:39<05:18,  7.78s/it]"
          ]
        },
        {
          "output_type": "stream",
          "name": "stdout",
          "text": [
            "Epoch: 59, Loss: 1.3327281475067139\n"
          ]
        },
        {
          "output_type": "stream",
          "name": "stderr",
          "text": [
            "\r 60%|██████    | 60/100 [07:46<05:01,  7.54s/it]"
          ]
        },
        {
          "output_type": "stream",
          "name": "stdout",
          "text": [
            "Epoch: 60, Loss: 1.180821180343628\n"
          ]
        },
        {
          "output_type": "stream",
          "name": "stderr",
          "text": [
            "\r 61%|██████    | 61/100 [07:53<04:57,  7.63s/it]"
          ]
        },
        {
          "output_type": "stream",
          "name": "stdout",
          "text": [
            "Epoch: 61, Loss: 1.2973132133483887\n"
          ]
        },
        {
          "output_type": "stream",
          "name": "stderr",
          "text": [
            "\r 62%|██████▏   | 62/100 [08:01<04:53,  7.73s/it]"
          ]
        },
        {
          "output_type": "stream",
          "name": "stdout",
          "text": [
            "Epoch: 62, Loss: 1.268776774406433\n"
          ]
        },
        {
          "output_type": "stream",
          "name": "stderr",
          "text": [
            "\r 63%|██████▎   | 63/100 [08:08<04:37,  7.50s/it]"
          ]
        },
        {
          "output_type": "stream",
          "name": "stdout",
          "text": [
            "Epoch: 63, Loss: 1.1503398418426514\n"
          ]
        },
        {
          "output_type": "stream",
          "name": "stderr",
          "text": [
            "\r 64%|██████▍   | 64/100 [08:16<04:36,  7.67s/it]"
          ]
        },
        {
          "output_type": "stream",
          "name": "stdout",
          "text": [
            "Epoch: 64, Loss: 1.3991646766662598\n"
          ]
        },
        {
          "output_type": "stream",
          "name": "stderr",
          "text": [
            "\r 65%|██████▌   | 65/100 [08:23<04:21,  7.47s/it]"
          ]
        },
        {
          "output_type": "stream",
          "name": "stdout",
          "text": [
            "Epoch: 65, Loss: 1.3248542547225952\n"
          ]
        },
        {
          "output_type": "stream",
          "name": "stderr",
          "text": [
            "\r 66%|██████▌   | 66/100 [08:31<04:18,  7.60s/it]"
          ]
        },
        {
          "output_type": "stream",
          "name": "stdout",
          "text": [
            "Epoch: 66, Loss: 1.1819119453430176\n"
          ]
        },
        {
          "output_type": "stream",
          "name": "stderr",
          "text": [
            "\r 67%|██████▋   | 67/100 [08:39<04:11,  7.62s/it]"
          ]
        },
        {
          "output_type": "stream",
          "name": "stdout",
          "text": [
            "Epoch: 67, Loss: 1.076625943183899\n"
          ]
        },
        {
          "output_type": "stream",
          "name": "stderr",
          "text": [
            "\r 68%|██████▊   | 68/100 [08:46<03:58,  7.46s/it]"
          ]
        },
        {
          "output_type": "stream",
          "name": "stdout",
          "text": [
            "Epoch: 68, Loss: 1.4199209213256836\n"
          ]
        },
        {
          "output_type": "stream",
          "name": "stderr",
          "text": [
            "\r 69%|██████▉   | 69/100 [08:54<03:55,  7.58s/it]"
          ]
        },
        {
          "output_type": "stream",
          "name": "stdout",
          "text": [
            "Epoch: 69, Loss: 1.0919817686080933\n"
          ]
        },
        {
          "output_type": "stream",
          "name": "stderr",
          "text": [
            "\r 70%|███████   | 70/100 [09:01<03:42,  7.41s/it]"
          ]
        },
        {
          "output_type": "stream",
          "name": "stdout",
          "text": [
            "Epoch: 70, Loss: 1.2831720113754272\n"
          ]
        },
        {
          "output_type": "stream",
          "name": "stderr",
          "text": [
            "\r 71%|███████   | 71/100 [09:09<03:41,  7.63s/it]"
          ]
        },
        {
          "output_type": "stream",
          "name": "stdout",
          "text": [
            "Epoch: 71, Loss: 1.0863678455352783\n"
          ]
        },
        {
          "output_type": "stream",
          "name": "stderr",
          "text": [
            "\r 72%|███████▏  | 72/100 [09:17<03:32,  7.59s/it]"
          ]
        },
        {
          "output_type": "stream",
          "name": "stdout",
          "text": [
            "Epoch: 72, Loss: 0.9936298131942749\n"
          ]
        },
        {
          "output_type": "stream",
          "name": "stderr",
          "text": [
            "\r 73%|███████▎  | 73/100 [09:24<03:22,  7.49s/it]"
          ]
        },
        {
          "output_type": "stream",
          "name": "stdout",
          "text": [
            "Epoch: 73, Loss: 1.3257120847702026\n"
          ]
        },
        {
          "output_type": "stream",
          "name": "stderr",
          "text": [
            "\r 74%|███████▍  | 74/100 [09:32<03:19,  7.65s/it]"
          ]
        },
        {
          "output_type": "stream",
          "name": "stdout",
          "text": [
            "Epoch: 74, Loss: 1.3909547328948975\n"
          ]
        },
        {
          "output_type": "stream",
          "name": "stderr",
          "text": [
            "\r 75%|███████▌  | 75/100 [09:39<03:07,  7.49s/it]"
          ]
        },
        {
          "output_type": "stream",
          "name": "stdout",
          "text": [
            "Epoch: 75, Loss: 1.4824336767196655\n"
          ]
        },
        {
          "output_type": "stream",
          "name": "stderr",
          "text": [
            "\r 76%|███████▌  | 76/100 [09:47<03:04,  7.67s/it]"
          ]
        },
        {
          "output_type": "stream",
          "name": "stdout",
          "text": [
            "Epoch: 76, Loss: 0.9029867649078369\n"
          ]
        },
        {
          "output_type": "stream",
          "name": "stderr",
          "text": [
            "\r 77%|███████▋  | 77/100 [09:55<02:57,  7.71s/it]"
          ]
        },
        {
          "output_type": "stream",
          "name": "stdout",
          "text": [
            "Epoch: 77, Loss: 1.423929214477539\n"
          ]
        },
        {
          "output_type": "stream",
          "name": "stderr",
          "text": [
            "\r 78%|███████▊  | 78/100 [10:02<02:47,  7.60s/it]"
          ]
        },
        {
          "output_type": "stream",
          "name": "stdout",
          "text": [
            "Epoch: 78, Loss: 1.482262134552002\n"
          ]
        },
        {
          "output_type": "stream",
          "name": "stderr",
          "text": [
            "\r 79%|███████▉  | 79/100 [10:10<02:42,  7.72s/it]"
          ]
        },
        {
          "output_type": "stream",
          "name": "stdout",
          "text": [
            "Epoch: 79, Loss: 0.8917845487594604\n"
          ]
        },
        {
          "output_type": "stream",
          "name": "stderr",
          "text": [
            "\r 80%|████████  | 80/100 [10:17<02:31,  7.57s/it]"
          ]
        },
        {
          "output_type": "stream",
          "name": "stdout",
          "text": [
            "Epoch: 80, Loss: 0.9987632632255554\n"
          ]
        },
        {
          "output_type": "stream",
          "name": "stderr",
          "text": [
            "\r 81%|████████  | 81/100 [10:26<02:27,  7.76s/it]"
          ]
        },
        {
          "output_type": "stream",
          "name": "stdout",
          "text": [
            "Epoch: 81, Loss: 0.9751673340797424\n"
          ]
        },
        {
          "output_type": "stream",
          "name": "stderr",
          "text": [
            "\r 82%|████████▏ | 82/100 [10:33<02:18,  7.68s/it]"
          ]
        },
        {
          "output_type": "stream",
          "name": "stdout",
          "text": [
            "Epoch: 82, Loss: 1.3815313577651978\n"
          ]
        },
        {
          "output_type": "stream",
          "name": "stderr",
          "text": [
            "\r 83%|████████▎ | 83/100 [10:41<02:09,  7.64s/it]"
          ]
        },
        {
          "output_type": "stream",
          "name": "stdout",
          "text": [
            "Epoch: 83, Loss: 1.6007914543151855\n"
          ]
        },
        {
          "output_type": "stream",
          "name": "stderr",
          "text": [
            "\r 84%|████████▍ | 84/100 [10:50<02:10,  8.13s/it]"
          ]
        },
        {
          "output_type": "stream",
          "name": "stdout",
          "text": [
            "Epoch: 84, Loss: 1.5345025062561035\n"
          ]
        },
        {
          "output_type": "stream",
          "name": "stderr",
          "text": [
            "\r 85%|████████▌ | 85/100 [10:57<01:58,  7.92s/it]"
          ]
        },
        {
          "output_type": "stream",
          "name": "stdout",
          "text": [
            "Epoch: 85, Loss: 0.8411794900894165\n"
          ]
        },
        {
          "output_type": "stream",
          "name": "stderr",
          "text": [
            "\r 86%|████████▌ | 86/100 [11:06<01:53,  8.09s/it]"
          ]
        },
        {
          "output_type": "stream",
          "name": "stdout",
          "text": [
            "Epoch: 86, Loss: 1.505981683731079\n"
          ]
        },
        {
          "output_type": "stream",
          "name": "stderr",
          "text": [
            "\r 87%|████████▋ | 87/100 [11:13<01:43,  7.93s/it]"
          ]
        },
        {
          "output_type": "stream",
          "name": "stdout",
          "text": [
            "Epoch: 87, Loss: 0.9792666435241699\n"
          ]
        },
        {
          "output_type": "stream",
          "name": "stderr",
          "text": [
            "\r 88%|████████▊ | 88/100 [11:21<01:33,  7.79s/it]"
          ]
        },
        {
          "output_type": "stream",
          "name": "stdout",
          "text": [
            "Epoch: 88, Loss: 0.8973676562309265\n"
          ]
        },
        {
          "output_type": "stream",
          "name": "stderr",
          "text": [
            "\r 89%|████████▉ | 89/100 [11:29<01:26,  7.88s/it]"
          ]
        },
        {
          "output_type": "stream",
          "name": "stdout",
          "text": [
            "Epoch: 89, Loss: 1.3571677207946777\n"
          ]
        },
        {
          "output_type": "stream",
          "name": "stderr",
          "text": [
            "\r 90%|█████████ | 90/100 [11:36<01:17,  7.74s/it]"
          ]
        },
        {
          "output_type": "stream",
          "name": "stdout",
          "text": [
            "Epoch: 90, Loss: 0.8249561190605164\n"
          ]
        },
        {
          "output_type": "stream",
          "name": "stderr",
          "text": [
            "\r 91%|█████████ | 91/100 [11:45<01:10,  7.86s/it]"
          ]
        },
        {
          "output_type": "stream",
          "name": "stdout",
          "text": [
            "Epoch: 91, Loss: 0.753054678440094\n"
          ]
        },
        {
          "output_type": "stream",
          "name": "stderr",
          "text": [
            "\r 92%|█████████▏| 92/100 [11:52<01:02,  7.87s/it]"
          ]
        },
        {
          "output_type": "stream",
          "name": "stdout",
          "text": [
            "Epoch: 92, Loss: 1.5296446084976196\n"
          ]
        },
        {
          "output_type": "stream",
          "name": "stderr",
          "text": [
            "\r 93%|█████████▎| 93/100 [12:00<00:53,  7.71s/it]"
          ]
        },
        {
          "output_type": "stream",
          "name": "stdout",
          "text": [
            "Epoch: 93, Loss: 0.7504339218139648\n"
          ]
        },
        {
          "output_type": "stream",
          "name": "stderr",
          "text": [
            "\r 94%|█████████▍| 94/100 [12:08<00:47,  7.90s/it]"
          ]
        },
        {
          "output_type": "stream",
          "name": "stdout",
          "text": [
            "Epoch: 94, Loss: 1.7225679159164429\n"
          ]
        },
        {
          "output_type": "stream",
          "name": "stderr",
          "text": [
            "\r 95%|█████████▌| 95/100 [12:15<00:38,  7.64s/it]"
          ]
        },
        {
          "output_type": "stream",
          "name": "stdout",
          "text": [
            "Epoch: 95, Loss: 1.279322624206543\n"
          ]
        },
        {
          "output_type": "stream",
          "name": "stderr",
          "text": [
            "\r 96%|█████████▌| 96/100 [12:23<00:31,  7.83s/it]"
          ]
        },
        {
          "output_type": "stream",
          "name": "stdout",
          "text": [
            "Epoch: 96, Loss: 1.4029417037963867\n"
          ]
        },
        {
          "output_type": "stream",
          "name": "stderr",
          "text": [
            "\r 97%|█████████▋| 97/100 [12:31<00:23,  7.83s/it]"
          ]
        },
        {
          "output_type": "stream",
          "name": "stdout",
          "text": [
            "Epoch: 97, Loss: 0.7540469169616699\n"
          ]
        },
        {
          "output_type": "stream",
          "name": "stderr",
          "text": [
            "\r 98%|█████████▊| 98/100 [12:38<00:15,  7.60s/it]"
          ]
        },
        {
          "output_type": "stream",
          "name": "stdout",
          "text": [
            "Epoch: 98, Loss: 1.1193156242370605\n"
          ]
        },
        {
          "output_type": "stream",
          "name": "stderr",
          "text": [
            "\r 99%|█████████▉| 99/100 [12:46<00:07,  7.72s/it]"
          ]
        },
        {
          "output_type": "stream",
          "name": "stdout",
          "text": [
            "Epoch: 99, Loss: 0.758968710899353\n"
          ]
        },
        {
          "output_type": "stream",
          "name": "stderr",
          "text": [
            "100%|██████████| 100/100 [12:54<00:00,  7.74s/it]"
          ]
        },
        {
          "output_type": "stream",
          "name": "stdout",
          "text": [
            "Epoch: 100, Loss: 0.7786322832107544\n"
          ]
        },
        {
          "output_type": "stream",
          "name": "stderr",
          "text": [
            "\n"
          ]
        }
      ]
    },
    {
      "cell_type": "code",
      "source": [
        "final_user_representations = {}\n",
        "repr = pos_z\n",
        "for i in range(pos_z.shape[0]):\n",
        "  final_user_representations[i] = (i, repr[i].detach(), user_representations[i][1])"
      ],
      "metadata": {
        "id": "7bDxqySnhhUf"
      },
      "execution_count": 61,
      "outputs": []
    },
    {
      "cell_type": "code",
      "execution_count": 62,
      "metadata": {
        "id": "PTTgSAR4hhUg"
      },
      "outputs": [],
      "source": [
        "user_dataset = UserDataset(final_user_representations)\n",
        "\n",
        "n = len(user_dataset)\n",
        "\n",
        "indices = np.arange(n)\n",
        "indices = np.random.permutation(indices)\n",
        "\n",
        "train_indices = indices [:int(0.8*n)]\n",
        "test_indices = indices[int(0.8*n):]\n",
        "\n",
        "user_train_dataset = Subset(user_dataset, train_indices)\n",
        "user_test_dataset = Subset(user_dataset, test_indices)\n",
        "\n",
        "user_train_dataloader = DataLoader(user_train_dataset, batch_size=64, shuffle=True)\n",
        "user_test_dataloader = DataLoader(user_test_dataset, batch_size=64, shuffle=True)"
      ]
    },
    {
      "cell_type": "code",
      "execution_count": 63,
      "metadata": {
        "id": "ZIP_m-cphhUg"
      },
      "outputs": [],
      "source": [
        "num_classes = 186\n",
        "classes = np.arange(0, num_classes)"
      ]
    },
    {
      "cell_type": "code",
      "source": [
        "head_model = train2task()\n",
        "torch.save(head_model.state_dict(), 'node_dropout_only_infomax_model.pth')"
      ],
      "metadata": {
        "id": "MXefZj6QhhUg",
        "colab": {
          "base_uri": "https://localhost:8080/"
        },
        "outputId": "5dab7d17-f6db-4643-abfa-37d61b382160"
      },
      "execution_count": 64,
      "outputs": [
        {
          "output_type": "stream",
          "name": "stdout",
          "text": [
            "Epoch: 0, Loss: 4.443563461303711\n",
            "Epoch: 1, Loss: 4.228217601776123\n",
            "Epoch: 2, Loss: 4.109987735748291\n",
            "Epoch: 3, Loss: 4.02674674987793\n",
            "Epoch: 4, Loss: 3.9619386196136475\n",
            "Epoch: 5, Loss: 3.9084553718566895\n",
            "Epoch: 6, Loss: 3.8629555702209473\n",
            "Epoch: 7, Loss: 3.8232662677764893\n",
            "Epoch: 8, Loss: 3.7881197929382324\n",
            "Epoch: 9, Loss: 3.756572961807251\n",
            "Epoch: 10, Loss: 3.7279157638549805\n",
            "Epoch: 11, Loss: 3.7017226219177246\n",
            "Epoch: 12, Loss: 3.677577257156372\n",
            "Epoch: 13, Loss: 3.6552114486694336\n",
            "Epoch: 14, Loss: 3.634401798248291\n",
            "Epoch: 15, Loss: 3.6149425506591797\n",
            "Epoch: 16, Loss: 3.596691131591797\n",
            "Epoch: 17, Loss: 3.579517364501953\n",
            "Epoch: 18, Loss: 3.563297748565674\n",
            "Epoch: 19, Loss: 3.5479421615600586\n",
            "Epoch: 20, Loss: 3.5333645343780518\n",
            "Epoch: 21, Loss: 3.5194921493530273\n",
            "Epoch: 22, Loss: 3.506268262863159\n",
            "Epoch: 23, Loss: 3.4936490058898926\n",
            "Epoch: 24, Loss: 3.4815561771392822\n",
            "Epoch: 25, Loss: 3.4699771404266357\n",
            "Epoch: 26, Loss: 3.458878517150879\n",
            "Epoch: 27, Loss: 3.4482204914093018\n",
            "Epoch: 28, Loss: 3.437943458557129\n",
            "Epoch: 29, Loss: 3.4280707836151123\n",
            "Epoch: 30, Loss: 3.418530225753784\n",
            "Epoch: 31, Loss: 3.4093284606933594\n",
            "Epoch: 32, Loss: 3.400439739227295\n",
            "Epoch: 33, Loss: 3.3918468952178955\n",
            "Epoch: 34, Loss: 3.3835337162017822\n",
            "Epoch: 35, Loss: 3.3754773139953613\n",
            "Epoch: 36, Loss: 3.3676702976226807\n",
            "Epoch: 37, Loss: 3.3600940704345703\n",
            "Epoch: 38, Loss: 3.352734088897705\n",
            "Epoch: 39, Loss: 3.3455898761749268\n",
            "Epoch: 40, Loss: 3.338639974594116\n",
            "Epoch: 41, Loss: 3.3318793773651123\n",
            "Epoch: 42, Loss: 3.3252973556518555\n",
            "Epoch: 43, Loss: 3.3188819885253906\n",
            "Epoch: 44, Loss: 3.3126280307769775\n",
            "Epoch: 45, Loss: 3.306532621383667\n",
            "Epoch: 46, Loss: 3.300584077835083\n",
            "Epoch: 47, Loss: 3.2947847843170166\n",
            "Epoch: 48, Loss: 3.289114236831665\n",
            "Epoch: 49, Loss: 3.2835845947265625\n",
            "Epoch: 50, Loss: 3.278170108795166\n",
            "Epoch: 51, Loss: 3.2728800773620605\n",
            "Epoch: 52, Loss: 3.2677011489868164\n",
            "Epoch: 53, Loss: 3.2626359462738037\n",
            "Epoch: 54, Loss: 3.2576773166656494\n",
            "Epoch: 55, Loss: 3.2528202533721924\n",
            "Epoch: 56, Loss: 3.2480647563934326\n",
            "Epoch: 57, Loss: 3.243400812149048\n",
            "Epoch: 58, Loss: 3.238823413848877\n",
            "Epoch: 59, Loss: 3.234344005584717\n",
            "Epoch: 60, Loss: 3.229950189590454\n",
            "Epoch: 61, Loss: 3.2256386280059814\n",
            "Epoch: 62, Loss: 3.2214062213897705\n",
            "Epoch: 63, Loss: 3.2172493934631348\n",
            "Epoch: 64, Loss: 3.2131693363189697\n",
            "Epoch: 65, Loss: 3.2091548442840576\n",
            "Epoch: 66, Loss: 3.205216407775879\n",
            "Epoch: 67, Loss: 3.201343059539795\n",
            "Epoch: 68, Loss: 3.1975362300872803\n",
            "Epoch: 69, Loss: 3.1937975883483887\n",
            "Epoch: 70, Loss: 3.190112590789795\n",
            "Epoch: 71, Loss: 3.186490297317505\n",
            "Epoch: 72, Loss: 3.182926654815674\n",
            "Epoch: 73, Loss: 3.1794190406799316\n",
            "Epoch: 74, Loss: 3.175964117050171\n",
            "Epoch: 75, Loss: 3.1725611686706543\n",
            "Epoch: 76, Loss: 3.1692137718200684\n",
            "Epoch: 77, Loss: 3.165914535522461\n",
            "Epoch: 78, Loss: 3.162663459777832\n",
            "Epoch: 79, Loss: 3.1594560146331787\n",
            "Epoch: 80, Loss: 3.1563000679016113\n",
            "Epoch: 81, Loss: 3.1531870365142822\n",
            "Epoch: 82, Loss: 3.150120973587036\n",
            "Epoch: 83, Loss: 3.1470985412597656\n",
            "Epoch: 84, Loss: 3.144118070602417\n",
            "Epoch: 85, Loss: 3.14117693901062\n",
            "Epoch: 86, Loss: 3.138277769088745\n",
            "Epoch: 87, Loss: 3.1354126930236816\n",
            "Epoch: 88, Loss: 3.1325910091400146\n",
            "Epoch: 89, Loss: 3.1298024654388428\n",
            "Epoch: 90, Loss: 3.1270487308502197\n",
            "Epoch: 91, Loss: 3.1243345737457275\n",
            "Epoch: 92, Loss: 3.121654510498047\n",
            "Epoch: 93, Loss: 3.1190080642700195\n",
            "Epoch: 94, Loss: 3.1163876056671143\n",
            "Epoch: 95, Loss: 3.1138052940368652\n",
            "Epoch: 96, Loss: 3.1112544536590576\n",
            "Epoch: 97, Loss: 3.108734607696533\n",
            "Epoch: 98, Loss: 3.1062443256378174\n",
            "Epoch: 99, Loss: 3.1037819385528564\n",
            "Epoch: 100, Loss: 3.1013522148132324\n",
            "Epoch: 101, Loss: 3.098947048187256\n",
            "Epoch: 102, Loss: 3.096569538116455\n",
            "Epoch: 103, Loss: 3.09421968460083\n",
            "Epoch: 104, Loss: 3.0918989181518555\n",
            "Epoch: 105, Loss: 3.0896036624908447\n",
            "Epoch: 106, Loss: 3.0873327255249023\n",
            "Epoch: 107, Loss: 3.0850841999053955\n",
            "Epoch: 108, Loss: 3.0828628540039062\n",
            "Epoch: 109, Loss: 3.080664873123169\n",
            "Epoch: 110, Loss: 3.078484296798706\n",
            "Epoch: 111, Loss: 3.07633376121521\n",
            "Epoch: 112, Loss: 3.0742032527923584\n",
            "Epoch: 113, Loss: 3.072096586227417\n",
            "Epoch: 114, Loss: 3.0700111389160156\n",
            "Epoch: 115, Loss: 3.0679473876953125\n",
            "Epoch: 116, Loss: 3.065904378890991\n",
            "Epoch: 117, Loss: 3.0638811588287354\n",
            "Epoch: 118, Loss: 3.0618784427642822\n",
            "Epoch: 119, Loss: 3.0598928928375244\n",
            "Epoch: 120, Loss: 3.057929039001465\n",
            "Epoch: 121, Loss: 3.055983543395996\n",
            "Epoch: 122, Loss: 3.05405592918396\n",
            "Epoch: 123, Loss: 3.0521485805511475\n",
            "Epoch: 124, Loss: 3.050258159637451\n",
            "Epoch: 125, Loss: 3.048384666442871\n",
            "Epoch: 126, Loss: 3.04653263092041\n",
            "Epoch: 127, Loss: 3.0446953773498535\n",
            "Epoch: 128, Loss: 3.0428764820098877\n",
            "Epoch: 129, Loss: 3.0410706996917725\n",
            "Epoch: 130, Loss: 3.0392839908599854\n",
            "Epoch: 131, Loss: 3.037511110305786\n",
            "Epoch: 132, Loss: 3.0357582569122314\n",
            "Epoch: 133, Loss: 3.0340218544006348\n",
            "Epoch: 134, Loss: 3.032297372817993\n",
            "Epoch: 135, Loss: 3.030590772628784\n",
            "Epoch: 136, Loss: 3.028898239135742\n",
            "Epoch: 137, Loss: 3.027219295501709\n",
            "Epoch: 138, Loss: 3.025557041168213\n",
            "Epoch: 139, Loss: 3.023906946182251\n",
            "Epoch: 140, Loss: 3.0222694873809814\n",
            "Epoch: 141, Loss: 3.020646810531616\n",
            "Epoch: 142, Loss: 3.0190391540527344\n",
            "Epoch: 143, Loss: 3.017441511154175\n",
            "Epoch: 144, Loss: 3.015855550765991\n",
            "Epoch: 145, Loss: 3.0142862796783447\n",
            "Epoch: 146, Loss: 3.012727975845337\n",
            "Epoch: 147, Loss: 3.011183500289917\n",
            "Epoch: 148, Loss: 3.0096514225006104\n",
            "Epoch: 149, Loss: 3.0081303119659424\n",
            "Epoch: 150, Loss: 3.006622791290283\n",
            "Epoch: 151, Loss: 3.0051279067993164\n",
            "Epoch: 152, Loss: 3.003643035888672\n",
            "Epoch: 153, Loss: 3.002169132232666\n",
            "Epoch: 154, Loss: 3.0007078647613525\n",
            "Epoch: 155, Loss: 2.9992599487304688\n",
            "Epoch: 156, Loss: 2.9978203773498535\n",
            "Epoch: 157, Loss: 2.9963927268981934\n",
            "Epoch: 158, Loss: 2.99497652053833\n",
            "Epoch: 159, Loss: 2.9935686588287354\n",
            "Epoch: 160, Loss: 2.9921700954437256\n",
            "Epoch: 161, Loss: 2.990785837173462\n",
            "Epoch: 162, Loss: 2.989409923553467\n",
            "Epoch: 163, Loss: 2.9880452156066895\n",
            "Epoch: 164, Loss: 2.9866912364959717\n",
            "Epoch: 165, Loss: 2.985344171524048\n",
            "Epoch: 166, Loss: 2.9840073585510254\n",
            "Epoch: 167, Loss: 2.982682943344116\n",
            "Epoch: 168, Loss: 2.9813663959503174\n",
            "Epoch: 169, Loss: 2.9800586700439453\n",
            "Epoch: 170, Loss: 2.9787590503692627\n",
            "Epoch: 171, Loss: 2.9774677753448486\n",
            "Epoch: 172, Loss: 2.9761879444122314\n",
            "Epoch: 173, Loss: 2.9749176502227783\n",
            "Epoch: 174, Loss: 2.973655939102173\n",
            "Epoch: 175, Loss: 2.9724035263061523\n",
            "Epoch: 176, Loss: 2.971158504486084\n",
            "Epoch: 177, Loss: 2.9699206352233887\n",
            "Epoch: 178, Loss: 2.9686906337738037\n",
            "Epoch: 179, Loss: 2.967470169067383\n",
            "Epoch: 180, Loss: 2.9662582874298096\n",
            "Epoch: 181, Loss: 2.9650535583496094\n",
            "Epoch: 182, Loss: 2.9638564586639404\n",
            "Epoch: 183, Loss: 2.962667226791382\n",
            "Epoch: 184, Loss: 2.9614861011505127\n",
            "Epoch: 185, Loss: 2.960313081741333\n",
            "Epoch: 186, Loss: 2.9591457843780518\n",
            "Epoch: 187, Loss: 2.9579882621765137\n",
            "Epoch: 188, Loss: 2.956838846206665\n",
            "Epoch: 189, Loss: 2.9556946754455566\n",
            "Epoch: 190, Loss: 2.954556941986084\n",
            "Epoch: 191, Loss: 2.9534263610839844\n",
            "Epoch: 192, Loss: 2.9523067474365234\n",
            "Epoch: 193, Loss: 2.951192617416382\n",
            "Epoch: 194, Loss: 2.950084686279297\n",
            "Epoch: 195, Loss: 2.948984146118164\n",
            "Epoch: 196, Loss: 2.947890281677246\n",
            "Epoch: 197, Loss: 2.94680118560791\n",
            "Epoch: 198, Loss: 2.94571852684021\n",
            "Epoch: 199, Loss: 2.9446449279785156\n",
            "hits@1: 0.350980, hits@5: 0.580335, hits@10: 0.676738, hits@20: 0.785324\n",
            "hits@50: 0.927639, hits@100: 0.988854\n",
            "map@1: 0.350980, map@5: 0.436397, map@10: 0.449314, map@20: 0.456774\n",
            "map@50: 0.461496, map@100: 0.462422\n",
            "ndcg@1: 0.350980, ndcg@5: 0.472272, ndcg@10: 0.503499, ndcg@20: 0.530859\n",
            "ndcg@50: 0.559428, ndcg@100: 0.569495\n"
          ]
        }
      ]
    },
    {
      "cell_type": "markdown",
      "source": [
        "### Edge dropout, only infomax"
      ],
      "metadata": {
        "id": "76Znxqtkhq-Q"
      }
    },
    {
      "cell_type": "code",
      "source": [
        "# device = torch.device('cuda' if torch.cuda.is_available() else 'cpu')\n",
        "device = torch.device('cpu')\n",
        "model = DeepGraphInfomax(hidden_channels=128,\n",
        "                         encoder=Encoder(interm_channels=74, hidden_channels=128,\n",
        "                                         num_features=128),\n",
        "                         summary=lambda z, *args, **kwargs: torch.sigmoid(z.mean(dim=0)),\n",
        "                         corruption=edge_dropout).to(device)\n",
        "linkmodel = LinkPredHead()\n",
        "optimizer = torch.optim.AdamW(model.parameters(), lr=0.0005)\n",
        "loss_bce = nn.BCEWithLogitsLoss()"
      ],
      "metadata": {
        "id": "ZWdS4JboiCUq"
      },
      "execution_count": 65,
      "outputs": []
    },
    {
      "cell_type": "code",
      "source": [
        "num_epoch = 100\n",
        "loss_epoch = []\n",
        "for epoch in tqdm(range(1, num_epoch+1)):\n",
        "  if epoch == num_epoch:\n",
        "    pos_z, neg_z, summary, loss = train_only_infomax(epoch)\n",
        "  else:\n",
        "    loss = train_only_infomax(epoch)\n",
        "  loss_epoch.append(loss)"
      ],
      "metadata": {
        "colab": {
          "base_uri": "https://localhost:8080/"
        },
        "outputId": "4af8dfb3-68a3-4deb-cfd5-848d17301996",
        "id": "4i9IQJ_SiCUz"
      },
      "execution_count": 66,
      "outputs": [
        {
          "output_type": "stream",
          "name": "stderr",
          "text": [
            "  1%|          | 1/100 [00:05<09:25,  5.71s/it]"
          ]
        },
        {
          "output_type": "stream",
          "name": "stdout",
          "text": [
            "Epoch: 1, Loss: 1.5530227422714233\n"
          ]
        },
        {
          "output_type": "stream",
          "name": "stderr",
          "text": [
            "\r  2%|▏         | 2/100 [00:12<09:55,  6.08s/it]"
          ]
        },
        {
          "output_type": "stream",
          "name": "stdout",
          "text": [
            "Epoch: 2, Loss: 1.5028414726257324\n"
          ]
        },
        {
          "output_type": "stream",
          "name": "stderr",
          "text": [
            "\r  3%|▎         | 3/100 [00:17<09:24,  5.82s/it]"
          ]
        },
        {
          "output_type": "stream",
          "name": "stdout",
          "text": [
            "Epoch: 3, Loss: 1.4372378587722778\n"
          ]
        },
        {
          "output_type": "stream",
          "name": "stderr",
          "text": [
            "\r  4%|▍         | 4/100 [00:24<09:51,  6.16s/it]"
          ]
        },
        {
          "output_type": "stream",
          "name": "stdout",
          "text": [
            "Epoch: 4, Loss: 1.3760030269622803\n"
          ]
        },
        {
          "output_type": "stream",
          "name": "stderr",
          "text": [
            "\r  5%|▌         | 5/100 [00:30<09:45,  6.17s/it]"
          ]
        },
        {
          "output_type": "stream",
          "name": "stdout",
          "text": [
            "Epoch: 5, Loss: 1.371445655822754\n"
          ]
        },
        {
          "output_type": "stream",
          "name": "stderr",
          "text": [
            "\r  6%|▌         | 6/100 [00:36<09:25,  6.02s/it]"
          ]
        },
        {
          "output_type": "stream",
          "name": "stdout",
          "text": [
            "Epoch: 6, Loss: 1.3410354852676392\n"
          ]
        },
        {
          "output_type": "stream",
          "name": "stderr",
          "text": [
            "\r  7%|▋         | 7/100 [00:42<09:21,  6.04s/it]"
          ]
        },
        {
          "output_type": "stream",
          "name": "stdout",
          "text": [
            "Epoch: 7, Loss: 1.4272584915161133\n"
          ]
        },
        {
          "output_type": "stream",
          "name": "stderr",
          "text": [
            "\r  8%|▊         | 8/100 [00:47<08:58,  5.85s/it]"
          ]
        },
        {
          "output_type": "stream",
          "name": "stdout",
          "text": [
            "Epoch: 8, Loss: 1.3407437801361084\n"
          ]
        },
        {
          "output_type": "stream",
          "name": "stderr",
          "text": [
            "\r  9%|▉         | 9/100 [00:54<09:07,  6.01s/it]"
          ]
        },
        {
          "output_type": "stream",
          "name": "stdout",
          "text": [
            "Epoch: 9, Loss: 1.2757248878479004\n"
          ]
        },
        {
          "output_type": "stream",
          "name": "stderr",
          "text": [
            "\r 10%|█         | 10/100 [00:59<08:46,  5.85s/it]"
          ]
        },
        {
          "output_type": "stream",
          "name": "stdout",
          "text": [
            "Epoch: 10, Loss: 1.285747766494751\n"
          ]
        },
        {
          "output_type": "stream",
          "name": "stderr",
          "text": [
            "\r 11%|█         | 11/100 [01:05<08:52,  5.98s/it]"
          ]
        },
        {
          "output_type": "stream",
          "name": "stdout",
          "text": [
            "Epoch: 11, Loss: 1.3431694507598877\n"
          ]
        },
        {
          "output_type": "stream",
          "name": "stderr",
          "text": [
            "\r 12%|█▏        | 12/100 [01:11<08:33,  5.84s/it]"
          ]
        },
        {
          "output_type": "stream",
          "name": "stdout",
          "text": [
            "Epoch: 12, Loss: 1.4050923585891724\n"
          ]
        },
        {
          "output_type": "stream",
          "name": "stderr",
          "text": [
            "\r 13%|█▎        | 13/100 [01:17<08:39,  5.98s/it]"
          ]
        },
        {
          "output_type": "stream",
          "name": "stdout",
          "text": [
            "Epoch: 13, Loss: 1.3715261220932007\n"
          ]
        },
        {
          "output_type": "stream",
          "name": "stderr",
          "text": [
            "\r 14%|█▍        | 14/100 [01:23<08:21,  5.83s/it]"
          ]
        },
        {
          "output_type": "stream",
          "name": "stdout",
          "text": [
            "Epoch: 14, Loss: 1.280372142791748\n"
          ]
        },
        {
          "output_type": "stream",
          "name": "stderr",
          "text": [
            "\r 15%|█▌        | 15/100 [01:29<08:27,  5.97s/it]"
          ]
        },
        {
          "output_type": "stream",
          "name": "stdout",
          "text": [
            "Epoch: 15, Loss: 1.233243703842163\n"
          ]
        },
        {
          "output_type": "stream",
          "name": "stderr",
          "text": [
            "\r 16%|█▌        | 16/100 [01:34<08:09,  5.83s/it]"
          ]
        },
        {
          "output_type": "stream",
          "name": "stdout",
          "text": [
            "Epoch: 16, Loss: 1.2865524291992188\n"
          ]
        },
        {
          "output_type": "stream",
          "name": "stderr",
          "text": [
            "\r 17%|█▋        | 17/100 [01:40<08:07,  5.88s/it]"
          ]
        },
        {
          "output_type": "stream",
          "name": "stdout",
          "text": [
            "Epoch: 17, Loss: 1.2917814254760742\n"
          ]
        },
        {
          "output_type": "stream",
          "name": "stderr",
          "text": [
            "\r 18%|█▊        | 18/100 [01:46<07:59,  5.85s/it]"
          ]
        },
        {
          "output_type": "stream",
          "name": "stdout",
          "text": [
            "Epoch: 18, Loss: 1.3032691478729248\n"
          ]
        },
        {
          "output_type": "stream",
          "name": "stderr",
          "text": [
            "\r 19%|█▉        | 19/100 [01:52<07:48,  5.79s/it]"
          ]
        },
        {
          "output_type": "stream",
          "name": "stdout",
          "text": [
            "Epoch: 19, Loss: 1.2451093196868896\n"
          ]
        },
        {
          "output_type": "stream",
          "name": "stderr",
          "text": [
            "\r 20%|██        | 20/100 [01:58<07:53,  5.92s/it]"
          ]
        },
        {
          "output_type": "stream",
          "name": "stdout",
          "text": [
            "Epoch: 20, Loss: 1.2962908744812012\n"
          ]
        },
        {
          "output_type": "stream",
          "name": "stderr",
          "text": [
            "\r 21%|██        | 21/100 [02:04<07:39,  5.81s/it]"
          ]
        },
        {
          "output_type": "stream",
          "name": "stdout",
          "text": [
            "Epoch: 21, Loss: 1.2655482292175293\n"
          ]
        },
        {
          "output_type": "stream",
          "name": "stderr",
          "text": [
            "\r 22%|██▏       | 22/100 [02:10<07:45,  5.97s/it]"
          ]
        },
        {
          "output_type": "stream",
          "name": "stdout",
          "text": [
            "Epoch: 22, Loss: 1.0936450958251953\n"
          ]
        },
        {
          "output_type": "stream",
          "name": "stderr",
          "text": [
            "\r 23%|██▎       | 23/100 [02:16<07:29,  5.84s/it]"
          ]
        },
        {
          "output_type": "stream",
          "name": "stdout",
          "text": [
            "Epoch: 23, Loss: 1.1857309341430664\n"
          ]
        },
        {
          "output_type": "stream",
          "name": "stderr",
          "text": [
            "\r 24%|██▍       | 24/100 [02:22<07:37,  6.01s/it]"
          ]
        },
        {
          "output_type": "stream",
          "name": "stdout",
          "text": [
            "Epoch: 24, Loss: 1.265112280845642\n"
          ]
        },
        {
          "output_type": "stream",
          "name": "stderr",
          "text": [
            "\r 25%|██▌       | 25/100 [02:27<07:19,  5.86s/it]"
          ]
        },
        {
          "output_type": "stream",
          "name": "stdout",
          "text": [
            "Epoch: 25, Loss: 1.3547712564468384\n"
          ]
        },
        {
          "output_type": "stream",
          "name": "stderr",
          "text": [
            "\r 26%|██▌       | 26/100 [02:34<07:22,  5.98s/it]"
          ]
        },
        {
          "output_type": "stream",
          "name": "stdout",
          "text": [
            "Epoch: 26, Loss: 1.0556302070617676\n"
          ]
        },
        {
          "output_type": "stream",
          "name": "stderr",
          "text": [
            "\r 27%|██▋       | 27/100 [02:39<07:05,  5.83s/it]"
          ]
        },
        {
          "output_type": "stream",
          "name": "stdout",
          "text": [
            "Epoch: 27, Loss: 0.9517903327941895\n"
          ]
        },
        {
          "output_type": "stream",
          "name": "stderr",
          "text": [
            "\r 28%|██▊       | 28/100 [02:45<07:10,  5.97s/it]"
          ]
        },
        {
          "output_type": "stream",
          "name": "stdout",
          "text": [
            "Epoch: 28, Loss: 0.9913949966430664\n"
          ]
        },
        {
          "output_type": "stream",
          "name": "stderr",
          "text": [
            "\r 29%|██▉       | 29/100 [02:51<06:54,  5.84s/it]"
          ]
        },
        {
          "output_type": "stream",
          "name": "stdout",
          "text": [
            "Epoch: 29, Loss: 1.0773794651031494\n"
          ]
        },
        {
          "output_type": "stream",
          "name": "stderr",
          "text": [
            "\r 30%|███       | 30/100 [02:57<06:50,  5.87s/it]"
          ]
        },
        {
          "output_type": "stream",
          "name": "stdout",
          "text": [
            "Epoch: 30, Loss: 1.1767914295196533\n"
          ]
        },
        {
          "output_type": "stream",
          "name": "stderr",
          "text": [
            "\r 31%|███       | 31/100 [03:03<06:46,  5.89s/it]"
          ]
        },
        {
          "output_type": "stream",
          "name": "stdout",
          "text": [
            "Epoch: 31, Loss: 1.0668206214904785\n"
          ]
        },
        {
          "output_type": "stream",
          "name": "stderr",
          "text": [
            "\r 32%|███▏      | 32/100 [03:08<06:34,  5.81s/it]"
          ]
        },
        {
          "output_type": "stream",
          "name": "stdout",
          "text": [
            "Epoch: 32, Loss: 0.937820315361023\n"
          ]
        },
        {
          "output_type": "stream",
          "name": "stderr",
          "text": [
            "\r 33%|███▎      | 33/100 [03:15<06:38,  5.95s/it]"
          ]
        },
        {
          "output_type": "stream",
          "name": "stdout",
          "text": [
            "Epoch: 33, Loss: 0.902592658996582\n"
          ]
        },
        {
          "output_type": "stream",
          "name": "stderr",
          "text": [
            "\r 34%|███▍      | 34/100 [03:20<06:24,  5.82s/it]"
          ]
        },
        {
          "output_type": "stream",
          "name": "stdout",
          "text": [
            "Epoch: 34, Loss: 0.9042137861251831\n"
          ]
        },
        {
          "output_type": "stream",
          "name": "stderr",
          "text": [
            "\r 35%|███▌      | 35/100 [03:27<06:29,  5.99s/it]"
          ]
        },
        {
          "output_type": "stream",
          "name": "stdout",
          "text": [
            "Epoch: 35, Loss: 0.7982853651046753\n"
          ]
        },
        {
          "output_type": "stream",
          "name": "stderr",
          "text": [
            "\r 36%|███▌      | 36/100 [03:32<06:14,  5.85s/it]"
          ]
        },
        {
          "output_type": "stream",
          "name": "stdout",
          "text": [
            "Epoch: 36, Loss: 0.8056641817092896\n"
          ]
        },
        {
          "output_type": "stream",
          "name": "stderr",
          "text": [
            "\r 37%|███▋      | 37/100 [03:39<06:18,  6.01s/it]"
          ]
        },
        {
          "output_type": "stream",
          "name": "stdout",
          "text": [
            "Epoch: 37, Loss: 0.7302840352058411\n"
          ]
        },
        {
          "output_type": "stream",
          "name": "stderr",
          "text": [
            "\r 38%|███▊      | 38/100 [03:44<06:03,  5.87s/it]"
          ]
        },
        {
          "output_type": "stream",
          "name": "stdout",
          "text": [
            "Epoch: 38, Loss: 0.7521911859512329\n"
          ]
        },
        {
          "output_type": "stream",
          "name": "stderr",
          "text": [
            "\r 39%|███▉      | 39/100 [03:51<06:07,  6.03s/it]"
          ]
        },
        {
          "output_type": "stream",
          "name": "stdout",
          "text": [
            "Epoch: 39, Loss: 0.861760139465332\n"
          ]
        },
        {
          "output_type": "stream",
          "name": "stderr",
          "text": [
            "\r 40%|████      | 40/100 [03:56<05:53,  5.89s/it]"
          ]
        },
        {
          "output_type": "stream",
          "name": "stdout",
          "text": [
            "Epoch: 40, Loss: 0.8185726404190063\n"
          ]
        },
        {
          "output_type": "stream",
          "name": "stderr",
          "text": [
            "\r 41%|████      | 41/100 [04:02<05:55,  6.02s/it]"
          ]
        },
        {
          "output_type": "stream",
          "name": "stdout",
          "text": [
            "Epoch: 41, Loss: 0.7894019484519958\n"
          ]
        },
        {
          "output_type": "stream",
          "name": "stderr",
          "text": [
            "\r 42%|████▏     | 42/100 [04:08<05:40,  5.87s/it]"
          ]
        },
        {
          "output_type": "stream",
          "name": "stdout",
          "text": [
            "Epoch: 42, Loss: 0.6845830082893372\n"
          ]
        },
        {
          "output_type": "stream",
          "name": "stderr",
          "text": [
            "\r 43%|████▎     | 43/100 [04:14<05:37,  5.92s/it]"
          ]
        },
        {
          "output_type": "stream",
          "name": "stdout",
          "text": [
            "Epoch: 43, Loss: 0.7483940124511719\n"
          ]
        },
        {
          "output_type": "stream",
          "name": "stderr",
          "text": [
            "\r 44%|████▍     | 44/100 [04:20<05:30,  5.91s/it]"
          ]
        },
        {
          "output_type": "stream",
          "name": "stdout",
          "text": [
            "Epoch: 44, Loss: 0.6706234216690063\n"
          ]
        },
        {
          "output_type": "stream",
          "name": "stderr",
          "text": [
            "\r 45%|████▌     | 45/100 [04:26<05:21,  5.84s/it]"
          ]
        },
        {
          "output_type": "stream",
          "name": "stdout",
          "text": [
            "Epoch: 45, Loss: 0.5252074599266052\n"
          ]
        },
        {
          "output_type": "stream",
          "name": "stderr",
          "text": [
            "\r 46%|████▌     | 46/100 [04:32<05:20,  5.94s/it]"
          ]
        },
        {
          "output_type": "stream",
          "name": "stdout",
          "text": [
            "Epoch: 46, Loss: 0.7710164189338684\n"
          ]
        },
        {
          "output_type": "stream",
          "name": "stderr",
          "text": [
            "\r 47%|████▋     | 47/100 [04:37<05:08,  5.82s/it]"
          ]
        },
        {
          "output_type": "stream",
          "name": "stdout",
          "text": [
            "Epoch: 47, Loss: 0.6717877388000488\n"
          ]
        },
        {
          "output_type": "stream",
          "name": "stderr",
          "text": [
            "\r 48%|████▊     | 48/100 [04:44<05:10,  5.98s/it]"
          ]
        },
        {
          "output_type": "stream",
          "name": "stdout",
          "text": [
            "Epoch: 48, Loss: 0.9058713912963867\n"
          ]
        },
        {
          "output_type": "stream",
          "name": "stderr",
          "text": [
            "\r 49%|████▉     | 49/100 [04:49<04:56,  5.82s/it]"
          ]
        },
        {
          "output_type": "stream",
          "name": "stdout",
          "text": [
            "Epoch: 49, Loss: 0.8275600671768188\n"
          ]
        },
        {
          "output_type": "stream",
          "name": "stderr",
          "text": [
            "\r 50%|█████     | 50/100 [04:56<05:07,  6.15s/it]"
          ]
        },
        {
          "output_type": "stream",
          "name": "stdout",
          "text": [
            "Epoch: 50, Loss: 0.5637804865837097\n"
          ]
        },
        {
          "output_type": "stream",
          "name": "stderr",
          "text": [
            "\r 51%|█████     | 51/100 [05:02<04:56,  6.05s/it]"
          ]
        },
        {
          "output_type": "stream",
          "name": "stdout",
          "text": [
            "Epoch: 51, Loss: 0.6523633003234863\n"
          ]
        },
        {
          "output_type": "stream",
          "name": "stderr",
          "text": [
            "\r 52%|█████▏    | 52/100 [05:08<04:55,  6.15s/it]"
          ]
        },
        {
          "output_type": "stream",
          "name": "stdout",
          "text": [
            "Epoch: 52, Loss: 0.6091826558113098\n"
          ]
        },
        {
          "output_type": "stream",
          "name": "stderr",
          "text": [
            "\r 53%|█████▎    | 53/100 [05:14<04:39,  5.95s/it]"
          ]
        },
        {
          "output_type": "stream",
          "name": "stdout",
          "text": [
            "Epoch: 53, Loss: 0.6664692163467407\n"
          ]
        },
        {
          "output_type": "stream",
          "name": "stderr",
          "text": [
            "\r 54%|█████▍    | 54/100 [05:20<04:39,  6.07s/it]"
          ]
        },
        {
          "output_type": "stream",
          "name": "stdout",
          "text": [
            "Epoch: 54, Loss: 0.6547764539718628\n"
          ]
        },
        {
          "output_type": "stream",
          "name": "stderr",
          "text": [
            "\r 55%|█████▌    | 55/100 [05:25<04:24,  5.89s/it]"
          ]
        },
        {
          "output_type": "stream",
          "name": "stdout",
          "text": [
            "Epoch: 55, Loss: 0.9247150421142578\n"
          ]
        },
        {
          "output_type": "stream",
          "name": "stderr",
          "text": [
            "\r 56%|█████▌    | 56/100 [05:32<04:24,  6.01s/it]"
          ]
        },
        {
          "output_type": "stream",
          "name": "stdout",
          "text": [
            "Epoch: 56, Loss: 0.6564657688140869\n"
          ]
        },
        {
          "output_type": "stream",
          "name": "stderr",
          "text": [
            "\r 57%|█████▋    | 57/100 [05:37<04:12,  5.88s/it]"
          ]
        },
        {
          "output_type": "stream",
          "name": "stdout",
          "text": [
            "Epoch: 57, Loss: 0.6348287463188171\n"
          ]
        },
        {
          "output_type": "stream",
          "name": "stderr",
          "text": [
            "\r 58%|█████▊    | 58/100 [05:44<04:15,  6.08s/it]"
          ]
        },
        {
          "output_type": "stream",
          "name": "stdout",
          "text": [
            "Epoch: 58, Loss: 0.6362752318382263\n"
          ]
        },
        {
          "output_type": "stream",
          "name": "stderr",
          "text": [
            "\r 59%|█████▉    | 59/100 [05:50<04:07,  6.03s/it]"
          ]
        },
        {
          "output_type": "stream",
          "name": "stdout",
          "text": [
            "Epoch: 59, Loss: 0.651766836643219\n"
          ]
        },
        {
          "output_type": "stream",
          "name": "stderr",
          "text": [
            "\r 60%|██████    | 60/100 [05:55<03:56,  5.91s/it]"
          ]
        },
        {
          "output_type": "stream",
          "name": "stdout",
          "text": [
            "Epoch: 60, Loss: 0.5797518491744995\n"
          ]
        },
        {
          "output_type": "stream",
          "name": "stderr",
          "text": [
            "\r 61%|██████    | 61/100 [06:02<03:54,  6.01s/it]"
          ]
        },
        {
          "output_type": "stream",
          "name": "stdout",
          "text": [
            "Epoch: 61, Loss: 0.7314668893814087\n"
          ]
        },
        {
          "output_type": "stream",
          "name": "stderr",
          "text": [
            "\r 62%|██████▏   | 62/100 [06:07<03:43,  5.87s/it]"
          ]
        },
        {
          "output_type": "stream",
          "name": "stdout",
          "text": [
            "Epoch: 62, Loss: 0.5151911973953247\n"
          ]
        },
        {
          "output_type": "stream",
          "name": "stderr",
          "text": [
            "\r 63%|██████▎   | 63/100 [06:14<03:42,  6.02s/it]"
          ]
        },
        {
          "output_type": "stream",
          "name": "stdout",
          "text": [
            "Epoch: 63, Loss: 0.5990029573440552\n"
          ]
        },
        {
          "output_type": "stream",
          "name": "stderr",
          "text": [
            "\r 64%|██████▍   | 64/100 [06:19<03:31,  5.87s/it]"
          ]
        },
        {
          "output_type": "stream",
          "name": "stdout",
          "text": [
            "Epoch: 64, Loss: 0.6065275073051453\n"
          ]
        },
        {
          "output_type": "stream",
          "name": "stderr",
          "text": [
            "\r 65%|██████▌   | 65/100 [06:26<03:31,  6.03s/it]"
          ]
        },
        {
          "output_type": "stream",
          "name": "stdout",
          "text": [
            "Epoch: 65, Loss: 0.5718080997467041\n"
          ]
        },
        {
          "output_type": "stream",
          "name": "stderr",
          "text": [
            "\r 66%|██████▌   | 66/100 [06:31<03:18,  5.83s/it]"
          ]
        },
        {
          "output_type": "stream",
          "name": "stdout",
          "text": [
            "Epoch: 66, Loss: 0.4960091710090637\n"
          ]
        },
        {
          "output_type": "stream",
          "name": "stderr",
          "text": [
            "\r 67%|██████▋   | 67/100 [06:37<03:16,  5.95s/it]"
          ]
        },
        {
          "output_type": "stream",
          "name": "stdout",
          "text": [
            "Epoch: 67, Loss: 0.5619643926620483\n"
          ]
        },
        {
          "output_type": "stream",
          "name": "stderr",
          "text": [
            "\r 68%|██████▊   | 68/100 [06:43<03:06,  5.82s/it]"
          ]
        },
        {
          "output_type": "stream",
          "name": "stdout",
          "text": [
            "Epoch: 68, Loss: 0.64657062292099\n"
          ]
        },
        {
          "output_type": "stream",
          "name": "stderr",
          "text": [
            "\r 69%|██████▉   | 69/100 [06:49<03:05,  5.97s/it]"
          ]
        },
        {
          "output_type": "stream",
          "name": "stdout",
          "text": [
            "Epoch: 69, Loss: 0.5532312393188477\n"
          ]
        },
        {
          "output_type": "stream",
          "name": "stderr",
          "text": [
            "\r 70%|███████   | 70/100 [06:55<02:55,  5.85s/it]"
          ]
        },
        {
          "output_type": "stream",
          "name": "stdout",
          "text": [
            "Epoch: 70, Loss: 0.5995537042617798\n"
          ]
        },
        {
          "output_type": "stream",
          "name": "stderr",
          "text": [
            "\r 71%|███████   | 71/100 [07:01<02:51,  5.90s/it]"
          ]
        },
        {
          "output_type": "stream",
          "name": "stdout",
          "text": [
            "Epoch: 71, Loss: 0.7022536396980286\n"
          ]
        },
        {
          "output_type": "stream",
          "name": "stderr",
          "text": [
            "\r 72%|███████▏  | 72/100 [07:06<02:44,  5.89s/it]"
          ]
        },
        {
          "output_type": "stream",
          "name": "stdout",
          "text": [
            "Epoch: 72, Loss: 0.6778134107589722\n"
          ]
        },
        {
          "output_type": "stream",
          "name": "stderr",
          "text": [
            "\r 73%|███████▎  | 73/100 [07:12<02:37,  5.82s/it]"
          ]
        },
        {
          "output_type": "stream",
          "name": "stdout",
          "text": [
            "Epoch: 73, Loss: 0.4786166250705719\n"
          ]
        },
        {
          "output_type": "stream",
          "name": "stderr",
          "text": [
            "\r 74%|███████▍  | 74/100 [07:18<02:34,  5.95s/it]"
          ]
        },
        {
          "output_type": "stream",
          "name": "stdout",
          "text": [
            "Epoch: 74, Loss: 0.6167012453079224\n"
          ]
        },
        {
          "output_type": "stream",
          "name": "stderr",
          "text": [
            "\r 75%|███████▌  | 75/100 [07:24<02:25,  5.83s/it]"
          ]
        },
        {
          "output_type": "stream",
          "name": "stdout",
          "text": [
            "Epoch: 75, Loss: 0.4903317093849182\n"
          ]
        },
        {
          "output_type": "stream",
          "name": "stderr",
          "text": [
            "\r 76%|███████▌  | 76/100 [07:30<02:22,  5.93s/it]"
          ]
        },
        {
          "output_type": "stream",
          "name": "stdout",
          "text": [
            "Epoch: 76, Loss: 0.49548137187957764\n"
          ]
        },
        {
          "output_type": "stream",
          "name": "stderr",
          "text": [
            "\r 77%|███████▋  | 77/100 [07:36<02:13,  5.80s/it]"
          ]
        },
        {
          "output_type": "stream",
          "name": "stdout",
          "text": [
            "Epoch: 77, Loss: 0.6782726645469666\n"
          ]
        },
        {
          "output_type": "stream",
          "name": "stderr",
          "text": [
            "\r 78%|███████▊  | 78/100 [07:42<02:11,  5.98s/it]"
          ]
        },
        {
          "output_type": "stream",
          "name": "stdout",
          "text": [
            "Epoch: 78, Loss: 0.6162128448486328\n"
          ]
        },
        {
          "output_type": "stream",
          "name": "stderr",
          "text": [
            "\r 79%|███████▉  | 79/100 [07:47<02:02,  5.84s/it]"
          ]
        },
        {
          "output_type": "stream",
          "name": "stdout",
          "text": [
            "Epoch: 79, Loss: 0.5221194624900818\n"
          ]
        },
        {
          "output_type": "stream",
          "name": "stderr",
          "text": [
            "\r 80%|████████  | 80/100 [07:54<02:00,  6.04s/it]"
          ]
        },
        {
          "output_type": "stream",
          "name": "stdout",
          "text": [
            "Epoch: 80, Loss: 0.6164288520812988\n"
          ]
        },
        {
          "output_type": "stream",
          "name": "stderr",
          "text": [
            "\r 81%|████████  | 81/100 [07:59<01:51,  5.89s/it]"
          ]
        },
        {
          "output_type": "stream",
          "name": "stdout",
          "text": [
            "Epoch: 81, Loss: 0.4847797751426697\n"
          ]
        },
        {
          "output_type": "stream",
          "name": "stderr",
          "text": [
            "\r 82%|████████▏ | 82/100 [08:06<01:48,  6.04s/it]"
          ]
        },
        {
          "output_type": "stream",
          "name": "stdout",
          "text": [
            "Epoch: 82, Loss: 0.6596328020095825\n"
          ]
        },
        {
          "output_type": "stream",
          "name": "stderr",
          "text": [
            "\r 83%|████████▎ | 83/100 [08:11<01:40,  5.90s/it]"
          ]
        },
        {
          "output_type": "stream",
          "name": "stdout",
          "text": [
            "Epoch: 83, Loss: 0.6651067733764648\n"
          ]
        },
        {
          "output_type": "stream",
          "name": "stderr",
          "text": [
            "\r 84%|████████▍ | 84/100 [08:18<01:35,  5.96s/it]"
          ]
        },
        {
          "output_type": "stream",
          "name": "stdout",
          "text": [
            "Epoch: 84, Loss: 0.5531089901924133\n"
          ]
        },
        {
          "output_type": "stream",
          "name": "stderr",
          "text": [
            "\r 85%|████████▌ | 85/100 [08:23<01:28,  5.91s/it]"
          ]
        },
        {
          "output_type": "stream",
          "name": "stdout",
          "text": [
            "Epoch: 85, Loss: 0.4573189914226532\n"
          ]
        },
        {
          "output_type": "stream",
          "name": "stderr",
          "text": [
            "\r 86%|████████▌ | 86/100 [08:29<01:21,  5.85s/it]"
          ]
        },
        {
          "output_type": "stream",
          "name": "stdout",
          "text": [
            "Epoch: 86, Loss: 0.4885534346103668\n"
          ]
        },
        {
          "output_type": "stream",
          "name": "stderr",
          "text": [
            "\r 87%|████████▋ | 87/100 [08:35<01:17,  5.97s/it]"
          ]
        },
        {
          "output_type": "stream",
          "name": "stdout",
          "text": [
            "Epoch: 87, Loss: 0.451158732175827\n"
          ]
        },
        {
          "output_type": "stream",
          "name": "stderr",
          "text": [
            "\r 88%|████████▊ | 88/100 [08:41<01:10,  5.85s/it]"
          ]
        },
        {
          "output_type": "stream",
          "name": "stdout",
          "text": [
            "Epoch: 88, Loss: 0.5822319984436035\n"
          ]
        },
        {
          "output_type": "stream",
          "name": "stderr",
          "text": [
            "\r 89%|████████▉ | 89/100 [08:47<01:06,  6.01s/it]"
          ]
        },
        {
          "output_type": "stream",
          "name": "stdout",
          "text": [
            "Epoch: 89, Loss: 0.6069812178611755\n"
          ]
        },
        {
          "output_type": "stream",
          "name": "stderr",
          "text": [
            "\r 90%|█████████ | 90/100 [08:53<00:58,  5.88s/it]"
          ]
        },
        {
          "output_type": "stream",
          "name": "stdout",
          "text": [
            "Epoch: 90, Loss: 0.4350907802581787\n"
          ]
        },
        {
          "output_type": "stream",
          "name": "stderr",
          "text": [
            "\r 91%|█████████ | 91/100 [08:59<00:54,  6.03s/it]"
          ]
        },
        {
          "output_type": "stream",
          "name": "stdout",
          "text": [
            "Epoch: 91, Loss: 0.400992214679718\n"
          ]
        },
        {
          "output_type": "stream",
          "name": "stderr",
          "text": [
            "\r 92%|█████████▏| 92/100 [09:05<00:47,  5.89s/it]"
          ]
        },
        {
          "output_type": "stream",
          "name": "stdout",
          "text": [
            "Epoch: 92, Loss: 0.3757736384868622\n"
          ]
        },
        {
          "output_type": "stream",
          "name": "stderr",
          "text": [
            "\r 93%|█████████▎| 93/100 [09:11<00:42,  6.04s/it]"
          ]
        },
        {
          "output_type": "stream",
          "name": "stdout",
          "text": [
            "Epoch: 93, Loss: 0.4884915351867676\n"
          ]
        },
        {
          "output_type": "stream",
          "name": "stderr",
          "text": [
            "\r 94%|█████████▍| 94/100 [09:17<00:35,  5.89s/it]"
          ]
        },
        {
          "output_type": "stream",
          "name": "stdout",
          "text": [
            "Epoch: 94, Loss: 0.40156930685043335\n"
          ]
        },
        {
          "output_type": "stream",
          "name": "stderr",
          "text": [
            "\r 95%|█████████▌| 95/100 [09:23<00:30,  6.04s/it]"
          ]
        },
        {
          "output_type": "stream",
          "name": "stdout",
          "text": [
            "Epoch: 95, Loss: 0.5747473239898682\n"
          ]
        },
        {
          "output_type": "stream",
          "name": "stderr",
          "text": [
            "\r 96%|█████████▌| 96/100 [09:29<00:24,  6.06s/it]"
          ]
        },
        {
          "output_type": "stream",
          "name": "stdout",
          "text": [
            "Epoch: 96, Loss: 0.5181127786636353\n"
          ]
        },
        {
          "output_type": "stream",
          "name": "stderr",
          "text": [
            "\r 97%|█████████▋| 97/100 [09:36<00:18,  6.24s/it]"
          ]
        },
        {
          "output_type": "stream",
          "name": "stdout",
          "text": [
            "Epoch: 97, Loss: 0.4606102705001831\n"
          ]
        },
        {
          "output_type": "stream",
          "name": "stderr",
          "text": [
            "\r 98%|█████████▊| 98/100 [09:41<00:12,  6.04s/it]"
          ]
        },
        {
          "output_type": "stream",
          "name": "stdout",
          "text": [
            "Epoch: 98, Loss: 0.45930391550064087\n"
          ]
        },
        {
          "output_type": "stream",
          "name": "stderr",
          "text": [
            "\r 99%|█████████▉| 99/100 [09:48<00:06,  6.10s/it]"
          ]
        },
        {
          "output_type": "stream",
          "name": "stdout",
          "text": [
            "Epoch: 99, Loss: 0.42324739694595337\n"
          ]
        },
        {
          "output_type": "stream",
          "name": "stderr",
          "text": [
            "100%|██████████| 100/100 [09:53<00:00,  5.94s/it]"
          ]
        },
        {
          "output_type": "stream",
          "name": "stdout",
          "text": [
            "Epoch: 100, Loss: 0.5164247155189514\n"
          ]
        },
        {
          "output_type": "stream",
          "name": "stderr",
          "text": [
            "\n"
          ]
        }
      ]
    },
    {
      "cell_type": "code",
      "source": [
        "final_user_representations = {}\n",
        "repr = pos_z\n",
        "for i in range(pos_z.shape[0]):\n",
        "  final_user_representations[i] = (i, repr[i].detach(), user_representations[i][1])"
      ],
      "metadata": {
        "id": "w3Xu2FVfiCU0"
      },
      "execution_count": 67,
      "outputs": []
    },
    {
      "cell_type": "code",
      "execution_count": 68,
      "metadata": {
        "id": "wIQc4D1piCU0"
      },
      "outputs": [],
      "source": [
        "user_dataset = UserDataset(final_user_representations)\n",
        "\n",
        "n = len(user_dataset)\n",
        "\n",
        "indices = np.arange(n)\n",
        "indices = np.random.permutation(indices)\n",
        "\n",
        "train_indices = indices [:int(0.8*n)]\n",
        "test_indices = indices[int(0.8*n):]\n",
        "\n",
        "user_train_dataset = Subset(user_dataset, train_indices)\n",
        "user_test_dataset = Subset(user_dataset, test_indices)\n",
        "\n",
        "user_train_dataloader = DataLoader(user_train_dataset, batch_size=64, shuffle=True)\n",
        "user_test_dataloader = DataLoader(user_test_dataset, batch_size=64, shuffle=True)"
      ]
    },
    {
      "cell_type": "code",
      "execution_count": 69,
      "metadata": {
        "id": "H6EzO1GHiCU0"
      },
      "outputs": [],
      "source": [
        "num_classes = 186\n",
        "classes = np.arange(0, num_classes)"
      ]
    },
    {
      "cell_type": "code",
      "source": [
        "head_model = train2task()\n",
        "torch.save(head_model.state_dict(), 'edge_dropout_only_infomax_model.pth')"
      ],
      "metadata": {
        "id": "fQeXwFsUiCU0",
        "colab": {
          "base_uri": "https://localhost:8080/"
        },
        "outputId": "90d36ef1-f7b7-4010-dbe2-e2b107defb4a"
      },
      "execution_count": 70,
      "outputs": [
        {
          "output_type": "stream",
          "name": "stdout",
          "text": [
            "Epoch: 0, Loss: 4.3176398277282715\n",
            "Epoch: 1, Loss: 4.181057929992676\n",
            "Epoch: 2, Loss: 4.10624361038208\n",
            "Epoch: 3, Loss: 4.054159641265869\n",
            "Epoch: 4, Loss: 4.013622760772705\n",
            "Epoch: 5, Loss: 3.980647563934326\n",
            "Epoch: 6, Loss: 3.952723979949951\n",
            "Epoch: 7, Loss: 3.928549289703369\n",
            "Epoch: 8, Loss: 3.907130718231201\n",
            "Epoch: 9, Loss: 3.887968063354492\n",
            "Epoch: 10, Loss: 3.870573043823242\n",
            "Epoch: 11, Loss: 3.8547472953796387\n",
            "Epoch: 12, Loss: 3.8401265144348145\n",
            "Epoch: 13, Loss: 3.8266243934631348\n",
            "Epoch: 14, Loss: 3.814082622528076\n",
            "Epoch: 15, Loss: 3.8023440837860107\n",
            "Epoch: 16, Loss: 3.791351318359375\n",
            "Epoch: 17, Loss: 3.780987024307251\n",
            "Epoch: 18, Loss: 3.7712109088897705\n",
            "Epoch: 19, Loss: 3.7618789672851562\n",
            "Epoch: 20, Loss: 3.753053903579712\n",
            "Epoch: 21, Loss: 3.7446439266204834\n",
            "Epoch: 22, Loss: 3.7366271018981934\n",
            "Epoch: 23, Loss: 3.7289466857910156\n",
            "Epoch: 24, Loss: 3.721579074859619\n",
            "Epoch: 25, Loss: 3.7145001888275146\n",
            "Epoch: 26, Loss: 3.707683563232422\n",
            "Epoch: 27, Loss: 3.701129674911499\n",
            "Epoch: 28, Loss: 3.6948130130767822\n",
            "Epoch: 29, Loss: 3.6886909008026123\n",
            "Epoch: 30, Loss: 3.682807207107544\n",
            "Epoch: 31, Loss: 3.6771011352539062\n",
            "Epoch: 32, Loss: 3.6715731620788574\n",
            "Epoch: 33, Loss: 3.6661956310272217\n",
            "Epoch: 34, Loss: 3.660989284515381\n",
            "Epoch: 35, Loss: 3.655951738357544\n",
            "Epoch: 36, Loss: 3.651061773300171\n",
            "Epoch: 37, Loss: 3.6462886333465576\n",
            "Epoch: 38, Loss: 3.6416738033294678\n",
            "Epoch: 39, Loss: 3.6371653079986572\n",
            "Epoch: 40, Loss: 3.6327731609344482\n",
            "Epoch: 41, Loss: 3.6284987926483154\n",
            "Epoch: 42, Loss: 3.62429141998291\n",
            "Epoch: 43, Loss: 3.620224714279175\n",
            "Epoch: 44, Loss: 3.6162362098693848\n",
            "Epoch: 45, Loss: 3.6123533248901367\n",
            "Epoch: 46, Loss: 3.6085305213928223\n",
            "Epoch: 47, Loss: 3.604809522628784\n",
            "Epoch: 48, Loss: 3.601189136505127\n",
            "Epoch: 49, Loss: 3.5976309776306152\n",
            "Epoch: 50, Loss: 3.5941531658172607\n",
            "Epoch: 51, Loss: 3.5907211303710938\n",
            "Epoch: 52, Loss: 3.587371826171875\n",
            "Epoch: 53, Loss: 3.584073543548584\n",
            "Epoch: 54, Loss: 3.580853223800659\n",
            "Epoch: 55, Loss: 3.577697515487671\n",
            "Epoch: 56, Loss: 3.5745863914489746\n",
            "Epoch: 57, Loss: 3.5715315341949463\n",
            "Epoch: 58, Loss: 3.5685434341430664\n",
            "Epoch: 59, Loss: 3.5655999183654785\n",
            "Epoch: 60, Loss: 3.562708616256714\n",
            "Epoch: 61, Loss: 3.559865951538086\n",
            "Epoch: 62, Loss: 3.5570805072784424\n",
            "Epoch: 63, Loss: 3.554332733154297\n",
            "Epoch: 64, Loss: 3.5516505241394043\n",
            "Epoch: 65, Loss: 3.5489919185638428\n",
            "Epoch: 66, Loss: 3.546369791030884\n",
            "Epoch: 67, Loss: 3.5437920093536377\n",
            "Epoch: 68, Loss: 3.5412650108337402\n",
            "Epoch: 69, Loss: 3.538773536682129\n",
            "Epoch: 70, Loss: 3.536301374435425\n",
            "Epoch: 71, Loss: 3.5338847637176514\n",
            "Epoch: 72, Loss: 3.5315093994140625\n",
            "Epoch: 73, Loss: 3.529165744781494\n",
            "Epoch: 74, Loss: 3.5268445014953613\n",
            "Epoch: 75, Loss: 3.524557113647461\n",
            "Epoch: 76, Loss: 3.522301197052002\n",
            "Epoch: 77, Loss: 3.5200846195220947\n",
            "Epoch: 78, Loss: 3.517910957336426\n",
            "Epoch: 79, Loss: 3.5157546997070312\n",
            "Epoch: 80, Loss: 3.513617753982544\n",
            "Epoch: 81, Loss: 3.511521339416504\n",
            "Epoch: 82, Loss: 3.5094447135925293\n",
            "Epoch: 83, Loss: 3.507404088973999\n",
            "Epoch: 84, Loss: 3.505390167236328\n",
            "Epoch: 85, Loss: 3.503391981124878\n",
            "Epoch: 86, Loss: 3.501417398452759\n",
            "Epoch: 87, Loss: 3.499469757080078\n",
            "Epoch: 88, Loss: 3.497551202774048\n",
            "Epoch: 89, Loss: 3.495645046234131\n",
            "Epoch: 90, Loss: 3.493765115737915\n",
            "Epoch: 91, Loss: 3.491917371749878\n",
            "Epoch: 92, Loss: 3.4900805950164795\n",
            "Epoch: 93, Loss: 3.488262414932251\n",
            "Epoch: 94, Loss: 3.4864749908447266\n",
            "Epoch: 95, Loss: 3.4847054481506348\n",
            "Epoch: 96, Loss: 3.482961416244507\n",
            "Epoch: 97, Loss: 3.481233835220337\n",
            "Epoch: 98, Loss: 3.4795284271240234\n",
            "Epoch: 99, Loss: 3.4778337478637695\n",
            "Epoch: 100, Loss: 3.476158618927002\n",
            "Epoch: 101, Loss: 3.474499464035034\n",
            "Epoch: 102, Loss: 3.4728662967681885\n",
            "Epoch: 103, Loss: 3.4712343215942383\n",
            "Epoch: 104, Loss: 3.4696285724639893\n",
            "Epoch: 105, Loss: 3.4680354595184326\n",
            "Epoch: 106, Loss: 3.4664690494537354\n",
            "Epoch: 107, Loss: 3.464921236038208\n",
            "Epoch: 108, Loss: 3.4633708000183105\n",
            "Epoch: 109, Loss: 3.4618496894836426\n",
            "Epoch: 110, Loss: 3.4603383541107178\n",
            "Epoch: 111, Loss: 3.45883846282959\n",
            "Epoch: 112, Loss: 3.4573583602905273\n",
            "Epoch: 113, Loss: 3.455886125564575\n",
            "Epoch: 114, Loss: 3.4544382095336914\n",
            "Epoch: 115, Loss: 3.452996253967285\n",
            "Epoch: 116, Loss: 3.4515740871429443\n",
            "Epoch: 117, Loss: 3.4501633644104004\n",
            "Epoch: 118, Loss: 3.448760986328125\n",
            "Epoch: 119, Loss: 3.4473702907562256\n",
            "Epoch: 120, Loss: 3.4459948539733887\n",
            "Epoch: 121, Loss: 3.444631814956665\n",
            "Epoch: 122, Loss: 3.443281412124634\n",
            "Epoch: 123, Loss: 3.4419384002685547\n",
            "Epoch: 124, Loss: 3.440619468688965\n",
            "Epoch: 125, Loss: 3.439300775527954\n",
            "Epoch: 126, Loss: 3.4379894733428955\n",
            "Epoch: 127, Loss: 3.436699151992798\n",
            "Epoch: 128, Loss: 3.4354147911071777\n",
            "Epoch: 129, Loss: 3.434145450592041\n",
            "Epoch: 130, Loss: 3.43288254737854\n",
            "Epoch: 131, Loss: 3.4316306114196777\n",
            "Epoch: 132, Loss: 3.430387496948242\n",
            "Epoch: 133, Loss: 3.429161787033081\n",
            "Epoch: 134, Loss: 3.4279379844665527\n",
            "Epoch: 135, Loss: 3.426727533340454\n",
            "Epoch: 136, Loss: 3.4255220890045166\n",
            "Epoch: 137, Loss: 3.4243311882019043\n",
            "Epoch: 138, Loss: 3.423150062561035\n",
            "Epoch: 139, Loss: 3.4219746589660645\n",
            "Epoch: 140, Loss: 3.4208173751831055\n",
            "Epoch: 141, Loss: 3.4196624755859375\n",
            "Epoch: 142, Loss: 3.4185147285461426\n",
            "Epoch: 143, Loss: 3.4173824787139893\n",
            "Epoch: 144, Loss: 3.416254997253418\n",
            "Epoch: 145, Loss: 3.4151408672332764\n",
            "Epoch: 146, Loss: 3.4140262603759766\n",
            "Epoch: 147, Loss: 3.4129245281219482\n",
            "Epoch: 148, Loss: 3.411832571029663\n",
            "Epoch: 149, Loss: 3.410749912261963\n",
            "Epoch: 150, Loss: 3.409677267074585\n",
            "Epoch: 151, Loss: 3.408607244491577\n",
            "Epoch: 152, Loss: 3.407545566558838\n",
            "Epoch: 153, Loss: 3.4064927101135254\n",
            "Epoch: 154, Loss: 3.405446767807007\n",
            "Epoch: 155, Loss: 3.4044082164764404\n",
            "Epoch: 156, Loss: 3.4033772945404053\n",
            "Epoch: 157, Loss: 3.402350425720215\n",
            "Epoch: 158, Loss: 3.4013326168060303\n",
            "Epoch: 159, Loss: 3.400327444076538\n",
            "Epoch: 160, Loss: 3.3993194103240967\n",
            "Epoch: 161, Loss: 3.398325204849243\n",
            "Epoch: 162, Loss: 3.3973379135131836\n",
            "Epoch: 163, Loss: 3.396352529525757\n",
            "Epoch: 164, Loss: 3.395378351211548\n",
            "Epoch: 165, Loss: 3.39440655708313\n",
            "Epoch: 166, Loss: 3.3934438228607178\n",
            "Epoch: 167, Loss: 3.3924880027770996\n",
            "Epoch: 168, Loss: 3.391543388366699\n",
            "Epoch: 169, Loss: 3.390597105026245\n",
            "Epoch: 170, Loss: 3.389657497406006\n",
            "Epoch: 171, Loss: 3.3887245655059814\n",
            "Epoch: 172, Loss: 3.3877952098846436\n",
            "Epoch: 173, Loss: 3.3868770599365234\n",
            "Epoch: 174, Loss: 3.3859686851501465\n",
            "Epoch: 175, Loss: 3.385061502456665\n",
            "Epoch: 176, Loss: 3.384160041809082\n",
            "Epoch: 177, Loss: 3.3832595348358154\n",
            "Epoch: 178, Loss: 3.3823728561401367\n",
            "Epoch: 179, Loss: 3.3814849853515625\n",
            "Epoch: 180, Loss: 3.380605936050415\n",
            "Epoch: 181, Loss: 3.379730701446533\n",
            "Epoch: 182, Loss: 3.378859281539917\n",
            "Epoch: 183, Loss: 3.378000259399414\n",
            "Epoch: 184, Loss: 3.3771395683288574\n",
            "Epoch: 185, Loss: 3.3762879371643066\n",
            "Epoch: 186, Loss: 3.375436782836914\n",
            "Epoch: 187, Loss: 3.3745884895324707\n",
            "Epoch: 188, Loss: 3.373749256134033\n",
            "Epoch: 189, Loss: 3.3729135990142822\n",
            "Epoch: 190, Loss: 3.372084379196167\n",
            "Epoch: 191, Loss: 3.3712544441223145\n",
            "Epoch: 192, Loss: 3.3704326152801514\n",
            "Epoch: 193, Loss: 3.3696179389953613\n",
            "Epoch: 194, Loss: 3.3688101768493652\n",
            "Epoch: 195, Loss: 3.368006467819214\n",
            "Epoch: 196, Loss: 3.3672072887420654\n",
            "Epoch: 197, Loss: 3.3664097785949707\n",
            "Epoch: 198, Loss: 3.365618944168091\n",
            "Epoch: 199, Loss: 3.364827871322632\n",
            "hits@1: 0.233015, hits@5: 0.447428, hits@10: 0.572616, hits@20: 0.710250\n",
            "hits@50: 0.892932, hits@100: 0.984142\n",
            "map@1: 0.233015, map@5: 0.311151, map@10: 0.327612, map@20: 0.337118\n",
            "map@50: 0.343113, map@100: 0.344489\n",
            "ndcg@1: 0.233015, ndcg@5: 0.345012, ndcg@10: 0.385250, ndcg@20: 0.419993\n",
            "ndcg@50: 0.456544, ndcg@100: 0.471532\n"
          ]
        }
      ]
    },
    {
      "cell_type": "markdown",
      "source": [
        "### Random walk, only infomax"
      ],
      "metadata": {
        "id": "SJObZ20-icRc"
      }
    },
    {
      "cell_type": "code",
      "source": [
        "# device = torch.device('cuda' if torch.cuda.is_available() else 'cpu')\n",
        "device = torch.device('cpu')\n",
        "model = DeepGraphInfomax(hidden_channels=128,\n",
        "                         encoder=Encoder(interm_channels=74, hidden_channels=128,\n",
        "                                         num_features=128),\n",
        "                         summary=lambda z, *args, **kwargs: torch.sigmoid(z.mean(dim=0)),\n",
        "                         corruption=random_walk).to(device)\n",
        "linkmodel = LinkPredHead()\n",
        "optimizer = torch.optim.AdamW(model.parameters(), lr=0.0005)\n",
        "loss_bce = nn.BCEWithLogitsLoss()"
      ],
      "metadata": {
        "id": "B2aIJhScimkS"
      },
      "execution_count": 71,
      "outputs": []
    },
    {
      "cell_type": "code",
      "source": [
        "num_epoch = 100\n",
        "loss_epoch = []\n",
        "for epoch in tqdm(range(1, num_epoch+1)):\n",
        "  if epoch == num_epoch:\n",
        "    pos_z, neg_z, summary, loss = train_only_infomax(epoch)\n",
        "  else:\n",
        "    loss = train_only_infomax(epoch)\n",
        "  loss_epoch.append(loss)"
      ],
      "metadata": {
        "colab": {
          "base_uri": "https://localhost:8080/"
        },
        "outputId": "33dff591-8345-453e-f0a2-d7ccb5cf9f5b",
        "id": "U5Qmp4u1imkT"
      },
      "execution_count": 72,
      "outputs": [
        {
          "output_type": "stream",
          "name": "stderr",
          "text": [
            "  1%|          | 1/100 [00:03<05:57,  3.61s/it]"
          ]
        },
        {
          "output_type": "stream",
          "name": "stdout",
          "text": [
            "Epoch: 1, Loss: 1.711686372756958\n"
          ]
        },
        {
          "output_type": "stream",
          "name": "stderr",
          "text": [
            "\r  2%|▏         | 2/100 [00:07<06:35,  4.03s/it]"
          ]
        },
        {
          "output_type": "stream",
          "name": "stdout",
          "text": [
            "Epoch: 2, Loss: 1.4071383476257324\n"
          ]
        },
        {
          "output_type": "stream",
          "name": "stderr",
          "text": [
            "\r  3%|▎         | 3/100 [00:11<06:07,  3.79s/it]"
          ]
        },
        {
          "output_type": "stream",
          "name": "stdout",
          "text": [
            "Epoch: 3, Loss: 1.3003087043762207\n"
          ]
        },
        {
          "output_type": "stream",
          "name": "stderr",
          "text": [
            "\r  4%|▍         | 4/100 [00:14<05:51,  3.66s/it]"
          ]
        },
        {
          "output_type": "stream",
          "name": "stdout",
          "text": [
            "Epoch: 4, Loss: 0.9399532675743103\n"
          ]
        },
        {
          "output_type": "stream",
          "name": "stderr",
          "text": [
            "\r  5%|▌         | 5/100 [00:18<05:49,  3.68s/it]"
          ]
        },
        {
          "output_type": "stream",
          "name": "stdout",
          "text": [
            "Epoch: 5, Loss: 1.3750450611114502\n"
          ]
        },
        {
          "output_type": "stream",
          "name": "stderr",
          "text": [
            "\r  6%|▌         | 6/100 [00:22<06:00,  3.84s/it]"
          ]
        },
        {
          "output_type": "stream",
          "name": "stdout",
          "text": [
            "Epoch: 6, Loss: 0.9901720285415649\n"
          ]
        },
        {
          "output_type": "stream",
          "name": "stderr",
          "text": [
            "\r  7%|▋         | 7/100 [00:26<05:47,  3.73s/it]"
          ]
        },
        {
          "output_type": "stream",
          "name": "stdout",
          "text": [
            "Epoch: 7, Loss: 1.1778173446655273\n"
          ]
        },
        {
          "output_type": "stream",
          "name": "stderr",
          "text": [
            "\r  8%|▊         | 8/100 [00:29<05:35,  3.65s/it]"
          ]
        },
        {
          "output_type": "stream",
          "name": "stdout",
          "text": [
            "Epoch: 8, Loss: 0.5564008951187134\n"
          ]
        },
        {
          "output_type": "stream",
          "name": "stderr",
          "text": [
            "\r  9%|▉         | 9/100 [00:34<05:50,  3.85s/it]"
          ]
        },
        {
          "output_type": "stream",
          "name": "stdout",
          "text": [
            "Epoch: 9, Loss: 0.7993941307067871\n"
          ]
        },
        {
          "output_type": "stream",
          "name": "stderr",
          "text": [
            "\r 10%|█         | 10/100 [00:37<05:36,  3.74s/it]"
          ]
        },
        {
          "output_type": "stream",
          "name": "stdout",
          "text": [
            "Epoch: 10, Loss: 0.9172267913818359\n"
          ]
        },
        {
          "output_type": "stream",
          "name": "stderr",
          "text": [
            "\r 11%|█         | 11/100 [00:41<05:26,  3.66s/it]"
          ]
        },
        {
          "output_type": "stream",
          "name": "stdout",
          "text": [
            "Epoch: 11, Loss: 1.1020342111587524\n"
          ]
        },
        {
          "output_type": "stream",
          "name": "stderr",
          "text": [
            "\r 12%|█▏        | 12/100 [00:44<05:26,  3.71s/it]"
          ]
        },
        {
          "output_type": "stream",
          "name": "stdout",
          "text": [
            "Epoch: 12, Loss: 0.43399906158447266\n"
          ]
        },
        {
          "output_type": "stream",
          "name": "stderr",
          "text": [
            "\r 13%|█▎        | 13/100 [00:48<05:29,  3.78s/it]"
          ]
        },
        {
          "output_type": "stream",
          "name": "stdout",
          "text": [
            "Epoch: 13, Loss: 1.9519416093826294\n"
          ]
        },
        {
          "output_type": "stream",
          "name": "stderr",
          "text": [
            "\r 14%|█▍        | 14/100 [00:52<05:17,  3.69s/it]"
          ]
        },
        {
          "output_type": "stream",
          "name": "stdout",
          "text": [
            "Epoch: 14, Loss: 0.9218191504478455\n"
          ]
        },
        {
          "output_type": "stream",
          "name": "stderr",
          "text": [
            "\r 15%|█▌        | 15/100 [00:55<05:08,  3.62s/it]"
          ]
        },
        {
          "output_type": "stream",
          "name": "stdout",
          "text": [
            "Epoch: 15, Loss: 0.7861045598983765\n"
          ]
        },
        {
          "output_type": "stream",
          "name": "stderr",
          "text": [
            "\r 16%|█▌        | 16/100 [01:00<05:22,  3.84s/it]"
          ]
        },
        {
          "output_type": "stream",
          "name": "stdout",
          "text": [
            "Epoch: 16, Loss: 0.5165513157844543\n"
          ]
        },
        {
          "output_type": "stream",
          "name": "stderr",
          "text": [
            "\r 17%|█▋        | 17/100 [01:03<05:10,  3.74s/it]"
          ]
        },
        {
          "output_type": "stream",
          "name": "stdout",
          "text": [
            "Epoch: 17, Loss: 0.9779471755027771\n"
          ]
        },
        {
          "output_type": "stream",
          "name": "stderr",
          "text": [
            "\r 18%|█▊        | 18/100 [01:07<04:59,  3.66s/it]"
          ]
        },
        {
          "output_type": "stream",
          "name": "stdout",
          "text": [
            "Epoch: 18, Loss: 1.0520133972167969\n"
          ]
        },
        {
          "output_type": "stream",
          "name": "stderr",
          "text": [
            "\r 19%|█▉        | 19/100 [01:11<05:04,  3.76s/it]"
          ]
        },
        {
          "output_type": "stream",
          "name": "stdout",
          "text": [
            "Epoch: 19, Loss: 0.9728301763534546\n"
          ]
        },
        {
          "output_type": "stream",
          "name": "stderr",
          "text": [
            "\r 20%|██        | 20/100 [01:14<05:01,  3.76s/it]"
          ]
        },
        {
          "output_type": "stream",
          "name": "stdout",
          "text": [
            "Epoch: 20, Loss: 0.6974212527275085\n"
          ]
        },
        {
          "output_type": "stream",
          "name": "stderr",
          "text": [
            "\r 21%|██        | 21/100 [01:18<04:50,  3.67s/it]"
          ]
        },
        {
          "output_type": "stream",
          "name": "stdout",
          "text": [
            "Epoch: 21, Loss: 1.4848932027816772\n"
          ]
        },
        {
          "output_type": "stream",
          "name": "stderr",
          "text": [
            "\r 22%|██▏       | 22/100 [01:21<04:40,  3.60s/it]"
          ]
        },
        {
          "output_type": "stream",
          "name": "stdout",
          "text": [
            "Epoch: 22, Loss: 0.8766263127326965\n"
          ]
        },
        {
          "output_type": "stream",
          "name": "stderr",
          "text": [
            "\r 23%|██▎       | 23/100 [01:25<04:53,  3.81s/it]"
          ]
        },
        {
          "output_type": "stream",
          "name": "stdout",
          "text": [
            "Epoch: 23, Loss: 0.6860183477401733\n"
          ]
        },
        {
          "output_type": "stream",
          "name": "stderr",
          "text": [
            "\r 24%|██▍       | 24/100 [01:29<04:41,  3.70s/it]"
          ]
        },
        {
          "output_type": "stream",
          "name": "stdout",
          "text": [
            "Epoch: 24, Loss: 0.49025699496269226\n"
          ]
        },
        {
          "output_type": "stream",
          "name": "stderr",
          "text": [
            "\r 25%|██▌       | 25/100 [01:32<04:32,  3.64s/it]"
          ]
        },
        {
          "output_type": "stream",
          "name": "stdout",
          "text": [
            "Epoch: 25, Loss: 0.7988259792327881\n"
          ]
        },
        {
          "output_type": "stream",
          "name": "stderr",
          "text": [
            "\r 26%|██▌       | 26/100 [01:37<04:40,  3.79s/it]"
          ]
        },
        {
          "output_type": "stream",
          "name": "stdout",
          "text": [
            "Epoch: 26, Loss: 1.4876835346221924\n"
          ]
        },
        {
          "output_type": "stream",
          "name": "stderr",
          "text": [
            "\r 27%|██▋       | 27/100 [01:40<04:35,  3.78s/it]"
          ]
        },
        {
          "output_type": "stream",
          "name": "stdout",
          "text": [
            "Epoch: 27, Loss: 1.200552225112915\n"
          ]
        },
        {
          "output_type": "stream",
          "name": "stderr",
          "text": [
            "\r 28%|██▊       | 28/100 [01:44<04:26,  3.70s/it]"
          ]
        },
        {
          "output_type": "stream",
          "name": "stdout",
          "text": [
            "Epoch: 28, Loss: 1.8663630485534668\n"
          ]
        },
        {
          "output_type": "stream",
          "name": "stderr",
          "text": [
            "\r 29%|██▉       | 29/100 [01:48<04:23,  3.71s/it]"
          ]
        },
        {
          "output_type": "stream",
          "name": "stdout",
          "text": [
            "Epoch: 29, Loss: 0.7294443845748901\n"
          ]
        },
        {
          "output_type": "stream",
          "name": "stderr",
          "text": [
            "\r 30%|███       | 30/100 [01:53<04:51,  4.17s/it]"
          ]
        },
        {
          "output_type": "stream",
          "name": "stdout",
          "text": [
            "Epoch: 30, Loss: 0.747558057308197\n"
          ]
        },
        {
          "output_type": "stream",
          "name": "stderr",
          "text": [
            "\r 31%|███       | 31/100 [01:56<04:33,  3.96s/it]"
          ]
        },
        {
          "output_type": "stream",
          "name": "stdout",
          "text": [
            "Epoch: 31, Loss: 0.7424470782279968\n"
          ]
        },
        {
          "output_type": "stream",
          "name": "stderr",
          "text": [
            "\r 32%|███▏      | 32/100 [02:00<04:19,  3.81s/it]"
          ]
        },
        {
          "output_type": "stream",
          "name": "stdout",
          "text": [
            "Epoch: 32, Loss: 1.1767586469650269\n"
          ]
        },
        {
          "output_type": "stream",
          "name": "stderr",
          "text": [
            "\r 33%|███▎      | 33/100 [02:04<04:15,  3.82s/it]"
          ]
        },
        {
          "output_type": "stream",
          "name": "stdout",
          "text": [
            "Epoch: 33, Loss: 0.7068695425987244\n"
          ]
        },
        {
          "output_type": "stream",
          "name": "stderr",
          "text": [
            "\r 34%|███▍      | 34/100 [02:08<04:13,  3.85s/it]"
          ]
        },
        {
          "output_type": "stream",
          "name": "stdout",
          "text": [
            "Epoch: 34, Loss: 0.8451048731803894\n"
          ]
        },
        {
          "output_type": "stream",
          "name": "stderr",
          "text": [
            "\r 35%|███▌      | 35/100 [02:11<04:05,  3.77s/it]"
          ]
        },
        {
          "output_type": "stream",
          "name": "stdout",
          "text": [
            "Epoch: 35, Loss: 1.5653131008148193\n"
          ]
        },
        {
          "output_type": "stream",
          "name": "stderr",
          "text": [
            "\r 36%|███▌      | 36/100 [02:15<03:56,  3.70s/it]"
          ]
        },
        {
          "output_type": "stream",
          "name": "stdout",
          "text": [
            "Epoch: 36, Loss: 0.8931060433387756\n"
          ]
        },
        {
          "output_type": "stream",
          "name": "stderr",
          "text": [
            "\r 37%|███▋      | 37/100 [02:19<04:04,  3.88s/it]"
          ]
        },
        {
          "output_type": "stream",
          "name": "stdout",
          "text": [
            "Epoch: 37, Loss: 0.7661505937576294\n"
          ]
        },
        {
          "output_type": "stream",
          "name": "stderr",
          "text": [
            "\r 38%|███▊      | 38/100 [02:22<03:53,  3.76s/it]"
          ]
        },
        {
          "output_type": "stream",
          "name": "stdout",
          "text": [
            "Epoch: 38, Loss: 0.5772753953933716\n"
          ]
        },
        {
          "output_type": "stream",
          "name": "stderr",
          "text": [
            "\r 39%|███▉      | 39/100 [02:26<03:44,  3.68s/it]"
          ]
        },
        {
          "output_type": "stream",
          "name": "stdout",
          "text": [
            "Epoch: 39, Loss: 1.033058524131775\n"
          ]
        },
        {
          "output_type": "stream",
          "name": "stderr",
          "text": [
            "\r 40%|████      | 40/100 [02:30<03:48,  3.81s/it]"
          ]
        },
        {
          "output_type": "stream",
          "name": "stdout",
          "text": [
            "Epoch: 40, Loss: 0.7141474485397339\n"
          ]
        },
        {
          "output_type": "stream",
          "name": "stderr",
          "text": [
            "\r 41%|████      | 41/100 [02:34<03:43,  3.79s/it]"
          ]
        },
        {
          "output_type": "stream",
          "name": "stdout",
          "text": [
            "Epoch: 41, Loss: 1.3491281270980835\n"
          ]
        },
        {
          "output_type": "stream",
          "name": "stderr",
          "text": [
            "\r 42%|████▏     | 42/100 [02:37<03:34,  3.70s/it]"
          ]
        },
        {
          "output_type": "stream",
          "name": "stdout",
          "text": [
            "Epoch: 42, Loss: 0.8802411556243896\n"
          ]
        },
        {
          "output_type": "stream",
          "name": "stderr",
          "text": [
            "\r 43%|████▎     | 43/100 [02:41<03:27,  3.64s/it]"
          ]
        },
        {
          "output_type": "stream",
          "name": "stdout",
          "text": [
            "Epoch: 43, Loss: 1.038277506828308\n"
          ]
        },
        {
          "output_type": "stream",
          "name": "stderr",
          "text": [
            "\r 44%|████▍     | 44/100 [02:45<03:35,  3.85s/it]"
          ]
        },
        {
          "output_type": "stream",
          "name": "stdout",
          "text": [
            "Epoch: 44, Loss: 0.9672227501869202\n"
          ]
        },
        {
          "output_type": "stream",
          "name": "stderr",
          "text": [
            "\r 45%|████▌     | 45/100 [02:49<03:26,  3.75s/it]"
          ]
        },
        {
          "output_type": "stream",
          "name": "stdout",
          "text": [
            "Epoch: 45, Loss: 0.5891546010971069\n"
          ]
        },
        {
          "output_type": "stream",
          "name": "stderr",
          "text": [
            "\r 46%|████▌     | 46/100 [02:52<03:18,  3.67s/it]"
          ]
        },
        {
          "output_type": "stream",
          "name": "stdout",
          "text": [
            "Epoch: 46, Loss: 0.8722288012504578\n"
          ]
        },
        {
          "output_type": "stream",
          "name": "stderr",
          "text": [
            "\r 47%|████▋     | 47/100 [02:56<03:24,  3.87s/it]"
          ]
        },
        {
          "output_type": "stream",
          "name": "stdout",
          "text": [
            "Epoch: 47, Loss: 0.730302631855011\n"
          ]
        },
        {
          "output_type": "stream",
          "name": "stderr",
          "text": [
            "\r 48%|████▊     | 48/100 [03:00<03:16,  3.78s/it]"
          ]
        },
        {
          "output_type": "stream",
          "name": "stdout",
          "text": [
            "Epoch: 48, Loss: 1.3399732112884521\n"
          ]
        },
        {
          "output_type": "stream",
          "name": "stderr",
          "text": [
            "\r 49%|████▉     | 49/100 [03:04<03:08,  3.70s/it]"
          ]
        },
        {
          "output_type": "stream",
          "name": "stdout",
          "text": [
            "Epoch: 49, Loss: 0.8549857139587402\n"
          ]
        },
        {
          "output_type": "stream",
          "name": "stderr",
          "text": [
            "\r 50%|█████     | 50/100 [03:07<03:06,  3.73s/it]"
          ]
        },
        {
          "output_type": "stream",
          "name": "stdout",
          "text": [
            "Epoch: 50, Loss: 0.7024387717247009\n"
          ]
        },
        {
          "output_type": "stream",
          "name": "stderr",
          "text": [
            "\r 51%|█████     | 51/100 [03:11<03:07,  3.82s/it]"
          ]
        },
        {
          "output_type": "stream",
          "name": "stdout",
          "text": [
            "Epoch: 51, Loss: 0.5977055430412292\n"
          ]
        },
        {
          "output_type": "stream",
          "name": "stderr",
          "text": [
            "\r 52%|█████▏    | 52/100 [03:15<02:58,  3.73s/it]"
          ]
        },
        {
          "output_type": "stream",
          "name": "stdout",
          "text": [
            "Epoch: 52, Loss: 0.7001810669898987\n"
          ]
        },
        {
          "output_type": "stream",
          "name": "stderr",
          "text": [
            "\r 53%|█████▎    | 53/100 [03:18<02:52,  3.67s/it]"
          ]
        },
        {
          "output_type": "stream",
          "name": "stdout",
          "text": [
            "Epoch: 53, Loss: 0.5755147337913513\n"
          ]
        },
        {
          "output_type": "stream",
          "name": "stderr",
          "text": [
            "\r 54%|█████▍    | 54/100 [03:23<02:57,  3.87s/it]"
          ]
        },
        {
          "output_type": "stream",
          "name": "stdout",
          "text": [
            "Epoch: 54, Loss: 0.8487597703933716\n"
          ]
        },
        {
          "output_type": "stream",
          "name": "stderr",
          "text": [
            "\r 55%|█████▌    | 55/100 [03:26<02:49,  3.76s/it]"
          ]
        },
        {
          "output_type": "stream",
          "name": "stdout",
          "text": [
            "Epoch: 55, Loss: 0.458515465259552\n"
          ]
        },
        {
          "output_type": "stream",
          "name": "stderr",
          "text": [
            "\r 56%|█████▌    | 56/100 [03:30<02:42,  3.68s/it]"
          ]
        },
        {
          "output_type": "stream",
          "name": "stdout",
          "text": [
            "Epoch: 56, Loss: 0.6594005823135376\n"
          ]
        },
        {
          "output_type": "stream",
          "name": "stderr",
          "text": [
            "\r 57%|█████▋    | 57/100 [03:34<02:42,  3.77s/it]"
          ]
        },
        {
          "output_type": "stream",
          "name": "stdout",
          "text": [
            "Epoch: 57, Loss: 0.4925558269023895\n"
          ]
        },
        {
          "output_type": "stream",
          "name": "stderr",
          "text": [
            "\r 58%|█████▊    | 58/100 [03:38<02:39,  3.79s/it]"
          ]
        },
        {
          "output_type": "stream",
          "name": "stdout",
          "text": [
            "Epoch: 58, Loss: 0.5689266920089722\n"
          ]
        },
        {
          "output_type": "stream",
          "name": "stderr",
          "text": [
            "\r 59%|█████▉    | 59/100 [03:41<02:32,  3.71s/it]"
          ]
        },
        {
          "output_type": "stream",
          "name": "stdout",
          "text": [
            "Epoch: 59, Loss: 1.3245470523834229\n"
          ]
        },
        {
          "output_type": "stream",
          "name": "stderr",
          "text": [
            "\r 60%|██████    | 60/100 [03:45<02:26,  3.67s/it]"
          ]
        },
        {
          "output_type": "stream",
          "name": "stdout",
          "text": [
            "Epoch: 60, Loss: 1.1076594591140747\n"
          ]
        },
        {
          "output_type": "stream",
          "name": "stderr",
          "text": [
            "\r 61%|██████    | 61/100 [03:49<02:31,  3.89s/it]"
          ]
        },
        {
          "output_type": "stream",
          "name": "stdout",
          "text": [
            "Epoch: 61, Loss: 0.7005027532577515\n"
          ]
        },
        {
          "output_type": "stream",
          "name": "stderr",
          "text": [
            "\r 62%|██████▏   | 62/100 [03:53<02:23,  3.77s/it]"
          ]
        },
        {
          "output_type": "stream",
          "name": "stdout",
          "text": [
            "Epoch: 62, Loss: 0.6459134817123413\n"
          ]
        },
        {
          "output_type": "stream",
          "name": "stderr",
          "text": [
            "\r 63%|██████▎   | 63/100 [03:56<02:17,  3.72s/it]"
          ]
        },
        {
          "output_type": "stream",
          "name": "stdout",
          "text": [
            "Epoch: 63, Loss: 0.5450297594070435\n"
          ]
        },
        {
          "output_type": "stream",
          "name": "stderr",
          "text": [
            "\r 64%|██████▍   | 64/100 [04:01<02:21,  3.92s/it]"
          ]
        },
        {
          "output_type": "stream",
          "name": "stdout",
          "text": [
            "Epoch: 64, Loss: 1.4361319541931152\n"
          ]
        },
        {
          "output_type": "stream",
          "name": "stderr",
          "text": [
            "\r 65%|██████▌   | 65/100 [04:04<02:12,  3.80s/it]"
          ]
        },
        {
          "output_type": "stream",
          "name": "stdout",
          "text": [
            "Epoch: 65, Loss: 0.6036865711212158\n"
          ]
        },
        {
          "output_type": "stream",
          "name": "stderr",
          "text": [
            "\r 66%|██████▌   | 66/100 [04:08<02:06,  3.71s/it]"
          ]
        },
        {
          "output_type": "stream",
          "name": "stdout",
          "text": [
            "Epoch: 66, Loss: 0.6196240782737732\n"
          ]
        },
        {
          "output_type": "stream",
          "name": "stderr",
          "text": [
            "\r 67%|██████▋   | 67/100 [04:11<02:02,  3.73s/it]"
          ]
        },
        {
          "output_type": "stream",
          "name": "stdout",
          "text": [
            "Epoch: 67, Loss: 0.6672444343566895\n"
          ]
        },
        {
          "output_type": "stream",
          "name": "stderr",
          "text": [
            "\r 68%|██████▊   | 68/100 [04:15<02:02,  3.84s/it]"
          ]
        },
        {
          "output_type": "stream",
          "name": "stdout",
          "text": [
            "Epoch: 68, Loss: 1.1080158948898315\n"
          ]
        },
        {
          "output_type": "stream",
          "name": "stderr",
          "text": [
            "\r 69%|██████▉   | 69/100 [04:19<01:56,  3.75s/it]"
          ]
        },
        {
          "output_type": "stream",
          "name": "stdout",
          "text": [
            "Epoch: 69, Loss: 0.8614253401756287\n"
          ]
        },
        {
          "output_type": "stream",
          "name": "stderr",
          "text": [
            "\r 70%|███████   | 70/100 [04:22<01:50,  3.67s/it]"
          ]
        },
        {
          "output_type": "stream",
          "name": "stdout",
          "text": [
            "Epoch: 70, Loss: 0.6354131102561951\n"
          ]
        },
        {
          "output_type": "stream",
          "name": "stderr",
          "text": [
            "\r 71%|███████   | 71/100 [04:27<01:52,  3.87s/it]"
          ]
        },
        {
          "output_type": "stream",
          "name": "stdout",
          "text": [
            "Epoch: 71, Loss: 0.7012133002281189\n"
          ]
        },
        {
          "output_type": "stream",
          "name": "stderr",
          "text": [
            "\r 72%|███████▏  | 72/100 [04:30<01:45,  3.76s/it]"
          ]
        },
        {
          "output_type": "stream",
          "name": "stdout",
          "text": [
            "Epoch: 72, Loss: 0.8832562565803528\n"
          ]
        },
        {
          "output_type": "stream",
          "name": "stderr",
          "text": [
            "\r 73%|███████▎  | 73/100 [04:34<01:39,  3.69s/it]"
          ]
        },
        {
          "output_type": "stream",
          "name": "stdout",
          "text": [
            "Epoch: 73, Loss: 0.5837719440460205\n"
          ]
        },
        {
          "output_type": "stream",
          "name": "stderr",
          "text": [
            "\r 74%|███████▍  | 74/100 [04:38<01:37,  3.76s/it]"
          ]
        },
        {
          "output_type": "stream",
          "name": "stdout",
          "text": [
            "Epoch: 74, Loss: 0.750355064868927\n"
          ]
        },
        {
          "output_type": "stream",
          "name": "stderr",
          "text": [
            "\r 75%|███████▌  | 75/100 [04:42<01:34,  3.80s/it]"
          ]
        },
        {
          "output_type": "stream",
          "name": "stdout",
          "text": [
            "Epoch: 75, Loss: 0.5192269086837769\n"
          ]
        },
        {
          "output_type": "stream",
          "name": "stderr",
          "text": [
            "\r 76%|███████▌  | 76/100 [04:45<01:28,  3.70s/it]"
          ]
        },
        {
          "output_type": "stream",
          "name": "stdout",
          "text": [
            "Epoch: 76, Loss: 0.38322216272354126\n"
          ]
        },
        {
          "output_type": "stream",
          "name": "stderr",
          "text": [
            "\r 77%|███████▋  | 77/100 [04:49<01:23,  3.64s/it]"
          ]
        },
        {
          "output_type": "stream",
          "name": "stdout",
          "text": [
            "Epoch: 77, Loss: 0.573243260383606\n"
          ]
        },
        {
          "output_type": "stream",
          "name": "stderr",
          "text": [
            "\r 78%|███████▊  | 78/100 [04:53<01:24,  3.84s/it]"
          ]
        },
        {
          "output_type": "stream",
          "name": "stdout",
          "text": [
            "Epoch: 78, Loss: 0.5429826378822327\n"
          ]
        },
        {
          "output_type": "stream",
          "name": "stderr",
          "text": [
            "\r 79%|███████▉  | 79/100 [04:56<01:18,  3.73s/it]"
          ]
        },
        {
          "output_type": "stream",
          "name": "stdout",
          "text": [
            "Epoch: 79, Loss: 0.3419991731643677\n"
          ]
        },
        {
          "output_type": "stream",
          "name": "stderr",
          "text": [
            "\r 80%|████████  | 80/100 [05:00<01:13,  3.65s/it]"
          ]
        },
        {
          "output_type": "stream",
          "name": "stdout",
          "text": [
            "Epoch: 80, Loss: 0.4553370475769043\n"
          ]
        },
        {
          "output_type": "stream",
          "name": "stderr",
          "text": [
            "\r 81%|████████  | 81/100 [05:04<01:12,  3.79s/it]"
          ]
        },
        {
          "output_type": "stream",
          "name": "stdout",
          "text": [
            "Epoch: 81, Loss: 0.7708407044410706\n"
          ]
        },
        {
          "output_type": "stream",
          "name": "stderr",
          "text": [
            "\r 82%|████████▏ | 82/100 [05:08<01:07,  3.76s/it]"
          ]
        },
        {
          "output_type": "stream",
          "name": "stdout",
          "text": [
            "Epoch: 82, Loss: 0.9793410301208496\n"
          ]
        },
        {
          "output_type": "stream",
          "name": "stderr",
          "text": [
            "\r 83%|████████▎ | 83/100 [05:11<01:02,  3.67s/it]"
          ]
        },
        {
          "output_type": "stream",
          "name": "stdout",
          "text": [
            "Epoch: 83, Loss: 0.8054823875427246\n"
          ]
        },
        {
          "output_type": "stream",
          "name": "stderr",
          "text": [
            "\r 84%|████████▍ | 84/100 [05:15<00:58,  3.63s/it]"
          ]
        },
        {
          "output_type": "stream",
          "name": "stdout",
          "text": [
            "Epoch: 84, Loss: 0.4554477632045746\n"
          ]
        },
        {
          "output_type": "stream",
          "name": "stderr",
          "text": [
            "\r 85%|████████▌ | 85/100 [05:19<00:57,  3.82s/it]"
          ]
        },
        {
          "output_type": "stream",
          "name": "stdout",
          "text": [
            "Epoch: 85, Loss: 0.8651556372642517\n"
          ]
        },
        {
          "output_type": "stream",
          "name": "stderr",
          "text": [
            "\r 86%|████████▌ | 86/100 [05:22<00:52,  3.72s/it]"
          ]
        },
        {
          "output_type": "stream",
          "name": "stdout",
          "text": [
            "Epoch: 86, Loss: 0.49185678362846375\n"
          ]
        },
        {
          "output_type": "stream",
          "name": "stderr",
          "text": [
            "\r 87%|████████▋ | 87/100 [05:26<00:47,  3.66s/it]"
          ]
        },
        {
          "output_type": "stream",
          "name": "stdout",
          "text": [
            "Epoch: 87, Loss: 0.596562922000885\n"
          ]
        },
        {
          "output_type": "stream",
          "name": "stderr",
          "text": [
            "\r 88%|████████▊ | 88/100 [05:30<00:46,  3.88s/it]"
          ]
        },
        {
          "output_type": "stream",
          "name": "stdout",
          "text": [
            "Epoch: 88, Loss: 0.5497109889984131\n"
          ]
        },
        {
          "output_type": "stream",
          "name": "stderr",
          "text": [
            "\r 89%|████████▉ | 89/100 [05:34<00:41,  3.77s/it]"
          ]
        },
        {
          "output_type": "stream",
          "name": "stdout",
          "text": [
            "Epoch: 89, Loss: 0.5123849511146545\n"
          ]
        },
        {
          "output_type": "stream",
          "name": "stderr",
          "text": [
            "\r 90%|█████████ | 90/100 [05:37<00:37,  3.71s/it]"
          ]
        },
        {
          "output_type": "stream",
          "name": "stdout",
          "text": [
            "Epoch: 90, Loss: 0.5087294578552246\n"
          ]
        },
        {
          "output_type": "stream",
          "name": "stderr",
          "text": [
            "\r 91%|█████████ | 91/100 [05:41<00:33,  3.76s/it]"
          ]
        },
        {
          "output_type": "stream",
          "name": "stdout",
          "text": [
            "Epoch: 91, Loss: 0.5047659277915955\n"
          ]
        },
        {
          "output_type": "stream",
          "name": "stderr",
          "text": [
            "\r 92%|█████████▏| 92/100 [05:45<00:30,  3.85s/it]"
          ]
        },
        {
          "output_type": "stream",
          "name": "stdout",
          "text": [
            "Epoch: 92, Loss: 0.5625943541526794\n"
          ]
        },
        {
          "output_type": "stream",
          "name": "stderr",
          "text": [
            "\r 93%|█████████▎| 93/100 [05:49<00:26,  3.76s/it]"
          ]
        },
        {
          "output_type": "stream",
          "name": "stdout",
          "text": [
            "Epoch: 93, Loss: 1.2534276247024536\n"
          ]
        },
        {
          "output_type": "stream",
          "name": "stderr",
          "text": [
            "\r 94%|█████████▍| 94/100 [05:52<00:22,  3.69s/it]"
          ]
        },
        {
          "output_type": "stream",
          "name": "stdout",
          "text": [
            "Epoch: 94, Loss: 0.3239452540874481\n"
          ]
        },
        {
          "output_type": "stream",
          "name": "stderr",
          "text": [
            "\r 95%|█████████▌| 95/100 [05:57<00:19,  3.90s/it]"
          ]
        },
        {
          "output_type": "stream",
          "name": "stdout",
          "text": [
            "Epoch: 95, Loss: 0.39297789335250854\n"
          ]
        },
        {
          "output_type": "stream",
          "name": "stderr",
          "text": [
            "\r 96%|█████████▌| 96/100 [06:00<00:15,  3.80s/it]"
          ]
        },
        {
          "output_type": "stream",
          "name": "stdout",
          "text": [
            "Epoch: 96, Loss: 0.2911743223667145\n"
          ]
        },
        {
          "output_type": "stream",
          "name": "stderr",
          "text": [
            "\r 97%|█████████▋| 97/100 [06:04<00:11,  3.71s/it]"
          ]
        },
        {
          "output_type": "stream",
          "name": "stdout",
          "text": [
            "Epoch: 97, Loss: 0.4084412157535553\n"
          ]
        },
        {
          "output_type": "stream",
          "name": "stderr",
          "text": [
            "\r 98%|█████████▊| 98/100 [06:08<00:07,  3.83s/it]"
          ]
        },
        {
          "output_type": "stream",
          "name": "stdout",
          "text": [
            "Epoch: 98, Loss: 0.7245776653289795\n"
          ]
        },
        {
          "output_type": "stream",
          "name": "stderr",
          "text": [
            "\r 99%|█████████▉| 99/100 [06:12<00:03,  3.82s/it]"
          ]
        },
        {
          "output_type": "stream",
          "name": "stdout",
          "text": [
            "Epoch: 99, Loss: 1.1137895584106445\n"
          ]
        },
        {
          "output_type": "stream",
          "name": "stderr",
          "text": [
            "100%|██████████| 100/100 [06:15<00:00,  3.76s/it]"
          ]
        },
        {
          "output_type": "stream",
          "name": "stdout",
          "text": [
            "Epoch: 100, Loss: 0.4775034785270691\n"
          ]
        },
        {
          "output_type": "stream",
          "name": "stderr",
          "text": [
            "\n"
          ]
        }
      ]
    },
    {
      "cell_type": "code",
      "source": [
        "final_user_representations = {}\n",
        "repr = pos_z\n",
        "for i in range(pos_z.shape[0]):\n",
        "  final_user_representations[i] = (i, repr[i].detach(), user_representations[i][1])"
      ],
      "metadata": {
        "id": "G1DcCQt4imkT"
      },
      "execution_count": 73,
      "outputs": []
    },
    {
      "cell_type": "code",
      "execution_count": 74,
      "metadata": {
        "id": "Wie6EhM4imkU"
      },
      "outputs": [],
      "source": [
        "user_dataset = UserDataset(final_user_representations)\n",
        "\n",
        "n = len(user_dataset)\n",
        "\n",
        "indices = np.arange(n)\n",
        "indices = np.random.permutation(indices)\n",
        "\n",
        "train_indices = indices [:int(0.8*n)]\n",
        "test_indices = indices[int(0.8*n):]\n",
        "\n",
        "user_train_dataset = Subset(user_dataset, train_indices)\n",
        "user_test_dataset = Subset(user_dataset, test_indices)\n",
        "\n",
        "user_train_dataloader = DataLoader(user_train_dataset, batch_size=64, shuffle=True)\n",
        "user_test_dataloader = DataLoader(user_test_dataset, batch_size=64, shuffle=True)"
      ]
    },
    {
      "cell_type": "code",
      "execution_count": 75,
      "metadata": {
        "id": "W3q1_6FhimkU"
      },
      "outputs": [],
      "source": [
        "num_classes = 186\n",
        "classes = np.arange(0, num_classes)"
      ]
    },
    {
      "cell_type": "code",
      "source": [
        "head_model = train2task()\n",
        "torch.save(head_model.state_dict(), 'random_walk_only_infomax_model.pth')"
      ],
      "metadata": {
        "id": "dMtZaIwyimkU",
        "colab": {
          "base_uri": "https://localhost:8080/"
        },
        "outputId": "c6c39f12-8b40-46f4-e4b0-243e947843a9"
      },
      "execution_count": 76,
      "outputs": [
        {
          "output_type": "stream",
          "name": "stdout",
          "text": [
            "Epoch: 0, Loss: 4.408990383148193\n",
            "Epoch: 1, Loss: 4.213274955749512\n",
            "Epoch: 2, Loss: 4.10835075378418\n",
            "Epoch: 3, Loss: 4.036770820617676\n",
            "Epoch: 4, Loss: 3.982470750808716\n",
            "Epoch: 5, Loss: 3.9388766288757324\n",
            "Epoch: 6, Loss: 3.9026286602020264\n",
            "Epoch: 7, Loss: 3.8715105056762695\n",
            "Epoch: 8, Loss: 3.8444066047668457\n",
            "Epoch: 9, Loss: 3.820385456085205\n",
            "Epoch: 10, Loss: 3.7988123893737793\n",
            "Epoch: 11, Loss: 3.7792716026306152\n",
            "Epoch: 12, Loss: 3.7614333629608154\n",
            "Epoch: 13, Loss: 3.7449991703033447\n",
            "Epoch: 14, Loss: 3.729807138442993\n",
            "Epoch: 15, Loss: 3.7157046794891357\n",
            "Epoch: 16, Loss: 3.7025179862976074\n",
            "Epoch: 17, Loss: 3.690117120742798\n",
            "Epoch: 18, Loss: 3.678478717803955\n",
            "Epoch: 19, Loss: 3.6674821376800537\n",
            "Epoch: 20, Loss: 3.6570746898651123\n",
            "Epoch: 21, Loss: 3.6471683979034424\n",
            "Epoch: 22, Loss: 3.637773036956787\n",
            "Epoch: 23, Loss: 3.628807306289673\n",
            "Epoch: 24, Loss: 3.620236873626709\n",
            "Epoch: 25, Loss: 3.6120357513427734\n",
            "Epoch: 26, Loss: 3.6041738986968994\n",
            "Epoch: 27, Loss: 3.5966131687164307\n",
            "Epoch: 28, Loss: 3.58935809135437\n",
            "Epoch: 29, Loss: 3.582371711730957\n",
            "Epoch: 30, Loss: 3.575617551803589\n",
            "Epoch: 31, Loss: 3.569108486175537\n",
            "Epoch: 32, Loss: 3.562814474105835\n",
            "Epoch: 33, Loss: 3.5567288398742676\n",
            "Epoch: 34, Loss: 3.5508289337158203\n",
            "Epoch: 35, Loss: 3.5451126098632812\n",
            "Epoch: 36, Loss: 3.539584159851074\n",
            "Epoch: 37, Loss: 3.5342063903808594\n",
            "Epoch: 38, Loss: 3.528977870941162\n",
            "Epoch: 39, Loss: 3.523895025253296\n",
            "Epoch: 40, Loss: 3.518944263458252\n",
            "Epoch: 41, Loss: 3.5141258239746094\n",
            "Epoch: 42, Loss: 3.509432077407837\n",
            "Epoch: 43, Loss: 3.504861831665039\n",
            "Epoch: 44, Loss: 3.5003879070281982\n",
            "Epoch: 45, Loss: 3.4960289001464844\n",
            "Epoch: 46, Loss: 3.4917845726013184\n",
            "Epoch: 47, Loss: 3.4876325130462646\n",
            "Epoch: 48, Loss: 3.483574628829956\n",
            "Epoch: 49, Loss: 3.4796018600463867\n",
            "Epoch: 50, Loss: 3.4757142066955566\n",
            "Epoch: 51, Loss: 3.471909523010254\n",
            "Epoch: 52, Loss: 3.468187093734741\n",
            "Epoch: 53, Loss: 3.4645323753356934\n",
            "Epoch: 54, Loss: 3.4609532356262207\n",
            "Epoch: 55, Loss: 3.4574458599090576\n",
            "Epoch: 56, Loss: 3.4540042877197266\n",
            "Epoch: 57, Loss: 3.4506325721740723\n",
            "Epoch: 58, Loss: 3.447322368621826\n",
            "Epoch: 59, Loss: 3.4440698623657227\n",
            "Epoch: 60, Loss: 3.440883159637451\n",
            "Epoch: 61, Loss: 3.4377400875091553\n",
            "Epoch: 62, Loss: 3.434663772583008\n",
            "Epoch: 63, Loss: 3.431635856628418\n",
            "Epoch: 64, Loss: 3.428663492202759\n",
            "Epoch: 65, Loss: 3.4257328510284424\n",
            "Epoch: 66, Loss: 3.422865629196167\n",
            "Epoch: 67, Loss: 3.420030117034912\n",
            "Epoch: 68, Loss: 3.41723895072937\n",
            "Epoch: 69, Loss: 3.4144999980926514\n",
            "Epoch: 70, Loss: 3.4118025302886963\n",
            "Epoch: 71, Loss: 3.4091429710388184\n",
            "Epoch: 72, Loss: 3.4065191745758057\n",
            "Epoch: 73, Loss: 3.403944492340088\n",
            "Epoch: 74, Loss: 3.401400566101074\n",
            "Epoch: 75, Loss: 3.398892879486084\n",
            "Epoch: 76, Loss: 3.3964200019836426\n",
            "Epoch: 77, Loss: 3.393982410430908\n",
            "Epoch: 78, Loss: 3.39158034324646\n",
            "Epoch: 79, Loss: 3.3892133235931396\n",
            "Epoch: 80, Loss: 3.3868765830993652\n",
            "Epoch: 81, Loss: 3.3845744132995605\n",
            "Epoch: 82, Loss: 3.382298231124878\n",
            "Epoch: 83, Loss: 3.3800535202026367\n",
            "Epoch: 84, Loss: 3.3778390884399414\n",
            "Epoch: 85, Loss: 3.375653028488159\n",
            "Epoch: 86, Loss: 3.3734967708587646\n",
            "Epoch: 87, Loss: 3.3713626861572266\n",
            "Epoch: 88, Loss: 3.3692567348480225\n",
            "Epoch: 89, Loss: 3.367177724838257\n",
            "Epoch: 90, Loss: 3.3651232719421387\n",
            "Epoch: 91, Loss: 3.3630967140197754\n",
            "Epoch: 92, Loss: 3.361088275909424\n",
            "Epoch: 93, Loss: 3.35910701751709\n",
            "Epoch: 94, Loss: 3.357147455215454\n",
            "Epoch: 95, Loss: 3.35520601272583\n",
            "Epoch: 96, Loss: 3.353289842605591\n",
            "Epoch: 97, Loss: 3.3513941764831543\n",
            "Epoch: 98, Loss: 3.3495209217071533\n",
            "Epoch: 99, Loss: 3.3476715087890625\n",
            "Epoch: 100, Loss: 3.3458406925201416\n",
            "Epoch: 101, Loss: 3.344027280807495\n",
            "Epoch: 102, Loss: 3.3422367572784424\n",
            "Epoch: 103, Loss: 3.340465784072876\n",
            "Epoch: 104, Loss: 3.338711977005005\n",
            "Epoch: 105, Loss: 3.3369760513305664\n",
            "Epoch: 106, Loss: 3.335256338119507\n",
            "Epoch: 107, Loss: 3.3335509300231934\n",
            "Epoch: 108, Loss: 3.3318684101104736\n",
            "Epoch: 109, Loss: 3.330202341079712\n",
            "Epoch: 110, Loss: 3.3285529613494873\n",
            "Epoch: 111, Loss: 3.3269200325012207\n",
            "Epoch: 112, Loss: 3.325303316116333\n",
            "Epoch: 113, Loss: 3.323699474334717\n",
            "Epoch: 114, Loss: 3.322112560272217\n",
            "Epoch: 115, Loss: 3.3205406665802\n",
            "Epoch: 116, Loss: 3.3189799785614014\n",
            "Epoch: 117, Loss: 3.317441463470459\n",
            "Epoch: 118, Loss: 3.31591534614563\n",
            "Epoch: 119, Loss: 3.3144047260284424\n",
            "Epoch: 120, Loss: 3.31290602684021\n",
            "Epoch: 121, Loss: 3.311415672302246\n",
            "Epoch: 122, Loss: 3.309948205947876\n",
            "Epoch: 123, Loss: 3.30849027633667\n",
            "Epoch: 124, Loss: 3.3070483207702637\n",
            "Epoch: 125, Loss: 3.305616617202759\n",
            "Epoch: 126, Loss: 3.3041915893554688\n",
            "Epoch: 127, Loss: 3.3027842044830322\n",
            "Epoch: 128, Loss: 3.301387310028076\n",
            "Epoch: 129, Loss: 3.3000032901763916\n",
            "Epoch: 130, Loss: 3.2986273765563965\n",
            "Epoch: 131, Loss: 3.2972655296325684\n",
            "Epoch: 132, Loss: 3.295912742614746\n",
            "Epoch: 133, Loss: 3.2945783138275146\n",
            "Epoch: 134, Loss: 3.2932512760162354\n",
            "Epoch: 135, Loss: 3.291933536529541\n",
            "Epoch: 136, Loss: 3.29062557220459\n",
            "Epoch: 137, Loss: 3.2893295288085938\n",
            "Epoch: 138, Loss: 3.288045883178711\n",
            "Epoch: 139, Loss: 3.2867677211761475\n",
            "Epoch: 140, Loss: 3.2855052947998047\n",
            "Epoch: 141, Loss: 3.2842469215393066\n",
            "Epoch: 142, Loss: 3.28299880027771\n",
            "Epoch: 143, Loss: 3.2817625999450684\n",
            "Epoch: 144, Loss: 3.2805333137512207\n",
            "Epoch: 145, Loss: 3.2793171405792236\n",
            "Epoch: 146, Loss: 3.2781102657318115\n",
            "Epoch: 147, Loss: 3.2769126892089844\n",
            "Epoch: 148, Loss: 3.275723934173584\n",
            "Epoch: 149, Loss: 3.274545431137085\n",
            "Epoch: 150, Loss: 3.273372173309326\n",
            "Epoch: 151, Loss: 3.272209405899048\n",
            "Epoch: 152, Loss: 3.2710554599761963\n",
            "Epoch: 153, Loss: 3.269906997680664\n",
            "Epoch: 154, Loss: 3.2687692642211914\n",
            "Epoch: 155, Loss: 3.2676398754119873\n",
            "Epoch: 156, Loss: 3.26651668548584\n",
            "Epoch: 157, Loss: 3.265406370162964\n",
            "Epoch: 158, Loss: 3.264298677444458\n",
            "Epoch: 159, Loss: 3.2631969451904297\n",
            "Epoch: 160, Loss: 3.262106418609619\n",
            "Epoch: 161, Loss: 3.2610230445861816\n",
            "Epoch: 162, Loss: 3.2599477767944336\n",
            "Epoch: 163, Loss: 3.258878707885742\n",
            "Epoch: 164, Loss: 3.2578163146972656\n",
            "Epoch: 165, Loss: 3.2567625045776367\n",
            "Epoch: 166, Loss: 3.2557144165039062\n",
            "Epoch: 167, Loss: 3.254673480987549\n",
            "Epoch: 168, Loss: 3.253638982772827\n",
            "Epoch: 169, Loss: 3.252612590789795\n",
            "Epoch: 170, Loss: 3.2515923976898193\n",
            "Epoch: 171, Loss: 3.2505784034729004\n",
            "Epoch: 172, Loss: 3.2495696544647217\n",
            "Epoch: 173, Loss: 3.2485690116882324\n",
            "Epoch: 174, Loss: 3.2475759983062744\n",
            "Epoch: 175, Loss: 3.2465884685516357\n",
            "Epoch: 176, Loss: 3.2456095218658447\n",
            "Epoch: 177, Loss: 3.2446327209472656\n",
            "Epoch: 178, Loss: 3.2436625957489014\n",
            "Epoch: 179, Loss: 3.2426979541778564\n",
            "Epoch: 180, Loss: 3.2417428493499756\n",
            "Epoch: 181, Loss: 3.2407915592193604\n",
            "Epoch: 182, Loss: 3.239849328994751\n",
            "Epoch: 183, Loss: 3.2389092445373535\n",
            "Epoch: 184, Loss: 3.2379748821258545\n",
            "Epoch: 185, Loss: 3.2370474338531494\n",
            "Epoch: 186, Loss: 3.2361257076263428\n",
            "Epoch: 187, Loss: 3.2352092266082764\n",
            "Epoch: 188, Loss: 3.2342991828918457\n",
            "Epoch: 189, Loss: 3.2333920001983643\n",
            "Epoch: 190, Loss: 3.2324907779693604\n",
            "Epoch: 191, Loss: 3.231595039367676\n",
            "Epoch: 192, Loss: 3.2307043075561523\n",
            "Epoch: 193, Loss: 3.2298173904418945\n",
            "Epoch: 194, Loss: 3.2289340496063232\n",
            "Epoch: 195, Loss: 3.2280561923980713\n",
            "Epoch: 196, Loss: 3.2271854877471924\n",
            "Epoch: 197, Loss: 3.2263171672821045\n",
            "Epoch: 198, Loss: 3.2254559993743896\n",
            "Epoch: 199, Loss: 3.2245993614196777\n",
            "hits@1: 0.253510, hits@5: 0.501871, hits@10: 0.615944, hits@20: 0.741891\n",
            "hits@50: 0.911969, hits@100: 0.988591\n",
            "map@1: 0.253510, map@5: 0.344849, map@10: 0.359985, map@20: 0.368683\n",
            "map@50: 0.374233, map@100: 0.375383\n",
            "ndcg@1: 0.253510, ndcg@5: 0.383906, ndcg@10: 0.420698, ndcg@20: 0.452489\n",
            "ndcg@50: 0.486475, ndcg@100: 0.499048\n"
          ]
        }
      ]
    },
    {
      "cell_type": "markdown",
      "source": [
        "### Node mix, Infomax + Link pred"
      ],
      "metadata": {
        "id": "4zKb6JDBi19K"
      }
    },
    {
      "cell_type": "code",
      "source": [
        "# device = torch.device('cuda' if torch.cuda.is_available() else 'cpu')\n",
        "device = torch.device('cpu')\n",
        "model = DeepGraphInfomax(hidden_channels=128,\n",
        "                         encoder=Encoder(interm_channels=74, hidden_channels=128,\n",
        "                                         num_features=128),\n",
        "                         summary=lambda z, *args, **kwargs: torch.sigmoid(z.mean(dim=0)),\n",
        "                         corruption=node_mix).to(device)\n",
        "linkmodel = LinkPredHead()\n",
        "optimizer = torch.optim.AdamW(model.parameters(), lr=0.0005)\n",
        "loss_bce = nn.BCEWithLogitsLoss()"
      ],
      "metadata": {
        "id": "q_3MVDGEi__F"
      },
      "execution_count": 77,
      "outputs": []
    },
    {
      "cell_type": "code",
      "source": [
        "num_epoch = 100\n",
        "loss_epoch = []\n",
        "for epoch in tqdm(range(1, num_epoch+1)):\n",
        "  if epoch == num_epoch:\n",
        "    pos_z, neg_z, summary, loss = train_infomax_linkpred(epoch)\n",
        "  else:\n",
        "    loss = train_infomax_linkpred(epoch)\n",
        "  loss_epoch.append(loss)"
      ],
      "metadata": {
        "colab": {
          "base_uri": "https://localhost:8080/"
        },
        "outputId": "182bc9f3-692e-4de3-9971-2214c62314e4",
        "id": "ZId-eb2Si__F"
      },
      "execution_count": 78,
      "outputs": [
        {
          "output_type": "stream",
          "name": "stderr",
          "text": [
            "  1%|          | 1/100 [00:09<15:38,  9.48s/it]"
          ]
        },
        {
          "output_type": "stream",
          "name": "stdout",
          "text": [
            "Epoch: 1, Loss: 3.34798264503479\n"
          ]
        },
        {
          "output_type": "stream",
          "name": "stderr",
          "text": [
            "\r  2%|▏         | 2/100 [00:16<13:18,  8.15s/it]"
          ]
        },
        {
          "output_type": "stream",
          "name": "stdout",
          "text": [
            "Epoch: 2, Loss: 2.848660707473755\n"
          ]
        },
        {
          "output_type": "stream",
          "name": "stderr",
          "text": [
            "\r  3%|▎         | 3/100 [00:23<12:09,  7.52s/it]"
          ]
        },
        {
          "output_type": "stream",
          "name": "stdout",
          "text": [
            "Epoch: 3, Loss: 2.7590811252593994\n"
          ]
        },
        {
          "output_type": "stream",
          "name": "stderr",
          "text": [
            "\r  4%|▍         | 4/100 [00:30<12:01,  7.51s/it]"
          ]
        },
        {
          "output_type": "stream",
          "name": "stdout",
          "text": [
            "Epoch: 4, Loss: 2.729125738143921\n"
          ]
        },
        {
          "output_type": "stream",
          "name": "stderr",
          "text": [
            "\r  5%|▌         | 5/100 [00:37<11:22,  7.19s/it]"
          ]
        },
        {
          "output_type": "stream",
          "name": "stdout",
          "text": [
            "Epoch: 5, Loss: 2.609304189682007\n"
          ]
        },
        {
          "output_type": "stream",
          "name": "stderr",
          "text": [
            "\r  6%|▌         | 6/100 [00:44<11:21,  7.25s/it]"
          ]
        },
        {
          "output_type": "stream",
          "name": "stdout",
          "text": [
            "Epoch: 6, Loss: 2.4844982624053955\n"
          ]
        },
        {
          "output_type": "stream",
          "name": "stderr",
          "text": [
            "\r  7%|▋         | 7/100 [00:51<10:53,  7.03s/it]"
          ]
        },
        {
          "output_type": "stream",
          "name": "stdout",
          "text": [
            "Epoch: 7, Loss: 1.8426642417907715\n"
          ]
        },
        {
          "output_type": "stream",
          "name": "stderr",
          "text": [
            "\r  8%|▊         | 8/100 [00:58<10:57,  7.14s/it]"
          ]
        },
        {
          "output_type": "stream",
          "name": "stdout",
          "text": [
            "Epoch: 8, Loss: 1.4918996095657349\n"
          ]
        },
        {
          "output_type": "stream",
          "name": "stderr",
          "text": [
            "\r  9%|▉         | 9/100 [01:05<10:32,  6.95s/it]"
          ]
        },
        {
          "output_type": "stream",
          "name": "stdout",
          "text": [
            "Epoch: 9, Loss: 2.163602828979492\n"
          ]
        },
        {
          "output_type": "stream",
          "name": "stderr",
          "text": [
            "\r 10%|█         | 10/100 [01:12<10:36,  7.07s/it]"
          ]
        },
        {
          "output_type": "stream",
          "name": "stdout",
          "text": [
            "Epoch: 10, Loss: 2.3957228660583496\n"
          ]
        },
        {
          "output_type": "stream",
          "name": "stderr",
          "text": [
            "\r 11%|█         | 11/100 [01:19<10:17,  6.93s/it]"
          ]
        },
        {
          "output_type": "stream",
          "name": "stdout",
          "text": [
            "Epoch: 11, Loss: 1.6912658214569092\n"
          ]
        },
        {
          "output_type": "stream",
          "name": "stderr",
          "text": [
            "\r 12%|█▏        | 12/100 [01:26<10:15,  7.00s/it]"
          ]
        },
        {
          "output_type": "stream",
          "name": "stdout",
          "text": [
            "Epoch: 12, Loss: 1.7507094144821167\n"
          ]
        },
        {
          "output_type": "stream",
          "name": "stderr",
          "text": [
            "\r 13%|█▎        | 13/100 [01:33<10:15,  7.07s/it]"
          ]
        },
        {
          "output_type": "stream",
          "name": "stdout",
          "text": [
            "Epoch: 13, Loss: 1.3219034671783447\n"
          ]
        },
        {
          "output_type": "stream",
          "name": "stderr",
          "text": [
            "\r 14%|█▍        | 14/100 [01:40<10:00,  6.99s/it]"
          ]
        },
        {
          "output_type": "stream",
          "name": "stdout",
          "text": [
            "Epoch: 14, Loss: 1.3419702053070068\n"
          ]
        },
        {
          "output_type": "stream",
          "name": "stderr",
          "text": [
            "\r 15%|█▌        | 15/100 [01:48<10:08,  7.16s/it]"
          ]
        },
        {
          "output_type": "stream",
          "name": "stdout",
          "text": [
            "Epoch: 15, Loss: 1.545944094657898\n"
          ]
        },
        {
          "output_type": "stream",
          "name": "stderr",
          "text": [
            "\r 16%|█▌        | 16/100 [01:54<09:47,  6.99s/it]"
          ]
        },
        {
          "output_type": "stream",
          "name": "stdout",
          "text": [
            "Epoch: 16, Loss: 1.4216115474700928\n"
          ]
        },
        {
          "output_type": "stream",
          "name": "stderr",
          "text": [
            "\r 17%|█▋        | 17/100 [02:02<09:52,  7.14s/it]"
          ]
        },
        {
          "output_type": "stream",
          "name": "stdout",
          "text": [
            "Epoch: 17, Loss: 1.8323876857757568\n"
          ]
        },
        {
          "output_type": "stream",
          "name": "stderr",
          "text": [
            "\r 18%|█▊        | 18/100 [02:09<09:56,  7.28s/it]"
          ]
        },
        {
          "output_type": "stream",
          "name": "stdout",
          "text": [
            "Epoch: 18, Loss: 1.4754638671875\n"
          ]
        },
        {
          "output_type": "stream",
          "name": "stderr",
          "text": [
            "\r 19%|█▉        | 19/100 [02:17<09:55,  7.35s/it]"
          ]
        },
        {
          "output_type": "stream",
          "name": "stdout",
          "text": [
            "Epoch: 19, Loss: 1.173267126083374\n"
          ]
        },
        {
          "output_type": "stream",
          "name": "stderr",
          "text": [
            "\r 20%|██        | 20/100 [02:24<09:45,  7.32s/it]"
          ]
        },
        {
          "output_type": "stream",
          "name": "stdout",
          "text": [
            "Epoch: 20, Loss: 1.121749758720398\n"
          ]
        },
        {
          "output_type": "stream",
          "name": "stderr",
          "text": [
            "\r 21%|██        | 21/100 [02:31<09:26,  7.17s/it]"
          ]
        },
        {
          "output_type": "stream",
          "name": "stdout",
          "text": [
            "Epoch: 21, Loss: 1.6118253469467163\n"
          ]
        },
        {
          "output_type": "stream",
          "name": "stderr",
          "text": [
            "\r 22%|██▏       | 22/100 [02:38<09:24,  7.23s/it]"
          ]
        },
        {
          "output_type": "stream",
          "name": "stdout",
          "text": [
            "Epoch: 22, Loss: 1.0595853328704834\n"
          ]
        },
        {
          "output_type": "stream",
          "name": "stderr",
          "text": [
            "\r 23%|██▎       | 23/100 [02:45<09:01,  7.03s/it]"
          ]
        },
        {
          "output_type": "stream",
          "name": "stdout",
          "text": [
            "Epoch: 23, Loss: 1.4063026905059814\n"
          ]
        },
        {
          "output_type": "stream",
          "name": "stderr",
          "text": [
            "\r 24%|██▍       | 24/100 [02:52<09:03,  7.15s/it]"
          ]
        },
        {
          "output_type": "stream",
          "name": "stdout",
          "text": [
            "Epoch: 24, Loss: 1.0364270210266113\n"
          ]
        },
        {
          "output_type": "stream",
          "name": "stderr",
          "text": [
            "\r 25%|██▌       | 25/100 [02:59<08:43,  6.98s/it]"
          ]
        },
        {
          "output_type": "stream",
          "name": "stdout",
          "text": [
            "Epoch: 25, Loss: 1.0539063215255737\n"
          ]
        },
        {
          "output_type": "stream",
          "name": "stderr",
          "text": [
            "\r 26%|██▌       | 26/100 [03:06<08:46,  7.12s/it]"
          ]
        },
        {
          "output_type": "stream",
          "name": "stdout",
          "text": [
            "Epoch: 26, Loss: 2.460965633392334\n"
          ]
        },
        {
          "output_type": "stream",
          "name": "stderr",
          "text": [
            "\r 27%|██▋       | 27/100 [03:13<08:28,  6.97s/it]"
          ]
        },
        {
          "output_type": "stream",
          "name": "stdout",
          "text": [
            "Epoch: 27, Loss: 1.0610300302505493\n"
          ]
        },
        {
          "output_type": "stream",
          "name": "stderr",
          "text": [
            "\r 28%|██▊       | 28/100 [03:20<08:32,  7.12s/it]"
          ]
        },
        {
          "output_type": "stream",
          "name": "stdout",
          "text": [
            "Epoch: 28, Loss: 0.9587936997413635\n"
          ]
        },
        {
          "output_type": "stream",
          "name": "stderr",
          "text": [
            "\r 29%|██▉       | 29/100 [03:27<08:22,  7.08s/it]"
          ]
        },
        {
          "output_type": "stream",
          "name": "stdout",
          "text": [
            "Epoch: 29, Loss: 1.0158443450927734\n"
          ]
        },
        {
          "output_type": "stream",
          "name": "stderr",
          "text": [
            "\r 30%|███       | 30/100 [03:34<08:16,  7.09s/it]"
          ]
        },
        {
          "output_type": "stream",
          "name": "stdout",
          "text": [
            "Epoch: 30, Loss: 0.9861739873886108\n"
          ]
        },
        {
          "output_type": "stream",
          "name": "stderr",
          "text": [
            "\r 31%|███       | 31/100 [03:42<08:15,  7.18s/it]"
          ]
        },
        {
          "output_type": "stream",
          "name": "stdout",
          "text": [
            "Epoch: 31, Loss: 1.0190565586090088\n"
          ]
        },
        {
          "output_type": "stream",
          "name": "stderr",
          "text": [
            "\r 32%|███▏      | 32/100 [03:49<07:59,  7.06s/it]"
          ]
        },
        {
          "output_type": "stream",
          "name": "stdout",
          "text": [
            "Epoch: 32, Loss: 1.0783450603485107\n"
          ]
        },
        {
          "output_type": "stream",
          "name": "stderr",
          "text": [
            "\r 33%|███▎      | 33/100 [03:56<08:00,  7.17s/it]"
          ]
        },
        {
          "output_type": "stream",
          "name": "stdout",
          "text": [
            "Epoch: 33, Loss: 0.8828232288360596\n"
          ]
        },
        {
          "output_type": "stream",
          "name": "stderr",
          "text": [
            "\r 34%|███▍      | 34/100 [04:03<07:41,  6.99s/it]"
          ]
        },
        {
          "output_type": "stream",
          "name": "stdout",
          "text": [
            "Epoch: 34, Loss: 0.9615055322647095\n"
          ]
        },
        {
          "output_type": "stream",
          "name": "stderr",
          "text": [
            "\r 35%|███▌      | 35/100 [04:10<07:42,  7.12s/it]"
          ]
        },
        {
          "output_type": "stream",
          "name": "stdout",
          "text": [
            "Epoch: 35, Loss: 0.887057363986969\n"
          ]
        },
        {
          "output_type": "stream",
          "name": "stderr",
          "text": [
            "\r 36%|███▌      | 36/100 [04:17<07:25,  6.95s/it]"
          ]
        },
        {
          "output_type": "stream",
          "name": "stdout",
          "text": [
            "Epoch: 36, Loss: 0.9485597610473633\n"
          ]
        },
        {
          "output_type": "stream",
          "name": "stderr",
          "text": [
            "\r 37%|███▋      | 37/100 [04:24<07:25,  7.08s/it]"
          ]
        },
        {
          "output_type": "stream",
          "name": "stdout",
          "text": [
            "Epoch: 37, Loss: 1.7526440620422363\n"
          ]
        },
        {
          "output_type": "stream",
          "name": "stderr",
          "text": [
            "\r 38%|███▊      | 38/100 [04:31<07:10,  6.94s/it]"
          ]
        },
        {
          "output_type": "stream",
          "name": "stdout",
          "text": [
            "Epoch: 38, Loss: 1.3078804016113281\n"
          ]
        },
        {
          "output_type": "stream",
          "name": "stderr",
          "text": [
            "\r 39%|███▉      | 39/100 [04:38<07:10,  7.05s/it]"
          ]
        },
        {
          "output_type": "stream",
          "name": "stdout",
          "text": [
            "Epoch: 39, Loss: 0.8526381254196167\n"
          ]
        },
        {
          "output_type": "stream",
          "name": "stderr",
          "text": [
            "\r 40%|████      | 40/100 [04:45<07:10,  7.17s/it]"
          ]
        },
        {
          "output_type": "stream",
          "name": "stdout",
          "text": [
            "Epoch: 40, Loss: 0.9802340865135193\n"
          ]
        },
        {
          "output_type": "stream",
          "name": "stderr",
          "text": [
            "\r 41%|████      | 41/100 [04:52<06:56,  7.07s/it]"
          ]
        },
        {
          "output_type": "stream",
          "name": "stdout",
          "text": [
            "Epoch: 41, Loss: 0.8796459436416626\n"
          ]
        },
        {
          "output_type": "stream",
          "name": "stderr",
          "text": [
            "\r 42%|████▏     | 42/100 [05:00<06:57,  7.21s/it]"
          ]
        },
        {
          "output_type": "stream",
          "name": "stdout",
          "text": [
            "Epoch: 42, Loss: 0.8720883131027222\n"
          ]
        },
        {
          "output_type": "stream",
          "name": "stderr",
          "text": [
            "\r 43%|████▎     | 43/100 [05:06<06:39,  7.01s/it]"
          ]
        },
        {
          "output_type": "stream",
          "name": "stdout",
          "text": [
            "Epoch: 43, Loss: 0.8418129086494446\n"
          ]
        },
        {
          "output_type": "stream",
          "name": "stderr",
          "text": [
            "\r 44%|████▍     | 44/100 [05:14<06:40,  7.16s/it]"
          ]
        },
        {
          "output_type": "stream",
          "name": "stdout",
          "text": [
            "Epoch: 44, Loss: 1.1977577209472656\n"
          ]
        },
        {
          "output_type": "stream",
          "name": "stderr",
          "text": [
            "\r 45%|████▌     | 45/100 [05:20<06:22,  6.96s/it]"
          ]
        },
        {
          "output_type": "stream",
          "name": "stdout",
          "text": [
            "Epoch: 45, Loss: 0.7963316440582275\n"
          ]
        },
        {
          "output_type": "stream",
          "name": "stderr",
          "text": [
            "\r 46%|████▌     | 46/100 [05:28<06:24,  7.13s/it]"
          ]
        },
        {
          "output_type": "stream",
          "name": "stdout",
          "text": [
            "Epoch: 46, Loss: 0.8710719347000122\n"
          ]
        },
        {
          "output_type": "stream",
          "name": "stderr",
          "text": [
            "\r 47%|████▋     | 47/100 [05:35<06:13,  7.05s/it]"
          ]
        },
        {
          "output_type": "stream",
          "name": "stdout",
          "text": [
            "Epoch: 47, Loss: 1.1282212734222412\n"
          ]
        },
        {
          "output_type": "stream",
          "name": "stderr",
          "text": [
            "\r 48%|████▊     | 48/100 [05:42<06:12,  7.16s/it]"
          ]
        },
        {
          "output_type": "stream",
          "name": "stdout",
          "text": [
            "Epoch: 48, Loss: 0.7836456298828125\n"
          ]
        },
        {
          "output_type": "stream",
          "name": "stderr",
          "text": [
            "\r 49%|████▉     | 49/100 [05:50<06:10,  7.26s/it]"
          ]
        },
        {
          "output_type": "stream",
          "name": "stdout",
          "text": [
            "Epoch: 49, Loss: 0.8171826601028442\n"
          ]
        },
        {
          "output_type": "stream",
          "name": "stderr",
          "text": [
            "\r 50%|█████     | 50/100 [05:56<05:52,  7.04s/it]"
          ]
        },
        {
          "output_type": "stream",
          "name": "stdout",
          "text": [
            "Epoch: 50, Loss: 0.8397074937820435\n"
          ]
        },
        {
          "output_type": "stream",
          "name": "stderr",
          "text": [
            "\r 51%|█████     | 51/100 [06:03<05:48,  7.12s/it]"
          ]
        },
        {
          "output_type": "stream",
          "name": "stdout",
          "text": [
            "Epoch: 51, Loss: 0.802282452583313\n"
          ]
        },
        {
          "output_type": "stream",
          "name": "stderr",
          "text": [
            "\r 52%|█████▏    | 52/100 [06:10<05:32,  6.92s/it]"
          ]
        },
        {
          "output_type": "stream",
          "name": "stdout",
          "text": [
            "Epoch: 52, Loss: 0.7683838605880737\n"
          ]
        },
        {
          "output_type": "stream",
          "name": "stderr",
          "text": [
            "\r 53%|█████▎    | 53/100 [06:17<05:30,  7.03s/it]"
          ]
        },
        {
          "output_type": "stream",
          "name": "stdout",
          "text": [
            "Epoch: 53, Loss: 0.7830791473388672\n"
          ]
        },
        {
          "output_type": "stream",
          "name": "stderr",
          "text": [
            "\r 54%|█████▍    | 54/100 [06:24<05:16,  6.88s/it]"
          ]
        },
        {
          "output_type": "stream",
          "name": "stdout",
          "text": [
            "Epoch: 54, Loss: 0.8506889343261719\n"
          ]
        },
        {
          "output_type": "stream",
          "name": "stderr",
          "text": [
            "\r 55%|█████▌    | 55/100 [06:31<05:16,  7.04s/it]"
          ]
        },
        {
          "output_type": "stream",
          "name": "stdout",
          "text": [
            "Epoch: 55, Loss: 1.1276350021362305\n"
          ]
        },
        {
          "output_type": "stream",
          "name": "stderr",
          "text": [
            "\r 56%|█████▌    | 56/100 [06:39<05:15,  7.17s/it]"
          ]
        },
        {
          "output_type": "stream",
          "name": "stdout",
          "text": [
            "Epoch: 56, Loss: 0.8493479490280151\n"
          ]
        },
        {
          "output_type": "stream",
          "name": "stderr",
          "text": [
            "\r 57%|█████▋    | 57/100 [06:46<05:08,  7.17s/it]"
          ]
        },
        {
          "output_type": "stream",
          "name": "stdout",
          "text": [
            "Epoch: 57, Loss: 0.7071700096130371\n"
          ]
        },
        {
          "output_type": "stream",
          "name": "stderr",
          "text": [
            "\r 58%|█████▊    | 58/100 [06:53<05:01,  7.18s/it]"
          ]
        },
        {
          "output_type": "stream",
          "name": "stdout",
          "text": [
            "Epoch: 58, Loss: 0.7808656692504883\n"
          ]
        },
        {
          "output_type": "stream",
          "name": "stderr",
          "text": [
            "\r 59%|█████▉    | 59/100 [07:00<04:49,  7.05s/it]"
          ]
        },
        {
          "output_type": "stream",
          "name": "stdout",
          "text": [
            "Epoch: 59, Loss: 0.7279914617538452\n"
          ]
        },
        {
          "output_type": "stream",
          "name": "stderr",
          "text": [
            "\r 60%|██████    | 60/100 [07:07<04:45,  7.15s/it]"
          ]
        },
        {
          "output_type": "stream",
          "name": "stdout",
          "text": [
            "Epoch: 60, Loss: 0.7450906038284302\n"
          ]
        },
        {
          "output_type": "stream",
          "name": "stderr",
          "text": [
            "\r 61%|██████    | 61/100 [07:14<04:32,  6.98s/it]"
          ]
        },
        {
          "output_type": "stream",
          "name": "stdout",
          "text": [
            "Epoch: 61, Loss: 0.7874808311462402\n"
          ]
        },
        {
          "output_type": "stream",
          "name": "stderr",
          "text": [
            "\r 62%|██████▏   | 62/100 [07:21<04:30,  7.12s/it]"
          ]
        },
        {
          "output_type": "stream",
          "name": "stdout",
          "text": [
            "Epoch: 62, Loss: 0.8226426839828491\n"
          ]
        },
        {
          "output_type": "stream",
          "name": "stderr",
          "text": [
            "\r 63%|██████▎   | 63/100 [07:28<04:16,  6.95s/it]"
          ]
        },
        {
          "output_type": "stream",
          "name": "stdout",
          "text": [
            "Epoch: 63, Loss: 1.7490012645721436\n"
          ]
        },
        {
          "output_type": "stream",
          "name": "stderr",
          "text": [
            "\r 64%|██████▍   | 64/100 [07:35<04:16,  7.12s/it]"
          ]
        },
        {
          "output_type": "stream",
          "name": "stdout",
          "text": [
            "Epoch: 64, Loss: 0.7931612133979797\n"
          ]
        },
        {
          "output_type": "stream",
          "name": "stderr",
          "text": [
            "\r 65%|██████▌   | 65/100 [07:42<04:03,  6.95s/it]"
          ]
        },
        {
          "output_type": "stream",
          "name": "stdout",
          "text": [
            "Epoch: 65, Loss: 0.7659151554107666\n"
          ]
        },
        {
          "output_type": "stream",
          "name": "stderr",
          "text": [
            "\r 66%|██████▌   | 66/100 [07:49<04:00,  7.07s/it]"
          ]
        },
        {
          "output_type": "stream",
          "name": "stdout",
          "text": [
            "Epoch: 66, Loss: 0.7396543025970459\n"
          ]
        },
        {
          "output_type": "stream",
          "name": "stderr",
          "text": [
            "\r 67%|██████▋   | 67/100 [07:56<03:49,  6.97s/it]"
          ]
        },
        {
          "output_type": "stream",
          "name": "stdout",
          "text": [
            "Epoch: 67, Loss: 0.9455547332763672\n"
          ]
        },
        {
          "output_type": "stream",
          "name": "stderr",
          "text": [
            "\r 68%|██████▊   | 68/100 [08:03<03:44,  7.03s/it]"
          ]
        },
        {
          "output_type": "stream",
          "name": "stdout",
          "text": [
            "Epoch: 68, Loss: 0.8690348863601685\n"
          ]
        },
        {
          "output_type": "stream",
          "name": "stderr",
          "text": [
            "\r 69%|██████▉   | 69/100 [08:10<03:39,  7.07s/it]"
          ]
        },
        {
          "output_type": "stream",
          "name": "stdout",
          "text": [
            "Epoch: 69, Loss: 1.8928561210632324\n"
          ]
        },
        {
          "output_type": "stream",
          "name": "stderr",
          "text": [
            "\r 70%|███████   | 70/100 [08:17<03:29,  6.98s/it]"
          ]
        },
        {
          "output_type": "stream",
          "name": "stdout",
          "text": [
            "Epoch: 70, Loss: 0.8313658237457275\n"
          ]
        },
        {
          "output_type": "stream",
          "name": "stderr",
          "text": [
            "\r 71%|███████   | 71/100 [08:24<03:26,  7.12s/it]"
          ]
        },
        {
          "output_type": "stream",
          "name": "stdout",
          "text": [
            "Epoch: 71, Loss: 0.8779860138893127\n"
          ]
        },
        {
          "output_type": "stream",
          "name": "stderr",
          "text": [
            "\r 72%|███████▏  | 72/100 [08:31<03:14,  6.95s/it]"
          ]
        },
        {
          "output_type": "stream",
          "name": "stdout",
          "text": [
            "Epoch: 72, Loss: 1.0625269412994385\n"
          ]
        },
        {
          "output_type": "stream",
          "name": "stderr",
          "text": [
            "\r 73%|███████▎  | 73/100 [08:38<03:10,  7.07s/it]"
          ]
        },
        {
          "output_type": "stream",
          "name": "stdout",
          "text": [
            "Epoch: 73, Loss: 0.8247459530830383\n"
          ]
        },
        {
          "output_type": "stream",
          "name": "stderr",
          "text": [
            "\r 74%|███████▍  | 74/100 [08:45<02:59,  6.92s/it]"
          ]
        },
        {
          "output_type": "stream",
          "name": "stdout",
          "text": [
            "Epoch: 74, Loss: 0.9459308981895447\n"
          ]
        },
        {
          "output_type": "stream",
          "name": "stderr",
          "text": [
            "\r 75%|███████▌  | 75/100 [08:52<02:56,  7.05s/it]"
          ]
        },
        {
          "output_type": "stream",
          "name": "stdout",
          "text": [
            "Epoch: 75, Loss: 0.8236207962036133\n"
          ]
        },
        {
          "output_type": "stream",
          "name": "stderr",
          "text": [
            "\r 76%|███████▌  | 76/100 [08:59<02:45,  6.88s/it]"
          ]
        },
        {
          "output_type": "stream",
          "name": "stdout",
          "text": [
            "Epoch: 76, Loss: 0.9261663556098938\n"
          ]
        },
        {
          "output_type": "stream",
          "name": "stderr",
          "text": [
            "\r 77%|███████▋  | 77/100 [09:06<02:41,  7.02s/it]"
          ]
        },
        {
          "output_type": "stream",
          "name": "stdout",
          "text": [
            "Epoch: 77, Loss: 1.1616692543029785\n"
          ]
        },
        {
          "output_type": "stream",
          "name": "stderr",
          "text": [
            "\r 78%|███████▊  | 78/100 [09:13<02:32,  6.91s/it]"
          ]
        },
        {
          "output_type": "stream",
          "name": "stdout",
          "text": [
            "Epoch: 78, Loss: 0.7148345708847046\n"
          ]
        },
        {
          "output_type": "stream",
          "name": "stderr",
          "text": [
            "\r 79%|███████▉  | 79/100 [09:20<02:26,  6.99s/it]"
          ]
        },
        {
          "output_type": "stream",
          "name": "stdout",
          "text": [
            "Epoch: 79, Loss: 0.6924749612808228\n"
          ]
        },
        {
          "output_type": "stream",
          "name": "stderr",
          "text": [
            "\r 80%|████████  | 80/100 [09:27<02:20,  7.05s/it]"
          ]
        },
        {
          "output_type": "stream",
          "name": "stdout",
          "text": [
            "Epoch: 80, Loss: 0.7595512866973877\n"
          ]
        },
        {
          "output_type": "stream",
          "name": "stderr",
          "text": [
            "\r 81%|████████  | 81/100 [09:34<02:12,  6.98s/it]"
          ]
        },
        {
          "output_type": "stream",
          "name": "stdout",
          "text": [
            "Epoch: 81, Loss: 0.6818481683731079\n"
          ]
        },
        {
          "output_type": "stream",
          "name": "stderr",
          "text": [
            "\r 82%|████████▏ | 82/100 [09:41<02:07,  7.08s/it]"
          ]
        },
        {
          "output_type": "stream",
          "name": "stdout",
          "text": [
            "Epoch: 82, Loss: 0.7423734068870544\n"
          ]
        },
        {
          "output_type": "stream",
          "name": "stderr",
          "text": [
            "\r 83%|████████▎ | 83/100 [09:48<01:57,  6.89s/it]"
          ]
        },
        {
          "output_type": "stream",
          "name": "stdout",
          "text": [
            "Epoch: 83, Loss: 1.1222681999206543\n"
          ]
        },
        {
          "output_type": "stream",
          "name": "stderr",
          "text": [
            "\r 84%|████████▍ | 84/100 [09:55<01:52,  7.05s/it]"
          ]
        },
        {
          "output_type": "stream",
          "name": "stdout",
          "text": [
            "Epoch: 84, Loss: 0.7354104518890381\n"
          ]
        },
        {
          "output_type": "stream",
          "name": "stderr",
          "text": [
            "\r 85%|████████▌ | 85/100 [10:01<01:42,  6.86s/it]"
          ]
        },
        {
          "output_type": "stream",
          "name": "stdout",
          "text": [
            "Epoch: 85, Loss: 1.0236214399337769\n"
          ]
        },
        {
          "output_type": "stream",
          "name": "stderr",
          "text": [
            "\r 86%|████████▌ | 86/100 [10:09<01:38,  7.02s/it]"
          ]
        },
        {
          "output_type": "stream",
          "name": "stdout",
          "text": [
            "Epoch: 86, Loss: 0.6785696744918823\n"
          ]
        },
        {
          "output_type": "stream",
          "name": "stderr",
          "text": [
            "\r 87%|████████▋ | 87/100 [10:15<01:29,  6.86s/it]"
          ]
        },
        {
          "output_type": "stream",
          "name": "stdout",
          "text": [
            "Epoch: 87, Loss: 0.6574486494064331\n"
          ]
        },
        {
          "output_type": "stream",
          "name": "stderr",
          "text": [
            "\r 88%|████████▊ | 88/100 [10:23<01:24,  7.04s/it]"
          ]
        },
        {
          "output_type": "stream",
          "name": "stdout",
          "text": [
            "Epoch: 88, Loss: 0.7964504957199097\n"
          ]
        },
        {
          "output_type": "stream",
          "name": "stderr",
          "text": [
            "\r 89%|████████▉ | 89/100 [10:29<01:16,  6.93s/it]"
          ]
        },
        {
          "output_type": "stream",
          "name": "stdout",
          "text": [
            "Epoch: 89, Loss: 0.6888188123703003\n"
          ]
        },
        {
          "output_type": "stream",
          "name": "stderr",
          "text": [
            "\r 90%|█████████ | 90/100 [10:37<01:09,  6.96s/it]"
          ]
        },
        {
          "output_type": "stream",
          "name": "stdout",
          "text": [
            "Epoch: 90, Loss: 0.9549484252929688\n"
          ]
        },
        {
          "output_type": "stream",
          "name": "stderr",
          "text": [
            "\r 91%|█████████ | 91/100 [10:44<01:03,  7.05s/it]"
          ]
        },
        {
          "output_type": "stream",
          "name": "stdout",
          "text": [
            "Epoch: 91, Loss: 0.6809626221656799\n"
          ]
        },
        {
          "output_type": "stream",
          "name": "stderr",
          "text": [
            "\r 92%|█████████▏| 92/100 [10:51<00:55,  6.96s/it]"
          ]
        },
        {
          "output_type": "stream",
          "name": "stdout",
          "text": [
            "Epoch: 92, Loss: 0.681032121181488\n"
          ]
        },
        {
          "output_type": "stream",
          "name": "stderr",
          "text": [
            "\r 93%|█████████▎| 93/100 [10:58<00:49,  7.10s/it]"
          ]
        },
        {
          "output_type": "stream",
          "name": "stdout",
          "text": [
            "Epoch: 93, Loss: 0.8444888591766357\n"
          ]
        },
        {
          "output_type": "stream",
          "name": "stderr",
          "text": [
            "\r 94%|█████████▍| 94/100 [11:05<00:42,  7.16s/it]"
          ]
        },
        {
          "output_type": "stream",
          "name": "stdout",
          "text": [
            "Epoch: 94, Loss: 0.8858747482299805\n"
          ]
        },
        {
          "output_type": "stream",
          "name": "stderr",
          "text": [
            "\r 95%|█████████▌| 95/100 [11:13<00:36,  7.29s/it]"
          ]
        },
        {
          "output_type": "stream",
          "name": "stdout",
          "text": [
            "Epoch: 95, Loss: 0.7405177354812622\n"
          ]
        },
        {
          "output_type": "stream",
          "name": "stderr",
          "text": [
            "\r 96%|█████████▌| 96/100 [11:19<00:28,  7.08s/it]"
          ]
        },
        {
          "output_type": "stream",
          "name": "stdout",
          "text": [
            "Epoch: 96, Loss: 0.6692734360694885\n"
          ]
        },
        {
          "output_type": "stream",
          "name": "stderr",
          "text": [
            "\r 97%|█████████▋| 97/100 [11:27<00:21,  7.20s/it]"
          ]
        },
        {
          "output_type": "stream",
          "name": "stdout",
          "text": [
            "Epoch: 97, Loss: 0.7152574062347412\n"
          ]
        },
        {
          "output_type": "stream",
          "name": "stderr",
          "text": [
            "\r 98%|█████████▊| 98/100 [11:34<00:14,  7.09s/it]"
          ]
        },
        {
          "output_type": "stream",
          "name": "stdout",
          "text": [
            "Epoch: 98, Loss: 0.7284792065620422\n"
          ]
        },
        {
          "output_type": "stream",
          "name": "stderr",
          "text": [
            "\r 99%|█████████▉| 99/100 [11:41<00:07,  7.10s/it]"
          ]
        },
        {
          "output_type": "stream",
          "name": "stdout",
          "text": [
            "Epoch: 99, Loss: 0.8222225904464722\n"
          ]
        },
        {
          "output_type": "stream",
          "name": "stderr",
          "text": [
            "100%|██████████| 100/100 [11:48<00:00,  7.09s/it]"
          ]
        },
        {
          "output_type": "stream",
          "name": "stdout",
          "text": [
            "Epoch: 100, Loss: 0.9420307874679565\n"
          ]
        },
        {
          "output_type": "stream",
          "name": "stderr",
          "text": [
            "\n"
          ]
        }
      ]
    },
    {
      "cell_type": "code",
      "source": [
        "final_user_representations = {}\n",
        "repr = pos_z\n",
        "for i in range(pos_z.shape[0]):\n",
        "  final_user_representations[i] = (i, repr[i].detach(), user_representations[i][1])"
      ],
      "metadata": {
        "id": "rVAOuQ5Ri__G"
      },
      "execution_count": 79,
      "outputs": []
    },
    {
      "cell_type": "code",
      "execution_count": 80,
      "metadata": {
        "id": "FPnPkGd4i__G"
      },
      "outputs": [],
      "source": [
        "user_dataset = UserDataset(final_user_representations)\n",
        "\n",
        "n = len(user_dataset)\n",
        "\n",
        "indices = np.arange(n)\n",
        "indices = np.random.permutation(indices)\n",
        "\n",
        "train_indices = indices [:int(0.8*n)]\n",
        "test_indices = indices[int(0.8*n):]\n",
        "\n",
        "user_train_dataset = Subset(user_dataset, train_indices)\n",
        "user_test_dataset = Subset(user_dataset, test_indices)\n",
        "\n",
        "user_train_dataloader = DataLoader(user_train_dataset, batch_size=64, shuffle=True)\n",
        "user_test_dataloader = DataLoader(user_test_dataset, batch_size=64, shuffle=True)"
      ]
    },
    {
      "cell_type": "code",
      "execution_count": 81,
      "metadata": {
        "id": "7L1dEI81i__G"
      },
      "outputs": [],
      "source": [
        "num_classes = 186\n",
        "classes = np.arange(0, num_classes)"
      ]
    },
    {
      "cell_type": "code",
      "source": [
        "head_model = train2task()\n",
        "torch.save(head_model.state_dict(), 'node_mix_infomax_linkpred_model.pth')"
      ],
      "metadata": {
        "id": "hr2vyM3ji__H",
        "colab": {
          "base_uri": "https://localhost:8080/"
        },
        "outputId": "55902fcc-f426-4b6b-f216-4bc6c26c5f9b"
      },
      "execution_count": 82,
      "outputs": [
        {
          "output_type": "stream",
          "name": "stdout",
          "text": [
            "Epoch: 0, Loss: 4.320979595184326\n",
            "Epoch: 1, Loss: 4.219214916229248\n",
            "Epoch: 2, Loss: 4.162557125091553\n",
            "Epoch: 3, Loss: 4.1225810050964355\n",
            "Epoch: 4, Loss: 4.091488838195801\n",
            "Epoch: 5, Loss: 4.066256046295166\n",
            "Epoch: 6, Loss: 4.044521331787109\n",
            "Epoch: 7, Loss: 4.025753021240234\n",
            "Epoch: 8, Loss: 4.0090861320495605\n",
            "Epoch: 9, Loss: 3.9941675662994385\n",
            "Epoch: 10, Loss: 3.980618953704834\n",
            "Epoch: 11, Loss: 3.9680333137512207\n",
            "Epoch: 12, Loss: 3.9565818309783936\n",
            "Epoch: 13, Loss: 3.945878267288208\n",
            "Epoch: 14, Loss: 3.9358906745910645\n",
            "Epoch: 15, Loss: 3.9264256954193115\n",
            "Epoch: 16, Loss: 3.917603015899658\n",
            "Epoch: 17, Loss: 3.909235715866089\n",
            "Epoch: 18, Loss: 3.901371717453003\n",
            "Epoch: 19, Loss: 3.8938417434692383\n",
            "Epoch: 20, Loss: 3.8866257667541504\n",
            "Epoch: 21, Loss: 3.879770517349243\n",
            "Epoch: 22, Loss: 3.873267412185669\n",
            "Epoch: 23, Loss: 3.8669345378875732\n",
            "Epoch: 24, Loss: 3.8609118461608887\n",
            "Epoch: 25, Loss: 3.8550972938537598\n",
            "Epoch: 26, Loss: 3.849501848220825\n",
            "Epoch: 27, Loss: 3.844071626663208\n",
            "Epoch: 28, Loss: 3.838824510574341\n",
            "Epoch: 29, Loss: 3.8337671756744385\n",
            "Epoch: 30, Loss: 3.8289172649383545\n",
            "Epoch: 31, Loss: 3.824173927307129\n",
            "Epoch: 32, Loss: 3.8195879459381104\n",
            "Epoch: 33, Loss: 3.8151326179504395\n",
            "Epoch: 34, Loss: 3.810819625854492\n",
            "Epoch: 35, Loss: 3.8066093921661377\n",
            "Epoch: 36, Loss: 3.802520275115967\n",
            "Epoch: 37, Loss: 3.798551082611084\n",
            "Epoch: 38, Loss: 3.7946321964263916\n",
            "Epoch: 39, Loss: 3.790858507156372\n",
            "Epoch: 40, Loss: 3.7871646881103516\n",
            "Epoch: 41, Loss: 3.7835781574249268\n",
            "Epoch: 42, Loss: 3.780062198638916\n",
            "Epoch: 43, Loss: 3.7766361236572266\n",
            "Epoch: 44, Loss: 3.773277759552002\n",
            "Epoch: 45, Loss: 3.7699856758117676\n",
            "Epoch: 46, Loss: 3.7667925357818604\n",
            "Epoch: 47, Loss: 3.763636827468872\n",
            "Epoch: 48, Loss: 3.760545015335083\n",
            "Epoch: 49, Loss: 3.7575392723083496\n",
            "Epoch: 50, Loss: 3.754568338394165\n",
            "Epoch: 51, Loss: 3.7516701221466064\n",
            "Epoch: 52, Loss: 3.7488136291503906\n",
            "Epoch: 53, Loss: 3.746033191680908\n",
            "Epoch: 54, Loss: 3.7433040142059326\n",
            "Epoch: 55, Loss: 3.740605115890503\n",
            "Epoch: 56, Loss: 3.7379796504974365\n",
            "Epoch: 57, Loss: 3.7353875637054443\n",
            "Epoch: 58, Loss: 3.7328691482543945\n",
            "Epoch: 59, Loss: 3.7303500175476074\n",
            "Epoch: 60, Loss: 3.7279064655303955\n",
            "Epoch: 61, Loss: 3.725494384765625\n",
            "Epoch: 62, Loss: 3.7231087684631348\n",
            "Epoch: 63, Loss: 3.7207775115966797\n",
            "Epoch: 64, Loss: 3.718463182449341\n",
            "Epoch: 65, Loss: 3.716183662414551\n",
            "Epoch: 66, Loss: 3.7139439582824707\n",
            "Epoch: 67, Loss: 3.71174955368042\n",
            "Epoch: 68, Loss: 3.7095601558685303\n",
            "Epoch: 69, Loss: 3.7074172496795654\n",
            "Epoch: 70, Loss: 3.7053239345550537\n",
            "Epoch: 71, Loss: 3.703246593475342\n",
            "Epoch: 72, Loss: 3.701195240020752\n",
            "Epoch: 73, Loss: 3.699183225631714\n",
            "Epoch: 74, Loss: 3.697214126586914\n",
            "Epoch: 75, Loss: 3.6952409744262695\n",
            "Epoch: 76, Loss: 3.693289041519165\n",
            "Epoch: 77, Loss: 3.691380262374878\n",
            "Epoch: 78, Loss: 3.689497709274292\n",
            "Epoch: 79, Loss: 3.6876351833343506\n",
            "Epoch: 80, Loss: 3.6857993602752686\n",
            "Epoch: 81, Loss: 3.6839957237243652\n",
            "Epoch: 82, Loss: 3.6822025775909424\n",
            "Epoch: 83, Loss: 3.6804323196411133\n",
            "Epoch: 84, Loss: 3.678694486618042\n",
            "Epoch: 85, Loss: 3.6769778728485107\n",
            "Epoch: 86, Loss: 3.675278425216675\n",
            "Epoch: 87, Loss: 3.673591375350952\n",
            "Epoch: 88, Loss: 3.6719307899475098\n",
            "Epoch: 89, Loss: 3.6702871322631836\n",
            "Epoch: 90, Loss: 3.6686477661132812\n",
            "Epoch: 91, Loss: 3.66703462600708\n",
            "Epoch: 92, Loss: 3.6654415130615234\n",
            "Epoch: 93, Loss: 3.663872241973877\n",
            "Epoch: 94, Loss: 3.6623010635375977\n",
            "Epoch: 95, Loss: 3.6607561111450195\n",
            "Epoch: 96, Loss: 3.659231424331665\n",
            "Epoch: 97, Loss: 3.657731771469116\n",
            "Epoch: 98, Loss: 3.656235456466675\n",
            "Epoch: 99, Loss: 3.6547505855560303\n",
            "Epoch: 100, Loss: 3.6532933712005615\n",
            "Epoch: 101, Loss: 3.651848316192627\n",
            "Epoch: 102, Loss: 3.6504290103912354\n",
            "Epoch: 103, Loss: 3.6490228176116943\n",
            "Epoch: 104, Loss: 3.6476199626922607\n",
            "Epoch: 105, Loss: 3.6462321281433105\n",
            "Epoch: 106, Loss: 3.644859552383423\n",
            "Epoch: 107, Loss: 3.6434884071350098\n",
            "Epoch: 108, Loss: 3.6421384811401367\n",
            "Epoch: 109, Loss: 3.640805959701538\n",
            "Epoch: 110, Loss: 3.6394975185394287\n",
            "Epoch: 111, Loss: 3.638195037841797\n",
            "Epoch: 112, Loss: 3.636901617050171\n",
            "Epoch: 113, Loss: 3.6356136798858643\n",
            "Epoch: 114, Loss: 3.6343538761138916\n",
            "Epoch: 115, Loss: 3.633082866668701\n",
            "Epoch: 116, Loss: 3.631838321685791\n",
            "Epoch: 117, Loss: 3.630600929260254\n",
            "Epoch: 118, Loss: 3.6293718814849854\n",
            "Epoch: 119, Loss: 3.628162384033203\n",
            "Epoch: 120, Loss: 3.626957654953003\n",
            "Epoch: 121, Loss: 3.6257522106170654\n",
            "Epoch: 122, Loss: 3.6245710849761963\n",
            "Epoch: 123, Loss: 3.6234006881713867\n",
            "Epoch: 124, Loss: 3.62223219871521\n",
            "Epoch: 125, Loss: 3.6210784912109375\n",
            "Epoch: 126, Loss: 3.6199350357055664\n",
            "Epoch: 127, Loss: 3.61879563331604\n",
            "Epoch: 128, Loss: 3.6176764965057373\n",
            "Epoch: 129, Loss: 3.616560459136963\n",
            "Epoch: 130, Loss: 3.6154441833496094\n",
            "Epoch: 131, Loss: 3.614351511001587\n",
            "Epoch: 132, Loss: 3.6132616996765137\n",
            "Epoch: 133, Loss: 3.6121692657470703\n",
            "Epoch: 134, Loss: 3.6110901832580566\n",
            "Epoch: 135, Loss: 3.6100196838378906\n",
            "Epoch: 136, Loss: 3.608963966369629\n",
            "Epoch: 137, Loss: 3.6079111099243164\n",
            "Epoch: 138, Loss: 3.6068735122680664\n",
            "Epoch: 139, Loss: 3.605849266052246\n",
            "Epoch: 140, Loss: 3.6048240661621094\n",
            "Epoch: 141, Loss: 3.6038002967834473\n",
            "Epoch: 142, Loss: 3.6027920246124268\n",
            "Epoch: 143, Loss: 3.6017842292785645\n",
            "Epoch: 144, Loss: 3.60078501701355\n",
            "Epoch: 145, Loss: 3.5997962951660156\n",
            "Epoch: 146, Loss: 3.598818778991699\n",
            "Epoch: 147, Loss: 3.5978474617004395\n",
            "Epoch: 148, Loss: 3.596879720687866\n",
            "Epoch: 149, Loss: 3.595914602279663\n",
            "Epoch: 150, Loss: 3.594961404800415\n",
            "Epoch: 151, Loss: 3.59401798248291\n",
            "Epoch: 152, Loss: 3.5930752754211426\n",
            "Epoch: 153, Loss: 3.5921409130096436\n",
            "Epoch: 154, Loss: 3.591217279434204\n",
            "Epoch: 155, Loss: 3.590290069580078\n",
            "Epoch: 156, Loss: 3.5893805027008057\n",
            "Epoch: 157, Loss: 3.58847713470459\n",
            "Epoch: 158, Loss: 3.587571144104004\n",
            "Epoch: 159, Loss: 3.586682081222534\n",
            "Epoch: 160, Loss: 3.5857908725738525\n",
            "Epoch: 161, Loss: 3.584909677505493\n",
            "Epoch: 162, Loss: 3.5840344429016113\n",
            "Epoch: 163, Loss: 3.5831761360168457\n",
            "Epoch: 164, Loss: 3.5823044776916504\n",
            "Epoch: 165, Loss: 3.5814430713653564\n",
            "Epoch: 166, Loss: 3.580589771270752\n",
            "Epoch: 167, Loss: 3.579742193222046\n",
            "Epoch: 168, Loss: 3.5788981914520264\n",
            "Epoch: 169, Loss: 3.578057289123535\n",
            "Epoch: 170, Loss: 3.5772159099578857\n",
            "Epoch: 171, Loss: 3.576387643814087\n",
            "Epoch: 172, Loss: 3.575559616088867\n",
            "Epoch: 173, Loss: 3.5747485160827637\n",
            "Epoch: 174, Loss: 3.573939323425293\n",
            "Epoch: 175, Loss: 3.5731313228607178\n",
            "Epoch: 176, Loss: 3.5723326206207275\n",
            "Epoch: 177, Loss: 3.571532964706421\n",
            "Epoch: 178, Loss: 3.570739269256592\n",
            "Epoch: 179, Loss: 3.5699517726898193\n",
            "Epoch: 180, Loss: 3.5691685676574707\n",
            "Epoch: 181, Loss: 3.568391799926758\n",
            "Epoch: 182, Loss: 3.567615032196045\n",
            "Epoch: 183, Loss: 3.566847085952759\n",
            "Epoch: 184, Loss: 3.566084384918213\n",
            "Epoch: 185, Loss: 3.565325975418091\n",
            "Epoch: 186, Loss: 3.56457257270813\n",
            "Epoch: 187, Loss: 3.5638201236724854\n",
            "Epoch: 188, Loss: 3.563075304031372\n",
            "Epoch: 189, Loss: 3.56233286857605\n",
            "Epoch: 190, Loss: 3.5615997314453125\n",
            "Epoch: 191, Loss: 3.560866117477417\n",
            "Epoch: 192, Loss: 3.5601305961608887\n",
            "Epoch: 193, Loss: 3.559403419494629\n",
            "Epoch: 194, Loss: 3.5586750507354736\n",
            "Epoch: 195, Loss: 3.557955265045166\n",
            "Epoch: 196, Loss: 3.557244300842285\n",
            "Epoch: 197, Loss: 3.5565340518951416\n",
            "Epoch: 198, Loss: 3.555830478668213\n",
            "Epoch: 199, Loss: 3.5551302433013916\n",
            "hits@1: 0.185193, hits@5: 0.397156, hits@10: 0.516159, hits@20: 0.654987\n",
            "hits@50: 0.869649, hits@100: 0.978686\n",
            "map@1: 0.185193, map@5: 0.262307, map@10: 0.278046, map@20: 0.287629\n",
            "map@50: 0.294601, map@100: 0.296244\n",
            "ndcg@1: 0.185193, ndcg@5: 0.295815, ndcg@10: 0.334156, ndcg@20: 0.369196\n",
            "ndcg@50: 0.412023, ndcg@100: 0.429938\n"
          ]
        }
      ]
    },
    {
      "cell_type": "markdown",
      "source": [
        "### Node dropout, Infomax + Link pred"
      ],
      "metadata": {
        "id": "8F9aiXG-kO2r"
      }
    },
    {
      "cell_type": "code",
      "source": [
        "# device = torch.device('cuda' if torch.cuda.is_available() else 'cpu')\n",
        "device = torch.device('cpu')\n",
        "model = DeepGraphInfomax(hidden_channels=128,\n",
        "                         encoder=Encoder(interm_channels=74, hidden_channels=128,\n",
        "                                         num_features=128),\n",
        "                         summary=lambda z, *args, **kwargs: torch.sigmoid(z.mean(dim=0)),\n",
        "                         corruption=node_dropout).to(device)\n",
        "linkmodel = LinkPredHead()\n",
        "optimizer = torch.optim.AdamW(model.parameters(), lr=0.0005)\n",
        "loss_bce = nn.BCEWithLogitsLoss()"
      ],
      "metadata": {
        "id": "JsIqi4pCkZkW"
      },
      "execution_count": 83,
      "outputs": []
    },
    {
      "cell_type": "code",
      "source": [
        "num_epoch = 100\n",
        "loss_epoch = []\n",
        "for epoch in tqdm(range(1, num_epoch+1)):\n",
        "  if epoch == num_epoch:\n",
        "    pos_z, neg_z, summary, loss = train_infomax_linkpred(epoch)\n",
        "  else:\n",
        "    loss = train_infomax_linkpred(epoch)\n",
        "  loss_epoch.append(loss)"
      ],
      "metadata": {
        "colab": {
          "base_uri": "https://localhost:8080/"
        },
        "outputId": "2eb12dab-1608-4ec5-ae0c-bbcb10eba8d5",
        "id": "x8dYRrGukZke"
      },
      "execution_count": 84,
      "outputs": [
        {
          "output_type": "stream",
          "name": "stderr",
          "text": [
            "  1%|          | 1/100 [00:07<13:10,  7.99s/it]"
          ]
        },
        {
          "output_type": "stream",
          "name": "stdout",
          "text": [
            "Epoch: 1, Loss: 3.664515256881714\n"
          ]
        },
        {
          "output_type": "stream",
          "name": "stderr",
          "text": [
            "\r  2%|▏         | 2/100 [00:16<13:31,  8.28s/it]"
          ]
        },
        {
          "output_type": "stream",
          "name": "stdout",
          "text": [
            "Epoch: 2, Loss: 3.490450859069824\n"
          ]
        },
        {
          "output_type": "stream",
          "name": "stderr",
          "text": [
            "\r  3%|▎         | 3/100 [00:25<13:42,  8.47s/it]"
          ]
        },
        {
          "output_type": "stream",
          "name": "stdout",
          "text": [
            "Epoch: 3, Loss: 3.3777847290039062\n"
          ]
        },
        {
          "output_type": "stream",
          "name": "stderr",
          "text": [
            "\r  4%|▍         | 4/100 [00:32<13:01,  8.14s/it]"
          ]
        },
        {
          "output_type": "stream",
          "name": "stdout",
          "text": [
            "Epoch: 4, Loss: 3.4287264347076416\n"
          ]
        },
        {
          "output_type": "stream",
          "name": "stderr",
          "text": [
            "\r  5%|▌         | 5/100 [00:41<13:08,  8.30s/it]"
          ]
        },
        {
          "output_type": "stream",
          "name": "stdout",
          "text": [
            "Epoch: 5, Loss: 2.96075439453125\n"
          ]
        },
        {
          "output_type": "stream",
          "name": "stderr",
          "text": [
            "\r  6%|▌         | 6/100 [00:49<13:03,  8.33s/it]"
          ]
        },
        {
          "output_type": "stream",
          "name": "stdout",
          "text": [
            "Epoch: 6, Loss: 3.1812496185302734\n"
          ]
        },
        {
          "output_type": "stream",
          "name": "stderr",
          "text": [
            "\r  7%|▋         | 7/100 [00:57<12:36,  8.14s/it]"
          ]
        },
        {
          "output_type": "stream",
          "name": "stdout",
          "text": [
            "Epoch: 7, Loss: 3.216418743133545\n"
          ]
        },
        {
          "output_type": "stream",
          "name": "stderr",
          "text": [
            "\r  8%|▊         | 8/100 [01:06<12:46,  8.33s/it]"
          ]
        },
        {
          "output_type": "stream",
          "name": "stdout",
          "text": [
            "Epoch: 8, Loss: 3.1292529106140137\n"
          ]
        },
        {
          "output_type": "stream",
          "name": "stderr",
          "text": [
            "\r  9%|▉         | 9/100 [01:14<12:33,  8.28s/it]"
          ]
        },
        {
          "output_type": "stream",
          "name": "stdout",
          "text": [
            "Epoch: 9, Loss: 2.971038818359375\n"
          ]
        },
        {
          "output_type": "stream",
          "name": "stderr",
          "text": [
            "\r 10%|█         | 10/100 [01:22<12:29,  8.33s/it]"
          ]
        },
        {
          "output_type": "stream",
          "name": "stdout",
          "text": [
            "Epoch: 10, Loss: 3.2290589809417725\n"
          ]
        },
        {
          "output_type": "stream",
          "name": "stderr",
          "text": [
            "\r 11%|█         | 11/100 [01:31<12:24,  8.36s/it]"
          ]
        },
        {
          "output_type": "stream",
          "name": "stdout",
          "text": [
            "Epoch: 11, Loss: 2.716290235519409\n"
          ]
        },
        {
          "output_type": "stream",
          "name": "stderr",
          "text": [
            "\r 12%|█▏        | 12/100 [01:39<12:11,  8.31s/it]"
          ]
        },
        {
          "output_type": "stream",
          "name": "stdout",
          "text": [
            "Epoch: 12, Loss: 3.33065128326416\n"
          ]
        },
        {
          "output_type": "stream",
          "name": "stderr",
          "text": [
            "\r 13%|█▎        | 13/100 [01:46<11:40,  8.05s/it]"
          ]
        },
        {
          "output_type": "stream",
          "name": "stdout",
          "text": [
            "Epoch: 13, Loss: 2.9940178394317627\n"
          ]
        },
        {
          "output_type": "stream",
          "name": "stderr",
          "text": [
            "\r 14%|█▍        | 14/100 [01:55<11:39,  8.13s/it]"
          ]
        },
        {
          "output_type": "stream",
          "name": "stdout",
          "text": [
            "Epoch: 14, Loss: 3.175687313079834\n"
          ]
        },
        {
          "output_type": "stream",
          "name": "stderr",
          "text": [
            "\r 15%|█▌        | 15/100 [02:02<11:15,  7.95s/it]"
          ]
        },
        {
          "output_type": "stream",
          "name": "stdout",
          "text": [
            "Epoch: 15, Loss: 2.8403100967407227\n"
          ]
        },
        {
          "output_type": "stream",
          "name": "stderr",
          "text": [
            "\r 16%|█▌        | 16/100 [02:11<11:18,  8.08s/it]"
          ]
        },
        {
          "output_type": "stream",
          "name": "stdout",
          "text": [
            "Epoch: 16, Loss: 2.9970505237579346\n"
          ]
        },
        {
          "output_type": "stream",
          "name": "stderr",
          "text": [
            "\r 17%|█▋        | 17/100 [02:19<11:21,  8.21s/it]"
          ]
        },
        {
          "output_type": "stream",
          "name": "stdout",
          "text": [
            "Epoch: 17, Loss: 3.1157748699188232\n"
          ]
        },
        {
          "output_type": "stream",
          "name": "stderr",
          "text": [
            "\r 18%|█▊        | 18/100 [02:27<11:00,  8.06s/it]"
          ]
        },
        {
          "output_type": "stream",
          "name": "stdout",
          "text": [
            "Epoch: 18, Loss: 3.0964436531066895\n"
          ]
        },
        {
          "output_type": "stream",
          "name": "stderr",
          "text": [
            "\r 19%|█▉        | 19/100 [02:36<11:11,  8.29s/it]"
          ]
        },
        {
          "output_type": "stream",
          "name": "stdout",
          "text": [
            "Epoch: 19, Loss: 3.1601898670196533\n"
          ]
        },
        {
          "output_type": "stream",
          "name": "stderr",
          "text": [
            "\r 20%|██        | 20/100 [02:44<11:08,  8.36s/it]"
          ]
        },
        {
          "output_type": "stream",
          "name": "stdout",
          "text": [
            "Epoch: 20, Loss: 3.246617555618286\n"
          ]
        },
        {
          "output_type": "stream",
          "name": "stderr",
          "text": [
            "\r 21%|██        | 21/100 [02:52<10:44,  8.16s/it]"
          ]
        },
        {
          "output_type": "stream",
          "name": "stdout",
          "text": [
            "Epoch: 21, Loss: 3.091555595397949\n"
          ]
        },
        {
          "output_type": "stream",
          "name": "stderr",
          "text": [
            "\r 22%|██▏       | 22/100 [03:01<10:53,  8.38s/it]"
          ]
        },
        {
          "output_type": "stream",
          "name": "stdout",
          "text": [
            "Epoch: 22, Loss: 3.139610767364502\n"
          ]
        },
        {
          "output_type": "stream",
          "name": "stderr",
          "text": [
            "\r 23%|██▎       | 23/100 [03:09<10:47,  8.41s/it]"
          ]
        },
        {
          "output_type": "stream",
          "name": "stdout",
          "text": [
            "Epoch: 23, Loss: 2.939831495285034\n"
          ]
        },
        {
          "output_type": "stream",
          "name": "stderr",
          "text": [
            "\r 24%|██▍       | 24/100 [03:17<10:21,  8.18s/it]"
          ]
        },
        {
          "output_type": "stream",
          "name": "stdout",
          "text": [
            "Epoch: 24, Loss: 3.301394462585449\n"
          ]
        },
        {
          "output_type": "stream",
          "name": "stderr",
          "text": [
            "\r 25%|██▌       | 25/100 [03:26<10:22,  8.30s/it]"
          ]
        },
        {
          "output_type": "stream",
          "name": "stdout",
          "text": [
            "Epoch: 25, Loss: 2.9104530811309814\n"
          ]
        },
        {
          "output_type": "stream",
          "name": "stderr",
          "text": [
            "\r 26%|██▌       | 26/100 [03:34<10:09,  8.23s/it]"
          ]
        },
        {
          "output_type": "stream",
          "name": "stdout",
          "text": [
            "Epoch: 26, Loss: 3.052274227142334\n"
          ]
        },
        {
          "output_type": "stream",
          "name": "stderr",
          "text": [
            "\r 27%|██▋       | 27/100 [03:42<10:00,  8.23s/it]"
          ]
        },
        {
          "output_type": "stream",
          "name": "stdout",
          "text": [
            "Epoch: 27, Loss: 3.107346773147583\n"
          ]
        },
        {
          "output_type": "stream",
          "name": "stderr",
          "text": [
            "\r 28%|██▊       | 28/100 [03:50<09:54,  8.26s/it]"
          ]
        },
        {
          "output_type": "stream",
          "name": "stdout",
          "text": [
            "Epoch: 28, Loss: 2.7719452381134033\n"
          ]
        },
        {
          "output_type": "stream",
          "name": "stderr",
          "text": [
            "\r 29%|██▉       | 29/100 [03:58<09:33,  8.07s/it]"
          ]
        },
        {
          "output_type": "stream",
          "name": "stdout",
          "text": [
            "Epoch: 29, Loss: 2.760962963104248\n"
          ]
        },
        {
          "output_type": "stream",
          "name": "stderr",
          "text": [
            "\r 30%|███       | 30/100 [04:06<09:34,  8.21s/it]"
          ]
        },
        {
          "output_type": "stream",
          "name": "stdout",
          "text": [
            "Epoch: 30, Loss: 2.9412007331848145\n"
          ]
        },
        {
          "output_type": "stream",
          "name": "stderr",
          "text": [
            "\r 31%|███       | 31/100 [04:15<09:26,  8.21s/it]"
          ]
        },
        {
          "output_type": "stream",
          "name": "stdout",
          "text": [
            "Epoch: 31, Loss: 2.756744146347046\n"
          ]
        },
        {
          "output_type": "stream",
          "name": "stderr",
          "text": [
            "\r 32%|███▏      | 32/100 [04:22<09:04,  8.01s/it]"
          ]
        },
        {
          "output_type": "stream",
          "name": "stdout",
          "text": [
            "Epoch: 32, Loss: 2.7730839252471924\n"
          ]
        },
        {
          "output_type": "stream",
          "name": "stderr",
          "text": [
            "\r 33%|███▎      | 33/100 [04:31<09:04,  8.13s/it]"
          ]
        },
        {
          "output_type": "stream",
          "name": "stdout",
          "text": [
            "Epoch: 33, Loss: 2.6887807846069336\n"
          ]
        },
        {
          "output_type": "stream",
          "name": "stderr",
          "text": [
            "\r 34%|███▍      | 34/100 [04:39<09:03,  8.24s/it]"
          ]
        },
        {
          "output_type": "stream",
          "name": "stdout",
          "text": [
            "Epoch: 34, Loss: 3.0596060752868652\n"
          ]
        },
        {
          "output_type": "stream",
          "name": "stderr",
          "text": [
            "\r 35%|███▌      | 35/100 [04:47<08:49,  8.15s/it]"
          ]
        },
        {
          "output_type": "stream",
          "name": "stdout",
          "text": [
            "Epoch: 35, Loss: 3.465054512023926\n"
          ]
        },
        {
          "output_type": "stream",
          "name": "stderr",
          "text": [
            "\r 36%|███▌      | 36/100 [04:56<08:52,  8.32s/it]"
          ]
        },
        {
          "output_type": "stream",
          "name": "stdout",
          "text": [
            "Epoch: 36, Loss: 3.296570062637329\n"
          ]
        },
        {
          "output_type": "stream",
          "name": "stderr",
          "text": [
            "\r 37%|███▋      | 37/100 [05:04<08:43,  8.32s/it]"
          ]
        },
        {
          "output_type": "stream",
          "name": "stdout",
          "text": [
            "Epoch: 37, Loss: 3.194810390472412\n"
          ]
        },
        {
          "output_type": "stream",
          "name": "stderr",
          "text": [
            "\r 38%|███▊      | 38/100 [05:12<08:21,  8.09s/it]"
          ]
        },
        {
          "output_type": "stream",
          "name": "stdout",
          "text": [
            "Epoch: 38, Loss: 2.9805750846862793\n"
          ]
        },
        {
          "output_type": "stream",
          "name": "stderr",
          "text": [
            "\r 39%|███▉      | 39/100 [05:20<08:26,  8.30s/it]"
          ]
        },
        {
          "output_type": "stream",
          "name": "stdout",
          "text": [
            "Epoch: 39, Loss: 3.2198398113250732\n"
          ]
        },
        {
          "output_type": "stream",
          "name": "stderr",
          "text": [
            "\r 40%|████      | 40/100 [05:28<08:05,  8.08s/it]"
          ]
        },
        {
          "output_type": "stream",
          "name": "stdout",
          "text": [
            "Epoch: 40, Loss: 2.779831647872925\n"
          ]
        },
        {
          "output_type": "stream",
          "name": "stderr",
          "text": [
            "\r 41%|████      | 41/100 [05:36<07:59,  8.13s/it]"
          ]
        },
        {
          "output_type": "stream",
          "name": "stdout",
          "text": [
            "Epoch: 41, Loss: 3.1248583793640137\n"
          ]
        },
        {
          "output_type": "stream",
          "name": "stderr",
          "text": [
            "\r 42%|████▏     | 42/100 [05:45<07:57,  8.23s/it]"
          ]
        },
        {
          "output_type": "stream",
          "name": "stdout",
          "text": [
            "Epoch: 42, Loss: 3.1689541339874268\n"
          ]
        },
        {
          "output_type": "stream",
          "name": "stderr",
          "text": [
            "\r 43%|████▎     | 43/100 [05:53<07:46,  8.18s/it]"
          ]
        },
        {
          "output_type": "stream",
          "name": "stdout",
          "text": [
            "Epoch: 43, Loss: 3.440685987472534\n"
          ]
        },
        {
          "output_type": "stream",
          "name": "stderr",
          "text": [
            "\r 44%|████▍     | 44/100 [06:02<07:55,  8.50s/it]"
          ]
        },
        {
          "output_type": "stream",
          "name": "stdout",
          "text": [
            "Epoch: 44, Loss: 2.7286717891693115\n"
          ]
        },
        {
          "output_type": "stream",
          "name": "stderr",
          "text": [
            "\r 45%|████▌     | 45/100 [06:10<07:48,  8.51s/it]"
          ]
        },
        {
          "output_type": "stream",
          "name": "stdout",
          "text": [
            "Epoch: 45, Loss: 3.393552303314209\n"
          ]
        },
        {
          "output_type": "stream",
          "name": "stderr",
          "text": [
            "\r 46%|████▌     | 46/100 [06:18<07:26,  8.26s/it]"
          ]
        },
        {
          "output_type": "stream",
          "name": "stdout",
          "text": [
            "Epoch: 46, Loss: 2.8403677940368652\n"
          ]
        },
        {
          "output_type": "stream",
          "name": "stderr",
          "text": [
            "\r 47%|████▋     | 47/100 [06:27<07:22,  8.35s/it]"
          ]
        },
        {
          "output_type": "stream",
          "name": "stdout",
          "text": [
            "Epoch: 47, Loss: 2.5722086429595947\n"
          ]
        },
        {
          "output_type": "stream",
          "name": "stderr",
          "text": [
            "\r 48%|████▊     | 48/100 [06:35<07:14,  8.35s/it]"
          ]
        },
        {
          "output_type": "stream",
          "name": "stdout",
          "text": [
            "Epoch: 48, Loss: 3.2635674476623535\n"
          ]
        },
        {
          "output_type": "stream",
          "name": "stderr",
          "text": [
            "\r 49%|████▉     | 49/100 [06:44<07:12,  8.48s/it]"
          ]
        },
        {
          "output_type": "stream",
          "name": "stdout",
          "text": [
            "Epoch: 49, Loss: 2.5551443099975586\n"
          ]
        },
        {
          "output_type": "stream",
          "name": "stderr",
          "text": [
            "\r 50%|█████     | 50/100 [06:52<07:05,  8.51s/it]"
          ]
        },
        {
          "output_type": "stream",
          "name": "stdout",
          "text": [
            "Epoch: 50, Loss: 2.966099500656128\n"
          ]
        },
        {
          "output_type": "stream",
          "name": "stderr",
          "text": [
            "\r 51%|█████     | 51/100 [07:01<06:57,  8.52s/it]"
          ]
        },
        {
          "output_type": "stream",
          "name": "stdout",
          "text": [
            "Epoch: 51, Loss: 3.1227238178253174\n"
          ]
        },
        {
          "output_type": "stream",
          "name": "stderr",
          "text": [
            "\r 52%|█████▏    | 52/100 [07:08<06:34,  8.23s/it]"
          ]
        },
        {
          "output_type": "stream",
          "name": "stdout",
          "text": [
            "Epoch: 52, Loss: 3.0967533588409424\n"
          ]
        },
        {
          "output_type": "stream",
          "name": "stderr",
          "text": [
            "\r 53%|█████▎    | 53/100 [07:17<06:32,  8.35s/it]"
          ]
        },
        {
          "output_type": "stream",
          "name": "stdout",
          "text": [
            "Epoch: 53, Loss: 2.682342529296875\n"
          ]
        },
        {
          "output_type": "stream",
          "name": "stderr",
          "text": [
            "\r 54%|█████▍    | 54/100 [07:32<07:56, 10.37s/it]"
          ]
        },
        {
          "output_type": "stream",
          "name": "stdout",
          "text": [
            "Epoch: 54, Loss: 2.93943190574646\n"
          ]
        },
        {
          "output_type": "stream",
          "name": "stderr",
          "text": [
            "\r 55%|█████▌    | 55/100 [07:41<07:25,  9.90s/it]"
          ]
        },
        {
          "output_type": "stream",
          "name": "stdout",
          "text": [
            "Epoch: 55, Loss: 3.1342790126800537\n"
          ]
        },
        {
          "output_type": "stream",
          "name": "stderr",
          "text": [
            "\r 56%|█████▌    | 56/100 [07:49<06:47,  9.26s/it]"
          ]
        },
        {
          "output_type": "stream",
          "name": "stdout",
          "text": [
            "Epoch: 56, Loss: 2.9758522510528564\n"
          ]
        },
        {
          "output_type": "stream",
          "name": "stderr",
          "text": [
            "\r 57%|█████▋    | 57/100 [07:58<06:35,  9.19s/it]"
          ]
        },
        {
          "output_type": "stream",
          "name": "stdout",
          "text": [
            "Epoch: 57, Loss: 3.128324508666992\n"
          ]
        },
        {
          "output_type": "stream",
          "name": "stderr",
          "text": [
            "\r 58%|█████▊    | 58/100 [08:06<06:14,  8.93s/it]"
          ]
        },
        {
          "output_type": "stream",
          "name": "stdout",
          "text": [
            "Epoch: 58, Loss: 2.503632068634033\n"
          ]
        },
        {
          "output_type": "stream",
          "name": "stderr",
          "text": [
            "\r 59%|█████▉    | 59/100 [08:14<05:51,  8.57s/it]"
          ]
        },
        {
          "output_type": "stream",
          "name": "stdout",
          "text": [
            "Epoch: 59, Loss: 3.087893009185791\n"
          ]
        },
        {
          "output_type": "stream",
          "name": "stderr",
          "text": [
            "\r 60%|██████    | 60/100 [08:22<05:42,  8.56s/it]"
          ]
        },
        {
          "output_type": "stream",
          "name": "stdout",
          "text": [
            "Epoch: 60, Loss: 3.125723123550415\n"
          ]
        },
        {
          "output_type": "stream",
          "name": "stderr",
          "text": [
            "\r 61%|██████    | 61/100 [08:30<05:20,  8.23s/it]"
          ]
        },
        {
          "output_type": "stream",
          "name": "stdout",
          "text": [
            "Epoch: 61, Loss: 3.017693042755127\n"
          ]
        },
        {
          "output_type": "stream",
          "name": "stderr",
          "text": [
            "\r 62%|██████▏   | 62/100 [08:39<05:18,  8.39s/it]"
          ]
        },
        {
          "output_type": "stream",
          "name": "stdout",
          "text": [
            "Epoch: 62, Loss: 2.5308191776275635\n"
          ]
        },
        {
          "output_type": "stream",
          "name": "stderr",
          "text": [
            "\r 63%|██████▎   | 63/100 [08:47<05:10,  8.40s/it]"
          ]
        },
        {
          "output_type": "stream",
          "name": "stdout",
          "text": [
            "Epoch: 63, Loss: 2.618776798248291\n"
          ]
        },
        {
          "output_type": "stream",
          "name": "stderr",
          "text": [
            "\r 64%|██████▍   | 64/100 [08:55<04:53,  8.15s/it]"
          ]
        },
        {
          "output_type": "stream",
          "name": "stdout",
          "text": [
            "Epoch: 64, Loss: 3.122264862060547\n"
          ]
        },
        {
          "output_type": "stream",
          "name": "stderr",
          "text": [
            "\r 65%|██████▌   | 65/100 [09:03<04:49,  8.27s/it]"
          ]
        },
        {
          "output_type": "stream",
          "name": "stdout",
          "text": [
            "Epoch: 65, Loss: 3.1275148391723633\n"
          ]
        },
        {
          "output_type": "stream",
          "name": "stderr",
          "text": [
            "\r 66%|██████▌   | 66/100 [09:12<04:43,  8.34s/it]"
          ]
        },
        {
          "output_type": "stream",
          "name": "stdout",
          "text": [
            "Epoch: 66, Loss: 3.250262975692749\n"
          ]
        },
        {
          "output_type": "stream",
          "name": "stderr",
          "text": [
            "\r 67%|██████▋   | 67/100 [09:19<04:29,  8.15s/it]"
          ]
        },
        {
          "output_type": "stream",
          "name": "stdout",
          "text": [
            "Epoch: 67, Loss: 3.113621711730957\n"
          ]
        },
        {
          "output_type": "stream",
          "name": "stderr",
          "text": [
            "\r 68%|██████▊   | 68/100 [09:28<04:22,  8.21s/it]"
          ]
        },
        {
          "output_type": "stream",
          "name": "stdout",
          "text": [
            "Epoch: 68, Loss: 2.950868606567383\n"
          ]
        },
        {
          "output_type": "stream",
          "name": "stderr",
          "text": [
            "\r 69%|██████▉   | 69/100 [09:36<04:19,  8.37s/it]"
          ]
        },
        {
          "output_type": "stream",
          "name": "stdout",
          "text": [
            "Epoch: 69, Loss: 2.507024049758911\n"
          ]
        },
        {
          "output_type": "stream",
          "name": "stderr",
          "text": [
            "\r 70%|███████   | 70/100 [09:44<04:03,  8.13s/it]"
          ]
        },
        {
          "output_type": "stream",
          "name": "stdout",
          "text": [
            "Epoch: 70, Loss: 2.676743745803833\n"
          ]
        },
        {
          "output_type": "stream",
          "name": "stderr",
          "text": [
            "\r 71%|███████   | 71/100 [09:53<03:58,  8.24s/it]"
          ]
        },
        {
          "output_type": "stream",
          "name": "stdout",
          "text": [
            "Epoch: 71, Loss: 3.271341323852539\n"
          ]
        },
        {
          "output_type": "stream",
          "name": "stderr",
          "text": [
            "\r 72%|███████▏  | 72/100 [10:00<03:46,  8.07s/it]"
          ]
        },
        {
          "output_type": "stream",
          "name": "stdout",
          "text": [
            "Epoch: 72, Loss: 2.7084808349609375\n"
          ]
        },
        {
          "output_type": "stream",
          "name": "stderr",
          "text": [
            "\r 73%|███████▎  | 73/100 [10:09<03:39,  8.15s/it]"
          ]
        },
        {
          "output_type": "stream",
          "name": "stdout",
          "text": [
            "Epoch: 73, Loss: 2.712580919265747\n"
          ]
        },
        {
          "output_type": "stream",
          "name": "stderr",
          "text": [
            "\r 74%|███████▍  | 74/100 [10:17<03:33,  8.22s/it]"
          ]
        },
        {
          "output_type": "stream",
          "name": "stdout",
          "text": [
            "Epoch: 74, Loss: 3.005690574645996\n"
          ]
        },
        {
          "output_type": "stream",
          "name": "stderr",
          "text": [
            "\r 75%|███████▌  | 75/100 [10:26<03:30,  8.43s/it]"
          ]
        },
        {
          "output_type": "stream",
          "name": "stdout",
          "text": [
            "Epoch: 75, Loss: 3.4528884887695312\n"
          ]
        },
        {
          "output_type": "stream",
          "name": "stderr",
          "text": [
            "\r 76%|███████▌  | 76/100 [10:34<03:21,  8.38s/it]"
          ]
        },
        {
          "output_type": "stream",
          "name": "stdout",
          "text": [
            "Epoch: 76, Loss: 3.4657819271087646\n"
          ]
        },
        {
          "output_type": "stream",
          "name": "stderr",
          "text": [
            "\r 77%|███████▋  | 77/100 [10:43<03:13,  8.41s/it]"
          ]
        },
        {
          "output_type": "stream",
          "name": "stdout",
          "text": [
            "Epoch: 77, Loss: 2.8269662857055664\n"
          ]
        },
        {
          "output_type": "stream",
          "name": "stderr",
          "text": [
            "\r 78%|███████▊  | 78/100 [10:50<03:01,  8.23s/it]"
          ]
        },
        {
          "output_type": "stream",
          "name": "stdout",
          "text": [
            "Epoch: 78, Loss: 3.1453449726104736\n"
          ]
        },
        {
          "output_type": "stream",
          "name": "stderr",
          "text": [
            "\r 79%|███████▉  | 79/100 [10:59<02:55,  8.36s/it]"
          ]
        },
        {
          "output_type": "stream",
          "name": "stdout",
          "text": [
            "Epoch: 79, Loss: 2.5275485515594482\n"
          ]
        },
        {
          "output_type": "stream",
          "name": "stderr",
          "text": [
            "\r 80%|████████  | 80/100 [11:08<02:48,  8.44s/it]"
          ]
        },
        {
          "output_type": "stream",
          "name": "stdout",
          "text": [
            "Epoch: 80, Loss: 3.3626534938812256\n"
          ]
        },
        {
          "output_type": "stream",
          "name": "stderr",
          "text": [
            "\r 81%|████████  | 81/100 [11:15<02:34,  8.14s/it]"
          ]
        },
        {
          "output_type": "stream",
          "name": "stdout",
          "text": [
            "Epoch: 81, Loss: 2.363163471221924\n"
          ]
        },
        {
          "output_type": "stream",
          "name": "stderr",
          "text": [
            "\r 82%|████████▏ | 82/100 [11:24<02:30,  8.36s/it]"
          ]
        },
        {
          "output_type": "stream",
          "name": "stdout",
          "text": [
            "Epoch: 82, Loss: 2.3826136589050293\n"
          ]
        },
        {
          "output_type": "stream",
          "name": "stderr",
          "text": [
            "\r 83%|████████▎ | 83/100 [11:32<02:21,  8.32s/it]"
          ]
        },
        {
          "output_type": "stream",
          "name": "stdout",
          "text": [
            "Epoch: 83, Loss: 2.6772749423980713\n"
          ]
        },
        {
          "output_type": "stream",
          "name": "stderr",
          "text": [
            "\r 84%|████████▍ | 84/100 [11:40<02:10,  8.15s/it]"
          ]
        },
        {
          "output_type": "stream",
          "name": "stdout",
          "text": [
            "Epoch: 84, Loss: 2.8820641040802\n"
          ]
        },
        {
          "output_type": "stream",
          "name": "stderr",
          "text": [
            "\r 85%|████████▌ | 85/100 [11:49<02:05,  8.39s/it]"
          ]
        },
        {
          "output_type": "stream",
          "name": "stdout",
          "text": [
            "Epoch: 85, Loss: 3.4995357990264893\n"
          ]
        },
        {
          "output_type": "stream",
          "name": "stderr",
          "text": [
            "\r 86%|████████▌ | 86/100 [11:57<01:57,  8.39s/it]"
          ]
        },
        {
          "output_type": "stream",
          "name": "stdout",
          "text": [
            "Epoch: 86, Loss: 2.201569080352783\n"
          ]
        },
        {
          "output_type": "stream",
          "name": "stderr",
          "text": [
            "\r 87%|████████▋ | 87/100 [12:05<01:45,  8.12s/it]"
          ]
        },
        {
          "output_type": "stream",
          "name": "stdout",
          "text": [
            "Epoch: 87, Loss: 2.206315279006958\n"
          ]
        },
        {
          "output_type": "stream",
          "name": "stderr",
          "text": [
            "\r 88%|████████▊ | 88/100 [12:13<01:38,  8.21s/it]"
          ]
        },
        {
          "output_type": "stream",
          "name": "stdout",
          "text": [
            "Epoch: 88, Loss: 2.7482175827026367\n"
          ]
        },
        {
          "output_type": "stream",
          "name": "stderr",
          "text": [
            "\r 89%|████████▉ | 89/100 [12:21<01:29,  8.15s/it]"
          ]
        },
        {
          "output_type": "stream",
          "name": "stdout",
          "text": [
            "Epoch: 89, Loss: 2.8475990295410156\n"
          ]
        },
        {
          "output_type": "stream",
          "name": "stderr",
          "text": [
            "\r 90%|█████████ | 90/100 [12:29<01:21,  8.14s/it]"
          ]
        },
        {
          "output_type": "stream",
          "name": "stdout",
          "text": [
            "Epoch: 90, Loss: 3.0092356204986572\n"
          ]
        },
        {
          "output_type": "stream",
          "name": "stderr",
          "text": [
            "\r 91%|█████████ | 91/100 [12:38<01:14,  8.29s/it]"
          ]
        },
        {
          "output_type": "stream",
          "name": "stdout",
          "text": [
            "Epoch: 91, Loss: 3.4208266735076904\n"
          ]
        },
        {
          "output_type": "stream",
          "name": "stderr",
          "text": [
            "\r 92%|█████████▏| 92/100 [12:46<01:04,  8.12s/it]"
          ]
        },
        {
          "output_type": "stream",
          "name": "stdout",
          "text": [
            "Epoch: 92, Loss: 2.9296605587005615\n"
          ]
        },
        {
          "output_type": "stream",
          "name": "stderr",
          "text": [
            "\r 93%|█████████▎| 93/100 [12:54<00:58,  8.32s/it]"
          ]
        },
        {
          "output_type": "stream",
          "name": "stdout",
          "text": [
            "Epoch: 93, Loss: 3.459144353866577\n"
          ]
        },
        {
          "output_type": "stream",
          "name": "stderr",
          "text": [
            "\r 94%|█████████▍| 94/100 [13:03<00:50,  8.46s/it]"
          ]
        },
        {
          "output_type": "stream",
          "name": "stdout",
          "text": [
            "Epoch: 94, Loss: 3.1057488918304443\n"
          ]
        },
        {
          "output_type": "stream",
          "name": "stderr",
          "text": [
            "\r 95%|█████████▌| 95/100 [13:11<00:40,  8.20s/it]"
          ]
        },
        {
          "output_type": "stream",
          "name": "stdout",
          "text": [
            "Epoch: 95, Loss: 3.009251832962036\n"
          ]
        },
        {
          "output_type": "stream",
          "name": "stderr",
          "text": [
            "\r 96%|█████████▌| 96/100 [13:20<00:33,  8.34s/it]"
          ]
        },
        {
          "output_type": "stream",
          "name": "stdout",
          "text": [
            "Epoch: 96, Loss: 2.9634342193603516\n"
          ]
        },
        {
          "output_type": "stream",
          "name": "stderr",
          "text": [
            "\r 97%|█████████▋| 97/100 [13:28<00:25,  8.41s/it]"
          ]
        },
        {
          "output_type": "stream",
          "name": "stdout",
          "text": [
            "Epoch: 97, Loss: 2.752070188522339\n"
          ]
        },
        {
          "output_type": "stream",
          "name": "stderr",
          "text": [
            "\r 98%|█████████▊| 98/100 [13:36<00:16,  8.23s/it]"
          ]
        },
        {
          "output_type": "stream",
          "name": "stdout",
          "text": [
            "Epoch: 98, Loss: 3.2625858783721924\n"
          ]
        },
        {
          "output_type": "stream",
          "name": "stderr",
          "text": [
            "\r 99%|█████████▉| 99/100 [13:45<00:08,  8.40s/it]"
          ]
        },
        {
          "output_type": "stream",
          "name": "stdout",
          "text": [
            "Epoch: 99, Loss: 3.368649482727051\n"
          ]
        },
        {
          "output_type": "stream",
          "name": "stderr",
          "text": [
            "100%|██████████| 100/100 [13:53<00:00,  8.34s/it]"
          ]
        },
        {
          "output_type": "stream",
          "name": "stdout",
          "text": [
            "Epoch: 100, Loss: 2.653125047683716\n"
          ]
        },
        {
          "output_type": "stream",
          "name": "stderr",
          "text": [
            "\n"
          ]
        }
      ]
    },
    {
      "cell_type": "code",
      "source": [
        "final_user_representations = {}\n",
        "repr = pos_z\n",
        "for i in range(pos_z.shape[0]):\n",
        "  final_user_representations[i] = (i, repr[i].detach(), user_representations[i][1])"
      ],
      "metadata": {
        "id": "4B9ZplOYkZke"
      },
      "execution_count": 85,
      "outputs": []
    },
    {
      "cell_type": "code",
      "execution_count": 86,
      "metadata": {
        "id": "nOuAg2SCkZke"
      },
      "outputs": [],
      "source": [
        "user_dataset = UserDataset(final_user_representations)\n",
        "\n",
        "n = len(user_dataset)\n",
        "\n",
        "indices = np.arange(n)\n",
        "indices = np.random.permutation(indices)\n",
        "\n",
        "train_indices = indices [:int(0.8*n)]\n",
        "test_indices = indices[int(0.8*n):]\n",
        "\n",
        "user_train_dataset = Subset(user_dataset, train_indices)\n",
        "user_test_dataset = Subset(user_dataset, test_indices)\n",
        "\n",
        "user_train_dataloader = DataLoader(user_train_dataset, batch_size=64, shuffle=True)\n",
        "user_test_dataloader = DataLoader(user_test_dataset, batch_size=64, shuffle=True)"
      ]
    },
    {
      "cell_type": "code",
      "execution_count": 87,
      "metadata": {
        "id": "-4nbScB9kZke"
      },
      "outputs": [],
      "source": [
        "num_classes = 186\n",
        "classes = np.arange(0, num_classes)"
      ]
    },
    {
      "cell_type": "code",
      "source": [
        "head_model = train2task()\n",
        "torch.save(head_model.state_dict(), 'node_dropout_infomax_linkpred_model.pth')"
      ],
      "metadata": {
        "id": "kUxyiEfkkZke",
        "colab": {
          "base_uri": "https://localhost:8080/"
        },
        "outputId": "624a81c2-e5ce-40e1-af9e-a3d6b75b0c22"
      },
      "execution_count": 88,
      "outputs": [
        {
          "output_type": "stream",
          "name": "stdout",
          "text": [
            "Epoch: 0, Loss: 4.470142841339111\n",
            "Epoch: 1, Loss: 4.250609874725342\n",
            "Epoch: 2, Loss: 4.13272762298584\n",
            "Epoch: 3, Loss: 4.051883697509766\n",
            "Epoch: 4, Loss: 3.9903104305267334\n",
            "Epoch: 5, Loss: 3.9406611919403076\n",
            "Epoch: 6, Loss: 3.899014472961426\n",
            "Epoch: 7, Loss: 3.863306999206543\n",
            "Epoch: 8, Loss: 3.832075595855713\n",
            "Epoch: 9, Loss: 3.804293632507324\n",
            "Epoch: 10, Loss: 3.7793848514556885\n",
            "Epoch: 11, Loss: 3.756803274154663\n",
            "Epoch: 12, Loss: 3.736203908920288\n",
            "Epoch: 13, Loss: 3.7172863483428955\n",
            "Epoch: 14, Loss: 3.699819326400757\n",
            "Epoch: 15, Loss: 3.6835925579071045\n",
            "Epoch: 16, Loss: 3.6684701442718506\n",
            "Epoch: 17, Loss: 3.6543116569519043\n",
            "Epoch: 18, Loss: 3.6410152912139893\n",
            "Epoch: 19, Loss: 3.6284961700439453\n",
            "Epoch: 20, Loss: 3.6166610717773438\n",
            "Epoch: 21, Loss: 3.605457067489624\n",
            "Epoch: 22, Loss: 3.5947988033294678\n",
            "Epoch: 23, Loss: 3.5846564769744873\n",
            "Epoch: 24, Loss: 3.5749940872192383\n",
            "Epoch: 25, Loss: 3.565760850906372\n",
            "Epoch: 26, Loss: 3.5569303035736084\n",
            "Epoch: 27, Loss: 3.548447608947754\n",
            "Epoch: 28, Loss: 3.540306329727173\n",
            "Epoch: 29, Loss: 3.5324790477752686\n",
            "Epoch: 30, Loss: 3.5249571800231934\n",
            "Epoch: 31, Loss: 3.5176899433135986\n",
            "Epoch: 32, Loss: 3.510694980621338\n",
            "Epoch: 33, Loss: 3.5039336681365967\n",
            "Epoch: 34, Loss: 3.4973955154418945\n",
            "Epoch: 35, Loss: 3.491072177886963\n",
            "Epoch: 36, Loss: 3.484940767288208\n",
            "Epoch: 37, Loss: 3.4790070056915283\n",
            "Epoch: 38, Loss: 3.4732398986816406\n",
            "Epoch: 39, Loss: 3.4676461219787598\n",
            "Epoch: 40, Loss: 3.462209939956665\n",
            "Epoch: 41, Loss: 3.4569242000579834\n",
            "Epoch: 42, Loss: 3.451768159866333\n",
            "Epoch: 43, Loss: 3.4467620849609375\n",
            "Epoch: 44, Loss: 3.4418728351593018\n",
            "Epoch: 45, Loss: 3.4371094703674316\n",
            "Epoch: 46, Loss: 3.432459831237793\n",
            "Epoch: 47, Loss: 3.427924394607544\n",
            "Epoch: 48, Loss: 3.4234986305236816\n",
            "Epoch: 49, Loss: 3.419170618057251\n",
            "Epoch: 50, Loss: 3.414942502975464\n",
            "Epoch: 51, Loss: 3.4108188152313232\n",
            "Epoch: 52, Loss: 3.4067723751068115\n",
            "Epoch: 53, Loss: 3.4028127193450928\n",
            "Epoch: 54, Loss: 3.398939371109009\n",
            "Epoch: 55, Loss: 3.395143747329712\n",
            "Epoch: 56, Loss: 3.391422986984253\n",
            "Epoch: 57, Loss: 3.387786865234375\n",
            "Epoch: 58, Loss: 3.384211301803589\n",
            "Epoch: 59, Loss: 3.380703926086426\n",
            "Epoch: 60, Loss: 3.377265214920044\n",
            "Epoch: 61, Loss: 3.373887777328491\n",
            "Epoch: 62, Loss: 3.370577335357666\n",
            "Epoch: 63, Loss: 3.367323875427246\n",
            "Epoch: 64, Loss: 3.3641321659088135\n",
            "Epoch: 65, Loss: 3.360988140106201\n",
            "Epoch: 66, Loss: 3.357900619506836\n",
            "Epoch: 67, Loss: 3.354863166809082\n",
            "Epoch: 68, Loss: 3.351876735687256\n",
            "Epoch: 69, Loss: 3.3489432334899902\n",
            "Epoch: 70, Loss: 3.3460593223571777\n",
            "Epoch: 71, Loss: 3.343216896057129\n",
            "Epoch: 72, Loss: 3.3404219150543213\n",
            "Epoch: 73, Loss: 3.3376715183258057\n",
            "Epoch: 74, Loss: 3.334956169128418\n",
            "Epoch: 75, Loss: 3.3322856426239014\n",
            "Epoch: 76, Loss: 3.329657793045044\n",
            "Epoch: 77, Loss: 3.327066421508789\n",
            "Epoch: 78, Loss: 3.3245110511779785\n",
            "Epoch: 79, Loss: 3.321993350982666\n",
            "Epoch: 80, Loss: 3.3195128440856934\n",
            "Epoch: 81, Loss: 3.3170666694641113\n",
            "Epoch: 82, Loss: 3.314649820327759\n",
            "Epoch: 83, Loss: 3.3122670650482178\n",
            "Epoch: 84, Loss: 3.3099138736724854\n",
            "Epoch: 85, Loss: 3.3075976371765137\n",
            "Epoch: 86, Loss: 3.3053081035614014\n",
            "Epoch: 87, Loss: 3.3030526638031006\n",
            "Epoch: 88, Loss: 3.30082368850708\n",
            "Epoch: 89, Loss: 3.2986257076263428\n",
            "Epoch: 90, Loss: 3.296450614929199\n",
            "Epoch: 91, Loss: 3.294306755065918\n",
            "Epoch: 92, Loss: 3.292189836502075\n",
            "Epoch: 93, Loss: 3.290095329284668\n",
            "Epoch: 94, Loss: 3.288029670715332\n",
            "Epoch: 95, Loss: 3.2859838008880615\n",
            "Epoch: 96, Loss: 3.2839622497558594\n",
            "Epoch: 97, Loss: 3.281965494155884\n",
            "Epoch: 98, Loss: 3.2799930572509766\n",
            "Epoch: 99, Loss: 3.278043031692505\n",
            "Epoch: 100, Loss: 3.2761166095733643\n",
            "Epoch: 101, Loss: 3.2742090225219727\n",
            "Epoch: 102, Loss: 3.2723276615142822\n",
            "Epoch: 103, Loss: 3.2704620361328125\n",
            "Epoch: 104, Loss: 3.268615961074829\n",
            "Epoch: 105, Loss: 3.266791820526123\n",
            "Epoch: 106, Loss: 3.264986515045166\n",
            "Epoch: 107, Loss: 3.26320219039917\n",
            "Epoch: 108, Loss: 3.2614352703094482\n",
            "Epoch: 109, Loss: 3.259687900543213\n",
            "Epoch: 110, Loss: 3.257956027984619\n",
            "Epoch: 111, Loss: 3.2562410831451416\n",
            "Epoch: 112, Loss: 3.2545454502105713\n",
            "Epoch: 113, Loss: 3.2528669834136963\n",
            "Epoch: 114, Loss: 3.251206159591675\n",
            "Epoch: 115, Loss: 3.249560594558716\n",
            "Epoch: 116, Loss: 3.2479302883148193\n",
            "Epoch: 117, Loss: 3.2463133335113525\n",
            "Epoch: 118, Loss: 3.24471378326416\n",
            "Epoch: 119, Loss: 3.243130683898926\n",
            "Epoch: 120, Loss: 3.241564989089966\n",
            "Epoch: 121, Loss: 3.240011215209961\n",
            "Epoch: 122, Loss: 3.2384719848632812\n",
            "Epoch: 123, Loss: 3.236945390701294\n",
            "Epoch: 124, Loss: 3.2354352474212646\n",
            "Epoch: 125, Loss: 3.233938455581665\n",
            "Epoch: 126, Loss: 3.232454538345337\n",
            "Epoch: 127, Loss: 3.230985641479492\n",
            "Epoch: 128, Loss: 3.2295279502868652\n",
            "Epoch: 129, Loss: 3.228083372116089\n",
            "Epoch: 130, Loss: 3.226651668548584\n",
            "Epoch: 131, Loss: 3.2252309322357178\n",
            "Epoch: 132, Loss: 3.2238264083862305\n",
            "Epoch: 133, Loss: 3.2224347591400146\n",
            "Epoch: 134, Loss: 3.221053123474121\n",
            "Epoch: 135, Loss: 3.2196834087371826\n",
            "Epoch: 136, Loss: 3.2183213233947754\n",
            "Epoch: 137, Loss: 3.216973304748535\n",
            "Epoch: 138, Loss: 3.2156364917755127\n",
            "Epoch: 139, Loss: 3.214310884475708\n",
            "Epoch: 140, Loss: 3.212996006011963\n",
            "Epoch: 141, Loss: 3.2116918563842773\n",
            "Epoch: 142, Loss: 3.2103970050811768\n",
            "Epoch: 143, Loss: 3.209113597869873\n",
            "Epoch: 144, Loss: 3.2078404426574707\n",
            "Epoch: 145, Loss: 3.206577777862549\n",
            "Epoch: 146, Loss: 3.2053263187408447\n",
            "Epoch: 147, Loss: 3.20408296585083\n",
            "Epoch: 148, Loss: 3.2028486728668213\n",
            "Epoch: 149, Loss: 3.2016236782073975\n",
            "Epoch: 150, Loss: 3.200406789779663\n",
            "Epoch: 151, Loss: 3.199202299118042\n",
            "Epoch: 152, Loss: 3.1980035305023193\n",
            "Epoch: 153, Loss: 3.1968166828155518\n",
            "Epoch: 154, Loss: 3.195638656616211\n",
            "Epoch: 155, Loss: 3.194467067718506\n",
            "Epoch: 156, Loss: 3.1933038234710693\n",
            "Epoch: 157, Loss: 3.1921513080596924\n",
            "Epoch: 158, Loss: 3.191004753112793\n",
            "Epoch: 159, Loss: 3.1898653507232666\n",
            "Epoch: 160, Loss: 3.1887362003326416\n",
            "Epoch: 161, Loss: 3.187614917755127\n",
            "Epoch: 162, Loss: 3.1865017414093018\n",
            "Epoch: 163, Loss: 3.185396432876587\n",
            "Epoch: 164, Loss: 3.1842997074127197\n",
            "Epoch: 165, Loss: 3.183208465576172\n",
            "Epoch: 166, Loss: 3.182126760482788\n",
            "Epoch: 167, Loss: 3.1810519695281982\n",
            "Epoch: 168, Loss: 3.1799867153167725\n",
            "Epoch: 169, Loss: 3.178925037384033\n",
            "Epoch: 170, Loss: 3.177870512008667\n",
            "Epoch: 171, Loss: 3.1768252849578857\n",
            "Epoch: 172, Loss: 3.1757864952087402\n",
            "Epoch: 173, Loss: 3.174752950668335\n",
            "Epoch: 174, Loss: 3.173727035522461\n",
            "Epoch: 175, Loss: 3.172708511352539\n",
            "Epoch: 176, Loss: 3.171696424484253\n",
            "Epoch: 177, Loss: 3.1706902980804443\n",
            "Epoch: 178, Loss: 3.1696889400482178\n",
            "Epoch: 179, Loss: 3.1686959266662598\n",
            "Epoch: 180, Loss: 3.1677088737487793\n",
            "Epoch: 181, Loss: 3.1667308807373047\n",
            "Epoch: 182, Loss: 3.165754795074463\n",
            "Epoch: 183, Loss: 3.1647863388061523\n",
            "Epoch: 184, Loss: 3.1638243198394775\n",
            "Epoch: 185, Loss: 3.1628692150115967\n",
            "Epoch: 186, Loss: 3.161919116973877\n",
            "Epoch: 187, Loss: 3.160972833633423\n",
            "Epoch: 188, Loss: 3.1600329875946045\n",
            "Epoch: 189, Loss: 3.159101724624634\n",
            "Epoch: 190, Loss: 3.158174753189087\n",
            "Epoch: 191, Loss: 3.157252550125122\n",
            "Epoch: 192, Loss: 3.156336545944214\n",
            "Epoch: 193, Loss: 3.155426263809204\n",
            "Epoch: 194, Loss: 3.1545217037200928\n",
            "Epoch: 195, Loss: 3.1536219120025635\n",
            "Epoch: 196, Loss: 3.152728319168091\n",
            "Epoch: 197, Loss: 3.151839256286621\n",
            "Epoch: 198, Loss: 3.150956630706787\n",
            "Epoch: 199, Loss: 3.150078535079956\n",
            "hits@1: 0.275102, hits@5: 0.511882, hits@10: 0.621971, hits@20: 0.745175\n",
            "hits@50: 0.907054, hits@100: 0.985134\n",
            "map@1: 0.275102, map@5: 0.362932, map@10: 0.377824, map@20: 0.386324\n",
            "map@50: 0.391682, map@100: 0.392860\n",
            "ndcg@1: 0.275102, ndcg@5: 0.400048, ndcg@10: 0.435846, ndcg@20: 0.466934\n",
            "ndcg@50: 0.499398, ndcg@100: 0.512231\n"
          ]
        }
      ]
    },
    {
      "cell_type": "markdown",
      "source": [
        "### Edge dropout, Infomax + Link pred"
      ],
      "metadata": {
        "id": "Wq4BzC5ekttn"
      }
    },
    {
      "cell_type": "code",
      "source": [
        "# device = torch.device('cuda' if torch.cuda.is_available() else 'cpu')\n",
        "device = torch.device('cpu')\n",
        "model = DeepGraphInfomax(hidden_channels=128,\n",
        "                         encoder=Encoder(interm_channels=74, hidden_channels=128,\n",
        "                                         num_features=128),\n",
        "                         summary=lambda z, *args, **kwargs: torch.sigmoid(z.mean(dim=0)),\n",
        "                         corruption=edge_dropout).to(device)\n",
        "linkmodel = LinkPredHead()\n",
        "optimizer = torch.optim.AdamW(model.parameters(), lr=0.0005)\n",
        "loss_bce = nn.BCEWithLogitsLoss()"
      ],
      "metadata": {
        "id": "I_UNe0jhk0D4"
      },
      "execution_count": 89,
      "outputs": []
    },
    {
      "cell_type": "code",
      "source": [
        "num_epoch = 100\n",
        "loss_epoch = []\n",
        "for epoch in tqdm(range(1, num_epoch+1)):\n",
        "  if epoch == num_epoch:\n",
        "    pos_z, neg_z, summary, loss = train_infomax_linkpred(epoch)\n",
        "  else:\n",
        "    loss = train_infomax_linkpred(epoch)\n",
        "  loss_epoch.append(loss)"
      ],
      "metadata": {
        "colab": {
          "base_uri": "https://localhost:8080/"
        },
        "outputId": "0a1ad393-1cfa-43ce-ab6f-f457b79d466c",
        "id": "R3Q6-o9sk0D_"
      },
      "execution_count": 90,
      "outputs": [
        {
          "output_type": "stream",
          "name": "stderr",
          "text": [
            "  1%|          | 1/100 [00:06<10:03,  6.10s/it]"
          ]
        },
        {
          "output_type": "stream",
          "name": "stdout",
          "text": [
            "Epoch: 1, Loss: 3.43694806098938\n"
          ]
        },
        {
          "output_type": "stream",
          "name": "stderr",
          "text": [
            "\r  2%|▏         | 2/100 [00:12<10:36,  6.49s/it]"
          ]
        },
        {
          "output_type": "stream",
          "name": "stdout",
          "text": [
            "Epoch: 2, Loss: 3.374835968017578\n"
          ]
        },
        {
          "output_type": "stream",
          "name": "stderr",
          "text": [
            "\r  3%|▎         | 3/100 [00:18<10:03,  6.23s/it]"
          ]
        },
        {
          "output_type": "stream",
          "name": "stdout",
          "text": [
            "Epoch: 3, Loss: 3.1819753646850586\n"
          ]
        },
        {
          "output_type": "stream",
          "name": "stderr",
          "text": [
            "\r  4%|▍         | 4/100 [00:25<10:18,  6.45s/it]"
          ]
        },
        {
          "output_type": "stream",
          "name": "stdout",
          "text": [
            "Epoch: 4, Loss: 3.0721793174743652\n"
          ]
        },
        {
          "output_type": "stream",
          "name": "stderr",
          "text": [
            "\r  5%|▌         | 5/100 [00:31<09:56,  6.28s/it]"
          ]
        },
        {
          "output_type": "stream",
          "name": "stdout",
          "text": [
            "Epoch: 5, Loss: 3.2621967792510986\n"
          ]
        },
        {
          "output_type": "stream",
          "name": "stderr",
          "text": [
            "\r  6%|▌         | 6/100 [00:38<10:07,  6.46s/it]"
          ]
        },
        {
          "output_type": "stream",
          "name": "stdout",
          "text": [
            "Epoch: 6, Loss: 3.0787882804870605\n"
          ]
        },
        {
          "output_type": "stream",
          "name": "stderr",
          "text": [
            "\r  7%|▋         | 7/100 [00:44<09:45,  6.29s/it]"
          ]
        },
        {
          "output_type": "stream",
          "name": "stdout",
          "text": [
            "Epoch: 7, Loss: 3.058798313140869\n"
          ]
        },
        {
          "output_type": "stream",
          "name": "stderr",
          "text": [
            "\r  8%|▊         | 8/100 [00:51<09:54,  6.46s/it]"
          ]
        },
        {
          "output_type": "stream",
          "name": "stdout",
          "text": [
            "Epoch: 8, Loss: 3.0738697052001953\n"
          ]
        },
        {
          "output_type": "stream",
          "name": "stderr",
          "text": [
            "\r  9%|▉         | 9/100 [00:57<09:34,  6.31s/it]"
          ]
        },
        {
          "output_type": "stream",
          "name": "stdout",
          "text": [
            "Epoch: 9, Loss: 3.0536210536956787\n"
          ]
        },
        {
          "output_type": "stream",
          "name": "stderr",
          "text": [
            "\r 10%|█         | 10/100 [01:03<09:40,  6.45s/it]"
          ]
        },
        {
          "output_type": "stream",
          "name": "stdout",
          "text": [
            "Epoch: 10, Loss: 3.0486812591552734\n"
          ]
        },
        {
          "output_type": "stream",
          "name": "stderr",
          "text": [
            "\r 11%|█         | 11/100 [01:09<09:18,  6.27s/it]"
          ]
        },
        {
          "output_type": "stream",
          "name": "stdout",
          "text": [
            "Epoch: 11, Loss: 3.115920066833496\n"
          ]
        },
        {
          "output_type": "stream",
          "name": "stderr",
          "text": [
            "\r 12%|█▏        | 12/100 [01:22<12:13,  8.34s/it]"
          ]
        },
        {
          "output_type": "stream",
          "name": "stdout",
          "text": [
            "Epoch: 12, Loss: 3.001203775405884\n"
          ]
        },
        {
          "output_type": "stream",
          "name": "stderr",
          "text": [
            "\r 13%|█▎        | 13/100 [01:30<11:42,  8.07s/it]"
          ]
        },
        {
          "output_type": "stream",
          "name": "stdout",
          "text": [
            "Epoch: 13, Loss: 3.002033233642578\n"
          ]
        },
        {
          "output_type": "stream",
          "name": "stderr",
          "text": [
            "\r 14%|█▍        | 14/100 [01:36<10:39,  7.44s/it]"
          ]
        },
        {
          "output_type": "stream",
          "name": "stdout",
          "text": [
            "Epoch: 14, Loss: 2.9755520820617676\n"
          ]
        },
        {
          "output_type": "stream",
          "name": "stderr",
          "text": [
            "\r 15%|█▌        | 15/100 [01:43<10:17,  7.27s/it]"
          ]
        },
        {
          "output_type": "stream",
          "name": "stdout",
          "text": [
            "Epoch: 15, Loss: 2.983144760131836\n"
          ]
        },
        {
          "output_type": "stream",
          "name": "stderr",
          "text": [
            "\r 16%|█▌        | 16/100 [01:49<09:39,  6.89s/it]"
          ]
        },
        {
          "output_type": "stream",
          "name": "stdout",
          "text": [
            "Epoch: 16, Loss: 2.9323089122772217\n"
          ]
        },
        {
          "output_type": "stream",
          "name": "stderr",
          "text": [
            "\r 17%|█▋        | 17/100 [01:55<09:31,  6.88s/it]"
          ]
        },
        {
          "output_type": "stream",
          "name": "stdout",
          "text": [
            "Epoch: 17, Loss: 2.992875337600708\n"
          ]
        },
        {
          "output_type": "stream",
          "name": "stderr",
          "text": [
            "\r 18%|█▊        | 18/100 [02:01<08:59,  6.58s/it]"
          ]
        },
        {
          "output_type": "stream",
          "name": "stdout",
          "text": [
            "Epoch: 18, Loss: 3.0085365772247314\n"
          ]
        },
        {
          "output_type": "stream",
          "name": "stderr",
          "text": [
            "\r 19%|█▉        | 19/100 [02:08<09:00,  6.67s/it]"
          ]
        },
        {
          "output_type": "stream",
          "name": "stdout",
          "text": [
            "Epoch: 19, Loss: 2.893618106842041\n"
          ]
        },
        {
          "output_type": "stream",
          "name": "stderr",
          "text": [
            "\r 20%|██        | 20/100 [02:14<08:37,  6.47s/it]"
          ]
        },
        {
          "output_type": "stream",
          "name": "stdout",
          "text": [
            "Epoch: 20, Loss: 2.829777240753174\n"
          ]
        },
        {
          "output_type": "stream",
          "name": "stderr",
          "text": [
            "\r 21%|██        | 21/100 [02:21<08:40,  6.58s/it]"
          ]
        },
        {
          "output_type": "stream",
          "name": "stdout",
          "text": [
            "Epoch: 21, Loss: 2.984802007675171\n"
          ]
        },
        {
          "output_type": "stream",
          "name": "stderr",
          "text": [
            "\r 22%|██▏       | 22/100 [02:27<08:16,  6.37s/it]"
          ]
        },
        {
          "output_type": "stream",
          "name": "stdout",
          "text": [
            "Epoch: 22, Loss: 2.9602713584899902\n"
          ]
        },
        {
          "output_type": "stream",
          "name": "stderr",
          "text": [
            "\r 23%|██▎       | 23/100 [02:34<08:20,  6.50s/it]"
          ]
        },
        {
          "output_type": "stream",
          "name": "stdout",
          "text": [
            "Epoch: 23, Loss: 2.9966659545898438\n"
          ]
        },
        {
          "output_type": "stream",
          "name": "stderr",
          "text": [
            "\r 24%|██▍       | 24/100 [02:40<08:00,  6.33s/it]"
          ]
        },
        {
          "output_type": "stream",
          "name": "stdout",
          "text": [
            "Epoch: 24, Loss: 2.641376256942749\n"
          ]
        },
        {
          "output_type": "stream",
          "name": "stderr",
          "text": [
            "\r 25%|██▌       | 25/100 [02:46<08:02,  6.44s/it]"
          ]
        },
        {
          "output_type": "stream",
          "name": "stdout",
          "text": [
            "Epoch: 25, Loss: 2.8564422130584717\n"
          ]
        },
        {
          "output_type": "stream",
          "name": "stderr",
          "text": [
            "\r 26%|██▌       | 26/100 [02:52<07:45,  6.29s/it]"
          ]
        },
        {
          "output_type": "stream",
          "name": "stdout",
          "text": [
            "Epoch: 26, Loss: 2.742447853088379\n"
          ]
        },
        {
          "output_type": "stream",
          "name": "stderr",
          "text": [
            "\r 27%|██▋       | 27/100 [02:59<07:47,  6.41s/it]"
          ]
        },
        {
          "output_type": "stream",
          "name": "stdout",
          "text": [
            "Epoch: 27, Loss: 2.9004666805267334\n"
          ]
        },
        {
          "output_type": "stream",
          "name": "stderr",
          "text": [
            "\r 28%|██▊       | 28/100 [03:06<07:51,  6.55s/it]"
          ]
        },
        {
          "output_type": "stream",
          "name": "stdout",
          "text": [
            "Epoch: 28, Loss: 2.8065786361694336\n"
          ]
        },
        {
          "output_type": "stream",
          "name": "stderr",
          "text": [
            "\r 29%|██▉       | 29/100 [03:13<07:47,  6.59s/it]"
          ]
        },
        {
          "output_type": "stream",
          "name": "stdout",
          "text": [
            "Epoch: 29, Loss: 2.7035770416259766\n"
          ]
        },
        {
          "output_type": "stream",
          "name": "stderr",
          "text": [
            "\r 30%|███       | 30/100 [03:18<07:26,  6.38s/it]"
          ]
        },
        {
          "output_type": "stream",
          "name": "stdout",
          "text": [
            "Epoch: 30, Loss: 2.8482728004455566\n"
          ]
        },
        {
          "output_type": "stream",
          "name": "stderr",
          "text": [
            "\r 31%|███       | 31/100 [03:25<07:26,  6.48s/it]"
          ]
        },
        {
          "output_type": "stream",
          "name": "stdout",
          "text": [
            "Epoch: 31, Loss: 2.7365574836730957\n"
          ]
        },
        {
          "output_type": "stream",
          "name": "stderr",
          "text": [
            "\r 32%|███▏      | 32/100 [03:31<07:10,  6.33s/it]"
          ]
        },
        {
          "output_type": "stream",
          "name": "stdout",
          "text": [
            "Epoch: 32, Loss: 2.6767826080322266\n"
          ]
        },
        {
          "output_type": "stream",
          "name": "stderr",
          "text": [
            "\r 33%|███▎      | 33/100 [03:38<07:12,  6.45s/it]"
          ]
        },
        {
          "output_type": "stream",
          "name": "stdout",
          "text": [
            "Epoch: 33, Loss: 2.6945652961730957\n"
          ]
        },
        {
          "output_type": "stream",
          "name": "stderr",
          "text": [
            "\r 34%|███▍      | 34/100 [03:44<06:54,  6.28s/it]"
          ]
        },
        {
          "output_type": "stream",
          "name": "stdout",
          "text": [
            "Epoch: 34, Loss: 2.7486305236816406\n"
          ]
        },
        {
          "output_type": "stream",
          "name": "stderr",
          "text": [
            "\r 35%|███▌      | 35/100 [03:50<06:55,  6.39s/it]"
          ]
        },
        {
          "output_type": "stream",
          "name": "stdout",
          "text": [
            "Epoch: 35, Loss: 2.7918193340301514\n"
          ]
        },
        {
          "output_type": "stream",
          "name": "stderr",
          "text": [
            "\r 36%|███▌      | 36/100 [03:56<06:39,  6.25s/it]"
          ]
        },
        {
          "output_type": "stream",
          "name": "stdout",
          "text": [
            "Epoch: 36, Loss: 2.8068695068359375\n"
          ]
        },
        {
          "output_type": "stream",
          "name": "stderr",
          "text": [
            "\r 37%|███▋      | 37/100 [04:03<06:41,  6.38s/it]"
          ]
        },
        {
          "output_type": "stream",
          "name": "stdout",
          "text": [
            "Epoch: 37, Loss: 2.1688246726989746\n"
          ]
        },
        {
          "output_type": "stream",
          "name": "stderr",
          "text": [
            "\r 38%|███▊      | 38/100 [04:09<06:26,  6.24s/it]"
          ]
        },
        {
          "output_type": "stream",
          "name": "stdout",
          "text": [
            "Epoch: 38, Loss: 2.6420960426330566\n"
          ]
        },
        {
          "output_type": "stream",
          "name": "stderr",
          "text": [
            "\r 39%|███▉      | 39/100 [04:16<06:28,  6.36s/it]"
          ]
        },
        {
          "output_type": "stream",
          "name": "stdout",
          "text": [
            "Epoch: 39, Loss: 2.3489389419555664\n"
          ]
        },
        {
          "output_type": "stream",
          "name": "stderr",
          "text": [
            "\r 40%|████      | 40/100 [04:21<06:13,  6.22s/it]"
          ]
        },
        {
          "output_type": "stream",
          "name": "stdout",
          "text": [
            "Epoch: 40, Loss: 2.2116966247558594\n"
          ]
        },
        {
          "output_type": "stream",
          "name": "stderr",
          "text": [
            "\r 41%|████      | 41/100 [04:28<06:13,  6.33s/it]"
          ]
        },
        {
          "output_type": "stream",
          "name": "stdout",
          "text": [
            "Epoch: 41, Loss: 2.473954439163208\n"
          ]
        },
        {
          "output_type": "stream",
          "name": "stderr",
          "text": [
            "\r 42%|████▏     | 42/100 [04:34<05:59,  6.19s/it]"
          ]
        },
        {
          "output_type": "stream",
          "name": "stdout",
          "text": [
            "Epoch: 42, Loss: 2.2813544273376465\n"
          ]
        },
        {
          "output_type": "stream",
          "name": "stderr",
          "text": [
            "\r 43%|████▎     | 43/100 [04:41<06:00,  6.32s/it]"
          ]
        },
        {
          "output_type": "stream",
          "name": "stdout",
          "text": [
            "Epoch: 43, Loss: 2.3919692039489746\n"
          ]
        },
        {
          "output_type": "stream",
          "name": "stderr",
          "text": [
            "\r 44%|████▍     | 44/100 [04:46<05:45,  6.17s/it]"
          ]
        },
        {
          "output_type": "stream",
          "name": "stdout",
          "text": [
            "Epoch: 44, Loss: 2.0033438205718994\n"
          ]
        },
        {
          "output_type": "stream",
          "name": "stderr",
          "text": [
            "\r 45%|████▌     | 45/100 [04:53<05:48,  6.34s/it]"
          ]
        },
        {
          "output_type": "stream",
          "name": "stdout",
          "text": [
            "Epoch: 45, Loss: 1.846014380455017\n"
          ]
        },
        {
          "output_type": "stream",
          "name": "stderr",
          "text": [
            "\r 46%|████▌     | 46/100 [04:59<05:34,  6.19s/it]"
          ]
        },
        {
          "output_type": "stream",
          "name": "stdout",
          "text": [
            "Epoch: 46, Loss: 1.832003116607666\n"
          ]
        },
        {
          "output_type": "stream",
          "name": "stderr",
          "text": [
            "\r 47%|████▋     | 47/100 [05:06<05:36,  6.34s/it]"
          ]
        },
        {
          "output_type": "stream",
          "name": "stdout",
          "text": [
            "Epoch: 47, Loss: 2.4317984580993652\n"
          ]
        },
        {
          "output_type": "stream",
          "name": "stderr",
          "text": [
            "\r 48%|████▊     | 48/100 [05:11<05:22,  6.20s/it]"
          ]
        },
        {
          "output_type": "stream",
          "name": "stdout",
          "text": [
            "Epoch: 48, Loss: 2.2515370845794678\n"
          ]
        },
        {
          "output_type": "stream",
          "name": "stderr",
          "text": [
            "\r 49%|████▉     | 49/100 [05:18<05:22,  6.32s/it]"
          ]
        },
        {
          "output_type": "stream",
          "name": "stdout",
          "text": [
            "Epoch: 49, Loss: 1.7482659816741943\n"
          ]
        },
        {
          "output_type": "stream",
          "name": "stderr",
          "text": [
            "\r 50%|█████     | 50/100 [05:24<05:07,  6.14s/it]"
          ]
        },
        {
          "output_type": "stream",
          "name": "stdout",
          "text": [
            "Epoch: 50, Loss: 2.086815357208252\n"
          ]
        },
        {
          "output_type": "stream",
          "name": "stderr",
          "text": [
            "\r 51%|█████     | 51/100 [05:30<05:06,  6.25s/it]"
          ]
        },
        {
          "output_type": "stream",
          "name": "stdout",
          "text": [
            "Epoch: 51, Loss: 1.9069534540176392\n"
          ]
        },
        {
          "output_type": "stream",
          "name": "stderr",
          "text": [
            "\r 52%|█████▏    | 52/100 [05:36<04:55,  6.16s/it]"
          ]
        },
        {
          "output_type": "stream",
          "name": "stdout",
          "text": [
            "Epoch: 52, Loss: 2.5395874977111816\n"
          ]
        },
        {
          "output_type": "stream",
          "name": "stderr",
          "text": [
            "\r 53%|█████▎    | 53/100 [05:43<04:54,  6.26s/it]"
          ]
        },
        {
          "output_type": "stream",
          "name": "stdout",
          "text": [
            "Epoch: 53, Loss: 1.9039366245269775\n"
          ]
        },
        {
          "output_type": "stream",
          "name": "stderr",
          "text": [
            "\r 54%|█████▍    | 54/100 [05:49<04:44,  6.18s/it]"
          ]
        },
        {
          "output_type": "stream",
          "name": "stdout",
          "text": [
            "Epoch: 54, Loss: 1.9664582014083862\n"
          ]
        },
        {
          "output_type": "stream",
          "name": "stderr",
          "text": [
            "\r 55%|█████▌    | 55/100 [05:55<04:39,  6.22s/it]"
          ]
        },
        {
          "output_type": "stream",
          "name": "stdout",
          "text": [
            "Epoch: 55, Loss: 2.0258982181549072\n"
          ]
        },
        {
          "output_type": "stream",
          "name": "stderr",
          "text": [
            "\r 56%|█████▌    | 56/100 [06:01<04:33,  6.22s/it]"
          ]
        },
        {
          "output_type": "stream",
          "name": "stdout",
          "text": [
            "Epoch: 56, Loss: 2.3273837566375732\n"
          ]
        },
        {
          "output_type": "stream",
          "name": "stderr",
          "text": [
            "\r 57%|█████▋    | 57/100 [06:07<04:24,  6.15s/it]"
          ]
        },
        {
          "output_type": "stream",
          "name": "stdout",
          "text": [
            "Epoch: 57, Loss: 1.7517691850662231\n"
          ]
        },
        {
          "output_type": "stream",
          "name": "stderr",
          "text": [
            "\r 58%|█████▊    | 58/100 [06:14<04:19,  6.18s/it]"
          ]
        },
        {
          "output_type": "stream",
          "name": "stdout",
          "text": [
            "Epoch: 58, Loss: 1.8474456071853638\n"
          ]
        },
        {
          "output_type": "stream",
          "name": "stderr",
          "text": [
            "\r 59%|█████▉    | 59/100 [06:19<04:09,  6.09s/it]"
          ]
        },
        {
          "output_type": "stream",
          "name": "stdout",
          "text": [
            "Epoch: 59, Loss: 1.6507267951965332\n"
          ]
        },
        {
          "output_type": "stream",
          "name": "stderr",
          "text": [
            "\r 60%|██████    | 60/100 [06:26<04:09,  6.25s/it]"
          ]
        },
        {
          "output_type": "stream",
          "name": "stdout",
          "text": [
            "Epoch: 60, Loss: 1.6201262474060059\n"
          ]
        },
        {
          "output_type": "stream",
          "name": "stderr",
          "text": [
            "\r 61%|██████    | 61/100 [06:32<03:59,  6.15s/it]"
          ]
        },
        {
          "output_type": "stream",
          "name": "stdout",
          "text": [
            "Epoch: 61, Loss: 1.9215202331542969\n"
          ]
        },
        {
          "output_type": "stream",
          "name": "stderr",
          "text": [
            "\r 62%|██████▏   | 62/100 [06:39<04:00,  6.32s/it]"
          ]
        },
        {
          "output_type": "stream",
          "name": "stdout",
          "text": [
            "Epoch: 62, Loss: 1.6842265129089355\n"
          ]
        },
        {
          "output_type": "stream",
          "name": "stderr",
          "text": [
            "\r 63%|██████▎   | 63/100 [06:45<03:48,  6.18s/it]"
          ]
        },
        {
          "output_type": "stream",
          "name": "stdout",
          "text": [
            "Epoch: 63, Loss: 2.380747079849243\n"
          ]
        },
        {
          "output_type": "stream",
          "name": "stderr",
          "text": [
            "\r 64%|██████▍   | 64/100 [06:51<03:48,  6.34s/it]"
          ]
        },
        {
          "output_type": "stream",
          "name": "stdout",
          "text": [
            "Epoch: 64, Loss: 1.481950283050537\n"
          ]
        },
        {
          "output_type": "stream",
          "name": "stderr",
          "text": [
            "\r 65%|██████▌   | 65/100 [06:57<03:37,  6.21s/it]"
          ]
        },
        {
          "output_type": "stream",
          "name": "stdout",
          "text": [
            "Epoch: 65, Loss: 1.4654607772827148\n"
          ]
        },
        {
          "output_type": "stream",
          "name": "stderr",
          "text": [
            "\r 66%|██████▌   | 66/100 [07:04<03:36,  6.36s/it]"
          ]
        },
        {
          "output_type": "stream",
          "name": "stdout",
          "text": [
            "Epoch: 66, Loss: 1.6652863025665283\n"
          ]
        },
        {
          "output_type": "stream",
          "name": "stderr",
          "text": [
            "\r 67%|██████▋   | 67/100 [07:10<03:24,  6.19s/it]"
          ]
        },
        {
          "output_type": "stream",
          "name": "stdout",
          "text": [
            "Epoch: 67, Loss: 1.9006166458129883\n"
          ]
        },
        {
          "output_type": "stream",
          "name": "stderr",
          "text": [
            "\r 68%|██████▊   | 68/100 [07:16<03:22,  6.32s/it]"
          ]
        },
        {
          "output_type": "stream",
          "name": "stdout",
          "text": [
            "Epoch: 68, Loss: 1.9269837141036987\n"
          ]
        },
        {
          "output_type": "stream",
          "name": "stderr",
          "text": [
            "\r 69%|██████▉   | 69/100 [07:22<03:11,  6.17s/it]"
          ]
        },
        {
          "output_type": "stream",
          "name": "stdout",
          "text": [
            "Epoch: 69, Loss: 1.835679054260254\n"
          ]
        },
        {
          "output_type": "stream",
          "name": "stderr",
          "text": [
            "\r 70%|███████   | 70/100 [07:29<03:09,  6.31s/it]"
          ]
        },
        {
          "output_type": "stream",
          "name": "stdout",
          "text": [
            "Epoch: 70, Loss: 1.654508352279663\n"
          ]
        },
        {
          "output_type": "stream",
          "name": "stderr",
          "text": [
            "\r 71%|███████   | 71/100 [07:35<03:06,  6.42s/it]"
          ]
        },
        {
          "output_type": "stream",
          "name": "stdout",
          "text": [
            "Epoch: 71, Loss: 2.1783249378204346\n"
          ]
        },
        {
          "output_type": "stream",
          "name": "stderr",
          "text": [
            "\r 72%|███████▏  | 72/100 [07:42<03:02,  6.51s/it]"
          ]
        },
        {
          "output_type": "stream",
          "name": "stdout",
          "text": [
            "Epoch: 72, Loss: 1.904577612876892\n"
          ]
        },
        {
          "output_type": "stream",
          "name": "stderr",
          "text": [
            "\r 73%|███████▎  | 73/100 [07:48<02:49,  6.29s/it]"
          ]
        },
        {
          "output_type": "stream",
          "name": "stdout",
          "text": [
            "Epoch: 73, Loss: 1.5626908540725708\n"
          ]
        },
        {
          "output_type": "stream",
          "name": "stderr",
          "text": [
            "\r 74%|███████▍  | 74/100 [07:55<02:46,  6.42s/it]"
          ]
        },
        {
          "output_type": "stream",
          "name": "stdout",
          "text": [
            "Epoch: 74, Loss: 1.5273444652557373\n"
          ]
        },
        {
          "output_type": "stream",
          "name": "stderr",
          "text": [
            "\r 75%|███████▌  | 75/100 [08:00<02:35,  6.23s/it]"
          ]
        },
        {
          "output_type": "stream",
          "name": "stdout",
          "text": [
            "Epoch: 75, Loss: 1.923181176185608\n"
          ]
        },
        {
          "output_type": "stream",
          "name": "stderr",
          "text": [
            "\r 76%|███████▌  | 76/100 [08:07<02:33,  6.38s/it]"
          ]
        },
        {
          "output_type": "stream",
          "name": "stdout",
          "text": [
            "Epoch: 76, Loss: 1.6889731884002686\n"
          ]
        },
        {
          "output_type": "stream",
          "name": "stderr",
          "text": [
            "\r 77%|███████▋  | 77/100 [08:13<02:22,  6.20s/it]"
          ]
        },
        {
          "output_type": "stream",
          "name": "stdout",
          "text": [
            "Epoch: 77, Loss: 1.766061782836914\n"
          ]
        },
        {
          "output_type": "stream",
          "name": "stderr",
          "text": [
            "\r 78%|███████▊  | 78/100 [08:20<02:20,  6.37s/it]"
          ]
        },
        {
          "output_type": "stream",
          "name": "stdout",
          "text": [
            "Epoch: 78, Loss: 2.739710569381714\n"
          ]
        },
        {
          "output_type": "stream",
          "name": "stderr",
          "text": [
            "\r 79%|███████▉  | 79/100 [08:25<02:10,  6.20s/it]"
          ]
        },
        {
          "output_type": "stream",
          "name": "stdout",
          "text": [
            "Epoch: 79, Loss: 1.5315260887145996\n"
          ]
        },
        {
          "output_type": "stream",
          "name": "stderr",
          "text": [
            "\r 80%|████████  | 80/100 [08:32<02:06,  6.34s/it]"
          ]
        },
        {
          "output_type": "stream",
          "name": "stdout",
          "text": [
            "Epoch: 80, Loss: 1.4378925561904907\n"
          ]
        },
        {
          "output_type": "stream",
          "name": "stderr",
          "text": [
            "\r 81%|████████  | 81/100 [08:38<01:57,  6.17s/it]"
          ]
        },
        {
          "output_type": "stream",
          "name": "stdout",
          "text": [
            "Epoch: 81, Loss: 1.4884517192840576\n"
          ]
        },
        {
          "output_type": "stream",
          "name": "stderr",
          "text": [
            "\r 82%|████████▏ | 82/100 [08:45<01:53,  6.30s/it]"
          ]
        },
        {
          "output_type": "stream",
          "name": "stdout",
          "text": [
            "Epoch: 82, Loss: 1.7060127258300781\n"
          ]
        },
        {
          "output_type": "stream",
          "name": "stderr",
          "text": [
            "\r 83%|████████▎ | 83/100 [08:50<01:44,  6.15s/it]"
          ]
        },
        {
          "output_type": "stream",
          "name": "stdout",
          "text": [
            "Epoch: 83, Loss: 1.4190292358398438\n"
          ]
        },
        {
          "output_type": "stream",
          "name": "stderr",
          "text": [
            "\r 84%|████████▍ | 84/100 [08:57<01:41,  6.33s/it]"
          ]
        },
        {
          "output_type": "stream",
          "name": "stdout",
          "text": [
            "Epoch: 84, Loss: 1.7566395998001099\n"
          ]
        },
        {
          "output_type": "stream",
          "name": "stderr",
          "text": [
            "\r 85%|████████▌ | 85/100 [09:03<01:33,  6.25s/it]"
          ]
        },
        {
          "output_type": "stream",
          "name": "stdout",
          "text": [
            "Epoch: 85, Loss: 1.5642518997192383\n"
          ]
        },
        {
          "output_type": "stream",
          "name": "stderr",
          "text": [
            "\r 86%|████████▌ | 86/100 [09:10<01:28,  6.36s/it]"
          ]
        },
        {
          "output_type": "stream",
          "name": "stdout",
          "text": [
            "Epoch: 86, Loss: 1.5340303182601929\n"
          ]
        },
        {
          "output_type": "stream",
          "name": "stderr",
          "text": [
            "\r 87%|████████▋ | 87/100 [09:16<01:20,  6.22s/it]"
          ]
        },
        {
          "output_type": "stream",
          "name": "stdout",
          "text": [
            "Epoch: 87, Loss: 1.4752646684646606\n"
          ]
        },
        {
          "output_type": "stream",
          "name": "stderr",
          "text": [
            "\r 88%|████████▊ | 88/100 [09:22<01:16,  6.34s/it]"
          ]
        },
        {
          "output_type": "stream",
          "name": "stdout",
          "text": [
            "Epoch: 88, Loss: 1.3723173141479492\n"
          ]
        },
        {
          "output_type": "stream",
          "name": "stderr",
          "text": [
            "\r 89%|████████▉ | 89/100 [09:28<01:07,  6.18s/it]"
          ]
        },
        {
          "output_type": "stream",
          "name": "stdout",
          "text": [
            "Epoch: 89, Loss: 1.5187358856201172\n"
          ]
        },
        {
          "output_type": "stream",
          "name": "stderr",
          "text": [
            "\r 90%|█████████ | 90/100 [09:35<01:03,  6.32s/it]"
          ]
        },
        {
          "output_type": "stream",
          "name": "stdout",
          "text": [
            "Epoch: 90, Loss: 1.2923630475997925\n"
          ]
        },
        {
          "output_type": "stream",
          "name": "stderr",
          "text": [
            "\r 91%|█████████ | 91/100 [09:40<00:55,  6.16s/it]"
          ]
        },
        {
          "output_type": "stream",
          "name": "stdout",
          "text": [
            "Epoch: 91, Loss: 1.59932279586792\n"
          ]
        },
        {
          "output_type": "stream",
          "name": "stderr",
          "text": [
            "\r 92%|█████████▏| 92/100 [09:47<00:50,  6.30s/it]"
          ]
        },
        {
          "output_type": "stream",
          "name": "stdout",
          "text": [
            "Epoch: 92, Loss: 1.2937438488006592\n"
          ]
        },
        {
          "output_type": "stream",
          "name": "stderr",
          "text": [
            "\r 93%|█████████▎| 93/100 [09:53<00:43,  6.19s/it]"
          ]
        },
        {
          "output_type": "stream",
          "name": "stdout",
          "text": [
            "Epoch: 93, Loss: 1.3293522596359253\n"
          ]
        },
        {
          "output_type": "stream",
          "name": "stderr",
          "text": [
            "\r 94%|█████████▍| 94/100 [10:00<00:37,  6.29s/it]"
          ]
        },
        {
          "output_type": "stream",
          "name": "stdout",
          "text": [
            "Epoch: 94, Loss: 1.3653085231781006\n"
          ]
        },
        {
          "output_type": "stream",
          "name": "stderr",
          "text": [
            "\r 95%|█████████▌| 95/100 [10:05<00:30,  6.17s/it]"
          ]
        },
        {
          "output_type": "stream",
          "name": "stdout",
          "text": [
            "Epoch: 95, Loss: 1.2880083322525024\n"
          ]
        },
        {
          "output_type": "stream",
          "name": "stderr",
          "text": [
            "\r 96%|█████████▌| 96/100 [10:12<00:24,  6.23s/it]"
          ]
        },
        {
          "output_type": "stream",
          "name": "stdout",
          "text": [
            "Epoch: 96, Loss: 1.7510793209075928\n"
          ]
        },
        {
          "output_type": "stream",
          "name": "stderr",
          "text": [
            "\r 97%|█████████▋| 97/100 [10:18<00:18,  6.19s/it]"
          ]
        },
        {
          "output_type": "stream",
          "name": "stdout",
          "text": [
            "Epoch: 97, Loss: 1.651495337486267\n"
          ]
        },
        {
          "output_type": "stream",
          "name": "stderr",
          "text": [
            "\r 98%|█████████▊| 98/100 [10:24<00:12,  6.22s/it]"
          ]
        },
        {
          "output_type": "stream",
          "name": "stdout",
          "text": [
            "Epoch: 98, Loss: 1.4260797500610352\n"
          ]
        },
        {
          "output_type": "stream",
          "name": "stderr",
          "text": [
            "\r 99%|█████████▉| 99/100 [10:30<00:06,  6.22s/it]"
          ]
        },
        {
          "output_type": "stream",
          "name": "stdout",
          "text": [
            "Epoch: 99, Loss: 1.8688944578170776\n"
          ]
        },
        {
          "output_type": "stream",
          "name": "stderr",
          "text": [
            "100%|██████████| 100/100 [10:37<00:00,  6.37s/it]"
          ]
        },
        {
          "output_type": "stream",
          "name": "stdout",
          "text": [
            "Epoch: 100, Loss: 1.8372821807861328\n"
          ]
        },
        {
          "output_type": "stream",
          "name": "stderr",
          "text": [
            "\n"
          ]
        }
      ]
    },
    {
      "cell_type": "code",
      "source": [
        "final_user_representations = {}\n",
        "repr = pos_z\n",
        "for i in range(pos_z.shape[0]):\n",
        "  final_user_representations[i] = (i, repr[i].detach(), user_representations[i][1])"
      ],
      "metadata": {
        "id": "Uw6tf-6uk0D_"
      },
      "execution_count": 91,
      "outputs": []
    },
    {
      "cell_type": "code",
      "execution_count": 92,
      "metadata": {
        "id": "HH3daN5Qk0D_"
      },
      "outputs": [],
      "source": [
        "user_dataset = UserDataset(final_user_representations)\n",
        "\n",
        "n = len(user_dataset)\n",
        "\n",
        "indices = np.arange(n)\n",
        "indices = np.random.permutation(indices)\n",
        "\n",
        "train_indices = indices [:int(0.8*n)]\n",
        "test_indices = indices[int(0.8*n):]\n",
        "\n",
        "user_train_dataset = Subset(user_dataset, train_indices)\n",
        "user_test_dataset = Subset(user_dataset, test_indices)\n",
        "\n",
        "user_train_dataloader = DataLoader(user_train_dataset, batch_size=64, shuffle=True)\n",
        "user_test_dataloader = DataLoader(user_test_dataset, batch_size=64, shuffle=True)"
      ]
    },
    {
      "cell_type": "code",
      "execution_count": 93,
      "metadata": {
        "id": "MKIfS2nOk0D_"
      },
      "outputs": [],
      "source": [
        "num_classes = 186\n",
        "classes = np.arange(0, num_classes)"
      ]
    },
    {
      "cell_type": "code",
      "source": [
        "head_model = train2task()\n",
        "torch.save(head_model.state_dict(), 'edge_dropout_infomax_linkpred_model.pth')"
      ],
      "metadata": {
        "id": "-TLr3sx_k0D_",
        "colab": {
          "base_uri": "https://localhost:8080/"
        },
        "outputId": "639cd99e-0c2e-40f3-dbbc-776c7d1eda26"
      },
      "execution_count": 94,
      "outputs": [
        {
          "output_type": "stream",
          "name": "stdout",
          "text": [
            "Epoch: 0, Loss: 4.329938888549805\n",
            "Epoch: 1, Loss: 4.177267074584961\n",
            "Epoch: 2, Loss: 4.094830513000488\n",
            "Epoch: 3, Loss: 4.038265705108643\n",
            "Epoch: 4, Loss: 3.994664430618286\n",
            "Epoch: 5, Loss: 3.959409236907959\n",
            "Epoch: 6, Loss: 3.9297213554382324\n",
            "Epoch: 7, Loss: 3.903956890106201\n",
            "Epoch: 8, Loss: 3.881286859512329\n",
            "Epoch: 9, Loss: 3.8610832691192627\n",
            "Epoch: 10, Loss: 3.8427982330322266\n",
            "Epoch: 11, Loss: 3.8262059688568115\n",
            "Epoch: 12, Loss: 3.8109612464904785\n",
            "Epoch: 13, Loss: 3.796868324279785\n",
            "Epoch: 14, Loss: 3.783818483352661\n",
            "Epoch: 15, Loss: 3.771604061126709\n",
            "Epoch: 16, Loss: 3.760194778442383\n",
            "Epoch: 17, Loss: 3.7494356632232666\n",
            "Epoch: 18, Loss: 3.739291191101074\n",
            "Epoch: 19, Loss: 3.7297346591949463\n",
            "Epoch: 20, Loss: 3.7206382751464844\n",
            "Epoch: 21, Loss: 3.712029218673706\n",
            "Epoch: 22, Loss: 3.703831195831299\n",
            "Epoch: 23, Loss: 3.6959879398345947\n",
            "Epoch: 24, Loss: 3.6885006427764893\n",
            "Epoch: 25, Loss: 3.6813390254974365\n",
            "Epoch: 26, Loss: 3.6744658946990967\n",
            "Epoch: 27, Loss: 3.667891263961792\n",
            "Epoch: 28, Loss: 3.6615350246429443\n",
            "Epoch: 29, Loss: 3.6553916931152344\n",
            "Epoch: 30, Loss: 3.649496555328369\n",
            "Epoch: 31, Loss: 3.643815040588379\n",
            "Epoch: 32, Loss: 3.638319253921509\n",
            "Epoch: 33, Loss: 3.632990837097168\n",
            "Epoch: 34, Loss: 3.627807378768921\n",
            "Epoch: 35, Loss: 3.6228253841400146\n",
            "Epoch: 36, Loss: 3.6179683208465576\n",
            "Epoch: 37, Loss: 3.613253593444824\n",
            "Epoch: 38, Loss: 3.6086926460266113\n",
            "Epoch: 39, Loss: 3.604243278503418\n",
            "Epoch: 40, Loss: 3.599914312362671\n",
            "Epoch: 41, Loss: 3.595709800720215\n",
            "Epoch: 42, Loss: 3.591627836227417\n",
            "Epoch: 43, Loss: 3.58764386177063\n",
            "Epoch: 44, Loss: 3.583746910095215\n",
            "Epoch: 45, Loss: 3.5799310207366943\n",
            "Epoch: 46, Loss: 3.5762131214141846\n",
            "Epoch: 47, Loss: 3.572594165802002\n",
            "Epoch: 48, Loss: 3.569052219390869\n",
            "Epoch: 49, Loss: 3.5656044483184814\n",
            "Epoch: 50, Loss: 3.5622191429138184\n",
            "Epoch: 51, Loss: 3.55892014503479\n",
            "Epoch: 52, Loss: 3.5556654930114746\n",
            "Epoch: 53, Loss: 3.5524959564208984\n",
            "Epoch: 54, Loss: 3.54938006401062\n",
            "Epoch: 55, Loss: 3.5463287830352783\n",
            "Epoch: 56, Loss: 3.5433404445648193\n",
            "Epoch: 57, Loss: 3.540414333343506\n",
            "Epoch: 58, Loss: 3.537534713745117\n",
            "Epoch: 59, Loss: 3.5347139835357666\n",
            "Epoch: 60, Loss: 3.5319368839263916\n",
            "Epoch: 61, Loss: 3.52921199798584\n",
            "Epoch: 62, Loss: 3.526548147201538\n",
            "Epoch: 63, Loss: 3.523927688598633\n",
            "Epoch: 64, Loss: 3.5213375091552734\n",
            "Epoch: 65, Loss: 3.5188071727752686\n",
            "Epoch: 66, Loss: 3.51629900932312\n",
            "Epoch: 67, Loss: 3.513833999633789\n",
            "Epoch: 68, Loss: 3.5114238262176514\n",
            "Epoch: 69, Loss: 3.5090508460998535\n",
            "Epoch: 70, Loss: 3.506718635559082\n",
            "Epoch: 71, Loss: 3.5044219493865967\n",
            "Epoch: 72, Loss: 3.5021517276763916\n",
            "Epoch: 73, Loss: 3.4999289512634277\n",
            "Epoch: 74, Loss: 3.4977290630340576\n",
            "Epoch: 75, Loss: 3.495563268661499\n",
            "Epoch: 76, Loss: 3.4934329986572266\n",
            "Epoch: 77, Loss: 3.491332530975342\n",
            "Epoch: 78, Loss: 3.4892594814300537\n",
            "Epoch: 79, Loss: 3.4872093200683594\n",
            "Epoch: 80, Loss: 3.4851956367492676\n",
            "Epoch: 81, Loss: 3.4832065105438232\n",
            "Epoch: 82, Loss: 3.481248378753662\n",
            "Epoch: 83, Loss: 3.479311466217041\n",
            "Epoch: 84, Loss: 3.477400064468384\n",
            "Epoch: 85, Loss: 3.4755091667175293\n",
            "Epoch: 86, Loss: 3.4736523628234863\n",
            "Epoch: 87, Loss: 3.4718213081359863\n",
            "Epoch: 88, Loss: 3.470017194747925\n",
            "Epoch: 89, Loss: 3.4682278633117676\n",
            "Epoch: 90, Loss: 3.4664652347564697\n",
            "Epoch: 91, Loss: 3.464733362197876\n",
            "Epoch: 92, Loss: 3.4630119800567627\n",
            "Epoch: 93, Loss: 3.4613072872161865\n",
            "Epoch: 94, Loss: 3.4596240520477295\n",
            "Epoch: 95, Loss: 3.4579596519470215\n",
            "Epoch: 96, Loss: 3.4563114643096924\n",
            "Epoch: 97, Loss: 3.4546778202056885\n",
            "Epoch: 98, Loss: 3.45306396484375\n",
            "Epoch: 99, Loss: 3.4514646530151367\n",
            "Epoch: 100, Loss: 3.4498932361602783\n",
            "Epoch: 101, Loss: 3.448338747024536\n",
            "Epoch: 102, Loss: 3.446802854537964\n",
            "Epoch: 103, Loss: 3.4452788829803467\n",
            "Epoch: 104, Loss: 3.443767786026001\n",
            "Epoch: 105, Loss: 3.442281484603882\n",
            "Epoch: 106, Loss: 3.4408130645751953\n",
            "Epoch: 107, Loss: 3.439359188079834\n",
            "Epoch: 108, Loss: 3.4379122257232666\n",
            "Epoch: 109, Loss: 3.436476707458496\n",
            "Epoch: 110, Loss: 3.435051441192627\n",
            "Epoch: 111, Loss: 3.4336564540863037\n",
            "Epoch: 112, Loss: 3.43227219581604\n",
            "Epoch: 113, Loss: 3.4308969974517822\n",
            "Epoch: 114, Loss: 3.429537057876587\n",
            "Epoch: 115, Loss: 3.428192377090454\n",
            "Epoch: 116, Loss: 3.426849365234375\n",
            "Epoch: 117, Loss: 3.425528049468994\n",
            "Epoch: 118, Loss: 3.4242193698883057\n",
            "Epoch: 119, Loss: 3.422926664352417\n",
            "Epoch: 120, Loss: 3.4216384887695312\n",
            "Epoch: 121, Loss: 3.420367479324341\n",
            "Epoch: 122, Loss: 3.4191136360168457\n",
            "Epoch: 123, Loss: 3.4178688526153564\n",
            "Epoch: 124, Loss: 3.4166312217712402\n",
            "Epoch: 125, Loss: 3.415412664413452\n",
            "Epoch: 126, Loss: 3.414194107055664\n",
            "Epoch: 127, Loss: 3.412997007369995\n",
            "Epoch: 128, Loss: 3.4117980003356934\n",
            "Epoch: 129, Loss: 3.4106106758117676\n",
            "Epoch: 130, Loss: 3.4094338417053223\n",
            "Epoch: 131, Loss: 3.4082717895507812\n",
            "Epoch: 132, Loss: 3.4071216583251953\n",
            "Epoch: 133, Loss: 3.405974864959717\n",
            "Epoch: 134, Loss: 3.4048404693603516\n",
            "Epoch: 135, Loss: 3.4037206172943115\n",
            "Epoch: 136, Loss: 3.4026057720184326\n",
            "Epoch: 137, Loss: 3.4014978408813477\n",
            "Epoch: 138, Loss: 3.400400161743164\n",
            "Epoch: 139, Loss: 3.399312734603882\n",
            "Epoch: 140, Loss: 3.3982348442077637\n",
            "Epoch: 141, Loss: 3.397160291671753\n",
            "Epoch: 142, Loss: 3.396099328994751\n",
            "Epoch: 143, Loss: 3.3950376510620117\n",
            "Epoch: 144, Loss: 3.393982172012329\n",
            "Epoch: 145, Loss: 3.3929388523101807\n",
            "Epoch: 146, Loss: 3.3919074535369873\n",
            "Epoch: 147, Loss: 3.3908872604370117\n",
            "Epoch: 148, Loss: 3.3898684978485107\n",
            "Epoch: 149, Loss: 3.3888604640960693\n",
            "Epoch: 150, Loss: 3.3878536224365234\n",
            "Epoch: 151, Loss: 3.38686203956604\n",
            "Epoch: 152, Loss: 3.3858697414398193\n",
            "Epoch: 153, Loss: 3.3848907947540283\n",
            "Epoch: 154, Loss: 3.3839173316955566\n",
            "Epoch: 155, Loss: 3.382951498031616\n",
            "Epoch: 156, Loss: 3.3819944858551025\n",
            "Epoch: 157, Loss: 3.381042242050171\n",
            "Epoch: 158, Loss: 3.380096673965454\n",
            "Epoch: 159, Loss: 3.379157781600952\n",
            "Epoch: 160, Loss: 3.3782236576080322\n",
            "Epoch: 161, Loss: 3.37729549407959\n",
            "Epoch: 162, Loss: 3.376373529434204\n",
            "Epoch: 163, Loss: 3.375460386276245\n",
            "Epoch: 164, Loss: 3.3745553493499756\n",
            "Epoch: 165, Loss: 3.373652935028076\n",
            "Epoch: 166, Loss: 3.3727598190307617\n",
            "Epoch: 167, Loss: 3.3718698024749756\n",
            "Epoch: 168, Loss: 3.3709869384765625\n",
            "Epoch: 169, Loss: 3.3701095581054688\n",
            "Epoch: 170, Loss: 3.3692398071289062\n",
            "Epoch: 171, Loss: 3.3683724403381348\n",
            "Epoch: 172, Loss: 3.367514133453369\n",
            "Epoch: 173, Loss: 3.3666577339172363\n",
            "Epoch: 174, Loss: 3.365809202194214\n",
            "Epoch: 175, Loss: 3.3649613857269287\n",
            "Epoch: 176, Loss: 3.3641185760498047\n",
            "Epoch: 177, Loss: 3.363285779953003\n",
            "Epoch: 178, Loss: 3.362457036972046\n",
            "Epoch: 179, Loss: 3.361633062362671\n",
            "Epoch: 180, Loss: 3.3608152866363525\n",
            "Epoch: 181, Loss: 3.3600013256073\n",
            "Epoch: 182, Loss: 3.359194278717041\n",
            "Epoch: 183, Loss: 3.358391046524048\n",
            "Epoch: 184, Loss: 3.357590436935425\n",
            "Epoch: 185, Loss: 3.356794595718384\n",
            "Epoch: 186, Loss: 3.3560092449188232\n",
            "Epoch: 187, Loss: 3.355229139328003\n",
            "Epoch: 188, Loss: 3.354449510574341\n",
            "Epoch: 189, Loss: 3.3536746501922607\n",
            "Epoch: 190, Loss: 3.352903366088867\n",
            "Epoch: 191, Loss: 3.35213565826416\n",
            "Epoch: 192, Loss: 3.3513762950897217\n",
            "Epoch: 193, Loss: 3.3506178855895996\n",
            "Epoch: 194, Loss: 3.3498640060424805\n",
            "Epoch: 195, Loss: 3.349116086959839\n",
            "Epoch: 196, Loss: 3.3483707904815674\n",
            "Epoch: 197, Loss: 3.3476297855377197\n",
            "Epoch: 198, Loss: 3.346890926361084\n",
            "Epoch: 199, Loss: 3.346158742904663\n",
            "hits@1: 0.233526, hits@5: 0.452930, hits@10: 0.574863, hits@20: 0.710453\n",
            "hits@50: 0.886950, hits@100: 0.984623\n",
            "map@1: 0.233526, map@5: 0.313325, map@10: 0.329733, map@20: 0.339118\n",
            "map@50: 0.344825, map@100: 0.346293\n",
            "ndcg@1: 0.233526, ndcg@5: 0.347999, ndcg@10: 0.387566, ndcg@20: 0.421812\n",
            "ndcg@50: 0.456982, ndcg@100: 0.473016\n"
          ]
        }
      ]
    },
    {
      "cell_type": "markdown",
      "source": [
        "### Random walk, Infomax + Link pred"
      ],
      "metadata": {
        "id": "75KAYVFVk7_b"
      }
    },
    {
      "cell_type": "code",
      "source": [
        "# device = torch.device('cuda' if torch.cuda.is_available() else 'cpu')\n",
        "device = torch.device('cpu')\n",
        "model = DeepGraphInfomax(hidden_channels=128,\n",
        "                         encoder=Encoder(interm_channels=74, hidden_channels=128,\n",
        "                                         num_features=128),\n",
        "                         summary=lambda z, *args, **kwargs: torch.sigmoid(z.mean(dim=0)),\n",
        "                         corruption=random_walk).to(device)\n",
        "linkmodel = LinkPredHead()\n",
        "optimizer = torch.optim.AdamW(model.parameters(), lr=0.0005)\n",
        "loss_bce = nn.BCEWithLogitsLoss()"
      ],
      "metadata": {
        "id": "7Z3AcTgllF0j"
      },
      "execution_count": 95,
      "outputs": []
    },
    {
      "cell_type": "code",
      "source": [
        "num_epoch = 100\n",
        "loss_epoch = []\n",
        "for epoch in tqdm(range(1, num_epoch+1)):\n",
        "  if epoch == num_epoch:\n",
        "    pos_z, neg_z, summary, loss = train_infomax_linkpred(epoch)\n",
        "  else:\n",
        "    loss = train_infomax_linkpred(epoch)\n",
        "  loss_epoch.append(loss)"
      ],
      "metadata": {
        "colab": {
          "base_uri": "https://localhost:8080/"
        },
        "outputId": "2b0ea359-6658-4b02-a006-a886543289af",
        "id": "4uNVp0AllF0q"
      },
      "execution_count": 96,
      "outputs": [
        {
          "output_type": "stream",
          "name": "stderr",
          "text": [
            "  1%|          | 1/100 [00:03<06:35,  4.00s/it]"
          ]
        },
        {
          "output_type": "stream",
          "name": "stdout",
          "text": [
            "Epoch: 1, Loss: 4.045363903045654\n"
          ]
        },
        {
          "output_type": "stream",
          "name": "stderr",
          "text": [
            "\r  2%|▏         | 2/100 [00:08<07:14,  4.43s/it]"
          ]
        },
        {
          "output_type": "stream",
          "name": "stdout",
          "text": [
            "Epoch: 2, Loss: 3.7003698348999023\n"
          ]
        },
        {
          "output_type": "stream",
          "name": "stderr",
          "text": [
            "\r  3%|▎         | 3/100 [00:12<06:45,  4.18s/it]"
          ]
        },
        {
          "output_type": "stream",
          "name": "stdout",
          "text": [
            "Epoch: 3, Loss: 2.869166135787964\n"
          ]
        },
        {
          "output_type": "stream",
          "name": "stderr",
          "text": [
            "\r  4%|▍         | 4/100 [00:16<06:30,  4.07s/it]"
          ]
        },
        {
          "output_type": "stream",
          "name": "stdout",
          "text": [
            "Epoch: 4, Loss: 3.1408703327178955\n"
          ]
        },
        {
          "output_type": "stream",
          "name": "stderr",
          "text": [
            "\r  5%|▌         | 5/100 [00:21<06:41,  4.23s/it]"
          ]
        },
        {
          "output_type": "stream",
          "name": "stdout",
          "text": [
            "Epoch: 5, Loss: 2.8785858154296875\n"
          ]
        },
        {
          "output_type": "stream",
          "name": "stderr",
          "text": [
            "\r  6%|▌         | 6/100 [00:25<06:31,  4.16s/it]"
          ]
        },
        {
          "output_type": "stream",
          "name": "stdout",
          "text": [
            "Epoch: 6, Loss: 2.4802544116973877\n"
          ]
        },
        {
          "output_type": "stream",
          "name": "stderr",
          "text": [
            "\r  7%|▋         | 7/100 [00:28<06:18,  4.07s/it]"
          ]
        },
        {
          "output_type": "stream",
          "name": "stdout",
          "text": [
            "Epoch: 7, Loss: 2.8583176136016846\n"
          ]
        },
        {
          "output_type": "stream",
          "name": "stderr",
          "text": [
            "\r  8%|▊         | 8/100 [00:33<06:24,  4.18s/it]"
          ]
        },
        {
          "output_type": "stream",
          "name": "stdout",
          "text": [
            "Epoch: 8, Loss: 2.4600753784179688\n"
          ]
        },
        {
          "output_type": "stream",
          "name": "stderr",
          "text": [
            "\r  9%|▉         | 9/100 [00:37<06:19,  4.17s/it]"
          ]
        },
        {
          "output_type": "stream",
          "name": "stdout",
          "text": [
            "Epoch: 9, Loss: 2.5935864448547363\n"
          ]
        },
        {
          "output_type": "stream",
          "name": "stderr",
          "text": [
            "\r 10%|█         | 10/100 [00:41<06:07,  4.08s/it]"
          ]
        },
        {
          "output_type": "stream",
          "name": "stdout",
          "text": [
            "Epoch: 10, Loss: 2.3615214824676514\n"
          ]
        },
        {
          "output_type": "stream",
          "name": "stderr",
          "text": [
            "\r 11%|█         | 11/100 [00:45<06:06,  4.11s/it]"
          ]
        },
        {
          "output_type": "stream",
          "name": "stdout",
          "text": [
            "Epoch: 11, Loss: 2.675266742706299\n"
          ]
        },
        {
          "output_type": "stream",
          "name": "stderr",
          "text": [
            "\r 12%|█▏        | 12/100 [00:49<06:06,  4.17s/it]"
          ]
        },
        {
          "output_type": "stream",
          "name": "stdout",
          "text": [
            "Epoch: 12, Loss: 2.827786922454834\n"
          ]
        },
        {
          "output_type": "stream",
          "name": "stderr",
          "text": [
            "\r 13%|█▎        | 13/100 [00:53<05:54,  4.08s/it]"
          ]
        },
        {
          "output_type": "stream",
          "name": "stdout",
          "text": [
            "Epoch: 13, Loss: 2.1640090942382812\n"
          ]
        },
        {
          "output_type": "stream",
          "name": "stderr",
          "text": [
            "\r 14%|█▍        | 14/100 [00:57<05:49,  4.06s/it]"
          ]
        },
        {
          "output_type": "stream",
          "name": "stdout",
          "text": [
            "Epoch: 14, Loss: 1.5669028759002686\n"
          ]
        },
        {
          "output_type": "stream",
          "name": "stderr",
          "text": [
            "\r 15%|█▌        | 15/100 [01:02<05:57,  4.20s/it]"
          ]
        },
        {
          "output_type": "stream",
          "name": "stdout",
          "text": [
            "Epoch: 15, Loss: 1.6848876476287842\n"
          ]
        },
        {
          "output_type": "stream",
          "name": "stderr",
          "text": [
            "\r 16%|█▌        | 16/100 [01:06<05:45,  4.12s/it]"
          ]
        },
        {
          "output_type": "stream",
          "name": "stdout",
          "text": [
            "Epoch: 16, Loss: 3.374389171600342\n"
          ]
        },
        {
          "output_type": "stream",
          "name": "stderr",
          "text": [
            "\r 17%|█▋        | 17/100 [01:10<05:41,  4.11s/it]"
          ]
        },
        {
          "output_type": "stream",
          "name": "stdout",
          "text": [
            "Epoch: 17, Loss: 1.9758387804031372\n"
          ]
        },
        {
          "output_type": "stream",
          "name": "stderr",
          "text": [
            "\r 18%|█▊        | 18/100 [01:14<05:48,  4.25s/it]"
          ]
        },
        {
          "output_type": "stream",
          "name": "stdout",
          "text": [
            "Epoch: 18, Loss: 1.3678864240646362\n"
          ]
        },
        {
          "output_type": "stream",
          "name": "stderr",
          "text": [
            "\r 19%|█▉        | 19/100 [01:18<05:34,  4.13s/it]"
          ]
        },
        {
          "output_type": "stream",
          "name": "stdout",
          "text": [
            "Epoch: 19, Loss: 1.661690592765808\n"
          ]
        },
        {
          "output_type": "stream",
          "name": "stderr",
          "text": [
            "\r 20%|██        | 20/100 [01:22<05:25,  4.07s/it]"
          ]
        },
        {
          "output_type": "stream",
          "name": "stdout",
          "text": [
            "Epoch: 20, Loss: 3.0064892768859863\n"
          ]
        },
        {
          "output_type": "stream",
          "name": "stderr",
          "text": [
            "\r 21%|██        | 21/100 [01:27<05:37,  4.27s/it]"
          ]
        },
        {
          "output_type": "stream",
          "name": "stdout",
          "text": [
            "Epoch: 21, Loss: 3.3410279750823975\n"
          ]
        },
        {
          "output_type": "stream",
          "name": "stderr",
          "text": [
            "\r 22%|██▏       | 22/100 [01:31<05:24,  4.17s/it]"
          ]
        },
        {
          "output_type": "stream",
          "name": "stdout",
          "text": [
            "Epoch: 22, Loss: 1.6410889625549316\n"
          ]
        },
        {
          "output_type": "stream",
          "name": "stderr",
          "text": [
            "\r 23%|██▎       | 23/100 [01:35<05:14,  4.09s/it]"
          ]
        },
        {
          "output_type": "stream",
          "name": "stdout",
          "text": [
            "Epoch: 23, Loss: 1.4748339653015137\n"
          ]
        },
        {
          "output_type": "stream",
          "name": "stderr",
          "text": [
            "\r 24%|██▍       | 24/100 [01:40<05:28,  4.32s/it]"
          ]
        },
        {
          "output_type": "stream",
          "name": "stdout",
          "text": [
            "Epoch: 24, Loss: 2.9077308177948\n"
          ]
        },
        {
          "output_type": "stream",
          "name": "stderr",
          "text": [
            "\r 25%|██▌       | 25/100 [01:43<05:13,  4.19s/it]"
          ]
        },
        {
          "output_type": "stream",
          "name": "stdout",
          "text": [
            "Epoch: 25, Loss: 2.0338001251220703\n"
          ]
        },
        {
          "output_type": "stream",
          "name": "stderr",
          "text": [
            "\r 26%|██▌       | 26/100 [01:47<05:02,  4.09s/it]"
          ]
        },
        {
          "output_type": "stream",
          "name": "stdout",
          "text": [
            "Epoch: 26, Loss: 1.7707874774932861\n"
          ]
        },
        {
          "output_type": "stream",
          "name": "stderr",
          "text": [
            "\r 27%|██▋       | 27/100 [01:52<05:12,  4.28s/it]"
          ]
        },
        {
          "output_type": "stream",
          "name": "stdout",
          "text": [
            "Epoch: 27, Loss: 1.5196064710617065\n"
          ]
        },
        {
          "output_type": "stream",
          "name": "stderr",
          "text": [
            "\r 28%|██▊       | 28/100 [01:56<05:00,  4.17s/it]"
          ]
        },
        {
          "output_type": "stream",
          "name": "stdout",
          "text": [
            "Epoch: 28, Loss: 1.7184540033340454\n"
          ]
        },
        {
          "output_type": "stream",
          "name": "stderr",
          "text": [
            "\r 29%|██▉       | 29/100 [02:00<04:50,  4.09s/it]"
          ]
        },
        {
          "output_type": "stream",
          "name": "stdout",
          "text": [
            "Epoch: 29, Loss: 2.062309503555298\n"
          ]
        },
        {
          "output_type": "stream",
          "name": "stderr",
          "text": [
            "\r 30%|███       | 30/100 [02:05<05:00,  4.29s/it]"
          ]
        },
        {
          "output_type": "stream",
          "name": "stdout",
          "text": [
            "Epoch: 30, Loss: 1.9644492864608765\n"
          ]
        },
        {
          "output_type": "stream",
          "name": "stderr",
          "text": [
            "\r 31%|███       | 31/100 [02:08<04:46,  4.16s/it]"
          ]
        },
        {
          "output_type": "stream",
          "name": "stdout",
          "text": [
            "Epoch: 31, Loss: 2.14428448677063\n"
          ]
        },
        {
          "output_type": "stream",
          "name": "stderr",
          "text": [
            "\r 32%|███▏      | 32/100 [02:12<04:36,  4.07s/it]"
          ]
        },
        {
          "output_type": "stream",
          "name": "stdout",
          "text": [
            "Epoch: 32, Loss: 2.3679356575012207\n"
          ]
        },
        {
          "output_type": "stream",
          "name": "stderr",
          "text": [
            "\r 33%|███▎      | 33/100 [02:17<04:46,  4.27s/it]"
          ]
        },
        {
          "output_type": "stream",
          "name": "stdout",
          "text": [
            "Epoch: 33, Loss: 2.5924949645996094\n"
          ]
        },
        {
          "output_type": "stream",
          "name": "stderr",
          "text": [
            "\r 34%|███▍      | 34/100 [02:21<04:34,  4.15s/it]"
          ]
        },
        {
          "output_type": "stream",
          "name": "stdout",
          "text": [
            "Epoch: 34, Loss: 2.1943230628967285\n"
          ]
        },
        {
          "output_type": "stream",
          "name": "stderr",
          "text": [
            "\r 35%|███▌      | 35/100 [02:25<04:24,  4.07s/it]"
          ]
        },
        {
          "output_type": "stream",
          "name": "stdout",
          "text": [
            "Epoch: 35, Loss: 1.8624025583267212\n"
          ]
        },
        {
          "output_type": "stream",
          "name": "stderr",
          "text": [
            "\r 36%|███▌      | 36/100 [02:30<04:32,  4.25s/it]"
          ]
        },
        {
          "output_type": "stream",
          "name": "stdout",
          "text": [
            "Epoch: 36, Loss: 1.4546563625335693\n"
          ]
        },
        {
          "output_type": "stream",
          "name": "stderr",
          "text": [
            "\r 37%|███▋      | 37/100 [02:33<04:20,  4.13s/it]"
          ]
        },
        {
          "output_type": "stream",
          "name": "stdout",
          "text": [
            "Epoch: 37, Loss: 1.6054141521453857\n"
          ]
        },
        {
          "output_type": "stream",
          "name": "stderr",
          "text": [
            "\r 38%|███▊      | 38/100 [02:37<04:11,  4.06s/it]"
          ]
        },
        {
          "output_type": "stream",
          "name": "stdout",
          "text": [
            "Epoch: 38, Loss: 2.587271213531494\n"
          ]
        },
        {
          "output_type": "stream",
          "name": "stderr",
          "text": [
            "\r 39%|███▉      | 39/100 [02:42<04:19,  4.25s/it]"
          ]
        },
        {
          "output_type": "stream",
          "name": "stdout",
          "text": [
            "Epoch: 39, Loss: 1.8662199974060059\n"
          ]
        },
        {
          "output_type": "stream",
          "name": "stderr",
          "text": [
            "\r 40%|████      | 40/100 [02:46<04:09,  4.16s/it]"
          ]
        },
        {
          "output_type": "stream",
          "name": "stdout",
          "text": [
            "Epoch: 40, Loss: 1.676074504852295\n"
          ]
        },
        {
          "output_type": "stream",
          "name": "stderr",
          "text": [
            "\r 41%|████      | 41/100 [02:50<04:00,  4.08s/it]"
          ]
        },
        {
          "output_type": "stream",
          "name": "stdout",
          "text": [
            "Epoch: 41, Loss: 2.71652889251709\n"
          ]
        },
        {
          "output_type": "stream",
          "name": "stderr",
          "text": [
            "\r 42%|████▏     | 42/100 [02:54<04:05,  4.23s/it]"
          ]
        },
        {
          "output_type": "stream",
          "name": "stdout",
          "text": [
            "Epoch: 42, Loss: 2.7993764877319336\n"
          ]
        },
        {
          "output_type": "stream",
          "name": "stderr",
          "text": [
            "\r 43%|████▎     | 43/100 [02:58<03:57,  4.16s/it]"
          ]
        },
        {
          "output_type": "stream",
          "name": "stdout",
          "text": [
            "Epoch: 43, Loss: 1.5105054378509521\n"
          ]
        },
        {
          "output_type": "stream",
          "name": "stderr",
          "text": [
            "\r 44%|████▍     | 44/100 [03:02<03:48,  4.08s/it]"
          ]
        },
        {
          "output_type": "stream",
          "name": "stdout",
          "text": [
            "Epoch: 44, Loss: 1.7108350992202759\n"
          ]
        },
        {
          "output_type": "stream",
          "name": "stderr",
          "text": [
            "\r 45%|████▌     | 45/100 [03:07<03:48,  4.16s/it]"
          ]
        },
        {
          "output_type": "stream",
          "name": "stdout",
          "text": [
            "Epoch: 45, Loss: 1.1944724321365356\n"
          ]
        },
        {
          "output_type": "stream",
          "name": "stderr",
          "text": [
            "\r 46%|████▌     | 46/100 [03:11<03:44,  4.16s/it]"
          ]
        },
        {
          "output_type": "stream",
          "name": "stdout",
          "text": [
            "Epoch: 46, Loss: 1.4973351955413818\n"
          ]
        },
        {
          "output_type": "stream",
          "name": "stderr",
          "text": [
            "\r 47%|████▋     | 47/100 [03:15<03:36,  4.08s/it]"
          ]
        },
        {
          "output_type": "stream",
          "name": "stdout",
          "text": [
            "Epoch: 47, Loss: 1.5779606103897095\n"
          ]
        },
        {
          "output_type": "stream",
          "name": "stderr",
          "text": [
            "\r 48%|████▊     | 48/100 [03:19<03:34,  4.13s/it]"
          ]
        },
        {
          "output_type": "stream",
          "name": "stdout",
          "text": [
            "Epoch: 48, Loss: 0.9685097932815552\n"
          ]
        },
        {
          "output_type": "stream",
          "name": "stderr",
          "text": [
            "\r 49%|████▉     | 49/100 [03:23<03:34,  4.20s/it]"
          ]
        },
        {
          "output_type": "stream",
          "name": "stdout",
          "text": [
            "Epoch: 49, Loss: 1.9786922931671143\n"
          ]
        },
        {
          "output_type": "stream",
          "name": "stderr",
          "text": [
            "\r 50%|█████     | 50/100 [03:27<03:27,  4.15s/it]"
          ]
        },
        {
          "output_type": "stream",
          "name": "stdout",
          "text": [
            "Epoch: 50, Loss: 1.0754640102386475\n"
          ]
        },
        {
          "output_type": "stream",
          "name": "stderr",
          "text": [
            "\r 51%|█████     | 51/100 [03:32<03:38,  4.46s/it]"
          ]
        },
        {
          "output_type": "stream",
          "name": "stdout",
          "text": [
            "Epoch: 51, Loss: 0.8921419382095337\n"
          ]
        },
        {
          "output_type": "stream",
          "name": "stderr",
          "text": [
            "\r 52%|█████▏    | 52/100 [03:37<03:29,  4.36s/it]"
          ]
        },
        {
          "output_type": "stream",
          "name": "stdout",
          "text": [
            "Epoch: 52, Loss: 1.8270515203475952\n"
          ]
        },
        {
          "output_type": "stream",
          "name": "stderr",
          "text": [
            "\r 53%|█████▎    | 53/100 [03:41<03:18,  4.22s/it]"
          ]
        },
        {
          "output_type": "stream",
          "name": "stdout",
          "text": [
            "Epoch: 53, Loss: 1.3453588485717773\n"
          ]
        },
        {
          "output_type": "stream",
          "name": "stderr",
          "text": [
            "\r 54%|█████▍    | 54/100 [03:45<03:15,  4.24s/it]"
          ]
        },
        {
          "output_type": "stream",
          "name": "stdout",
          "text": [
            "Epoch: 54, Loss: 1.703320026397705\n"
          ]
        },
        {
          "output_type": "stream",
          "name": "stderr",
          "text": [
            "\r 55%|█████▌    | 55/100 [03:49<03:11,  4.25s/it]"
          ]
        },
        {
          "output_type": "stream",
          "name": "stdout",
          "text": [
            "Epoch: 55, Loss: 0.9428843259811401\n"
          ]
        },
        {
          "output_type": "stream",
          "name": "stderr",
          "text": [
            "\r 56%|█████▌    | 56/100 [03:53<03:02,  4.14s/it]"
          ]
        },
        {
          "output_type": "stream",
          "name": "stdout",
          "text": [
            "Epoch: 56, Loss: 2.011641502380371\n"
          ]
        },
        {
          "output_type": "stream",
          "name": "stderr",
          "text": [
            "\r 57%|█████▋    | 57/100 [03:57<02:58,  4.16s/it]"
          ]
        },
        {
          "output_type": "stream",
          "name": "stdout",
          "text": [
            "Epoch: 57, Loss: 1.2622612714767456\n"
          ]
        },
        {
          "output_type": "stream",
          "name": "stderr",
          "text": [
            "\r 58%|█████▊    | 58/100 [04:02<02:58,  4.25s/it]"
          ]
        },
        {
          "output_type": "stream",
          "name": "stdout",
          "text": [
            "Epoch: 58, Loss: 4.091346263885498\n"
          ]
        },
        {
          "output_type": "stream",
          "name": "stderr",
          "text": [
            "\r 59%|█████▉    | 59/100 [04:06<02:49,  4.14s/it]"
          ]
        },
        {
          "output_type": "stream",
          "name": "stdout",
          "text": [
            "Epoch: 59, Loss: 1.4742070436477661\n"
          ]
        },
        {
          "output_type": "stream",
          "name": "stderr",
          "text": [
            "\r 60%|██████    | 60/100 [04:10<02:44,  4.12s/it]"
          ]
        },
        {
          "output_type": "stream",
          "name": "stdout",
          "text": [
            "Epoch: 60, Loss: 1.741357445716858\n"
          ]
        },
        {
          "output_type": "stream",
          "name": "stderr",
          "text": [
            "\r 61%|██████    | 61/100 [04:14<02:45,  4.24s/it]"
          ]
        },
        {
          "output_type": "stream",
          "name": "stdout",
          "text": [
            "Epoch: 61, Loss: 1.4301071166992188\n"
          ]
        },
        {
          "output_type": "stream",
          "name": "stderr",
          "text": [
            "\r 62%|██████▏   | 62/100 [04:18<02:37,  4.15s/it]"
          ]
        },
        {
          "output_type": "stream",
          "name": "stdout",
          "text": [
            "Epoch: 62, Loss: 1.671081781387329\n"
          ]
        },
        {
          "output_type": "stream",
          "name": "stderr",
          "text": [
            "\r 63%|██████▎   | 63/100 [04:22<02:30,  4.08s/it]"
          ]
        },
        {
          "output_type": "stream",
          "name": "stdout",
          "text": [
            "Epoch: 63, Loss: 1.574641466140747\n"
          ]
        },
        {
          "output_type": "stream",
          "name": "stderr",
          "text": [
            "\r 64%|██████▍   | 64/100 [04:27<02:34,  4.29s/it]"
          ]
        },
        {
          "output_type": "stream",
          "name": "stdout",
          "text": [
            "Epoch: 64, Loss: 1.7105236053466797\n"
          ]
        },
        {
          "output_type": "stream",
          "name": "stderr",
          "text": [
            "\r 65%|██████▌   | 65/100 [04:31<02:25,  4.17s/it]"
          ]
        },
        {
          "output_type": "stream",
          "name": "stdout",
          "text": [
            "Epoch: 65, Loss: 1.4652636051177979\n"
          ]
        },
        {
          "output_type": "stream",
          "name": "stderr",
          "text": [
            "\r 66%|██████▌   | 66/100 [04:34<02:18,  4.07s/it]"
          ]
        },
        {
          "output_type": "stream",
          "name": "stdout",
          "text": [
            "Epoch: 66, Loss: 1.1777663230895996\n"
          ]
        },
        {
          "output_type": "stream",
          "name": "stderr",
          "text": [
            "\r 67%|██████▋   | 67/100 [04:39<02:20,  4.27s/it]"
          ]
        },
        {
          "output_type": "stream",
          "name": "stdout",
          "text": [
            "Epoch: 67, Loss: 1.3724443912506104\n"
          ]
        },
        {
          "output_type": "stream",
          "name": "stderr",
          "text": [
            "\r 68%|██████▊   | 68/100 [04:43<02:12,  4.16s/it]"
          ]
        },
        {
          "output_type": "stream",
          "name": "stdout",
          "text": [
            "Epoch: 68, Loss: 1.2866837978363037\n"
          ]
        },
        {
          "output_type": "stream",
          "name": "stderr",
          "text": [
            "\r 69%|██████▉   | 69/100 [04:47<02:06,  4.07s/it]"
          ]
        },
        {
          "output_type": "stream",
          "name": "stdout",
          "text": [
            "Epoch: 69, Loss: 2.0251479148864746\n"
          ]
        },
        {
          "output_type": "stream",
          "name": "stderr",
          "text": [
            "\r 70%|███████   | 70/100 [04:52<02:08,  4.28s/it]"
          ]
        },
        {
          "output_type": "stream",
          "name": "stdout",
          "text": [
            "Epoch: 70, Loss: 1.0826435089111328\n"
          ]
        },
        {
          "output_type": "stream",
          "name": "stderr",
          "text": [
            "\r 71%|███████   | 71/100 [04:56<02:00,  4.16s/it]"
          ]
        },
        {
          "output_type": "stream",
          "name": "stdout",
          "text": [
            "Epoch: 71, Loss: 0.9856103658676147\n"
          ]
        },
        {
          "output_type": "stream",
          "name": "stderr",
          "text": [
            "\r 72%|███████▏  | 72/100 [05:00<01:55,  4.11s/it]"
          ]
        },
        {
          "output_type": "stream",
          "name": "stdout",
          "text": [
            "Epoch: 72, Loss: 1.9708340167999268\n"
          ]
        },
        {
          "output_type": "stream",
          "name": "stderr",
          "text": [
            "\r 73%|███████▎  | 73/100 [05:04<01:55,  4.29s/it]"
          ]
        },
        {
          "output_type": "stream",
          "name": "stdout",
          "text": [
            "Epoch: 73, Loss: 0.7935872673988342\n"
          ]
        },
        {
          "output_type": "stream",
          "name": "stderr",
          "text": [
            "\r 74%|███████▍  | 74/100 [05:08<01:48,  4.17s/it]"
          ]
        },
        {
          "output_type": "stream",
          "name": "stdout",
          "text": [
            "Epoch: 74, Loss: 1.3315649032592773\n"
          ]
        },
        {
          "output_type": "stream",
          "name": "stderr",
          "text": [
            "\r 75%|███████▌  | 75/100 [05:12<01:41,  4.08s/it]"
          ]
        },
        {
          "output_type": "stream",
          "name": "stdout",
          "text": [
            "Epoch: 75, Loss: 3.0733141899108887\n"
          ]
        },
        {
          "output_type": "stream",
          "name": "stderr",
          "text": [
            "\r 76%|███████▌  | 76/100 [05:17<01:42,  4.28s/it]"
          ]
        },
        {
          "output_type": "stream",
          "name": "stdout",
          "text": [
            "Epoch: 76, Loss: 0.8943969011306763\n"
          ]
        },
        {
          "output_type": "stream",
          "name": "stderr",
          "text": [
            "\r 77%|███████▋  | 77/100 [05:21<01:37,  4.24s/it]"
          ]
        },
        {
          "output_type": "stream",
          "name": "stdout",
          "text": [
            "Epoch: 77, Loss: 2.14449143409729\n"
          ]
        },
        {
          "output_type": "stream",
          "name": "stderr",
          "text": [
            "\r 78%|███████▊  | 78/100 [05:25<01:30,  4.13s/it]"
          ]
        },
        {
          "output_type": "stream",
          "name": "stdout",
          "text": [
            "Epoch: 78, Loss: 1.0924087762832642\n"
          ]
        },
        {
          "output_type": "stream",
          "name": "stderr",
          "text": [
            "\r 79%|███████▉  | 79/100 [05:30<01:30,  4.30s/it]"
          ]
        },
        {
          "output_type": "stream",
          "name": "stdout",
          "text": [
            "Epoch: 79, Loss: 2.0166471004486084\n"
          ]
        },
        {
          "output_type": "stream",
          "name": "stderr",
          "text": [
            "\r 80%|████████  | 80/100 [05:33<01:23,  4.17s/it]"
          ]
        },
        {
          "output_type": "stream",
          "name": "stdout",
          "text": [
            "Epoch: 80, Loss: 1.4941229820251465\n"
          ]
        },
        {
          "output_type": "stream",
          "name": "stderr",
          "text": [
            "\r 81%|████████  | 81/100 [05:37<01:17,  4.08s/it]"
          ]
        },
        {
          "output_type": "stream",
          "name": "stdout",
          "text": [
            "Epoch: 81, Loss: 1.2537046670913696\n"
          ]
        },
        {
          "output_type": "stream",
          "name": "stderr",
          "text": [
            "\r 82%|████████▏ | 82/100 [05:42<01:16,  4.27s/it]"
          ]
        },
        {
          "output_type": "stream",
          "name": "stdout",
          "text": [
            "Epoch: 82, Loss: 1.2746740579605103\n"
          ]
        },
        {
          "output_type": "stream",
          "name": "stderr",
          "text": [
            "\r 83%|████████▎ | 83/100 [05:46<01:10,  4.15s/it]"
          ]
        },
        {
          "output_type": "stream",
          "name": "stdout",
          "text": [
            "Epoch: 83, Loss: 1.1911382675170898\n"
          ]
        },
        {
          "output_type": "stream",
          "name": "stderr",
          "text": [
            "\r 84%|████████▍ | 84/100 [05:50<01:05,  4.06s/it]"
          ]
        },
        {
          "output_type": "stream",
          "name": "stdout",
          "text": [
            "Epoch: 84, Loss: 1.6215509176254272\n"
          ]
        },
        {
          "output_type": "stream",
          "name": "stderr",
          "text": [
            "\r 85%|████████▌ | 85/100 [05:55<01:04,  4.28s/it]"
          ]
        },
        {
          "output_type": "stream",
          "name": "stdout",
          "text": [
            "Epoch: 85, Loss: 1.722212314605713\n"
          ]
        },
        {
          "output_type": "stream",
          "name": "stderr",
          "text": [
            "\r 86%|████████▌ | 86/100 [05:58<00:58,  4.16s/it]"
          ]
        },
        {
          "output_type": "stream",
          "name": "stdout",
          "text": [
            "Epoch: 86, Loss: 1.1609619855880737\n"
          ]
        },
        {
          "output_type": "stream",
          "name": "stderr",
          "text": [
            "\r 87%|████████▋ | 87/100 [06:02<00:53,  4.08s/it]"
          ]
        },
        {
          "output_type": "stream",
          "name": "stdout",
          "text": [
            "Epoch: 87, Loss: 1.1838200092315674\n"
          ]
        },
        {
          "output_type": "stream",
          "name": "stderr",
          "text": [
            "\r 88%|████████▊ | 88/100 [06:07<00:50,  4.23s/it]"
          ]
        },
        {
          "output_type": "stream",
          "name": "stdout",
          "text": [
            "Epoch: 88, Loss: 1.0569336414337158\n"
          ]
        },
        {
          "output_type": "stream",
          "name": "stderr",
          "text": [
            "\r 89%|████████▉ | 89/100 [06:11<00:46,  4.19s/it]"
          ]
        },
        {
          "output_type": "stream",
          "name": "stdout",
          "text": [
            "Epoch: 89, Loss: 1.4495384693145752\n"
          ]
        },
        {
          "output_type": "stream",
          "name": "stderr",
          "text": [
            "\r 90%|█████████ | 90/100 [06:15<00:41,  4.12s/it]"
          ]
        },
        {
          "output_type": "stream",
          "name": "stdout",
          "text": [
            "Epoch: 90, Loss: 1.2206183671951294\n"
          ]
        },
        {
          "output_type": "stream",
          "name": "stderr",
          "text": [
            "\r 91%|█████████ | 91/100 [06:20<00:38,  4.32s/it]"
          ]
        },
        {
          "output_type": "stream",
          "name": "stdout",
          "text": [
            "Epoch: 91, Loss: 0.8731157779693604\n"
          ]
        },
        {
          "output_type": "stream",
          "name": "stderr",
          "text": [
            "\r 92%|█████████▏| 92/100 [06:24<00:33,  4.24s/it]"
          ]
        },
        {
          "output_type": "stream",
          "name": "stdout",
          "text": [
            "Epoch: 92, Loss: 0.8101173639297485\n"
          ]
        },
        {
          "output_type": "stream",
          "name": "stderr",
          "text": [
            "\r 93%|█████████▎| 93/100 [06:28<00:29,  4.14s/it]"
          ]
        },
        {
          "output_type": "stream",
          "name": "stdout",
          "text": [
            "Epoch: 93, Loss: 0.9698516726493835\n"
          ]
        },
        {
          "output_type": "stream",
          "name": "stderr",
          "text": [
            "\r 94%|█████████▍| 94/100 [06:32<00:25,  4.23s/it]"
          ]
        },
        {
          "output_type": "stream",
          "name": "stdout",
          "text": [
            "Epoch: 94, Loss: 0.9213635921478271\n"
          ]
        },
        {
          "output_type": "stream",
          "name": "stderr",
          "text": [
            "\r 95%|█████████▌| 95/100 [06:36<00:21,  4.22s/it]"
          ]
        },
        {
          "output_type": "stream",
          "name": "stdout",
          "text": [
            "Epoch: 95, Loss: 8.358936309814453\n"
          ]
        },
        {
          "output_type": "stream",
          "name": "stderr",
          "text": [
            "\r 96%|█████████▌| 96/100 [06:40<00:16,  4.13s/it]"
          ]
        },
        {
          "output_type": "stream",
          "name": "stdout",
          "text": [
            "Epoch: 96, Loss: 2.0286574363708496\n"
          ]
        },
        {
          "output_type": "stream",
          "name": "stderr",
          "text": [
            "\r 97%|█████████▋| 97/100 [06:45<00:12,  4.21s/it]"
          ]
        },
        {
          "output_type": "stream",
          "name": "stdout",
          "text": [
            "Epoch: 97, Loss: 1.3188148736953735\n"
          ]
        },
        {
          "output_type": "stream",
          "name": "stderr",
          "text": [
            "\r 98%|█████████▊| 98/100 [06:49<00:08,  4.23s/it]"
          ]
        },
        {
          "output_type": "stream",
          "name": "stdout",
          "text": [
            "Epoch: 98, Loss: 1.3365979194641113\n"
          ]
        },
        {
          "output_type": "stream",
          "name": "stderr",
          "text": [
            "\r 99%|█████████▉| 99/100 [06:53<00:04,  4.13s/it]"
          ]
        },
        {
          "output_type": "stream",
          "name": "stdout",
          "text": [
            "Epoch: 99, Loss: 1.445319652557373\n"
          ]
        },
        {
          "output_type": "stream",
          "name": "stderr",
          "text": [
            "100%|██████████| 100/100 [06:57<00:00,  4.18s/it]"
          ]
        },
        {
          "output_type": "stream",
          "name": "stdout",
          "text": [
            "Epoch: 100, Loss: 1.634057641029358\n"
          ]
        },
        {
          "output_type": "stream",
          "name": "stderr",
          "text": [
            "\n"
          ]
        }
      ]
    },
    {
      "cell_type": "code",
      "source": [
        "final_user_representations = {}\n",
        "repr = pos_z\n",
        "for i in range(pos_z.shape[0]):\n",
        "  final_user_representations[i] = (i, repr[i].detach(), user_representations[i][1])"
      ],
      "metadata": {
        "id": "5kPIheLblF0q"
      },
      "execution_count": 97,
      "outputs": []
    },
    {
      "cell_type": "code",
      "execution_count": 98,
      "metadata": {
        "id": "uXVHtFuclF0r"
      },
      "outputs": [],
      "source": [
        "user_dataset = UserDataset(final_user_representations)\n",
        "\n",
        "n = len(user_dataset)\n",
        "\n",
        "indices = np.arange(n)\n",
        "indices = np.random.permutation(indices)\n",
        "\n",
        "train_indices = indices [:int(0.8*n)]\n",
        "test_indices = indices[int(0.8*n):]\n",
        "\n",
        "user_train_dataset = Subset(user_dataset, train_indices)\n",
        "user_test_dataset = Subset(user_dataset, test_indices)\n",
        "\n",
        "user_train_dataloader = DataLoader(user_train_dataset, batch_size=64, shuffle=True)\n",
        "user_test_dataloader = DataLoader(user_test_dataset, batch_size=64, shuffle=True)"
      ]
    },
    {
      "cell_type": "code",
      "execution_count": 99,
      "metadata": {
        "id": "VPLSbMy6lF0r"
      },
      "outputs": [],
      "source": [
        "num_classes = 186\n",
        "classes = np.arange(0, num_classes)"
      ]
    },
    {
      "cell_type": "code",
      "source": [
        "head_model = train2task()\n",
        "torch.save(head_model.state_dict(), 'random_walk_infomax_linkpred_model.pth')"
      ],
      "metadata": {
        "id": "wzQlnv9RlF0r",
        "colab": {
          "base_uri": "https://localhost:8080/"
        },
        "outputId": "d28d71f7-9ecd-42ce-d835-1b15f3b9c121"
      },
      "execution_count": 100,
      "outputs": [
        {
          "output_type": "stream",
          "name": "stdout",
          "text": [
            "Epoch: 0, Loss: 4.424149513244629\n",
            "Epoch: 1, Loss: 4.248197078704834\n",
            "Epoch: 2, Loss: 4.152710914611816\n",
            "Epoch: 3, Loss: 4.08593225479126\n",
            "Epoch: 4, Loss: 4.034071922302246\n",
            "Epoch: 5, Loss: 3.991478204727173\n",
            "Epoch: 6, Loss: 3.9552371501922607\n",
            "Epoch: 7, Loss: 3.923595666885376\n",
            "Epoch: 8, Loss: 3.895565986633301\n",
            "Epoch: 9, Loss: 3.8702945709228516\n",
            "Epoch: 10, Loss: 3.847313165664673\n",
            "Epoch: 11, Loss: 3.8262948989868164\n",
            "Epoch: 12, Loss: 3.806889057159424\n",
            "Epoch: 13, Loss: 3.7889153957366943\n",
            "Epoch: 14, Loss: 3.772141456604004\n",
            "Epoch: 15, Loss: 3.7564241886138916\n",
            "Epoch: 16, Loss: 3.741687297821045\n",
            "Epoch: 17, Loss: 3.7277867794036865\n",
            "Epoch: 18, Loss: 3.714641809463501\n",
            "Epoch: 19, Loss: 3.7021484375\n",
            "Epoch: 20, Loss: 3.690312385559082\n",
            "Epoch: 21, Loss: 3.679049015045166\n",
            "Epoch: 22, Loss: 3.668288469314575\n",
            "Epoch: 23, Loss: 3.6580002307891846\n",
            "Epoch: 24, Loss: 3.6481425762176514\n",
            "Epoch: 25, Loss: 3.638688087463379\n",
            "Epoch: 26, Loss: 3.629626750946045\n",
            "Epoch: 27, Loss: 3.6208925247192383\n",
            "Epoch: 28, Loss: 3.6124768257141113\n",
            "Epoch: 29, Loss: 3.60435152053833\n",
            "Epoch: 30, Loss: 3.5965325832366943\n",
            "Epoch: 31, Loss: 3.588956594467163\n",
            "Epoch: 32, Loss: 3.5816311836242676\n",
            "Epoch: 33, Loss: 3.574530601501465\n",
            "Epoch: 34, Loss: 3.567655324935913\n",
            "Epoch: 35, Loss: 3.560985565185547\n",
            "Epoch: 36, Loss: 3.554513454437256\n",
            "Epoch: 37, Loss: 3.5482215881347656\n",
            "Epoch: 38, Loss: 3.542116165161133\n",
            "Epoch: 39, Loss: 3.536165952682495\n",
            "Epoch: 40, Loss: 3.530379295349121\n",
            "Epoch: 41, Loss: 3.5247385501861572\n",
            "Epoch: 42, Loss: 3.5192344188690186\n",
            "Epoch: 43, Loss: 3.5138678550720215\n",
            "Epoch: 44, Loss: 3.5086488723754883\n",
            "Epoch: 45, Loss: 3.503533363342285\n",
            "Epoch: 46, Loss: 3.4985508918762207\n",
            "Epoch: 47, Loss: 3.4936721324920654\n",
            "Epoch: 48, Loss: 3.4889075756073\n",
            "Epoch: 49, Loss: 3.484250545501709\n",
            "Epoch: 50, Loss: 3.479675531387329\n",
            "Epoch: 51, Loss: 3.4752001762390137\n",
            "Epoch: 52, Loss: 3.470830202102661\n",
            "Epoch: 53, Loss: 3.4665369987487793\n",
            "Epoch: 54, Loss: 3.4623360633850098\n",
            "Epoch: 55, Loss: 3.458207845687866\n",
            "Epoch: 56, Loss: 3.454167604446411\n",
            "Epoch: 57, Loss: 3.4502015113830566\n",
            "Epoch: 58, Loss: 3.4463024139404297\n",
            "Epoch: 59, Loss: 3.4424846172332764\n",
            "Epoch: 60, Loss: 3.438732624053955\n",
            "Epoch: 61, Loss: 3.435046911239624\n",
            "Epoch: 62, Loss: 3.431426525115967\n",
            "Epoch: 63, Loss: 3.427872657775879\n",
            "Epoch: 64, Loss: 3.4243743419647217\n",
            "Epoch: 65, Loss: 3.420928955078125\n",
            "Epoch: 66, Loss: 3.417548179626465\n",
            "Epoch: 67, Loss: 3.4142229557037354\n",
            "Epoch: 68, Loss: 3.4109506607055664\n",
            "Epoch: 69, Loss: 3.4077200889587402\n",
            "Epoch: 70, Loss: 3.4045398235321045\n",
            "Epoch: 71, Loss: 3.4014134407043457\n",
            "Epoch: 72, Loss: 3.398336887359619\n",
            "Epoch: 73, Loss: 3.395305633544922\n",
            "Epoch: 74, Loss: 3.3923213481903076\n",
            "Epoch: 75, Loss: 3.389380693435669\n",
            "Epoch: 76, Loss: 3.3864822387695312\n",
            "Epoch: 77, Loss: 3.3836209774017334\n",
            "Epoch: 78, Loss: 3.380795955657959\n",
            "Epoch: 79, Loss: 3.378023147583008\n",
            "Epoch: 80, Loss: 3.3752758502960205\n",
            "Epoch: 81, Loss: 3.3725674152374268\n",
            "Epoch: 82, Loss: 3.369901418685913\n",
            "Epoch: 83, Loss: 3.367269992828369\n",
            "Epoch: 84, Loss: 3.364670991897583\n",
            "Epoch: 85, Loss: 3.3621068000793457\n",
            "Epoch: 86, Loss: 3.3595755100250244\n",
            "Epoch: 87, Loss: 3.3570780754089355\n",
            "Epoch: 88, Loss: 3.3546106815338135\n",
            "Epoch: 89, Loss: 3.3521714210510254\n",
            "Epoch: 90, Loss: 3.349764108657837\n",
            "Epoch: 91, Loss: 3.3473849296569824\n",
            "Epoch: 92, Loss: 3.3450329303741455\n",
            "Epoch: 93, Loss: 3.3427140712738037\n",
            "Epoch: 94, Loss: 3.340414047241211\n",
            "Epoch: 95, Loss: 3.338146924972534\n",
            "Epoch: 96, Loss: 3.3358964920043945\n",
            "Epoch: 97, Loss: 3.3336827754974365\n",
            "Epoch: 98, Loss: 3.331491231918335\n",
            "Epoch: 99, Loss: 3.329322576522827\n",
            "Epoch: 100, Loss: 3.327181339263916\n",
            "Epoch: 101, Loss: 3.3250575065612793\n",
            "Epoch: 102, Loss: 3.322965383529663\n",
            "Epoch: 103, Loss: 3.320889472961426\n",
            "Epoch: 104, Loss: 3.3188343048095703\n",
            "Epoch: 105, Loss: 3.316807270050049\n",
            "Epoch: 106, Loss: 3.314796209335327\n",
            "Epoch: 107, Loss: 3.312810182571411\n",
            "Epoch: 108, Loss: 3.3108389377593994\n",
            "Epoch: 109, Loss: 3.308889389038086\n",
            "Epoch: 110, Loss: 3.306962728500366\n",
            "Epoch: 111, Loss: 3.3050568103790283\n",
            "Epoch: 112, Loss: 3.3031678199768066\n",
            "Epoch: 113, Loss: 3.301298141479492\n",
            "Epoch: 114, Loss: 3.299448013305664\n",
            "Epoch: 115, Loss: 3.2976138591766357\n",
            "Epoch: 116, Loss: 3.2957959175109863\n",
            "Epoch: 117, Loss: 3.2939958572387695\n",
            "Epoch: 118, Loss: 3.292215347290039\n",
            "Epoch: 119, Loss: 3.2904460430145264\n",
            "Epoch: 120, Loss: 3.2887001037597656\n",
            "Epoch: 121, Loss: 3.2869694232940674\n",
            "Epoch: 122, Loss: 3.2852518558502197\n",
            "Epoch: 123, Loss: 3.2835540771484375\n",
            "Epoch: 124, Loss: 3.281869888305664\n",
            "Epoch: 125, Loss: 3.280196189880371\n",
            "Epoch: 126, Loss: 3.278538465499878\n",
            "Epoch: 127, Loss: 3.27689790725708\n",
            "Epoch: 128, Loss: 3.2752716541290283\n",
            "Epoch: 129, Loss: 3.273665428161621\n",
            "Epoch: 130, Loss: 3.2720696926116943\n",
            "Epoch: 131, Loss: 3.2704896926879883\n",
            "Epoch: 132, Loss: 3.2689177989959717\n",
            "Epoch: 133, Loss: 3.2673590183258057\n",
            "Epoch: 134, Loss: 3.2658133506774902\n",
            "Epoch: 135, Loss: 3.26427960395813\n",
            "Epoch: 136, Loss: 3.2627651691436768\n",
            "Epoch: 137, Loss: 3.2612619400024414\n",
            "Epoch: 138, Loss: 3.259772300720215\n",
            "Epoch: 139, Loss: 3.2582924365997314\n",
            "Epoch: 140, Loss: 3.256822347640991\n",
            "Epoch: 141, Loss: 3.2553610801696777\n",
            "Epoch: 142, Loss: 3.2539122104644775\n",
            "Epoch: 143, Loss: 3.252476453781128\n",
            "Epoch: 144, Loss: 3.2510533332824707\n",
            "Epoch: 145, Loss: 3.2496399879455566\n",
            "Epoch: 146, Loss: 3.2482364177703857\n",
            "Epoch: 147, Loss: 3.24684739112854\n",
            "Epoch: 148, Loss: 3.2454686164855957\n",
            "Epoch: 149, Loss: 3.2440989017486572\n",
            "Epoch: 150, Loss: 3.2427401542663574\n",
            "Epoch: 151, Loss: 3.241389751434326\n",
            "Epoch: 152, Loss: 3.2400498390197754\n",
            "Epoch: 153, Loss: 3.238717555999756\n",
            "Epoch: 154, Loss: 3.2373979091644287\n",
            "Epoch: 155, Loss: 3.2360904216766357\n",
            "Epoch: 156, Loss: 3.234790802001953\n",
            "Epoch: 157, Loss: 3.23350191116333\n",
            "Epoch: 158, Loss: 3.2322216033935547\n",
            "Epoch: 159, Loss: 3.2309484481811523\n",
            "Epoch: 160, Loss: 3.2296862602233887\n",
            "Epoch: 161, Loss: 3.2284328937530518\n",
            "Epoch: 162, Loss: 3.227186441421509\n",
            "Epoch: 163, Loss: 3.225949764251709\n",
            "Epoch: 164, Loss: 3.2247207164764404\n",
            "Epoch: 165, Loss: 3.223504066467285\n",
            "Epoch: 166, Loss: 3.222294807434082\n",
            "Epoch: 167, Loss: 3.2210915088653564\n",
            "Epoch: 168, Loss: 3.219892740249634\n",
            "Epoch: 169, Loss: 3.218702554702759\n",
            "Epoch: 170, Loss: 3.217522382736206\n",
            "Epoch: 171, Loss: 3.2163496017456055\n",
            "Epoch: 172, Loss: 3.2151846885681152\n",
            "Epoch: 173, Loss: 3.214028835296631\n",
            "Epoch: 174, Loss: 3.212883472442627\n",
            "Epoch: 175, Loss: 3.211740493774414\n",
            "Epoch: 176, Loss: 3.210608720779419\n",
            "Epoch: 177, Loss: 3.209481716156006\n",
            "Epoch: 178, Loss: 3.2083630561828613\n",
            "Epoch: 179, Loss: 3.2072510719299316\n",
            "Epoch: 180, Loss: 3.2061479091644287\n",
            "Epoch: 181, Loss: 3.2050535678863525\n",
            "Epoch: 182, Loss: 3.203963041305542\n",
            "Epoch: 183, Loss: 3.202877998352051\n",
            "Epoch: 184, Loss: 3.2017996311187744\n",
            "Epoch: 185, Loss: 3.2007298469543457\n",
            "Epoch: 186, Loss: 3.1996681690216064\n",
            "Epoch: 187, Loss: 3.1986095905303955\n",
            "Epoch: 188, Loss: 3.1975574493408203\n",
            "Epoch: 189, Loss: 3.1965112686157227\n",
            "Epoch: 190, Loss: 3.195474863052368\n",
            "Epoch: 191, Loss: 3.194443464279175\n",
            "Epoch: 192, Loss: 3.1934189796447754\n",
            "Epoch: 193, Loss: 3.1923987865448\n",
            "Epoch: 194, Loss: 3.19138503074646\n",
            "Epoch: 195, Loss: 3.190375328063965\n",
            "Epoch: 196, Loss: 3.1893725395202637\n",
            "Epoch: 197, Loss: 3.188377857208252\n",
            "Epoch: 198, Loss: 3.187387466430664\n",
            "Epoch: 199, Loss: 3.1864025592803955\n",
            "hits@1: 0.282310, hits@5: 0.514099, hits@10: 0.625601, hits@20: 0.752540\n",
            "hits@50: 0.913953, hits@100: 0.988343\n",
            "map@1: 0.282310, map@5: 0.368097, map@10: 0.383082, map@20: 0.391755\n",
            "map@50: 0.397006, map@100: 0.398128\n",
            "ndcg@1: 0.282310, ndcg@5: 0.404448, ndcg@10: 0.440606, ndcg@20: 0.472533\n",
            "ndcg@50: 0.504757, ndcg@100: 0.516979\n"
          ]
        }
      ]
    }
  ]
}