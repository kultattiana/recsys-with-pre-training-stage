{
 "cells": [
  {
   "cell_type": "code",
   "execution_count": 34,
   "metadata": {
    "execution": {
     "iopub.execute_input": "2024-04-23T09:42:38.018811Z",
     "iopub.status.busy": "2024-04-23T09:42:38.018029Z",
     "iopub.status.idle": "2024-04-23T09:42:38.049917Z",
     "shell.execute_reply": "2024-04-23T09:42:38.049084Z",
     "shell.execute_reply.started": "2024-04-23T09:42:38.018763Z"
    },
    "id": "aktVQ6vk1CB8",
    "tags": []
   },
   "outputs": [],
   "source": [
    "import pandas as pd\n",
    "\n",
    "embeddings = pd.read_pickle('train_mles_embeddings.pickle')\n",
    "test_embeddings = pd.read_pickle('test_mles_embeddings.pickle')"
   ]
  },
  {
   "cell_type": "code",
   "execution_count": 56,
   "metadata": {
    "execution": {
     "iopub.execute_input": "2024-04-23T09:45:06.668995Z",
     "iopub.status.busy": "2024-04-23T09:45:06.668210Z",
     "iopub.status.idle": "2024-04-23T09:45:06.712937Z",
     "shell.execute_reply": "2024-04-23T09:45:06.712059Z",
     "shell.execute_reply.started": "2024-04-23T09:45:06.668951Z"
    },
    "id": "ieXBye1z6IkI",
    "tags": []
   },
   "outputs": [],
   "source": [
    "gowalla_all_ids = pd.read_pickle('gowalla_all_ids.pkl')"
   ]
  },
  {
   "cell_type": "code",
   "execution_count": 57,
   "metadata": {
    "execution": {
     "iopub.execute_input": "2024-04-23T09:45:07.158618Z",
     "iopub.status.busy": "2024-04-23T09:45:07.157904Z",
     "iopub.status.idle": "2024-04-23T09:45:07.183537Z",
     "shell.execute_reply": "2024-04-23T09:45:07.182690Z",
     "shell.execute_reply.started": "2024-04-23T09:45:07.158575Z"
    },
    "id": "m6qJgetUqUqV",
    "tags": []
   },
   "outputs": [],
   "source": [
    "import torch\n",
    "import numpy as np"
   ]
  },
  {
   "cell_type": "code",
   "execution_count": 58,
   "metadata": {
    "execution": {
     "iopub.execute_input": "2024-04-23T09:45:07.609892Z",
     "iopub.status.busy": "2024-04-23T09:45:07.609139Z",
     "iopub.status.idle": "2024-04-23T09:45:07.657549Z",
     "shell.execute_reply": "2024-04-23T09:45:07.656743Z",
     "shell.execute_reply.started": "2024-04-23T09:45:07.609848Z"
    },
    "id": "a0qlNDb1qhOk",
    "tags": []
   },
   "outputs": [],
   "source": [
    "from torch import nn\n",
    "num_classes = 186"
   ]
  },
  {
   "cell_type": "code",
   "execution_count": 61,
   "metadata": {
    "execution": {
     "iopub.execute_input": "2024-04-23T09:45:08.852858Z",
     "iopub.status.busy": "2024-04-23T09:45:08.852147Z",
     "iopub.status.idle": "2024-04-23T09:45:08.865675Z",
     "shell.execute_reply": "2024-04-23T09:45:08.864868Z",
     "shell.execute_reply.started": "2024-04-23T09:45:08.852816Z"
    },
    "id": "HNQTwj-yqAfK",
    "tags": []
   },
   "outputs": [],
   "source": [
    "class DownstreamModel(nn.Module):\n",
    "  def __init__(self):\n",
    "    super(DownstreamModel, self).__init__()\n",
    "    self.fc1 = nn.Linear(128, num_classes = 186)\n",
    "    self.fc2 = nn.Linear(500, 500)\n",
    "    self.fc3 = nn.Linear(500, 3883)\n",
    "    self.fc4 = nn.Linear(186, 186)\n",
    "    self.dropout = nn.Dropout(p=0.3)\n",
    "    self.relu = nn.ReLU()\n",
    "\n",
    "  def forward(self, x):\n",
    "    x = self.fc1(x)\n",
    "    return x"
   ]
  },
  {
   "cell_type": "code",
   "execution_count": 9,
   "metadata": {
    "execution": {
     "iopub.execute_input": "2024-04-07T13:49:11.079096Z",
     "iopub.status.busy": "2024-04-07T13:49:11.078113Z",
     "iopub.status.idle": "2024-04-07T13:49:11.117970Z",
     "shell.execute_reply": "2024-04-07T13:49:11.117323Z",
     "shell.execute_reply.started": "2024-04-07T13:49:11.079056Z"
    },
    "id": "m1Jy12ogNL3I",
    "tags": []
   },
   "outputs": [],
   "source": [
    "user_target = pd.read_csv('user_activity_target.csv')"
   ]
  },
  {
   "cell_type": "code",
   "execution_count": 50,
   "metadata": {
    "execution": {
     "iopub.execute_input": "2024-04-23T09:44:20.847098Z",
     "iopub.status.busy": "2024-04-23T09:44:20.846273Z",
     "iopub.status.idle": "2024-04-23T09:44:21.283972Z",
     "shell.execute_reply": "2024-04-23T09:44:21.283138Z",
     "shell.execute_reply.started": "2024-04-23T09:44:20.847055Z"
    },
    "tags": []
   },
   "outputs": [],
   "source": [
    "user_activity = pd.read_csv('gowalla_user_activity.csv')"
   ]
  },
  {
   "cell_type": "code",
   "execution_count": 11,
   "metadata": {
    "execution": {
     "iopub.execute_input": "2024-04-07T13:49:13.571723Z",
     "iopub.status.busy": "2024-04-07T13:49:13.571262Z",
     "iopub.status.idle": "2024-04-07T13:49:14.174817Z",
     "shell.execute_reply": "2024-04-07T13:49:14.174048Z",
     "shell.execute_reply.started": "2024-04-07T13:49:13.571690Z"
    },
    "tags": []
   },
   "outputs": [],
   "source": [
    "from collections import Counter\n",
    "import json\n",
    "\n",
    "test_probs_common = []\n",
    "for i in range(user_activity.shape[0]):\n",
    "    location_list = user_activity.loc[i, 'location_id_bin']\n",
    "    location_list = json.loads(location_list)\n",
    "    counter = Counter(location_list)\n",
    "    test_probs_common.append(counter.most_common(1)[0][0])\n",
    "    "
   ]
  },
  {
   "cell_type": "code",
   "execution_count": 68,
   "metadata": {
    "execution": {
     "iopub.execute_input": "2024-03-29T22:34:25.524299Z",
     "iopub.status.busy": "2024-03-29T22:34:25.523532Z",
     "iopub.status.idle": "2024-03-29T22:34:25.535810Z",
     "shell.execute_reply": "2024-03-29T22:34:25.535155Z",
     "shell.execute_reply.started": "2024-03-29T22:34:25.524254Z"
    },
    "tags": []
   },
   "outputs": [],
   "source": [
    "test_probs_common = torch.tensor(test_probs_common, dtype = torch.int64)"
   ]
  },
  {
   "cell_type": "code",
   "execution_count": null,
   "metadata": {
    "execution": {
     "iopub.status.busy": "2024-03-11T18:34:03.796571Z",
     "iopub.status.idle": "2024-03-11T18:34:03.797023Z",
     "shell.execute_reply": "2024-03-11T18:34:03.796847Z"
    },
    "id": "0BU8ars1PVPc",
    "tags": []
   },
   "outputs": [],
   "source": [
    "true_pred  = [gowalla_all_ids[1][x] for x in target]"
   ]
  },
  {
   "cell_type": "code",
   "execution_count": null,
   "metadata": {
    "execution": {
     "iopub.status.busy": "2024-03-11T18:34:03.797684Z",
     "iopub.status.idle": "2024-03-11T18:34:03.798129Z",
     "shell.execute_reply": "2024-03-11T18:34:03.797948Z"
    },
    "tags": []
   },
   "outputs": [],
   "source": [
    "train_target = true_pred[:14869]\n",
    "test_target = true_pred[14869:]"
   ]
  },
  {
   "cell_type": "code",
   "execution_count": null,
   "metadata": {
    "execution": {
     "iopub.status.busy": "2024-03-11T18:34:03.798844Z",
     "iopub.status.idle": "2024-03-11T18:34:03.799277Z",
     "shell.execute_reply": "2024-03-11T18:34:03.799121Z"
    },
    "tags": []
   },
   "outputs": [],
   "source": [
    "counter = 0\n",
    "for item in test_target:\n",
    "    if item not in train_target:\n",
    "        counter += 1\n",
    "print(counter)       "
   ]
  },
  {
   "cell_type": "code",
   "execution_count": 18,
   "metadata": {
    "colab": {
     "base_uri": "https://localhost:8080/"
    },
    "execution": {
     "iopub.execute_input": "2024-03-09T23:57:14.115770Z",
     "iopub.status.busy": "2024-03-09T23:57:14.114921Z",
     "iopub.status.idle": "2024-03-09T23:57:14.134702Z",
     "shell.execute_reply": "2024-03-09T23:57:14.134041Z",
     "shell.execute_reply.started": "2024-03-09T23:57:14.115733Z"
    },
    "id": "n4RFA_k04Z42",
    "outputId": "b16f63ac-4df9-4687-d16b-48b4ddad1ed7",
    "tags": []
   },
   "outputs": [
    {
     "name": "stdout",
     "output_type": "stream",
     "text": [
      "[2 0 1 3]\n",
      "[1 2 0 3]\n",
      "1\n"
     ]
    }
   ],
   "source": [
    "user_scores = np.array([0.3, 0.2, 0.4, 0.1])\n",
    "print((-1 * user_scores).argsort())\n",
    "print((-1 * user_scores).argsort().argsort())\n",
    "print((-1 * user_scores).argsort().argsort()[0])"
   ]
  },
  {
   "cell_type": "code",
   "execution_count": 62,
   "metadata": {
    "execution": {
     "iopub.execute_input": "2024-04-23T09:45:16.234424Z",
     "iopub.status.busy": "2024-04-23T09:45:16.233722Z",
     "iopub.status.idle": "2024-04-23T09:45:16.288879Z",
     "shell.execute_reply": "2024-04-23T09:45:16.287948Z",
     "shell.execute_reply.started": "2024-04-23T09:45:16.234383Z"
    },
    "id": "H0xx-jBrFUjz",
    "tags": []
   },
   "outputs": [],
   "source": [
    "def apk(actual, predicted, k=10):\n",
    "\n",
    "    if len(predicted) > k:\n",
    "        predicted = predicted[:k]\n",
    "\n",
    "    score = 0.0\n",
    "    num_hits = 0.0\n",
    "\n",
    "    for i, p in enumerate(predicted):\n",
    "        if p in actual and p not in predicted[:i]:\n",
    "            num_hits += 1.0\n",
    "            score += num_hits / (i + 1.0)\n",
    "\n",
    "    if not actual:\n",
    "        return 0.0\n",
    "\n",
    "    return score / min(len(actual), k)\n",
    "\n",
    "\n",
    "def mapk(y_prob, y, k=10):\n",
    "    predicted = [np.argsort(p_)[-k:][::-1] for p_ in y_prob]\n",
    "    actual = [[y_] for y_ in y]\n",
    "    return np.mean([apk(a, p, k) for a, p in zip(actual, predicted)])\n",
    "\n",
    "\n",
    "\n",
    "def hits_k(y_prob, y, k=10):\n",
    "    acc = []\n",
    "    for p_, y_ in zip(y_prob, y):\n",
    "        top_k = p_.argsort()[-k:][::-1]\n",
    "        acc += [1. if y_ in top_k else 0.]\n",
    "    return sum(acc) / len(acc)"
   ]
  },
  {
   "cell_type": "code",
   "execution_count": 63,
   "metadata": {
    "execution": {
     "iopub.execute_input": "2024-04-23T09:45:16.877299Z",
     "iopub.status.busy": "2024-04-23T09:45:16.876379Z",
     "iopub.status.idle": "2024-04-23T09:45:16.946457Z",
     "shell.execute_reply": "2024-04-23T09:45:16.945575Z",
     "shell.execute_reply.started": "2024-04-23T09:45:16.877248Z"
    },
    "tags": []
   },
   "outputs": [],
   "source": [
    "from torch.utils.data import Dataset, DataLoader"
   ]
  },
  {
   "cell_type": "code",
   "execution_count": 89,
   "metadata": {
    "execution": {
     "iopub.execute_input": "2024-04-23T10:00:09.367511Z",
     "iopub.status.busy": "2024-04-23T10:00:09.366743Z",
     "iopub.status.idle": "2024-04-23T10:00:09.401736Z",
     "shell.execute_reply": "2024-04-23T10:00:09.400825Z",
     "shell.execute_reply.started": "2024-04-23T10:00:09.367469Z"
    },
    "id": "y8oLfzMecEcm",
    "tags": []
   },
   "outputs": [],
   "source": [
    "class UserDataset():\n",
    "\n",
    "    def __init__(self):\n",
    "        embeddings = pd.read_pickle(r'train_mles_embeddings.pickle')\n",
    "        embeddings_tensor = torch.tensor(embeddings.values, requires_grad = False)\n",
    "        self.x = embeddings_tensor\n",
    "\n",
    "        user_target = pd.read_csv('user_activity_target.csv')\n",
    "        target = list(user_target['target_train'])\n",
    "        true_pred  = [gowalla_all_ids[1][x] for x in target]\n",
    "        self.y = true_pred\n",
    "\n",
    "\n",
    "    def __getitem__(self, index):\n",
    "        return self.x[index], self.y[index]\n",
    "\n",
    "    def __len__(self):\n",
    "        return len(self.x)"
   ]
  },
  {
   "cell_type": "code",
   "execution_count": 15,
   "metadata": {
    "execution": {
     "iopub.execute_input": "2024-04-07T13:49:22.865557Z",
     "iopub.status.busy": "2024-04-07T13:49:22.864650Z",
     "iopub.status.idle": "2024-04-07T13:49:22.878455Z",
     "shell.execute_reply": "2024-04-07T13:49:22.877721Z",
     "shell.execute_reply.started": "2024-04-07T13:49:22.865511Z"
    },
    "tags": []
   },
   "outputs": [],
   "source": [
    "class RandomDataset():\n",
    "    def __init__(self):\n",
    "        embeddings_tensor = torch.Tensor(size=[20001, 128])\n",
    "        self.x = embeddings_tensor.random_(-1, 1)\n",
    "        user_target = pd.read_csv('user_activity_target.csv')\n",
    "        target = list(user_target['target_train'])\n",
    "        true_pred  = [gowalla_all_ids[1][x] for x in target]\n",
    "        self.y = true_pred\n",
    "\n",
    "\n",
    "    def __getitem__(self, index):\n",
    "        return self.x[index], self.y[index]\n",
    "\n",
    "    def __len__(self):\n",
    "        return len(self.x)\n",
    "    "
   ]
  },
  {
   "cell_type": "code",
   "execution_count": 90,
   "metadata": {
    "execution": {
     "iopub.execute_input": "2024-04-23T10:00:10.593246Z",
     "iopub.status.busy": "2024-04-23T10:00:10.592375Z",
     "iopub.status.idle": "2024-04-23T10:00:10.620226Z",
     "shell.execute_reply": "2024-04-23T10:00:10.619305Z",
     "shell.execute_reply.started": "2024-04-23T10:00:10.593201Z"
    },
    "tags": []
   },
   "outputs": [],
   "source": [
    "class UserTestDataset():\n",
    "    def __init__(self):\n",
    "        embeddings = pd.read_pickle(r'test_mles_embeddings.pickle')\n",
    "        embeddings_tensor = torch.tensor(embeddings.values,requires_grad = False)\n",
    "        self.x = embeddings_tensor\n",
    "\n",
    "        user_target = pd.read_csv('user_activity_target.csv')\n",
    "        target = list(user_target['target_test'])\n",
    "        true_pred  = [gowalla_all_ids[1][x] for x in target]\n",
    "        self.y = true_pred\n",
    "\n",
    "\n",
    "    def __getitem__(self, index):\n",
    "        return self.x[index], self.y[index]\n",
    "\n",
    "    def __len__(self):\n",
    "        return len(self.x)"
   ]
  },
  {
   "cell_type": "code",
   "execution_count": 91,
   "metadata": {
    "colab": {
     "base_uri": "https://localhost:8080/"
    },
    "execution": {
     "iopub.execute_input": "2024-04-23T10:00:12.797753Z",
     "iopub.status.busy": "2024-04-23T10:00:12.796879Z",
     "iopub.status.idle": "2024-04-23T10:00:12.861376Z",
     "shell.execute_reply": "2024-04-23T10:00:12.860461Z",
     "shell.execute_reply.started": "2024-04-23T10:00:12.797706Z"
    },
    "id": "1jGn1hv8heng",
    "outputId": "7789298e-ac28-470a-93f8-d7446202b1de",
    "tags": []
   },
   "outputs": [
    {
     "name": "stdout",
     "output_type": "stream",
     "text": [
      "20001\n"
     ]
    }
   ],
   "source": [
    "train_dataset = UserDataset()\n",
    "print(train_dataset.__len__())"
   ]
  },
  {
   "cell_type": "code",
   "execution_count": 92,
   "metadata": {
    "execution": {
     "iopub.execute_input": "2024-04-23T10:00:14.914080Z",
     "iopub.status.busy": "2024-04-23T10:00:14.913337Z",
     "iopub.status.idle": "2024-04-23T10:00:14.966615Z",
     "shell.execute_reply": "2024-04-23T10:00:14.965681Z",
     "shell.execute_reply.started": "2024-04-23T10:00:14.914047Z"
    },
    "tags": []
   },
   "outputs": [
    {
     "name": "stdout",
     "output_type": "stream",
     "text": [
      "20001\n"
     ]
    }
   ],
   "source": [
    "test_dataset = UserTestDataset()\n",
    "print(test_dataset.__len__())"
   ]
  },
  {
   "cell_type": "code",
   "execution_count": 93,
   "metadata": {
    "execution": {
     "iopub.execute_input": "2024-04-23T10:00:17.183048Z",
     "iopub.status.busy": "2024-04-23T10:00:17.182251Z",
     "iopub.status.idle": "2024-04-23T10:00:17.235675Z",
     "shell.execute_reply": "2024-04-23T10:00:17.234757Z",
     "shell.execute_reply.started": "2024-04-23T10:00:17.183003Z"
    },
    "id": "WOQm8ql4hPth",
    "tags": []
   },
   "outputs": [],
   "source": [
    "train_dataloader = DataLoader(train_dataset, batch_size=64, shuffle=False)"
   ]
  },
  {
   "cell_type": "code",
   "execution_count": 94,
   "metadata": {
    "execution": {
     "iopub.execute_input": "2024-04-23T10:00:17.822484Z",
     "iopub.status.busy": "2024-04-23T10:00:17.821677Z",
     "iopub.status.idle": "2024-04-23T10:00:17.833751Z",
     "shell.execute_reply": "2024-04-23T10:00:17.833012Z",
     "shell.execute_reply.started": "2024-04-23T10:00:17.822432Z"
    },
    "tags": []
   },
   "outputs": [],
   "source": [
    "test_dataloader = DataLoader(test_dataset, batch_size = 64, shuffle = False)"
   ]
  },
  {
   "cell_type": "code",
   "execution_count": 95,
   "metadata": {
    "execution": {
     "iopub.execute_input": "2024-04-23T10:00:18.781161Z",
     "iopub.status.busy": "2024-04-23T10:00:18.779719Z",
     "iopub.status.idle": "2024-04-23T10:00:18.860079Z",
     "shell.execute_reply": "2024-04-23T10:00:18.859191Z",
     "shell.execute_reply.started": "2024-04-23T10:00:18.781112Z"
    },
    "id": "NyA5Q2L-kqYW",
    "tags": []
   },
   "outputs": [],
   "source": [
    "from sklearn.metrics import top_k_accuracy_score\n",
    "from sklearn.metrics import ndcg_score"
   ]
  },
  {
   "cell_type": "code",
   "execution_count": 96,
   "metadata": {
    "execution": {
     "iopub.execute_input": "2024-04-23T10:00:20.248766Z",
     "iopub.status.busy": "2024-04-23T10:00:20.247950Z",
     "iopub.status.idle": "2024-04-23T10:00:20.264910Z",
     "shell.execute_reply": "2024-04-23T10:00:20.264122Z",
     "shell.execute_reply.started": "2024-04-23T10:00:20.248718Z"
    },
    "id": "NMSyZaproOGp",
    "tags": []
   },
   "outputs": [],
   "source": [
    "labels = np.array(gowalla_all_ids[1].values())"
   ]
  },
  {
   "cell_type": "code",
   "execution_count": 97,
   "metadata": {
    "execution": {
     "iopub.execute_input": "2024-04-23T10:00:21.052667Z",
     "iopub.status.busy": "2024-04-23T10:00:21.051823Z",
     "iopub.status.idle": "2024-04-23T10:00:21.079551Z",
     "shell.execute_reply": "2024-04-23T10:00:21.078741Z",
     "shell.execute_reply.started": "2024-04-23T10:00:21.052622Z"
    },
    "id": "JBsG0bHypHCF",
    "tags": []
   },
   "outputs": [],
   "source": [
    "labels = np.arange(0, num_classes)"
   ]
  },
  {
   "cell_type": "code",
   "execution_count": 98,
   "metadata": {
    "execution": {
     "iopub.execute_input": "2024-04-23T10:00:23.674587Z",
     "iopub.status.busy": "2024-04-23T10:00:23.673814Z",
     "iopub.status.idle": "2024-04-23T10:00:23.690859Z",
     "shell.execute_reply": "2024-04-23T10:00:23.690007Z",
     "shell.execute_reply.started": "2024-04-23T10:00:23.674537Z"
    },
    "tags": []
   },
   "outputs": [],
   "source": [
    "def get_metrics_(probs, labels_batch, test_one_hot):\n",
    "    hits1 = top_k_accuracy_score(labels_batch, probs.cpu().detach().numpy(), k=1, labels = labels)\n",
    "    hits5 = top_k_accuracy_score(labels_batch, probs.cpu().detach().numpy(), k=5, labels = labels)\n",
    "    hits10 = top_k_accuracy_score(labels_batch, probs.cpu().detach().numpy(), k=10, labels = labels)\n",
    "    hits20 = top_k_accuracy_score(labels_batch, probs.cpu().detach().numpy(), k=20, labels = labels)\n",
    "    hits50= top_k_accuracy_score(labels_batch, probs.cpu().detach().numpy(), k=50, labels = labels)\n",
    "    hits100 = top_k_accuracy_score(labels_batch, probs.cpu().detach().numpy(), k=100, labels = labels)\n",
    "\n",
    "    map1 = mapk(y_prob=probs.cpu().detach().numpy(), y = labels_batch, k=1)\n",
    "    map5 = mapk(y_prob=probs.cpu().detach().numpy(), y = labels_batch, k=5)\n",
    "    map10 = mapk(y_prob=probs.cpu().detach().numpy(), y = labels_batch, k=10)\n",
    "    map20 = mapk(y_prob=probs.cpu().detach().numpy(), y = labels_batch, k=20)\n",
    "    map50 = mapk(y_prob=probs.cpu().detach().numpy(), y = labels_batch, k=50)\n",
    "    map100 = mapk(y_prob=probs.cpu().detach().numpy(), y = labels_batch, k=100)\n",
    "\n",
    "    ndcg1 = ndcg_score(test_one_hot, probs.cpu().detach().numpy(), k=1)\n",
    "    ndcg5 = ndcg_score(test_one_hot, probs.cpu().detach().numpy(), k=5)\n",
    "    ndcg10 = ndcg_score(test_one_hot, probs.cpu().detach().numpy(), k=10)\n",
    "    ndcg20 = ndcg_score(test_one_hot, probs.cpu().detach().numpy(), k=20)\n",
    "    ndcg50 = ndcg_score(test_one_hot, probs.cpu().detach().numpy(), k=50)\n",
    "    ndcg100 = ndcg_score(test_one_hot, probs.cpu().detach().numpy(), k=100)\n",
    "    return hits1, hits5, hits10, hits20, hits50, hits100, map1, map5, map10, map20, map50, map100, ndcg1, ndcg5, ndcg10, ndcg20, ndcg50, ndcg100"
   ]
  },
  {
   "cell_type": "code",
   "execution_count": 76,
   "metadata": {
    "execution": {
     "iopub.execute_input": "2024-04-23T09:46:45.690656Z",
     "iopub.status.busy": "2024-04-23T09:46:45.689834Z",
     "iopub.status.idle": "2024-04-23T09:46:45.711400Z",
     "shell.execute_reply": "2024-04-23T09:46:45.710608Z",
     "shell.execute_reply.started": "2024-04-23T09:46:45.690622Z"
    },
    "tags": []
   },
   "outputs": [],
   "source": [
    "def random_neq(l, r, s):\n",
    "    t = np.random.randint(l, r)\n",
    "    while t in s:\n",
    "        t = np.random.randint(l, r)\n",
    "    return t"
   ]
  },
  {
   "cell_type": "code",
   "execution_count": 77,
   "metadata": {
    "execution": {
     "iopub.execute_input": "2024-04-23T09:46:46.118097Z",
     "iopub.status.busy": "2024-04-23T09:46:46.117333Z",
     "iopub.status.idle": "2024-04-23T09:46:46.145417Z",
     "shell.execute_reply": "2024-04-23T09:46:46.144634Z",
     "shell.execute_reply.started": "2024-04-23T09:46:46.118053Z"
    },
    "tags": []
   },
   "outputs": [],
   "source": [
    "def hits_k(yscores, y, k=10):\n",
    "        acc, ndcg = 0., 0.\n",
    "        for user, user_scores in zip(y, yscores):\n",
    "            rank_actual = (-1 * user_scores).argsort().argsort()[0]\n",
    "            if rank_actual < k:\n",
    "                acc += 1.\n",
    "                ndcg += 1. / np.log2(rank_actual + 2)\n",
    "\n",
    "        return acc/float(len(y))"
   ]
  },
  {
   "cell_type": "code",
   "execution_count": 78,
   "metadata": {
    "execution": {
     "iopub.execute_input": "2024-04-23T09:46:46.530962Z",
     "iopub.status.busy": "2024-04-23T09:46:46.530117Z",
     "iopub.status.idle": "2024-04-23T09:46:46.557158Z",
     "shell.execute_reply": "2024-04-23T09:46:46.556370Z",
     "shell.execute_reply.started": "2024-04-23T09:46:46.530917Z"
    },
    "tags": []
   },
   "outputs": [
    {
     "data": {
      "text/plain": [
       "<torch.utils.data.dataloader.DataLoader at 0x7febc9fe0220>"
      ]
     },
     "execution_count": 78,
     "metadata": {},
     "output_type": "execute_result"
    }
   ],
   "source": [
    "test_dataloader"
   ]
  },
  {
   "cell_type": "code",
   "execution_count": 69,
   "metadata": {
    "execution": {
     "iopub.execute_input": "2024-03-29T22:34:46.737949Z",
     "iopub.status.busy": "2024-03-29T22:34:46.737282Z",
     "iopub.status.idle": "2024-03-29T22:34:57.297120Z",
     "shell.execute_reply": "2024-03-29T22:34:57.296418Z",
     "shell.execute_reply.started": "2024-03-29T22:34:46.737914Z"
    },
    "tags": []
   },
   "outputs": [
    {
     "name": "stdout",
     "output_type": "stream",
     "text": [
      "hits@1: 0.076696, hits@5: 0.076696, hits@10: 0.076696, hits@20: 0.076846\n",
      "hits@50: 0.080296, hits@100: 0.085696\n",
      "map@1: 0.076696, map@5: 0.076825, map@10: 0.076853, map@20: 0.077173\n",
      "map@50: 0.077848, map@100: 0.077981\n"
     ]
    }
   ],
   "source": [
    "user_target = pd.read_csv('user_activity_target.csv')\n",
    "target = list(user_target['target_test'])\n",
    "true_pred  = [gowalla_all_ids[1][x] for x in target]\n",
    "\n",
    "test_probs_common = []\n",
    "for i in range(user_activity.shape[0]):\n",
    "    location_list = user_activity.loc[i, 'location_id_bin']\n",
    "    location_list = json.loads(location_list)\n",
    "    counter = Counter(location_list)\n",
    "    test_probs_common.append(counter.most_common(1)[0][0])\n",
    "test_probs_common = torch.tensor(test_probs_common, dtype = torch.int64)\n",
    "test_probs = torch.zeros(20001, 3883)\n",
    "test_probs[torch.arange(len(test_probs)), test_probs_common] = 1\n",
    "test_one_hot = torch.zeros(20001, 3883)\n",
    "test_one_hot[torch.arange(20001), true_pred] = 1\n",
    "\n",
    "hits1, hits5, hits10, hits20, hits50, hits100, map1, map5, map10, map20, map50, map100 = get_metrics_(test_probs, true_pred)\n",
    "print_metrics(hits1, hits5, hits10, hits20, hits50, hits100, map1, map5, map10, map20, map50, map100)"
   ]
  },
  {
   "cell_type": "code",
   "execution_count": 116,
   "metadata": {
    "execution": {
     "iopub.execute_input": "2024-03-25T22:39:18.739305Z",
     "iopub.status.busy": "2024-03-25T22:39:18.738606Z",
     "iopub.status.idle": "2024-03-25T22:39:18.957808Z",
     "shell.execute_reply": "2024-03-25T22:39:18.957156Z",
     "shell.execute_reply.started": "2024-03-25T22:39:18.739262Z"
    },
    "tags": []
   },
   "outputs": [],
   "source": [
    "common_actions_set = []\n",
    "for locations in user_activity.location_id_bin:\n",
    "    locations = json.loads(locations)\n",
    "    common_actions_set.extend(set(locations))"
   ]
  },
  {
   "cell_type": "code",
   "execution_count": 117,
   "metadata": {
    "execution": {
     "iopub.execute_input": "2024-03-25T22:39:20.328513Z",
     "iopub.status.busy": "2024-03-25T22:39:20.327747Z",
     "iopub.status.idle": "2024-03-25T22:39:20.338942Z",
     "shell.execute_reply": "2024-03-25T22:39:20.338357Z",
     "shell.execute_reply.started": "2024-03-25T22:39:20.328472Z"
    },
    "tags": []
   },
   "outputs": [
    {
     "data": {
      "text/plain": [
       "84625"
      ]
     },
     "execution_count": 117,
     "metadata": {},
     "output_type": "execute_result"
    }
   ],
   "source": [
    "len(common_actions_set)"
   ]
  },
  {
   "cell_type": "code",
   "execution_count": 108,
   "metadata": {
    "execution": {
     "iopub.execute_input": "2024-03-25T20:02:18.227664Z",
     "iopub.status.busy": "2024-03-25T20:02:18.226979Z",
     "iopub.status.idle": "2024-03-25T20:02:18.241456Z",
     "shell.execute_reply": "2024-03-25T20:02:18.240769Z",
     "shell.execute_reply.started": "2024-03-25T20:02:18.227625Z"
    },
    "tags": []
   },
   "outputs": [
    {
     "data": {
      "text/plain": [
       "80"
      ]
     },
     "execution_count": 108,
     "metadata": {},
     "output_type": "execute_result"
    }
   ],
   "source": [
    "counter = Counter(common_actions_set)\n",
    "counter.most_common(1)[0][0]"
   ]
  },
  {
   "cell_type": "code",
   "execution_count": 99,
   "metadata": {
    "execution": {
     "iopub.execute_input": "2024-04-23T10:00:29.304796Z",
     "iopub.status.busy": "2024-04-23T10:00:29.303832Z",
     "iopub.status.idle": "2024-04-23T10:00:29.324417Z",
     "shell.execute_reply": "2024-04-23T10:00:29.323688Z",
     "shell.execute_reply.started": "2024-04-23T10:00:29.304745Z"
    },
    "tags": []
   },
   "outputs": [],
   "source": [
    "def test(model, test_dataloader, loss_fn):\n",
    "    metrics_val = []\n",
    "    model.eval()\n",
    "\n",
    "    for test_emb_batch, test_labels_batch in test_dataloader:\n",
    "\n",
    "        test_probs = model(test_emb_batch)\n",
    "        \n",
    "        test_pred = torch.randint(0, num_classes, (len(test_emb_batch),))\n",
    "        test_one_hot = torch.zeros(len(test_emb_batch), num_classes)\n",
    "        test_one_hot[torch.arange(len(test_one_hot)), test_labels_batch] = 1\n",
    "        loss = loss_fn(test_probs, test_one_hot)\n",
    "\n",
    "        hits1, hits5, hits10, hits20, hits50, hits100, map1, map5, map10, map20, map50, map100, ndcg1, ndcg5, ndcg10, ndcg20, ndcg50, ndcg100 \\\n",
    "        = get_metrics_(test_probs, test_labels_batch, test_one_hot)\n",
    "        metrics_val.append([hits1, hits5, hits10, hits20, hits50, hits100, map1, map5, map10, map20, map50, map100, ndcg1, ndcg5, ndcg10, ndcg20, ndcg50, ndcg100])\n",
    "        \n",
    "\n",
    "    mean = torch.Tensor(metrics_val).mean(axis=0)\n",
    "    test_hits1, test_hits5, test_hits10, test_hits20, test_hits50, test_hits100, test_map1, test_map5, test_map10, test_map20, test_map50, test_map100, \\\n",
    "    test_ndcg1, test_ndcg5, test_ndcg10, test_ndcg20, test_ndcg50, test_ndcg100 = mean\n",
    "    return test_hits1, test_hits5, test_hits10, test_hits20, test_hits50, test_hits100, test_map1, test_map5, test_map10, test_map20, test_map50, test_map100, \\\n",
    "    test_ndcg1, test_ndcg5, test_ndcg10, test_ndcg20, test_ndcg50, test_ndcg100"
   ]
  },
  {
   "cell_type": "code",
   "execution_count": 100,
   "metadata": {
    "execution": {
     "iopub.execute_input": "2024-04-23T10:00:30.070600Z",
     "iopub.status.busy": "2024-04-23T10:00:30.069912Z",
     "iopub.status.idle": "2024-04-23T10:00:30.252888Z",
     "shell.execute_reply": "2024-04-23T10:00:30.252076Z",
     "shell.execute_reply.started": "2024-04-23T10:00:30.070562Z"
    },
    "tags": []
   },
   "outputs": [],
   "source": [
    "def print_metrics(hits1, hits5, hits10, hits20, hits50, hits100, map1, map5, map10, map20, map50, map100, ndcg1, ndcg5, ndcg10, ndcg20, ndcg50, ndcg100):\n",
    "    print(f'hits@1: {hits1:.6f}, hits@5: {hits5:.6f}, hits@10: {hits10:.6f}, hits@20: {hits20:.6f}')\n",
    "    print(f'hits@50: {hits50:.6f}, hits@100: {hits100:.6f}')\n",
    "    print(f'map@1: {map1:.6f}, map@5: {map5:.6f}, map@10: {map10:.6f}, map@20: {map20:.6f}')\n",
    "    print(f'map@50: {map50:.6f}, map@100: {map100:.6f}')\n",
    "    print(f'ndcg@1: {ndcg1:.6f}, ndcg@5: {ndcg5:.6f}, ndcg@10: {ndcg10:.6f}, ndcg@20: {ndcg20:.6f}')\n",
    "    print(f'ndcg@50: {ndcg50:.6f}, ndcg@100: {ndcg100:.6f}')"
   ]
  },
  {
   "cell_type": "code",
   "execution_count": 101,
   "metadata": {
    "colab": {
     "base_uri": "https://localhost:8080/"
    },
    "execution": {
     "iopub.execute_input": "2024-04-23T10:00:30.819183Z",
     "iopub.status.busy": "2024-04-23T10:00:30.818436Z",
     "iopub.status.idle": "2024-04-23T10:00:31.244255Z",
     "shell.execute_reply": "2024-04-23T10:00:31.243411Z",
     "shell.execute_reply.started": "2024-04-23T10:00:30.819139Z"
    },
    "id": "txUJZEbWplD6",
    "outputId": "5c46487c-9531-4b60-845f-b975935b1e75",
    "tags": []
   },
   "outputs": [],
   "source": [
    "device = torch.device('cuda' if torch.cuda.is_available() else 'cpu')"
   ]
  },
  {
   "cell_type": "code",
   "execution_count": 102,
   "metadata": {
    "colab": {
     "base_uri": "https://localhost:8080/"
    },
    "execution": {
     "iopub.execute_input": "2024-04-23T10:00:32.873805Z",
     "iopub.status.busy": "2024-04-23T10:00:32.873048Z",
     "iopub.status.idle": "2024-04-23T10:01:03.770358Z",
     "shell.execute_reply": "2024-04-23T10:01:03.769507Z",
     "shell.execute_reply.started": "2024-04-23T10:00:32.873763Z"
    },
    "id": "jK2OckcDH3eX",
    "outputId": "9c9f58dc-494d-4dbc-851c-9fc76bb76281",
    "tags": []
   },
   "outputs": [
    {
     "name": "stdout",
     "output_type": "stream",
     "text": [
      "0\n",
      "1\n",
      "2\n",
      "3\n",
      "4\n",
      "5\n",
      "6\n",
      "7\n",
      "8\n",
      "9\n",
      "10\n",
      "11\n",
      "12\n",
      "13\n",
      "14\n",
      "15\n",
      "16\n",
      "17\n",
      "18\n",
      "19\n",
      "20\n",
      "21\n",
      "22\n",
      "23\n",
      "24\n",
      "25\n",
      "26\n",
      "27\n",
      "28\n",
      "29\n",
      "30\n",
      "31\n",
      "32\n",
      "33\n",
      "34\n",
      "35\n",
      "36\n",
      "37\n",
      "38\n",
      "39\n",
      "40\n",
      "41\n",
      "42\n",
      "43\n",
      "44\n",
      "45\n",
      "46\n",
      "47\n",
      "48\n",
      "49\n",
      "50\n",
      "51\n",
      "52\n",
      "53\n",
      "54\n",
      "55\n",
      "56\n",
      "57\n",
      "58\n",
      "59\n",
      "60\n",
      "61\n",
      "62\n",
      "63\n",
      "64\n",
      "65\n",
      "66\n",
      "67\n",
      "68\n",
      "69\n",
      "70\n",
      "71\n",
      "72\n",
      "73\n",
      "74\n",
      "75\n",
      "76\n",
      "77\n",
      "78\n",
      "79\n",
      "80\n",
      "81\n",
      "82\n",
      "83\n",
      "84\n",
      "85\n",
      "86\n",
      "87\n",
      "88\n",
      "89\n",
      "90\n",
      "91\n",
      "92\n",
      "93\n",
      "94\n",
      "95\n",
      "96\n",
      "97\n",
      "98\n",
      "99\n"
     ]
    }
   ],
   "source": [
    "loss_fn = nn.CrossEntropyLoss()\n",
    "model  = DownstreamModel()\n",
    "\n",
    "model.train()\n",
    "optimizer = torch.optim.Adam(model.parameters(), lr = 0.001)\n",
    "\n",
    "for i in range(100):\n",
    "    for emb_batch, labels_batch in train_dataloader:\n",
    "        optimizer.zero_grad()\n",
    "        probs = model(emb_batch)\n",
    "        pred = torch.argmax(probs, axis = 1)\n",
    "        one_hot = torch.zeros(len(emb_batch), 186)\n",
    "        one_hot[torch.arange(len(one_hot)), labels_batch] = 1\n",
    "        loss = loss_fn(probs, one_hot)\n",
    "        loss.backward()\n",
    "        optimizer.step()"
   ]
  },
  {
   "cell_type": "code",
   "execution_count": 103,
   "metadata": {
    "execution": {
     "iopub.execute_input": "2024-04-23T10:01:03.773283Z",
     "iopub.status.busy": "2024-04-23T10:01:03.772575Z",
     "iopub.status.idle": "2024-04-23T10:01:55.337264Z",
     "shell.execute_reply": "2024-04-23T10:01:55.336266Z",
     "shell.execute_reply.started": "2024-04-23T10:01:03.773240Z"
    },
    "tags": []
   },
   "outputs": [
    {
     "name": "stdout",
     "output_type": "stream",
     "text": [
      "hits@1: 0.038882, hits@5: 0.174852, hits@10: 0.313812, hits@20: 0.504027\n",
      "hits@50: 0.794544, hits@100: 0.974990\n",
      "map@1: 0.038882, map@5: 0.083155, map@10: 0.101334, map@20: 0.114455\n",
      "map@50: 0.123708, map@100: 0.126403\n",
      "ndcg@1: 0.038882, ndcg@5: 0.105640, ndcg@10: 0.150209, ndcg@20: 0.198200\n",
      "ndcg@50: 0.255846, ndcg@100: 0.285428\n"
     ]
    }
   ],
   "source": [
    "test_hits1, test_hits5, test_hits10, test_hits20, test_hits50, test_hits100, test_map1, test_map5, test_map10, test_map20, test_map50, test_map100, test_ndcg1, test_ndcg5, test_ndcg10, test_ndcg20, test_ndcg50, test_ndcg100 = test(model, test_dataloader, loss_fn)\n",
    " \n",
    "print_metrics(test_hits1, test_hits5, test_hits10, test_hits20, test_hits50, test_hits100, test_map1, test_map5, test_map10, test_map20, test_map50, test_map100, test_ndcg1, test_ndcg5, test_ndcg10, test_ndcg20, test_ndcg50, test_ndcg100)"
   ]
  },
  {
   "cell_type": "code",
   "execution_count": null,
   "metadata": {
    "tags": []
   },
   "outputs": [],
   "source": [
    "!python3 -m pip3 install catboost"
   ]
  },
  {
   "cell_type": "code",
   "execution_count": 77,
   "metadata": {
    "execution": {
     "iopub.execute_input": "2024-03-24T22:06:01.528047Z",
     "iopub.status.busy": "2024-03-24T22:06:01.527302Z",
     "iopub.status.idle": "2024-03-24T22:06:01.554969Z",
     "shell.execute_reply": "2024-03-24T22:06:01.554289Z",
     "shell.execute_reply.started": "2024-03-24T22:06:01.528008Z"
    },
    "tags": []
   },
   "outputs": [],
   "source": [
    "from sklearn.ensemble import GradientBoostingClassifier\n",
    "user_target = pd.read_csv('user_activity_target.csv')\n",
    "target_train = list(user_target['target_train'])\n",
    "target_test = list(user_target['target_test'])\n",
    "true_pred_train  = [gowalla_all_ids[1][x] for x in target_train]\n",
    "true_pred_test = [gowalla_all_ids[1][x] for x in target_test]"
   ]
  },
  {
   "cell_type": "code",
   "execution_count": 78,
   "metadata": {
    "execution": {
     "iopub.execute_input": "2024-03-24T22:06:02.241077Z",
     "iopub.status.busy": "2024-03-24T22:06:02.240293Z",
     "iopub.status.idle": "2024-03-24T22:06:04.052678Z",
     "shell.execute_reply": "2024-03-24T22:06:04.051946Z",
     "shell.execute_reply.started": "2024-03-24T22:06:02.241033Z"
    },
    "tags": []
   },
   "outputs": [],
   "source": [
    "embeddings = pd.read_pickle('train_nsp_embeddings.pickle')\n",
    "test_embeddings = pd.read_pickle('test_nsp_embeddings.pickle')\n",
    "\n",
    "X_train, X_test = embeddings[:500], test_embeddings[:500]\n",
    "y_train, y_test = true_pred_train[:500], true_pred_test[:500]"
   ]
  },
  {
   "cell_type": "code",
   "execution_count": 11,
   "metadata": {
    "execution": {
     "iopub.execute_input": "2024-03-11T23:34:56.498383Z",
     "iopub.status.busy": "2024-03-11T23:34:56.497793Z",
     "iopub.status.idle": "2024-03-11T23:34:56.541882Z",
     "shell.execute_reply": "2024-03-11T23:34:56.540919Z",
     "shell.execute_reply.started": "2024-03-11T23:34:56.498352Z"
    },
    "tags": []
   },
   "outputs": [],
   "source": [
    "from catboost import CatBoostClassifier"
   ]
  },
  {
   "cell_type": "code",
   "execution_count": 79,
   "metadata": {
    "execution": {
     "iopub.execute_input": "2024-03-24T22:06:07.432452Z",
     "iopub.status.busy": "2024-03-24T22:06:07.431697Z",
     "iopub.status.idle": "2024-03-24T22:09:20.072400Z",
     "shell.execute_reply": "2024-03-24T22:09:20.071726Z",
     "shell.execute_reply.started": "2024-03-24T22:06:07.432411Z"
    },
    "tags": []
   },
   "outputs": [
    {
     "name": "stdout",
     "output_type": "stream",
     "text": [
      "      Iter       Train Loss   Remaining Time \n",
      "         1           2.7816            1.87m\n",
      "         2           2.6549            2.53m\n",
      "         3           2.5576            2.69m\n",
      "         4           2.4767            2.75m\n",
      "         5           2.4066            2.74m\n",
      "         6           2.3455            2.71m\n",
      "         7           2.2902            2.68m\n",
      "         8           2.2400            2.63m\n",
      "         9           2.1932            2.58m\n",
      "        10           2.1506            2.53m\n",
      "        20           1.8208            1.92m\n",
      "        30           1.5910            1.28m\n",
      "        40           1.4122           38.48s\n",
      "        50           1.2664            0.00s\n"
     ]
    },
    {
     "data": {
      "text/html": [
       "<style>#sk-container-id-4 {color: black;background-color: white;}#sk-container-id-4 pre{padding: 0;}#sk-container-id-4 div.sk-toggleable {background-color: white;}#sk-container-id-4 label.sk-toggleable__label {cursor: pointer;display: block;width: 100%;margin-bottom: 0;padding: 0.3em;box-sizing: border-box;text-align: center;}#sk-container-id-4 label.sk-toggleable__label-arrow:before {content: \"▸\";float: left;margin-right: 0.25em;color: #696969;}#sk-container-id-4 label.sk-toggleable__label-arrow:hover:before {color: black;}#sk-container-id-4 div.sk-estimator:hover label.sk-toggleable__label-arrow:before {color: black;}#sk-container-id-4 div.sk-toggleable__content {max-height: 0;max-width: 0;overflow: hidden;text-align: left;background-color: #f0f8ff;}#sk-container-id-4 div.sk-toggleable__content pre {margin: 0.2em;color: black;border-radius: 0.25em;background-color: #f0f8ff;}#sk-container-id-4 input.sk-toggleable__control:checked~div.sk-toggleable__content {max-height: 200px;max-width: 100%;overflow: auto;}#sk-container-id-4 input.sk-toggleable__control:checked~label.sk-toggleable__label-arrow:before {content: \"▾\";}#sk-container-id-4 div.sk-estimator input.sk-toggleable__control:checked~label.sk-toggleable__label {background-color: #d4ebff;}#sk-container-id-4 div.sk-label input.sk-toggleable__control:checked~label.sk-toggleable__label {background-color: #d4ebff;}#sk-container-id-4 input.sk-hidden--visually {border: 0;clip: rect(1px 1px 1px 1px);clip: rect(1px, 1px, 1px, 1px);height: 1px;margin: -1px;overflow: hidden;padding: 0;position: absolute;width: 1px;}#sk-container-id-4 div.sk-estimator {font-family: monospace;background-color: #f0f8ff;border: 1px dotted black;border-radius: 0.25em;box-sizing: border-box;margin-bottom: 0.5em;}#sk-container-id-4 div.sk-estimator:hover {background-color: #d4ebff;}#sk-container-id-4 div.sk-parallel-item::after {content: \"\";width: 100%;border-bottom: 1px solid gray;flex-grow: 1;}#sk-container-id-4 div.sk-label:hover label.sk-toggleable__label {background-color: #d4ebff;}#sk-container-id-4 div.sk-serial::before {content: \"\";position: absolute;border-left: 1px solid gray;box-sizing: border-box;top: 0;bottom: 0;left: 50%;z-index: 0;}#sk-container-id-4 div.sk-serial {display: flex;flex-direction: column;align-items: center;background-color: white;padding-right: 0.2em;padding-left: 0.2em;position: relative;}#sk-container-id-4 div.sk-item {position: relative;z-index: 1;}#sk-container-id-4 div.sk-parallel {display: flex;align-items: stretch;justify-content: center;background-color: white;position: relative;}#sk-container-id-4 div.sk-item::before, #sk-container-id-4 div.sk-parallel-item::before {content: \"\";position: absolute;border-left: 1px solid gray;box-sizing: border-box;top: 0;bottom: 0;left: 50%;z-index: -1;}#sk-container-id-4 div.sk-parallel-item {display: flex;flex-direction: column;z-index: 1;position: relative;background-color: white;}#sk-container-id-4 div.sk-parallel-item:first-child::after {align-self: flex-end;width: 50%;}#sk-container-id-4 div.sk-parallel-item:last-child::after {align-self: flex-start;width: 50%;}#sk-container-id-4 div.sk-parallel-item:only-child::after {width: 0;}#sk-container-id-4 div.sk-dashed-wrapped {border: 1px dashed gray;margin: 0 0.4em 0.5em 0.4em;box-sizing: border-box;padding-bottom: 0.4em;background-color: white;}#sk-container-id-4 div.sk-label label {font-family: monospace;font-weight: bold;display: inline-block;line-height: 1.2em;}#sk-container-id-4 div.sk-label-container {text-align: center;}#sk-container-id-4 div.sk-container {/* jupyter's `normalize.less` sets `[hidden] { display: none; }` but bootstrap.min.css set `[hidden] { display: none !important; }` so we also need the `!important` here to be able to override the default hidden behavior on the sphinx rendered scikit-learn.org. See: https://github.com/scikit-learn/scikit-learn/issues/21755 */display: inline-block !important;position: relative;}#sk-container-id-4 div.sk-text-repr-fallback {display: none;}</style><div id=\"sk-container-id-4\" class=\"sk-top-container\"><div class=\"sk-text-repr-fallback\"><pre>GradientBoostingClassifier(learning_rate=0.01, max_depth=5, n_estimators=50,\n",
       "                           random_state=0, verbose=1)</pre><b>In a Jupyter environment, please rerun this cell to show the HTML representation or trust the notebook. <br />On GitHub, the HTML representation is unable to render, please try loading this page with nbviewer.org.</b></div><div class=\"sk-container\" hidden><div class=\"sk-item\"><div class=\"sk-estimator sk-toggleable\"><input class=\"sk-toggleable__control sk-hidden--visually\" id=\"sk-estimator-id-4\" type=\"checkbox\" checked><label for=\"sk-estimator-id-4\" class=\"sk-toggleable__label sk-toggleable__label-arrow\">GradientBoostingClassifier</label><div class=\"sk-toggleable__content\"><pre>GradientBoostingClassifier(learning_rate=0.01, max_depth=5, n_estimators=50,\n",
       "                           random_state=0, verbose=1)</pre></div></div></div></div></div>"
      ],
      "text/plain": [
       "GradientBoostingClassifier(learning_rate=0.01, max_depth=5, n_estimators=50,\n",
       "                           random_state=0, verbose=1)"
      ]
     },
     "execution_count": 79,
     "metadata": {},
     "output_type": "execute_result"
    }
   ],
   "source": [
    "clf = GradientBoostingClassifier(n_estimators = 50, learning_rate=0.01, max_depth=5, random_state=0, verbose = 1)\n",
    "clf.fit(X_train, y_train)"
   ]
  },
  {
   "cell_type": "code",
   "execution_count": 80,
   "metadata": {
    "execution": {
     "iopub.execute_input": "2024-03-24T22:09:20.074132Z",
     "iopub.status.busy": "2024-03-24T22:09:20.073530Z",
     "iopub.status.idle": "2024-03-24T22:09:20.128006Z",
     "shell.execute_reply": "2024-03-24T22:09:20.127429Z",
     "shell.execute_reply.started": "2024-03-24T22:09:20.074101Z"
    },
    "tags": []
   },
   "outputs": [
    {
     "data": {
      "text/plain": [
       "0.198"
      ]
     },
     "execution_count": 80,
     "metadata": {},
     "output_type": "execute_result"
    }
   ],
   "source": [
    "clf.score(X_test, y_test)"
   ]
  },
  {
   "cell_type": "code",
   "execution_count": 73,
   "metadata": {
    "execution": {
     "iopub.execute_input": "2024-03-09T14:33:27.594135Z",
     "iopub.status.busy": "2024-03-09T14:33:27.593442Z",
     "iopub.status.idle": "2024-03-09T14:33:27.614405Z",
     "shell.execute_reply": "2024-03-09T14:33:27.613452Z",
     "shell.execute_reply.started": "2024-03-09T14:33:27.594094Z"
    },
    "tags": []
   },
   "outputs": [
    {
     "data": {
      "text/html": [
       "<style>#sk-container-id-11 {color: black;background-color: white;}#sk-container-id-11 pre{padding: 0;}#sk-container-id-11 div.sk-toggleable {background-color: white;}#sk-container-id-11 label.sk-toggleable__label {cursor: pointer;display: block;width: 100%;margin-bottom: 0;padding: 0.3em;box-sizing: border-box;text-align: center;}#sk-container-id-11 label.sk-toggleable__label-arrow:before {content: \"▸\";float: left;margin-right: 0.25em;color: #696969;}#sk-container-id-11 label.sk-toggleable__label-arrow:hover:before {color: black;}#sk-container-id-11 div.sk-estimator:hover label.sk-toggleable__label-arrow:before {color: black;}#sk-container-id-11 div.sk-toggleable__content {max-height: 0;max-width: 0;overflow: hidden;text-align: left;background-color: #f0f8ff;}#sk-container-id-11 div.sk-toggleable__content pre {margin: 0.2em;color: black;border-radius: 0.25em;background-color: #f0f8ff;}#sk-container-id-11 input.sk-toggleable__control:checked~div.sk-toggleable__content {max-height: 200px;max-width: 100%;overflow: auto;}#sk-container-id-11 input.sk-toggleable__control:checked~label.sk-toggleable__label-arrow:before {content: \"▾\";}#sk-container-id-11 div.sk-estimator input.sk-toggleable__control:checked~label.sk-toggleable__label {background-color: #d4ebff;}#sk-container-id-11 div.sk-label input.sk-toggleable__control:checked~label.sk-toggleable__label {background-color: #d4ebff;}#sk-container-id-11 input.sk-hidden--visually {border: 0;clip: rect(1px 1px 1px 1px);clip: rect(1px, 1px, 1px, 1px);height: 1px;margin: -1px;overflow: hidden;padding: 0;position: absolute;width: 1px;}#sk-container-id-11 div.sk-estimator {font-family: monospace;background-color: #f0f8ff;border: 1px dotted black;border-radius: 0.25em;box-sizing: border-box;margin-bottom: 0.5em;}#sk-container-id-11 div.sk-estimator:hover {background-color: #d4ebff;}#sk-container-id-11 div.sk-parallel-item::after {content: \"\";width: 100%;border-bottom: 1px solid gray;flex-grow: 1;}#sk-container-id-11 div.sk-label:hover label.sk-toggleable__label {background-color: #d4ebff;}#sk-container-id-11 div.sk-serial::before {content: \"\";position: absolute;border-left: 1px solid gray;box-sizing: border-box;top: 0;bottom: 0;left: 50%;z-index: 0;}#sk-container-id-11 div.sk-serial {display: flex;flex-direction: column;align-items: center;background-color: white;padding-right: 0.2em;padding-left: 0.2em;position: relative;}#sk-container-id-11 div.sk-item {position: relative;z-index: 1;}#sk-container-id-11 div.sk-parallel {display: flex;align-items: stretch;justify-content: center;background-color: white;position: relative;}#sk-container-id-11 div.sk-item::before, #sk-container-id-11 div.sk-parallel-item::before {content: \"\";position: absolute;border-left: 1px solid gray;box-sizing: border-box;top: 0;bottom: 0;left: 50%;z-index: -1;}#sk-container-id-11 div.sk-parallel-item {display: flex;flex-direction: column;z-index: 1;position: relative;background-color: white;}#sk-container-id-11 div.sk-parallel-item:first-child::after {align-self: flex-end;width: 50%;}#sk-container-id-11 div.sk-parallel-item:last-child::after {align-self: flex-start;width: 50%;}#sk-container-id-11 div.sk-parallel-item:only-child::after {width: 0;}#sk-container-id-11 div.sk-dashed-wrapped {border: 1px dashed gray;margin: 0 0.4em 0.5em 0.4em;box-sizing: border-box;padding-bottom: 0.4em;background-color: white;}#sk-container-id-11 div.sk-label label {font-family: monospace;font-weight: bold;display: inline-block;line-height: 1.2em;}#sk-container-id-11 div.sk-label-container {text-align: center;}#sk-container-id-11 div.sk-container {/* jupyter's `normalize.less` sets `[hidden] { display: none; }` but bootstrap.min.css set `[hidden] { display: none !important; }` so we also need the `!important` here to be able to override the default hidden behavior on the sphinx rendered scikit-learn.org. See: https://github.com/scikit-learn/scikit-learn/issues/21755 */display: inline-block !important;position: relative;}#sk-container-id-11 div.sk-text-repr-fallback {display: none;}</style><div id=\"sk-container-id-11\" class=\"sk-top-container\"><div class=\"sk-text-repr-fallback\"><pre>KNeighborsClassifier(n_neighbors=100)</pre><b>In a Jupyter environment, please rerun this cell to show the HTML representation or trust the notebook. <br />On GitHub, the HTML representation is unable to render, please try loading this page with nbviewer.org.</b></div><div class=\"sk-container\" hidden><div class=\"sk-item\"><div class=\"sk-estimator sk-toggleable\"><input class=\"sk-toggleable__control sk-hidden--visually\" id=\"sk-estimator-id-11\" type=\"checkbox\" checked><label for=\"sk-estimator-id-11\" class=\"sk-toggleable__label sk-toggleable__label-arrow\">KNeighborsClassifier</label><div class=\"sk-toggleable__content\"><pre>KNeighborsClassifier(n_neighbors=100)</pre></div></div></div></div></div>"
      ],
      "text/plain": [
       "KNeighborsClassifier(n_neighbors=100)"
      ]
     },
     "execution_count": 73,
     "metadata": {},
     "output_type": "execute_result"
    }
   ],
   "source": [
    "from sklearn.neighbors import KNeighborsClassifier\n",
    "\n",
    "neigh = KNeighborsClassifier(n_neighbors=100)\n",
    "neigh.fit(embeddings, true_pred)"
   ]
  },
  {
   "cell_type": "code",
   "execution_count": 74,
   "metadata": {
    "execution": {
     "iopub.execute_input": "2024-03-09T14:33:30.494858Z",
     "iopub.status.busy": "2024-03-09T14:33:30.494031Z",
     "iopub.status.idle": "2024-03-09T14:33:30.836876Z",
     "shell.execute_reply": "2024-03-09T14:33:30.836024Z",
     "shell.execute_reply.started": "2024-03-09T14:33:30.494813Z"
    },
    "tags": []
   },
   "outputs": [
    {
     "data": {
      "text/plain": [
       "0.008333333333333333"
      ]
     },
     "execution_count": 74,
     "metadata": {},
     "output_type": "execute_result"
    }
   ],
   "source": [
    "neigh.score(X_test, y_test)"
   ]
  },
  {
   "cell_type": "code",
   "execution_count": 76,
   "metadata": {
    "execution": {
     "iopub.execute_input": "2024-03-09T14:33:52.582897Z",
     "iopub.status.busy": "2024-03-09T14:33:52.582383Z",
     "iopub.status.idle": "2024-03-09T14:33:52.595762Z",
     "shell.execute_reply": "2024-03-09T14:33:52.595082Z",
     "shell.execute_reply.started": "2024-03-09T14:33:52.582856Z"
    },
    "tags": []
   },
   "outputs": [
    {
     "data": {
      "text/plain": [
       "(18137,)"
      ]
     },
     "execution_count": 76,
     "metadata": {},
     "output_type": "execute_result"
    }
   ],
   "source": [
    "neigh.classes_.shape"
   ]
  }
 ],
 "metadata": {
  "colab": {
   "provenance": []
  },
  "kernelspec": {
   "display_name": "DataSphere Kernel",
   "language": "python",
   "name": "python3"
  },
  "language_info": {
   "codemirror_mode": {
    "name": "ipython",
    "version": 3
   },
   "file_extension": ".py",
   "mimetype": "text/x-python",
   "name": "python",
   "nbconvert_exporter": "python",
   "pygments_lexer": "ipython3",
   "version": "3.10.12"
  }
 },
 "nbformat": 4,
 "nbformat_minor": 4
}
