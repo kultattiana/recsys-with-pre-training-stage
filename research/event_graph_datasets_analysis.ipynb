{
  "nbformat": 4,
  "nbformat_minor": 0,
  "metadata": {
    "colab": {
      "provenance": []
    },
    "kernelspec": {
      "name": "python3",
      "display_name": "Python 3"
    },
    "language_info": {
      "name": "python"
    }
  },
  "cells": [
    {
      "cell_type": "code",
      "execution_count": null,
      "metadata": {
        "id": "DcfjHNMD3tfz"
      },
      "outputs": [],
      "source": [
        "import pandas as pd\n",
        "import requests\n",
        "import urllib\n",
        "import json\n",
        "from urllib.parse import urlencode\n",
        "import json\n",
        "import pandas as pd"
      ]
    },
    {
      "cell_type": "markdown",
      "source": [
        "# Gowalla"
      ],
      "metadata": {
        "id": "2TpTylJMB4V8"
      }
    },
    {
      "cell_type": "markdown",
      "source": [
        "## Downloading"
      ],
      "metadata": {
        "id": "tRvIXsYDLbRs"
      }
    },
    {
      "cell_type": "code",
      "source": [
        "gowalla_total_checkin_df = dataset_txt_file_download('https://disk.yandex.ru/d/KVm7gIom6YooWA', 'Gowalla_totalCheckins.txt')"
      ],
      "metadata": {
        "id": "S-8MZoQ6B6G1"
      },
      "execution_count": null,
      "outputs": []
    },
    {
      "cell_type": "code",
      "source": [
        "gowalla_total_checkin_df.columns = ['user', 'check-in time', 'latitude', 'longitude', 'location_id']\n",
        "gowalla_total_checkin_df"
      ],
      "metadata": {
        "colab": {
          "base_uri": "https://localhost:8080/",
          "height": 424
        },
        "id": "q7oe0TmICadk",
        "outputId": "01d3e046-81c5-4e4f-cfd6-74d6f7da4df1"
      },
      "execution_count": null,
      "outputs": [
        {
          "output_type": "execute_result",
          "data": {
            "text/plain": [
              "           user         check-in time   latitude  longitude  location_id\n",
              "0             0  2010-10-19T23:55:27Z  30.235909 -97.795140        22847\n",
              "1             0  2010-10-18T22:17:43Z  30.269103 -97.749395       420315\n",
              "2             0  2010-10-17T23:42:03Z  30.255731 -97.763386       316637\n",
              "3             0  2010-10-17T19:26:05Z  30.263418 -97.757597        16516\n",
              "4             0  2010-10-16T18:50:42Z  30.274292 -97.740523      5535878\n",
              "...         ...                   ...        ...        ...          ...\n",
              "6442887  196578  2010-06-11T13:32:26Z  51.742988  -0.488065       906885\n",
              "6442888  196578  2010-06-11T13:26:45Z  51.746492  -0.490780       965121\n",
              "6442889  196578  2010-06-11T13:26:34Z  51.741916  -0.496729      1174322\n",
              "6442890  196585  2010-10-08T21:01:49Z  50.105516   8.571525       471724\n",
              "6442891  196585  2010-10-07T17:39:18Z  50.027812   8.785098      4555073\n",
              "\n",
              "[6442892 rows x 5 columns]"
            ],
            "text/html": [
              "\n",
              "  <div id=\"df-cc6d97ac-1d9c-479a-b31b-98f8d7e81417\" class=\"colab-df-container\">\n",
              "    <div>\n",
              "<style scoped>\n",
              "    .dataframe tbody tr th:only-of-type {\n",
              "        vertical-align: middle;\n",
              "    }\n",
              "\n",
              "    .dataframe tbody tr th {\n",
              "        vertical-align: top;\n",
              "    }\n",
              "\n",
              "    .dataframe thead th {\n",
              "        text-align: right;\n",
              "    }\n",
              "</style>\n",
              "<table border=\"1\" class=\"dataframe\">\n",
              "  <thead>\n",
              "    <tr style=\"text-align: right;\">\n",
              "      <th></th>\n",
              "      <th>user</th>\n",
              "      <th>check-in time</th>\n",
              "      <th>latitude</th>\n",
              "      <th>longitude</th>\n",
              "      <th>location_id</th>\n",
              "    </tr>\n",
              "  </thead>\n",
              "  <tbody>\n",
              "    <tr>\n",
              "      <th>0</th>\n",
              "      <td>0</td>\n",
              "      <td>2010-10-19T23:55:27Z</td>\n",
              "      <td>30.235909</td>\n",
              "      <td>-97.795140</td>\n",
              "      <td>22847</td>\n",
              "    </tr>\n",
              "    <tr>\n",
              "      <th>1</th>\n",
              "      <td>0</td>\n",
              "      <td>2010-10-18T22:17:43Z</td>\n",
              "      <td>30.269103</td>\n",
              "      <td>-97.749395</td>\n",
              "      <td>420315</td>\n",
              "    </tr>\n",
              "    <tr>\n",
              "      <th>2</th>\n",
              "      <td>0</td>\n",
              "      <td>2010-10-17T23:42:03Z</td>\n",
              "      <td>30.255731</td>\n",
              "      <td>-97.763386</td>\n",
              "      <td>316637</td>\n",
              "    </tr>\n",
              "    <tr>\n",
              "      <th>3</th>\n",
              "      <td>0</td>\n",
              "      <td>2010-10-17T19:26:05Z</td>\n",
              "      <td>30.263418</td>\n",
              "      <td>-97.757597</td>\n",
              "      <td>16516</td>\n",
              "    </tr>\n",
              "    <tr>\n",
              "      <th>4</th>\n",
              "      <td>0</td>\n",
              "      <td>2010-10-16T18:50:42Z</td>\n",
              "      <td>30.274292</td>\n",
              "      <td>-97.740523</td>\n",
              "      <td>5535878</td>\n",
              "    </tr>\n",
              "    <tr>\n",
              "      <th>...</th>\n",
              "      <td>...</td>\n",
              "      <td>...</td>\n",
              "      <td>...</td>\n",
              "      <td>...</td>\n",
              "      <td>...</td>\n",
              "    </tr>\n",
              "    <tr>\n",
              "      <th>6442887</th>\n",
              "      <td>196578</td>\n",
              "      <td>2010-06-11T13:32:26Z</td>\n",
              "      <td>51.742988</td>\n",
              "      <td>-0.488065</td>\n",
              "      <td>906885</td>\n",
              "    </tr>\n",
              "    <tr>\n",
              "      <th>6442888</th>\n",
              "      <td>196578</td>\n",
              "      <td>2010-06-11T13:26:45Z</td>\n",
              "      <td>51.746492</td>\n",
              "      <td>-0.490780</td>\n",
              "      <td>965121</td>\n",
              "    </tr>\n",
              "    <tr>\n",
              "      <th>6442889</th>\n",
              "      <td>196578</td>\n",
              "      <td>2010-06-11T13:26:34Z</td>\n",
              "      <td>51.741916</td>\n",
              "      <td>-0.496729</td>\n",
              "      <td>1174322</td>\n",
              "    </tr>\n",
              "    <tr>\n",
              "      <th>6442890</th>\n",
              "      <td>196585</td>\n",
              "      <td>2010-10-08T21:01:49Z</td>\n",
              "      <td>50.105516</td>\n",
              "      <td>8.571525</td>\n",
              "      <td>471724</td>\n",
              "    </tr>\n",
              "    <tr>\n",
              "      <th>6442891</th>\n",
              "      <td>196585</td>\n",
              "      <td>2010-10-07T17:39:18Z</td>\n",
              "      <td>50.027812</td>\n",
              "      <td>8.785098</td>\n",
              "      <td>4555073</td>\n",
              "    </tr>\n",
              "  </tbody>\n",
              "</table>\n",
              "<p>6442892 rows × 5 columns</p>\n",
              "</div>\n",
              "    <div class=\"colab-df-buttons\">\n",
              "\n",
              "  <div class=\"colab-df-container\">\n",
              "    <button class=\"colab-df-convert\" onclick=\"convertToInteractive('df-cc6d97ac-1d9c-479a-b31b-98f8d7e81417')\"\n",
              "            title=\"Convert this dataframe to an interactive table.\"\n",
              "            style=\"display:none;\">\n",
              "\n",
              "  <svg xmlns=\"http://www.w3.org/2000/svg\" height=\"24px\" viewBox=\"0 -960 960 960\">\n",
              "    <path d=\"M120-120v-720h720v720H120Zm60-500h600v-160H180v160Zm220 220h160v-160H400v160Zm0 220h160v-160H400v160ZM180-400h160v-160H180v160Zm440 0h160v-160H620v160ZM180-180h160v-160H180v160Zm440 0h160v-160H620v160Z\"/>\n",
              "  </svg>\n",
              "    </button>\n",
              "\n",
              "  <style>\n",
              "    .colab-df-container {\n",
              "      display:flex;\n",
              "      gap: 12px;\n",
              "    }\n",
              "\n",
              "    .colab-df-convert {\n",
              "      background-color: #E8F0FE;\n",
              "      border: none;\n",
              "      border-radius: 50%;\n",
              "      cursor: pointer;\n",
              "      display: none;\n",
              "      fill: #1967D2;\n",
              "      height: 32px;\n",
              "      padding: 0 0 0 0;\n",
              "      width: 32px;\n",
              "    }\n",
              "\n",
              "    .colab-df-convert:hover {\n",
              "      background-color: #E2EBFA;\n",
              "      box-shadow: 0px 1px 2px rgba(60, 64, 67, 0.3), 0px 1px 3px 1px rgba(60, 64, 67, 0.15);\n",
              "      fill: #174EA6;\n",
              "    }\n",
              "\n",
              "    .colab-df-buttons div {\n",
              "      margin-bottom: 4px;\n",
              "    }\n",
              "\n",
              "    [theme=dark] .colab-df-convert {\n",
              "      background-color: #3B4455;\n",
              "      fill: #D2E3FC;\n",
              "    }\n",
              "\n",
              "    [theme=dark] .colab-df-convert:hover {\n",
              "      background-color: #434B5C;\n",
              "      box-shadow: 0px 1px 3px 1px rgba(0, 0, 0, 0.15);\n",
              "      filter: drop-shadow(0px 1px 2px rgba(0, 0, 0, 0.3));\n",
              "      fill: #FFFFFF;\n",
              "    }\n",
              "  </style>\n",
              "\n",
              "    <script>\n",
              "      const buttonEl =\n",
              "        document.querySelector('#df-cc6d97ac-1d9c-479a-b31b-98f8d7e81417 button.colab-df-convert');\n",
              "      buttonEl.style.display =\n",
              "        google.colab.kernel.accessAllowed ? 'block' : 'none';\n",
              "\n",
              "      async function convertToInteractive(key) {\n",
              "        const element = document.querySelector('#df-cc6d97ac-1d9c-479a-b31b-98f8d7e81417');\n",
              "        const dataTable =\n",
              "          await google.colab.kernel.invokeFunction('convertToInteractive',\n",
              "                                                    [key], {});\n",
              "        if (!dataTable) return;\n",
              "\n",
              "        const docLinkHtml = 'Like what you see? Visit the ' +\n",
              "          '<a target=\"_blank\" href=https://colab.research.google.com/notebooks/data_table.ipynb>data table notebook</a>'\n",
              "          + ' to learn more about interactive tables.';\n",
              "        element.innerHTML = '';\n",
              "        dataTable['output_type'] = 'display_data';\n",
              "        await google.colab.output.renderOutput(dataTable, element);\n",
              "        const docLink = document.createElement('div');\n",
              "        docLink.innerHTML = docLinkHtml;\n",
              "        element.appendChild(docLink);\n",
              "      }\n",
              "    </script>\n",
              "  </div>\n",
              "\n",
              "\n",
              "<div id=\"df-edc4ec3a-2316-4035-afb8-ab48f66c4bbe\">\n",
              "  <button class=\"colab-df-quickchart\" onclick=\"quickchart('df-edc4ec3a-2316-4035-afb8-ab48f66c4bbe')\"\n",
              "            title=\"Suggest charts\"\n",
              "            style=\"display:none;\">\n",
              "\n",
              "<svg xmlns=\"http://www.w3.org/2000/svg\" height=\"24px\"viewBox=\"0 0 24 24\"\n",
              "     width=\"24px\">\n",
              "    <g>\n",
              "        <path d=\"M19 3H5c-1.1 0-2 .9-2 2v14c0 1.1.9 2 2 2h14c1.1 0 2-.9 2-2V5c0-1.1-.9-2-2-2zM9 17H7v-7h2v7zm4 0h-2V7h2v10zm4 0h-2v-4h2v4z\"/>\n",
              "    </g>\n",
              "</svg>\n",
              "  </button>\n",
              "\n",
              "<style>\n",
              "  .colab-df-quickchart {\n",
              "      --bg-color: #E8F0FE;\n",
              "      --fill-color: #1967D2;\n",
              "      --hover-bg-color: #E2EBFA;\n",
              "      --hover-fill-color: #174EA6;\n",
              "      --disabled-fill-color: #AAA;\n",
              "      --disabled-bg-color: #DDD;\n",
              "  }\n",
              "\n",
              "  [theme=dark] .colab-df-quickchart {\n",
              "      --bg-color: #3B4455;\n",
              "      --fill-color: #D2E3FC;\n",
              "      --hover-bg-color: #434B5C;\n",
              "      --hover-fill-color: #FFFFFF;\n",
              "      --disabled-bg-color: #3B4455;\n",
              "      --disabled-fill-color: #666;\n",
              "  }\n",
              "\n",
              "  .colab-df-quickchart {\n",
              "    background-color: var(--bg-color);\n",
              "    border: none;\n",
              "    border-radius: 50%;\n",
              "    cursor: pointer;\n",
              "    display: none;\n",
              "    fill: var(--fill-color);\n",
              "    height: 32px;\n",
              "    padding: 0;\n",
              "    width: 32px;\n",
              "  }\n",
              "\n",
              "  .colab-df-quickchart:hover {\n",
              "    background-color: var(--hover-bg-color);\n",
              "    box-shadow: 0 1px 2px rgba(60, 64, 67, 0.3), 0 1px 3px 1px rgba(60, 64, 67, 0.15);\n",
              "    fill: var(--button-hover-fill-color);\n",
              "  }\n",
              "\n",
              "  .colab-df-quickchart-complete:disabled,\n",
              "  .colab-df-quickchart-complete:disabled:hover {\n",
              "    background-color: var(--disabled-bg-color);\n",
              "    fill: var(--disabled-fill-color);\n",
              "    box-shadow: none;\n",
              "  }\n",
              "\n",
              "  .colab-df-spinner {\n",
              "    border: 2px solid var(--fill-color);\n",
              "    border-color: transparent;\n",
              "    border-bottom-color: var(--fill-color);\n",
              "    animation:\n",
              "      spin 1s steps(1) infinite;\n",
              "  }\n",
              "\n",
              "  @keyframes spin {\n",
              "    0% {\n",
              "      border-color: transparent;\n",
              "      border-bottom-color: var(--fill-color);\n",
              "      border-left-color: var(--fill-color);\n",
              "    }\n",
              "    20% {\n",
              "      border-color: transparent;\n",
              "      border-left-color: var(--fill-color);\n",
              "      border-top-color: var(--fill-color);\n",
              "    }\n",
              "    30% {\n",
              "      border-color: transparent;\n",
              "      border-left-color: var(--fill-color);\n",
              "      border-top-color: var(--fill-color);\n",
              "      border-right-color: var(--fill-color);\n",
              "    }\n",
              "    40% {\n",
              "      border-color: transparent;\n",
              "      border-right-color: var(--fill-color);\n",
              "      border-top-color: var(--fill-color);\n",
              "    }\n",
              "    60% {\n",
              "      border-color: transparent;\n",
              "      border-right-color: var(--fill-color);\n",
              "    }\n",
              "    80% {\n",
              "      border-color: transparent;\n",
              "      border-right-color: var(--fill-color);\n",
              "      border-bottom-color: var(--fill-color);\n",
              "    }\n",
              "    90% {\n",
              "      border-color: transparent;\n",
              "      border-bottom-color: var(--fill-color);\n",
              "    }\n",
              "  }\n",
              "</style>\n",
              "\n",
              "  <script>\n",
              "    async function quickchart(key) {\n",
              "      const quickchartButtonEl =\n",
              "        document.querySelector('#' + key + ' button');\n",
              "      quickchartButtonEl.disabled = true;  // To prevent multiple clicks.\n",
              "      quickchartButtonEl.classList.add('colab-df-spinner');\n",
              "      try {\n",
              "        const charts = await google.colab.kernel.invokeFunction(\n",
              "            'suggestCharts', [key], {});\n",
              "      } catch (error) {\n",
              "        console.error('Error during call to suggestCharts:', error);\n",
              "      }\n",
              "      quickchartButtonEl.classList.remove('colab-df-spinner');\n",
              "      quickchartButtonEl.classList.add('colab-df-quickchart-complete');\n",
              "    }\n",
              "    (() => {\n",
              "      let quickchartButtonEl =\n",
              "        document.querySelector('#df-edc4ec3a-2316-4035-afb8-ab48f66c4bbe button');\n",
              "      quickchartButtonEl.style.display =\n",
              "        google.colab.kernel.accessAllowed ? 'block' : 'none';\n",
              "    })();\n",
              "  </script>\n",
              "</div>\n",
              "    </div>\n",
              "  </div>\n"
            ]
          },
          "metadata": {},
          "execution_count": 8
        }
      ]
    },
    {
      "cell_type": "code",
      "source": [
        "gowalla_edges_df = dataset_txt_file_download('https://disk.yandex.ru/d/Sr3FpAa7WG4GdA', 'Gowalla_edges.txt')"
      ],
      "metadata": {
        "id": "zpdZpKmACwzr"
      },
      "execution_count": null,
      "outputs": []
    },
    {
      "cell_type": "code",
      "source": [
        "gowalla_edges_df.columns = ['1st friend', '2nd friend']\n",
        "gowalla_edges_df"
      ],
      "metadata": {
        "colab": {
          "base_uri": "https://localhost:8080/",
          "height": 424
        },
        "id": "CNk4EaRsC7I0",
        "outputId": "8adff6f7-8909-4047-fcc3-9ed843ee0e35"
      },
      "execution_count": null,
      "outputs": [
        {
          "output_type": "execute_result",
          "data": {
            "text/plain": [
              "         1st friend  2nd friend\n",
              "0                 0           1\n",
              "1                 0           2\n",
              "2                 0           3\n",
              "3                 0           4\n",
              "4                 0           5\n",
              "...             ...         ...\n",
              "1900649      196586      196539\n",
              "1900650      196587      196540\n",
              "1900651      196588      196540\n",
              "1900652      196589      196547\n",
              "1900653      196590      196561\n",
              "\n",
              "[1900654 rows x 2 columns]"
            ],
            "text/html": [
              "\n",
              "  <div id=\"df-6f559a82-328a-41ec-bd52-505f451c02cd\" class=\"colab-df-container\">\n",
              "    <div>\n",
              "<style scoped>\n",
              "    .dataframe tbody tr th:only-of-type {\n",
              "        vertical-align: middle;\n",
              "    }\n",
              "\n",
              "    .dataframe tbody tr th {\n",
              "        vertical-align: top;\n",
              "    }\n",
              "\n",
              "    .dataframe thead th {\n",
              "        text-align: right;\n",
              "    }\n",
              "</style>\n",
              "<table border=\"1\" class=\"dataframe\">\n",
              "  <thead>\n",
              "    <tr style=\"text-align: right;\">\n",
              "      <th></th>\n",
              "      <th>1st friend</th>\n",
              "      <th>2nd friend</th>\n",
              "    </tr>\n",
              "  </thead>\n",
              "  <tbody>\n",
              "    <tr>\n",
              "      <th>0</th>\n",
              "      <td>0</td>\n",
              "      <td>1</td>\n",
              "    </tr>\n",
              "    <tr>\n",
              "      <th>1</th>\n",
              "      <td>0</td>\n",
              "      <td>2</td>\n",
              "    </tr>\n",
              "    <tr>\n",
              "      <th>2</th>\n",
              "      <td>0</td>\n",
              "      <td>3</td>\n",
              "    </tr>\n",
              "    <tr>\n",
              "      <th>3</th>\n",
              "      <td>0</td>\n",
              "      <td>4</td>\n",
              "    </tr>\n",
              "    <tr>\n",
              "      <th>4</th>\n",
              "      <td>0</td>\n",
              "      <td>5</td>\n",
              "    </tr>\n",
              "    <tr>\n",
              "      <th>...</th>\n",
              "      <td>...</td>\n",
              "      <td>...</td>\n",
              "    </tr>\n",
              "    <tr>\n",
              "      <th>1900649</th>\n",
              "      <td>196586</td>\n",
              "      <td>196539</td>\n",
              "    </tr>\n",
              "    <tr>\n",
              "      <th>1900650</th>\n",
              "      <td>196587</td>\n",
              "      <td>196540</td>\n",
              "    </tr>\n",
              "    <tr>\n",
              "      <th>1900651</th>\n",
              "      <td>196588</td>\n",
              "      <td>196540</td>\n",
              "    </tr>\n",
              "    <tr>\n",
              "      <th>1900652</th>\n",
              "      <td>196589</td>\n",
              "      <td>196547</td>\n",
              "    </tr>\n",
              "    <tr>\n",
              "      <th>1900653</th>\n",
              "      <td>196590</td>\n",
              "      <td>196561</td>\n",
              "    </tr>\n",
              "  </tbody>\n",
              "</table>\n",
              "<p>1900654 rows × 2 columns</p>\n",
              "</div>\n",
              "    <div class=\"colab-df-buttons\">\n",
              "\n",
              "  <div class=\"colab-df-container\">\n",
              "    <button class=\"colab-df-convert\" onclick=\"convertToInteractive('df-6f559a82-328a-41ec-bd52-505f451c02cd')\"\n",
              "            title=\"Convert this dataframe to an interactive table.\"\n",
              "            style=\"display:none;\">\n",
              "\n",
              "  <svg xmlns=\"http://www.w3.org/2000/svg\" height=\"24px\" viewBox=\"0 -960 960 960\">\n",
              "    <path d=\"M120-120v-720h720v720H120Zm60-500h600v-160H180v160Zm220 220h160v-160H400v160Zm0 220h160v-160H400v160ZM180-400h160v-160H180v160Zm440 0h160v-160H620v160ZM180-180h160v-160H180v160Zm440 0h160v-160H620v160Z\"/>\n",
              "  </svg>\n",
              "    </button>\n",
              "\n",
              "  <style>\n",
              "    .colab-df-container {\n",
              "      display:flex;\n",
              "      gap: 12px;\n",
              "    }\n",
              "\n",
              "    .colab-df-convert {\n",
              "      background-color: #E8F0FE;\n",
              "      border: none;\n",
              "      border-radius: 50%;\n",
              "      cursor: pointer;\n",
              "      display: none;\n",
              "      fill: #1967D2;\n",
              "      height: 32px;\n",
              "      padding: 0 0 0 0;\n",
              "      width: 32px;\n",
              "    }\n",
              "\n",
              "    .colab-df-convert:hover {\n",
              "      background-color: #E2EBFA;\n",
              "      box-shadow: 0px 1px 2px rgba(60, 64, 67, 0.3), 0px 1px 3px 1px rgba(60, 64, 67, 0.15);\n",
              "      fill: #174EA6;\n",
              "    }\n",
              "\n",
              "    .colab-df-buttons div {\n",
              "      margin-bottom: 4px;\n",
              "    }\n",
              "\n",
              "    [theme=dark] .colab-df-convert {\n",
              "      background-color: #3B4455;\n",
              "      fill: #D2E3FC;\n",
              "    }\n",
              "\n",
              "    [theme=dark] .colab-df-convert:hover {\n",
              "      background-color: #434B5C;\n",
              "      box-shadow: 0px 1px 3px 1px rgba(0, 0, 0, 0.15);\n",
              "      filter: drop-shadow(0px 1px 2px rgba(0, 0, 0, 0.3));\n",
              "      fill: #FFFFFF;\n",
              "    }\n",
              "  </style>\n",
              "\n",
              "    <script>\n",
              "      const buttonEl =\n",
              "        document.querySelector('#df-6f559a82-328a-41ec-bd52-505f451c02cd button.colab-df-convert');\n",
              "      buttonEl.style.display =\n",
              "        google.colab.kernel.accessAllowed ? 'block' : 'none';\n",
              "\n",
              "      async function convertToInteractive(key) {\n",
              "        const element = document.querySelector('#df-6f559a82-328a-41ec-bd52-505f451c02cd');\n",
              "        const dataTable =\n",
              "          await google.colab.kernel.invokeFunction('convertToInteractive',\n",
              "                                                    [key], {});\n",
              "        if (!dataTable) return;\n",
              "\n",
              "        const docLinkHtml = 'Like what you see? Visit the ' +\n",
              "          '<a target=\"_blank\" href=https://colab.research.google.com/notebooks/data_table.ipynb>data table notebook</a>'\n",
              "          + ' to learn more about interactive tables.';\n",
              "        element.innerHTML = '';\n",
              "        dataTable['output_type'] = 'display_data';\n",
              "        await google.colab.output.renderOutput(dataTable, element);\n",
              "        const docLink = document.createElement('div');\n",
              "        docLink.innerHTML = docLinkHtml;\n",
              "        element.appendChild(docLink);\n",
              "      }\n",
              "    </script>\n",
              "  </div>\n",
              "\n",
              "\n",
              "<div id=\"df-21366b71-0400-422a-b91f-e5802004a93b\">\n",
              "  <button class=\"colab-df-quickchart\" onclick=\"quickchart('df-21366b71-0400-422a-b91f-e5802004a93b')\"\n",
              "            title=\"Suggest charts\"\n",
              "            style=\"display:none;\">\n",
              "\n",
              "<svg xmlns=\"http://www.w3.org/2000/svg\" height=\"24px\"viewBox=\"0 0 24 24\"\n",
              "     width=\"24px\">\n",
              "    <g>\n",
              "        <path d=\"M19 3H5c-1.1 0-2 .9-2 2v14c0 1.1.9 2 2 2h14c1.1 0 2-.9 2-2V5c0-1.1-.9-2-2-2zM9 17H7v-7h2v7zm4 0h-2V7h2v10zm4 0h-2v-4h2v4z\"/>\n",
              "    </g>\n",
              "</svg>\n",
              "  </button>\n",
              "\n",
              "<style>\n",
              "  .colab-df-quickchart {\n",
              "      --bg-color: #E8F0FE;\n",
              "      --fill-color: #1967D2;\n",
              "      --hover-bg-color: #E2EBFA;\n",
              "      --hover-fill-color: #174EA6;\n",
              "      --disabled-fill-color: #AAA;\n",
              "      --disabled-bg-color: #DDD;\n",
              "  }\n",
              "\n",
              "  [theme=dark] .colab-df-quickchart {\n",
              "      --bg-color: #3B4455;\n",
              "      --fill-color: #D2E3FC;\n",
              "      --hover-bg-color: #434B5C;\n",
              "      --hover-fill-color: #FFFFFF;\n",
              "      --disabled-bg-color: #3B4455;\n",
              "      --disabled-fill-color: #666;\n",
              "  }\n",
              "\n",
              "  .colab-df-quickchart {\n",
              "    background-color: var(--bg-color);\n",
              "    border: none;\n",
              "    border-radius: 50%;\n",
              "    cursor: pointer;\n",
              "    display: none;\n",
              "    fill: var(--fill-color);\n",
              "    height: 32px;\n",
              "    padding: 0;\n",
              "    width: 32px;\n",
              "  }\n",
              "\n",
              "  .colab-df-quickchart:hover {\n",
              "    background-color: var(--hover-bg-color);\n",
              "    box-shadow: 0 1px 2px rgba(60, 64, 67, 0.3), 0 1px 3px 1px rgba(60, 64, 67, 0.15);\n",
              "    fill: var(--button-hover-fill-color);\n",
              "  }\n",
              "\n",
              "  .colab-df-quickchart-complete:disabled,\n",
              "  .colab-df-quickchart-complete:disabled:hover {\n",
              "    background-color: var(--disabled-bg-color);\n",
              "    fill: var(--disabled-fill-color);\n",
              "    box-shadow: none;\n",
              "  }\n",
              "\n",
              "  .colab-df-spinner {\n",
              "    border: 2px solid var(--fill-color);\n",
              "    border-color: transparent;\n",
              "    border-bottom-color: var(--fill-color);\n",
              "    animation:\n",
              "      spin 1s steps(1) infinite;\n",
              "  }\n",
              "\n",
              "  @keyframes spin {\n",
              "    0% {\n",
              "      border-color: transparent;\n",
              "      border-bottom-color: var(--fill-color);\n",
              "      border-left-color: var(--fill-color);\n",
              "    }\n",
              "    20% {\n",
              "      border-color: transparent;\n",
              "      border-left-color: var(--fill-color);\n",
              "      border-top-color: var(--fill-color);\n",
              "    }\n",
              "    30% {\n",
              "      border-color: transparent;\n",
              "      border-left-color: var(--fill-color);\n",
              "      border-top-color: var(--fill-color);\n",
              "      border-right-color: var(--fill-color);\n",
              "    }\n",
              "    40% {\n",
              "      border-color: transparent;\n",
              "      border-right-color: var(--fill-color);\n",
              "      border-top-color: var(--fill-color);\n",
              "    }\n",
              "    60% {\n",
              "      border-color: transparent;\n",
              "      border-right-color: var(--fill-color);\n",
              "    }\n",
              "    80% {\n",
              "      border-color: transparent;\n",
              "      border-right-color: var(--fill-color);\n",
              "      border-bottom-color: var(--fill-color);\n",
              "    }\n",
              "    90% {\n",
              "      border-color: transparent;\n",
              "      border-bottom-color: var(--fill-color);\n",
              "    }\n",
              "  }\n",
              "</style>\n",
              "\n",
              "  <script>\n",
              "    async function quickchart(key) {\n",
              "      const quickchartButtonEl =\n",
              "        document.querySelector('#' + key + ' button');\n",
              "      quickchartButtonEl.disabled = true;  // To prevent multiple clicks.\n",
              "      quickchartButtonEl.classList.add('colab-df-spinner');\n",
              "      try {\n",
              "        const charts = await google.colab.kernel.invokeFunction(\n",
              "            'suggestCharts', [key], {});\n",
              "      } catch (error) {\n",
              "        console.error('Error during call to suggestCharts:', error);\n",
              "      }\n",
              "      quickchartButtonEl.classList.remove('colab-df-spinner');\n",
              "      quickchartButtonEl.classList.add('colab-df-quickchart-complete');\n",
              "    }\n",
              "    (() => {\n",
              "      let quickchartButtonEl =\n",
              "        document.querySelector('#df-21366b71-0400-422a-b91f-e5802004a93b button');\n",
              "      quickchartButtonEl.style.display =\n",
              "        google.colab.kernel.accessAllowed ? 'block' : 'none';\n",
              "    })();\n",
              "  </script>\n",
              "</div>\n",
              "    </div>\n",
              "  </div>\n"
            ]
          },
          "metadata": {},
          "execution_count": 10
        }
      ]
    },
    {
      "cell_type": "markdown",
      "source": [
        "## Analytics"
      ],
      "metadata": {
        "id": "tff0tf-zLge5"
      }
    },
    {
      "cell_type": "markdown",
      "source": [
        "Число юзеров, которые чек-инились"
      ],
      "metadata": {
        "id": "ng45DMzNQcmX"
      }
    },
    {
      "cell_type": "code",
      "source": [
        "len(gowalla_total_checkin_df.user.unique())"
      ],
      "metadata": {
        "colab": {
          "base_uri": "https://localhost:8080/"
        },
        "outputId": "2c63858b-8548-4ba8-d93f-37b8b664706c",
        "id": "b27zeCclLxMQ"
      },
      "execution_count": null,
      "outputs": [
        {
          "output_type": "execute_result",
          "data": {
            "text/plain": [
              "107092"
            ]
          },
          "metadata": {},
          "execution_count": 44
        }
      ]
    },
    {
      "cell_type": "markdown",
      "source": [
        "Максимальное количество чек-инов у одного юзера - 2175\n",
        "\n",
        "Минимальное количество чек-инов - 1"
      ],
      "metadata": {
        "id": "gl5G6hWbLxMl"
      }
    },
    {
      "cell_type": "code",
      "source": [
        "gowalla_total_checkin_df.user.value_counts()"
      ],
      "metadata": {
        "colab": {
          "base_uri": "https://localhost:8080/"
        },
        "outputId": "38dde37a-1c81-4cff-e8fe-d38e0cbd72b3",
        "id": "IYOPSjUCLxMm"
      },
      "execution_count": null,
      "outputs": [
        {
          "output_type": "execute_result",
          "data": {
            "text/plain": [
              "10971     2175\n",
              "776       2175\n",
              "18931     2150\n",
              "49918     2125\n",
              "620       2125\n",
              "          ... \n",
              "146467       1\n",
              "93418        1\n",
              "93385        1\n",
              "93288        1\n",
              "82641        1\n",
              "Name: user, Length: 107092, dtype: int64"
            ]
          },
          "metadata": {},
          "execution_count": 45
        }
      ]
    },
    {
      "cell_type": "markdown",
      "source": [
        "Количество Nan в каждой колонке"
      ],
      "metadata": {
        "id": "CSP8yHr7LxMn"
      }
    },
    {
      "cell_type": "code",
      "source": [
        "gowalla_total_checkin_df[gowalla_total_checkin_df.columns[gowalla_total_checkin_df.isnull().any()]].isnull().sum()"
      ],
      "metadata": {
        "colab": {
          "base_uri": "https://localhost:8080/"
        },
        "outputId": "8ffce93b-2cd5-4106-9aa5-e5d348c7a472",
        "id": "jbhSVFzeLxMo"
      },
      "execution_count": null,
      "outputs": [
        {
          "output_type": "execute_result",
          "data": {
            "text/plain": [
              "Series([], dtype: float64)"
            ]
          },
          "metadata": {},
          "execution_count": 47
        }
      ]
    },
    {
      "cell_type": "markdown",
      "source": [
        "Процент Nan  в каждой колонке"
      ],
      "metadata": {
        "id": "cXnZSaUrLxMo"
      }
    },
    {
      "cell_type": "code",
      "source": [
        "gowalla_total_checkin_df[gowalla_total_checkin_df.columns[gowalla_total_checkin_df.isnull().any()]].isnull().sum() * 100 / gowalla_total_checkin_df.shape[0]"
      ],
      "metadata": {
        "colab": {
          "base_uri": "https://localhost:8080/"
        },
        "outputId": "ee61c1e5-dfba-45d8-a65e-1a9cb92aac18",
        "id": "2h9PMOsHLxMo"
      },
      "execution_count": null,
      "outputs": [
        {
          "output_type": "execute_result",
          "data": {
            "text/plain": [
              "Series([], dtype: float64)"
            ]
          },
          "metadata": {},
          "execution_count": 48
        }
      ]
    },
    {
      "cell_type": "markdown",
      "source": [
        "Нет пустых ячеек и строк"
      ],
      "metadata": {
        "id": "AGBwRNIwLxMp"
      }
    },
    {
      "cell_type": "code",
      "source": [
        "gowalla_total_checkin_df[gowalla_total_checkin_df.isna().any(axis=1)]"
      ],
      "metadata": {
        "colab": {
          "base_uri": "https://localhost:8080/",
          "height": 53
        },
        "outputId": "76a83534-5390-4500-991f-897da32b1920",
        "id": "7r_0B765LxMp"
      },
      "execution_count": null,
      "outputs": [
        {
          "output_type": "execute_result",
          "data": {
            "text/plain": [
              "Empty DataFrame\n",
              "Columns: [user, check-in time, latitude, longitude, location_id]\n",
              "Index: []"
            ],
            "text/html": [
              "\n",
              "  <div id=\"df-aab6f1c5-260a-4650-aa1b-62f3db020f2f\" class=\"colab-df-container\">\n",
              "    <div>\n",
              "<style scoped>\n",
              "    .dataframe tbody tr th:only-of-type {\n",
              "        vertical-align: middle;\n",
              "    }\n",
              "\n",
              "    .dataframe tbody tr th {\n",
              "        vertical-align: top;\n",
              "    }\n",
              "\n",
              "    .dataframe thead th {\n",
              "        text-align: right;\n",
              "    }\n",
              "</style>\n",
              "<table border=\"1\" class=\"dataframe\">\n",
              "  <thead>\n",
              "    <tr style=\"text-align: right;\">\n",
              "      <th></th>\n",
              "      <th>user</th>\n",
              "      <th>check-in time</th>\n",
              "      <th>latitude</th>\n",
              "      <th>longitude</th>\n",
              "      <th>location_id</th>\n",
              "    </tr>\n",
              "  </thead>\n",
              "  <tbody>\n",
              "  </tbody>\n",
              "</table>\n",
              "</div>\n",
              "    <div class=\"colab-df-buttons\">\n",
              "\n",
              "  <div class=\"colab-df-container\">\n",
              "    <button class=\"colab-df-convert\" onclick=\"convertToInteractive('df-aab6f1c5-260a-4650-aa1b-62f3db020f2f')\"\n",
              "            title=\"Convert this dataframe to an interactive table.\"\n",
              "            style=\"display:none;\">\n",
              "\n",
              "  <svg xmlns=\"http://www.w3.org/2000/svg\" height=\"24px\" viewBox=\"0 -960 960 960\">\n",
              "    <path d=\"M120-120v-720h720v720H120Zm60-500h600v-160H180v160Zm220 220h160v-160H400v160Zm0 220h160v-160H400v160ZM180-400h160v-160H180v160Zm440 0h160v-160H620v160ZM180-180h160v-160H180v160Zm440 0h160v-160H620v160Z\"/>\n",
              "  </svg>\n",
              "    </button>\n",
              "\n",
              "  <style>\n",
              "    .colab-df-container {\n",
              "      display:flex;\n",
              "      gap: 12px;\n",
              "    }\n",
              "\n",
              "    .colab-df-convert {\n",
              "      background-color: #E8F0FE;\n",
              "      border: none;\n",
              "      border-radius: 50%;\n",
              "      cursor: pointer;\n",
              "      display: none;\n",
              "      fill: #1967D2;\n",
              "      height: 32px;\n",
              "      padding: 0 0 0 0;\n",
              "      width: 32px;\n",
              "    }\n",
              "\n",
              "    .colab-df-convert:hover {\n",
              "      background-color: #E2EBFA;\n",
              "      box-shadow: 0px 1px 2px rgba(60, 64, 67, 0.3), 0px 1px 3px 1px rgba(60, 64, 67, 0.15);\n",
              "      fill: #174EA6;\n",
              "    }\n",
              "\n",
              "    .colab-df-buttons div {\n",
              "      margin-bottom: 4px;\n",
              "    }\n",
              "\n",
              "    [theme=dark] .colab-df-convert {\n",
              "      background-color: #3B4455;\n",
              "      fill: #D2E3FC;\n",
              "    }\n",
              "\n",
              "    [theme=dark] .colab-df-convert:hover {\n",
              "      background-color: #434B5C;\n",
              "      box-shadow: 0px 1px 3px 1px rgba(0, 0, 0, 0.15);\n",
              "      filter: drop-shadow(0px 1px 2px rgba(0, 0, 0, 0.3));\n",
              "      fill: #FFFFFF;\n",
              "    }\n",
              "  </style>\n",
              "\n",
              "    <script>\n",
              "      const buttonEl =\n",
              "        document.querySelector('#df-aab6f1c5-260a-4650-aa1b-62f3db020f2f button.colab-df-convert');\n",
              "      buttonEl.style.display =\n",
              "        google.colab.kernel.accessAllowed ? 'block' : 'none';\n",
              "\n",
              "      async function convertToInteractive(key) {\n",
              "        const element = document.querySelector('#df-aab6f1c5-260a-4650-aa1b-62f3db020f2f');\n",
              "        const dataTable =\n",
              "          await google.colab.kernel.invokeFunction('convertToInteractive',\n",
              "                                                    [key], {});\n",
              "        if (!dataTable) return;\n",
              "\n",
              "        const docLinkHtml = 'Like what you see? Visit the ' +\n",
              "          '<a target=\"_blank\" href=https://colab.research.google.com/notebooks/data_table.ipynb>data table notebook</a>'\n",
              "          + ' to learn more about interactive tables.';\n",
              "        element.innerHTML = '';\n",
              "        dataTable['output_type'] = 'display_data';\n",
              "        await google.colab.output.renderOutput(dataTable, element);\n",
              "        const docLink = document.createElement('div');\n",
              "        docLink.innerHTML = docLinkHtml;\n",
              "        element.appendChild(docLink);\n",
              "      }\n",
              "    </script>\n",
              "  </div>\n",
              "\n",
              "    </div>\n",
              "  </div>\n"
            ]
          },
          "metadata": {},
          "execution_count": 49
        }
      ]
    },
    {
      "cell_type": "code",
      "source": [
        "gowalla_total_checkin_df.dtypes"
      ],
      "metadata": {
        "colab": {
          "base_uri": "https://localhost:8080/"
        },
        "outputId": "b125a3d2-15fb-413f-ac1d-018288bf7c95",
        "id": "63dapI5SLxMq"
      },
      "execution_count": null,
      "outputs": [
        {
          "output_type": "execute_result",
          "data": {
            "text/plain": [
              "user               int64\n",
              "check-in time     object\n",
              "latitude         float64\n",
              "longitude        float64\n",
              "location_id        int64\n",
              "dtype: object"
            ]
          },
          "metadata": {},
          "execution_count": 51
        }
      ]
    },
    {
      "cell_type": "markdown",
      "source": [
        "В один момент времени - максимум 8 событий"
      ],
      "metadata": {
        "id": "T2tyMwibLxMq"
      }
    },
    {
      "cell_type": "code",
      "source": [
        "gowalla_total_checkin_df['check-in time'].value_counts()"
      ],
      "metadata": {
        "colab": {
          "base_uri": "https://localhost:8080/"
        },
        "outputId": "0622b065-ca24-4334-a978-16c1b52e3877",
        "id": "x74potzCLxMq"
      },
      "execution_count": null,
      "outputs": [
        {
          "output_type": "execute_result",
          "data": {
            "text/plain": [
              "2010-10-08T17:50:58Z    8\n",
              "2010-10-02T12:59:14Z    7\n",
              "2010-08-27T19:01:13Z    7\n",
              "2010-09-21T23:07:32Z    7\n",
              "2010-04-10T01:23:01Z    7\n",
              "                       ..\n",
              "2010-10-05T12:48:05Z    1\n",
              "2010-10-05T12:51:12Z    1\n",
              "2010-10-05T13:15:19Z    1\n",
              "2010-10-05T13:38:58Z    1\n",
              "2010-10-08T21:01:49Z    1\n",
              "Name: check-in time, Length: 5561957, dtype: int64"
            ]
          },
          "metadata": {},
          "execution_count": 52
        }
      ]
    },
    {
      "cell_type": "code",
      "source": [
        "from dateutil.parser import parse\n",
        "\n",
        "dates = pd.DataFrame()\n",
        "\n",
        "dates['event date'] = gowalla_total_checkin_df['check-in time']\n",
        "dates = dates.dropna()\n",
        "\n",
        "dates['event date'] = dates['event date'].transform(lambda x: parse(x).date())"
      ],
      "metadata": {
        "id": "J0MJ3WyRLxMr"
      },
      "execution_count": null,
      "outputs": []
    },
    {
      "cell_type": "markdown",
      "source": [
        "В один день - максимум 51318 событий"
      ],
      "metadata": {
        "id": "Zb-Ilq86QrNE"
      }
    },
    {
      "cell_type": "code",
      "source": [
        "dates['event date'].value_counts()"
      ],
      "metadata": {
        "colab": {
          "base_uri": "https://localhost:8080/"
        },
        "outputId": "53baf62a-dce8-45d5-ba5d-8a7d6c845484",
        "id": "63yID1alLxMr"
      },
      "execution_count": null,
      "outputs": [
        {
          "output_type": "execute_result",
          "data": {
            "text/plain": [
              "2010-10-16    51318\n",
              "2010-10-09    44896\n",
              "2010-10-15    44122\n",
              "2010-10-02    42828\n",
              "2010-10-17    40960\n",
              "              ...  \n",
              "2009-02-23        2\n",
              "2009-03-06        2\n",
              "2009-02-04        1\n",
              "2009-02-05        1\n",
              "2009-02-18        1\n",
              "Name: event date, Length: 597, dtype: int64"
            ]
          },
          "metadata": {},
          "execution_count": 54
        }
      ]
    },
    {
      "cell_type": "markdown",
      "source": [
        "Всего 597 дней, 2009 - 2010 годы"
      ],
      "metadata": {
        "id": "g9-fQsbDRSrg"
      }
    },
    {
      "cell_type": "code",
      "source": [
        "len(dates['event date'].unique())"
      ],
      "metadata": {
        "colab": {
          "base_uri": "https://localhost:8080/"
        },
        "outputId": "900de115-eb4b-4cd2-b6eb-0aed768cfae1",
        "id": "it33GRw2LxMs"
      },
      "execution_count": null,
      "outputs": [
        {
          "output_type": "execute_result",
          "data": {
            "text/plain": [
              "597"
            ]
          },
          "metadata": {},
          "execution_count": 55
        }
      ]
    },
    {
      "cell_type": "code",
      "source": [
        "dates['event date'].unique()"
      ],
      "metadata": {
        "colab": {
          "base_uri": "https://localhost:8080/"
        },
        "outputId": "57cc2819-dc59-45eb-d8fa-75628dc7a50c",
        "id": "JhTh9xKmLxMs"
      },
      "execution_count": null,
      "outputs": [
        {
          "output_type": "execute_result",
          "data": {
            "text/plain": [
              "array([datetime.date(2010, 10, 19), datetime.date(2010, 10, 18),\n",
              "       datetime.date(2010, 10, 17), datetime.date(2010, 10, 16),\n",
              "       datetime.date(2010, 10, 12), datetime.date(2010, 10, 11),\n",
              "       datetime.date(2010, 10, 10), datetime.date(2010, 10, 9),\n",
              "       datetime.date(2010, 10, 8), datetime.date(2010, 10, 7),\n",
              "       datetime.date(2010, 10, 6), datetime.date(2010, 10, 5),\n",
              "       datetime.date(2010, 10, 4), datetime.date(2010, 10, 3),\n",
              "       datetime.date(2010, 10, 2), datetime.date(2010, 10, 1),\n",
              "       datetime.date(2010, 9, 30), datetime.date(2010, 9, 29),\n",
              "       datetime.date(2010, 9, 28), datetime.date(2010, 9, 27),\n",
              "       datetime.date(2010, 9, 26), datetime.date(2010, 9, 25),\n",
              "       datetime.date(2010, 9, 24), datetime.date(2010, 9, 22),\n",
              "       datetime.date(2010, 9, 21), datetime.date(2010, 9, 17),\n",
              "       datetime.date(2010, 9, 15), datetime.date(2010, 9, 13),\n",
              "       datetime.date(2010, 9, 12), datetime.date(2010, 9, 11),\n",
              "       datetime.date(2010, 9, 9), datetime.date(2010, 9, 8),\n",
              "       datetime.date(2010, 9, 7), datetime.date(2010, 9, 6),\n",
              "       datetime.date(2010, 9, 5), datetime.date(2010, 9, 4),\n",
              "       datetime.date(2010, 9, 3), datetime.date(2010, 9, 1),\n",
              "       datetime.date(2010, 8, 31), datetime.date(2010, 8, 30),\n",
              "       datetime.date(2010, 8, 28), datetime.date(2010, 8, 26),\n",
              "       datetime.date(2010, 8, 25), datetime.date(2010, 8, 24),\n",
              "       datetime.date(2010, 8, 23), datetime.date(2010, 8, 21),\n",
              "       datetime.date(2010, 8, 20), datetime.date(2010, 8, 19),\n",
              "       datetime.date(2010, 8, 18), datetime.date(2010, 8, 17),\n",
              "       datetime.date(2010, 8, 14), datetime.date(2010, 8, 13),\n",
              "       datetime.date(2010, 8, 12), datetime.date(2010, 8, 9),\n",
              "       datetime.date(2010, 8, 8), datetime.date(2010, 8, 7),\n",
              "       datetime.date(2010, 8, 6), datetime.date(2010, 8, 5),\n",
              "       datetime.date(2010, 8, 4), datetime.date(2010, 8, 3),\n",
              "       datetime.date(2010, 8, 1), datetime.date(2010, 7, 31),\n",
              "       datetime.date(2010, 7, 29), datetime.date(2010, 7, 26),\n",
              "       datetime.date(2010, 7, 25), datetime.date(2010, 7, 23),\n",
              "       datetime.date(2010, 7, 22), datetime.date(2010, 7, 21),\n",
              "       datetime.date(2010, 7, 18), datetime.date(2010, 7, 17),\n",
              "       datetime.date(2010, 7, 13), datetime.date(2010, 7, 12),\n",
              "       datetime.date(2010, 7, 11), datetime.date(2010, 7, 10),\n",
              "       datetime.date(2010, 7, 9), datetime.date(2010, 7, 8),\n",
              "       datetime.date(2010, 7, 7), datetime.date(2010, 7, 5),\n",
              "       datetime.date(2010, 7, 4), datetime.date(2010, 7, 3),\n",
              "       datetime.date(2010, 7, 2), datetime.date(2010, 6, 29),\n",
              "       datetime.date(2010, 6, 28), datetime.date(2010, 6, 27),\n",
              "       datetime.date(2010, 6, 26), datetime.date(2010, 6, 25),\n",
              "       datetime.date(2010, 6, 24), datetime.date(2010, 6, 23),\n",
              "       datetime.date(2010, 6, 22), datetime.date(2010, 6, 21),\n",
              "       datetime.date(2010, 6, 20), datetime.date(2010, 6, 18),\n",
              "       datetime.date(2010, 6, 17), datetime.date(2010, 6, 16),\n",
              "       datetime.date(2010, 6, 15), datetime.date(2010, 6, 13),\n",
              "       datetime.date(2010, 6, 12), datetime.date(2010, 6, 10),\n",
              "       datetime.date(2010, 6, 9), datetime.date(2010, 6, 8),\n",
              "       datetime.date(2010, 6, 7), datetime.date(2010, 6, 6),\n",
              "       datetime.date(2010, 6, 5), datetime.date(2010, 6, 4),\n",
              "       datetime.date(2010, 6, 3), datetime.date(2010, 6, 2),\n",
              "       datetime.date(2010, 6, 1), datetime.date(2010, 5, 31),\n",
              "       datetime.date(2010, 5, 30), datetime.date(2010, 5, 27),\n",
              "       datetime.date(2010, 5, 26), datetime.date(2010, 5, 23),\n",
              "       datetime.date(2010, 5, 22), datetime.date(2010, 7, 24),\n",
              "       datetime.date(2010, 7, 15), datetime.date(2010, 7, 14),\n",
              "       datetime.date(2010, 7, 6), datetime.date(2010, 10, 21),\n",
              "       datetime.date(2010, 10, 20), datetime.date(2010, 10, 15),\n",
              "       datetime.date(2010, 9, 23), datetime.date(2010, 9, 20),\n",
              "       datetime.date(2010, 9, 19), datetime.date(2010, 9, 18),\n",
              "       datetime.date(2010, 9, 16), datetime.date(2010, 9, 14),\n",
              "       datetime.date(2010, 9, 10), datetime.date(2010, 9, 2),\n",
              "       datetime.date(2010, 8, 29), datetime.date(2010, 8, 27),\n",
              "       datetime.date(2010, 8, 16), datetime.date(2010, 8, 15),\n",
              "       datetime.date(2010, 7, 30), datetime.date(2010, 7, 28),\n",
              "       datetime.date(2010, 7, 27), datetime.date(2010, 7, 16),\n",
              "       datetime.date(2010, 7, 1), datetime.date(2010, 6, 30),\n",
              "       datetime.date(2010, 6, 19), datetime.date(2010, 6, 14),\n",
              "       datetime.date(2010, 6, 11), datetime.date(2010, 5, 28),\n",
              "       datetime.date(2010, 5, 25), datetime.date(2010, 5, 24),\n",
              "       datetime.date(2010, 5, 21), datetime.date(2010, 5, 20),\n",
              "       datetime.date(2010, 5, 19), datetime.date(2010, 5, 18),\n",
              "       datetime.date(2010, 5, 17), datetime.date(2010, 5, 16),\n",
              "       datetime.date(2010, 5, 13), datetime.date(2010, 5, 11),\n",
              "       datetime.date(2010, 5, 10), datetime.date(2010, 5, 9),\n",
              "       datetime.date(2010, 5, 8), datetime.date(2010, 5, 7),\n",
              "       datetime.date(2010, 5, 6), datetime.date(2010, 5, 5),\n",
              "       datetime.date(2010, 5, 4), datetime.date(2010, 5, 3),\n",
              "       datetime.date(2010, 5, 1), datetime.date(2010, 4, 30),\n",
              "       datetime.date(2010, 8, 11), datetime.date(2010, 3, 14),\n",
              "       datetime.date(2010, 3, 10), datetime.date(2010, 3, 8),\n",
              "       datetime.date(2010, 3, 7), datetime.date(2010, 3, 6),\n",
              "       datetime.date(2010, 3, 5), datetime.date(2010, 3, 4),\n",
              "       datetime.date(2010, 3, 3), datetime.date(2010, 3, 2),\n",
              "       datetime.date(2010, 3, 1), datetime.date(2010, 2, 26),\n",
              "       datetime.date(2010, 2, 25), datetime.date(2010, 2, 24),\n",
              "       datetime.date(2010, 2, 23), datetime.date(2010, 2, 22),\n",
              "       datetime.date(2010, 2, 21), datetime.date(2010, 2, 20),\n",
              "       datetime.date(2010, 2, 19), datetime.date(2010, 2, 17),\n",
              "       datetime.date(2010, 10, 14), datetime.date(2010, 10, 13),\n",
              "       datetime.date(2010, 8, 2), datetime.date(2010, 7, 20),\n",
              "       datetime.date(2010, 7, 19), datetime.date(2010, 4, 28),\n",
              "       datetime.date(2010, 4, 24), datetime.date(2010, 4, 3),\n",
              "       datetime.date(2010, 3, 20), datetime.date(2010, 3, 15),\n",
              "       datetime.date(2010, 3, 13), datetime.date(2010, 3, 11),\n",
              "       datetime.date(2010, 2, 16), datetime.date(2010, 2, 13),\n",
              "       datetime.date(2010, 2, 12), datetime.date(2010, 2, 9),\n",
              "       datetime.date(2010, 2, 8), datetime.date(2010, 2, 7),\n",
              "       datetime.date(2010, 2, 4), datetime.date(2010, 2, 1),\n",
              "       datetime.date(2010, 1, 31), datetime.date(2010, 1, 30),\n",
              "       datetime.date(2010, 1, 29), datetime.date(2010, 1, 28),\n",
              "       datetime.date(2010, 1, 27), datetime.date(2010, 4, 21),\n",
              "       datetime.date(2010, 4, 16), datetime.date(2010, 4, 14),\n",
              "       datetime.date(2010, 4, 12), datetime.date(2010, 4, 10),\n",
              "       datetime.date(2010, 4, 8), datetime.date(2010, 3, 23),\n",
              "       datetime.date(2010, 4, 27), datetime.date(2010, 4, 25),\n",
              "       datetime.date(2010, 4, 23), datetime.date(2009, 12, 2),\n",
              "       datetime.date(2009, 12, 1), datetime.date(2009, 11, 27),\n",
              "       datetime.date(2009, 11, 26), datetime.date(2009, 3, 17),\n",
              "       datetime.date(2010, 8, 10), datetime.date(2010, 2, 27),\n",
              "       datetime.date(2010, 2, 15), datetime.date(2010, 1, 24),\n",
              "       datetime.date(2010, 1, 23), datetime.date(2010, 1, 22),\n",
              "       datetime.date(2010, 1, 21), datetime.date(2010, 1, 20),\n",
              "       datetime.date(2010, 1, 19), datetime.date(2010, 1, 18),\n",
              "       datetime.date(2010, 1, 17), datetime.date(2010, 1, 16),\n",
              "       datetime.date(2010, 1, 15), datetime.date(2010, 1, 14),\n",
              "       datetime.date(2010, 1, 13), datetime.date(2010, 1, 12),\n",
              "       datetime.date(2010, 1, 10), datetime.date(2010, 1, 9),\n",
              "       datetime.date(2010, 1, 7), datetime.date(2010, 1, 6),\n",
              "       datetime.date(2010, 1, 5), datetime.date(2010, 1, 4),\n",
              "       datetime.date(2010, 1, 3), datetime.date(2010, 1, 1),\n",
              "       datetime.date(2009, 12, 31), datetime.date(2009, 12, 29),\n",
              "       datetime.date(2009, 12, 28), datetime.date(2009, 12, 27),\n",
              "       datetime.date(2009, 12, 25), datetime.date(2009, 12, 23),\n",
              "       datetime.date(2009, 12, 11), datetime.date(2009, 12, 10),\n",
              "       datetime.date(2010, 8, 22), datetime.date(2010, 5, 12),\n",
              "       datetime.date(2010, 4, 29), datetime.date(2010, 4, 22),\n",
              "       datetime.date(2010, 4, 20), datetime.date(2010, 4, 18),\n",
              "       datetime.date(2010, 4, 17), datetime.date(2010, 4, 13),\n",
              "       datetime.date(2010, 4, 11), datetime.date(2010, 4, 9),\n",
              "       datetime.date(2010, 4, 7), datetime.date(2010, 4, 4),\n",
              "       datetime.date(2010, 4, 2), datetime.date(2010, 4, 1),\n",
              "       datetime.date(2010, 3, 31), datetime.date(2010, 3, 30),\n",
              "       datetime.date(2010, 3, 27), datetime.date(2010, 3, 26),\n",
              "       datetime.date(2010, 3, 21), datetime.date(2010, 3, 19),\n",
              "       datetime.date(2010, 3, 18), datetime.date(2010, 3, 17),\n",
              "       datetime.date(2010, 3, 16), datetime.date(2010, 3, 12),\n",
              "       datetime.date(2010, 3, 9), datetime.date(2010, 2, 28),\n",
              "       datetime.date(2010, 2, 18), datetime.date(2010, 2, 14),\n",
              "       datetime.date(2010, 2, 10), datetime.date(2010, 2, 6),\n",
              "       datetime.date(2010, 2, 5), datetime.date(2010, 2, 3),\n",
              "       datetime.date(2010, 2, 2), datetime.date(2010, 4, 15),\n",
              "       datetime.date(2010, 4, 5), datetime.date(2010, 3, 29),\n",
              "       datetime.date(2010, 3, 25), datetime.date(2010, 3, 24),\n",
              "       datetime.date(2010, 2, 11), datetime.date(2010, 1, 26),\n",
              "       datetime.date(2010, 1, 11), datetime.date(2010, 1, 8),\n",
              "       datetime.date(2009, 12, 30), datetime.date(2009, 12, 22),\n",
              "       datetime.date(2009, 12, 21), datetime.date(2009, 12, 19),\n",
              "       datetime.date(2009, 12, 18), datetime.date(2009, 12, 17),\n",
              "       datetime.date(2009, 12, 15), datetime.date(2009, 12, 14),\n",
              "       datetime.date(2009, 12, 13), datetime.date(2009, 12, 12),\n",
              "       datetime.date(2009, 12, 9), datetime.date(2009, 12, 7),\n",
              "       datetime.date(2009, 12, 6), datetime.date(2009, 12, 5),\n",
              "       datetime.date(2009, 12, 3), datetime.date(2009, 11, 30),\n",
              "       datetime.date(2009, 11, 29), datetime.date(2009, 11, 28),\n",
              "       datetime.date(2009, 11, 25), datetime.date(2009, 11, 24),\n",
              "       datetime.date(2009, 11, 21), datetime.date(2009, 11, 20),\n",
              "       datetime.date(2009, 11, 19), datetime.date(2009, 11, 18),\n",
              "       datetime.date(2009, 11, 17), datetime.date(2009, 11, 13),\n",
              "       datetime.date(2009, 11, 12), datetime.date(2009, 11, 11),\n",
              "       datetime.date(2009, 11, 10), datetime.date(2009, 11, 9),\n",
              "       datetime.date(2009, 11, 7), datetime.date(2009, 11, 6),\n",
              "       datetime.date(2009, 11, 5), datetime.date(2009, 11, 2),\n",
              "       datetime.date(2009, 10, 31), datetime.date(2009, 10, 30),\n",
              "       datetime.date(2009, 10, 29), datetime.date(2009, 10, 28),\n",
              "       datetime.date(2009, 10, 26), datetime.date(2009, 10, 25),\n",
              "       datetime.date(2009, 10, 24), datetime.date(2009, 10, 23),\n",
              "       datetime.date(2009, 10, 22), datetime.date(2009, 10, 21),\n",
              "       datetime.date(2009, 10, 20), datetime.date(2009, 10, 19),\n",
              "       datetime.date(2009, 10, 18), datetime.date(2009, 10, 17),\n",
              "       datetime.date(2009, 10, 16), datetime.date(2009, 10, 15),\n",
              "       datetime.date(2009, 10, 14), datetime.date(2009, 10, 13),\n",
              "       datetime.date(2009, 10, 12), datetime.date(2009, 10, 11),\n",
              "       datetime.date(2009, 10, 10), datetime.date(2009, 10, 9),\n",
              "       datetime.date(2009, 10, 8), datetime.date(2009, 10, 7),\n",
              "       datetime.date(2009, 10, 6), datetime.date(2009, 10, 5),\n",
              "       datetime.date(2009, 10, 3), datetime.date(2009, 10, 2),\n",
              "       datetime.date(2009, 10, 1), datetime.date(2009, 9, 30),\n",
              "       datetime.date(2009, 9, 29), datetime.date(2009, 9, 28),\n",
              "       datetime.date(2009, 9, 27), datetime.date(2009, 9, 26),\n",
              "       datetime.date(2009, 9, 25), datetime.date(2009, 9, 24),\n",
              "       datetime.date(2009, 9, 23), datetime.date(2009, 9, 22),\n",
              "       datetime.date(2009, 9, 21), datetime.date(2009, 9, 20),\n",
              "       datetime.date(2009, 9, 19), datetime.date(2010, 5, 15),\n",
              "       datetime.date(2010, 4, 26), datetime.date(2010, 4, 19),\n",
              "       datetime.date(2010, 4, 6), datetime.date(2010, 3, 28),\n",
              "       datetime.date(2010, 3, 22), datetime.date(2010, 5, 29),\n",
              "       datetime.date(2010, 1, 25), datetime.date(2010, 1, 2),\n",
              "       datetime.date(2009, 12, 26), datetime.date(2009, 12, 24),\n",
              "       datetime.date(2009, 12, 20), datetime.date(2009, 12, 16),\n",
              "       datetime.date(2009, 12, 8), datetime.date(2009, 12, 4),\n",
              "       datetime.date(2009, 11, 22), datetime.date(2009, 11, 14),\n",
              "       datetime.date(2009, 11, 4), datetime.date(2009, 11, 3),\n",
              "       datetime.date(2009, 11, 1), datetime.date(2009, 10, 27),\n",
              "       datetime.date(2009, 6, 26), datetime.date(2009, 2, 5),\n",
              "       datetime.date(2009, 11, 23), datetime.date(2009, 11, 16),\n",
              "       datetime.date(2009, 11, 15), datetime.date(2009, 11, 8),\n",
              "       datetime.date(2010, 5, 14), datetime.date(2010, 5, 2),\n",
              "       datetime.date(2010, 10, 22), datetime.date(2009, 10, 4),\n",
              "       datetime.date(2009, 8, 10), datetime.date(2009, 4, 25),\n",
              "       datetime.date(2009, 3, 15), datetime.date(2009, 9, 9),\n",
              "       datetime.date(2009, 9, 8), datetime.date(2009, 9, 6),\n",
              "       datetime.date(2009, 9, 5), datetime.date(2009, 9, 3),\n",
              "       datetime.date(2009, 9, 2), datetime.date(2009, 8, 30),\n",
              "       datetime.date(2009, 8, 29), datetime.date(2009, 8, 28),\n",
              "       datetime.date(2009, 8, 27), datetime.date(2009, 8, 15),\n",
              "       datetime.date(2009, 8, 14), datetime.date(2009, 7, 19),\n",
              "       datetime.date(2009, 7, 18), datetime.date(2009, 5, 19),\n",
              "       datetime.date(2009, 4, 21), datetime.date(2009, 4, 18),\n",
              "       datetime.date(2009, 4, 17), datetime.date(2009, 9, 16),\n",
              "       datetime.date(2009, 8, 17), datetime.date(2009, 8, 7),\n",
              "       datetime.date(2009, 8, 2), datetime.date(2009, 8, 1),\n",
              "       datetime.date(2009, 7, 17), datetime.date(2009, 6, 30),\n",
              "       datetime.date(2009, 6, 19), datetime.date(2009, 6, 6),\n",
              "       datetime.date(2009, 5, 24), datetime.date(2009, 5, 22),\n",
              "       datetime.date(2009, 5, 21), datetime.date(2009, 9, 18),\n",
              "       datetime.date(2009, 9, 11), datetime.date(2009, 8, 25),\n",
              "       datetime.date(2009, 9, 12), datetime.date(2009, 8, 8),\n",
              "       datetime.date(2009, 7, 10), datetime.date(2009, 7, 9),\n",
              "       datetime.date(2009, 7, 8), datetime.date(2009, 7, 5),\n",
              "       datetime.date(2009, 9, 7), datetime.date(2009, 8, 26),\n",
              "       datetime.date(2009, 8, 24), datetime.date(2009, 8, 23),\n",
              "       datetime.date(2009, 8, 21), datetime.date(2009, 8, 20),\n",
              "       datetime.date(2009, 8, 13), datetime.date(2009, 8, 12),\n",
              "       datetime.date(2009, 8, 6), datetime.date(2009, 7, 31),\n",
              "       datetime.date(2009, 7, 28), datetime.date(2009, 7, 25),\n",
              "       datetime.date(2009, 7, 24), datetime.date(2009, 7, 23),\n",
              "       datetime.date(2009, 7, 22), datetime.date(2009, 7, 20),\n",
              "       datetime.date(2009, 7, 7), datetime.date(2009, 7, 6),\n",
              "       datetime.date(2009, 6, 10), datetime.date(2009, 6, 3),\n",
              "       datetime.date(2009, 5, 23), datetime.date(2009, 4, 24),\n",
              "       datetime.date(2009, 4, 20), datetime.date(2009, 4, 19),\n",
              "       datetime.date(2009, 4, 16), datetime.date(2009, 4, 14),\n",
              "       datetime.date(2009, 4, 13), datetime.date(2009, 4, 12),\n",
              "       datetime.date(2009, 4, 10), datetime.date(2009, 4, 8),\n",
              "       datetime.date(2009, 4, 7), datetime.date(2009, 4, 6),\n",
              "       datetime.date(2009, 4, 5), datetime.date(2009, 4, 4),\n",
              "       datetime.date(2009, 4, 3), datetime.date(2009, 3, 31),\n",
              "       datetime.date(2009, 3, 29), datetime.date(2009, 3, 25),\n",
              "       datetime.date(2009, 3, 24), datetime.date(2009, 3, 23),\n",
              "       datetime.date(2009, 3, 20), datetime.date(2009, 9, 15),\n",
              "       datetime.date(2009, 9, 14), datetime.date(2009, 9, 10),\n",
              "       datetime.date(2009, 9, 4), datetime.date(2009, 9, 1),\n",
              "       datetime.date(2009, 8, 31), datetime.date(2009, 8, 19),\n",
              "       datetime.date(2009, 8, 18), datetime.date(2009, 8, 5),\n",
              "       datetime.date(2009, 7, 30), datetime.date(2009, 7, 21),\n",
              "       datetime.date(2009, 7, 15), datetime.date(2009, 7, 13),\n",
              "       datetime.date(2009, 7, 3), datetime.date(2009, 6, 29),\n",
              "       datetime.date(2009, 6, 23), datetime.date(2009, 5, 26),\n",
              "       datetime.date(2009, 5, 14), datetime.date(2009, 5, 12),\n",
              "       datetime.date(2009, 5, 2), datetime.date(2009, 4, 11),\n",
              "       datetime.date(2009, 4, 9), datetime.date(2009, 3, 26),\n",
              "       datetime.date(2009, 3, 18), datetime.date(2009, 3, 16),\n",
              "       datetime.date(2009, 3, 14), datetime.date(2009, 3, 13),\n",
              "       datetime.date(2009, 3, 6), datetime.date(2009, 2, 23),\n",
              "       datetime.date(2009, 2, 18), datetime.date(2009, 2, 17),\n",
              "       datetime.date(2009, 2, 4), datetime.date(2009, 9, 17),\n",
              "       datetime.date(2009, 9, 13), datetime.date(2009, 6, 4),\n",
              "       datetime.date(2009, 8, 9), datetime.date(2009, 7, 14),\n",
              "       datetime.date(2009, 5, 5), datetime.date(2009, 6, 2),\n",
              "       datetime.date(2009, 8, 22), datetime.date(2009, 7, 12),\n",
              "       datetime.date(2009, 7, 4), datetime.date(2009, 7, 26),\n",
              "       datetime.date(2009, 5, 25), datetime.date(2009, 5, 18),\n",
              "       datetime.date(2009, 6, 25), datetime.date(2009, 8, 11),\n",
              "       datetime.date(2009, 5, 10), datetime.date(2009, 3, 22),\n",
              "       datetime.date(2009, 8, 3), datetime.date(2009, 5, 8),\n",
              "       datetime.date(2009, 6, 1), datetime.date(2009, 3, 27),\n",
              "       datetime.date(2009, 8, 16), datetime.date(2009, 6, 14),\n",
              "       datetime.date(2009, 5, 30), datetime.date(2009, 5, 15),\n",
              "       datetime.date(2009, 5, 11), datetime.date(2009, 7, 27),\n",
              "       datetime.date(2009, 5, 6), datetime.date(2009, 5, 4),\n",
              "       datetime.date(2009, 4, 23), datetime.date(2009, 7, 29),\n",
              "       datetime.date(2009, 7, 16), datetime.date(2009, 7, 11),\n",
              "       datetime.date(2009, 7, 1), datetime.date(2009, 6, 27),\n",
              "       datetime.date(2009, 6, 15), datetime.date(2009, 5, 31),\n",
              "       datetime.date(2009, 5, 29), datetime.date(2009, 5, 28),\n",
              "       datetime.date(2009, 5, 16), datetime.date(2009, 4, 26),\n",
              "       datetime.date(2009, 6, 24), datetime.date(2009, 6, 22),\n",
              "       datetime.date(2009, 6, 20), datetime.date(2009, 6, 16),\n",
              "       datetime.date(2009, 6, 12), datetime.date(2009, 6, 9),\n",
              "       datetime.date(2009, 6, 8), datetime.date(2009, 6, 5),\n",
              "       datetime.date(2009, 5, 27), datetime.date(2009, 5, 20),\n",
              "       datetime.date(2009, 5, 13), datetime.date(2009, 5, 9),\n",
              "       datetime.date(2009, 5, 7), datetime.date(2009, 5, 1),\n",
              "       datetime.date(2009, 4, 28), datetime.date(2009, 3, 8),\n",
              "       datetime.date(2009, 3, 5), datetime.date(2009, 8, 4),\n",
              "       datetime.date(2009, 6, 28), datetime.date(2009, 7, 2),\n",
              "       datetime.date(2009, 3, 30), datetime.date(2009, 3, 28),\n",
              "       datetime.date(2009, 3, 19), datetime.date(2009, 5, 17),\n",
              "       datetime.date(2009, 6, 13), datetime.date(2009, 3, 21),\n",
              "       datetime.date(2009, 6, 21), datetime.date(2009, 4, 29),\n",
              "       datetime.date(2009, 4, 1), datetime.date(2009, 5, 3),\n",
              "       datetime.date(2009, 4, 27), datetime.date(2009, 4, 2),\n",
              "       datetime.date(2009, 6, 17), datetime.date(2009, 6, 11),\n",
              "       datetime.date(2009, 6, 7), datetime.date(2009, 6, 18),\n",
              "       datetime.date(2009, 4, 22), datetime.date(2009, 4, 30),\n",
              "       datetime.date(2010, 10, 23)], dtype=object)"
            ]
          },
          "metadata": {},
          "execution_count": 56
        }
      ]
    },
    {
      "cell_type": "code",
      "source": [
        "gowalla_total_checkin_df.longitude.unique()"
      ],
      "metadata": {
        "colab": {
          "base_uri": "https://localhost:8080/"
        },
        "outputId": "cba757b0-69c2-4ba3-8f60-698a22444ef8",
        "id": "yXThxOdYLxMs"
      },
      "execution_count": null,
      "outputs": [
        {
          "output_type": "execute_result",
          "data": {
            "text/plain": [
              "array([-9.77951396e+01, -9.77493954e+01, -9.77633858e+01, ...,\n",
              "       -6.60989588e-01, -5.04577160e-02,  8.78509820e+00])"
            ]
          },
          "metadata": {},
          "execution_count": 57
        }
      ]
    },
    {
      "cell_type": "code",
      "source": [
        "len(gowalla_total_checkin_df.longitude.unique())"
      ],
      "metadata": {
        "colab": {
          "base_uri": "https://localhost:8080/"
        },
        "id": "lJhgpnzaRYKQ",
        "outputId": "0b107245-cc01-4605-f8fd-c355622fd4eb"
      },
      "execution_count": null,
      "outputs": [
        {
          "output_type": "execute_result",
          "data": {
            "text/plain": [
              "1246818"
            ]
          },
          "metadata": {},
          "execution_count": 67
        }
      ]
    },
    {
      "cell_type": "code",
      "source": [
        "gowalla_total_checkin_df.latitude.unique()"
      ],
      "metadata": {
        "colab": {
          "base_uri": "https://localhost:8080/"
        },
        "outputId": "8cc40525-47c3-46a5-94d9-c8a6bb902570",
        "id": "m-Ol9C0eLxMt"
      },
      "execution_count": null,
      "outputs": [
        {
          "output_type": "execute_result",
          "data": {
            "text/plain": [
              "array([30.23590912, 30.26910295, 30.25573099, ..., 51.9172078 ,\n",
              "       51.71210979, 50.02781153])"
            ]
          },
          "metadata": {},
          "execution_count": 58
        }
      ]
    },
    {
      "cell_type": "code",
      "source": [
        "len(gowalla_total_checkin_df.latitude.unique())"
      ],
      "metadata": {
        "colab": {
          "base_uri": "https://localhost:8080/"
        },
        "id": "U5LKEa-wRc1y",
        "outputId": "e3867ced-8ed5-42c9-e8fc-64c9364ead56"
      },
      "execution_count": null,
      "outputs": [
        {
          "output_type": "execute_result",
          "data": {
            "text/plain": [
              "1247095"
            ]
          },
          "metadata": {},
          "execution_count": 68
        }
      ]
    },
    {
      "cell_type": "code",
      "source": [
        "gowalla_total_checkin_df.location_id.value_counts()"
      ],
      "metadata": {
        "colab": {
          "base_uri": "https://localhost:8080/"
        },
        "outputId": "4ee57ba1-667e-43a5-cd7b-25ffce086960",
        "id": "THFcRSzhLxMt"
      },
      "execution_count": null,
      "outputs": [
        {
          "output_type": "execute_result",
          "data": {
            "text/plain": [
              "55033      5811\n",
              "19542      5662\n",
              "9410       4713\n",
              "10259      4083\n",
              "58725      3476\n",
              "           ... \n",
              "1444440       1\n",
              "1550807       1\n",
              "2590535       1\n",
              "1400413       1\n",
              "4555073       1\n",
              "Name: location_id, Length: 1280969, dtype: int64"
            ]
          },
          "metadata": {},
          "execution_count": 59
        }
      ]
    },
    {
      "cell_type": "markdown",
      "source": [
        "Максимум 14730 связей у одного юзера, хотя бы одну связь имеют 196591 юзер"
      ],
      "metadata": {
        "id": "ZVaDW9E_Ryes"
      }
    },
    {
      "cell_type": "code",
      "source": [
        "gowalla_edges_df['1st friend'].value_counts()"
      ],
      "metadata": {
        "colab": {
          "base_uri": "https://localhost:8080/"
        },
        "outputId": "9658c8e4-10ab-4a8a-f89f-3b3d0f711b56",
        "id": "NBPw1IuPLxMt"
      },
      "execution_count": null,
      "outputs": [
        {
          "output_type": "execute_result",
          "data": {
            "text/plain": [
              "307       14730\n",
              "220       10185\n",
              "505        5420\n",
              "1149       3986\n",
              "459        3880\n",
              "          ...  \n",
              "157020        1\n",
              "157021        1\n",
              "157022        1\n",
              "157023        1\n",
              "196590        1\n",
              "Name: 1st friend, Length: 196591, dtype: int64"
            ]
          },
          "metadata": {},
          "execution_count": 60
        }
      ]
    },
    {
      "cell_type": "code",
      "source": [
        "gowalla_edges_df['2nd friend'].value_counts()"
      ],
      "metadata": {
        "colab": {
          "base_uri": "https://localhost:8080/"
        },
        "outputId": "ed48ec77-ec16-4a5f-cdda-9f46acf1d4a6",
        "id": "MdYvmFNPLxMt"
      },
      "execution_count": null,
      "outputs": [
        {
          "output_type": "execute_result",
          "data": {
            "text/plain": [
              "307       14730\n",
              "220       10185\n",
              "505        5420\n",
              "1149       3986\n",
              "459        3880\n",
              "          ...  \n",
              "155011        1\n",
              "84699         1\n",
              "155013        1\n",
              "155014        1\n",
              "196590        1\n",
              "Name: 2nd friend, Length: 196591, dtype: int64"
            ]
          },
          "metadata": {},
          "execution_count": 61
        }
      ]
    }
  ]
}