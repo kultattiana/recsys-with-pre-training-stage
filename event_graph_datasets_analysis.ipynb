{
  "nbformat": 4,
  "nbformat_minor": 0,
  "metadata": {
    "colab": {
      "provenance": []
    },
    "kernelspec": {
      "name": "python3",
      "display_name": "Python 3"
    },
    "language_info": {
      "name": "python"
    }
  },
  "cells": [
    {
      "cell_type": "code",
      "execution_count": null,
      "metadata": {
        "id": "DcfjHNMD3tfz"
      },
      "outputs": [],
      "source": [
        "import pandas as pd\n",
        "import requests\n",
        "import urllib\n",
        "import json\n",
        "from urllib.parse import urlencode\n",
        "import json\n",
        "import pandas as pd"
      ]
    },
    {
      "cell_type": "code",
      "source": [
        "def dataset_txt_file_download(link, file_name):\n",
        "  base_url = 'https://cloud-api.yandex.net/v1/disk/public/resources/download?'\n",
        "  public_key = link\n",
        "  final_url = base_url + urlencode(dict(public_key=public_key))\n",
        "  response = requests.get(final_url)\n",
        "  download_url = response.json()['href']\n",
        "  download_response = requests.get(download_url)\n",
        "\n",
        "  with open(file_name, 'wb') as f:\n",
        "    f.write(download_response.content)\n",
        "\n",
        "  df = pd.read_csv(file_name, sep=\"\\t\", header = None)\n",
        "  return df"
      ],
      "metadata": {
        "id": "pcVgGuQ3pSZ4"
      },
      "execution_count": null,
      "outputs": []
    },
    {
      "cell_type": "markdown",
      "source": [
        "# Brightkite"
      ],
      "metadata": {
        "id": "ESpLNRQ8pdqR"
      }
    },
    {
      "cell_type": "markdown",
      "source": [
        "## Downloading"
      ],
      "metadata": {
        "id": "Ms-ydWtnpdqX"
      }
    },
    {
      "cell_type": "code",
      "source": [
        "brightkite_total_checkin_df = dataset_txt_file_download('https://disk.yandex.ru/d/eZtwKKyB1NI9oQ', 'Brightkite_totalCheckins.txt')"
      ],
      "metadata": {
        "id": "UuHxEDpxpdqX"
      },
      "execution_count": null,
      "outputs": []
    },
    {
      "cell_type": "code",
      "source": [
        "brightkite_total_checkin_df.columns = ['user', 'check-in time', 'latitude', 'longitude', 'location_id']\n",
        "brightkite_total_checkin_df"
      ],
      "metadata": {
        "colab": {
          "base_uri": "https://localhost:8080/",
          "height": 423
        },
        "outputId": "c0f0d50e-583d-4ea4-bda6-5bdc00bafe76",
        "id": "sKX-63dDpdqX"
      },
      "execution_count": null,
      "outputs": [
        {
          "output_type": "execute_result",
          "data": {
            "text/plain": [
              "          user         check-in time   latitude   longitude  \\\n",
              "0            0  2010-10-17T01:48:53Z  39.747652 -104.992510   \n",
              "1            0  2010-10-16T06:02:04Z  39.891383 -105.070814   \n",
              "2            0  2010-10-16T03:48:54Z  39.891077 -105.068532   \n",
              "3            0  2010-10-14T18:25:51Z  39.750469 -104.999073   \n",
              "4            0  2010-10-14T00:21:47Z  39.752713 -104.996337   \n",
              "...        ...                   ...        ...         ...   \n",
              "4747282  58222  2009-01-23T02:30:34Z  33.833333   35.833333   \n",
              "4747283  58224  2009-01-03T15:06:54Z  33.833333   35.833333   \n",
              "4747284  58225  2009-01-20T13:58:14Z  33.833333   35.833333   \n",
              "4747285  58226  2009-01-20T13:30:09Z  33.833333   35.833333   \n",
              "4747286  58227  2009-01-21T00:24:35Z  33.833333   35.833333   \n",
              "\n",
              "                                      location_id  \n",
              "0                88c46bf20db295831bd2d1718ad7e6f5  \n",
              "1                7a0f88982aa015062b95e3b4843f9ca2  \n",
              "2                dd7cd3d264c2d063832db506fba8bf79  \n",
              "3        9848afcc62e500a01cf6fbf24b797732f8963683  \n",
              "4                2ef143e12038c870038df53e0478cefc  \n",
              "...                                           ...  \n",
              "4747282          9f6b83bca22411dd85460384f67fcdb0  \n",
              "4747283          9f6b83bca22411dd85460384f67fcdb0  \n",
              "4747284          9f6b83bca22411dd85460384f67fcdb0  \n",
              "4747285          9f6b83bca22411dd85460384f67fcdb0  \n",
              "4747286          9f6b83bca22411dd85460384f67fcdb0  \n",
              "\n",
              "[4747287 rows x 5 columns]"
            ],
            "text/html": [
              "\n",
              "  <div id=\"df-ea81e91a-1b3d-4526-944f-5722ddd036b2\" class=\"colab-df-container\">\n",
              "    <div>\n",
              "<style scoped>\n",
              "    .dataframe tbody tr th:only-of-type {\n",
              "        vertical-align: middle;\n",
              "    }\n",
              "\n",
              "    .dataframe tbody tr th {\n",
              "        vertical-align: top;\n",
              "    }\n",
              "\n",
              "    .dataframe thead th {\n",
              "        text-align: right;\n",
              "    }\n",
              "</style>\n",
              "<table border=\"1\" class=\"dataframe\">\n",
              "  <thead>\n",
              "    <tr style=\"text-align: right;\">\n",
              "      <th></th>\n",
              "      <th>user</th>\n",
              "      <th>check-in time</th>\n",
              "      <th>latitude</th>\n",
              "      <th>longitude</th>\n",
              "      <th>location_id</th>\n",
              "    </tr>\n",
              "  </thead>\n",
              "  <tbody>\n",
              "    <tr>\n",
              "      <th>0</th>\n",
              "      <td>0</td>\n",
              "      <td>2010-10-17T01:48:53Z</td>\n",
              "      <td>39.747652</td>\n",
              "      <td>-104.992510</td>\n",
              "      <td>88c46bf20db295831bd2d1718ad7e6f5</td>\n",
              "    </tr>\n",
              "    <tr>\n",
              "      <th>1</th>\n",
              "      <td>0</td>\n",
              "      <td>2010-10-16T06:02:04Z</td>\n",
              "      <td>39.891383</td>\n",
              "      <td>-105.070814</td>\n",
              "      <td>7a0f88982aa015062b95e3b4843f9ca2</td>\n",
              "    </tr>\n",
              "    <tr>\n",
              "      <th>2</th>\n",
              "      <td>0</td>\n",
              "      <td>2010-10-16T03:48:54Z</td>\n",
              "      <td>39.891077</td>\n",
              "      <td>-105.068532</td>\n",
              "      <td>dd7cd3d264c2d063832db506fba8bf79</td>\n",
              "    </tr>\n",
              "    <tr>\n",
              "      <th>3</th>\n",
              "      <td>0</td>\n",
              "      <td>2010-10-14T18:25:51Z</td>\n",
              "      <td>39.750469</td>\n",
              "      <td>-104.999073</td>\n",
              "      <td>9848afcc62e500a01cf6fbf24b797732f8963683</td>\n",
              "    </tr>\n",
              "    <tr>\n",
              "      <th>4</th>\n",
              "      <td>0</td>\n",
              "      <td>2010-10-14T00:21:47Z</td>\n",
              "      <td>39.752713</td>\n",
              "      <td>-104.996337</td>\n",
              "      <td>2ef143e12038c870038df53e0478cefc</td>\n",
              "    </tr>\n",
              "    <tr>\n",
              "      <th>...</th>\n",
              "      <td>...</td>\n",
              "      <td>...</td>\n",
              "      <td>...</td>\n",
              "      <td>...</td>\n",
              "      <td>...</td>\n",
              "    </tr>\n",
              "    <tr>\n",
              "      <th>4747282</th>\n",
              "      <td>58222</td>\n",
              "      <td>2009-01-23T02:30:34Z</td>\n",
              "      <td>33.833333</td>\n",
              "      <td>35.833333</td>\n",
              "      <td>9f6b83bca22411dd85460384f67fcdb0</td>\n",
              "    </tr>\n",
              "    <tr>\n",
              "      <th>4747283</th>\n",
              "      <td>58224</td>\n",
              "      <td>2009-01-03T15:06:54Z</td>\n",
              "      <td>33.833333</td>\n",
              "      <td>35.833333</td>\n",
              "      <td>9f6b83bca22411dd85460384f67fcdb0</td>\n",
              "    </tr>\n",
              "    <tr>\n",
              "      <th>4747284</th>\n",
              "      <td>58225</td>\n",
              "      <td>2009-01-20T13:58:14Z</td>\n",
              "      <td>33.833333</td>\n",
              "      <td>35.833333</td>\n",
              "      <td>9f6b83bca22411dd85460384f67fcdb0</td>\n",
              "    </tr>\n",
              "    <tr>\n",
              "      <th>4747285</th>\n",
              "      <td>58226</td>\n",
              "      <td>2009-01-20T13:30:09Z</td>\n",
              "      <td>33.833333</td>\n",
              "      <td>35.833333</td>\n",
              "      <td>9f6b83bca22411dd85460384f67fcdb0</td>\n",
              "    </tr>\n",
              "    <tr>\n",
              "      <th>4747286</th>\n",
              "      <td>58227</td>\n",
              "      <td>2009-01-21T00:24:35Z</td>\n",
              "      <td>33.833333</td>\n",
              "      <td>35.833333</td>\n",
              "      <td>9f6b83bca22411dd85460384f67fcdb0</td>\n",
              "    </tr>\n",
              "  </tbody>\n",
              "</table>\n",
              "<p>4747287 rows × 5 columns</p>\n",
              "</div>\n",
              "    <div class=\"colab-df-buttons\">\n",
              "\n",
              "  <div class=\"colab-df-container\">\n",
              "    <button class=\"colab-df-convert\" onclick=\"convertToInteractive('df-ea81e91a-1b3d-4526-944f-5722ddd036b2')\"\n",
              "            title=\"Convert this dataframe to an interactive table.\"\n",
              "            style=\"display:none;\">\n",
              "\n",
              "  <svg xmlns=\"http://www.w3.org/2000/svg\" height=\"24px\" viewBox=\"0 -960 960 960\">\n",
              "    <path d=\"M120-120v-720h720v720H120Zm60-500h600v-160H180v160Zm220 220h160v-160H400v160Zm0 220h160v-160H400v160ZM180-400h160v-160H180v160Zm440 0h160v-160H620v160ZM180-180h160v-160H180v160Zm440 0h160v-160H620v160Z\"/>\n",
              "  </svg>\n",
              "    </button>\n",
              "\n",
              "  <style>\n",
              "    .colab-df-container {\n",
              "      display:flex;\n",
              "      gap: 12px;\n",
              "    }\n",
              "\n",
              "    .colab-df-convert {\n",
              "      background-color: #E8F0FE;\n",
              "      border: none;\n",
              "      border-radius: 50%;\n",
              "      cursor: pointer;\n",
              "      display: none;\n",
              "      fill: #1967D2;\n",
              "      height: 32px;\n",
              "      padding: 0 0 0 0;\n",
              "      width: 32px;\n",
              "    }\n",
              "\n",
              "    .colab-df-convert:hover {\n",
              "      background-color: #E2EBFA;\n",
              "      box-shadow: 0px 1px 2px rgba(60, 64, 67, 0.3), 0px 1px 3px 1px rgba(60, 64, 67, 0.15);\n",
              "      fill: #174EA6;\n",
              "    }\n",
              "\n",
              "    .colab-df-buttons div {\n",
              "      margin-bottom: 4px;\n",
              "    }\n",
              "\n",
              "    [theme=dark] .colab-df-convert {\n",
              "      background-color: #3B4455;\n",
              "      fill: #D2E3FC;\n",
              "    }\n",
              "\n",
              "    [theme=dark] .colab-df-convert:hover {\n",
              "      background-color: #434B5C;\n",
              "      box-shadow: 0px 1px 3px 1px rgba(0, 0, 0, 0.15);\n",
              "      filter: drop-shadow(0px 1px 2px rgba(0, 0, 0, 0.3));\n",
              "      fill: #FFFFFF;\n",
              "    }\n",
              "  </style>\n",
              "\n",
              "    <script>\n",
              "      const buttonEl =\n",
              "        document.querySelector('#df-ea81e91a-1b3d-4526-944f-5722ddd036b2 button.colab-df-convert');\n",
              "      buttonEl.style.display =\n",
              "        google.colab.kernel.accessAllowed ? 'block' : 'none';\n",
              "\n",
              "      async function convertToInteractive(key) {\n",
              "        const element = document.querySelector('#df-ea81e91a-1b3d-4526-944f-5722ddd036b2');\n",
              "        const dataTable =\n",
              "          await google.colab.kernel.invokeFunction('convertToInteractive',\n",
              "                                                    [key], {});\n",
              "        if (!dataTable) return;\n",
              "\n",
              "        const docLinkHtml = 'Like what you see? Visit the ' +\n",
              "          '<a target=\"_blank\" href=https://colab.research.google.com/notebooks/data_table.ipynb>data table notebook</a>'\n",
              "          + ' to learn more about interactive tables.';\n",
              "        element.innerHTML = '';\n",
              "        dataTable['output_type'] = 'display_data';\n",
              "        await google.colab.output.renderOutput(dataTable, element);\n",
              "        const docLink = document.createElement('div');\n",
              "        docLink.innerHTML = docLinkHtml;\n",
              "        element.appendChild(docLink);\n",
              "      }\n",
              "    </script>\n",
              "  </div>\n",
              "\n",
              "\n",
              "<div id=\"df-7f644526-8373-4254-96f8-18a7e6b033fc\">\n",
              "  <button class=\"colab-df-quickchart\" onclick=\"quickchart('df-7f644526-8373-4254-96f8-18a7e6b033fc')\"\n",
              "            title=\"Suggest charts\"\n",
              "            style=\"display:none;\">\n",
              "\n",
              "<svg xmlns=\"http://www.w3.org/2000/svg\" height=\"24px\"viewBox=\"0 0 24 24\"\n",
              "     width=\"24px\">\n",
              "    <g>\n",
              "        <path d=\"M19 3H5c-1.1 0-2 .9-2 2v14c0 1.1.9 2 2 2h14c1.1 0 2-.9 2-2V5c0-1.1-.9-2-2-2zM9 17H7v-7h2v7zm4 0h-2V7h2v10zm4 0h-2v-4h2v4z\"/>\n",
              "    </g>\n",
              "</svg>\n",
              "  </button>\n",
              "\n",
              "<style>\n",
              "  .colab-df-quickchart {\n",
              "      --bg-color: #E8F0FE;\n",
              "      --fill-color: #1967D2;\n",
              "      --hover-bg-color: #E2EBFA;\n",
              "      --hover-fill-color: #174EA6;\n",
              "      --disabled-fill-color: #AAA;\n",
              "      --disabled-bg-color: #DDD;\n",
              "  }\n",
              "\n",
              "  [theme=dark] .colab-df-quickchart {\n",
              "      --bg-color: #3B4455;\n",
              "      --fill-color: #D2E3FC;\n",
              "      --hover-bg-color: #434B5C;\n",
              "      --hover-fill-color: #FFFFFF;\n",
              "      --disabled-bg-color: #3B4455;\n",
              "      --disabled-fill-color: #666;\n",
              "  }\n",
              "\n",
              "  .colab-df-quickchart {\n",
              "    background-color: var(--bg-color);\n",
              "    border: none;\n",
              "    border-radius: 50%;\n",
              "    cursor: pointer;\n",
              "    display: none;\n",
              "    fill: var(--fill-color);\n",
              "    height: 32px;\n",
              "    padding: 0;\n",
              "    width: 32px;\n",
              "  }\n",
              "\n",
              "  .colab-df-quickchart:hover {\n",
              "    background-color: var(--hover-bg-color);\n",
              "    box-shadow: 0 1px 2px rgba(60, 64, 67, 0.3), 0 1px 3px 1px rgba(60, 64, 67, 0.15);\n",
              "    fill: var(--button-hover-fill-color);\n",
              "  }\n",
              "\n",
              "  .colab-df-quickchart-complete:disabled,\n",
              "  .colab-df-quickchart-complete:disabled:hover {\n",
              "    background-color: var(--disabled-bg-color);\n",
              "    fill: var(--disabled-fill-color);\n",
              "    box-shadow: none;\n",
              "  }\n",
              "\n",
              "  .colab-df-spinner {\n",
              "    border: 2px solid var(--fill-color);\n",
              "    border-color: transparent;\n",
              "    border-bottom-color: var(--fill-color);\n",
              "    animation:\n",
              "      spin 1s steps(1) infinite;\n",
              "  }\n",
              "\n",
              "  @keyframes spin {\n",
              "    0% {\n",
              "      border-color: transparent;\n",
              "      border-bottom-color: var(--fill-color);\n",
              "      border-left-color: var(--fill-color);\n",
              "    }\n",
              "    20% {\n",
              "      border-color: transparent;\n",
              "      border-left-color: var(--fill-color);\n",
              "      border-top-color: var(--fill-color);\n",
              "    }\n",
              "    30% {\n",
              "      border-color: transparent;\n",
              "      border-left-color: var(--fill-color);\n",
              "      border-top-color: var(--fill-color);\n",
              "      border-right-color: var(--fill-color);\n",
              "    }\n",
              "    40% {\n",
              "      border-color: transparent;\n",
              "      border-right-color: var(--fill-color);\n",
              "      border-top-color: var(--fill-color);\n",
              "    }\n",
              "    60% {\n",
              "      border-color: transparent;\n",
              "      border-right-color: var(--fill-color);\n",
              "    }\n",
              "    80% {\n",
              "      border-color: transparent;\n",
              "      border-right-color: var(--fill-color);\n",
              "      border-bottom-color: var(--fill-color);\n",
              "    }\n",
              "    90% {\n",
              "      border-color: transparent;\n",
              "      border-bottom-color: var(--fill-color);\n",
              "    }\n",
              "  }\n",
              "</style>\n",
              "\n",
              "  <script>\n",
              "    async function quickchart(key) {\n",
              "      const quickchartButtonEl =\n",
              "        document.querySelector('#' + key + ' button');\n",
              "      quickchartButtonEl.disabled = true;  // To prevent multiple clicks.\n",
              "      quickchartButtonEl.classList.add('colab-df-spinner');\n",
              "      try {\n",
              "        const charts = await google.colab.kernel.invokeFunction(\n",
              "            'suggestCharts', [key], {});\n",
              "      } catch (error) {\n",
              "        console.error('Error during call to suggestCharts:', error);\n",
              "      }\n",
              "      quickchartButtonEl.classList.remove('colab-df-spinner');\n",
              "      quickchartButtonEl.classList.add('colab-df-quickchart-complete');\n",
              "    }\n",
              "    (() => {\n",
              "      let quickchartButtonEl =\n",
              "        document.querySelector('#df-7f644526-8373-4254-96f8-18a7e6b033fc button');\n",
              "      quickchartButtonEl.style.display =\n",
              "        google.colab.kernel.accessAllowed ? 'block' : 'none';\n",
              "    })();\n",
              "  </script>\n",
              "</div>\n",
              "    </div>\n",
              "  </div>\n"
            ],
            "application/vnd.google.colaboratory.intrinsic+json": {
              "type": "dataframe",
              "variable_name": "brightkite_total_checkin_df"
            }
          },
          "metadata": {},
          "execution_count": 15
        }
      ]
    },
    {
      "cell_type": "code",
      "source": [
        "brightkite_edges_df = dataset_txt_file_download('https://disk.yandex.ru/i/LOYwqXxn13LBug', 'Brightkite_edges.txt')"
      ],
      "metadata": {
        "id": "UUn0JnuLpdqY"
      },
      "execution_count": null,
      "outputs": []
    },
    {
      "cell_type": "code",
      "source": [
        "brightkite_edges_df.columns = ['1st friend', '2nd friend']\n",
        "brightkite_edges_df"
      ],
      "metadata": {
        "colab": {
          "base_uri": "https://localhost:8080/",
          "height": 423
        },
        "outputId": "83fd516a-b66c-41f0-c69c-f385502ca2eb",
        "id": "uV-egWkjpdqY"
      },
      "execution_count": null,
      "outputs": [
        {
          "output_type": "execute_result",
          "data": {
            "text/plain": [
              "        1st friend  2nd friend\n",
              "0                0           1\n",
              "1                0           2\n",
              "2                0           3\n",
              "3                0           4\n",
              "4                0           5\n",
              "...            ...         ...\n",
              "428151       58225       58226\n",
              "428152       58225       58227\n",
              "428153       58226       58220\n",
              "428154       58226       58225\n",
              "428155       58227       58225\n",
              "\n",
              "[428156 rows x 2 columns]"
            ],
            "text/html": [
              "\n",
              "  <div id=\"df-57e93f06-975b-4a40-a707-a78806297af3\" class=\"colab-df-container\">\n",
              "    <div>\n",
              "<style scoped>\n",
              "    .dataframe tbody tr th:only-of-type {\n",
              "        vertical-align: middle;\n",
              "    }\n",
              "\n",
              "    .dataframe tbody tr th {\n",
              "        vertical-align: top;\n",
              "    }\n",
              "\n",
              "    .dataframe thead th {\n",
              "        text-align: right;\n",
              "    }\n",
              "</style>\n",
              "<table border=\"1\" class=\"dataframe\">\n",
              "  <thead>\n",
              "    <tr style=\"text-align: right;\">\n",
              "      <th></th>\n",
              "      <th>1st friend</th>\n",
              "      <th>2nd friend</th>\n",
              "    </tr>\n",
              "  </thead>\n",
              "  <tbody>\n",
              "    <tr>\n",
              "      <th>0</th>\n",
              "      <td>0</td>\n",
              "      <td>1</td>\n",
              "    </tr>\n",
              "    <tr>\n",
              "      <th>1</th>\n",
              "      <td>0</td>\n",
              "      <td>2</td>\n",
              "    </tr>\n",
              "    <tr>\n",
              "      <th>2</th>\n",
              "      <td>0</td>\n",
              "      <td>3</td>\n",
              "    </tr>\n",
              "    <tr>\n",
              "      <th>3</th>\n",
              "      <td>0</td>\n",
              "      <td>4</td>\n",
              "    </tr>\n",
              "    <tr>\n",
              "      <th>4</th>\n",
              "      <td>0</td>\n",
              "      <td>5</td>\n",
              "    </tr>\n",
              "    <tr>\n",
              "      <th>...</th>\n",
              "      <td>...</td>\n",
              "      <td>...</td>\n",
              "    </tr>\n",
              "    <tr>\n",
              "      <th>428151</th>\n",
              "      <td>58225</td>\n",
              "      <td>58226</td>\n",
              "    </tr>\n",
              "    <tr>\n",
              "      <th>428152</th>\n",
              "      <td>58225</td>\n",
              "      <td>58227</td>\n",
              "    </tr>\n",
              "    <tr>\n",
              "      <th>428153</th>\n",
              "      <td>58226</td>\n",
              "      <td>58220</td>\n",
              "    </tr>\n",
              "    <tr>\n",
              "      <th>428154</th>\n",
              "      <td>58226</td>\n",
              "      <td>58225</td>\n",
              "    </tr>\n",
              "    <tr>\n",
              "      <th>428155</th>\n",
              "      <td>58227</td>\n",
              "      <td>58225</td>\n",
              "    </tr>\n",
              "  </tbody>\n",
              "</table>\n",
              "<p>428156 rows × 2 columns</p>\n",
              "</div>\n",
              "    <div class=\"colab-df-buttons\">\n",
              "\n",
              "  <div class=\"colab-df-container\">\n",
              "    <button class=\"colab-df-convert\" onclick=\"convertToInteractive('df-57e93f06-975b-4a40-a707-a78806297af3')\"\n",
              "            title=\"Convert this dataframe to an interactive table.\"\n",
              "            style=\"display:none;\">\n",
              "\n",
              "  <svg xmlns=\"http://www.w3.org/2000/svg\" height=\"24px\" viewBox=\"0 -960 960 960\">\n",
              "    <path d=\"M120-120v-720h720v720H120Zm60-500h600v-160H180v160Zm220 220h160v-160H400v160Zm0 220h160v-160H400v160ZM180-400h160v-160H180v160Zm440 0h160v-160H620v160ZM180-180h160v-160H180v160Zm440 0h160v-160H620v160Z\"/>\n",
              "  </svg>\n",
              "    </button>\n",
              "\n",
              "  <style>\n",
              "    .colab-df-container {\n",
              "      display:flex;\n",
              "      gap: 12px;\n",
              "    }\n",
              "\n",
              "    .colab-df-convert {\n",
              "      background-color: #E8F0FE;\n",
              "      border: none;\n",
              "      border-radius: 50%;\n",
              "      cursor: pointer;\n",
              "      display: none;\n",
              "      fill: #1967D2;\n",
              "      height: 32px;\n",
              "      padding: 0 0 0 0;\n",
              "      width: 32px;\n",
              "    }\n",
              "\n",
              "    .colab-df-convert:hover {\n",
              "      background-color: #E2EBFA;\n",
              "      box-shadow: 0px 1px 2px rgba(60, 64, 67, 0.3), 0px 1px 3px 1px rgba(60, 64, 67, 0.15);\n",
              "      fill: #174EA6;\n",
              "    }\n",
              "\n",
              "    .colab-df-buttons div {\n",
              "      margin-bottom: 4px;\n",
              "    }\n",
              "\n",
              "    [theme=dark] .colab-df-convert {\n",
              "      background-color: #3B4455;\n",
              "      fill: #D2E3FC;\n",
              "    }\n",
              "\n",
              "    [theme=dark] .colab-df-convert:hover {\n",
              "      background-color: #434B5C;\n",
              "      box-shadow: 0px 1px 3px 1px rgba(0, 0, 0, 0.15);\n",
              "      filter: drop-shadow(0px 1px 2px rgba(0, 0, 0, 0.3));\n",
              "      fill: #FFFFFF;\n",
              "    }\n",
              "  </style>\n",
              "\n",
              "    <script>\n",
              "      const buttonEl =\n",
              "        document.querySelector('#df-57e93f06-975b-4a40-a707-a78806297af3 button.colab-df-convert');\n",
              "      buttonEl.style.display =\n",
              "        google.colab.kernel.accessAllowed ? 'block' : 'none';\n",
              "\n",
              "      async function convertToInteractive(key) {\n",
              "        const element = document.querySelector('#df-57e93f06-975b-4a40-a707-a78806297af3');\n",
              "        const dataTable =\n",
              "          await google.colab.kernel.invokeFunction('convertToInteractive',\n",
              "                                                    [key], {});\n",
              "        if (!dataTable) return;\n",
              "\n",
              "        const docLinkHtml = 'Like what you see? Visit the ' +\n",
              "          '<a target=\"_blank\" href=https://colab.research.google.com/notebooks/data_table.ipynb>data table notebook</a>'\n",
              "          + ' to learn more about interactive tables.';\n",
              "        element.innerHTML = '';\n",
              "        dataTable['output_type'] = 'display_data';\n",
              "        await google.colab.output.renderOutput(dataTable, element);\n",
              "        const docLink = document.createElement('div');\n",
              "        docLink.innerHTML = docLinkHtml;\n",
              "        element.appendChild(docLink);\n",
              "      }\n",
              "    </script>\n",
              "  </div>\n",
              "\n",
              "\n",
              "<div id=\"df-7f99de1e-3251-4540-aa75-aba177b43a28\">\n",
              "  <button class=\"colab-df-quickchart\" onclick=\"quickchart('df-7f99de1e-3251-4540-aa75-aba177b43a28')\"\n",
              "            title=\"Suggest charts\"\n",
              "            style=\"display:none;\">\n",
              "\n",
              "<svg xmlns=\"http://www.w3.org/2000/svg\" height=\"24px\"viewBox=\"0 0 24 24\"\n",
              "     width=\"24px\">\n",
              "    <g>\n",
              "        <path d=\"M19 3H5c-1.1 0-2 .9-2 2v14c0 1.1.9 2 2 2h14c1.1 0 2-.9 2-2V5c0-1.1-.9-2-2-2zM9 17H7v-7h2v7zm4 0h-2V7h2v10zm4 0h-2v-4h2v4z\"/>\n",
              "    </g>\n",
              "</svg>\n",
              "  </button>\n",
              "\n",
              "<style>\n",
              "  .colab-df-quickchart {\n",
              "      --bg-color: #E8F0FE;\n",
              "      --fill-color: #1967D2;\n",
              "      --hover-bg-color: #E2EBFA;\n",
              "      --hover-fill-color: #174EA6;\n",
              "      --disabled-fill-color: #AAA;\n",
              "      --disabled-bg-color: #DDD;\n",
              "  }\n",
              "\n",
              "  [theme=dark] .colab-df-quickchart {\n",
              "      --bg-color: #3B4455;\n",
              "      --fill-color: #D2E3FC;\n",
              "      --hover-bg-color: #434B5C;\n",
              "      --hover-fill-color: #FFFFFF;\n",
              "      --disabled-bg-color: #3B4455;\n",
              "      --disabled-fill-color: #666;\n",
              "  }\n",
              "\n",
              "  .colab-df-quickchart {\n",
              "    background-color: var(--bg-color);\n",
              "    border: none;\n",
              "    border-radius: 50%;\n",
              "    cursor: pointer;\n",
              "    display: none;\n",
              "    fill: var(--fill-color);\n",
              "    height: 32px;\n",
              "    padding: 0;\n",
              "    width: 32px;\n",
              "  }\n",
              "\n",
              "  .colab-df-quickchart:hover {\n",
              "    background-color: var(--hover-bg-color);\n",
              "    box-shadow: 0 1px 2px rgba(60, 64, 67, 0.3), 0 1px 3px 1px rgba(60, 64, 67, 0.15);\n",
              "    fill: var(--button-hover-fill-color);\n",
              "  }\n",
              "\n",
              "  .colab-df-quickchart-complete:disabled,\n",
              "  .colab-df-quickchart-complete:disabled:hover {\n",
              "    background-color: var(--disabled-bg-color);\n",
              "    fill: var(--disabled-fill-color);\n",
              "    box-shadow: none;\n",
              "  }\n",
              "\n",
              "  .colab-df-spinner {\n",
              "    border: 2px solid var(--fill-color);\n",
              "    border-color: transparent;\n",
              "    border-bottom-color: var(--fill-color);\n",
              "    animation:\n",
              "      spin 1s steps(1) infinite;\n",
              "  }\n",
              "\n",
              "  @keyframes spin {\n",
              "    0% {\n",
              "      border-color: transparent;\n",
              "      border-bottom-color: var(--fill-color);\n",
              "      border-left-color: var(--fill-color);\n",
              "    }\n",
              "    20% {\n",
              "      border-color: transparent;\n",
              "      border-left-color: var(--fill-color);\n",
              "      border-top-color: var(--fill-color);\n",
              "    }\n",
              "    30% {\n",
              "      border-color: transparent;\n",
              "      border-left-color: var(--fill-color);\n",
              "      border-top-color: var(--fill-color);\n",
              "      border-right-color: var(--fill-color);\n",
              "    }\n",
              "    40% {\n",
              "      border-color: transparent;\n",
              "      border-right-color: var(--fill-color);\n",
              "      border-top-color: var(--fill-color);\n",
              "    }\n",
              "    60% {\n",
              "      border-color: transparent;\n",
              "      border-right-color: var(--fill-color);\n",
              "    }\n",
              "    80% {\n",
              "      border-color: transparent;\n",
              "      border-right-color: var(--fill-color);\n",
              "      border-bottom-color: var(--fill-color);\n",
              "    }\n",
              "    90% {\n",
              "      border-color: transparent;\n",
              "      border-bottom-color: var(--fill-color);\n",
              "    }\n",
              "  }\n",
              "</style>\n",
              "\n",
              "  <script>\n",
              "    async function quickchart(key) {\n",
              "      const quickchartButtonEl =\n",
              "        document.querySelector('#' + key + ' button');\n",
              "      quickchartButtonEl.disabled = true;  // To prevent multiple clicks.\n",
              "      quickchartButtonEl.classList.add('colab-df-spinner');\n",
              "      try {\n",
              "        const charts = await google.colab.kernel.invokeFunction(\n",
              "            'suggestCharts', [key], {});\n",
              "      } catch (error) {\n",
              "        console.error('Error during call to suggestCharts:', error);\n",
              "      }\n",
              "      quickchartButtonEl.classList.remove('colab-df-spinner');\n",
              "      quickchartButtonEl.classList.add('colab-df-quickchart-complete');\n",
              "    }\n",
              "    (() => {\n",
              "      let quickchartButtonEl =\n",
              "        document.querySelector('#df-7f99de1e-3251-4540-aa75-aba177b43a28 button');\n",
              "      quickchartButtonEl.style.display =\n",
              "        google.colab.kernel.accessAllowed ? 'block' : 'none';\n",
              "    })();\n",
              "  </script>\n",
              "</div>\n",
              "    </div>\n",
              "  </div>\n"
            ],
            "application/vnd.google.colaboratory.intrinsic+json": {
              "type": "dataframe",
              "variable_name": "brightkite_edges_df"
            }
          },
          "metadata": {},
          "execution_count": 17
        }
      ]
    },
    {
      "cell_type": "markdown",
      "source": [
        "## Analytics"
      ],
      "metadata": {
        "id": "14HBtbx7pdqY"
      }
    },
    {
      "cell_type": "markdown",
      "source": [
        "Число юзеров, которые чек-инились"
      ],
      "metadata": {
        "id": "34xIWtU1pdqY"
      }
    },
    {
      "cell_type": "code",
      "source": [
        "len(brightkite_total_checkin_df.user.unique())"
      ],
      "metadata": {
        "colab": {
          "base_uri": "https://localhost:8080/"
        },
        "outputId": "219b5bd1-e4b5-4874-a044-a1f11a87f47c",
        "id": "D2EXUr3RpdqY"
      },
      "execution_count": null,
      "outputs": [
        {
          "output_type": "execute_result",
          "data": {
            "text/plain": [
              "51406"
            ]
          },
          "metadata": {},
          "execution_count": 36
        }
      ]
    },
    {
      "cell_type": "markdown",
      "source": [
        "Максимальное количество чек-инов у одного юзера - 2100\n",
        "\n",
        "Минимальное количество чек-инов - 1"
      ],
      "metadata": {
        "id": "SZiOncsNpdqY"
      }
    },
    {
      "cell_type": "code",
      "source": [
        "brightkite_total_checkin_df.user.value_counts()"
      ],
      "metadata": {
        "colab": {
          "base_uri": "https://localhost:8080/"
        },
        "outputId": "194a7334-a18e-4186-db68-eeea042c0aea",
        "id": "55koKZQ6pdqY"
      },
      "execution_count": null,
      "outputs": [
        {
          "output_type": "execute_result",
          "data": {
            "text/plain": [
              "user\n",
              "0        2100\n",
              "13175    2100\n",
              "13202    2100\n",
              "13199    2100\n",
              "659      2100\n",
              "         ... \n",
              "39336       1\n",
              "39337       1\n",
              "39341       1\n",
              "39343       1\n",
              "58227       1\n",
              "Name: count, Length: 51406, dtype: int64"
            ]
          },
          "metadata": {},
          "execution_count": 37
        }
      ]
    },
    {
      "cell_type": "markdown",
      "source": [
        "Количество Nan в каждой колонке"
      ],
      "metadata": {
        "id": "eYBGezqbpdqY"
      }
    },
    {
      "cell_type": "code",
      "source": [
        "brightkite_total_checkin_df[brightkite_total_checkin_df.columns[brightkite_total_checkin_df.isnull().any()]].isnull().sum()"
      ],
      "metadata": {
        "colab": {
          "base_uri": "https://localhost:8080/"
        },
        "outputId": "4f4a6714-9a55-4803-d84a-fd00b2750b5a",
        "id": "Lfc2ZWJQpdqZ"
      },
      "execution_count": null,
      "outputs": [
        {
          "output_type": "execute_result",
          "data": {
            "text/plain": [
              "check-in time    6\n",
              "latitude         6\n",
              "longitude        6\n",
              "location_id      6\n",
              "dtype: int64"
            ]
          },
          "metadata": {},
          "execution_count": 20
        }
      ]
    },
    {
      "cell_type": "markdown",
      "source": [
        "Процент Nan  в каждой колонке"
      ],
      "metadata": {
        "id": "yndkI3RapdqZ"
      }
    },
    {
      "cell_type": "code",
      "source": [
        "brightkite_total_checkin_df[brightkite_total_checkin_df.columns[brightkite_total_checkin_df.isnull().any()]].isnull().sum() * 100 / brightkite_total_checkin_df.shape[0]"
      ],
      "metadata": {
        "colab": {
          "base_uri": "https://localhost:8080/"
        },
        "outputId": "144e31d5-3374-48b8-ffb6-d4fa0cdfc0e0",
        "id": "sPhxrz7-pdqZ"
      },
      "execution_count": null,
      "outputs": [
        {
          "output_type": "execute_result",
          "data": {
            "text/plain": [
              "check-in time    0.000126\n",
              "latitude         0.000126\n",
              "longitude        0.000126\n",
              "location_id      0.000126\n",
              "dtype: float64"
            ]
          },
          "metadata": {},
          "execution_count": 21
        }
      ]
    },
    {
      "cell_type": "markdown",
      "source": [
        "Нет пустых ячеек и строк"
      ],
      "metadata": {
        "id": "EIRNgL4IpdqZ"
      }
    },
    {
      "cell_type": "code",
      "source": [
        "brightkite_total_checkin_df[brightkite_total_checkin_df.isna().any(axis=1)]"
      ],
      "metadata": {
        "colab": {
          "base_uri": "https://localhost:8080/",
          "height": 237
        },
        "outputId": "1ee555b8-ae56-4efa-e7aa-62efeb8cbb6c",
        "id": "BngpGKLppdqZ"
      },
      "execution_count": null,
      "outputs": [
        {
          "output_type": "execute_result",
          "data": {
            "text/plain": [
              "          user check-in time  latitude  longitude location_id\n",
              "1909858   7573           NaN       NaN        NaN         NaN\n",
              "1909859   7573           NaN       NaN        NaN         NaN\n",
              "1909960   7573           NaN       NaN        NaN         NaN\n",
              "1909961   7573           NaN       NaN        NaN         NaN\n",
              "3745451  22819           NaN       NaN        NaN         NaN\n",
              "3745452  22819           NaN       NaN        NaN         NaN"
            ],
            "text/html": [
              "\n",
              "  <div id=\"df-32cb91ff-a839-44e5-9dc6-b90fd2ae7224\" class=\"colab-df-container\">\n",
              "    <div>\n",
              "<style scoped>\n",
              "    .dataframe tbody tr th:only-of-type {\n",
              "        vertical-align: middle;\n",
              "    }\n",
              "\n",
              "    .dataframe tbody tr th {\n",
              "        vertical-align: top;\n",
              "    }\n",
              "\n",
              "    .dataframe thead th {\n",
              "        text-align: right;\n",
              "    }\n",
              "</style>\n",
              "<table border=\"1\" class=\"dataframe\">\n",
              "  <thead>\n",
              "    <tr style=\"text-align: right;\">\n",
              "      <th></th>\n",
              "      <th>user</th>\n",
              "      <th>check-in time</th>\n",
              "      <th>latitude</th>\n",
              "      <th>longitude</th>\n",
              "      <th>location_id</th>\n",
              "    </tr>\n",
              "  </thead>\n",
              "  <tbody>\n",
              "    <tr>\n",
              "      <th>1909858</th>\n",
              "      <td>7573</td>\n",
              "      <td>NaN</td>\n",
              "      <td>NaN</td>\n",
              "      <td>NaN</td>\n",
              "      <td>NaN</td>\n",
              "    </tr>\n",
              "    <tr>\n",
              "      <th>1909859</th>\n",
              "      <td>7573</td>\n",
              "      <td>NaN</td>\n",
              "      <td>NaN</td>\n",
              "      <td>NaN</td>\n",
              "      <td>NaN</td>\n",
              "    </tr>\n",
              "    <tr>\n",
              "      <th>1909960</th>\n",
              "      <td>7573</td>\n",
              "      <td>NaN</td>\n",
              "      <td>NaN</td>\n",
              "      <td>NaN</td>\n",
              "      <td>NaN</td>\n",
              "    </tr>\n",
              "    <tr>\n",
              "      <th>1909961</th>\n",
              "      <td>7573</td>\n",
              "      <td>NaN</td>\n",
              "      <td>NaN</td>\n",
              "      <td>NaN</td>\n",
              "      <td>NaN</td>\n",
              "    </tr>\n",
              "    <tr>\n",
              "      <th>3745451</th>\n",
              "      <td>22819</td>\n",
              "      <td>NaN</td>\n",
              "      <td>NaN</td>\n",
              "      <td>NaN</td>\n",
              "      <td>NaN</td>\n",
              "    </tr>\n",
              "    <tr>\n",
              "      <th>3745452</th>\n",
              "      <td>22819</td>\n",
              "      <td>NaN</td>\n",
              "      <td>NaN</td>\n",
              "      <td>NaN</td>\n",
              "      <td>NaN</td>\n",
              "    </tr>\n",
              "  </tbody>\n",
              "</table>\n",
              "</div>\n",
              "    <div class=\"colab-df-buttons\">\n",
              "\n",
              "  <div class=\"colab-df-container\">\n",
              "    <button class=\"colab-df-convert\" onclick=\"convertToInteractive('df-32cb91ff-a839-44e5-9dc6-b90fd2ae7224')\"\n",
              "            title=\"Convert this dataframe to an interactive table.\"\n",
              "            style=\"display:none;\">\n",
              "\n",
              "  <svg xmlns=\"http://www.w3.org/2000/svg\" height=\"24px\" viewBox=\"0 -960 960 960\">\n",
              "    <path d=\"M120-120v-720h720v720H120Zm60-500h600v-160H180v160Zm220 220h160v-160H400v160Zm0 220h160v-160H400v160ZM180-400h160v-160H180v160Zm440 0h160v-160H620v160ZM180-180h160v-160H180v160Zm440 0h160v-160H620v160Z\"/>\n",
              "  </svg>\n",
              "    </button>\n",
              "\n",
              "  <style>\n",
              "    .colab-df-container {\n",
              "      display:flex;\n",
              "      gap: 12px;\n",
              "    }\n",
              "\n",
              "    .colab-df-convert {\n",
              "      background-color: #E8F0FE;\n",
              "      border: none;\n",
              "      border-radius: 50%;\n",
              "      cursor: pointer;\n",
              "      display: none;\n",
              "      fill: #1967D2;\n",
              "      height: 32px;\n",
              "      padding: 0 0 0 0;\n",
              "      width: 32px;\n",
              "    }\n",
              "\n",
              "    .colab-df-convert:hover {\n",
              "      background-color: #E2EBFA;\n",
              "      box-shadow: 0px 1px 2px rgba(60, 64, 67, 0.3), 0px 1px 3px 1px rgba(60, 64, 67, 0.15);\n",
              "      fill: #174EA6;\n",
              "    }\n",
              "\n",
              "    .colab-df-buttons div {\n",
              "      margin-bottom: 4px;\n",
              "    }\n",
              "\n",
              "    [theme=dark] .colab-df-convert {\n",
              "      background-color: #3B4455;\n",
              "      fill: #D2E3FC;\n",
              "    }\n",
              "\n",
              "    [theme=dark] .colab-df-convert:hover {\n",
              "      background-color: #434B5C;\n",
              "      box-shadow: 0px 1px 3px 1px rgba(0, 0, 0, 0.15);\n",
              "      filter: drop-shadow(0px 1px 2px rgba(0, 0, 0, 0.3));\n",
              "      fill: #FFFFFF;\n",
              "    }\n",
              "  </style>\n",
              "\n",
              "    <script>\n",
              "      const buttonEl =\n",
              "        document.querySelector('#df-32cb91ff-a839-44e5-9dc6-b90fd2ae7224 button.colab-df-convert');\n",
              "      buttonEl.style.display =\n",
              "        google.colab.kernel.accessAllowed ? 'block' : 'none';\n",
              "\n",
              "      async function convertToInteractive(key) {\n",
              "        const element = document.querySelector('#df-32cb91ff-a839-44e5-9dc6-b90fd2ae7224');\n",
              "        const dataTable =\n",
              "          await google.colab.kernel.invokeFunction('convertToInteractive',\n",
              "                                                    [key], {});\n",
              "        if (!dataTable) return;\n",
              "\n",
              "        const docLinkHtml = 'Like what you see? Visit the ' +\n",
              "          '<a target=\"_blank\" href=https://colab.research.google.com/notebooks/data_table.ipynb>data table notebook</a>'\n",
              "          + ' to learn more about interactive tables.';\n",
              "        element.innerHTML = '';\n",
              "        dataTable['output_type'] = 'display_data';\n",
              "        await google.colab.output.renderOutput(dataTable, element);\n",
              "        const docLink = document.createElement('div');\n",
              "        docLink.innerHTML = docLinkHtml;\n",
              "        element.appendChild(docLink);\n",
              "      }\n",
              "    </script>\n",
              "  </div>\n",
              "\n",
              "\n",
              "<div id=\"df-e5c05460-6465-43f9-9da3-dc43f7830ddf\">\n",
              "  <button class=\"colab-df-quickchart\" onclick=\"quickchart('df-e5c05460-6465-43f9-9da3-dc43f7830ddf')\"\n",
              "            title=\"Suggest charts\"\n",
              "            style=\"display:none;\">\n",
              "\n",
              "<svg xmlns=\"http://www.w3.org/2000/svg\" height=\"24px\"viewBox=\"0 0 24 24\"\n",
              "     width=\"24px\">\n",
              "    <g>\n",
              "        <path d=\"M19 3H5c-1.1 0-2 .9-2 2v14c0 1.1.9 2 2 2h14c1.1 0 2-.9 2-2V5c0-1.1-.9-2-2-2zM9 17H7v-7h2v7zm4 0h-2V7h2v10zm4 0h-2v-4h2v4z\"/>\n",
              "    </g>\n",
              "</svg>\n",
              "  </button>\n",
              "\n",
              "<style>\n",
              "  .colab-df-quickchart {\n",
              "      --bg-color: #E8F0FE;\n",
              "      --fill-color: #1967D2;\n",
              "      --hover-bg-color: #E2EBFA;\n",
              "      --hover-fill-color: #174EA6;\n",
              "      --disabled-fill-color: #AAA;\n",
              "      --disabled-bg-color: #DDD;\n",
              "  }\n",
              "\n",
              "  [theme=dark] .colab-df-quickchart {\n",
              "      --bg-color: #3B4455;\n",
              "      --fill-color: #D2E3FC;\n",
              "      --hover-bg-color: #434B5C;\n",
              "      --hover-fill-color: #FFFFFF;\n",
              "      --disabled-bg-color: #3B4455;\n",
              "      --disabled-fill-color: #666;\n",
              "  }\n",
              "\n",
              "  .colab-df-quickchart {\n",
              "    background-color: var(--bg-color);\n",
              "    border: none;\n",
              "    border-radius: 50%;\n",
              "    cursor: pointer;\n",
              "    display: none;\n",
              "    fill: var(--fill-color);\n",
              "    height: 32px;\n",
              "    padding: 0;\n",
              "    width: 32px;\n",
              "  }\n",
              "\n",
              "  .colab-df-quickchart:hover {\n",
              "    background-color: var(--hover-bg-color);\n",
              "    box-shadow: 0 1px 2px rgba(60, 64, 67, 0.3), 0 1px 3px 1px rgba(60, 64, 67, 0.15);\n",
              "    fill: var(--button-hover-fill-color);\n",
              "  }\n",
              "\n",
              "  .colab-df-quickchart-complete:disabled,\n",
              "  .colab-df-quickchart-complete:disabled:hover {\n",
              "    background-color: var(--disabled-bg-color);\n",
              "    fill: var(--disabled-fill-color);\n",
              "    box-shadow: none;\n",
              "  }\n",
              "\n",
              "  .colab-df-spinner {\n",
              "    border: 2px solid var(--fill-color);\n",
              "    border-color: transparent;\n",
              "    border-bottom-color: var(--fill-color);\n",
              "    animation:\n",
              "      spin 1s steps(1) infinite;\n",
              "  }\n",
              "\n",
              "  @keyframes spin {\n",
              "    0% {\n",
              "      border-color: transparent;\n",
              "      border-bottom-color: var(--fill-color);\n",
              "      border-left-color: var(--fill-color);\n",
              "    }\n",
              "    20% {\n",
              "      border-color: transparent;\n",
              "      border-left-color: var(--fill-color);\n",
              "      border-top-color: var(--fill-color);\n",
              "    }\n",
              "    30% {\n",
              "      border-color: transparent;\n",
              "      border-left-color: var(--fill-color);\n",
              "      border-top-color: var(--fill-color);\n",
              "      border-right-color: var(--fill-color);\n",
              "    }\n",
              "    40% {\n",
              "      border-color: transparent;\n",
              "      border-right-color: var(--fill-color);\n",
              "      border-top-color: var(--fill-color);\n",
              "    }\n",
              "    60% {\n",
              "      border-color: transparent;\n",
              "      border-right-color: var(--fill-color);\n",
              "    }\n",
              "    80% {\n",
              "      border-color: transparent;\n",
              "      border-right-color: var(--fill-color);\n",
              "      border-bottom-color: var(--fill-color);\n",
              "    }\n",
              "    90% {\n",
              "      border-color: transparent;\n",
              "      border-bottom-color: var(--fill-color);\n",
              "    }\n",
              "  }\n",
              "</style>\n",
              "\n",
              "  <script>\n",
              "    async function quickchart(key) {\n",
              "      const quickchartButtonEl =\n",
              "        document.querySelector('#' + key + ' button');\n",
              "      quickchartButtonEl.disabled = true;  // To prevent multiple clicks.\n",
              "      quickchartButtonEl.classList.add('colab-df-spinner');\n",
              "      try {\n",
              "        const charts = await google.colab.kernel.invokeFunction(\n",
              "            'suggestCharts', [key], {});\n",
              "      } catch (error) {\n",
              "        console.error('Error during call to suggestCharts:', error);\n",
              "      }\n",
              "      quickchartButtonEl.classList.remove('colab-df-spinner');\n",
              "      quickchartButtonEl.classList.add('colab-df-quickchart-complete');\n",
              "    }\n",
              "    (() => {\n",
              "      let quickchartButtonEl =\n",
              "        document.querySelector('#df-e5c05460-6465-43f9-9da3-dc43f7830ddf button');\n",
              "      quickchartButtonEl.style.display =\n",
              "        google.colab.kernel.accessAllowed ? 'block' : 'none';\n",
              "    })();\n",
              "  </script>\n",
              "</div>\n",
              "    </div>\n",
              "  </div>\n"
            ],
            "application/vnd.google.colaboratory.intrinsic+json": {
              "type": "dataframe",
              "repr_error": "0"
            }
          },
          "metadata": {},
          "execution_count": 22
        }
      ]
    },
    {
      "cell_type": "code",
      "source": [
        "brightkite_total_checkin_df.dtypes"
      ],
      "metadata": {
        "colab": {
          "base_uri": "https://localhost:8080/"
        },
        "outputId": "f517db00-71ff-4897-d145-2d821f196721",
        "id": "cdmolr2-pdqZ"
      },
      "execution_count": null,
      "outputs": [
        {
          "output_type": "execute_result",
          "data": {
            "text/plain": [
              "user               int64\n",
              "check-in time     object\n",
              "latitude         float64\n",
              "longitude        float64\n",
              "location_id       object\n",
              "dtype: object"
            ]
          },
          "metadata": {},
          "execution_count": 23
        }
      ]
    },
    {
      "cell_type": "markdown",
      "source": [
        "В один момент времени - максимум 14 событий"
      ],
      "metadata": {
        "id": "nr9xptH2pdqZ"
      }
    },
    {
      "cell_type": "code",
      "source": [
        "brightkite_total_checkin_df['check-in time'].value_counts()"
      ],
      "metadata": {
        "colab": {
          "base_uri": "https://localhost:8080/"
        },
        "outputId": "d7bcfcdd-9800-4d18-f21a-69696f72a86f",
        "id": "3obfXwrOpdqZ"
      },
      "execution_count": null,
      "outputs": [
        {
          "output_type": "execute_result",
          "data": {
            "text/plain": [
              "check-in time\n",
              "2010-09-30T11:03:54Z    14\n",
              "2010-09-30T11:03:52Z    12\n",
              "2010-09-30T11:03:51Z    11\n",
              "2010-09-30T11:03:53Z    10\n",
              "2010-07-08T14:10:13Z     9\n",
              "                        ..\n",
              "2009-12-03T13:45:45Z     1\n",
              "2009-12-02T14:47:09Z     1\n",
              "2009-12-02T14:41:04Z     1\n",
              "2009-12-02T14:28:14Z     1\n",
              "2009-01-21T00:24:35Z     1\n",
              "Name: count, Length: 4506822, dtype: int64"
            ]
          },
          "metadata": {},
          "execution_count": 24
        }
      ]
    },
    {
      "cell_type": "code",
      "source": [
        "from dateutil.parser import parse\n",
        "\n",
        "dates = pd.DataFrame()\n",
        "\n",
        "dates['event date'] = brightkite_total_checkin_df['check-in time']\n",
        "dates = dates.dropna()\n",
        "\n",
        "dates['event date'] = dates['event date'].transform(lambda x: parse(x).date())"
      ],
      "metadata": {
        "id": "jBMJ4ET5pdqa"
      },
      "execution_count": null,
      "outputs": []
    },
    {
      "cell_type": "markdown",
      "source": [
        "В один день максимум 10206 событий"
      ],
      "metadata": {
        "id": "mNMWMxhKJ4Ae"
      }
    },
    {
      "cell_type": "code",
      "source": [
        "dates['event date'].value_counts()"
      ],
      "metadata": {
        "colab": {
          "base_uri": "https://localhost:8080/"
        },
        "outputId": "d98fb7f8-a114-46f7-8407-a24053a46bb9",
        "id": "4h3SvCvjpdqa"
      },
      "execution_count": null,
      "outputs": [
        {
          "output_type": "execute_result",
          "data": {
            "text/plain": [
              "event date\n",
              "2008-10-22    10206\n",
              "2009-03-14     9577\n",
              "2008-10-21     9418\n",
              "2009-03-13     9396\n",
              "2009-07-25     9334\n",
              "              ...  \n",
              "2008-04-08        5\n",
              "2008-03-27        4\n",
              "2008-03-31        4\n",
              "2008-04-04        3\n",
              "2008-03-21        1\n",
              "Name: count, Length: 942, dtype: int64"
            ]
          },
          "metadata": {},
          "execution_count": 26
        }
      ]
    },
    {
      "cell_type": "markdown",
      "source": [
        "Всего 942 дней, 2008 - 2009 годы"
      ],
      "metadata": {
        "id": "DvLFflcopdqa"
      }
    },
    {
      "cell_type": "code",
      "source": [
        "len(dates['event date'].unique())"
      ],
      "metadata": {
        "colab": {
          "base_uri": "https://localhost:8080/"
        },
        "outputId": "3b787a53-865e-4062-dc80-86e1be9cf871",
        "id": "4NzB4BIepdqa"
      },
      "execution_count": null,
      "outputs": [
        {
          "output_type": "execute_result",
          "data": {
            "text/plain": [
              "942"
            ]
          },
          "metadata": {},
          "execution_count": 27
        }
      ]
    },
    {
      "cell_type": "code",
      "source": [
        "dates['event date'].unique()"
      ],
      "metadata": {
        "colab": {
          "base_uri": "https://localhost:8080/"
        },
        "outputId": "9fcb736c-7f05-4559-bc76-f0738a9b42a0",
        "id": "jwrtVNXFpdqa"
      },
      "execution_count": null,
      "outputs": [
        {
          "output_type": "execute_result",
          "data": {
            "text/plain": [
              "array([datetime.date(2010, 10, 17), datetime.date(2010, 10, 16),\n",
              "       datetime.date(2010, 10, 14), datetime.date(2010, 10, 13),\n",
              "       datetime.date(2010, 10, 12), datetime.date(2010, 10, 11),\n",
              "       datetime.date(2010, 10, 9), datetime.date(2010, 10, 8),\n",
              "       datetime.date(2010, 10, 7), datetime.date(2010, 10, 6),\n",
              "       datetime.date(2010, 10, 5), datetime.date(2010, 10, 4),\n",
              "       datetime.date(2010, 10, 3), datetime.date(2010, 10, 2),\n",
              "       datetime.date(2010, 10, 1), datetime.date(2010, 9, 30),\n",
              "       datetime.date(2010, 9, 29), datetime.date(2010, 9, 28),\n",
              "       datetime.date(2010, 9, 27), datetime.date(2010, 9, 25),\n",
              "       datetime.date(2010, 9, 24), datetime.date(2010, 9, 23),\n",
              "       datetime.date(2010, 9, 22), datetime.date(2010, 9, 21),\n",
              "       datetime.date(2010, 9, 20), datetime.date(2010, 9, 19),\n",
              "       datetime.date(2010, 9, 18), datetime.date(2010, 9, 16),\n",
              "       datetime.date(2010, 9, 15), datetime.date(2010, 9, 14),\n",
              "       datetime.date(2010, 9, 13), datetime.date(2010, 9, 12),\n",
              "       datetime.date(2010, 9, 11), datetime.date(2010, 9, 10),\n",
              "       datetime.date(2010, 9, 9), datetime.date(2010, 9, 8),\n",
              "       datetime.date(2010, 9, 6), datetime.date(2010, 9, 5),\n",
              "       datetime.date(2010, 9, 4), datetime.date(2010, 9, 3),\n",
              "       datetime.date(2010, 9, 2), datetime.date(2010, 9, 1),\n",
              "       datetime.date(2010, 8, 29), datetime.date(2010, 8, 28),\n",
              "       datetime.date(2010, 8, 27), datetime.date(2010, 8, 26),\n",
              "       datetime.date(2010, 8, 25), datetime.date(2010, 8, 24),\n",
              "       datetime.date(2010, 8, 23), datetime.date(2010, 8, 22),\n",
              "       datetime.date(2010, 8, 19), datetime.date(2010, 8, 15),\n",
              "       datetime.date(2010, 8, 14), datetime.date(2010, 8, 13),\n",
              "       datetime.date(2010, 8, 12), datetime.date(2010, 8, 10),\n",
              "       datetime.date(2010, 8, 7), datetime.date(2010, 8, 6),\n",
              "       datetime.date(2010, 8, 5), datetime.date(2010, 8, 4),\n",
              "       datetime.date(2010, 8, 3), datetime.date(2010, 8, 2),\n",
              "       datetime.date(2010, 8, 1), datetime.date(2010, 7, 31),\n",
              "       datetime.date(2010, 7, 30), datetime.date(2010, 7, 29),\n",
              "       datetime.date(2010, 7, 28), datetime.date(2010, 7, 27),\n",
              "       datetime.date(2010, 7, 26), datetime.date(2010, 7, 25),\n",
              "       datetime.date(2010, 7, 24), datetime.date(2010, 7, 23),\n",
              "       datetime.date(2010, 7, 22), datetime.date(2010, 7, 21),\n",
              "       datetime.date(2010, 7, 20), datetime.date(2010, 7, 19),\n",
              "       datetime.date(2010, 7, 18), datetime.date(2010, 7, 17),\n",
              "       datetime.date(2010, 7, 16), datetime.date(2010, 7, 14),\n",
              "       datetime.date(2010, 7, 13), datetime.date(2010, 7, 11),\n",
              "       datetime.date(2010, 7, 10), datetime.date(2010, 7, 9),\n",
              "       datetime.date(2010, 7, 8), datetime.date(2010, 7, 7),\n",
              "       datetime.date(2010, 7, 5), datetime.date(2010, 7, 4),\n",
              "       datetime.date(2010, 7, 3), datetime.date(2010, 7, 2),\n",
              "       datetime.date(2010, 7, 1), datetime.date(2010, 6, 30),\n",
              "       datetime.date(2010, 6, 29), datetime.date(2010, 6, 28),\n",
              "       datetime.date(2010, 6, 27), datetime.date(2010, 6, 26),\n",
              "       datetime.date(2010, 6, 24), datetime.date(2010, 6, 23),\n",
              "       datetime.date(2010, 6, 21), datetime.date(2010, 6, 20),\n",
              "       datetime.date(2010, 6, 19), datetime.date(2010, 6, 18),\n",
              "       datetime.date(2010, 6, 16), datetime.date(2010, 6, 15),\n",
              "       datetime.date(2010, 6, 14), datetime.date(2010, 6, 13),\n",
              "       datetime.date(2010, 6, 12), datetime.date(2010, 6, 10),\n",
              "       datetime.date(2010, 6, 9), datetime.date(2010, 6, 8),\n",
              "       datetime.date(2010, 6, 7), datetime.date(2010, 6, 6),\n",
              "       datetime.date(2010, 6, 5), datetime.date(2010, 6, 3),\n",
              "       datetime.date(2010, 6, 2), datetime.date(2010, 5, 31),\n",
              "       datetime.date(2010, 5, 30), datetime.date(2010, 5, 29),\n",
              "       datetime.date(2010, 5, 27), datetime.date(2010, 5, 26),\n",
              "       datetime.date(2010, 5, 25), datetime.date(2010, 5, 24),\n",
              "       datetime.date(2010, 5, 23), datetime.date(2010, 5, 22),\n",
              "       datetime.date(2010, 5, 21), datetime.date(2010, 5, 20),\n",
              "       datetime.date(2010, 5, 19), datetime.date(2010, 5, 18),\n",
              "       datetime.date(2010, 5, 17), datetime.date(2010, 5, 16),\n",
              "       datetime.date(2010, 5, 15), datetime.date(2010, 5, 14),\n",
              "       datetime.date(2010, 5, 13), datetime.date(2010, 5, 12),\n",
              "       datetime.date(2010, 5, 11), datetime.date(2010, 5, 9),\n",
              "       datetime.date(2010, 5, 8), datetime.date(2010, 5, 7),\n",
              "       datetime.date(2010, 5, 6), datetime.date(2010, 5, 5),\n",
              "       datetime.date(2010, 5, 4), datetime.date(2010, 5, 3),\n",
              "       datetime.date(2010, 5, 2), datetime.date(2010, 5, 1),\n",
              "       datetime.date(2010, 4, 30), datetime.date(2010, 4, 29),\n",
              "       datetime.date(2010, 4, 28), datetime.date(2010, 4, 26),\n",
              "       datetime.date(2010, 4, 25), datetime.date(2010, 4, 23),\n",
              "       datetime.date(2010, 4, 22), datetime.date(2010, 4, 21),\n",
              "       datetime.date(2010, 4, 20), datetime.date(2010, 4, 19),\n",
              "       datetime.date(2010, 4, 18), datetime.date(2010, 4, 17),\n",
              "       datetime.date(2010, 4, 16), datetime.date(2010, 4, 15),\n",
              "       datetime.date(2010, 4, 13), datetime.date(2010, 4, 12),\n",
              "       datetime.date(2010, 4, 11), datetime.date(2010, 4, 10),\n",
              "       datetime.date(2010, 4, 8), datetime.date(2010, 4, 7),\n",
              "       datetime.date(2010, 4, 6), datetime.date(2010, 4, 5),\n",
              "       datetime.date(2010, 4, 4), datetime.date(2010, 4, 3),\n",
              "       datetime.date(2010, 4, 2), datetime.date(2010, 4, 1),\n",
              "       datetime.date(2010, 3, 31), datetime.date(2010, 3, 27),\n",
              "       datetime.date(2010, 3, 24), datetime.date(2010, 3, 23),\n",
              "       datetime.date(2010, 3, 22), datetime.date(2010, 3, 21),\n",
              "       datetime.date(2010, 3, 20), datetime.date(2010, 3, 19),\n",
              "       datetime.date(2010, 3, 18), datetime.date(2010, 3, 17),\n",
              "       datetime.date(2010, 3, 16), datetime.date(2010, 3, 15),\n",
              "       datetime.date(2010, 3, 14), datetime.date(2010, 3, 13),\n",
              "       datetime.date(2010, 3, 12), datetime.date(2010, 3, 11),\n",
              "       datetime.date(2010, 3, 10), datetime.date(2010, 3, 9),\n",
              "       datetime.date(2010, 3, 8), datetime.date(2010, 3, 7),\n",
              "       datetime.date(2010, 3, 6), datetime.date(2010, 3, 5),\n",
              "       datetime.date(2010, 3, 4), datetime.date(2010, 3, 3),\n",
              "       datetime.date(2010, 3, 1), datetime.date(2010, 2, 28),\n",
              "       datetime.date(2010, 2, 27), datetime.date(2010, 2, 26),\n",
              "       datetime.date(2010, 2, 25), datetime.date(2010, 2, 24),\n",
              "       datetime.date(2010, 2, 23), datetime.date(2010, 2, 22),\n",
              "       datetime.date(2010, 2, 21), datetime.date(2010, 2, 20),\n",
              "       datetime.date(2010, 2, 19), datetime.date(2010, 2, 18),\n",
              "       datetime.date(2010, 2, 17), datetime.date(2010, 2, 16),\n",
              "       datetime.date(2010, 2, 15), datetime.date(2010, 2, 13),\n",
              "       datetime.date(2010, 2, 12), datetime.date(2010, 2, 11),\n",
              "       datetime.date(2010, 2, 10), datetime.date(2010, 2, 9),\n",
              "       datetime.date(2010, 2, 8), datetime.date(2010, 2, 7),\n",
              "       datetime.date(2010, 2, 6), datetime.date(2010, 2, 5),\n",
              "       datetime.date(2010, 2, 4), datetime.date(2010, 2, 3),\n",
              "       datetime.date(2010, 2, 2), datetime.date(2010, 2, 1),\n",
              "       datetime.date(2010, 1, 31), datetime.date(2010, 1, 29),\n",
              "       datetime.date(2010, 1, 28), datetime.date(2010, 1, 27),\n",
              "       datetime.date(2010, 1, 26), datetime.date(2010, 1, 25),\n",
              "       datetime.date(2010, 1, 24), datetime.date(2010, 1, 23),\n",
              "       datetime.date(2010, 1, 22), datetime.date(2010, 1, 21),\n",
              "       datetime.date(2010, 1, 20), datetime.date(2010, 1, 19),\n",
              "       datetime.date(2010, 1, 18), datetime.date(2010, 1, 17),\n",
              "       datetime.date(2010, 1, 16), datetime.date(2010, 1, 15),\n",
              "       datetime.date(2010, 1, 14), datetime.date(2010, 1, 13),\n",
              "       datetime.date(2010, 1, 12), datetime.date(2010, 1, 11),\n",
              "       datetime.date(2010, 1, 10), datetime.date(2010, 1, 9),\n",
              "       datetime.date(2010, 1, 7), datetime.date(2010, 1, 6),\n",
              "       datetime.date(2010, 1, 5), datetime.date(2010, 1, 4),\n",
              "       datetime.date(2010, 1, 3), datetime.date(2010, 1, 2),\n",
              "       datetime.date(2010, 1, 1), datetime.date(2009, 12, 31),\n",
              "       datetime.date(2009, 12, 30), datetime.date(2009, 12, 29),\n",
              "       datetime.date(2009, 12, 28), datetime.date(2009, 12, 27),\n",
              "       datetime.date(2009, 12, 24), datetime.date(2009, 12, 23),\n",
              "       datetime.date(2009, 12, 22), datetime.date(2009, 12, 21),\n",
              "       datetime.date(2009, 12, 20), datetime.date(2009, 12, 19),\n",
              "       datetime.date(2009, 12, 18), datetime.date(2009, 12, 17),\n",
              "       datetime.date(2009, 12, 16), datetime.date(2009, 12, 15),\n",
              "       datetime.date(2009, 12, 14), datetime.date(2009, 12, 13),\n",
              "       datetime.date(2009, 12, 12), datetime.date(2009, 12, 11),\n",
              "       datetime.date(2009, 12, 10), datetime.date(2009, 12, 9),\n",
              "       datetime.date(2009, 12, 8), datetime.date(2009, 12, 7),\n",
              "       datetime.date(2009, 12, 6), datetime.date(2009, 12, 5),\n",
              "       datetime.date(2009, 12, 4), datetime.date(2009, 12, 3),\n",
              "       datetime.date(2009, 12, 2), datetime.date(2009, 12, 1),\n",
              "       datetime.date(2009, 11, 30), datetime.date(2009, 11, 29),\n",
              "       datetime.date(2009, 11, 28), datetime.date(2009, 11, 27),\n",
              "       datetime.date(2009, 11, 25), datetime.date(2009, 11, 24),\n",
              "       datetime.date(2009, 11, 23), datetime.date(2009, 11, 22),\n",
              "       datetime.date(2009, 11, 21), datetime.date(2009, 11, 20),\n",
              "       datetime.date(2009, 11, 19), datetime.date(2009, 11, 18),\n",
              "       datetime.date(2009, 11, 17), datetime.date(2009, 11, 16),\n",
              "       datetime.date(2009, 11, 15), datetime.date(2009, 11, 14),\n",
              "       datetime.date(2009, 11, 13), datetime.date(2009, 11, 12),\n",
              "       datetime.date(2009, 11, 11), datetime.date(2009, 11, 10),\n",
              "       datetime.date(2009, 11, 9), datetime.date(2009, 11, 8),\n",
              "       datetime.date(2009, 11, 7), datetime.date(2009, 11, 6),\n",
              "       datetime.date(2009, 11, 5), datetime.date(2009, 11, 4),\n",
              "       datetime.date(2009, 11, 3), datetime.date(2009, 11, 2),\n",
              "       datetime.date(2009, 11, 1), datetime.date(2009, 10, 31),\n",
              "       datetime.date(2009, 10, 30), datetime.date(2009, 10, 29),\n",
              "       datetime.date(2009, 10, 28), datetime.date(2009, 10, 27),\n",
              "       datetime.date(2009, 10, 26), datetime.date(2009, 10, 25),\n",
              "       datetime.date(2009, 10, 24), datetime.date(2009, 10, 23),\n",
              "       datetime.date(2009, 10, 22), datetime.date(2009, 10, 21),\n",
              "       datetime.date(2009, 10, 20), datetime.date(2009, 10, 19),\n",
              "       datetime.date(2009, 10, 18), datetime.date(2009, 10, 17),\n",
              "       datetime.date(2009, 10, 16), datetime.date(2009, 10, 15),\n",
              "       datetime.date(2009, 10, 14), datetime.date(2009, 10, 13),\n",
              "       datetime.date(2009, 10, 12), datetime.date(2009, 10, 11),\n",
              "       datetime.date(2009, 10, 10), datetime.date(2009, 10, 9),\n",
              "       datetime.date(2009, 10, 8), datetime.date(2009, 10, 6),\n",
              "       datetime.date(2009, 10, 5), datetime.date(2009, 10, 4),\n",
              "       datetime.date(2009, 10, 3), datetime.date(2009, 10, 2),\n",
              "       datetime.date(2009, 9, 30), datetime.date(2009, 9, 29),\n",
              "       datetime.date(2009, 9, 28), datetime.date(2009, 9, 27),\n",
              "       datetime.date(2009, 9, 26), datetime.date(2009, 9, 25),\n",
              "       datetime.date(2009, 9, 24), datetime.date(2009, 9, 23),\n",
              "       datetime.date(2009, 9, 22), datetime.date(2009, 9, 21),\n",
              "       datetime.date(2009, 9, 20), datetime.date(2009, 9, 19),\n",
              "       datetime.date(2009, 9, 18), datetime.date(2009, 9, 17),\n",
              "       datetime.date(2009, 9, 15), datetime.date(2009, 9, 14),\n",
              "       datetime.date(2009, 9, 12), datetime.date(2009, 9, 11),\n",
              "       datetime.date(2009, 9, 10), datetime.date(2009, 9, 9),\n",
              "       datetime.date(2009, 9, 8), datetime.date(2009, 9, 6),\n",
              "       datetime.date(2009, 9, 5), datetime.date(2009, 9, 4),\n",
              "       datetime.date(2009, 9, 3), datetime.date(2009, 9, 2),\n",
              "       datetime.date(2009, 9, 1), datetime.date(2009, 8, 31),\n",
              "       datetime.date(2009, 8, 29), datetime.date(2009, 8, 28),\n",
              "       datetime.date(2009, 8, 27), datetime.date(2009, 8, 26),\n",
              "       datetime.date(2009, 8, 25), datetime.date(2009, 8, 24),\n",
              "       datetime.date(2009, 8, 23), datetime.date(2009, 8, 22),\n",
              "       datetime.date(2009, 8, 21), datetime.date(2009, 8, 20),\n",
              "       datetime.date(2009, 8, 19), datetime.date(2009, 8, 18),\n",
              "       datetime.date(2009, 8, 17), datetime.date(2009, 8, 16),\n",
              "       datetime.date(2009, 8, 15), datetime.date(2009, 8, 14),\n",
              "       datetime.date(2009, 8, 13), datetime.date(2009, 8, 11),\n",
              "       datetime.date(2009, 8, 10), datetime.date(2009, 8, 9),\n",
              "       datetime.date(2009, 8, 6), datetime.date(2009, 8, 5),\n",
              "       datetime.date(2009, 8, 3), datetime.date(2009, 8, 2),\n",
              "       datetime.date(2009, 8, 1), datetime.date(2009, 7, 31),\n",
              "       datetime.date(2009, 7, 30), datetime.date(2009, 7, 29),\n",
              "       datetime.date(2009, 7, 27), datetime.date(2009, 7, 25),\n",
              "       datetime.date(2009, 7, 24), datetime.date(2009, 7, 23),\n",
              "       datetime.date(2009, 7, 22), datetime.date(2009, 7, 21),\n",
              "       datetime.date(2009, 7, 20), datetime.date(2009, 7, 17),\n",
              "       datetime.date(2009, 7, 16), datetime.date(2009, 7, 15),\n",
              "       datetime.date(2009, 7, 14), datetime.date(2009, 7, 13),\n",
              "       datetime.date(2009, 7, 12), datetime.date(2009, 7, 11),\n",
              "       datetime.date(2009, 7, 10), datetime.date(2009, 7, 9),\n",
              "       datetime.date(2009, 7, 8), datetime.date(2009, 7, 7),\n",
              "       datetime.date(2009, 7, 6), datetime.date(2009, 7, 5),\n",
              "       datetime.date(2009, 7, 4), datetime.date(2009, 7, 3),\n",
              "       datetime.date(2009, 7, 2), datetime.date(2009, 7, 1),\n",
              "       datetime.date(2009, 6, 30), datetime.date(2009, 6, 29),\n",
              "       datetime.date(2009, 6, 28), datetime.date(2009, 6, 27),\n",
              "       datetime.date(2009, 6, 26), datetime.date(2009, 6, 25),\n",
              "       datetime.date(2009, 6, 24), datetime.date(2009, 6, 23),\n",
              "       datetime.date(2009, 6, 22), datetime.date(2009, 6, 21),\n",
              "       datetime.date(2009, 6, 20), datetime.date(2009, 6, 19),\n",
              "       datetime.date(2009, 6, 18), datetime.date(2009, 6, 17),\n",
              "       datetime.date(2009, 6, 16), datetime.date(2009, 6, 15),\n",
              "       datetime.date(2009, 6, 14), datetime.date(2009, 6, 13),\n",
              "       datetime.date(2009, 6, 12), datetime.date(2009, 6, 11),\n",
              "       datetime.date(2009, 6, 10), datetime.date(2009, 6, 9),\n",
              "       datetime.date(2009, 6, 8), datetime.date(2009, 6, 7),\n",
              "       datetime.date(2009, 6, 6), datetime.date(2009, 6, 5),\n",
              "       datetime.date(2009, 6, 4), datetime.date(2009, 6, 3),\n",
              "       datetime.date(2009, 6, 2), datetime.date(2009, 6, 1),\n",
              "       datetime.date(2009, 5, 31), datetime.date(2009, 5, 30),\n",
              "       datetime.date(2009, 5, 29), datetime.date(2009, 5, 28),\n",
              "       datetime.date(2009, 5, 27), datetime.date(2009, 5, 26),\n",
              "       datetime.date(2009, 5, 25), datetime.date(2010, 10, 15),\n",
              "       datetime.date(2010, 9, 17), datetime.date(2010, 9, 7),\n",
              "       datetime.date(2010, 8, 31), datetime.date(2010, 8, 30),\n",
              "       datetime.date(2010, 8, 20), datetime.date(2010, 8, 18),\n",
              "       datetime.date(2010, 8, 17), datetime.date(2010, 8, 16),\n",
              "       datetime.date(2010, 8, 11), datetime.date(2010, 8, 9),\n",
              "       datetime.date(2010, 7, 15), datetime.date(2010, 7, 12),\n",
              "       datetime.date(2010, 7, 6), datetime.date(2010, 6, 25),\n",
              "       datetime.date(2010, 6, 22), datetime.date(2010, 6, 11),\n",
              "       datetime.date(2010, 6, 4), datetime.date(2010, 6, 1),\n",
              "       datetime.date(2010, 5, 28), datetime.date(2010, 5, 10),\n",
              "       datetime.date(2010, 4, 27), datetime.date(2010, 4, 14),\n",
              "       datetime.date(2010, 4, 9), datetime.date(2010, 3, 30),\n",
              "       datetime.date(2010, 3, 29), datetime.date(2010, 3, 26),\n",
              "       datetime.date(2010, 3, 2), datetime.date(2010, 1, 30),\n",
              "       datetime.date(2010, 1, 8), datetime.date(2009, 10, 7),\n",
              "       datetime.date(2009, 10, 1), datetime.date(2009, 9, 16),\n",
              "       datetime.date(2009, 9, 13), datetime.date(2009, 9, 7),\n",
              "       datetime.date(2009, 8, 30), datetime.date(2009, 8, 12),\n",
              "       datetime.date(2009, 8, 8), datetime.date(2009, 8, 7),\n",
              "       datetime.date(2009, 8, 4), datetime.date(2009, 7, 28),\n",
              "       datetime.date(2009, 7, 26), datetime.date(2009, 7, 19),\n",
              "       datetime.date(2009, 7, 18), datetime.date(2009, 5, 24),\n",
              "       datetime.date(2009, 5, 23), datetime.date(2009, 5, 22),\n",
              "       datetime.date(2009, 5, 21), datetime.date(2009, 5, 20),\n",
              "       datetime.date(2009, 5, 19), datetime.date(2009, 5, 18),\n",
              "       datetime.date(2009, 5, 17), datetime.date(2009, 5, 16),\n",
              "       datetime.date(2009, 5, 15), datetime.date(2009, 5, 14),\n",
              "       datetime.date(2009, 5, 13), datetime.date(2009, 5, 12),\n",
              "       datetime.date(2009, 5, 11), datetime.date(2009, 5, 10),\n",
              "       datetime.date(2009, 5, 9), datetime.date(2009, 5, 8),\n",
              "       datetime.date(2009, 5, 7), datetime.date(2009, 5, 6),\n",
              "       datetime.date(2009, 5, 5), datetime.date(2009, 5, 4),\n",
              "       datetime.date(2009, 5, 3), datetime.date(2009, 5, 2),\n",
              "       datetime.date(2009, 5, 1), datetime.date(2009, 4, 30),\n",
              "       datetime.date(2009, 4, 29), datetime.date(2009, 4, 28),\n",
              "       datetime.date(2009, 4, 27), datetime.date(2009, 4, 26),\n",
              "       datetime.date(2009, 4, 25), datetime.date(2009, 4, 24),\n",
              "       datetime.date(2009, 4, 23), datetime.date(2009, 4, 22),\n",
              "       datetime.date(2009, 4, 21), datetime.date(2009, 4, 20),\n",
              "       datetime.date(2009, 4, 19), datetime.date(2009, 4, 18),\n",
              "       datetime.date(2009, 4, 17), datetime.date(2009, 4, 16),\n",
              "       datetime.date(2009, 4, 15), datetime.date(2009, 4, 14),\n",
              "       datetime.date(2009, 4, 13), datetime.date(2009, 4, 12),\n",
              "       datetime.date(2009, 4, 11), datetime.date(2009, 4, 10),\n",
              "       datetime.date(2009, 4, 9), datetime.date(2009, 4, 8),\n",
              "       datetime.date(2009, 4, 7), datetime.date(2009, 4, 6),\n",
              "       datetime.date(2009, 4, 5), datetime.date(2009, 4, 4),\n",
              "       datetime.date(2009, 4, 3), datetime.date(2009, 4, 2),\n",
              "       datetime.date(2009, 4, 1), datetime.date(2009, 3, 31),\n",
              "       datetime.date(2009, 3, 30), datetime.date(2010, 8, 8),\n",
              "       datetime.date(2009, 3, 27), datetime.date(2009, 3, 26),\n",
              "       datetime.date(2009, 3, 24), datetime.date(2009, 3, 23),\n",
              "       datetime.date(2009, 3, 22), datetime.date(2009, 3, 15),\n",
              "       datetime.date(2009, 3, 10), datetime.date(2009, 3, 9),\n",
              "       datetime.date(2009, 3, 8), datetime.date(2009, 3, 7),\n",
              "       datetime.date(2009, 3, 6), datetime.date(2009, 3, 5),\n",
              "       datetime.date(2009, 3, 4), datetime.date(2009, 3, 3),\n",
              "       datetime.date(2009, 3, 2), datetime.date(2009, 3, 1),\n",
              "       datetime.date(2009, 2, 28), datetime.date(2009, 2, 27),\n",
              "       datetime.date(2009, 2, 26), datetime.date(2009, 2, 25),\n",
              "       datetime.date(2009, 2, 24), datetime.date(2009, 2, 23),\n",
              "       datetime.date(2009, 2, 22), datetime.date(2009, 2, 21),\n",
              "       datetime.date(2009, 2, 20), datetime.date(2009, 2, 19),\n",
              "       datetime.date(2009, 2, 18), datetime.date(2009, 2, 17),\n",
              "       datetime.date(2009, 2, 16), datetime.date(2009, 2, 15),\n",
              "       datetime.date(2009, 2, 14), datetime.date(2009, 2, 13),\n",
              "       datetime.date(2009, 2, 12), datetime.date(2009, 2, 9),\n",
              "       datetime.date(2009, 2, 8), datetime.date(2009, 2, 7),\n",
              "       datetime.date(2009, 2, 6), datetime.date(2009, 2, 5),\n",
              "       datetime.date(2009, 2, 4), datetime.date(2009, 2, 3),\n",
              "       datetime.date(2009, 2, 2), datetime.date(2009, 2, 1),\n",
              "       datetime.date(2009, 1, 31), datetime.date(2009, 1, 30),\n",
              "       datetime.date(2009, 1, 29), datetime.date(2009, 1, 28),\n",
              "       datetime.date(2009, 1, 27), datetime.date(2009, 1, 26),\n",
              "       datetime.date(2009, 1, 25), datetime.date(2009, 1, 24),\n",
              "       datetime.date(2009, 1, 23), datetime.date(2009, 1, 22),\n",
              "       datetime.date(2009, 1, 21), datetime.date(2009, 1, 20),\n",
              "       datetime.date(2009, 1, 19), datetime.date(2009, 1, 18),\n",
              "       datetime.date(2009, 1, 17), datetime.date(2009, 1, 16),\n",
              "       datetime.date(2009, 1, 15), datetime.date(2009, 1, 14),\n",
              "       datetime.date(2009, 1, 13), datetime.date(2009, 1, 12),\n",
              "       datetime.date(2009, 1, 11), datetime.date(2009, 1, 9),\n",
              "       datetime.date(2009, 1, 7), datetime.date(2009, 1, 6),\n",
              "       datetime.date(2009, 1, 5), datetime.date(2009, 1, 4),\n",
              "       datetime.date(2009, 1, 3), datetime.date(2008, 12, 31),\n",
              "       datetime.date(2008, 12, 30), datetime.date(2008, 12, 29),\n",
              "       datetime.date(2008, 12, 28), datetime.date(2008, 12, 27),\n",
              "       datetime.date(2008, 12, 26), datetime.date(2008, 12, 25),\n",
              "       datetime.date(2008, 12, 24), datetime.date(2008, 12, 23),\n",
              "       datetime.date(2008, 12, 21), datetime.date(2008, 12, 20),\n",
              "       datetime.date(2008, 12, 19), datetime.date(2008, 12, 18),\n",
              "       datetime.date(2008, 12, 17), datetime.date(2008, 12, 16),\n",
              "       datetime.date(2008, 12, 15), datetime.date(2008, 12, 14),\n",
              "       datetime.date(2008, 12, 13), datetime.date(2008, 12, 12),\n",
              "       datetime.date(2008, 12, 11), datetime.date(2008, 12, 10),\n",
              "       datetime.date(2008, 12, 9), datetime.date(2008, 12, 8),\n",
              "       datetime.date(2008, 12, 7), datetime.date(2008, 12, 6),\n",
              "       datetime.date(2008, 12, 5), datetime.date(2008, 12, 4),\n",
              "       datetime.date(2008, 12, 3), datetime.date(2008, 12, 2),\n",
              "       datetime.date(2008, 12, 1), datetime.date(2008, 11, 30),\n",
              "       datetime.date(2008, 11, 29), datetime.date(2008, 11, 28),\n",
              "       datetime.date(2008, 11, 27), datetime.date(2008, 11, 25),\n",
              "       datetime.date(2008, 11, 24), datetime.date(2008, 11, 23),\n",
              "       datetime.date(2008, 11, 22), datetime.date(2008, 11, 21),\n",
              "       datetime.date(2008, 11, 20), datetime.date(2008, 11, 19),\n",
              "       datetime.date(2008, 11, 18), datetime.date(2008, 11, 17),\n",
              "       datetime.date(2008, 11, 16), datetime.date(2008, 11, 15),\n",
              "       datetime.date(2008, 11, 13), datetime.date(2008, 11, 9),\n",
              "       datetime.date(2008, 11, 8), datetime.date(2008, 11, 6),\n",
              "       datetime.date(2008, 11, 5), datetime.date(2008, 11, 4),\n",
              "       datetime.date(2008, 11, 3), datetime.date(2008, 11, 2),\n",
              "       datetime.date(2008, 11, 1), datetime.date(2008, 10, 31),\n",
              "       datetime.date(2008, 10, 30), datetime.date(2008, 10, 29),\n",
              "       datetime.date(2008, 10, 27), datetime.date(2008, 10, 26),\n",
              "       datetime.date(2008, 10, 25), datetime.date(2008, 10, 24),\n",
              "       datetime.date(2008, 10, 23), datetime.date(2008, 10, 22),\n",
              "       datetime.date(2008, 10, 21), datetime.date(2008, 10, 13),\n",
              "       datetime.date(2008, 10, 12), datetime.date(2008, 10, 8),\n",
              "       datetime.date(2008, 10, 5), datetime.date(2008, 10, 1),\n",
              "       datetime.date(2008, 9, 30), datetime.date(2008, 9, 25),\n",
              "       datetime.date(2008, 9, 23), datetime.date(2008, 9, 22),\n",
              "       datetime.date(2008, 9, 21), datetime.date(2008, 9, 20),\n",
              "       datetime.date(2008, 9, 19), datetime.date(2008, 9, 18),\n",
              "       datetime.date(2008, 9, 17), datetime.date(2008, 9, 16),\n",
              "       datetime.date(2008, 9, 15), datetime.date(2008, 9, 14),\n",
              "       datetime.date(2008, 9, 13), datetime.date(2008, 9, 12),\n",
              "       datetime.date(2008, 9, 11), datetime.date(2008, 9, 10),\n",
              "       datetime.date(2008, 9, 9), datetime.date(2008, 9, 8),\n",
              "       datetime.date(2008, 9, 7), datetime.date(2008, 9, 6),\n",
              "       datetime.date(2008, 9, 5), datetime.date(2008, 9, 4),\n",
              "       datetime.date(2008, 9, 3), datetime.date(2008, 9, 1),\n",
              "       datetime.date(2008, 8, 31), datetime.date(2008, 8, 30),\n",
              "       datetime.date(2008, 8, 29), datetime.date(2008, 8, 28),\n",
              "       datetime.date(2008, 8, 27), datetime.date(2008, 8, 26),\n",
              "       datetime.date(2008, 8, 25), datetime.date(2008, 8, 24),\n",
              "       datetime.date(2008, 8, 23), datetime.date(2008, 8, 22),\n",
              "       datetime.date(2008, 8, 21), datetime.date(2008, 8, 20),\n",
              "       datetime.date(2008, 8, 19), datetime.date(2008, 8, 18),\n",
              "       datetime.date(2008, 8, 17), datetime.date(2008, 8, 16),\n",
              "       datetime.date(2008, 8, 15), datetime.date(2008, 8, 14),\n",
              "       datetime.date(2008, 8, 13), datetime.date(2008, 8, 12),\n",
              "       datetime.date(2008, 8, 11), datetime.date(2008, 8, 10),\n",
              "       datetime.date(2008, 8, 9), datetime.date(2008, 8, 8),\n",
              "       datetime.date(2008, 8, 7), datetime.date(2008, 8, 6),\n",
              "       datetime.date(2008, 8, 5), datetime.date(2008, 8, 4),\n",
              "       datetime.date(2008, 8, 3), datetime.date(2008, 8, 2),\n",
              "       datetime.date(2008, 7, 31), datetime.date(2008, 7, 30),\n",
              "       datetime.date(2008, 7, 29), datetime.date(2008, 7, 28),\n",
              "       datetime.date(2008, 7, 27), datetime.date(2008, 7, 26),\n",
              "       datetime.date(2008, 7, 25), datetime.date(2008, 7, 23),\n",
              "       datetime.date(2008, 7, 22), datetime.date(2008, 7, 21),\n",
              "       datetime.date(2008, 7, 20), datetime.date(2008, 7, 19),\n",
              "       datetime.date(2008, 7, 18), datetime.date(2008, 7, 17),\n",
              "       datetime.date(2008, 7, 16), datetime.date(2008, 7, 15),\n",
              "       datetime.date(2008, 7, 14), datetime.date(2008, 7, 13),\n",
              "       datetime.date(2008, 7, 12), datetime.date(2008, 7, 11),\n",
              "       datetime.date(2008, 7, 10), datetime.date(2008, 7, 9),\n",
              "       datetime.date(2008, 7, 8), datetime.date(2008, 7, 7),\n",
              "       datetime.date(2008, 7, 6), datetime.date(2008, 7, 5),\n",
              "       datetime.date(2008, 7, 4), datetime.date(2008, 7, 3),\n",
              "       datetime.date(2008, 7, 2), datetime.date(2008, 7, 1),\n",
              "       datetime.date(2008, 6, 30), datetime.date(2008, 6, 29),\n",
              "       datetime.date(2008, 6, 28), datetime.date(2008, 6, 27),\n",
              "       datetime.date(2008, 6, 26), datetime.date(2008, 6, 25),\n",
              "       datetime.date(2008, 6, 24), datetime.date(2008, 6, 23),\n",
              "       datetime.date(2008, 6, 22), datetime.date(2008, 6, 21),\n",
              "       datetime.date(2008, 6, 20), datetime.date(2008, 6, 19),\n",
              "       datetime.date(2008, 6, 18), datetime.date(2008, 6, 17),\n",
              "       datetime.date(2008, 6, 16), datetime.date(2008, 6, 15),\n",
              "       datetime.date(2008, 6, 14), datetime.date(2008, 6, 13),\n",
              "       datetime.date(2008, 6, 12), datetime.date(2008, 6, 11),\n",
              "       datetime.date(2008, 6, 10), datetime.date(2008, 6, 9),\n",
              "       datetime.date(2008, 6, 7), datetime.date(2008, 6, 6),\n",
              "       datetime.date(2008, 6, 5), datetime.date(2008, 6, 4),\n",
              "       datetime.date(2008, 6, 3), datetime.date(2008, 6, 2),\n",
              "       datetime.date(2008, 6, 1), datetime.date(2008, 5, 31),\n",
              "       datetime.date(2008, 5, 30), datetime.date(2008, 5, 29),\n",
              "       datetime.date(2008, 5, 28), datetime.date(2008, 5, 27),\n",
              "       datetime.date(2008, 5, 26), datetime.date(2008, 5, 25),\n",
              "       datetime.date(2008, 5, 24), datetime.date(2008, 5, 23),\n",
              "       datetime.date(2008, 5, 22), datetime.date(2008, 5, 21),\n",
              "       datetime.date(2008, 5, 20), datetime.date(2008, 5, 19),\n",
              "       datetime.date(2008, 5, 18), datetime.date(2008, 5, 17),\n",
              "       datetime.date(2008, 5, 16), datetime.date(2008, 5, 15),\n",
              "       datetime.date(2008, 5, 14), datetime.date(2008, 5, 13),\n",
              "       datetime.date(2008, 5, 12), datetime.date(2008, 5, 11),\n",
              "       datetime.date(2008, 5, 10), datetime.date(2008, 5, 9),\n",
              "       datetime.date(2008, 5, 8), datetime.date(2008, 5, 7),\n",
              "       datetime.date(2008, 5, 6), datetime.date(2008, 5, 5),\n",
              "       datetime.date(2008, 5, 4), datetime.date(2008, 5, 3),\n",
              "       datetime.date(2008, 5, 2), datetime.date(2008, 5, 1),\n",
              "       datetime.date(2008, 4, 30), datetime.date(2008, 4, 29),\n",
              "       datetime.date(2008, 4, 28), datetime.date(2008, 4, 27),\n",
              "       datetime.date(2008, 4, 26), datetime.date(2008, 4, 25),\n",
              "       datetime.date(2008, 4, 24), datetime.date(2008, 4, 23),\n",
              "       datetime.date(2008, 4, 22), datetime.date(2008, 4, 21),\n",
              "       datetime.date(2008, 4, 20), datetime.date(2008, 4, 19),\n",
              "       datetime.date(2008, 4, 18), datetime.date(2008, 4, 17),\n",
              "       datetime.date(2008, 4, 16), datetime.date(2008, 4, 15),\n",
              "       datetime.date(2008, 4, 14), datetime.date(2010, 10, 10),\n",
              "       datetime.date(2010, 9, 26), datetime.date(2010, 8, 21),\n",
              "       datetime.date(2010, 6, 17), datetime.date(2010, 4, 24),\n",
              "       datetime.date(2010, 3, 28), datetime.date(2010, 3, 25),\n",
              "       datetime.date(2010, 2, 14), datetime.date(2009, 11, 26),\n",
              "       datetime.date(2009, 3, 17), datetime.date(2009, 3, 11),\n",
              "       datetime.date(2009, 1, 10), datetime.date(2008, 12, 22),\n",
              "       datetime.date(2008, 11, 12), datetime.date(2008, 11, 11),\n",
              "       datetime.date(2008, 11, 10), datetime.date(2008, 11, 7),\n",
              "       datetime.date(2008, 10, 28), datetime.date(2009, 3, 29),\n",
              "       datetime.date(2009, 3, 18), datetime.date(2009, 3, 28),\n",
              "       datetime.date(2009, 3, 25), datetime.date(2009, 3, 21),\n",
              "       datetime.date(2009, 3, 20), datetime.date(2009, 3, 14),\n",
              "       datetime.date(2009, 3, 13), datetime.date(2009, 3, 12),\n",
              "       datetime.date(2009, 2, 11), datetime.date(2009, 1, 8),\n",
              "       datetime.date(2008, 11, 26), datetime.date(2008, 11, 14),\n",
              "       datetime.date(2008, 10, 19), datetime.date(2008, 10, 18),\n",
              "       datetime.date(2008, 10, 17), datetime.date(2008, 10, 16),\n",
              "       datetime.date(2008, 10, 11), datetime.date(2008, 10, 10),\n",
              "       datetime.date(2008, 10, 9), datetime.date(2008, 10, 7),\n",
              "       datetime.date(2008, 10, 6), datetime.date(2008, 10, 4),\n",
              "       datetime.date(2008, 10, 3), datetime.date(2008, 10, 2),\n",
              "       datetime.date(2008, 9, 28), datetime.date(2008, 9, 26),\n",
              "       datetime.date(2008, 9, 2), datetime.date(2008, 8, 1),\n",
              "       datetime.date(2009, 12, 26), datetime.date(2009, 12, 25),\n",
              "       datetime.date(2009, 3, 19), datetime.date(2009, 3, 16),\n",
              "       datetime.date(2009, 1, 2), datetime.date(2009, 1, 1),\n",
              "       datetime.date(2008, 10, 20), datetime.date(2009, 2, 10),\n",
              "       datetime.date(2008, 10, 14), datetime.date(2008, 9, 29),\n",
              "       datetime.date(2008, 9, 27), datetime.date(2008, 4, 13),\n",
              "       datetime.date(2008, 4, 12), datetime.date(2008, 4, 10),\n",
              "       datetime.date(2008, 4, 9), datetime.date(2008, 4, 7),\n",
              "       datetime.date(2008, 4, 6), datetime.date(2008, 4, 5),\n",
              "       datetime.date(2008, 4, 4), datetime.date(2008, 4, 3),\n",
              "       datetime.date(2008, 4, 2), datetime.date(2008, 4, 1),\n",
              "       datetime.date(2008, 3, 29), datetime.date(2008, 3, 28),\n",
              "       datetime.date(2008, 3, 25), datetime.date(2008, 3, 24),\n",
              "       datetime.date(2008, 3, 23), datetime.date(2008, 3, 22),\n",
              "       datetime.date(2008, 9, 24), datetime.date(2008, 10, 15),\n",
              "       datetime.date(2008, 7, 24), datetime.date(2008, 6, 8),\n",
              "       datetime.date(2008, 3, 27), datetime.date(2008, 4, 11),\n",
              "       datetime.date(2008, 4, 8), datetime.date(2008, 3, 30),\n",
              "       datetime.date(2010, 10, 18), datetime.date(2008, 3, 31),\n",
              "       datetime.date(2008, 3, 26), datetime.date(2008, 3, 21)],\n",
              "      dtype=object)"
            ]
          },
          "metadata": {},
          "execution_count": 28
        }
      ]
    },
    {
      "cell_type": "code",
      "source": [
        "brightkite_total_checkin_df.longitude.unique()"
      ],
      "metadata": {
        "colab": {
          "base_uri": "https://localhost:8080/"
        },
        "outputId": "ec521a52-6e89-4967-87a4-ac3a41e063a7",
        "id": "tOFFrV9Rpdqa"
      },
      "execution_count": null,
      "outputs": [
        {
          "output_type": "execute_result",
          "data": {
            "text/plain": [
              "array([-104.99251 , -105.070814, -105.068532, ...,   11.918092,\n",
              "         35.577222,   35.578156])"
            ]
          },
          "metadata": {},
          "execution_count": 30
        }
      ]
    },
    {
      "cell_type": "code",
      "source": [
        "len(brightkite_total_checkin_df.longitude.unique())"
      ],
      "metadata": {
        "colab": {
          "base_uri": "https://localhost:8080/"
        },
        "outputId": "c93f2578-636b-4695-8fff-567e74270655",
        "id": "1Gskanyepdqa"
      },
      "execution_count": null,
      "outputs": [
        {
          "output_type": "execute_result",
          "data": {
            "text/plain": [
              "659658"
            ]
          },
          "metadata": {},
          "execution_count": 29
        }
      ]
    },
    {
      "cell_type": "code",
      "source": [
        "brightkite_total_checkin_df.latitude.unique()"
      ],
      "metadata": {
        "colab": {
          "base_uri": "https://localhost:8080/"
        },
        "outputId": "15ebac88-a64b-496a-db36-fa1ca660274b",
        "id": "Gu7sZqLrpdqa"
      },
      "execution_count": null,
      "outputs": [
        {
          "output_type": "execute_result",
          "data": {
            "text/plain": [
              "array([39.747652, 39.891383, 39.891077, ..., 57.685848, 33.853611,\n",
              "       33.855255])"
            ]
          },
          "metadata": {},
          "execution_count": 31
        }
      ]
    },
    {
      "cell_type": "code",
      "source": [
        "len(brightkite_total_checkin_df.latitude.unique())"
      ],
      "metadata": {
        "colab": {
          "base_uri": "https://localhost:8080/"
        },
        "outputId": "e2c34164-88c3-4bfd-9025-2af8975075d0",
        "id": "vcRJT1YWpdqb"
      },
      "execution_count": null,
      "outputs": [
        {
          "output_type": "execute_result",
          "data": {
            "text/plain": [
              "651008"
            ]
          },
          "metadata": {},
          "execution_count": 32
        }
      ]
    },
    {
      "cell_type": "code",
      "source": [
        "brightkite_total_checkin_df.location_id.value_counts()"
      ],
      "metadata": {
        "colab": {
          "base_uri": "https://localhost:8080/"
        },
        "outputId": "de69c736-5ab6-41e9-d2c3-82141cba8c20",
        "id": "xYKpn0_jpdqb"
      },
      "execution_count": null,
      "outputs": [
        {
          "output_type": "execute_result",
          "data": {
            "text/plain": [
              "location_id\n",
              "00000000000000000000000000000000            254619\n",
              "ee81ef22a22411ddb5e97f082c799f59             17396\n",
              "ede07eeea22411dda0ef53e233ec57ca             16896\n",
              "ee8b1d0ea22411ddb074dbd65f1665cf             16687\n",
              "ee78cc1ca22411dd9b3d576115a846a7             14487\n",
              "                                             ...  \n",
              "ec0a9d02a22411ddacd517d9006173e4                 1\n",
              "cfa07e2b6e48d5818585dfabaf43c55d82369630         1\n",
              "94aad8d47b9011dd8e030030487eb504                 1\n",
              "aa7f27827d0211dda7da0030487eb504                 1\n",
              "6ba679dce99c11dd8e2f003048c10834                 1\n",
              "Name: count, Length: 772966, dtype: int64"
            ]
          },
          "metadata": {},
          "execution_count": 33
        }
      ]
    },
    {
      "cell_type": "markdown",
      "source": [
        "Максимум 1134 связи у одного пользователя"
      ],
      "metadata": {
        "id": "NE3U5RgzKnMd"
      }
    },
    {
      "cell_type": "code",
      "source": [
        "brightkite_edges_df['1st friend'].value_counts()"
      ],
      "metadata": {
        "colab": {
          "base_uri": "https://localhost:8080/"
        },
        "outputId": "7d3e863a-e250-44a6-a39f-0c83220fe90e",
        "id": "otNFIlaupdqb"
      },
      "execution_count": null,
      "outputs": [
        {
          "output_type": "execute_result",
          "data": {
            "text/plain": [
              "1st friend\n",
              "40       1134\n",
              "44       1055\n",
              "108       854\n",
              "116       838\n",
              "159       833\n",
              "         ... \n",
              "7877        1\n",
              "38315       1\n",
              "38314       1\n",
              "38313       1\n",
              "58227       1\n",
              "Name: count, Length: 58228, dtype: int64"
            ]
          },
          "metadata": {},
          "execution_count": 34
        }
      ]
    },
    {
      "cell_type": "code",
      "source": [
        "brightkite_edges_df['2nd friend'].value_counts()"
      ],
      "metadata": {
        "colab": {
          "base_uri": "https://localhost:8080/"
        },
        "outputId": "695e2806-4732-4cb5-c973-002a308524a7",
        "id": "9Im9ovpdpdqb"
      },
      "execution_count": null,
      "outputs": [
        {
          "output_type": "execute_result",
          "data": {
            "text/plain": [
              "2nd friend\n",
              "40       1134\n",
              "44       1055\n",
              "108       854\n",
              "116       838\n",
              "159       833\n",
              "         ... \n",
              "38676       1\n",
              "38674       1\n",
              "38673       1\n",
              "38672       1\n",
              "58227       1\n",
              "Name: count, Length: 58228, dtype: int64"
            ]
          },
          "metadata": {},
          "execution_count": 35
        }
      ]
    },
    {
      "cell_type": "markdown",
      "source": [
        "# Gowalla"
      ],
      "metadata": {
        "id": "2TpTylJMB4V8"
      }
    },
    {
      "cell_type": "markdown",
      "source": [
        "## Downloading"
      ],
      "metadata": {
        "id": "tRvIXsYDLbRs"
      }
    },
    {
      "cell_type": "code",
      "source": [
        "gowalla_total_checkin_df = dataset_txt_file_download('https://disk.yandex.ru/d/KVm7gIom6YooWA', 'Gowalla_totalCheckins.txt')"
      ],
      "metadata": {
        "id": "S-8MZoQ6B6G1"
      },
      "execution_count": null,
      "outputs": []
    },
    {
      "cell_type": "code",
      "source": [
        "gowalla_total_checkin_df.columns = ['user', 'check-in time', 'latitude', 'longitude', 'location_id']\n",
        "gowalla_total_checkin_df"
      ],
      "metadata": {
        "colab": {
          "base_uri": "https://localhost:8080/",
          "height": 424
        },
        "id": "q7oe0TmICadk",
        "outputId": "01d3e046-81c5-4e4f-cfd6-74d6f7da4df1"
      },
      "execution_count": null,
      "outputs": [
        {
          "output_type": "execute_result",
          "data": {
            "text/plain": [
              "           user         check-in time   latitude  longitude  location_id\n",
              "0             0  2010-10-19T23:55:27Z  30.235909 -97.795140        22847\n",
              "1             0  2010-10-18T22:17:43Z  30.269103 -97.749395       420315\n",
              "2             0  2010-10-17T23:42:03Z  30.255731 -97.763386       316637\n",
              "3             0  2010-10-17T19:26:05Z  30.263418 -97.757597        16516\n",
              "4             0  2010-10-16T18:50:42Z  30.274292 -97.740523      5535878\n",
              "...         ...                   ...        ...        ...          ...\n",
              "6442887  196578  2010-06-11T13:32:26Z  51.742988  -0.488065       906885\n",
              "6442888  196578  2010-06-11T13:26:45Z  51.746492  -0.490780       965121\n",
              "6442889  196578  2010-06-11T13:26:34Z  51.741916  -0.496729      1174322\n",
              "6442890  196585  2010-10-08T21:01:49Z  50.105516   8.571525       471724\n",
              "6442891  196585  2010-10-07T17:39:18Z  50.027812   8.785098      4555073\n",
              "\n",
              "[6442892 rows x 5 columns]"
            ],
            "text/html": [
              "\n",
              "  <div id=\"df-cc6d97ac-1d9c-479a-b31b-98f8d7e81417\" class=\"colab-df-container\">\n",
              "    <div>\n",
              "<style scoped>\n",
              "    .dataframe tbody tr th:only-of-type {\n",
              "        vertical-align: middle;\n",
              "    }\n",
              "\n",
              "    .dataframe tbody tr th {\n",
              "        vertical-align: top;\n",
              "    }\n",
              "\n",
              "    .dataframe thead th {\n",
              "        text-align: right;\n",
              "    }\n",
              "</style>\n",
              "<table border=\"1\" class=\"dataframe\">\n",
              "  <thead>\n",
              "    <tr style=\"text-align: right;\">\n",
              "      <th></th>\n",
              "      <th>user</th>\n",
              "      <th>check-in time</th>\n",
              "      <th>latitude</th>\n",
              "      <th>longitude</th>\n",
              "      <th>location_id</th>\n",
              "    </tr>\n",
              "  </thead>\n",
              "  <tbody>\n",
              "    <tr>\n",
              "      <th>0</th>\n",
              "      <td>0</td>\n",
              "      <td>2010-10-19T23:55:27Z</td>\n",
              "      <td>30.235909</td>\n",
              "      <td>-97.795140</td>\n",
              "      <td>22847</td>\n",
              "    </tr>\n",
              "    <tr>\n",
              "      <th>1</th>\n",
              "      <td>0</td>\n",
              "      <td>2010-10-18T22:17:43Z</td>\n",
              "      <td>30.269103</td>\n",
              "      <td>-97.749395</td>\n",
              "      <td>420315</td>\n",
              "    </tr>\n",
              "    <tr>\n",
              "      <th>2</th>\n",
              "      <td>0</td>\n",
              "      <td>2010-10-17T23:42:03Z</td>\n",
              "      <td>30.255731</td>\n",
              "      <td>-97.763386</td>\n",
              "      <td>316637</td>\n",
              "    </tr>\n",
              "    <tr>\n",
              "      <th>3</th>\n",
              "      <td>0</td>\n",
              "      <td>2010-10-17T19:26:05Z</td>\n",
              "      <td>30.263418</td>\n",
              "      <td>-97.757597</td>\n",
              "      <td>16516</td>\n",
              "    </tr>\n",
              "    <tr>\n",
              "      <th>4</th>\n",
              "      <td>0</td>\n",
              "      <td>2010-10-16T18:50:42Z</td>\n",
              "      <td>30.274292</td>\n",
              "      <td>-97.740523</td>\n",
              "      <td>5535878</td>\n",
              "    </tr>\n",
              "    <tr>\n",
              "      <th>...</th>\n",
              "      <td>...</td>\n",
              "      <td>...</td>\n",
              "      <td>...</td>\n",
              "      <td>...</td>\n",
              "      <td>...</td>\n",
              "    </tr>\n",
              "    <tr>\n",
              "      <th>6442887</th>\n",
              "      <td>196578</td>\n",
              "      <td>2010-06-11T13:32:26Z</td>\n",
              "      <td>51.742988</td>\n",
              "      <td>-0.488065</td>\n",
              "      <td>906885</td>\n",
              "    </tr>\n",
              "    <tr>\n",
              "      <th>6442888</th>\n",
              "      <td>196578</td>\n",
              "      <td>2010-06-11T13:26:45Z</td>\n",
              "      <td>51.746492</td>\n",
              "      <td>-0.490780</td>\n",
              "      <td>965121</td>\n",
              "    </tr>\n",
              "    <tr>\n",
              "      <th>6442889</th>\n",
              "      <td>196578</td>\n",
              "      <td>2010-06-11T13:26:34Z</td>\n",
              "      <td>51.741916</td>\n",
              "      <td>-0.496729</td>\n",
              "      <td>1174322</td>\n",
              "    </tr>\n",
              "    <tr>\n",
              "      <th>6442890</th>\n",
              "      <td>196585</td>\n",
              "      <td>2010-10-08T21:01:49Z</td>\n",
              "      <td>50.105516</td>\n",
              "      <td>8.571525</td>\n",
              "      <td>471724</td>\n",
              "    </tr>\n",
              "    <tr>\n",
              "      <th>6442891</th>\n",
              "      <td>196585</td>\n",
              "      <td>2010-10-07T17:39:18Z</td>\n",
              "      <td>50.027812</td>\n",
              "      <td>8.785098</td>\n",
              "      <td>4555073</td>\n",
              "    </tr>\n",
              "  </tbody>\n",
              "</table>\n",
              "<p>6442892 rows × 5 columns</p>\n",
              "</div>\n",
              "    <div class=\"colab-df-buttons\">\n",
              "\n",
              "  <div class=\"colab-df-container\">\n",
              "    <button class=\"colab-df-convert\" onclick=\"convertToInteractive('df-cc6d97ac-1d9c-479a-b31b-98f8d7e81417')\"\n",
              "            title=\"Convert this dataframe to an interactive table.\"\n",
              "            style=\"display:none;\">\n",
              "\n",
              "  <svg xmlns=\"http://www.w3.org/2000/svg\" height=\"24px\" viewBox=\"0 -960 960 960\">\n",
              "    <path d=\"M120-120v-720h720v720H120Zm60-500h600v-160H180v160Zm220 220h160v-160H400v160Zm0 220h160v-160H400v160ZM180-400h160v-160H180v160Zm440 0h160v-160H620v160ZM180-180h160v-160H180v160Zm440 0h160v-160H620v160Z\"/>\n",
              "  </svg>\n",
              "    </button>\n",
              "\n",
              "  <style>\n",
              "    .colab-df-container {\n",
              "      display:flex;\n",
              "      gap: 12px;\n",
              "    }\n",
              "\n",
              "    .colab-df-convert {\n",
              "      background-color: #E8F0FE;\n",
              "      border: none;\n",
              "      border-radius: 50%;\n",
              "      cursor: pointer;\n",
              "      display: none;\n",
              "      fill: #1967D2;\n",
              "      height: 32px;\n",
              "      padding: 0 0 0 0;\n",
              "      width: 32px;\n",
              "    }\n",
              "\n",
              "    .colab-df-convert:hover {\n",
              "      background-color: #E2EBFA;\n",
              "      box-shadow: 0px 1px 2px rgba(60, 64, 67, 0.3), 0px 1px 3px 1px rgba(60, 64, 67, 0.15);\n",
              "      fill: #174EA6;\n",
              "    }\n",
              "\n",
              "    .colab-df-buttons div {\n",
              "      margin-bottom: 4px;\n",
              "    }\n",
              "\n",
              "    [theme=dark] .colab-df-convert {\n",
              "      background-color: #3B4455;\n",
              "      fill: #D2E3FC;\n",
              "    }\n",
              "\n",
              "    [theme=dark] .colab-df-convert:hover {\n",
              "      background-color: #434B5C;\n",
              "      box-shadow: 0px 1px 3px 1px rgba(0, 0, 0, 0.15);\n",
              "      filter: drop-shadow(0px 1px 2px rgba(0, 0, 0, 0.3));\n",
              "      fill: #FFFFFF;\n",
              "    }\n",
              "  </style>\n",
              "\n",
              "    <script>\n",
              "      const buttonEl =\n",
              "        document.querySelector('#df-cc6d97ac-1d9c-479a-b31b-98f8d7e81417 button.colab-df-convert');\n",
              "      buttonEl.style.display =\n",
              "        google.colab.kernel.accessAllowed ? 'block' : 'none';\n",
              "\n",
              "      async function convertToInteractive(key) {\n",
              "        const element = document.querySelector('#df-cc6d97ac-1d9c-479a-b31b-98f8d7e81417');\n",
              "        const dataTable =\n",
              "          await google.colab.kernel.invokeFunction('convertToInteractive',\n",
              "                                                    [key], {});\n",
              "        if (!dataTable) return;\n",
              "\n",
              "        const docLinkHtml = 'Like what you see? Visit the ' +\n",
              "          '<a target=\"_blank\" href=https://colab.research.google.com/notebooks/data_table.ipynb>data table notebook</a>'\n",
              "          + ' to learn more about interactive tables.';\n",
              "        element.innerHTML = '';\n",
              "        dataTable['output_type'] = 'display_data';\n",
              "        await google.colab.output.renderOutput(dataTable, element);\n",
              "        const docLink = document.createElement('div');\n",
              "        docLink.innerHTML = docLinkHtml;\n",
              "        element.appendChild(docLink);\n",
              "      }\n",
              "    </script>\n",
              "  </div>\n",
              "\n",
              "\n",
              "<div id=\"df-edc4ec3a-2316-4035-afb8-ab48f66c4bbe\">\n",
              "  <button class=\"colab-df-quickchart\" onclick=\"quickchart('df-edc4ec3a-2316-4035-afb8-ab48f66c4bbe')\"\n",
              "            title=\"Suggest charts\"\n",
              "            style=\"display:none;\">\n",
              "\n",
              "<svg xmlns=\"http://www.w3.org/2000/svg\" height=\"24px\"viewBox=\"0 0 24 24\"\n",
              "     width=\"24px\">\n",
              "    <g>\n",
              "        <path d=\"M19 3H5c-1.1 0-2 .9-2 2v14c0 1.1.9 2 2 2h14c1.1 0 2-.9 2-2V5c0-1.1-.9-2-2-2zM9 17H7v-7h2v7zm4 0h-2V7h2v10zm4 0h-2v-4h2v4z\"/>\n",
              "    </g>\n",
              "</svg>\n",
              "  </button>\n",
              "\n",
              "<style>\n",
              "  .colab-df-quickchart {\n",
              "      --bg-color: #E8F0FE;\n",
              "      --fill-color: #1967D2;\n",
              "      --hover-bg-color: #E2EBFA;\n",
              "      --hover-fill-color: #174EA6;\n",
              "      --disabled-fill-color: #AAA;\n",
              "      --disabled-bg-color: #DDD;\n",
              "  }\n",
              "\n",
              "  [theme=dark] .colab-df-quickchart {\n",
              "      --bg-color: #3B4455;\n",
              "      --fill-color: #D2E3FC;\n",
              "      --hover-bg-color: #434B5C;\n",
              "      --hover-fill-color: #FFFFFF;\n",
              "      --disabled-bg-color: #3B4455;\n",
              "      --disabled-fill-color: #666;\n",
              "  }\n",
              "\n",
              "  .colab-df-quickchart {\n",
              "    background-color: var(--bg-color);\n",
              "    border: none;\n",
              "    border-radius: 50%;\n",
              "    cursor: pointer;\n",
              "    display: none;\n",
              "    fill: var(--fill-color);\n",
              "    height: 32px;\n",
              "    padding: 0;\n",
              "    width: 32px;\n",
              "  }\n",
              "\n",
              "  .colab-df-quickchart:hover {\n",
              "    background-color: var(--hover-bg-color);\n",
              "    box-shadow: 0 1px 2px rgba(60, 64, 67, 0.3), 0 1px 3px 1px rgba(60, 64, 67, 0.15);\n",
              "    fill: var(--button-hover-fill-color);\n",
              "  }\n",
              "\n",
              "  .colab-df-quickchart-complete:disabled,\n",
              "  .colab-df-quickchart-complete:disabled:hover {\n",
              "    background-color: var(--disabled-bg-color);\n",
              "    fill: var(--disabled-fill-color);\n",
              "    box-shadow: none;\n",
              "  }\n",
              "\n",
              "  .colab-df-spinner {\n",
              "    border: 2px solid var(--fill-color);\n",
              "    border-color: transparent;\n",
              "    border-bottom-color: var(--fill-color);\n",
              "    animation:\n",
              "      spin 1s steps(1) infinite;\n",
              "  }\n",
              "\n",
              "  @keyframes spin {\n",
              "    0% {\n",
              "      border-color: transparent;\n",
              "      border-bottom-color: var(--fill-color);\n",
              "      border-left-color: var(--fill-color);\n",
              "    }\n",
              "    20% {\n",
              "      border-color: transparent;\n",
              "      border-left-color: var(--fill-color);\n",
              "      border-top-color: var(--fill-color);\n",
              "    }\n",
              "    30% {\n",
              "      border-color: transparent;\n",
              "      border-left-color: var(--fill-color);\n",
              "      border-top-color: var(--fill-color);\n",
              "      border-right-color: var(--fill-color);\n",
              "    }\n",
              "    40% {\n",
              "      border-color: transparent;\n",
              "      border-right-color: var(--fill-color);\n",
              "      border-top-color: var(--fill-color);\n",
              "    }\n",
              "    60% {\n",
              "      border-color: transparent;\n",
              "      border-right-color: var(--fill-color);\n",
              "    }\n",
              "    80% {\n",
              "      border-color: transparent;\n",
              "      border-right-color: var(--fill-color);\n",
              "      border-bottom-color: var(--fill-color);\n",
              "    }\n",
              "    90% {\n",
              "      border-color: transparent;\n",
              "      border-bottom-color: var(--fill-color);\n",
              "    }\n",
              "  }\n",
              "</style>\n",
              "\n",
              "  <script>\n",
              "    async function quickchart(key) {\n",
              "      const quickchartButtonEl =\n",
              "        document.querySelector('#' + key + ' button');\n",
              "      quickchartButtonEl.disabled = true;  // To prevent multiple clicks.\n",
              "      quickchartButtonEl.classList.add('colab-df-spinner');\n",
              "      try {\n",
              "        const charts = await google.colab.kernel.invokeFunction(\n",
              "            'suggestCharts', [key], {});\n",
              "      } catch (error) {\n",
              "        console.error('Error during call to suggestCharts:', error);\n",
              "      }\n",
              "      quickchartButtonEl.classList.remove('colab-df-spinner');\n",
              "      quickchartButtonEl.classList.add('colab-df-quickchart-complete');\n",
              "    }\n",
              "    (() => {\n",
              "      let quickchartButtonEl =\n",
              "        document.querySelector('#df-edc4ec3a-2316-4035-afb8-ab48f66c4bbe button');\n",
              "      quickchartButtonEl.style.display =\n",
              "        google.colab.kernel.accessAllowed ? 'block' : 'none';\n",
              "    })();\n",
              "  </script>\n",
              "</div>\n",
              "    </div>\n",
              "  </div>\n"
            ]
          },
          "metadata": {},
          "execution_count": 8
        }
      ]
    },
    {
      "cell_type": "code",
      "source": [
        "gowalla_edges_df = dataset_txt_file_download('https://disk.yandex.ru/d/Sr3FpAa7WG4GdA', 'Gowalla_edges.txt')"
      ],
      "metadata": {
        "id": "zpdZpKmACwzr"
      },
      "execution_count": null,
      "outputs": []
    },
    {
      "cell_type": "code",
      "source": [
        "gowalla_edges_df.columns = ['1st friend', '2nd friend']\n",
        "gowalla_edges_df"
      ],
      "metadata": {
        "colab": {
          "base_uri": "https://localhost:8080/",
          "height": 424
        },
        "id": "CNk4EaRsC7I0",
        "outputId": "8adff6f7-8909-4047-fcc3-9ed843ee0e35"
      },
      "execution_count": null,
      "outputs": [
        {
          "output_type": "execute_result",
          "data": {
            "text/plain": [
              "         1st friend  2nd friend\n",
              "0                 0           1\n",
              "1                 0           2\n",
              "2                 0           3\n",
              "3                 0           4\n",
              "4                 0           5\n",
              "...             ...         ...\n",
              "1900649      196586      196539\n",
              "1900650      196587      196540\n",
              "1900651      196588      196540\n",
              "1900652      196589      196547\n",
              "1900653      196590      196561\n",
              "\n",
              "[1900654 rows x 2 columns]"
            ],
            "text/html": [
              "\n",
              "  <div id=\"df-6f559a82-328a-41ec-bd52-505f451c02cd\" class=\"colab-df-container\">\n",
              "    <div>\n",
              "<style scoped>\n",
              "    .dataframe tbody tr th:only-of-type {\n",
              "        vertical-align: middle;\n",
              "    }\n",
              "\n",
              "    .dataframe tbody tr th {\n",
              "        vertical-align: top;\n",
              "    }\n",
              "\n",
              "    .dataframe thead th {\n",
              "        text-align: right;\n",
              "    }\n",
              "</style>\n",
              "<table border=\"1\" class=\"dataframe\">\n",
              "  <thead>\n",
              "    <tr style=\"text-align: right;\">\n",
              "      <th></th>\n",
              "      <th>1st friend</th>\n",
              "      <th>2nd friend</th>\n",
              "    </tr>\n",
              "  </thead>\n",
              "  <tbody>\n",
              "    <tr>\n",
              "      <th>0</th>\n",
              "      <td>0</td>\n",
              "      <td>1</td>\n",
              "    </tr>\n",
              "    <tr>\n",
              "      <th>1</th>\n",
              "      <td>0</td>\n",
              "      <td>2</td>\n",
              "    </tr>\n",
              "    <tr>\n",
              "      <th>2</th>\n",
              "      <td>0</td>\n",
              "      <td>3</td>\n",
              "    </tr>\n",
              "    <tr>\n",
              "      <th>3</th>\n",
              "      <td>0</td>\n",
              "      <td>4</td>\n",
              "    </tr>\n",
              "    <tr>\n",
              "      <th>4</th>\n",
              "      <td>0</td>\n",
              "      <td>5</td>\n",
              "    </tr>\n",
              "    <tr>\n",
              "      <th>...</th>\n",
              "      <td>...</td>\n",
              "      <td>...</td>\n",
              "    </tr>\n",
              "    <tr>\n",
              "      <th>1900649</th>\n",
              "      <td>196586</td>\n",
              "      <td>196539</td>\n",
              "    </tr>\n",
              "    <tr>\n",
              "      <th>1900650</th>\n",
              "      <td>196587</td>\n",
              "      <td>196540</td>\n",
              "    </tr>\n",
              "    <tr>\n",
              "      <th>1900651</th>\n",
              "      <td>196588</td>\n",
              "      <td>196540</td>\n",
              "    </tr>\n",
              "    <tr>\n",
              "      <th>1900652</th>\n",
              "      <td>196589</td>\n",
              "      <td>196547</td>\n",
              "    </tr>\n",
              "    <tr>\n",
              "      <th>1900653</th>\n",
              "      <td>196590</td>\n",
              "      <td>196561</td>\n",
              "    </tr>\n",
              "  </tbody>\n",
              "</table>\n",
              "<p>1900654 rows × 2 columns</p>\n",
              "</div>\n",
              "    <div class=\"colab-df-buttons\">\n",
              "\n",
              "  <div class=\"colab-df-container\">\n",
              "    <button class=\"colab-df-convert\" onclick=\"convertToInteractive('df-6f559a82-328a-41ec-bd52-505f451c02cd')\"\n",
              "            title=\"Convert this dataframe to an interactive table.\"\n",
              "            style=\"display:none;\">\n",
              "\n",
              "  <svg xmlns=\"http://www.w3.org/2000/svg\" height=\"24px\" viewBox=\"0 -960 960 960\">\n",
              "    <path d=\"M120-120v-720h720v720H120Zm60-500h600v-160H180v160Zm220 220h160v-160H400v160Zm0 220h160v-160H400v160ZM180-400h160v-160H180v160Zm440 0h160v-160H620v160ZM180-180h160v-160H180v160Zm440 0h160v-160H620v160Z\"/>\n",
              "  </svg>\n",
              "    </button>\n",
              "\n",
              "  <style>\n",
              "    .colab-df-container {\n",
              "      display:flex;\n",
              "      gap: 12px;\n",
              "    }\n",
              "\n",
              "    .colab-df-convert {\n",
              "      background-color: #E8F0FE;\n",
              "      border: none;\n",
              "      border-radius: 50%;\n",
              "      cursor: pointer;\n",
              "      display: none;\n",
              "      fill: #1967D2;\n",
              "      height: 32px;\n",
              "      padding: 0 0 0 0;\n",
              "      width: 32px;\n",
              "    }\n",
              "\n",
              "    .colab-df-convert:hover {\n",
              "      background-color: #E2EBFA;\n",
              "      box-shadow: 0px 1px 2px rgba(60, 64, 67, 0.3), 0px 1px 3px 1px rgba(60, 64, 67, 0.15);\n",
              "      fill: #174EA6;\n",
              "    }\n",
              "\n",
              "    .colab-df-buttons div {\n",
              "      margin-bottom: 4px;\n",
              "    }\n",
              "\n",
              "    [theme=dark] .colab-df-convert {\n",
              "      background-color: #3B4455;\n",
              "      fill: #D2E3FC;\n",
              "    }\n",
              "\n",
              "    [theme=dark] .colab-df-convert:hover {\n",
              "      background-color: #434B5C;\n",
              "      box-shadow: 0px 1px 3px 1px rgba(0, 0, 0, 0.15);\n",
              "      filter: drop-shadow(0px 1px 2px rgba(0, 0, 0, 0.3));\n",
              "      fill: #FFFFFF;\n",
              "    }\n",
              "  </style>\n",
              "\n",
              "    <script>\n",
              "      const buttonEl =\n",
              "        document.querySelector('#df-6f559a82-328a-41ec-bd52-505f451c02cd button.colab-df-convert');\n",
              "      buttonEl.style.display =\n",
              "        google.colab.kernel.accessAllowed ? 'block' : 'none';\n",
              "\n",
              "      async function convertToInteractive(key) {\n",
              "        const element = document.querySelector('#df-6f559a82-328a-41ec-bd52-505f451c02cd');\n",
              "        const dataTable =\n",
              "          await google.colab.kernel.invokeFunction('convertToInteractive',\n",
              "                                                    [key], {});\n",
              "        if (!dataTable) return;\n",
              "\n",
              "        const docLinkHtml = 'Like what you see? Visit the ' +\n",
              "          '<a target=\"_blank\" href=https://colab.research.google.com/notebooks/data_table.ipynb>data table notebook</a>'\n",
              "          + ' to learn more about interactive tables.';\n",
              "        element.innerHTML = '';\n",
              "        dataTable['output_type'] = 'display_data';\n",
              "        await google.colab.output.renderOutput(dataTable, element);\n",
              "        const docLink = document.createElement('div');\n",
              "        docLink.innerHTML = docLinkHtml;\n",
              "        element.appendChild(docLink);\n",
              "      }\n",
              "    </script>\n",
              "  </div>\n",
              "\n",
              "\n",
              "<div id=\"df-21366b71-0400-422a-b91f-e5802004a93b\">\n",
              "  <button class=\"colab-df-quickchart\" onclick=\"quickchart('df-21366b71-0400-422a-b91f-e5802004a93b')\"\n",
              "            title=\"Suggest charts\"\n",
              "            style=\"display:none;\">\n",
              "\n",
              "<svg xmlns=\"http://www.w3.org/2000/svg\" height=\"24px\"viewBox=\"0 0 24 24\"\n",
              "     width=\"24px\">\n",
              "    <g>\n",
              "        <path d=\"M19 3H5c-1.1 0-2 .9-2 2v14c0 1.1.9 2 2 2h14c1.1 0 2-.9 2-2V5c0-1.1-.9-2-2-2zM9 17H7v-7h2v7zm4 0h-2V7h2v10zm4 0h-2v-4h2v4z\"/>\n",
              "    </g>\n",
              "</svg>\n",
              "  </button>\n",
              "\n",
              "<style>\n",
              "  .colab-df-quickchart {\n",
              "      --bg-color: #E8F0FE;\n",
              "      --fill-color: #1967D2;\n",
              "      --hover-bg-color: #E2EBFA;\n",
              "      --hover-fill-color: #174EA6;\n",
              "      --disabled-fill-color: #AAA;\n",
              "      --disabled-bg-color: #DDD;\n",
              "  }\n",
              "\n",
              "  [theme=dark] .colab-df-quickchart {\n",
              "      --bg-color: #3B4455;\n",
              "      --fill-color: #D2E3FC;\n",
              "      --hover-bg-color: #434B5C;\n",
              "      --hover-fill-color: #FFFFFF;\n",
              "      --disabled-bg-color: #3B4455;\n",
              "      --disabled-fill-color: #666;\n",
              "  }\n",
              "\n",
              "  .colab-df-quickchart {\n",
              "    background-color: var(--bg-color);\n",
              "    border: none;\n",
              "    border-radius: 50%;\n",
              "    cursor: pointer;\n",
              "    display: none;\n",
              "    fill: var(--fill-color);\n",
              "    height: 32px;\n",
              "    padding: 0;\n",
              "    width: 32px;\n",
              "  }\n",
              "\n",
              "  .colab-df-quickchart:hover {\n",
              "    background-color: var(--hover-bg-color);\n",
              "    box-shadow: 0 1px 2px rgba(60, 64, 67, 0.3), 0 1px 3px 1px rgba(60, 64, 67, 0.15);\n",
              "    fill: var(--button-hover-fill-color);\n",
              "  }\n",
              "\n",
              "  .colab-df-quickchart-complete:disabled,\n",
              "  .colab-df-quickchart-complete:disabled:hover {\n",
              "    background-color: var(--disabled-bg-color);\n",
              "    fill: var(--disabled-fill-color);\n",
              "    box-shadow: none;\n",
              "  }\n",
              "\n",
              "  .colab-df-spinner {\n",
              "    border: 2px solid var(--fill-color);\n",
              "    border-color: transparent;\n",
              "    border-bottom-color: var(--fill-color);\n",
              "    animation:\n",
              "      spin 1s steps(1) infinite;\n",
              "  }\n",
              "\n",
              "  @keyframes spin {\n",
              "    0% {\n",
              "      border-color: transparent;\n",
              "      border-bottom-color: var(--fill-color);\n",
              "      border-left-color: var(--fill-color);\n",
              "    }\n",
              "    20% {\n",
              "      border-color: transparent;\n",
              "      border-left-color: var(--fill-color);\n",
              "      border-top-color: var(--fill-color);\n",
              "    }\n",
              "    30% {\n",
              "      border-color: transparent;\n",
              "      border-left-color: var(--fill-color);\n",
              "      border-top-color: var(--fill-color);\n",
              "      border-right-color: var(--fill-color);\n",
              "    }\n",
              "    40% {\n",
              "      border-color: transparent;\n",
              "      border-right-color: var(--fill-color);\n",
              "      border-top-color: var(--fill-color);\n",
              "    }\n",
              "    60% {\n",
              "      border-color: transparent;\n",
              "      border-right-color: var(--fill-color);\n",
              "    }\n",
              "    80% {\n",
              "      border-color: transparent;\n",
              "      border-right-color: var(--fill-color);\n",
              "      border-bottom-color: var(--fill-color);\n",
              "    }\n",
              "    90% {\n",
              "      border-color: transparent;\n",
              "      border-bottom-color: var(--fill-color);\n",
              "    }\n",
              "  }\n",
              "</style>\n",
              "\n",
              "  <script>\n",
              "    async function quickchart(key) {\n",
              "      const quickchartButtonEl =\n",
              "        document.querySelector('#' + key + ' button');\n",
              "      quickchartButtonEl.disabled = true;  // To prevent multiple clicks.\n",
              "      quickchartButtonEl.classList.add('colab-df-spinner');\n",
              "      try {\n",
              "        const charts = await google.colab.kernel.invokeFunction(\n",
              "            'suggestCharts', [key], {});\n",
              "      } catch (error) {\n",
              "        console.error('Error during call to suggestCharts:', error);\n",
              "      }\n",
              "      quickchartButtonEl.classList.remove('colab-df-spinner');\n",
              "      quickchartButtonEl.classList.add('colab-df-quickchart-complete');\n",
              "    }\n",
              "    (() => {\n",
              "      let quickchartButtonEl =\n",
              "        document.querySelector('#df-21366b71-0400-422a-b91f-e5802004a93b button');\n",
              "      quickchartButtonEl.style.display =\n",
              "        google.colab.kernel.accessAllowed ? 'block' : 'none';\n",
              "    })();\n",
              "  </script>\n",
              "</div>\n",
              "    </div>\n",
              "  </div>\n"
            ]
          },
          "metadata": {},
          "execution_count": 10
        }
      ]
    },
    {
      "cell_type": "markdown",
      "source": [
        "## Analytics"
      ],
      "metadata": {
        "id": "tff0tf-zLge5"
      }
    },
    {
      "cell_type": "markdown",
      "source": [
        "Число юзеров, которые чек-инились"
      ],
      "metadata": {
        "id": "ng45DMzNQcmX"
      }
    },
    {
      "cell_type": "code",
      "source": [
        "len(gowalla_total_checkin_df.user.unique())"
      ],
      "metadata": {
        "colab": {
          "base_uri": "https://localhost:8080/"
        },
        "outputId": "2c63858b-8548-4ba8-d93f-37b8b664706c",
        "id": "b27zeCclLxMQ"
      },
      "execution_count": null,
      "outputs": [
        {
          "output_type": "execute_result",
          "data": {
            "text/plain": [
              "107092"
            ]
          },
          "metadata": {},
          "execution_count": 44
        }
      ]
    },
    {
      "cell_type": "markdown",
      "source": [
        "Максимальное количество чек-инов у одного юзера - 2175\n",
        "\n",
        "Минимальное количество чек-инов - 1"
      ],
      "metadata": {
        "id": "gl5G6hWbLxMl"
      }
    },
    {
      "cell_type": "code",
      "source": [
        "gowalla_total_checkin_df.user.value_counts()"
      ],
      "metadata": {
        "colab": {
          "base_uri": "https://localhost:8080/"
        },
        "outputId": "38dde37a-1c81-4cff-e8fe-d38e0cbd72b3",
        "id": "IYOPSjUCLxMm"
      },
      "execution_count": null,
      "outputs": [
        {
          "output_type": "execute_result",
          "data": {
            "text/plain": [
              "10971     2175\n",
              "776       2175\n",
              "18931     2150\n",
              "49918     2125\n",
              "620       2125\n",
              "          ... \n",
              "146467       1\n",
              "93418        1\n",
              "93385        1\n",
              "93288        1\n",
              "82641        1\n",
              "Name: user, Length: 107092, dtype: int64"
            ]
          },
          "metadata": {},
          "execution_count": 45
        }
      ]
    },
    {
      "cell_type": "markdown",
      "source": [
        "Количество Nan в каждой колонке"
      ],
      "metadata": {
        "id": "CSP8yHr7LxMn"
      }
    },
    {
      "cell_type": "code",
      "source": [
        "gowalla_total_checkin_df[gowalla_total_checkin_df.columns[gowalla_total_checkin_df.isnull().any()]].isnull().sum()"
      ],
      "metadata": {
        "colab": {
          "base_uri": "https://localhost:8080/"
        },
        "outputId": "8ffce93b-2cd5-4106-9aa5-e5d348c7a472",
        "id": "jbhSVFzeLxMo"
      },
      "execution_count": null,
      "outputs": [
        {
          "output_type": "execute_result",
          "data": {
            "text/plain": [
              "Series([], dtype: float64)"
            ]
          },
          "metadata": {},
          "execution_count": 47
        }
      ]
    },
    {
      "cell_type": "markdown",
      "source": [
        "Процент Nan  в каждой колонке"
      ],
      "metadata": {
        "id": "cXnZSaUrLxMo"
      }
    },
    {
      "cell_type": "code",
      "source": [
        "gowalla_total_checkin_df[gowalla_total_checkin_df.columns[gowalla_total_checkin_df.isnull().any()]].isnull().sum() * 100 / gowalla_total_checkin_df.shape[0]"
      ],
      "metadata": {
        "colab": {
          "base_uri": "https://localhost:8080/"
        },
        "outputId": "ee61c1e5-dfba-45d8-a65e-1a9cb92aac18",
        "id": "2h9PMOsHLxMo"
      },
      "execution_count": null,
      "outputs": [
        {
          "output_type": "execute_result",
          "data": {
            "text/plain": [
              "Series([], dtype: float64)"
            ]
          },
          "metadata": {},
          "execution_count": 48
        }
      ]
    },
    {
      "cell_type": "markdown",
      "source": [
        "Нет пустых ячеек и строк"
      ],
      "metadata": {
        "id": "AGBwRNIwLxMp"
      }
    },
    {
      "cell_type": "code",
      "source": [
        "gowalla_total_checkin_df[gowalla_total_checkin_df.isna().any(axis=1)]"
      ],
      "metadata": {
        "colab": {
          "base_uri": "https://localhost:8080/",
          "height": 53
        },
        "outputId": "76a83534-5390-4500-991f-897da32b1920",
        "id": "7r_0B765LxMp"
      },
      "execution_count": null,
      "outputs": [
        {
          "output_type": "execute_result",
          "data": {
            "text/plain": [
              "Empty DataFrame\n",
              "Columns: [user, check-in time, latitude, longitude, location_id]\n",
              "Index: []"
            ],
            "text/html": [
              "\n",
              "  <div id=\"df-aab6f1c5-260a-4650-aa1b-62f3db020f2f\" class=\"colab-df-container\">\n",
              "    <div>\n",
              "<style scoped>\n",
              "    .dataframe tbody tr th:only-of-type {\n",
              "        vertical-align: middle;\n",
              "    }\n",
              "\n",
              "    .dataframe tbody tr th {\n",
              "        vertical-align: top;\n",
              "    }\n",
              "\n",
              "    .dataframe thead th {\n",
              "        text-align: right;\n",
              "    }\n",
              "</style>\n",
              "<table border=\"1\" class=\"dataframe\">\n",
              "  <thead>\n",
              "    <tr style=\"text-align: right;\">\n",
              "      <th></th>\n",
              "      <th>user</th>\n",
              "      <th>check-in time</th>\n",
              "      <th>latitude</th>\n",
              "      <th>longitude</th>\n",
              "      <th>location_id</th>\n",
              "    </tr>\n",
              "  </thead>\n",
              "  <tbody>\n",
              "  </tbody>\n",
              "</table>\n",
              "</div>\n",
              "    <div class=\"colab-df-buttons\">\n",
              "\n",
              "  <div class=\"colab-df-container\">\n",
              "    <button class=\"colab-df-convert\" onclick=\"convertToInteractive('df-aab6f1c5-260a-4650-aa1b-62f3db020f2f')\"\n",
              "            title=\"Convert this dataframe to an interactive table.\"\n",
              "            style=\"display:none;\">\n",
              "\n",
              "  <svg xmlns=\"http://www.w3.org/2000/svg\" height=\"24px\" viewBox=\"0 -960 960 960\">\n",
              "    <path d=\"M120-120v-720h720v720H120Zm60-500h600v-160H180v160Zm220 220h160v-160H400v160Zm0 220h160v-160H400v160ZM180-400h160v-160H180v160Zm440 0h160v-160H620v160ZM180-180h160v-160H180v160Zm440 0h160v-160H620v160Z\"/>\n",
              "  </svg>\n",
              "    </button>\n",
              "\n",
              "  <style>\n",
              "    .colab-df-container {\n",
              "      display:flex;\n",
              "      gap: 12px;\n",
              "    }\n",
              "\n",
              "    .colab-df-convert {\n",
              "      background-color: #E8F0FE;\n",
              "      border: none;\n",
              "      border-radius: 50%;\n",
              "      cursor: pointer;\n",
              "      display: none;\n",
              "      fill: #1967D2;\n",
              "      height: 32px;\n",
              "      padding: 0 0 0 0;\n",
              "      width: 32px;\n",
              "    }\n",
              "\n",
              "    .colab-df-convert:hover {\n",
              "      background-color: #E2EBFA;\n",
              "      box-shadow: 0px 1px 2px rgba(60, 64, 67, 0.3), 0px 1px 3px 1px rgba(60, 64, 67, 0.15);\n",
              "      fill: #174EA6;\n",
              "    }\n",
              "\n",
              "    .colab-df-buttons div {\n",
              "      margin-bottom: 4px;\n",
              "    }\n",
              "\n",
              "    [theme=dark] .colab-df-convert {\n",
              "      background-color: #3B4455;\n",
              "      fill: #D2E3FC;\n",
              "    }\n",
              "\n",
              "    [theme=dark] .colab-df-convert:hover {\n",
              "      background-color: #434B5C;\n",
              "      box-shadow: 0px 1px 3px 1px rgba(0, 0, 0, 0.15);\n",
              "      filter: drop-shadow(0px 1px 2px rgba(0, 0, 0, 0.3));\n",
              "      fill: #FFFFFF;\n",
              "    }\n",
              "  </style>\n",
              "\n",
              "    <script>\n",
              "      const buttonEl =\n",
              "        document.querySelector('#df-aab6f1c5-260a-4650-aa1b-62f3db020f2f button.colab-df-convert');\n",
              "      buttonEl.style.display =\n",
              "        google.colab.kernel.accessAllowed ? 'block' : 'none';\n",
              "\n",
              "      async function convertToInteractive(key) {\n",
              "        const element = document.querySelector('#df-aab6f1c5-260a-4650-aa1b-62f3db020f2f');\n",
              "        const dataTable =\n",
              "          await google.colab.kernel.invokeFunction('convertToInteractive',\n",
              "                                                    [key], {});\n",
              "        if (!dataTable) return;\n",
              "\n",
              "        const docLinkHtml = 'Like what you see? Visit the ' +\n",
              "          '<a target=\"_blank\" href=https://colab.research.google.com/notebooks/data_table.ipynb>data table notebook</a>'\n",
              "          + ' to learn more about interactive tables.';\n",
              "        element.innerHTML = '';\n",
              "        dataTable['output_type'] = 'display_data';\n",
              "        await google.colab.output.renderOutput(dataTable, element);\n",
              "        const docLink = document.createElement('div');\n",
              "        docLink.innerHTML = docLinkHtml;\n",
              "        element.appendChild(docLink);\n",
              "      }\n",
              "    </script>\n",
              "  </div>\n",
              "\n",
              "    </div>\n",
              "  </div>\n"
            ]
          },
          "metadata": {},
          "execution_count": 49
        }
      ]
    },
    {
      "cell_type": "code",
      "source": [
        "gowalla_total_checkin_df.dtypes"
      ],
      "metadata": {
        "colab": {
          "base_uri": "https://localhost:8080/"
        },
        "outputId": "b125a3d2-15fb-413f-ac1d-018288bf7c95",
        "id": "63dapI5SLxMq"
      },
      "execution_count": null,
      "outputs": [
        {
          "output_type": "execute_result",
          "data": {
            "text/plain": [
              "user               int64\n",
              "check-in time     object\n",
              "latitude         float64\n",
              "longitude        float64\n",
              "location_id        int64\n",
              "dtype: object"
            ]
          },
          "metadata": {},
          "execution_count": 51
        }
      ]
    },
    {
      "cell_type": "markdown",
      "source": [
        "В один момент времени - максимум 8 событий"
      ],
      "metadata": {
        "id": "T2tyMwibLxMq"
      }
    },
    {
      "cell_type": "code",
      "source": [
        "gowalla_total_checkin_df['check-in time'].value_counts()"
      ],
      "metadata": {
        "colab": {
          "base_uri": "https://localhost:8080/"
        },
        "outputId": "0622b065-ca24-4334-a978-16c1b52e3877",
        "id": "x74potzCLxMq"
      },
      "execution_count": null,
      "outputs": [
        {
          "output_type": "execute_result",
          "data": {
            "text/plain": [
              "2010-10-08T17:50:58Z    8\n",
              "2010-10-02T12:59:14Z    7\n",
              "2010-08-27T19:01:13Z    7\n",
              "2010-09-21T23:07:32Z    7\n",
              "2010-04-10T01:23:01Z    7\n",
              "                       ..\n",
              "2010-10-05T12:48:05Z    1\n",
              "2010-10-05T12:51:12Z    1\n",
              "2010-10-05T13:15:19Z    1\n",
              "2010-10-05T13:38:58Z    1\n",
              "2010-10-08T21:01:49Z    1\n",
              "Name: check-in time, Length: 5561957, dtype: int64"
            ]
          },
          "metadata": {},
          "execution_count": 52
        }
      ]
    },
    {
      "cell_type": "code",
      "source": [
        "from dateutil.parser import parse\n",
        "\n",
        "dates = pd.DataFrame()\n",
        "\n",
        "dates['event date'] = gowalla_total_checkin_df['check-in time']\n",
        "dates = dates.dropna()\n",
        "\n",
        "dates['event date'] = dates['event date'].transform(lambda x: parse(x).date())"
      ],
      "metadata": {
        "id": "J0MJ3WyRLxMr"
      },
      "execution_count": null,
      "outputs": []
    },
    {
      "cell_type": "markdown",
      "source": [
        "В один день - максимум 51318 событий"
      ],
      "metadata": {
        "id": "Zb-Ilq86QrNE"
      }
    },
    {
      "cell_type": "code",
      "source": [
        "dates['event date'].value_counts()"
      ],
      "metadata": {
        "colab": {
          "base_uri": "https://localhost:8080/"
        },
        "outputId": "53baf62a-dce8-45d5-ba5d-8a7d6c845484",
        "id": "63yID1alLxMr"
      },
      "execution_count": null,
      "outputs": [
        {
          "output_type": "execute_result",
          "data": {
            "text/plain": [
              "2010-10-16    51318\n",
              "2010-10-09    44896\n",
              "2010-10-15    44122\n",
              "2010-10-02    42828\n",
              "2010-10-17    40960\n",
              "              ...  \n",
              "2009-02-23        2\n",
              "2009-03-06        2\n",
              "2009-02-04        1\n",
              "2009-02-05        1\n",
              "2009-02-18        1\n",
              "Name: event date, Length: 597, dtype: int64"
            ]
          },
          "metadata": {},
          "execution_count": 54
        }
      ]
    },
    {
      "cell_type": "markdown",
      "source": [
        "Всего 597 дней, 2009 - 2010 годы"
      ],
      "metadata": {
        "id": "g9-fQsbDRSrg"
      }
    },
    {
      "cell_type": "code",
      "source": [
        "len(dates['event date'].unique())"
      ],
      "metadata": {
        "colab": {
          "base_uri": "https://localhost:8080/"
        },
        "outputId": "900de115-eb4b-4cd2-b6eb-0aed768cfae1",
        "id": "it33GRw2LxMs"
      },
      "execution_count": null,
      "outputs": [
        {
          "output_type": "execute_result",
          "data": {
            "text/plain": [
              "597"
            ]
          },
          "metadata": {},
          "execution_count": 55
        }
      ]
    },
    {
      "cell_type": "code",
      "source": [
        "dates['event date'].unique()"
      ],
      "metadata": {
        "colab": {
          "base_uri": "https://localhost:8080/"
        },
        "outputId": "57cc2819-dc59-45eb-d8fa-75628dc7a50c",
        "id": "JhTh9xKmLxMs"
      },
      "execution_count": null,
      "outputs": [
        {
          "output_type": "execute_result",
          "data": {
            "text/plain": [
              "array([datetime.date(2010, 10, 19), datetime.date(2010, 10, 18),\n",
              "       datetime.date(2010, 10, 17), datetime.date(2010, 10, 16),\n",
              "       datetime.date(2010, 10, 12), datetime.date(2010, 10, 11),\n",
              "       datetime.date(2010, 10, 10), datetime.date(2010, 10, 9),\n",
              "       datetime.date(2010, 10, 8), datetime.date(2010, 10, 7),\n",
              "       datetime.date(2010, 10, 6), datetime.date(2010, 10, 5),\n",
              "       datetime.date(2010, 10, 4), datetime.date(2010, 10, 3),\n",
              "       datetime.date(2010, 10, 2), datetime.date(2010, 10, 1),\n",
              "       datetime.date(2010, 9, 30), datetime.date(2010, 9, 29),\n",
              "       datetime.date(2010, 9, 28), datetime.date(2010, 9, 27),\n",
              "       datetime.date(2010, 9, 26), datetime.date(2010, 9, 25),\n",
              "       datetime.date(2010, 9, 24), datetime.date(2010, 9, 22),\n",
              "       datetime.date(2010, 9, 21), datetime.date(2010, 9, 17),\n",
              "       datetime.date(2010, 9, 15), datetime.date(2010, 9, 13),\n",
              "       datetime.date(2010, 9, 12), datetime.date(2010, 9, 11),\n",
              "       datetime.date(2010, 9, 9), datetime.date(2010, 9, 8),\n",
              "       datetime.date(2010, 9, 7), datetime.date(2010, 9, 6),\n",
              "       datetime.date(2010, 9, 5), datetime.date(2010, 9, 4),\n",
              "       datetime.date(2010, 9, 3), datetime.date(2010, 9, 1),\n",
              "       datetime.date(2010, 8, 31), datetime.date(2010, 8, 30),\n",
              "       datetime.date(2010, 8, 28), datetime.date(2010, 8, 26),\n",
              "       datetime.date(2010, 8, 25), datetime.date(2010, 8, 24),\n",
              "       datetime.date(2010, 8, 23), datetime.date(2010, 8, 21),\n",
              "       datetime.date(2010, 8, 20), datetime.date(2010, 8, 19),\n",
              "       datetime.date(2010, 8, 18), datetime.date(2010, 8, 17),\n",
              "       datetime.date(2010, 8, 14), datetime.date(2010, 8, 13),\n",
              "       datetime.date(2010, 8, 12), datetime.date(2010, 8, 9),\n",
              "       datetime.date(2010, 8, 8), datetime.date(2010, 8, 7),\n",
              "       datetime.date(2010, 8, 6), datetime.date(2010, 8, 5),\n",
              "       datetime.date(2010, 8, 4), datetime.date(2010, 8, 3),\n",
              "       datetime.date(2010, 8, 1), datetime.date(2010, 7, 31),\n",
              "       datetime.date(2010, 7, 29), datetime.date(2010, 7, 26),\n",
              "       datetime.date(2010, 7, 25), datetime.date(2010, 7, 23),\n",
              "       datetime.date(2010, 7, 22), datetime.date(2010, 7, 21),\n",
              "       datetime.date(2010, 7, 18), datetime.date(2010, 7, 17),\n",
              "       datetime.date(2010, 7, 13), datetime.date(2010, 7, 12),\n",
              "       datetime.date(2010, 7, 11), datetime.date(2010, 7, 10),\n",
              "       datetime.date(2010, 7, 9), datetime.date(2010, 7, 8),\n",
              "       datetime.date(2010, 7, 7), datetime.date(2010, 7, 5),\n",
              "       datetime.date(2010, 7, 4), datetime.date(2010, 7, 3),\n",
              "       datetime.date(2010, 7, 2), datetime.date(2010, 6, 29),\n",
              "       datetime.date(2010, 6, 28), datetime.date(2010, 6, 27),\n",
              "       datetime.date(2010, 6, 26), datetime.date(2010, 6, 25),\n",
              "       datetime.date(2010, 6, 24), datetime.date(2010, 6, 23),\n",
              "       datetime.date(2010, 6, 22), datetime.date(2010, 6, 21),\n",
              "       datetime.date(2010, 6, 20), datetime.date(2010, 6, 18),\n",
              "       datetime.date(2010, 6, 17), datetime.date(2010, 6, 16),\n",
              "       datetime.date(2010, 6, 15), datetime.date(2010, 6, 13),\n",
              "       datetime.date(2010, 6, 12), datetime.date(2010, 6, 10),\n",
              "       datetime.date(2010, 6, 9), datetime.date(2010, 6, 8),\n",
              "       datetime.date(2010, 6, 7), datetime.date(2010, 6, 6),\n",
              "       datetime.date(2010, 6, 5), datetime.date(2010, 6, 4),\n",
              "       datetime.date(2010, 6, 3), datetime.date(2010, 6, 2),\n",
              "       datetime.date(2010, 6, 1), datetime.date(2010, 5, 31),\n",
              "       datetime.date(2010, 5, 30), datetime.date(2010, 5, 27),\n",
              "       datetime.date(2010, 5, 26), datetime.date(2010, 5, 23),\n",
              "       datetime.date(2010, 5, 22), datetime.date(2010, 7, 24),\n",
              "       datetime.date(2010, 7, 15), datetime.date(2010, 7, 14),\n",
              "       datetime.date(2010, 7, 6), datetime.date(2010, 10, 21),\n",
              "       datetime.date(2010, 10, 20), datetime.date(2010, 10, 15),\n",
              "       datetime.date(2010, 9, 23), datetime.date(2010, 9, 20),\n",
              "       datetime.date(2010, 9, 19), datetime.date(2010, 9, 18),\n",
              "       datetime.date(2010, 9, 16), datetime.date(2010, 9, 14),\n",
              "       datetime.date(2010, 9, 10), datetime.date(2010, 9, 2),\n",
              "       datetime.date(2010, 8, 29), datetime.date(2010, 8, 27),\n",
              "       datetime.date(2010, 8, 16), datetime.date(2010, 8, 15),\n",
              "       datetime.date(2010, 7, 30), datetime.date(2010, 7, 28),\n",
              "       datetime.date(2010, 7, 27), datetime.date(2010, 7, 16),\n",
              "       datetime.date(2010, 7, 1), datetime.date(2010, 6, 30),\n",
              "       datetime.date(2010, 6, 19), datetime.date(2010, 6, 14),\n",
              "       datetime.date(2010, 6, 11), datetime.date(2010, 5, 28),\n",
              "       datetime.date(2010, 5, 25), datetime.date(2010, 5, 24),\n",
              "       datetime.date(2010, 5, 21), datetime.date(2010, 5, 20),\n",
              "       datetime.date(2010, 5, 19), datetime.date(2010, 5, 18),\n",
              "       datetime.date(2010, 5, 17), datetime.date(2010, 5, 16),\n",
              "       datetime.date(2010, 5, 13), datetime.date(2010, 5, 11),\n",
              "       datetime.date(2010, 5, 10), datetime.date(2010, 5, 9),\n",
              "       datetime.date(2010, 5, 8), datetime.date(2010, 5, 7),\n",
              "       datetime.date(2010, 5, 6), datetime.date(2010, 5, 5),\n",
              "       datetime.date(2010, 5, 4), datetime.date(2010, 5, 3),\n",
              "       datetime.date(2010, 5, 1), datetime.date(2010, 4, 30),\n",
              "       datetime.date(2010, 8, 11), datetime.date(2010, 3, 14),\n",
              "       datetime.date(2010, 3, 10), datetime.date(2010, 3, 8),\n",
              "       datetime.date(2010, 3, 7), datetime.date(2010, 3, 6),\n",
              "       datetime.date(2010, 3, 5), datetime.date(2010, 3, 4),\n",
              "       datetime.date(2010, 3, 3), datetime.date(2010, 3, 2),\n",
              "       datetime.date(2010, 3, 1), datetime.date(2010, 2, 26),\n",
              "       datetime.date(2010, 2, 25), datetime.date(2010, 2, 24),\n",
              "       datetime.date(2010, 2, 23), datetime.date(2010, 2, 22),\n",
              "       datetime.date(2010, 2, 21), datetime.date(2010, 2, 20),\n",
              "       datetime.date(2010, 2, 19), datetime.date(2010, 2, 17),\n",
              "       datetime.date(2010, 10, 14), datetime.date(2010, 10, 13),\n",
              "       datetime.date(2010, 8, 2), datetime.date(2010, 7, 20),\n",
              "       datetime.date(2010, 7, 19), datetime.date(2010, 4, 28),\n",
              "       datetime.date(2010, 4, 24), datetime.date(2010, 4, 3),\n",
              "       datetime.date(2010, 3, 20), datetime.date(2010, 3, 15),\n",
              "       datetime.date(2010, 3, 13), datetime.date(2010, 3, 11),\n",
              "       datetime.date(2010, 2, 16), datetime.date(2010, 2, 13),\n",
              "       datetime.date(2010, 2, 12), datetime.date(2010, 2, 9),\n",
              "       datetime.date(2010, 2, 8), datetime.date(2010, 2, 7),\n",
              "       datetime.date(2010, 2, 4), datetime.date(2010, 2, 1),\n",
              "       datetime.date(2010, 1, 31), datetime.date(2010, 1, 30),\n",
              "       datetime.date(2010, 1, 29), datetime.date(2010, 1, 28),\n",
              "       datetime.date(2010, 1, 27), datetime.date(2010, 4, 21),\n",
              "       datetime.date(2010, 4, 16), datetime.date(2010, 4, 14),\n",
              "       datetime.date(2010, 4, 12), datetime.date(2010, 4, 10),\n",
              "       datetime.date(2010, 4, 8), datetime.date(2010, 3, 23),\n",
              "       datetime.date(2010, 4, 27), datetime.date(2010, 4, 25),\n",
              "       datetime.date(2010, 4, 23), datetime.date(2009, 12, 2),\n",
              "       datetime.date(2009, 12, 1), datetime.date(2009, 11, 27),\n",
              "       datetime.date(2009, 11, 26), datetime.date(2009, 3, 17),\n",
              "       datetime.date(2010, 8, 10), datetime.date(2010, 2, 27),\n",
              "       datetime.date(2010, 2, 15), datetime.date(2010, 1, 24),\n",
              "       datetime.date(2010, 1, 23), datetime.date(2010, 1, 22),\n",
              "       datetime.date(2010, 1, 21), datetime.date(2010, 1, 20),\n",
              "       datetime.date(2010, 1, 19), datetime.date(2010, 1, 18),\n",
              "       datetime.date(2010, 1, 17), datetime.date(2010, 1, 16),\n",
              "       datetime.date(2010, 1, 15), datetime.date(2010, 1, 14),\n",
              "       datetime.date(2010, 1, 13), datetime.date(2010, 1, 12),\n",
              "       datetime.date(2010, 1, 10), datetime.date(2010, 1, 9),\n",
              "       datetime.date(2010, 1, 7), datetime.date(2010, 1, 6),\n",
              "       datetime.date(2010, 1, 5), datetime.date(2010, 1, 4),\n",
              "       datetime.date(2010, 1, 3), datetime.date(2010, 1, 1),\n",
              "       datetime.date(2009, 12, 31), datetime.date(2009, 12, 29),\n",
              "       datetime.date(2009, 12, 28), datetime.date(2009, 12, 27),\n",
              "       datetime.date(2009, 12, 25), datetime.date(2009, 12, 23),\n",
              "       datetime.date(2009, 12, 11), datetime.date(2009, 12, 10),\n",
              "       datetime.date(2010, 8, 22), datetime.date(2010, 5, 12),\n",
              "       datetime.date(2010, 4, 29), datetime.date(2010, 4, 22),\n",
              "       datetime.date(2010, 4, 20), datetime.date(2010, 4, 18),\n",
              "       datetime.date(2010, 4, 17), datetime.date(2010, 4, 13),\n",
              "       datetime.date(2010, 4, 11), datetime.date(2010, 4, 9),\n",
              "       datetime.date(2010, 4, 7), datetime.date(2010, 4, 4),\n",
              "       datetime.date(2010, 4, 2), datetime.date(2010, 4, 1),\n",
              "       datetime.date(2010, 3, 31), datetime.date(2010, 3, 30),\n",
              "       datetime.date(2010, 3, 27), datetime.date(2010, 3, 26),\n",
              "       datetime.date(2010, 3, 21), datetime.date(2010, 3, 19),\n",
              "       datetime.date(2010, 3, 18), datetime.date(2010, 3, 17),\n",
              "       datetime.date(2010, 3, 16), datetime.date(2010, 3, 12),\n",
              "       datetime.date(2010, 3, 9), datetime.date(2010, 2, 28),\n",
              "       datetime.date(2010, 2, 18), datetime.date(2010, 2, 14),\n",
              "       datetime.date(2010, 2, 10), datetime.date(2010, 2, 6),\n",
              "       datetime.date(2010, 2, 5), datetime.date(2010, 2, 3),\n",
              "       datetime.date(2010, 2, 2), datetime.date(2010, 4, 15),\n",
              "       datetime.date(2010, 4, 5), datetime.date(2010, 3, 29),\n",
              "       datetime.date(2010, 3, 25), datetime.date(2010, 3, 24),\n",
              "       datetime.date(2010, 2, 11), datetime.date(2010, 1, 26),\n",
              "       datetime.date(2010, 1, 11), datetime.date(2010, 1, 8),\n",
              "       datetime.date(2009, 12, 30), datetime.date(2009, 12, 22),\n",
              "       datetime.date(2009, 12, 21), datetime.date(2009, 12, 19),\n",
              "       datetime.date(2009, 12, 18), datetime.date(2009, 12, 17),\n",
              "       datetime.date(2009, 12, 15), datetime.date(2009, 12, 14),\n",
              "       datetime.date(2009, 12, 13), datetime.date(2009, 12, 12),\n",
              "       datetime.date(2009, 12, 9), datetime.date(2009, 12, 7),\n",
              "       datetime.date(2009, 12, 6), datetime.date(2009, 12, 5),\n",
              "       datetime.date(2009, 12, 3), datetime.date(2009, 11, 30),\n",
              "       datetime.date(2009, 11, 29), datetime.date(2009, 11, 28),\n",
              "       datetime.date(2009, 11, 25), datetime.date(2009, 11, 24),\n",
              "       datetime.date(2009, 11, 21), datetime.date(2009, 11, 20),\n",
              "       datetime.date(2009, 11, 19), datetime.date(2009, 11, 18),\n",
              "       datetime.date(2009, 11, 17), datetime.date(2009, 11, 13),\n",
              "       datetime.date(2009, 11, 12), datetime.date(2009, 11, 11),\n",
              "       datetime.date(2009, 11, 10), datetime.date(2009, 11, 9),\n",
              "       datetime.date(2009, 11, 7), datetime.date(2009, 11, 6),\n",
              "       datetime.date(2009, 11, 5), datetime.date(2009, 11, 2),\n",
              "       datetime.date(2009, 10, 31), datetime.date(2009, 10, 30),\n",
              "       datetime.date(2009, 10, 29), datetime.date(2009, 10, 28),\n",
              "       datetime.date(2009, 10, 26), datetime.date(2009, 10, 25),\n",
              "       datetime.date(2009, 10, 24), datetime.date(2009, 10, 23),\n",
              "       datetime.date(2009, 10, 22), datetime.date(2009, 10, 21),\n",
              "       datetime.date(2009, 10, 20), datetime.date(2009, 10, 19),\n",
              "       datetime.date(2009, 10, 18), datetime.date(2009, 10, 17),\n",
              "       datetime.date(2009, 10, 16), datetime.date(2009, 10, 15),\n",
              "       datetime.date(2009, 10, 14), datetime.date(2009, 10, 13),\n",
              "       datetime.date(2009, 10, 12), datetime.date(2009, 10, 11),\n",
              "       datetime.date(2009, 10, 10), datetime.date(2009, 10, 9),\n",
              "       datetime.date(2009, 10, 8), datetime.date(2009, 10, 7),\n",
              "       datetime.date(2009, 10, 6), datetime.date(2009, 10, 5),\n",
              "       datetime.date(2009, 10, 3), datetime.date(2009, 10, 2),\n",
              "       datetime.date(2009, 10, 1), datetime.date(2009, 9, 30),\n",
              "       datetime.date(2009, 9, 29), datetime.date(2009, 9, 28),\n",
              "       datetime.date(2009, 9, 27), datetime.date(2009, 9, 26),\n",
              "       datetime.date(2009, 9, 25), datetime.date(2009, 9, 24),\n",
              "       datetime.date(2009, 9, 23), datetime.date(2009, 9, 22),\n",
              "       datetime.date(2009, 9, 21), datetime.date(2009, 9, 20),\n",
              "       datetime.date(2009, 9, 19), datetime.date(2010, 5, 15),\n",
              "       datetime.date(2010, 4, 26), datetime.date(2010, 4, 19),\n",
              "       datetime.date(2010, 4, 6), datetime.date(2010, 3, 28),\n",
              "       datetime.date(2010, 3, 22), datetime.date(2010, 5, 29),\n",
              "       datetime.date(2010, 1, 25), datetime.date(2010, 1, 2),\n",
              "       datetime.date(2009, 12, 26), datetime.date(2009, 12, 24),\n",
              "       datetime.date(2009, 12, 20), datetime.date(2009, 12, 16),\n",
              "       datetime.date(2009, 12, 8), datetime.date(2009, 12, 4),\n",
              "       datetime.date(2009, 11, 22), datetime.date(2009, 11, 14),\n",
              "       datetime.date(2009, 11, 4), datetime.date(2009, 11, 3),\n",
              "       datetime.date(2009, 11, 1), datetime.date(2009, 10, 27),\n",
              "       datetime.date(2009, 6, 26), datetime.date(2009, 2, 5),\n",
              "       datetime.date(2009, 11, 23), datetime.date(2009, 11, 16),\n",
              "       datetime.date(2009, 11, 15), datetime.date(2009, 11, 8),\n",
              "       datetime.date(2010, 5, 14), datetime.date(2010, 5, 2),\n",
              "       datetime.date(2010, 10, 22), datetime.date(2009, 10, 4),\n",
              "       datetime.date(2009, 8, 10), datetime.date(2009, 4, 25),\n",
              "       datetime.date(2009, 3, 15), datetime.date(2009, 9, 9),\n",
              "       datetime.date(2009, 9, 8), datetime.date(2009, 9, 6),\n",
              "       datetime.date(2009, 9, 5), datetime.date(2009, 9, 3),\n",
              "       datetime.date(2009, 9, 2), datetime.date(2009, 8, 30),\n",
              "       datetime.date(2009, 8, 29), datetime.date(2009, 8, 28),\n",
              "       datetime.date(2009, 8, 27), datetime.date(2009, 8, 15),\n",
              "       datetime.date(2009, 8, 14), datetime.date(2009, 7, 19),\n",
              "       datetime.date(2009, 7, 18), datetime.date(2009, 5, 19),\n",
              "       datetime.date(2009, 4, 21), datetime.date(2009, 4, 18),\n",
              "       datetime.date(2009, 4, 17), datetime.date(2009, 9, 16),\n",
              "       datetime.date(2009, 8, 17), datetime.date(2009, 8, 7),\n",
              "       datetime.date(2009, 8, 2), datetime.date(2009, 8, 1),\n",
              "       datetime.date(2009, 7, 17), datetime.date(2009, 6, 30),\n",
              "       datetime.date(2009, 6, 19), datetime.date(2009, 6, 6),\n",
              "       datetime.date(2009, 5, 24), datetime.date(2009, 5, 22),\n",
              "       datetime.date(2009, 5, 21), datetime.date(2009, 9, 18),\n",
              "       datetime.date(2009, 9, 11), datetime.date(2009, 8, 25),\n",
              "       datetime.date(2009, 9, 12), datetime.date(2009, 8, 8),\n",
              "       datetime.date(2009, 7, 10), datetime.date(2009, 7, 9),\n",
              "       datetime.date(2009, 7, 8), datetime.date(2009, 7, 5),\n",
              "       datetime.date(2009, 9, 7), datetime.date(2009, 8, 26),\n",
              "       datetime.date(2009, 8, 24), datetime.date(2009, 8, 23),\n",
              "       datetime.date(2009, 8, 21), datetime.date(2009, 8, 20),\n",
              "       datetime.date(2009, 8, 13), datetime.date(2009, 8, 12),\n",
              "       datetime.date(2009, 8, 6), datetime.date(2009, 7, 31),\n",
              "       datetime.date(2009, 7, 28), datetime.date(2009, 7, 25),\n",
              "       datetime.date(2009, 7, 24), datetime.date(2009, 7, 23),\n",
              "       datetime.date(2009, 7, 22), datetime.date(2009, 7, 20),\n",
              "       datetime.date(2009, 7, 7), datetime.date(2009, 7, 6),\n",
              "       datetime.date(2009, 6, 10), datetime.date(2009, 6, 3),\n",
              "       datetime.date(2009, 5, 23), datetime.date(2009, 4, 24),\n",
              "       datetime.date(2009, 4, 20), datetime.date(2009, 4, 19),\n",
              "       datetime.date(2009, 4, 16), datetime.date(2009, 4, 14),\n",
              "       datetime.date(2009, 4, 13), datetime.date(2009, 4, 12),\n",
              "       datetime.date(2009, 4, 10), datetime.date(2009, 4, 8),\n",
              "       datetime.date(2009, 4, 7), datetime.date(2009, 4, 6),\n",
              "       datetime.date(2009, 4, 5), datetime.date(2009, 4, 4),\n",
              "       datetime.date(2009, 4, 3), datetime.date(2009, 3, 31),\n",
              "       datetime.date(2009, 3, 29), datetime.date(2009, 3, 25),\n",
              "       datetime.date(2009, 3, 24), datetime.date(2009, 3, 23),\n",
              "       datetime.date(2009, 3, 20), datetime.date(2009, 9, 15),\n",
              "       datetime.date(2009, 9, 14), datetime.date(2009, 9, 10),\n",
              "       datetime.date(2009, 9, 4), datetime.date(2009, 9, 1),\n",
              "       datetime.date(2009, 8, 31), datetime.date(2009, 8, 19),\n",
              "       datetime.date(2009, 8, 18), datetime.date(2009, 8, 5),\n",
              "       datetime.date(2009, 7, 30), datetime.date(2009, 7, 21),\n",
              "       datetime.date(2009, 7, 15), datetime.date(2009, 7, 13),\n",
              "       datetime.date(2009, 7, 3), datetime.date(2009, 6, 29),\n",
              "       datetime.date(2009, 6, 23), datetime.date(2009, 5, 26),\n",
              "       datetime.date(2009, 5, 14), datetime.date(2009, 5, 12),\n",
              "       datetime.date(2009, 5, 2), datetime.date(2009, 4, 11),\n",
              "       datetime.date(2009, 4, 9), datetime.date(2009, 3, 26),\n",
              "       datetime.date(2009, 3, 18), datetime.date(2009, 3, 16),\n",
              "       datetime.date(2009, 3, 14), datetime.date(2009, 3, 13),\n",
              "       datetime.date(2009, 3, 6), datetime.date(2009, 2, 23),\n",
              "       datetime.date(2009, 2, 18), datetime.date(2009, 2, 17),\n",
              "       datetime.date(2009, 2, 4), datetime.date(2009, 9, 17),\n",
              "       datetime.date(2009, 9, 13), datetime.date(2009, 6, 4),\n",
              "       datetime.date(2009, 8, 9), datetime.date(2009, 7, 14),\n",
              "       datetime.date(2009, 5, 5), datetime.date(2009, 6, 2),\n",
              "       datetime.date(2009, 8, 22), datetime.date(2009, 7, 12),\n",
              "       datetime.date(2009, 7, 4), datetime.date(2009, 7, 26),\n",
              "       datetime.date(2009, 5, 25), datetime.date(2009, 5, 18),\n",
              "       datetime.date(2009, 6, 25), datetime.date(2009, 8, 11),\n",
              "       datetime.date(2009, 5, 10), datetime.date(2009, 3, 22),\n",
              "       datetime.date(2009, 8, 3), datetime.date(2009, 5, 8),\n",
              "       datetime.date(2009, 6, 1), datetime.date(2009, 3, 27),\n",
              "       datetime.date(2009, 8, 16), datetime.date(2009, 6, 14),\n",
              "       datetime.date(2009, 5, 30), datetime.date(2009, 5, 15),\n",
              "       datetime.date(2009, 5, 11), datetime.date(2009, 7, 27),\n",
              "       datetime.date(2009, 5, 6), datetime.date(2009, 5, 4),\n",
              "       datetime.date(2009, 4, 23), datetime.date(2009, 7, 29),\n",
              "       datetime.date(2009, 7, 16), datetime.date(2009, 7, 11),\n",
              "       datetime.date(2009, 7, 1), datetime.date(2009, 6, 27),\n",
              "       datetime.date(2009, 6, 15), datetime.date(2009, 5, 31),\n",
              "       datetime.date(2009, 5, 29), datetime.date(2009, 5, 28),\n",
              "       datetime.date(2009, 5, 16), datetime.date(2009, 4, 26),\n",
              "       datetime.date(2009, 6, 24), datetime.date(2009, 6, 22),\n",
              "       datetime.date(2009, 6, 20), datetime.date(2009, 6, 16),\n",
              "       datetime.date(2009, 6, 12), datetime.date(2009, 6, 9),\n",
              "       datetime.date(2009, 6, 8), datetime.date(2009, 6, 5),\n",
              "       datetime.date(2009, 5, 27), datetime.date(2009, 5, 20),\n",
              "       datetime.date(2009, 5, 13), datetime.date(2009, 5, 9),\n",
              "       datetime.date(2009, 5, 7), datetime.date(2009, 5, 1),\n",
              "       datetime.date(2009, 4, 28), datetime.date(2009, 3, 8),\n",
              "       datetime.date(2009, 3, 5), datetime.date(2009, 8, 4),\n",
              "       datetime.date(2009, 6, 28), datetime.date(2009, 7, 2),\n",
              "       datetime.date(2009, 3, 30), datetime.date(2009, 3, 28),\n",
              "       datetime.date(2009, 3, 19), datetime.date(2009, 5, 17),\n",
              "       datetime.date(2009, 6, 13), datetime.date(2009, 3, 21),\n",
              "       datetime.date(2009, 6, 21), datetime.date(2009, 4, 29),\n",
              "       datetime.date(2009, 4, 1), datetime.date(2009, 5, 3),\n",
              "       datetime.date(2009, 4, 27), datetime.date(2009, 4, 2),\n",
              "       datetime.date(2009, 6, 17), datetime.date(2009, 6, 11),\n",
              "       datetime.date(2009, 6, 7), datetime.date(2009, 6, 18),\n",
              "       datetime.date(2009, 4, 22), datetime.date(2009, 4, 30),\n",
              "       datetime.date(2010, 10, 23)], dtype=object)"
            ]
          },
          "metadata": {},
          "execution_count": 56
        }
      ]
    },
    {
      "cell_type": "code",
      "source": [
        "gowalla_total_checkin_df.longitude.unique()"
      ],
      "metadata": {
        "colab": {
          "base_uri": "https://localhost:8080/"
        },
        "outputId": "cba757b0-69c2-4ba3-8f60-698a22444ef8",
        "id": "yXThxOdYLxMs"
      },
      "execution_count": null,
      "outputs": [
        {
          "output_type": "execute_result",
          "data": {
            "text/plain": [
              "array([-9.77951396e+01, -9.77493954e+01, -9.77633858e+01, ...,\n",
              "       -6.60989588e-01, -5.04577160e-02,  8.78509820e+00])"
            ]
          },
          "metadata": {},
          "execution_count": 57
        }
      ]
    },
    {
      "cell_type": "code",
      "source": [
        "len(gowalla_total_checkin_df.longitude.unique())"
      ],
      "metadata": {
        "colab": {
          "base_uri": "https://localhost:8080/"
        },
        "id": "lJhgpnzaRYKQ",
        "outputId": "0b107245-cc01-4605-f8fd-c355622fd4eb"
      },
      "execution_count": null,
      "outputs": [
        {
          "output_type": "execute_result",
          "data": {
            "text/plain": [
              "1246818"
            ]
          },
          "metadata": {},
          "execution_count": 67
        }
      ]
    },
    {
      "cell_type": "code",
      "source": [
        "gowalla_total_checkin_df.latitude.unique()"
      ],
      "metadata": {
        "colab": {
          "base_uri": "https://localhost:8080/"
        },
        "outputId": "8cc40525-47c3-46a5-94d9-c8a6bb902570",
        "id": "m-Ol9C0eLxMt"
      },
      "execution_count": null,
      "outputs": [
        {
          "output_type": "execute_result",
          "data": {
            "text/plain": [
              "array([30.23590912, 30.26910295, 30.25573099, ..., 51.9172078 ,\n",
              "       51.71210979, 50.02781153])"
            ]
          },
          "metadata": {},
          "execution_count": 58
        }
      ]
    },
    {
      "cell_type": "code",
      "source": [
        "len(gowalla_total_checkin_df.latitude.unique())"
      ],
      "metadata": {
        "colab": {
          "base_uri": "https://localhost:8080/"
        },
        "id": "U5LKEa-wRc1y",
        "outputId": "e3867ced-8ed5-42c9-e8fc-64c9364ead56"
      },
      "execution_count": null,
      "outputs": [
        {
          "output_type": "execute_result",
          "data": {
            "text/plain": [
              "1247095"
            ]
          },
          "metadata": {},
          "execution_count": 68
        }
      ]
    },
    {
      "cell_type": "code",
      "source": [
        "gowalla_total_checkin_df.location_id.value_counts()"
      ],
      "metadata": {
        "colab": {
          "base_uri": "https://localhost:8080/"
        },
        "outputId": "4ee57ba1-667e-43a5-cd7b-25ffce086960",
        "id": "THFcRSzhLxMt"
      },
      "execution_count": null,
      "outputs": [
        {
          "output_type": "execute_result",
          "data": {
            "text/plain": [
              "55033      5811\n",
              "19542      5662\n",
              "9410       4713\n",
              "10259      4083\n",
              "58725      3476\n",
              "           ... \n",
              "1444440       1\n",
              "1550807       1\n",
              "2590535       1\n",
              "1400413       1\n",
              "4555073       1\n",
              "Name: location_id, Length: 1280969, dtype: int64"
            ]
          },
          "metadata": {},
          "execution_count": 59
        }
      ]
    },
    {
      "cell_type": "markdown",
      "source": [
        "Максимум 14730 связей у одного юзера, хотя бы одну связь имеют 196591 юзер"
      ],
      "metadata": {
        "id": "ZVaDW9E_Ryes"
      }
    },
    {
      "cell_type": "code",
      "source": [
        "gowalla_edges_df['1st friend'].value_counts()"
      ],
      "metadata": {
        "colab": {
          "base_uri": "https://localhost:8080/"
        },
        "outputId": "9658c8e4-10ab-4a8a-f89f-3b3d0f711b56",
        "id": "NBPw1IuPLxMt"
      },
      "execution_count": null,
      "outputs": [
        {
          "output_type": "execute_result",
          "data": {
            "text/plain": [
              "307       14730\n",
              "220       10185\n",
              "505        5420\n",
              "1149       3986\n",
              "459        3880\n",
              "          ...  \n",
              "157020        1\n",
              "157021        1\n",
              "157022        1\n",
              "157023        1\n",
              "196590        1\n",
              "Name: 1st friend, Length: 196591, dtype: int64"
            ]
          },
          "metadata": {},
          "execution_count": 60
        }
      ]
    },
    {
      "cell_type": "code",
      "source": [
        "gowalla_edges_df['2nd friend'].value_counts()"
      ],
      "metadata": {
        "colab": {
          "base_uri": "https://localhost:8080/"
        },
        "outputId": "ed48ec77-ec16-4a5f-cdda-9f46acf1d4a6",
        "id": "MdYvmFNPLxMt"
      },
      "execution_count": null,
      "outputs": [
        {
          "output_type": "execute_result",
          "data": {
            "text/plain": [
              "307       14730\n",
              "220       10185\n",
              "505        5420\n",
              "1149       3986\n",
              "459        3880\n",
              "          ...  \n",
              "155011        1\n",
              "84699         1\n",
              "155013        1\n",
              "155014        1\n",
              "196590        1\n",
              "Name: 2nd friend, Length: 196591, dtype: int64"
            ]
          },
          "metadata": {},
          "execution_count": 61
        }
      ]
    }
  ]
}